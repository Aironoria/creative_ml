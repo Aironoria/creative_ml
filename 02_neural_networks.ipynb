{
 "cells": [
  {
   "cell_type": "markdown",
   "metadata": {},
   "source": [
    "# Creative machine learning - Neural networks\n",
    "\n",
    "### Author: Philippe Esling (esling@ircam.fr)\n",
    "\n",
    "In this course we will cover\n",
    "1. A [quick introduction](#intro) on the principles of neural networks\n",
    "2. An implementation for a [single neuron](#neuron) in Numpy and JAX.\n",
    "3. An exercise on [multi-layer perceptron (MLP)](#mlp) through manual derivation.\n",
    "4. An introduction on [using Pytorch](#pytorch) for defining networks\n",
    "5. An exercise on [audio classification](#audio) using an MLP with Pytorch."
   ]
  },
  {
   "cell_type": "markdown",
   "metadata": {},
   "source": [
    "<a id=\"intro\"></a>\n",
    "# Introducing neural networks"
   ]
  },
  {
   "cell_type": "markdown",
   "metadata": {},
   "source": [
    "In this tutorial, we will cover more advanced models known as *neural networks*. The tutorial starts by performing a simple **single neuron** discrimination of two random distributions. We will exhibit the manual implementation using Numpy, and then simplify it with JAX. Then, we will study the typical **XOR problem** by using a more advanced 2-layer **perceptron**. Finally, we generalize the use of neural networks in order to perform classification on a given set of audio files, using the PyTorch library, which will provide simplified implementation."
   ]
  },
  {
   "cell_type": "markdown",
   "metadata": {},
   "source": [
    "We are going to use relatively _low-level_ libraries to perform the first exercises (implementing your own neurons). To observe this idea in simple setups, we are going to use the `numpy` library and also initialize the homemade course library `cml` and style for future plotting and exercise. We also set the random generator to a fixed point with `rng = np.random.RandomState(1)`, to ensure reproducibility"
   ]
  },
  {
   "cell_type": "code",
   "execution_count": 23,
   "metadata": {
    "ExecuteTime": {
     "end_time": "2023-05-12T03:06:41.129772733Z",
     "start_time": "2023-05-12T03:06:40.601694378Z"
    }
   },
   "outputs": [
    {
     "data": {
      "text/html": "<div class=\"bk-root\">\n        <a href=\"https://bokeh.org\" target=\"_blank\" class=\"bk-logo bk-logo-small bk-logo-notebook\"></a>\n        <span id=\"4564\">Loading BokehJS ...</span>\n    </div>\n"
     },
     "metadata": {},
     "output_type": "display_data"
    },
    {
     "data": {
      "application/javascript": "(function(root) {\n  function now() {\n    return new Date();\n  }\n\n  const force = true;\n\n  if (typeof root._bokeh_onload_callbacks === \"undefined\" || force === true) {\n    root._bokeh_onload_callbacks = [];\n    root._bokeh_is_loading = undefined;\n  }\n\nconst JS_MIME_TYPE = 'application/javascript';\n  const HTML_MIME_TYPE = 'text/html';\n  const EXEC_MIME_TYPE = 'application/vnd.bokehjs_exec.v0+json';\n  const CLASS_NAME = 'output_bokeh rendered_html';\n\n  /**\n   * Render data to the DOM node\n   */\n  function render(props, node) {\n    const script = document.createElement(\"script\");\n    node.appendChild(script);\n  }\n\n  /**\n   * Handle when an output is cleared or removed\n   */\n  function handleClearOutput(event, handle) {\n    const cell = handle.cell;\n\n    const id = cell.output_area._bokeh_element_id;\n    const server_id = cell.output_area._bokeh_server_id;\n    // Clean up Bokeh references\n    if (id != null && id in Bokeh.index) {\n      Bokeh.index[id].model.document.clear();\n      delete Bokeh.index[id];\n    }\n\n    if (server_id !== undefined) {\n      // Clean up Bokeh references\n      const cmd_clean = \"from bokeh.io.state import curstate; print(curstate().uuid_to_server['\" + server_id + \"'].get_sessions()[0].document.roots[0]._id)\";\n      cell.notebook.kernel.execute(cmd_clean, {\n        iopub: {\n          output: function(msg) {\n            const id = msg.content.text.trim();\n            if (id in Bokeh.index) {\n              Bokeh.index[id].model.document.clear();\n              delete Bokeh.index[id];\n            }\n          }\n        }\n      });\n      // Destroy server and session\n      const cmd_destroy = \"import bokeh.io.notebook as ion; ion.destroy_server('\" + server_id + \"')\";\n      cell.notebook.kernel.execute(cmd_destroy);\n    }\n  }\n\n  /**\n   * Handle when a new output is added\n   */\n  function handleAddOutput(event, handle) {\n    const output_area = handle.output_area;\n    const output = handle.output;\n\n    // limit handleAddOutput to display_data with EXEC_MIME_TYPE content only\n    if ((output.output_type != \"display_data\") || (!Object.prototype.hasOwnProperty.call(output.data, EXEC_MIME_TYPE))) {\n      return\n    }\n\n    const toinsert = output_area.element.find(\".\" + CLASS_NAME.split(' ')[0]);\n\n    if (output.metadata[EXEC_MIME_TYPE][\"id\"] !== undefined) {\n      toinsert[toinsert.length - 1].firstChild.textContent = output.data[JS_MIME_TYPE];\n      // store reference to embed id on output_area\n      output_area._bokeh_element_id = output.metadata[EXEC_MIME_TYPE][\"id\"];\n    }\n    if (output.metadata[EXEC_MIME_TYPE][\"server_id\"] !== undefined) {\n      const bk_div = document.createElement(\"div\");\n      bk_div.innerHTML = output.data[HTML_MIME_TYPE];\n      const script_attrs = bk_div.children[0].attributes;\n      for (let i = 0; i < script_attrs.length; i++) {\n        toinsert[toinsert.length - 1].firstChild.setAttribute(script_attrs[i].name, script_attrs[i].value);\n        toinsert[toinsert.length - 1].firstChild.textContent = bk_div.children[0].textContent\n      }\n      // store reference to server id on output_area\n      output_area._bokeh_server_id = output.metadata[EXEC_MIME_TYPE][\"server_id\"];\n    }\n  }\n\n  function register_renderer(events, OutputArea) {\n\n    function append_mime(data, metadata, element) {\n      // create a DOM node to render to\n      const toinsert = this.create_output_subarea(\n        metadata,\n        CLASS_NAME,\n        EXEC_MIME_TYPE\n      );\n      this.keyboard_manager.register_events(toinsert);\n      // Render to node\n      const props = {data: data, metadata: metadata[EXEC_MIME_TYPE]};\n      render(props, toinsert[toinsert.length - 1]);\n      element.append(toinsert);\n      return toinsert\n    }\n\n    /* Handle when an output is cleared or removed */\n    events.on('clear_output.CodeCell', handleClearOutput);\n    events.on('delete.Cell', handleClearOutput);\n\n    /* Handle when a new output is added */\n    events.on('output_added.OutputArea', handleAddOutput);\n\n    /**\n     * Register the mime type and append_mime function with output_area\n     */\n    OutputArea.prototype.register_mime_type(EXEC_MIME_TYPE, append_mime, {\n      /* Is output safe? */\n      safe: true,\n      /* Index of renderer in `output_area.display_order` */\n      index: 0\n    });\n  }\n\n  // register the mime type if in Jupyter Notebook environment and previously unregistered\n  if (root.Jupyter !== undefined) {\n    const events = require('base/js/events');\n    const OutputArea = require('notebook/js/outputarea').OutputArea;\n\n    if (OutputArea.prototype.mime_types().indexOf(EXEC_MIME_TYPE) == -1) {\n      register_renderer(events, OutputArea);\n    }\n  }\n  if (typeof (root._bokeh_timeout) === \"undefined\" || force === true) {\n    root._bokeh_timeout = Date.now() + 5000;\n    root._bokeh_failed_load = false;\n  }\n\n  const NB_LOAD_WARNING = {'data': {'text/html':\n     \"<div style='background-color: #fdd'>\\n\"+\n     \"<p>\\n\"+\n     \"BokehJS does not appear to have successfully loaded. If loading BokehJS from CDN, this \\n\"+\n     \"may be due to a slow or bad network connection. Possible fixes:\\n\"+\n     \"</p>\\n\"+\n     \"<ul>\\n\"+\n     \"<li>re-rerun `output_notebook()` to attempt to load from CDN again, or</li>\\n\"+\n     \"<li>use INLINE resources instead, as so:</li>\\n\"+\n     \"</ul>\\n\"+\n     \"<code>\\n\"+\n     \"from bokeh.resources import INLINE\\n\"+\n     \"output_notebook(resources=INLINE)\\n\"+\n     \"</code>\\n\"+\n     \"</div>\"}};\n\n  function display_loaded() {\n    const el = document.getElementById(\"4564\");\n    if (el != null) {\n      el.textContent = \"BokehJS is loading...\";\n    }\n    if (root.Bokeh !== undefined) {\n      if (el != null) {\n        el.textContent = \"BokehJS \" + root.Bokeh.version + \" successfully loaded.\";\n      }\n    } else if (Date.now() < root._bokeh_timeout) {\n      setTimeout(display_loaded, 100)\n    }\n  }\n\n  function run_callbacks() {\n    try {\n      root._bokeh_onload_callbacks.forEach(function(callback) {\n        if (callback != null)\n          callback();\n      });\n    } finally {\n      delete root._bokeh_onload_callbacks\n    }\n    console.debug(\"Bokeh: all callbacks have finished\");\n  }\n\n  function load_libs(css_urls, js_urls, callback) {\n    if (css_urls == null) css_urls = [];\n    if (js_urls == null) js_urls = [];\n\n    root._bokeh_onload_callbacks.push(callback);\n    if (root._bokeh_is_loading > 0) {\n      console.debug(\"Bokeh: BokehJS is being loaded, scheduling callback at\", now());\n      return null;\n    }\n    if (js_urls == null || js_urls.length === 0) {\n      run_callbacks();\n      return null;\n    }\n    console.debug(\"Bokeh: BokehJS not loaded, scheduling load and callback at\", now());\n    root._bokeh_is_loading = css_urls.length + js_urls.length;\n\n    function on_load() {\n      root._bokeh_is_loading--;\n      if (root._bokeh_is_loading === 0) {\n        console.debug(\"Bokeh: all BokehJS libraries/stylesheets loaded\");\n        run_callbacks()\n      }\n    }\n\n    function on_error(url) {\n      console.error(\"failed to load \" + url);\n    }\n\n    for (let i = 0; i < css_urls.length; i++) {\n      const url = css_urls[i];\n      const element = document.createElement(\"link\");\n      element.onload = on_load;\n      element.onerror = on_error.bind(null, url);\n      element.rel = \"stylesheet\";\n      element.type = \"text/css\";\n      element.href = url;\n      console.debug(\"Bokeh: injecting link tag for BokehJS stylesheet: \", url);\n      document.body.appendChild(element);\n    }\n\n    for (let i = 0; i < js_urls.length; i++) {\n      const url = js_urls[i];\n      const element = document.createElement('script');\n      element.onload = on_load;\n      element.onerror = on_error.bind(null, url);\n      element.async = false;\n      element.src = url;\n      console.debug(\"Bokeh: injecting script tag for BokehJS library: \", url);\n      document.head.appendChild(element);\n    }\n  };\n\n  function inject_raw_css(css) {\n    const element = document.createElement(\"style\");\n    element.appendChild(document.createTextNode(css));\n    document.body.appendChild(element);\n  }\n\n  const js_urls = [\"https://cdnjs.cloudflare.com/ajax/libs/ace/1.4.11/ace.js\", \"https://cdnjs.cloudflare.com/ajax/libs/ace/1.4.11/ext-language_tools.js\", \"https://cdnjs.cloudflare.com/ajax/libs/ace/1.4.11/ext-modelist.js\", \"https://cdn.bokeh.org/bokeh/release/bokeh-2.4.3.min.js\", \"https://cdn.bokeh.org/bokeh/release/bokeh-gl-2.4.3.min.js\", \"https://cdn.bokeh.org/bokeh/release/bokeh-widgets-2.4.3.min.js\", \"https://cdn.bokeh.org/bokeh/release/bokeh-tables-2.4.3.min.js\", \"https://cdn.bokeh.org/bokeh/release/bokeh-mathjax-2.4.3.min.js\", \"https://unpkg.com/@holoviz/panel@0.14.4/dist/panel.min.js\"];\n  const css_urls = [];\n\n  const inline_js = [    function(Bokeh) {\n      Bokeh.set_log_level(\"info\");\n    },\nfunction(Bokeh) {\n    }\n  ];\n\n  function run_inline_js() {\n    if (root.Bokeh !== undefined || force === true) {\n          for (let i = 0; i < inline_js.length; i++) {\n      inline_js[i].call(root, root.Bokeh);\n    }\nif (force === true) {\n        display_loaded();\n      }} else if (Date.now() < root._bokeh_timeout) {\n      setTimeout(run_inline_js, 100);\n    } else if (!root._bokeh_failed_load) {\n      console.log(\"Bokeh: BokehJS failed to load within specified timeout.\");\n      root._bokeh_failed_load = true;\n    } else if (force !== true) {\n      const cell = $(document.getElementById(\"4564\")).parents('.cell').data().cell;\n      cell.output_area.append_execute_result(NB_LOAD_WARNING)\n    }\n  }\n\n  if (root._bokeh_is_loading === 0) {\n    console.debug(\"Bokeh: BokehJS loaded, going straight to plotting\");\n    run_inline_js();\n  } else {\n    load_libs(css_urls, js_urls, function() {\n      console.debug(\"Bokeh: BokehJS plotting callback run at\", now());\n      run_inline_js();\n    });\n  }\n}(window));",
      "application/vnd.bokehjs_load.v0+json": "(function(root) {\n  function now() {\n    return new Date();\n  }\n\n  const force = true;\n\n  if (typeof root._bokeh_onload_callbacks === \"undefined\" || force === true) {\n    root._bokeh_onload_callbacks = [];\n    root._bokeh_is_loading = undefined;\n  }\n\n\n  if (typeof (root._bokeh_timeout) === \"undefined\" || force === true) {\n    root._bokeh_timeout = Date.now() + 5000;\n    root._bokeh_failed_load = false;\n  }\n\n  const NB_LOAD_WARNING = {'data': {'text/html':\n     \"<div style='background-color: #fdd'>\\n\"+\n     \"<p>\\n\"+\n     \"BokehJS does not appear to have successfully loaded. If loading BokehJS from CDN, this \\n\"+\n     \"may be due to a slow or bad network connection. Possible fixes:\\n\"+\n     \"</p>\\n\"+\n     \"<ul>\\n\"+\n     \"<li>re-rerun `output_notebook()` to attempt to load from CDN again, or</li>\\n\"+\n     \"<li>use INLINE resources instead, as so:</li>\\n\"+\n     \"</ul>\\n\"+\n     \"<code>\\n\"+\n     \"from bokeh.resources import INLINE\\n\"+\n     \"output_notebook(resources=INLINE)\\n\"+\n     \"</code>\\n\"+\n     \"</div>\"}};\n\n  function display_loaded() {\n    const el = document.getElementById(\"4564\");\n    if (el != null) {\n      el.textContent = \"BokehJS is loading...\";\n    }\n    if (root.Bokeh !== undefined) {\n      if (el != null) {\n        el.textContent = \"BokehJS \" + root.Bokeh.version + \" successfully loaded.\";\n      }\n    } else if (Date.now() < root._bokeh_timeout) {\n      setTimeout(display_loaded, 100)\n    }\n  }\n\n  function run_callbacks() {\n    try {\n      root._bokeh_onload_callbacks.forEach(function(callback) {\n        if (callback != null)\n          callback();\n      });\n    } finally {\n      delete root._bokeh_onload_callbacks\n    }\n    console.debug(\"Bokeh: all callbacks have finished\");\n  }\n\n  function load_libs(css_urls, js_urls, callback) {\n    if (css_urls == null) css_urls = [];\n    if (js_urls == null) js_urls = [];\n\n    root._bokeh_onload_callbacks.push(callback);\n    if (root._bokeh_is_loading > 0) {\n      console.debug(\"Bokeh: BokehJS is being loaded, scheduling callback at\", now());\n      return null;\n    }\n    if (js_urls == null || js_urls.length === 0) {\n      run_callbacks();\n      return null;\n    }\n    console.debug(\"Bokeh: BokehJS not loaded, scheduling load and callback at\", now());\n    root._bokeh_is_loading = css_urls.length + js_urls.length;\n\n    function on_load() {\n      root._bokeh_is_loading--;\n      if (root._bokeh_is_loading === 0) {\n        console.debug(\"Bokeh: all BokehJS libraries/stylesheets loaded\");\n        run_callbacks()\n      }\n    }\n\n    function on_error(url) {\n      console.error(\"failed to load \" + url);\n    }\n\n    for (let i = 0; i < css_urls.length; i++) {\n      const url = css_urls[i];\n      const element = document.createElement(\"link\");\n      element.onload = on_load;\n      element.onerror = on_error.bind(null, url);\n      element.rel = \"stylesheet\";\n      element.type = \"text/css\";\n      element.href = url;\n      console.debug(\"Bokeh: injecting link tag for BokehJS stylesheet: \", url);\n      document.body.appendChild(element);\n    }\n\n    for (let i = 0; i < js_urls.length; i++) {\n      const url = js_urls[i];\n      const element = document.createElement('script');\n      element.onload = on_load;\n      element.onerror = on_error.bind(null, url);\n      element.async = false;\n      element.src = url;\n      console.debug(\"Bokeh: injecting script tag for BokehJS library: \", url);\n      document.head.appendChild(element);\n    }\n  };\n\n  function inject_raw_css(css) {\n    const element = document.createElement(\"style\");\n    element.appendChild(document.createTextNode(css));\n    document.body.appendChild(element);\n  }\n\n  const js_urls = [\"https://cdnjs.cloudflare.com/ajax/libs/ace/1.4.11/ace.js\", \"https://cdnjs.cloudflare.com/ajax/libs/ace/1.4.11/ext-language_tools.js\", \"https://cdnjs.cloudflare.com/ajax/libs/ace/1.4.11/ext-modelist.js\", \"https://cdn.bokeh.org/bokeh/release/bokeh-2.4.3.min.js\", \"https://cdn.bokeh.org/bokeh/release/bokeh-gl-2.4.3.min.js\", \"https://cdn.bokeh.org/bokeh/release/bokeh-widgets-2.4.3.min.js\", \"https://cdn.bokeh.org/bokeh/release/bokeh-tables-2.4.3.min.js\", \"https://cdn.bokeh.org/bokeh/release/bokeh-mathjax-2.4.3.min.js\", \"https://unpkg.com/@holoviz/panel@0.14.4/dist/panel.min.js\"];\n  const css_urls = [];\n\n  const inline_js = [    function(Bokeh) {\n      Bokeh.set_log_level(\"info\");\n    },\nfunction(Bokeh) {\n    }\n  ];\n\n  function run_inline_js() {\n    if (root.Bokeh !== undefined || force === true) {\n          for (let i = 0; i < inline_js.length; i++) {\n      inline_js[i].call(root, root.Bokeh);\n    }\nif (force === true) {\n        display_loaded();\n      }} else if (Date.now() < root._bokeh_timeout) {\n      setTimeout(run_inline_js, 100);\n    } else if (!root._bokeh_failed_load) {\n      console.log(\"Bokeh: BokehJS failed to load within specified timeout.\");\n      root._bokeh_failed_load = true;\n    } else if (force !== true) {\n      const cell = $(document.getElementById(\"4564\")).parents('.cell').data().cell;\n      cell.output_area.append_execute_result(NB_LOAD_WARNING)\n    }\n  }\n\n  if (root._bokeh_is_loading === 0) {\n    console.debug(\"Bokeh: BokehJS loaded, going straight to plotting\");\n    run_inline_js();\n  } else {\n    load_libs(css_urls, js_urls, function() {\n      console.debug(\"Bokeh: BokehJS plotting callback run at\", now());\n      run_inline_js();\n    });\n  }\n}(window));"
     },
     "metadata": {},
     "output_type": "display_data"
    },
    {
     "name": "stderr",
     "output_type": "stream",
     "text": [
      "WARNING:param.panel_extension: A HoloViz extension was loaded previously. This means the extension is already initialized and custom css_files resources could not be loaded. If you are loading custom extensions with pn.extension(...) ensure that this is calledbefore any other HoloViz extension such as hvPlot or HoloViews.\n"
     ]
    },
    {
     "data": {
      "application/javascript": "(function(root) {\n  function now() {\n    return new Date();\n  }\n\n  var force = true;\n\n  if (typeof root._bokeh_onload_callbacks === \"undefined\" || force === true) {\n    root._bokeh_onload_callbacks = [];\n    root._bokeh_is_loading = undefined;\n  }\n\n  if (typeof (root._bokeh_timeout) === \"undefined\" || force === true) {\n    root._bokeh_timeout = Date.now() + 5000;\n    root._bokeh_failed_load = false;\n  }\n\n  function run_callbacks() {\n    try {\n      root._bokeh_onload_callbacks.forEach(function(callback) {\n        if (callback != null)\n          callback();\n      });\n    } finally {\n      delete root._bokeh_onload_callbacks\n    }\n    console.debug(\"Bokeh: all callbacks have finished\");\n  }\n\n  function load_libs(css_urls, js_urls, js_modules, callback) {\n    if (css_urls == null) css_urls = [];\n    if (js_urls == null) js_urls = [];\n    if (js_modules == null) js_modules = [];\n\n    root._bokeh_onload_callbacks.push(callback);\n    if (root._bokeh_is_loading > 0) {\n      console.debug(\"Bokeh: BokehJS is being loaded, scheduling callback at\", now());\n      return null;\n    }\n    if (js_urls.length === 0 && js_modules.length === 0) {\n      run_callbacks();\n      return null;\n    }\n    console.debug(\"Bokeh: BokehJS not loaded, scheduling load and callback at\", now());\n\n    function on_load() {\n      root._bokeh_is_loading--;\n      if (root._bokeh_is_loading === 0) {\n        console.debug(\"Bokeh: all BokehJS libraries/stylesheets loaded\");\n        run_callbacks()\n      }\n    }\n\n    function on_error() {\n      console.error(\"failed to load \" + url);\n    }\n\n    for (var i = 0; i < css_urls.length; i++) {\n      var url = css_urls[i];\n      const element = document.createElement(\"link\");\n      element.onload = on_load;\n      element.onerror = on_error;\n      element.rel = \"stylesheet\";\n      element.type = \"text/css\";\n      element.href = url;\n      console.debug(\"Bokeh: injecting link tag for BokehJS stylesheet: \", url);\n      document.body.appendChild(element);\n    }\n\n    var skip = [];\n    if (window.requirejs) {\n      window.requirejs.config({'packages': {}, 'paths': {'ace': '//cdnjs.cloudflare.com/ajax/libs/ace/1.4.7', 'gridstack': 'https://cdn.jsdelivr.net/npm/gridstack@4.2.5/dist/gridstack-h5', 'notyf': 'https://cdn.jsdelivr.net/npm/notyf@3/notyf.min'}, 'shim': {'ace/ext-language_tools': {'deps': ['ace/ace']}, 'ace/ext-modelist': {'deps': ['ace/ace']}, 'gridstack': {'exports': 'GridStack'}}});\n      require([\"ace/ace\"], function(ace) {\n\twindow.ace = ace\n\ton_load()\n      })\n      require([\"ace/ext-language_tools\"], function() {\n\ton_load()\n      })\n      require([\"ace/ext-modelist\"], function() {\n\ton_load()\n      })\n      require([\"gridstack\"], function(GridStack) {\n\twindow.GridStack = GridStack\n\ton_load()\n      })\n      require([\"notyf\"], function() {\n\ton_load()\n      })\n      root._bokeh_is_loading = css_urls.length + 5;\n    } else {\n      root._bokeh_is_loading = css_urls.length + js_urls.length + js_modules.length;\n    }    if (((window['ace'] !== undefined) && (!(window['ace'] instanceof HTMLElement))) || window.requirejs) {\n      var urls = ['https://cdnjs.cloudflare.com/ajax/libs/ace/1.4.11/ace.js', 'https://cdnjs.cloudflare.com/ajax/libs/ace/1.4.11/ext-language_tools.js', 'https://cdnjs.cloudflare.com/ajax/libs/ace/1.4.11/ext-modelist.js'];\n      for (var i = 0; i < urls.length; i++) {\n        skip.push(urls[i])\n      }\n    }    if (((window['GridStack'] !== undefined) && (!(window['GridStack'] instanceof HTMLElement))) || window.requirejs) {\n      var urls = ['https://cdn.holoviz.org/panel/0.14.4/dist/bundled/gridstack/gridstack@4.2.5/dist/gridstack-h5.js'];\n      for (var i = 0; i < urls.length; i++) {\n        skip.push(urls[i])\n      }\n    }    if (((window['Notyf'] !== undefined) && (!(window['Notyf'] instanceof HTMLElement))) || window.requirejs) {\n      var urls = ['https://cdn.holoviz.org/panel/0.14.4/dist/bundled/notificationarea/notyf@3/notyf.min.js'];\n      for (var i = 0; i < urls.length; i++) {\n        skip.push(urls[i])\n      }\n    }    for (var i = 0; i < js_urls.length; i++) {\n      var url = js_urls[i];\n      if (skip.indexOf(url) >= 0) {\n\tif (!window.requirejs) {\n\t  on_load();\n\t}\n\tcontinue;\n      }\n      var element = document.createElement('script');\n      element.onload = on_load;\n      element.onerror = on_error;\n      element.async = false;\n      element.src = url;\n      console.debug(\"Bokeh: injecting script tag for BokehJS library: \", url);\n      document.head.appendChild(element);\n    }\n    for (var i = 0; i < js_modules.length; i++) {\n      var url = js_modules[i];\n      if (skip.indexOf(url) >= 0) {\n\tif (!window.requirejs) {\n\t  on_load();\n\t}\n\tcontinue;\n      }\n      var element = document.createElement('script');\n      element.onload = on_load;\n      element.onerror = on_error;\n      element.async = false;\n      element.src = url;\n      element.type = \"module\";\n      console.debug(\"Bokeh: injecting script tag for BokehJS library: \", url);\n      document.head.appendChild(element);\n    }\n    if (!js_urls.length && !js_modules.length) {\n      on_load()\n    }\n  };\n\n  function inject_raw_css(css) {\n    const element = document.createElement(\"style\");\n    element.appendChild(document.createTextNode(css));\n    document.body.appendChild(element);\n  }\n\n  var js_urls = [\"https://cdnjs.cloudflare.com/ajax/libs/ace/1.4.11/ace.js\", \"https://cdnjs.cloudflare.com/ajax/libs/ace/1.4.11/ext-language_tools.js\", \"https://cdnjs.cloudflare.com/ajax/libs/ace/1.4.11/ext-modelist.js\", \"https://cdn.bokeh.org/bokeh/release/bokeh-2.4.3.min.js\", \"https://cdn.bokeh.org/bokeh/release/bokeh-gl-2.4.3.min.js\", \"https://cdn.bokeh.org/bokeh/release/bokeh-widgets-2.4.3.min.js\", \"https://cdn.bokeh.org/bokeh/release/bokeh-tables-2.4.3.min.js\", \"https://cdn.bokeh.org/bokeh/release/bokeh-mathjax-2.4.3.min.js\", \"https://unpkg.com/@holoviz/panel@0.14.4/dist/panel.min.js\"];\n  var js_modules = [];\n  var css_urls = [\"https://cdn.holoviz.org/panel/0.14.4/dist/css/markdown.css\", \"https://cdn.holoviz.org/panel/0.14.4/dist/css/loading.css\", \"https://cdn.holoviz.org/panel/0.14.4/dist/css/json.css\", \"https://cdn.holoviz.org/panel/0.14.4/dist/css/alerts.css\", \"https://cdn.holoviz.org/panel/0.14.4/dist/css/dataframe.css\", \"https://cdn.holoviz.org/panel/0.14.4/dist/css/debugger.css\", \"https://cdn.holoviz.org/panel/0.14.4/dist/css/widgets.css\", \"https://cdn.holoviz.org/panel/0.14.4/dist/css/card.css\"];\n  var inline_js = [    function(Bokeh) {\n      inject_raw_css(\"/*\\n ~ CML // Creative Machine Learning ~\\n mml.css : CSS styling information for Panel and Bokeh\\n \\n This file defines the main CSS styling information for the CML course\\n \\n Author               :  Philippe Esling\\n                        <esling@ircam.fr>\\n*/\\n\\nbody {\\n  display: flex;\\n  height: 100vh;\\n  margin: 0px;\\n  overflow-x: hidden;\\n  overflow-y: hidden;\\n}\\n\\n.bk-root .bk, .bk-root .bk:before, .bk-root .bk:after {\\n  font-family: \\\"Josefin Sans\\\";\\n}\\n\\nimg {\\n  max-width: 100%;\\n}\\n\\n#container {\\n  padding:0px;\\n  height:100vh;\\n  width: 100vw;\\n  max-width: 100vw;\\n}\\n\\n#sidebar .mdc-list {\\n  padding-left: 5px;\\n  padding-right: 5px;\\n}\\n\\n.mdc-drawer-app-content {\\n  flex: auto;\\n  position: relative;\\n  overflow: hidden;\\n}\\n\\n.mdc-drawer {\\n  background: #FAFAFA; /* GRAY 50 */\\n}\\n\\n.mdc-drawer-app-content {\\n  margin-left: 0 !important;\\n}\\n\\n.title-bar {\\n  display: contents;\\n  justify-content: center;\\n  align-content: center;\\n  width: 100%;\\n}\\n\\n.mdc-top-app-bar .bk-menu {\\n  color: black\\n}\\n\\n.app-header {\\n  display: contents;\\n  padding-left: 10px;\\n  font-size: 1.25em;\\n}\\n\\nimg.app-logo {\\n  padding-right: 10px;\\n  font-size: 28px;\\n  height: 30px;\\n  max-width: inherit;\\n  padding-top: 12px;\\n  padding-bottom: 6px;\\n}\\n\\n#app-title {\\n  padding-right: 12px;\\n  padding-left: 12px;\\n}\\n\\n.title {\\n  font-family: \\\"Josefin Sans\\\";\\n  color: #fff;\\n  text-decoration: none;\\n  text-decoration-line: none;\\n  text-decoration-style: initial;\\n  text-decoration-color: initial;\\n  font-weight: 400;\\n  font-size: 2em;\\n  line-height: 2em;\\n  white-space: nowrap;\\n}\\n\\n.main-content {\\n  overflow-y: scroll;\\n  overflow-x: auto;\\n}\\n\\n#header {\\n  position: absolute;\\n  z-index: 7;\\n}\\n\\n#header-items {\\n  width: 100%;\\n  margin-left:15px;\\n}\\n\\n.pn-busy-container {\\n  align-items: center;\\n  justify-content: center;\\n  display: flex;\\n}\\n\\n.mdc-drawer__content {\\n  overflow-x: hidden;\\n}\\n.mdc-drawer__content, .main-content {\\n  padding: 12px;\\n}\\n\\n.main-content {\\n  height: calc(100vh - 88px);\\n  max-height: calc(100vh - 88px);\\n  padding-right: 32px;\\n}\\n\\nbutton.mdc-button.mdc-card-button {\\n  color: transparent;\\n  height: 50px;\\n}\\n\\np.bk.mdc-button {\\n  display: none;\\n}\\n\\ndiv.bk.mdc-card {\\n  border-radius: 0px\\n}\\n\\n.mdc-card .bk.card-header {\\n  display: flex;\\n}\\n\\n.bk.mdc-card-title {\\n  font-family: \\\"Josefin Sans\\\";\\n  font-weight: bold;\\n  align-items: center;\\n  display: flex !important;\\n  position: relative !important;\\n}\\n\\n.bk.mdc-card-title:nth-child(2) {\\n  margin-left: -1.4em;\\n}\\n\\n.pn-modal {\\n  overflow-y: scroll;\\n  width: 100%;\\n  display: none;\\n  position: absolute;\\n  top: 0;\\n  left: 0;\\n}\\n\\n.pn-modal-content {\\n  font-family: \\\"Josefin Sans\\\";\\n  background-color: #0e0e0e;\\n  margin: auto;\\n  margin-top: 25px;\\n  margin-bottom: 25px;\\n  padding: 15px 20px 20px 20px;\\n  border: 1px solid #888;\\n  width: 80% !important;\\n}\\n\\n.pn-modal-close {\\n  position: absolute;\\n  right: 25px;\\n  z-index: 100;\\n}\\n\\n.pn-modal-close:hover,\\n.pn-modal-close:focus {\\n  color: #000;\\n  text-decoration: none;\\n  cursor: pointer;\\n}\\n\\n.custom_button_bokeh button.bk.bk-btn.bk-btn-default {\\n    font-size:48pt;\\n    background-color: #05b7ff;\\n    border-color: #05b7ff;\\n}\");\n    },    function(Bokeh) {\n      inject_raw_css(\"\\n    .bk.pn-loading.arc:before {\\n      background-image: url(\\\"data:image/svg+xml;base64,PHN2ZyB4bWxucz0iaHR0cDovL3d3dy53My5vcmcvMjAwMC9zdmciIHN0eWxlPSJtYXJnaW46IGF1dG87IGJhY2tncm91bmQ6IG5vbmU7IGRpc3BsYXk6IGJsb2NrOyBzaGFwZS1yZW5kZXJpbmc6IGF1dG87IiB2aWV3Qm94PSIwIDAgMTAwIDEwMCIgcHJlc2VydmVBc3BlY3RSYXRpbz0ieE1pZFlNaWQiPiAgPGNpcmNsZSBjeD0iNTAiIGN5PSI1MCIgZmlsbD0ibm9uZSIgc3Ryb2tlPSIjYzNjM2MzIiBzdHJva2Utd2lkdGg9IjEwIiByPSIzNSIgc3Ryb2tlLWRhc2hhcnJheT0iMTY0LjkzMzYxNDMxMzQ2NDE1IDU2Ljk3Nzg3MTQzNzgyMTM4Ij4gICAgPGFuaW1hdGVUcmFuc2Zvcm0gYXR0cmlidXRlTmFtZT0idHJhbnNmb3JtIiB0eXBlPSJyb3RhdGUiIHJlcGVhdENvdW50PSJpbmRlZmluaXRlIiBkdXI9IjFzIiB2YWx1ZXM9IjAgNTAgNTA7MzYwIDUwIDUwIiBrZXlUaW1lcz0iMDsxIj48L2FuaW1hdGVUcmFuc2Zvcm0+ICA8L2NpcmNsZT48L3N2Zz4=\\\");\\n      background-size: auto calc(min(50%, 400px));\\n    }\\n    \");\n    },    function(Bokeh) {\n      Bokeh.set_log_level(\"info\");\n    },\nfunction(Bokeh) {} // ensure no trailing comma for IE\n  ];\n\n  function run_inline_js() {\n    if ((root.Bokeh !== undefined) || (force === true)) {\n      for (var i = 0; i < inline_js.length; i++) {\n        inline_js[i].call(root, root.Bokeh);\n      }} else if (Date.now() < root._bokeh_timeout) {\n      setTimeout(run_inline_js, 100);\n    } else if (!root._bokeh_failed_load) {\n      console.log(\"Bokeh: BokehJS failed to load within specified timeout.\");\n      root._bokeh_failed_load = true;\n    }\n  }\n\n  if (root._bokeh_is_loading === 0) {\n    console.debug(\"Bokeh: BokehJS loaded, going straight to plotting\");\n    run_inline_js();\n  } else {\n    load_libs(css_urls, js_urls, js_modules, function() {\n      console.debug(\"Bokeh: BokehJS plotting callback run at\", now());\n      run_inline_js();\n    });\n  }\n}(window));",
      "application/vnd.holoviews_load.v0+json": "(function(root) {\n  function now() {\n    return new Date();\n  }\n\n  var force = true;\n\n  if (typeof root._bokeh_onload_callbacks === \"undefined\" || force === true) {\n    root._bokeh_onload_callbacks = [];\n    root._bokeh_is_loading = undefined;\n  }\n\n  if (typeof (root._bokeh_timeout) === \"undefined\" || force === true) {\n    root._bokeh_timeout = Date.now() + 5000;\n    root._bokeh_failed_load = false;\n  }\n\n  function run_callbacks() {\n    try {\n      root._bokeh_onload_callbacks.forEach(function(callback) {\n        if (callback != null)\n          callback();\n      });\n    } finally {\n      delete root._bokeh_onload_callbacks\n    }\n    console.debug(\"Bokeh: all callbacks have finished\");\n  }\n\n  function load_libs(css_urls, js_urls, js_modules, callback) {\n    if (css_urls == null) css_urls = [];\n    if (js_urls == null) js_urls = [];\n    if (js_modules == null) js_modules = [];\n\n    root._bokeh_onload_callbacks.push(callback);\n    if (root._bokeh_is_loading > 0) {\n      console.debug(\"Bokeh: BokehJS is being loaded, scheduling callback at\", now());\n      return null;\n    }\n    if (js_urls.length === 0 && js_modules.length === 0) {\n      run_callbacks();\n      return null;\n    }\n    console.debug(\"Bokeh: BokehJS not loaded, scheduling load and callback at\", now());\n\n    function on_load() {\n      root._bokeh_is_loading--;\n      if (root._bokeh_is_loading === 0) {\n        console.debug(\"Bokeh: all BokehJS libraries/stylesheets loaded\");\n        run_callbacks()\n      }\n    }\n\n    function on_error() {\n      console.error(\"failed to load \" + url);\n    }\n\n    for (var i = 0; i < css_urls.length; i++) {\n      var url = css_urls[i];\n      const element = document.createElement(\"link\");\n      element.onload = on_load;\n      element.onerror = on_error;\n      element.rel = \"stylesheet\";\n      element.type = \"text/css\";\n      element.href = url;\n      console.debug(\"Bokeh: injecting link tag for BokehJS stylesheet: \", url);\n      document.body.appendChild(element);\n    }\n\n    var skip = [];\n    if (window.requirejs) {\n      window.requirejs.config({'packages': {}, 'paths': {'ace': '//cdnjs.cloudflare.com/ajax/libs/ace/1.4.7', 'gridstack': 'https://cdn.jsdelivr.net/npm/gridstack@4.2.5/dist/gridstack-h5', 'notyf': 'https://cdn.jsdelivr.net/npm/notyf@3/notyf.min'}, 'shim': {'ace/ext-language_tools': {'deps': ['ace/ace']}, 'ace/ext-modelist': {'deps': ['ace/ace']}, 'gridstack': {'exports': 'GridStack'}}});\n      require([\"ace/ace\"], function(ace) {\n\twindow.ace = ace\n\ton_load()\n      })\n      require([\"ace/ext-language_tools\"], function() {\n\ton_load()\n      })\n      require([\"ace/ext-modelist\"], function() {\n\ton_load()\n      })\n      require([\"gridstack\"], function(GridStack) {\n\twindow.GridStack = GridStack\n\ton_load()\n      })\n      require([\"notyf\"], function() {\n\ton_load()\n      })\n      root._bokeh_is_loading = css_urls.length + 5;\n    } else {\n      root._bokeh_is_loading = css_urls.length + js_urls.length + js_modules.length;\n    }    if (((window['ace'] !== undefined) && (!(window['ace'] instanceof HTMLElement))) || window.requirejs) {\n      var urls = ['https://cdnjs.cloudflare.com/ajax/libs/ace/1.4.11/ace.js', 'https://cdnjs.cloudflare.com/ajax/libs/ace/1.4.11/ext-language_tools.js', 'https://cdnjs.cloudflare.com/ajax/libs/ace/1.4.11/ext-modelist.js'];\n      for (var i = 0; i < urls.length; i++) {\n        skip.push(urls[i])\n      }\n    }    if (((window['GridStack'] !== undefined) && (!(window['GridStack'] instanceof HTMLElement))) || window.requirejs) {\n      var urls = ['https://cdn.holoviz.org/panel/0.14.4/dist/bundled/gridstack/gridstack@4.2.5/dist/gridstack-h5.js'];\n      for (var i = 0; i < urls.length; i++) {\n        skip.push(urls[i])\n      }\n    }    if (((window['Notyf'] !== undefined) && (!(window['Notyf'] instanceof HTMLElement))) || window.requirejs) {\n      var urls = ['https://cdn.holoviz.org/panel/0.14.4/dist/bundled/notificationarea/notyf@3/notyf.min.js'];\n      for (var i = 0; i < urls.length; i++) {\n        skip.push(urls[i])\n      }\n    }    for (var i = 0; i < js_urls.length; i++) {\n      var url = js_urls[i];\n      if (skip.indexOf(url) >= 0) {\n\tif (!window.requirejs) {\n\t  on_load();\n\t}\n\tcontinue;\n      }\n      var element = document.createElement('script');\n      element.onload = on_load;\n      element.onerror = on_error;\n      element.async = false;\n      element.src = url;\n      console.debug(\"Bokeh: injecting script tag for BokehJS library: \", url);\n      document.head.appendChild(element);\n    }\n    for (var i = 0; i < js_modules.length; i++) {\n      var url = js_modules[i];\n      if (skip.indexOf(url) >= 0) {\n\tif (!window.requirejs) {\n\t  on_load();\n\t}\n\tcontinue;\n      }\n      var element = document.createElement('script');\n      element.onload = on_load;\n      element.onerror = on_error;\n      element.async = false;\n      element.src = url;\n      element.type = \"module\";\n      console.debug(\"Bokeh: injecting script tag for BokehJS library: \", url);\n      document.head.appendChild(element);\n    }\n    if (!js_urls.length && !js_modules.length) {\n      on_load()\n    }\n  };\n\n  function inject_raw_css(css) {\n    const element = document.createElement(\"style\");\n    element.appendChild(document.createTextNode(css));\n    document.body.appendChild(element);\n  }\n\n  var js_urls = [\"https://cdnjs.cloudflare.com/ajax/libs/ace/1.4.11/ace.js\", \"https://cdnjs.cloudflare.com/ajax/libs/ace/1.4.11/ext-language_tools.js\", \"https://cdnjs.cloudflare.com/ajax/libs/ace/1.4.11/ext-modelist.js\", \"https://cdn.bokeh.org/bokeh/release/bokeh-2.4.3.min.js\", \"https://cdn.bokeh.org/bokeh/release/bokeh-gl-2.4.3.min.js\", \"https://cdn.bokeh.org/bokeh/release/bokeh-widgets-2.4.3.min.js\", \"https://cdn.bokeh.org/bokeh/release/bokeh-tables-2.4.3.min.js\", \"https://cdn.bokeh.org/bokeh/release/bokeh-mathjax-2.4.3.min.js\", \"https://unpkg.com/@holoviz/panel@0.14.4/dist/panel.min.js\"];\n  var js_modules = [];\n  var css_urls = [\"https://cdn.holoviz.org/panel/0.14.4/dist/css/markdown.css\", \"https://cdn.holoviz.org/panel/0.14.4/dist/css/loading.css\", \"https://cdn.holoviz.org/panel/0.14.4/dist/css/json.css\", \"https://cdn.holoviz.org/panel/0.14.4/dist/css/alerts.css\", \"https://cdn.holoviz.org/panel/0.14.4/dist/css/dataframe.css\", \"https://cdn.holoviz.org/panel/0.14.4/dist/css/debugger.css\", \"https://cdn.holoviz.org/panel/0.14.4/dist/css/widgets.css\", \"https://cdn.holoviz.org/panel/0.14.4/dist/css/card.css\"];\n  var inline_js = [    function(Bokeh) {\n      inject_raw_css(\"/*\\n ~ CML // Creative Machine Learning ~\\n mml.css : CSS styling information for Panel and Bokeh\\n \\n This file defines the main CSS styling information for the CML course\\n \\n Author               :  Philippe Esling\\n                        <esling@ircam.fr>\\n*/\\n\\nbody {\\n  display: flex;\\n  height: 100vh;\\n  margin: 0px;\\n  overflow-x: hidden;\\n  overflow-y: hidden;\\n}\\n\\n.bk-root .bk, .bk-root .bk:before, .bk-root .bk:after {\\n  font-family: \\\"Josefin Sans\\\";\\n}\\n\\nimg {\\n  max-width: 100%;\\n}\\n\\n#container {\\n  padding:0px;\\n  height:100vh;\\n  width: 100vw;\\n  max-width: 100vw;\\n}\\n\\n#sidebar .mdc-list {\\n  padding-left: 5px;\\n  padding-right: 5px;\\n}\\n\\n.mdc-drawer-app-content {\\n  flex: auto;\\n  position: relative;\\n  overflow: hidden;\\n}\\n\\n.mdc-drawer {\\n  background: #FAFAFA; /* GRAY 50 */\\n}\\n\\n.mdc-drawer-app-content {\\n  margin-left: 0 !important;\\n}\\n\\n.title-bar {\\n  display: contents;\\n  justify-content: center;\\n  align-content: center;\\n  width: 100%;\\n}\\n\\n.mdc-top-app-bar .bk-menu {\\n  color: black\\n}\\n\\n.app-header {\\n  display: contents;\\n  padding-left: 10px;\\n  font-size: 1.25em;\\n}\\n\\nimg.app-logo {\\n  padding-right: 10px;\\n  font-size: 28px;\\n  height: 30px;\\n  max-width: inherit;\\n  padding-top: 12px;\\n  padding-bottom: 6px;\\n}\\n\\n#app-title {\\n  padding-right: 12px;\\n  padding-left: 12px;\\n}\\n\\n.title {\\n  font-family: \\\"Josefin Sans\\\";\\n  color: #fff;\\n  text-decoration: none;\\n  text-decoration-line: none;\\n  text-decoration-style: initial;\\n  text-decoration-color: initial;\\n  font-weight: 400;\\n  font-size: 2em;\\n  line-height: 2em;\\n  white-space: nowrap;\\n}\\n\\n.main-content {\\n  overflow-y: scroll;\\n  overflow-x: auto;\\n}\\n\\n#header {\\n  position: absolute;\\n  z-index: 7;\\n}\\n\\n#header-items {\\n  width: 100%;\\n  margin-left:15px;\\n}\\n\\n.pn-busy-container {\\n  align-items: center;\\n  justify-content: center;\\n  display: flex;\\n}\\n\\n.mdc-drawer__content {\\n  overflow-x: hidden;\\n}\\n.mdc-drawer__content, .main-content {\\n  padding: 12px;\\n}\\n\\n.main-content {\\n  height: calc(100vh - 88px);\\n  max-height: calc(100vh - 88px);\\n  padding-right: 32px;\\n}\\n\\nbutton.mdc-button.mdc-card-button {\\n  color: transparent;\\n  height: 50px;\\n}\\n\\np.bk.mdc-button {\\n  display: none;\\n}\\n\\ndiv.bk.mdc-card {\\n  border-radius: 0px\\n}\\n\\n.mdc-card .bk.card-header {\\n  display: flex;\\n}\\n\\n.bk.mdc-card-title {\\n  font-family: \\\"Josefin Sans\\\";\\n  font-weight: bold;\\n  align-items: center;\\n  display: flex !important;\\n  position: relative !important;\\n}\\n\\n.bk.mdc-card-title:nth-child(2) {\\n  margin-left: -1.4em;\\n}\\n\\n.pn-modal {\\n  overflow-y: scroll;\\n  width: 100%;\\n  display: none;\\n  position: absolute;\\n  top: 0;\\n  left: 0;\\n}\\n\\n.pn-modal-content {\\n  font-family: \\\"Josefin Sans\\\";\\n  background-color: #0e0e0e;\\n  margin: auto;\\n  margin-top: 25px;\\n  margin-bottom: 25px;\\n  padding: 15px 20px 20px 20px;\\n  border: 1px solid #888;\\n  width: 80% !important;\\n}\\n\\n.pn-modal-close {\\n  position: absolute;\\n  right: 25px;\\n  z-index: 100;\\n}\\n\\n.pn-modal-close:hover,\\n.pn-modal-close:focus {\\n  color: #000;\\n  text-decoration: none;\\n  cursor: pointer;\\n}\\n\\n.custom_button_bokeh button.bk.bk-btn.bk-btn-default {\\n    font-size:48pt;\\n    background-color: #05b7ff;\\n    border-color: #05b7ff;\\n}\");\n    },    function(Bokeh) {\n      inject_raw_css(\"\\n    .bk.pn-loading.arc:before {\\n      background-image: url(\\\"data:image/svg+xml;base64,PHN2ZyB4bWxucz0iaHR0cDovL3d3dy53My5vcmcvMjAwMC9zdmciIHN0eWxlPSJtYXJnaW46IGF1dG87IGJhY2tncm91bmQ6IG5vbmU7IGRpc3BsYXk6IGJsb2NrOyBzaGFwZS1yZW5kZXJpbmc6IGF1dG87IiB2aWV3Qm94PSIwIDAgMTAwIDEwMCIgcHJlc2VydmVBc3BlY3RSYXRpbz0ieE1pZFlNaWQiPiAgPGNpcmNsZSBjeD0iNTAiIGN5PSI1MCIgZmlsbD0ibm9uZSIgc3Ryb2tlPSIjYzNjM2MzIiBzdHJva2Utd2lkdGg9IjEwIiByPSIzNSIgc3Ryb2tlLWRhc2hhcnJheT0iMTY0LjkzMzYxNDMxMzQ2NDE1IDU2Ljk3Nzg3MTQzNzgyMTM4Ij4gICAgPGFuaW1hdGVUcmFuc2Zvcm0gYXR0cmlidXRlTmFtZT0idHJhbnNmb3JtIiB0eXBlPSJyb3RhdGUiIHJlcGVhdENvdW50PSJpbmRlZmluaXRlIiBkdXI9IjFzIiB2YWx1ZXM9IjAgNTAgNTA7MzYwIDUwIDUwIiBrZXlUaW1lcz0iMDsxIj48L2FuaW1hdGVUcmFuc2Zvcm0+ICA8L2NpcmNsZT48L3N2Zz4=\\\");\\n      background-size: auto calc(min(50%, 400px));\\n    }\\n    \");\n    },    function(Bokeh) {\n      Bokeh.set_log_level(\"info\");\n    },\nfunction(Bokeh) {} // ensure no trailing comma for IE\n  ];\n\n  function run_inline_js() {\n    if ((root.Bokeh !== undefined) || (force === true)) {\n      for (var i = 0; i < inline_js.length; i++) {\n        inline_js[i].call(root, root.Bokeh);\n      }} else if (Date.now() < root._bokeh_timeout) {\n      setTimeout(run_inline_js, 100);\n    } else if (!root._bokeh_failed_load) {\n      console.log(\"Bokeh: BokehJS failed to load within specified timeout.\");\n      root._bokeh_failed_load = true;\n    }\n  }\n\n  if (root._bokeh_is_loading === 0) {\n    console.debug(\"Bokeh: BokehJS loaded, going straight to plotting\");\n    run_inline_js();\n  } else {\n    load_libs(css_urls, js_urls, js_modules, function() {\n      console.debug(\"Bokeh: BokehJS plotting callback run at\", now());\n      run_inline_js();\n    });\n  }\n}(window));"
     },
     "metadata": {},
     "output_type": "display_data"
    },
    {
     "data": {
      "application/vnd.holoviews_load.v0+json": "\nif ((window.PyViz === undefined) || (window.PyViz instanceof HTMLElement)) {\n  window.PyViz = {comms: {}, comm_status:{}, kernels:{}, receivers: {}, plot_index: []}\n}\n\n\n    function JupyterCommManager() {\n    }\n\n    JupyterCommManager.prototype.register_target = function(plot_id, comm_id, msg_handler) {\n      if (window.comm_manager || ((window.Jupyter !== undefined) && (Jupyter.notebook.kernel != null))) {\n        var comm_manager = window.comm_manager || Jupyter.notebook.kernel.comm_manager;\n        comm_manager.register_target(comm_id, function(comm) {\n          comm.on_msg(msg_handler);\n        });\n      } else if ((plot_id in window.PyViz.kernels) && (window.PyViz.kernels[plot_id])) {\n        window.PyViz.kernels[plot_id].registerCommTarget(comm_id, function(comm) {\n          comm.onMsg = msg_handler;\n        });\n      } else if (typeof google != 'undefined' && google.colab.kernel != null) {\n        google.colab.kernel.comms.registerTarget(comm_id, (comm) => {\n          var messages = comm.messages[Symbol.asyncIterator]();\n          function processIteratorResult(result) {\n            var message = result.value;\n            console.log(message)\n            var content = {data: message.data, comm_id};\n            var buffers = []\n            for (var buffer of message.buffers || []) {\n              buffers.push(new DataView(buffer))\n            }\n            var metadata = message.metadata || {};\n            var msg = {content, buffers, metadata}\n            msg_handler(msg);\n            return messages.next().then(processIteratorResult);\n          }\n          return messages.next().then(processIteratorResult);\n        })\n      }\n    }\n\n    JupyterCommManager.prototype.get_client_comm = function(plot_id, comm_id, msg_handler) {\n      if (comm_id in window.PyViz.comms) {\n        return window.PyViz.comms[comm_id];\n      } else if (window.comm_manager || ((window.Jupyter !== undefined) && (Jupyter.notebook.kernel != null))) {\n        var comm_manager = window.comm_manager || Jupyter.notebook.kernel.comm_manager;\n        var comm = comm_manager.new_comm(comm_id, {}, {}, {}, comm_id);\n        if (msg_handler) {\n          comm.on_msg(msg_handler);\n        }\n      } else if ((plot_id in window.PyViz.kernels) && (window.PyViz.kernels[plot_id])) {\n        var comm = window.PyViz.kernels[plot_id].connectToComm(comm_id);\n        comm.open();\n        if (msg_handler) {\n          comm.onMsg = msg_handler;\n        }\n      } else if (typeof google != 'undefined' && google.colab.kernel != null) {\n        var comm_promise = google.colab.kernel.comms.open(comm_id)\n        comm_promise.then((comm) => {\n          window.PyViz.comms[comm_id] = comm;\n          if (msg_handler) {\n            var messages = comm.messages[Symbol.asyncIterator]();\n            function processIteratorResult(result) {\n              var message = result.value;\n              var content = {data: message.data};\n              var metadata = message.metadata || {comm_id};\n              var msg = {content, metadata}\n              msg_handler(msg);\n              return messages.next().then(processIteratorResult);\n            }\n            return messages.next().then(processIteratorResult);\n          }\n        }) \n        var sendClosure = (data, metadata, buffers, disposeOnDone) => {\n          return comm_promise.then((comm) => {\n            comm.send(data, metadata, buffers, disposeOnDone);\n          });\n        };\n        var comm = {\n          send: sendClosure\n        };\n      }\n      window.PyViz.comms[comm_id] = comm;\n      return comm;\n    }\n    window.PyViz.comm_manager = new JupyterCommManager();\n    \n\n\nvar JS_MIME_TYPE = 'application/javascript';\nvar HTML_MIME_TYPE = 'text/html';\nvar EXEC_MIME_TYPE = 'application/vnd.holoviews_exec.v0+json';\nvar CLASS_NAME = 'output';\n\n/**\n * Render data to the DOM node\n */\nfunction render(props, node) {\n  var div = document.createElement(\"div\");\n  var script = document.createElement(\"script\");\n  node.appendChild(div);\n  node.appendChild(script);\n}\n\n/**\n * Handle when a new output is added\n */\nfunction handle_add_output(event, handle) {\n  var output_area = handle.output_area;\n  var output = handle.output;\n  if ((output.data == undefined) || (!output.data.hasOwnProperty(EXEC_MIME_TYPE))) {\n    return\n  }\n  var id = output.metadata[EXEC_MIME_TYPE][\"id\"];\n  var toinsert = output_area.element.find(\".\" + CLASS_NAME.split(' ')[0]);\n  if (id !== undefined) {\n    var nchildren = toinsert.length;\n    var html_node = toinsert[nchildren-1].children[0];\n    html_node.innerHTML = output.data[HTML_MIME_TYPE];\n    var scripts = [];\n    var nodelist = html_node.querySelectorAll(\"script\");\n    for (var i in nodelist) {\n      if (nodelist.hasOwnProperty(i)) {\n        scripts.push(nodelist[i])\n      }\n    }\n\n    scripts.forEach( function (oldScript) {\n      var newScript = document.createElement(\"script\");\n      var attrs = [];\n      var nodemap = oldScript.attributes;\n      for (var j in nodemap) {\n        if (nodemap.hasOwnProperty(j)) {\n          attrs.push(nodemap[j])\n        }\n      }\n      attrs.forEach(function(attr) { newScript.setAttribute(attr.name, attr.value) });\n      newScript.appendChild(document.createTextNode(oldScript.innerHTML));\n      oldScript.parentNode.replaceChild(newScript, oldScript);\n    });\n    if (JS_MIME_TYPE in output.data) {\n      toinsert[nchildren-1].children[1].textContent = output.data[JS_MIME_TYPE];\n    }\n    output_area._hv_plot_id = id;\n    if ((window.Bokeh !== undefined) && (id in Bokeh.index)) {\n      window.PyViz.plot_index[id] = Bokeh.index[id];\n    } else {\n      window.PyViz.plot_index[id] = null;\n    }\n  } else if (output.metadata[EXEC_MIME_TYPE][\"server_id\"] !== undefined) {\n    var bk_div = document.createElement(\"div\");\n    bk_div.innerHTML = output.data[HTML_MIME_TYPE];\n    var script_attrs = bk_div.children[0].attributes;\n    for (var i = 0; i < script_attrs.length; i++) {\n      toinsert[toinsert.length - 1].childNodes[1].setAttribute(script_attrs[i].name, script_attrs[i].value);\n    }\n    // store reference to server id on output_area\n    output_area._bokeh_server_id = output.metadata[EXEC_MIME_TYPE][\"server_id\"];\n  }\n}\n\n/**\n * Handle when an output is cleared or removed\n */\nfunction handle_clear_output(event, handle) {\n  var id = handle.cell.output_area._hv_plot_id;\n  var server_id = handle.cell.output_area._bokeh_server_id;\n  if (((id === undefined) || !(id in PyViz.plot_index)) && (server_id !== undefined)) { return; }\n  var comm = window.PyViz.comm_manager.get_client_comm(\"hv-extension-comm\", \"hv-extension-comm\", function () {});\n  if (server_id !== null) {\n    comm.send({event_type: 'server_delete', 'id': server_id});\n    return;\n  } else if (comm !== null) {\n    comm.send({event_type: 'delete', 'id': id});\n  }\n  delete PyViz.plot_index[id];\n  if ((window.Bokeh !== undefined) & (id in window.Bokeh.index)) {\n    var doc = window.Bokeh.index[id].model.document\n    doc.clear();\n    const i = window.Bokeh.documents.indexOf(doc);\n    if (i > -1) {\n      window.Bokeh.documents.splice(i, 1);\n    }\n  }\n}\n\n/**\n * Handle kernel restart event\n */\nfunction handle_kernel_cleanup(event, handle) {\n  delete PyViz.comms[\"hv-extension-comm\"];\n  window.PyViz.plot_index = {}\n}\n\n/**\n * Handle update_display_data messages\n */\nfunction handle_update_output(event, handle) {\n  handle_clear_output(event, {cell: {output_area: handle.output_area}})\n  handle_add_output(event, handle)\n}\n\nfunction register_renderer(events, OutputArea) {\n  function append_mime(data, metadata, element) {\n    // create a DOM node to render to\n    var toinsert = this.create_output_subarea(\n    metadata,\n    CLASS_NAME,\n    EXEC_MIME_TYPE\n    );\n    this.keyboard_manager.register_events(toinsert);\n    // Render to node\n    var props = {data: data, metadata: metadata[EXEC_MIME_TYPE]};\n    render(props, toinsert[0]);\n    element.append(toinsert);\n    return toinsert\n  }\n\n  events.on('output_added.OutputArea', handle_add_output);\n  events.on('output_updated.OutputArea', handle_update_output);\n  events.on('clear_output.CodeCell', handle_clear_output);\n  events.on('delete.Cell', handle_clear_output);\n  events.on('kernel_ready.Kernel', handle_kernel_cleanup);\n\n  OutputArea.prototype.register_mime_type(EXEC_MIME_TYPE, append_mime, {\n    safe: true,\n    index: 0\n  });\n}\n\nif (window.Jupyter !== undefined) {\n  try {\n    var events = require('base/js/events');\n    var OutputArea = require('notebook/js/outputarea').OutputArea;\n    if (OutputArea.prototype.mime_types().indexOf(EXEC_MIME_TYPE) == -1) {\n      register_renderer(events, OutputArea);\n    }\n  } catch(err) {\n  }\n}\n",
      "application/javascript": "\nif ((window.PyViz === undefined) || (window.PyViz instanceof HTMLElement)) {\n  window.PyViz = {comms: {}, comm_status:{}, kernels:{}, receivers: {}, plot_index: []}\n}\n\n\n    function JupyterCommManager() {\n    }\n\n    JupyterCommManager.prototype.register_target = function(plot_id, comm_id, msg_handler) {\n      if (window.comm_manager || ((window.Jupyter !== undefined) && (Jupyter.notebook.kernel != null))) {\n        var comm_manager = window.comm_manager || Jupyter.notebook.kernel.comm_manager;\n        comm_manager.register_target(comm_id, function(comm) {\n          comm.on_msg(msg_handler);\n        });\n      } else if ((plot_id in window.PyViz.kernels) && (window.PyViz.kernels[plot_id])) {\n        window.PyViz.kernels[plot_id].registerCommTarget(comm_id, function(comm) {\n          comm.onMsg = msg_handler;\n        });\n      } else if (typeof google != 'undefined' && google.colab.kernel != null) {\n        google.colab.kernel.comms.registerTarget(comm_id, (comm) => {\n          var messages = comm.messages[Symbol.asyncIterator]();\n          function processIteratorResult(result) {\n            var message = result.value;\n            console.log(message)\n            var content = {data: message.data, comm_id};\n            var buffers = []\n            for (var buffer of message.buffers || []) {\n              buffers.push(new DataView(buffer))\n            }\n            var metadata = message.metadata || {};\n            var msg = {content, buffers, metadata}\n            msg_handler(msg);\n            return messages.next().then(processIteratorResult);\n          }\n          return messages.next().then(processIteratorResult);\n        })\n      }\n    }\n\n    JupyterCommManager.prototype.get_client_comm = function(plot_id, comm_id, msg_handler) {\n      if (comm_id in window.PyViz.comms) {\n        return window.PyViz.comms[comm_id];\n      } else if (window.comm_manager || ((window.Jupyter !== undefined) && (Jupyter.notebook.kernel != null))) {\n        var comm_manager = window.comm_manager || Jupyter.notebook.kernel.comm_manager;\n        var comm = comm_manager.new_comm(comm_id, {}, {}, {}, comm_id);\n        if (msg_handler) {\n          comm.on_msg(msg_handler);\n        }\n      } else if ((plot_id in window.PyViz.kernels) && (window.PyViz.kernels[plot_id])) {\n        var comm = window.PyViz.kernels[plot_id].connectToComm(comm_id);\n        comm.open();\n        if (msg_handler) {\n          comm.onMsg = msg_handler;\n        }\n      } else if (typeof google != 'undefined' && google.colab.kernel != null) {\n        var comm_promise = google.colab.kernel.comms.open(comm_id)\n        comm_promise.then((comm) => {\n          window.PyViz.comms[comm_id] = comm;\n          if (msg_handler) {\n            var messages = comm.messages[Symbol.asyncIterator]();\n            function processIteratorResult(result) {\n              var message = result.value;\n              var content = {data: message.data};\n              var metadata = message.metadata || {comm_id};\n              var msg = {content, metadata}\n              msg_handler(msg);\n              return messages.next().then(processIteratorResult);\n            }\n            return messages.next().then(processIteratorResult);\n          }\n        }) \n        var sendClosure = (data, metadata, buffers, disposeOnDone) => {\n          return comm_promise.then((comm) => {\n            comm.send(data, metadata, buffers, disposeOnDone);\n          });\n        };\n        var comm = {\n          send: sendClosure\n        };\n      }\n      window.PyViz.comms[comm_id] = comm;\n      return comm;\n    }\n    window.PyViz.comm_manager = new JupyterCommManager();\n    \n\n\nvar JS_MIME_TYPE = 'application/javascript';\nvar HTML_MIME_TYPE = 'text/html';\nvar EXEC_MIME_TYPE = 'application/vnd.holoviews_exec.v0+json';\nvar CLASS_NAME = 'output';\n\n/**\n * Render data to the DOM node\n */\nfunction render(props, node) {\n  var div = document.createElement(\"div\");\n  var script = document.createElement(\"script\");\n  node.appendChild(div);\n  node.appendChild(script);\n}\n\n/**\n * Handle when a new output is added\n */\nfunction handle_add_output(event, handle) {\n  var output_area = handle.output_area;\n  var output = handle.output;\n  if ((output.data == undefined) || (!output.data.hasOwnProperty(EXEC_MIME_TYPE))) {\n    return\n  }\n  var id = output.metadata[EXEC_MIME_TYPE][\"id\"];\n  var toinsert = output_area.element.find(\".\" + CLASS_NAME.split(' ')[0]);\n  if (id !== undefined) {\n    var nchildren = toinsert.length;\n    var html_node = toinsert[nchildren-1].children[0];\n    html_node.innerHTML = output.data[HTML_MIME_TYPE];\n    var scripts = [];\n    var nodelist = html_node.querySelectorAll(\"script\");\n    for (var i in nodelist) {\n      if (nodelist.hasOwnProperty(i)) {\n        scripts.push(nodelist[i])\n      }\n    }\n\n    scripts.forEach( function (oldScript) {\n      var newScript = document.createElement(\"script\");\n      var attrs = [];\n      var nodemap = oldScript.attributes;\n      for (var j in nodemap) {\n        if (nodemap.hasOwnProperty(j)) {\n          attrs.push(nodemap[j])\n        }\n      }\n      attrs.forEach(function(attr) { newScript.setAttribute(attr.name, attr.value) });\n      newScript.appendChild(document.createTextNode(oldScript.innerHTML));\n      oldScript.parentNode.replaceChild(newScript, oldScript);\n    });\n    if (JS_MIME_TYPE in output.data) {\n      toinsert[nchildren-1].children[1].textContent = output.data[JS_MIME_TYPE];\n    }\n    output_area._hv_plot_id = id;\n    if ((window.Bokeh !== undefined) && (id in Bokeh.index)) {\n      window.PyViz.plot_index[id] = Bokeh.index[id];\n    } else {\n      window.PyViz.plot_index[id] = null;\n    }\n  } else if (output.metadata[EXEC_MIME_TYPE][\"server_id\"] !== undefined) {\n    var bk_div = document.createElement(\"div\");\n    bk_div.innerHTML = output.data[HTML_MIME_TYPE];\n    var script_attrs = bk_div.children[0].attributes;\n    for (var i = 0; i < script_attrs.length; i++) {\n      toinsert[toinsert.length - 1].childNodes[1].setAttribute(script_attrs[i].name, script_attrs[i].value);\n    }\n    // store reference to server id on output_area\n    output_area._bokeh_server_id = output.metadata[EXEC_MIME_TYPE][\"server_id\"];\n  }\n}\n\n/**\n * Handle when an output is cleared or removed\n */\nfunction handle_clear_output(event, handle) {\n  var id = handle.cell.output_area._hv_plot_id;\n  var server_id = handle.cell.output_area._bokeh_server_id;\n  if (((id === undefined) || !(id in PyViz.plot_index)) && (server_id !== undefined)) { return; }\n  var comm = window.PyViz.comm_manager.get_client_comm(\"hv-extension-comm\", \"hv-extension-comm\", function () {});\n  if (server_id !== null) {\n    comm.send({event_type: 'server_delete', 'id': server_id});\n    return;\n  } else if (comm !== null) {\n    comm.send({event_type: 'delete', 'id': id});\n  }\n  delete PyViz.plot_index[id];\n  if ((window.Bokeh !== undefined) & (id in window.Bokeh.index)) {\n    var doc = window.Bokeh.index[id].model.document\n    doc.clear();\n    const i = window.Bokeh.documents.indexOf(doc);\n    if (i > -1) {\n      window.Bokeh.documents.splice(i, 1);\n    }\n  }\n}\n\n/**\n * Handle kernel restart event\n */\nfunction handle_kernel_cleanup(event, handle) {\n  delete PyViz.comms[\"hv-extension-comm\"];\n  window.PyViz.plot_index = {}\n}\n\n/**\n * Handle update_display_data messages\n */\nfunction handle_update_output(event, handle) {\n  handle_clear_output(event, {cell: {output_area: handle.output_area}})\n  handle_add_output(event, handle)\n}\n\nfunction register_renderer(events, OutputArea) {\n  function append_mime(data, metadata, element) {\n    // create a DOM node to render to\n    var toinsert = this.create_output_subarea(\n    metadata,\n    CLASS_NAME,\n    EXEC_MIME_TYPE\n    );\n    this.keyboard_manager.register_events(toinsert);\n    // Render to node\n    var props = {data: data, metadata: metadata[EXEC_MIME_TYPE]};\n    render(props, toinsert[0]);\n    element.append(toinsert);\n    return toinsert\n  }\n\n  events.on('output_added.OutputArea', handle_add_output);\n  events.on('output_updated.OutputArea', handle_update_output);\n  events.on('clear_output.CodeCell', handle_clear_output);\n  events.on('delete.Cell', handle_clear_output);\n  events.on('kernel_ready.Kernel', handle_kernel_cleanup);\n\n  OutputArea.prototype.register_mime_type(EXEC_MIME_TYPE, append_mime, {\n    safe: true,\n    index: 0\n  });\n}\n\nif (window.Jupyter !== undefined) {\n  try {\n    var events = require('base/js/events');\n    var OutputArea = require('notebook/js/outputarea').OutputArea;\n    if (OutputArea.prototype.mime_types().indexOf(EXEC_MIME_TYPE) == -1) {\n      register_renderer(events, OutputArea);\n    }\n  } catch(err) {\n  }\n}\n"
     },
     "metadata": {},
     "output_type": "display_data"
    },
    {
     "data": {
      "text/html": "<style>.bk-root, .bk-root .bk:before, .bk-root .bk:after {\n  font-family: var(--jp-ui-font-size1);\n  font-size: var(--jp-ui-font-size1);\n  color: var(--jp-ui-font-color1);\n}\n</style>"
     },
     "metadata": {},
     "output_type": "display_data"
    }
   ],
   "source": [
    "# Base imports\n",
    "import time\n",
    "import numpy as np\n",
    "import matplotlib.pyplot as plt\n",
    "from cml.plot import initialize_bokeh\n",
    "from cml.panel import initialize_panel\n",
    "from jupyterthemes.stylefx import set_nb_theme\n",
    "from bokeh.io import show\n",
    "initialize_bokeh()\n",
    "initialize_panel()\n",
    "set_nb_theme(\"onedork\")\n",
    "rng = np.random.RandomState(1)"
   ]
  },
  {
   "cell_type": "markdown",
   "metadata": {},
   "source": [
    "As usual, to simplify your work, we provide sets of functions that allows fast problem definition and plotting functionnalities (from our `cml` library).\n",
    "\n",
    "  |**File**|*Explanation*|\n",
    "  |-------:|:---------|\n",
    "  |`scatter_boundary`|Plots the decision boundary of a single neuron with 2-dimensional inputs|\n",
    "  |`scatter_classes`|Plots (bi-dimensionnal) input patterns|"
   ]
  },
  {
   "cell_type": "code",
   "execution_count": 24,
   "metadata": {
    "ExecuteTime": {
     "end_time": "2023-05-12T03:06:41.131697345Z",
     "start_time": "2023-05-12T03:06:40.638340286Z"
    }
   },
   "outputs": [],
   "source": [
    "from cml.plot import scatter_classes, scatter_boundary, center_plot"
   ]
  },
  {
   "cell_type": "markdown",
   "metadata": {},
   "source": [
    "Remember that a single neuron is only able to learn _linearly separable_ problems. To produce such classes of problems, we provide a script that draw a set of random 2-dimensional points, then choose a random line in this space that will act as the linear frontier between 2 classes (hence defining a linear 2-class problem). The variables that will be used by your code are the following.  \n",
    "\n",
    "```Python\n",
    "y_class       # classes of the observqtions \n",
    "x_inputs      # 2 x n final matrix of random input observations\n",
    "weights       # 2 x 1 vector of neuron weights\n",
    "bias          # 1 x 1 vector of bias\n",
    "```\n",
    "\n",
    "You can execute the code below to see our simple classification problem. (Note that running the same cell multiple times produces a different starting dataset). In order to have a well-defined classification problem, we can rely on the `make_blobs` function provided by `scikit-learn` in the `sklearn.datasets` package."
   ]
  },
  {
   "cell_type": "code",
   "execution_count": 25,
   "metadata": {
    "ExecuteTime": {
     "end_time": "2023-05-12T03:06:41.178691204Z",
     "start_time": "2023-05-12T03:06:40.638592849Z"
    }
   },
   "outputs": [
    {
     "data": {},
     "metadata": {},
     "output_type": "display_data"
    },
    {
     "data": {
      "text/html": "<div id='4617'>\n  <div class=\"bk-root\" id=\"3ff18806-ac0e-4532-bf5d-5a8127801b99\" data-root-id=\"4617\"></div>\n</div>\n<script type=\"application/javascript\">(function(root) {\n  function embed_document(root) {\n    var docs_json = {\"024c6fb8-85df-40e0-82e7-9653e60b3d44\":{\"defs\":[{\"extends\":null,\"module\":null,\"name\":\"ReactiveHTML1\",\"overrides\":[],\"properties\":[]},{\"extends\":null,\"module\":null,\"name\":\"FlexBox1\",\"overrides\":[],\"properties\":[{\"default\":\"flex-start\",\"kind\":null,\"name\":\"align_content\"},{\"default\":\"flex-start\",\"kind\":null,\"name\":\"align_items\"},{\"default\":\"row\",\"kind\":null,\"name\":\"flex_direction\"},{\"default\":\"wrap\",\"kind\":null,\"name\":\"flex_wrap\"},{\"default\":\"flex-start\",\"kind\":null,\"name\":\"justify_content\"}]},{\"extends\":null,\"module\":null,\"name\":\"GridStack1\",\"overrides\":[],\"properties\":[{\"default\":\"warn\",\"kind\":null,\"name\":\"mode\"},{\"default\":null,\"kind\":null,\"name\":\"ncols\"},{\"default\":null,\"kind\":null,\"name\":\"nrows\"},{\"default\":true,\"kind\":null,\"name\":\"allow_resize\"},{\"default\":true,\"kind\":null,\"name\":\"allow_drag\"},{\"default\":[],\"kind\":null,\"name\":\"state\"}]},{\"extends\":null,\"module\":null,\"name\":\"click1\",\"overrides\":[],\"properties\":[{\"default\":\"\",\"kind\":null,\"name\":\"terminal_output\"},{\"default\":\"\",\"kind\":null,\"name\":\"debug_name\"},{\"default\":0,\"kind\":null,\"name\":\"clears\"}]},{\"extends\":null,\"module\":null,\"name\":\"NotificationAreaBase1\",\"overrides\":[],\"properties\":[{\"default\":\"bottom-right\",\"kind\":null,\"name\":\"position\"},{\"default\":0,\"kind\":null,\"name\":\"_clear\"}]},{\"extends\":null,\"module\":null,\"name\":\"NotificationArea1\",\"overrides\":[],\"properties\":[{\"default\":[],\"kind\":null,\"name\":\"notifications\"},{\"default\":\"bottom-right\",\"kind\":null,\"name\":\"position\"},{\"default\":0,\"kind\":null,\"name\":\"_clear\"},{\"default\":[{\"background\":\"#ffc107\",\"icon\":{\"className\":\"fas fa-exclamation-triangle\",\"color\":\"white\",\"tagName\":\"i\"},\"type\":\"warning\"},{\"background\":\"#007bff\",\"icon\":{\"className\":\"fas fa-info-circle\",\"color\":\"white\",\"tagName\":\"i\"},\"type\":\"info\"}],\"kind\":null,\"name\":\"types\"}]},{\"extends\":null,\"module\":null,\"name\":\"Notification\",\"overrides\":[],\"properties\":[{\"default\":null,\"kind\":null,\"name\":\"background\"},{\"default\":3000,\"kind\":null,\"name\":\"duration\"},{\"default\":null,\"kind\":null,\"name\":\"icon\"},{\"default\":\"\",\"kind\":null,\"name\":\"message\"},{\"default\":null,\"kind\":null,\"name\":\"notification_type\"},{\"default\":false,\"kind\":null,\"name\":\"_destroyed\"}]},{\"extends\":null,\"module\":null,\"name\":\"TemplateActions1\",\"overrides\":[],\"properties\":[{\"default\":0,\"kind\":null,\"name\":\"open_modal\"},{\"default\":0,\"kind\":null,\"name\":\"close_modal\"}]},{\"extends\":null,\"module\":null,\"name\":\"MaterialTemplateActions1\",\"overrides\":[],\"properties\":[{\"default\":0,\"kind\":null,\"name\":\"open_modal\"},{\"default\":0,\"kind\":null,\"name\":\"close_modal\"}]}],\"roots\":{\"references\":[{\"attributes\":{\"margin\":[5,5,5,5],\"name\":\"HSpacer00167\",\"sizing_mode\":\"stretch_width\"},\"id\":\"4639\",\"type\":\"Spacer\"},{\"attributes\":{},\"id\":\"4612\",\"type\":\"UnionRenderers\"},{\"attributes\":{\"label\":{\"field\":\"label\"},\"renderers\":[{\"id\":\"4603\"}]},\"id\":\"4616\",\"type\":\"LegendItem\"},{\"attributes\":{\"axis_label\":\"y\",\"axis_label_standoff\":10,\"axis_label_text_color\":\"#FFFFFF\",\"axis_label_text_font\":\"Josefin Sans\",\"axis_label_text_font_size\":\"1.9em\",\"axis_label_text_font_style\":\"bold\",\"axis_line_alpha\":0.4,\"axis_line_color\":\"#E0E0E0\",\"coordinates\":null,\"formatter\":{\"id\":\"4607\"},\"group\":null,\"major_label_policy\":{\"id\":\"4608\"},\"major_label_text_color\":\"#E0E0E0\",\"major_label_text_font\":\"Josefin Sans\",\"major_label_text_font_size\":\"1.15em\",\"major_tick_line_alpha\":0.4,\"major_tick_line_color\":\"#E0E0E0\",\"minor_tick_line_alpha\":0.4,\"minor_tick_line_color\":\"#E0E0E0\",\"ticker\":{\"id\":\"4581\"}},\"id\":\"4580\",\"type\":\"LinearAxis\"},{\"attributes\":{\"axis_label\":\"x\",\"axis_label_standoff\":10,\"axis_label_text_color\":\"#FFFFFF\",\"axis_label_text_font\":\"Josefin Sans\",\"axis_label_text_font_size\":\"1.9em\",\"axis_label_text_font_style\":\"bold\",\"axis_line_alpha\":0.4,\"axis_line_color\":\"#E0E0E0\",\"coordinates\":null,\"formatter\":{\"id\":\"4610\"},\"group\":null,\"major_label_policy\":{\"id\":\"4611\"},\"major_label_text_color\":\"#E0E0E0\",\"major_label_text_font\":\"Josefin Sans\",\"major_label_text_font_size\":\"1.15em\",\"major_tick_line_alpha\":0.4,\"major_tick_line_color\":\"#E0E0E0\",\"minor_tick_line_alpha\":0.4,\"minor_tick_line_color\":\"#E0E0E0\",\"ticker\":{\"id\":\"4577\"}},\"id\":\"4576\",\"type\":\"LinearAxis\"},{\"attributes\":{\"data\":{\"color\":[\"firebrick\",\"midnightblue\",\"midnightblue\",\"midnightblue\",\"midnightblue\",\"firebrick\",\"firebrick\",\"midnightblue\",\"firebrick\",\"firebrick\",\"midnightblue\",\"firebrick\",\"firebrick\",\"firebrick\",\"midnightblue\",\"midnightblue\",\"midnightblue\",\"firebrick\",\"midnightblue\",\"firebrick\",\"midnightblue\",\"firebrick\",\"firebrick\",\"midnightblue\",\"midnightblue\",\"firebrick\",\"midnightblue\",\"midnightblue\",\"firebrick\",\"midnightblue\",\"firebrick\",\"midnightblue\",\"firebrick\",\"firebrick\",\"midnightblue\",\"firebrick\",\"firebrick\",\"firebrick\",\"midnightblue\",\"firebrick\",\"firebrick\",\"firebrick\",\"firebrick\",\"firebrick\",\"firebrick\",\"firebrick\",\"midnightblue\",\"firebrick\",\"midnightblue\",\"midnightblue\",\"midnightblue\",\"midnightblue\",\"midnightblue\",\"midnightblue\",\"firebrick\",\"firebrick\",\"midnightblue\",\"firebrick\",\"firebrick\",\"firebrick\",\"midnightblue\",\"midnightblue\",\"midnightblue\",\"midnightblue\",\"midnightblue\",\"midnightblue\",\"firebrick\",\"midnightblue\",\"midnightblue\",\"midnightblue\",\"firebrick\",\"firebrick\",\"firebrick\",\"firebrick\",\"firebrick\",\"midnightblue\",\"midnightblue\",\"firebrick\",\"firebrick\",\"firebrick\",\"midnightblue\",\"firebrick\",\"firebrick\",\"firebrick\",\"midnightblue\",\"firebrick\",\"firebrick\",\"firebrick\",\"midnightblue\",\"midnightblue\",\"firebrick\",\"firebrick\",\"midnightblue\",\"firebrick\",\"midnightblue\",\"firebrick\",\"midnightblue\",\"firebrick\",\"firebrick\",\"midnightblue\",\"midnightblue\",\"midnightblue\",\"midnightblue\",\"firebrick\",\"midnightblue\",\"midnightblue\",\"midnightblue\",\"midnightblue\",\"midnightblue\",\"firebrick\",\"firebrick\",\"firebrick\",\"midnightblue\",\"firebrick\",\"firebrick\",\"firebrick\",\"firebrick\",\"firebrick\",\"midnightblue\",\"midnightblue\",\"midnightblue\",\"midnightblue\",\"midnightblue\",\"midnightblue\",\"midnightblue\",\"firebrick\",\"midnightblue\",\"midnightblue\",\"midnightblue\",\"midnightblue\",\"firebrick\",\"firebrick\",\"midnightblue\",\"firebrick\",\"firebrick\",\"midnightblue\",\"midnightblue\",\"midnightblue\",\"midnightblue\",\"firebrick\",\"midnightblue\",\"firebrick\",\"midnightblue\",\"firebrick\",\"midnightblue\",\"firebrick\",\"midnightblue\",\"midnightblue\",\"firebrick\",\"midnightblue\",\"midnightblue\",\"firebrick\",\"firebrick\",\"firebrick\",\"midnightblue\",\"firebrick\",\"midnightblue\",\"firebrick\",\"firebrick\",\"midnightblue\",\"midnightblue\",\"firebrick\",\"midnightblue\",\"firebrick\",\"midnightblue\",\"firebrick\",\"midnightblue\",\"midnightblue\",\"firebrick\",\"midnightblue\",\"firebrick\",\"firebrick\",\"firebrick\",\"midnightblue\",\"midnightblue\",\"firebrick\",\"firebrick\",\"firebrick\",\"firebrick\",\"midnightblue\",\"firebrick\",\"firebrick\",\"firebrick\",\"firebrick\",\"firebrick\",\"firebrick\",\"midnightblue\",\"midnightblue\",\"firebrick\",\"midnightblue\",\"midnightblue\",\"midnightblue\",\"midnightblue\",\"midnightblue\",\"midnightblue\",\"firebrick\",\"midnightblue\",\"firebrick\",\"firebrick\",\"midnightblue\"],\"label\":[\"class 2\",\"class 1\",\"class 1\",\"class 1\",\"class 1\",\"class 2\",\"class 2\",\"class 1\",\"class 2\",\"class 2\",\"class 1\",\"class 2\",\"class 2\",\"class 2\",\"class 1\",\"class 1\",\"class 1\",\"class 2\",\"class 1\",\"class 2\",\"class 1\",\"class 2\",\"class 2\",\"class 1\",\"class 1\",\"class 2\",\"class 1\",\"class 1\",\"class 2\",\"class 1\",\"class 2\",\"class 1\",\"class 2\",\"class 2\",\"class 1\",\"class 2\",\"class 2\",\"class 2\",\"class 1\",\"class 2\",\"class 2\",\"class 2\",\"class 2\",\"class 2\",\"class 2\",\"class 2\",\"class 1\",\"class 2\",\"class 1\",\"class 1\",\"class 1\",\"class 1\",\"class 1\",\"class 1\",\"class 2\",\"class 2\",\"class 1\",\"class 2\",\"class 2\",\"class 2\",\"class 1\",\"class 1\",\"class 1\",\"class 1\",\"class 1\",\"class 1\",\"class 2\",\"class 1\",\"class 1\",\"class 1\",\"class 2\",\"class 2\",\"class 2\",\"class 2\",\"class 2\",\"class 1\",\"class 1\",\"class 2\",\"class 2\",\"class 2\",\"class 1\",\"class 2\",\"class 2\",\"class 2\",\"class 1\",\"class 2\",\"class 2\",\"class 2\",\"class 1\",\"class 1\",\"class 2\",\"class 2\",\"class 1\",\"class 2\",\"class 1\",\"class 2\",\"class 1\",\"class 2\",\"class 2\",\"class 1\",\"class 1\",\"class 1\",\"class 1\",\"class 2\",\"class 1\",\"class 1\",\"class 1\",\"class 1\",\"class 1\",\"class 2\",\"class 2\",\"class 2\",\"class 1\",\"class 2\",\"class 2\",\"class 2\",\"class 2\",\"class 2\",\"class 1\",\"class 1\",\"class 1\",\"class 1\",\"class 1\",\"class 1\",\"class 1\",\"class 2\",\"class 1\",\"class 1\",\"class 1\",\"class 1\",\"class 2\",\"class 2\",\"class 1\",\"class 2\",\"class 2\",\"class 1\",\"class 1\",\"class 1\",\"class 1\",\"class 2\",\"class 1\",\"class 2\",\"class 1\",\"class 2\",\"class 1\",\"class 2\",\"class 1\",\"class 1\",\"class 2\",\"class 1\",\"class 1\",\"class 2\",\"class 2\",\"class 2\",\"class 1\",\"class 2\",\"class 1\",\"class 2\",\"class 2\",\"class 1\",\"class 1\",\"class 2\",\"class 1\",\"class 2\",\"class 1\",\"class 2\",\"class 1\",\"class 1\",\"class 2\",\"class 1\",\"class 2\",\"class 2\",\"class 2\",\"class 1\",\"class 1\",\"class 2\",\"class 2\",\"class 2\",\"class 2\",\"class 1\",\"class 2\",\"class 2\",\"class 2\",\"class 2\",\"class 2\",\"class 2\",\"class 1\",\"class 1\",\"class 2\",\"class 1\",\"class 1\",\"class 1\",\"class 1\",\"class 1\",\"class 1\",\"class 2\",\"class 1\",\"class 2\",\"class 2\",\"class 1\"],\"x\":{\"__ndarray__\":\"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\",\"dtype\":\"float64\",\"order\":\"little\",\"shape\":[200]},\"y\":{\"__ndarray__\":\"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\",\"dtype\":\"float64\",\"order\":\"little\",\"shape\":[200]}},\"selected\":{\"id\":\"4613\"},\"selection_policy\":{\"id\":\"4612\"}},\"id\":\"4598\",\"type\":\"ColumnDataSource\"},{\"attributes\":{},\"id\":\"4587\",\"type\":\"SaveTool\"},{\"attributes\":{},\"id\":\"4585\",\"type\":\"WheelZoomTool\"},{\"attributes\":{\"coordinates\":null,\"data_source\":{\"id\":\"4598\"},\"glyph\":{\"id\":\"4600\"},\"group\":null,\"hover_glyph\":null,\"muted_glyph\":{\"id\":\"4602\"},\"nonselection_glyph\":{\"id\":\"4601\"},\"view\":{\"id\":\"4604\"}},\"id\":\"4603\",\"type\":\"GlyphRenderer\"},{\"attributes\":{\"background_fill_alpha\":0.9,\"background_fill_color\":\"#0f0f0f\",\"below\":[{\"id\":\"4576\"}],\"border_fill_alpha\":0.8,\"border_fill_color\":\"#111111\",\"center\":[{\"id\":\"4579\"},{\"id\":\"4583\"},{\"id\":\"4615\"}],\"height\":450,\"left\":[{\"id\":\"4580\"}],\"outline_line_alpha\":0.25,\"outline_line_color\":\"#E0E0E0\",\"outline_line_width\":3,\"renderers\":[{\"id\":\"4603\"}],\"right\":[{\"id\":\"4615\"}],\"title\":{\"id\":\"4566\"},\"toolbar\":{\"id\":\"4591\"},\"width\":700,\"x_range\":{\"id\":\"4568\"},\"x_scale\":{\"id\":\"4572\"},\"y_range\":{\"id\":\"4570\"},\"y_scale\":{\"id\":\"4574\"}},\"id\":\"4565\",\"subtype\":\"Figure\",\"type\":\"Plot\"},{\"attributes\":{\"axis\":{\"id\":\"4580\"},\"coordinates\":null,\"dimension\":1,\"grid_line_alpha\":0.15,\"grid_line_color\":\"#E0E0E0\",\"group\":null,\"ticker\":null},\"id\":\"4583\",\"type\":\"Grid\"},{\"attributes\":{\"fill_alpha\":{\"value\":0.6},\"fill_color\":{\"field\":\"color\"},\"hatch_alpha\":{\"value\":0.6},\"hatch_color\":{\"field\":\"color\"},\"line_alpha\":{\"value\":0.6},\"line_color\":{\"value\":\"white\"},\"size\":{\"value\":10},\"x\":{\"field\":\"x\"},\"y\":{\"field\":\"y\"}},\"id\":\"4600\",\"type\":\"Circle\"},{\"attributes\":{},\"id\":\"4584\",\"type\":\"PanTool\"},{\"attributes\":{\"fill_alpha\":{\"value\":0.1},\"fill_color\":{\"field\":\"color\"},\"hatch_alpha\":{\"value\":0.1},\"hatch_color\":{\"field\":\"color\"},\"line_alpha\":{\"value\":0.1},\"line_color\":{\"value\":\"white\"},\"size\":{\"value\":10},\"x\":{\"field\":\"x\"},\"y\":{\"field\":\"y\"}},\"id\":\"4601\",\"type\":\"Circle\"},{\"attributes\":{\"fill_alpha\":{\"value\":0.2},\"fill_color\":{\"field\":\"color\"},\"hatch_alpha\":{\"value\":0.2},\"hatch_color\":{\"field\":\"color\"},\"line_alpha\":{\"value\":0.2},\"line_color\":{\"value\":\"white\"},\"size\":{\"value\":10},\"x\":{\"field\":\"x\"},\"y\":{\"field\":\"y\"}},\"id\":\"4602\",\"type\":\"Circle\"},{\"attributes\":{},\"id\":\"4568\",\"type\":\"DataRange1d\"},{\"attributes\":{\"source\":{\"id\":\"4598\"}},\"id\":\"4604\",\"type\":\"CDSView\"},{\"attributes\":{},\"id\":\"4581\",\"type\":\"BasicTicker\"},{\"attributes\":{},\"id\":\"4613\",\"type\":\"Selection\"},{\"attributes\":{},\"id\":\"4608\",\"type\":\"AllLabels\"},{\"attributes\":{},\"id\":\"4611\",\"type\":\"AllLabels\"},{\"attributes\":{},\"id\":\"4572\",\"type\":\"LinearScale\"},{\"attributes\":{},\"id\":\"4577\",\"type\":\"BasicTicker\"},{\"attributes\":{},\"id\":\"4574\",\"type\":\"LinearScale\"},{\"attributes\":{},\"id\":\"4589\",\"type\":\"HelpTool\"},{\"attributes\":{\"tools\":[{\"id\":\"4584\"},{\"id\":\"4585\"},{\"id\":\"4586\"},{\"id\":\"4587\"},{\"id\":\"4588\"},{\"id\":\"4589\"}]},\"id\":\"4591\",\"type\":\"Toolbar\"},{\"attributes\":{\"background_fill_alpha\":0.2,\"background_fill_color\":\"darkgrey\",\"border_line_alpha\":0.8,\"border_line_color\":\"grey\",\"border_line_width\":3,\"coordinates\":null,\"group\":null,\"items\":[{\"id\":\"4616\"}],\"label_text_color\":\"white\"},\"id\":\"4615\",\"type\":\"Legend\"},{\"attributes\":{\"margin\":[5,5,5,5],\"name\":\"HSpacer00166\",\"sizing_mode\":\"stretch_width\"},\"id\":\"4618\",\"type\":\"Spacer\"},{\"attributes\":{\"bottom_units\":\"screen\",\"coordinates\":null,\"fill_alpha\":0.5,\"fill_color\":\"lightgrey\",\"group\":null,\"left_units\":\"screen\",\"level\":\"overlay\",\"line_alpha\":1.0,\"line_color\":\"black\",\"line_dash\":[4,4],\"line_width\":2,\"right_units\":\"screen\",\"syncable\":false,\"top_units\":\"screen\"},\"id\":\"4590\",\"type\":\"BoxAnnotation\"},{\"attributes\":{\"children\":[{\"id\":\"4618\"},{\"id\":\"4565\"},{\"id\":\"4639\"}],\"margin\":[0,0,0,0],\"name\":\"Row00170\"},\"id\":\"4617\",\"type\":\"Row\"},{\"attributes\":{},\"id\":\"4610\",\"type\":\"BasicTickFormatter\"},{\"attributes\":{\"client_comm_id\":\"fa1de49c9ee24958ab861822f30fde8d\",\"comm_id\":\"708dec581cfe47caa11a2e0907b625a4\",\"plot_id\":\"4617\"},\"id\":\"4670\",\"type\":\"panel.models.comm_manager.CommManager\"},{\"attributes\":{\"axis\":{\"id\":\"4576\"},\"coordinates\":null,\"grid_line_alpha\":0.15,\"grid_line_color\":\"#E0E0E0\",\"group\":null,\"ticker\":null},\"id\":\"4579\",\"type\":\"Grid\"},{\"attributes\":{},\"id\":\"4607\",\"type\":\"BasicTickFormatter\"},{\"attributes\":{\"overlay\":{\"id\":\"4590\"}},\"id\":\"4586\",\"type\":\"BoxZoomTool\"},{\"attributes\":{},\"id\":\"4570\",\"type\":\"DataRange1d\"},{\"attributes\":{},\"id\":\"4588\",\"type\":\"ResetTool\"},{\"attributes\":{\"coordinates\":null,\"group\":null,\"text\":\"Observations\",\"text_color\":\"#E0E0E0\",\"text_font\":\"Josefin Sans\",\"text_font_size\":\"2.1em\"},\"id\":\"4566\",\"type\":\"Title\"}],\"root_ids\":[\"4617\",\"4670\"]},\"title\":\"Bokeh Application\",\"version\":\"2.4.3\"}};\n    var render_items = [{\"docid\":\"024c6fb8-85df-40e0-82e7-9653e60b3d44\",\"root_ids\":[\"4617\"],\"roots\":{\"4617\":\"3ff18806-ac0e-4532-bf5d-5a8127801b99\"}}];\n    root.Bokeh.embed.embed_items_notebook(docs_json, render_items);\n    for (const render_item of render_items) {\n      for (const root_id of render_item.root_ids) {\n\tconst id_el = document.getElementById(root_id)\n\tif (id_el.children.length && (id_el.children[0].className === 'bk-root')) {\n\t  const root_el = id_el.children[0]\n\t  root_el.id = root_el.id + '-rendered'\n\t}\n      }\n    }\n  }\n  if (root.Bokeh !== undefined && root.Bokeh.Panel !== undefined) {\n    embed_document(root);\n  } else {\n    var attempts = 0;\n    var timer = setInterval(function(root) {\n      if (root.Bokeh !== undefined && root.Bokeh.Panel !== undefined) {\n        clearInterval(timer);\n        embed_document(root);\n      } else if (document.readyState == \"complete\") {\n        attempts++;\n        if (attempts > 200) {\n          clearInterval(timer);\n          console.log(\"Bokeh: ERROR: Unable to run BokehJS code because BokehJS library is missing\");\n        }\n      }\n    }, 25, root)\n  }\n})(window);</script>",
      "application/vnd.holoviews_exec.v0+json": "",
      "text/plain": "Row\n    [0] HSpacer()\n    [1] Bokeh(Figure)\n    [2] HSpacer()"
     },
     "execution_count": 25,
     "metadata": {
      "application/vnd.holoviews_exec.v0+json": {
       "id": "4617"
      }
     },
     "output_type": "execute_result"
    }
   ],
   "source": [
    "import numpy as np\n",
    "from sklearn.datasets import make_blobs\n",
    "# Properties of the problem\n",
    "n_observations = 200\n",
    "noise = 0.2\n",
    "c1_center = [-2, -1]\n",
    "c2_center = [2, 1]\n",
    "# Create points\n",
    "x_coords, y_class = make_blobs(n_samples=n_observations, centers=[c1_center, c2_center], n_features=2, cluster_std=0.55)\n",
    "x_inputs = x_coords + (noise * np.random.randn(n_observations, 2))\n",
    "# Plot the corresponding pattern\n",
    "plot = center_plot(scatter_classes(x_inputs, y_class))\n",
    "plot"
   ]
  },
  {
   "cell_type": "markdown",
   "metadata": {},
   "source": [
    "The previous example does not allow us to know the exact values (slope and bias) of our ground truth separation line. Hence, we can define a more complex separation problem (with points laying almost right on the separation fronteer), but with known values for our ground truth."
   ]
  },
  {
   "cell_type": "code",
   "execution_count": 26,
   "metadata": {
    "ExecuteTime": {
     "end_time": "2023-05-12T03:06:41.204933345Z",
     "start_time": "2023-05-12T03:06:40.707487624Z"
    }
   },
   "outputs": [
    {
     "data": {},
     "metadata": {},
     "output_type": "display_data"
    },
    {
     "data": {
      "text/html": "<div id='4773'>\n  <div class=\"bk-root\" id=\"826e7abd-417f-4de9-8932-8e20ec8222c4\" data-root-id=\"4773\"></div>\n</div>\n<script type=\"application/javascript\">(function(root) {\n  function embed_document(root) {\n    var docs_json = {\"04cda00c-ecbb-45f6-96c3-f1b5d92fa120\":{\"defs\":[{\"extends\":null,\"module\":null,\"name\":\"ReactiveHTML1\",\"overrides\":[],\"properties\":[]},{\"extends\":null,\"module\":null,\"name\":\"FlexBox1\",\"overrides\":[],\"properties\":[{\"default\":\"flex-start\",\"kind\":null,\"name\":\"align_content\"},{\"default\":\"flex-start\",\"kind\":null,\"name\":\"align_items\"},{\"default\":\"row\",\"kind\":null,\"name\":\"flex_direction\"},{\"default\":\"wrap\",\"kind\":null,\"name\":\"flex_wrap\"},{\"default\":\"flex-start\",\"kind\":null,\"name\":\"justify_content\"}]},{\"extends\":null,\"module\":null,\"name\":\"GridStack1\",\"overrides\":[],\"properties\":[{\"default\":\"warn\",\"kind\":null,\"name\":\"mode\"},{\"default\":null,\"kind\":null,\"name\":\"ncols\"},{\"default\":null,\"kind\":null,\"name\":\"nrows\"},{\"default\":true,\"kind\":null,\"name\":\"allow_resize\"},{\"default\":true,\"kind\":null,\"name\":\"allow_drag\"},{\"default\":[],\"kind\":null,\"name\":\"state\"}]},{\"extends\":null,\"module\":null,\"name\":\"click1\",\"overrides\":[],\"properties\":[{\"default\":\"\",\"kind\":null,\"name\":\"terminal_output\"},{\"default\":\"\",\"kind\":null,\"name\":\"debug_name\"},{\"default\":0,\"kind\":null,\"name\":\"clears\"}]},{\"extends\":null,\"module\":null,\"name\":\"NotificationAreaBase1\",\"overrides\":[],\"properties\":[{\"default\":\"bottom-right\",\"kind\":null,\"name\":\"position\"},{\"default\":0,\"kind\":null,\"name\":\"_clear\"}]},{\"extends\":null,\"module\":null,\"name\":\"NotificationArea1\",\"overrides\":[],\"properties\":[{\"default\":[],\"kind\":null,\"name\":\"notifications\"},{\"default\":\"bottom-right\",\"kind\":null,\"name\":\"position\"},{\"default\":0,\"kind\":null,\"name\":\"_clear\"},{\"default\":[{\"background\":\"#ffc107\",\"icon\":{\"className\":\"fas fa-exclamation-triangle\",\"color\":\"white\",\"tagName\":\"i\"},\"type\":\"warning\"},{\"background\":\"#007bff\",\"icon\":{\"className\":\"fas fa-info-circle\",\"color\":\"white\",\"tagName\":\"i\"},\"type\":\"info\"}],\"kind\":null,\"name\":\"types\"}]},{\"extends\":null,\"module\":null,\"name\":\"Notification\",\"overrides\":[],\"properties\":[{\"default\":null,\"kind\":null,\"name\":\"background\"},{\"default\":3000,\"kind\":null,\"name\":\"duration\"},{\"default\":null,\"kind\":null,\"name\":\"icon\"},{\"default\":\"\",\"kind\":null,\"name\":\"message\"},{\"default\":null,\"kind\":null,\"name\":\"notification_type\"},{\"default\":false,\"kind\":null,\"name\":\"_destroyed\"}]},{\"extends\":null,\"module\":null,\"name\":\"TemplateActions1\",\"overrides\":[],\"properties\":[{\"default\":0,\"kind\":null,\"name\":\"open_modal\"},{\"default\":0,\"kind\":null,\"name\":\"close_modal\"}]},{\"extends\":null,\"module\":null,\"name\":\"MaterialTemplateActions1\",\"overrides\":[],\"properties\":[{\"default\":0,\"kind\":null,\"name\":\"open_modal\"},{\"default\":0,\"kind\":null,\"name\":\"close_modal\"}]}],\"roots\":{\"references\":[{\"attributes\":{\"margin\":[5,5,5,5],\"name\":\"HSpacer00173\",\"sizing_mode\":\"stretch_width\"},\"id\":\"4774\",\"type\":\"Spacer\"},{\"attributes\":{\"axis_label\":\"x\",\"axis_label_standoff\":10,\"axis_label_text_color\":\"#FFFFFF\",\"axis_label_text_font\":\"Josefin Sans\",\"axis_label_text_font_size\":\"1.9em\",\"axis_label_text_font_style\":\"bold\",\"axis_line_alpha\":0.4,\"axis_line_color\":\"#E0E0E0\",\"coordinates\":null,\"formatter\":{\"id\":\"4766\"},\"group\":null,\"major_label_policy\":{\"id\":\"4767\"},\"major_label_text_color\":\"#E0E0E0\",\"major_label_text_font\":\"Josefin Sans\",\"major_label_text_font_size\":\"1.15em\",\"major_tick_line_alpha\":0.4,\"major_tick_line_color\":\"#E0E0E0\",\"minor_tick_line_alpha\":0.4,\"minor_tick_line_color\":\"#E0E0E0\",\"ticker\":{\"id\":\"4733\"}},\"id\":\"4732\",\"type\":\"LinearAxis\"},{\"attributes\":{\"data\":{\"color\":[\"midnightblue\",\"firebrick\",\"midnightblue\",\"firebrick\",\"midnightblue\",\"midnightblue\",\"midnightblue\",\"firebrick\",\"midnightblue\",\"firebrick\",\"firebrick\",\"firebrick\",\"firebrick\",\"firebrick\",\"firebrick\",\"firebrick\",\"firebrick\",\"midnightblue\",\"firebrick\",\"firebrick\",\"firebrick\",\"midnightblue\",\"midnightblue\",\"firebrick\",\"firebrick\",\"midnightblue\",\"midnightblue\",\"firebrick\",\"midnightblue\",\"midnightblue\",\"midnightblue\",\"midnightblue\",\"midnightblue\",\"firebrick\",\"firebrick\",\"midnightblue\",\"firebrick\",\"firebrick\",\"firebrick\",\"firebrick\",\"firebrick\",\"midnightblue\",\"midnightblue\",\"firebrick\",\"midnightblue\",\"midnightblue\",\"firebrick\",\"midnightblue\",\"firebrick\",\"firebrick\",\"firebrick\",\"firebrick\",\"firebrick\",\"midnightblue\",\"firebrick\",\"firebrick\",\"firebrick\",\"firebrick\",\"midnightblue\",\"midnightblue\",\"firebrick\",\"midnightblue\",\"midnightblue\",\"midnightblue\",\"firebrick\",\"midnightblue\",\"firebrick\",\"firebrick\",\"firebrick\",\"midnightblue\",\"firebrick\",\"firebrick\",\"firebrick\",\"midnightblue\",\"midnightblue\",\"midnightblue\",\"midnightblue\",\"firebrick\",\"firebrick\",\"firebrick\",\"firebrick\",\"midnightblue\",\"midnightblue\",\"midnightblue\",\"midnightblue\",\"midnightblue\",\"firebrick\",\"midnightblue\",\"midnightblue\",\"firebrick\",\"firebrick\",\"midnightblue\",\"midnightblue\",\"firebrick\",\"midnightblue\",\"firebrick\",\"firebrick\",\"midnightblue\",\"midnightblue\",\"midnightblue\"],\"label\":[\"class 1\",\"class 2\",\"class 1\",\"class 2\",\"class 1\",\"class 1\",\"class 1\",\"class 2\",\"class 1\",\"class 2\",\"class 2\",\"class 2\",\"class 2\",\"class 2\",\"class 2\",\"class 2\",\"class 2\",\"class 1\",\"class 2\",\"class 2\",\"class 2\",\"class 1\",\"class 1\",\"class 2\",\"class 2\",\"class 1\",\"class 1\",\"class 2\",\"class 1\",\"class 1\",\"class 1\",\"class 1\",\"class 1\",\"class 2\",\"class 2\",\"class 1\",\"class 2\",\"class 2\",\"class 2\",\"class 2\",\"class 2\",\"class 1\",\"class 1\",\"class 2\",\"class 1\",\"class 1\",\"class 2\",\"class 1\",\"class 2\",\"class 2\",\"class 2\",\"class 2\",\"class 2\",\"class 1\",\"class 2\",\"class 2\",\"class 2\",\"class 2\",\"class 1\",\"class 1\",\"class 2\",\"class 1\",\"class 1\",\"class 1\",\"class 2\",\"class 1\",\"class 2\",\"class 2\",\"class 2\",\"class 1\",\"class 2\",\"class 2\",\"class 2\",\"class 1\",\"class 1\",\"class 1\",\"class 1\",\"class 2\",\"class 2\",\"class 2\",\"class 2\",\"class 1\",\"class 1\",\"class 1\",\"class 1\",\"class 1\",\"class 2\",\"class 1\",\"class 1\",\"class 2\",\"class 2\",\"class 1\",\"class 1\",\"class 2\",\"class 1\",\"class 2\",\"class 2\",\"class 1\",\"class 1\",\"class 1\"],\"x\":{\"__ndarray__\":\"mjnUkPxq4r+A7BXi3lyrPzDUKrTMr9k/zN7l1USM7D+40Xy13ZjTv3hrDKWvT+K/IuqN6UBv7r+eA6Hmfsfmv8S2uwMZpeC/AJy5xBjZYz887M7YySDnP8RIWZfOJeg/XGZeVmdZ2L/A6LGQddfpv54NX35jh+w/4EVlBYomob+8zVV7hSzZP8DaVZAR/Og/Yn9Ws7eL5b8iMFuQfoDpv2AXjpQE6dU/rmcjs3Ow5b/A2vxYC8/gv7BPu3YJntE/eCFQeQDg3j9Y79TWZifFP7JQjoJQ7um/1Cl0XcmX4D+0heeuHOHRP1Th7giL8ew/BgXLg+Vu6D9EdpyaBqbZv6C6qjd/pK8/ABR+G+Jlmj+4KyoHg3TXP1ARpNXv8bW/hLUFp86M6r8gyxpwrU7RP/h3t3Qgrsa/ePLELe5g3D8y2PGOlfvjP4Dae9NYVYg/8tHGOSaz6b/Uf+zE2v/XPzyRYG1h09Q/EKSEWRwStL9ABhL2nOzgvzym7YVXq+O/4K36AhbOwD8gYQh9xkW2P3A8nvN5e+i/+IwaiT1N3r/mHZP02hbrv8Q6QOT12N0/OAqU8krB1z+EWi1fFIXkv0hKRK/8ruA/+IlIvNz14T+EU1PbsCHhP77OtLM1rO6/ygb7nGfv6z8Y7IQW0hnDvyQLwk3lSdY/sCS7r/NytD/Sv3+7yy7ov9LhG39CNOc/kP6CPltVtz8kX65osQHnPwAWKFDVSeO/YPtljsxa5b/Eb4duVprtP0hnyLmK298/qAmgIKEryb+4JhMO0LfMP5ge9WyUrMo/UNGCV9tJsz8oG8U3G8/Ev27E9peZBeG/qILJpYkZ0D8wyXIPUFTkv2jr5WeesdE/YDIlxr5oy7+ILilfL17Hv0Rt8MY6IeY/xACtJT++0r/EZAVhaKTivwCIOwS+mK+/3CgiUbo84L9k/UjkbGDfv6iZmKAEKeo/CO9qqnWxxT+EvNIf2Knpv2yafpQqH96/FLYILge24D+AAQwL9BiKv8KxMEqlLe+/aLTe3BgR1L++7h98lK7ivwzvcXQzg9Q/gosZpP2v6r8=\",\"dtype\":\"float64\",\"order\":\"little\",\"shape\":[100]},\"y\":{\"__ndarray__\":\"wPL5BXqCuT9cmXq8EyPbPzBtGCEfS+W/BjNbKGnS5z+UzM0yayLsv2yhR6JwjeO/sDSOf1L4wr+Yqa1FciPrP5DWQ2zl0bE/8OkSizLa3D8MoQi3G/zSvxidPF7Fe9w/UBpaAa4JyD+Q8jvg8V/rP0hNw9QjPt8/+BgVXHrw1z8wlZIprA6wv+YD+AVNKOi/tM3GkJZp6z8wQav7/vDkPxCoe32uAcS/OGBOjzyRw78kojs17h7Vv7D6Lf6IQMs/1OEE4r9k5z/iI6xElRXrv5gqGRGShdy/YAvRf6cEyz8ill/bilfnv3A+LyygNt2/CNrIAvJZ4r/oVv7O+e3Sv/hCQu7+mdO/jGMXOkrx2D8oYkhHiqDCv65JOgKcEOm/lNfdM4oU5j8AMM005e18v8gy2LQOQOE/5pFMCKuU7D+0qOnQ9qPjP4Q/eEDt1di/kNCPCz5M3L9gwpRhfdLFvzzgej4i/tW/AOPDgkO7c7+YiBgJv9beP3DhkFClleK/yC7e30BZzz+MMDLvYz/tP9Y8pSKaMuU/XpdcxAPH4D/Yn0l5D2rbP0pk8f4IQeW/UJVIEoA/sT+Ol+y1nKTjP1DtSWUXkto/8IvooiOV7j8QSx6sVDXrv1Il9q24Mu+/qJtVX4FVw7+0V8vkXgfvv7jSPTXWuMy/ZtNTGyAD67/E7J2OB0vsP/4p7rZVLOO/mP6Z7a7b4T9ctJOHKeHdP3B3rPGDQtM/PJq1dSr90b+gEZeOmh+gv7i1IHVswcw/XO9EFKyD7z9OJDBoJvDov94ef2DvQ+y/UJOuEXfIwL84RAI/mhzRvwaTpA8PoO8/dIijD4rf5j/EGbqwjP7YPwDho3eyC46/gGampKQQpD/gi1gg5xCgP8hYVdC6B+G/hPYzpVlg5L8u+2gWH//kv8DrUyVkPeY/9GEXF2in279kDz76v+3ovxZAmM8yueA/pvIWsh1/6T/y3O40m7PjvxCmh9cwduC/IFQIpYTzyT8YdWG1eJ7SvwLdrncuKOQ/bHxfDZLK5D/qm5dwrOzvv+CtBx6TSN+/mIVI1xkHxr8=\",\"dtype\":\"float64\",\"order\":\"little\",\"shape\":[100]}},\"selected\":{\"id\":\"4769\"},\"selection_policy\":{\"id\":\"4768\"}},\"id\":\"4754\",\"type\":\"ColumnDataSource\"},{\"attributes\":{},\"id\":\"4745\",\"type\":\"HelpTool\"},{\"attributes\":{\"children\":[{\"id\":\"4774\"},{\"id\":\"4721\"},{\"id\":\"4795\"}],\"margin\":[0,0,0,0],\"name\":\"Row00177\"},\"id\":\"4773\",\"type\":\"Row\"},{\"attributes\":{\"coordinates\":null,\"group\":null,\"text\":\"Observations\",\"text_color\":\"#E0E0E0\",\"text_font\":\"Josefin Sans\",\"text_font_size\":\"2.1em\"},\"id\":\"4722\",\"type\":\"Title\"},{\"attributes\":{},\"id\":\"4767\",\"type\":\"AllLabels\"},{\"attributes\":{},\"id\":\"4741\",\"type\":\"WheelZoomTool\"},{\"attributes\":{},\"id\":\"4724\",\"type\":\"DataRange1d\"},{\"attributes\":{},\"id\":\"4740\",\"type\":\"PanTool\"},{\"attributes\":{\"client_comm_id\":\"498deaaec3a347a691101a0590ad309d\",\"comm_id\":\"eb77d2ef088b4ab98f0ba102e114198c\",\"plot_id\":\"4773\"},\"id\":\"4826\",\"type\":\"panel.models.comm_manager.CommManager\"},{\"attributes\":{\"overlay\":{\"id\":\"4746\"}},\"id\":\"4742\",\"type\":\"BoxZoomTool\"},{\"attributes\":{},\"id\":\"4743\",\"type\":\"SaveTool\"},{\"attributes\":{\"margin\":[5,5,5,5],\"name\":\"HSpacer00174\",\"sizing_mode\":\"stretch_width\"},\"id\":\"4795\",\"type\":\"Spacer\"},{\"attributes\":{},\"id\":\"4744\",\"type\":\"ResetTool\"},{\"attributes\":{\"label\":{\"field\":\"label\"},\"renderers\":[{\"id\":\"4759\"}]},\"id\":\"4772\",\"type\":\"LegendItem\"},{\"attributes\":{\"bottom_units\":\"screen\",\"coordinates\":null,\"fill_alpha\":0.5,\"fill_color\":\"lightgrey\",\"group\":null,\"left_units\":\"screen\",\"level\":\"overlay\",\"line_alpha\":1.0,\"line_color\":\"black\",\"line_dash\":[4,4],\"line_width\":2,\"right_units\":\"screen\",\"syncable\":false,\"top_units\":\"screen\"},\"id\":\"4746\",\"type\":\"BoxAnnotation\"},{\"attributes\":{},\"id\":\"4726\",\"type\":\"DataRange1d\"},{\"attributes\":{\"coordinates\":null,\"data_source\":{\"id\":\"4754\"},\"glyph\":{\"id\":\"4756\"},\"group\":null,\"hover_glyph\":null,\"muted_glyph\":{\"id\":\"4758\"},\"nonselection_glyph\":{\"id\":\"4757\"},\"view\":{\"id\":\"4760\"}},\"id\":\"4759\",\"type\":\"GlyphRenderer\"},{\"attributes\":{\"fill_alpha\":{\"value\":0.6},\"fill_color\":{\"field\":\"color\"},\"hatch_alpha\":{\"value\":0.6},\"hatch_color\":{\"field\":\"color\"},\"line_alpha\":{\"value\":0.6},\"line_color\":{\"value\":\"white\"},\"size\":{\"value\":10},\"x\":{\"field\":\"x\"},\"y\":{\"field\":\"y\"}},\"id\":\"4756\",\"type\":\"Circle\"},{\"attributes\":{},\"id\":\"4737\",\"type\":\"BasicTicker\"},{\"attributes\":{\"fill_alpha\":{\"value\":0.1},\"fill_color\":{\"field\":\"color\"},\"hatch_alpha\":{\"value\":0.1},\"hatch_color\":{\"field\":\"color\"},\"line_alpha\":{\"value\":0.1},\"line_color\":{\"value\":\"white\"},\"size\":{\"value\":10},\"x\":{\"field\":\"x\"},\"y\":{\"field\":\"y\"}},\"id\":\"4757\",\"type\":\"Circle\"},{\"attributes\":{\"source\":{\"id\":\"4754\"}},\"id\":\"4760\",\"type\":\"CDSView\"},{\"attributes\":{},\"id\":\"4728\",\"type\":\"LinearScale\"},{\"attributes\":{\"axis\":{\"id\":\"4732\"},\"coordinates\":null,\"grid_line_alpha\":0.15,\"grid_line_color\":\"#E0E0E0\",\"group\":null,\"ticker\":null},\"id\":\"4735\",\"type\":\"Grid\"},{\"attributes\":{\"fill_alpha\":{\"value\":0.2},\"fill_color\":{\"field\":\"color\"},\"hatch_alpha\":{\"value\":0.2},\"hatch_color\":{\"field\":\"color\"},\"line_alpha\":{\"value\":0.2},\"line_color\":{\"value\":\"white\"},\"size\":{\"value\":10},\"x\":{\"field\":\"x\"},\"y\":{\"field\":\"y\"}},\"id\":\"4758\",\"type\":\"Circle\"},{\"attributes\":{},\"id\":\"4730\",\"type\":\"LinearScale\"},{\"attributes\":{\"background_fill_alpha\":0.2,\"background_fill_color\":\"darkgrey\",\"border_line_alpha\":0.8,\"border_line_color\":\"grey\",\"border_line_width\":3,\"coordinates\":null,\"group\":null,\"items\":[{\"id\":\"4772\"}],\"label_text_color\":\"white\"},\"id\":\"4771\",\"type\":\"Legend\"},{\"attributes\":{},\"id\":\"4733\",\"type\":\"BasicTicker\"},{\"attributes\":{},\"id\":\"4763\",\"type\":\"BasicTickFormatter\"},{\"attributes\":{},\"id\":\"4764\",\"type\":\"AllLabels\"},{\"attributes\":{},\"id\":\"4769\",\"type\":\"Selection\"},{\"attributes\":{},\"id\":\"4766\",\"type\":\"BasicTickFormatter\"},{\"attributes\":{\"tools\":[{\"id\":\"4740\"},{\"id\":\"4741\"},{\"id\":\"4742\"},{\"id\":\"4743\"},{\"id\":\"4744\"},{\"id\":\"4745\"}]},\"id\":\"4747\",\"type\":\"Toolbar\"},{\"attributes\":{\"background_fill_alpha\":0.9,\"background_fill_color\":\"#0f0f0f\",\"below\":[{\"id\":\"4732\"}],\"border_fill_alpha\":0.8,\"border_fill_color\":\"#111111\",\"center\":[{\"id\":\"4735\"},{\"id\":\"4739\"},{\"id\":\"4771\"}],\"height\":450,\"left\":[{\"id\":\"4736\"}],\"outline_line_alpha\":0.25,\"outline_line_color\":\"#E0E0E0\",\"outline_line_width\":3,\"renderers\":[{\"id\":\"4759\"}],\"right\":[{\"id\":\"4771\"}],\"title\":{\"id\":\"4722\"},\"toolbar\":{\"id\":\"4747\"},\"width\":700,\"x_range\":{\"id\":\"4724\"},\"x_scale\":{\"id\":\"4728\"},\"y_range\":{\"id\":\"4726\"},\"y_scale\":{\"id\":\"4730\"}},\"id\":\"4721\",\"subtype\":\"Figure\",\"type\":\"Plot\"},{\"attributes\":{},\"id\":\"4768\",\"type\":\"UnionRenderers\"},{\"attributes\":{\"axis_label\":\"y\",\"axis_label_standoff\":10,\"axis_label_text_color\":\"#FFFFFF\",\"axis_label_text_font\":\"Josefin Sans\",\"axis_label_text_font_size\":\"1.9em\",\"axis_label_text_font_style\":\"bold\",\"axis_line_alpha\":0.4,\"axis_line_color\":\"#E0E0E0\",\"coordinates\":null,\"formatter\":{\"id\":\"4763\"},\"group\":null,\"major_label_policy\":{\"id\":\"4764\"},\"major_label_text_color\":\"#E0E0E0\",\"major_label_text_font\":\"Josefin Sans\",\"major_label_text_font_size\":\"1.15em\",\"major_tick_line_alpha\":0.4,\"major_tick_line_color\":\"#E0E0E0\",\"minor_tick_line_alpha\":0.4,\"minor_tick_line_color\":\"#E0E0E0\",\"ticker\":{\"id\":\"4737\"}},\"id\":\"4736\",\"type\":\"LinearAxis\"},{\"attributes\":{\"axis\":{\"id\":\"4736\"},\"coordinates\":null,\"dimension\":1,\"grid_line_alpha\":0.15,\"grid_line_color\":\"#E0E0E0\",\"group\":null,\"ticker\":null},\"id\":\"4739\",\"type\":\"Grid\"}],\"root_ids\":[\"4773\",\"4826\"]},\"title\":\"Bokeh Application\",\"version\":\"2.4.3\"}};\n    var render_items = [{\"docid\":\"04cda00c-ecbb-45f6-96c3-f1b5d92fa120\",\"root_ids\":[\"4773\"],\"roots\":{\"4773\":\"826e7abd-417f-4de9-8932-8e20ec8222c4\"}}];\n    root.Bokeh.embed.embed_items_notebook(docs_json, render_items);\n    for (const render_item of render_items) {\n      for (const root_id of render_item.root_ids) {\n\tconst id_el = document.getElementById(root_id)\n\tif (id_el.children.length && (id_el.children[0].className === 'bk-root')) {\n\t  const root_el = id_el.children[0]\n\t  root_el.id = root_el.id + '-rendered'\n\t}\n      }\n    }\n  }\n  if (root.Bokeh !== undefined && root.Bokeh.Panel !== undefined) {\n    embed_document(root);\n  } else {\n    var attempts = 0;\n    var timer = setInterval(function(root) {\n      if (root.Bokeh !== undefined && root.Bokeh.Panel !== undefined) {\n        clearInterval(timer);\n        embed_document(root);\n      } else if (document.readyState == \"complete\") {\n        attempts++;\n        if (attempts > 200) {\n          clearInterval(timer);\n          console.log(\"Bokeh: ERROR: Unable to run BokehJS code because BokehJS library is missing\");\n        }\n      }\n    }, 25, root)\n  }\n})(window);</script>",
      "application/vnd.holoviews_exec.v0+json": "",
      "text/plain": "Row\n    [0] HSpacer()\n    [1] Bokeh(Figure)\n    [2] HSpacer()"
     },
     "execution_count": 26,
     "metadata": {
      "application/vnd.holoviews_exec.v0+json": {
       "id": "4773"
      }
     },
     "output_type": "execute_result"
    }
   ],
   "source": [
    "# Number of points to generate\n",
    "n_observations = 100;\n",
    "# Generate 2-dimensional random points\n",
    "x_inputs = np.random.rand(int(n_observations), 2) * 2 - 1;\n",
    "# Slope of separating line\n",
    "sep_slope = np.log(np.random.rand() * 10);\n",
    "sep_bias = np.random.rand() * 2 - 1;\n",
    "# Create the indexes for a two-class problem\n",
    "y_class = (x_inputs[:, 1] - x_inputs[:, 0] * sep_slope - sep_bias > 0) * 1;\n",
    "# Plot the corresponding pattern\n",
    "plot = center_plot(scatter_classes(x_inputs, y_class))\n",
    "plot"
   ]
  },
  {
   "cell_type": "markdown",
   "metadata": {},
   "source": [
    "<a id=\"neuron\"></a>\n",
    "## Single neuron\n",
    "\n",
    "For the first parts of the tutorial, we will perform the simplest classification model possible in a neural network setting, a single neuron. We briefly recall here that; given an input vector $ \\mathbf{x} \\in \\mathbb{R}^{n} $, a single neuron computes the function  \n",
    "\n",
    "$$\n",
    "\\begin{equation}\n",
    "\\bar{y}=\\phi\\left(\\sum_{i = 1}^{n}w_{i}.x_{i} + b\\right)\n",
    "\\label{eq1}\n",
    "\\end{equation}\n",
    "$$\n",
    "\n",
    "with $ \\mathbf{w} \\in \\mathbb{R}^{n} $ a weight vector, $ b $ a bias and $ \\phi\\left( \\cdot \\right) $ an *activation function*. Therefore, if we consider the *threshold* activation function ($ \\mathbb{I}_{0}\\left(x\\right)=1 $ if $ x \\geq 0$), a single neuron simply performs an *affine transform* and then a *linear* discrimination of the space. \n",
    "\n",
    "***\n",
    "\n",
    "<div class=\"alert alert-success\" markdown=\"1\" style=\"color:white; background-color: #410819; border-color: #cb2e47\">\n",
    "\n",
    "> **Important note**\n",
    "> The following implementation tries to remain as close as possible to the original neuron model by McCulloch & Pitts, notably by using the _threshold activation_ function. Although this leads to a very simple implementation (akin to using an _identity_ activation, note that it is not to be used afterwards.\n",
    "\n",
    "</div>\n",
    "\n",
    "***\n",
    "\n",
    "As we will see later on, a **neural network** will simply be composed of _layers_ of these neurons, which produce successive computations\n",
    "\n",
    "<img src=\"images/02_feedforward_nn.png\" align=\"center\"/>\n",
    "\n",
    "Geometrically, a single neuron computes an hyperplane that separates the space. In order to learn, we have to adjust the weights and know \"how much wrong we are\". To do so, we consider that we know the desired output $ y_{j} $ of a system for a given example $ \\mathbf{x}_{j} $ (eg. a predicted value for a regression system, a class value for a classification system). Therefore, we define the MSE loss function $ \\mathcal{L}_{\\mathcal{D}} $ over a whole dataset as\n",
    "\n",
    "$$\n",
    "\\begin{equation}\n",
    "\\mathcal{L}_{\\mathcal{D}}=\\sum_{j=1}^{|\\mathcal{D}|}\\left\\Vert \\bar{y}_{j}-y_{j}\\right\\Vert ^{2}\n",
    "\\label{eq2}\n",
    "\\end{equation}\n",
    "$$\n",
    "\n",
    "with $|\\mathcal{D}|$ being the size of our dataset. In order to know how to change the weights based on the value of the errors, we need to now \"how to change it to make it better\". Therefore, we should compute the sets of derivatives of the error given each parameter\n",
    "\n",
    "$$\n",
    "\\begin{equation}\n",
    "\\Delta\\bar{\\mathbf{w}}=\\left(\\frac{\\delta\\mathcal{L}_{\\mathcal{D}}}{\\delta w_{1}},\\ldots,\\frac{\\delta\\mathcal{L}_{\\mathcal{D}}}{\\delta w_{n}}\\right)\n",
    "\\label{eq3}\n",
    "\\end{equation}\n",
    "$$ \n",
    "\n",
    "***\n",
    "\n",
    "<div class=\"alert alert-success\" markdown=\"1\" style=\"color:white; background-color: #192841; border-color: #779ecb\">\n",
    "\n",
    "> ### Exercise (course)\n",
    ">   1. Perform the derivatives of the output given a single neuron\n",
    ">   2. Perform the derivatives for the bias as well\n",
    "\n",
    "</div>\n",
    "\n",
    "***"
   ]
  },
  {
   "cell_type": "markdown",
   "metadata": {},
   "source": [
    "### Training your own neuron\n",
    "\n",
    "We will start by training a single neuron to learn how to perform this discrimination with a linear problem (so that a single neuron is enough to solve it). "
   ]
  },
  {
   "cell_type": "code",
   "execution_count": 27,
   "metadata": {
    "ExecuteTime": {
     "end_time": "2023-05-12T03:06:41.222109836Z",
     "start_time": "2023-05-12T03:06:40.742396731Z"
    }
   },
   "outputs": [],
   "source": [
    "# Learning rate\n",
    "eta = 1e-2;\n",
    "# Weight decay\n",
    "lambda_r = 0.1\n",
    "# Number of epochs\n",
    "n_epochs = 50\n",
    "# Initialize the weights\n",
    "weights = np.random.randn(1,2);\n",
    "bias = np.random.randn(1, 1);\n",
    "# Save the weight history for plotting\n",
    "weights_history = np.zeros((n_epochs + 1, 2));\n",
    "bias_history = np.zeros((n_epochs + 1, 1));"
   ]
  },
  {
   "cell_type": "markdown",
   "metadata": {},
   "source": [
    "Now you need to update the following code loop to ensure that your neuron learns to separate between the classes \n",
    "***\n",
    "\n",
    "<div class=\"alert alert-success\" markdown=\"1\" style=\"color:white; background-color: #192841; border-color: #779ecb\">\n",
    "\n",
    "> ### Exercise (course)\n",
    ">   1. Update the loop so that it computes the forward propagation error\n",
    ">   2. Update the loop to perform learning (based on back-propagation)\n",
    ">   3. Run the learning procedure, which should produce a result similar to that displayed on the website\n",
    ">   4. Perform multiple re-runs by **tweaking the hyperparameters** (learning rate, weight decay)\n",
    ">   5. What observations can you make on the learning process?\n",
    ">   6. (Optional) Change the input patterns, and confirm your observations.\n",
    ">   6. (Optional) Incorporate the bias in the weights to obtain a **vectorized** code.\n",
    "\n",
    "</div>\n",
    "\n",
    "***"
   ]
  },
  {
   "cell_type": "code",
   "execution_count": 28,
   "metadata": {
    "ExecuteTime": {
     "end_time": "2023-05-12T03:06:41.222442624Z",
     "start_time": "2023-05-12T03:06:40.742594380Z"
    }
   },
   "outputs": [
    {
     "name": "stdout",
     "output_type": "stream",
     "text": [
      "(100, 2) (1, 2)\n",
      "(100, 1)\n",
      "(100,)\n",
      "(100, 2)\n"
     ]
    }
   ],
   "source": [
    "print(x_inputs.shape,weights.shape)\n",
    "print((x_inputs@ (weights.T)).shape)\n",
    "print(y_class.shape)\n",
    "print (((y_class[:,None] - (x_inputs@ (weights.T) +bias)) * x_inputs).shape)"
   ]
  },
  {
   "cell_type": "code",
   "execution_count": 29,
   "metadata": {
    "ExecuteTime": {
     "end_time": "2023-05-12T03:06:41.284885914Z",
     "start_time": "2023-05-12T03:06:40.750339165Z"
    }
   },
   "outputs": [
    {
     "data": {},
     "metadata": {},
     "output_type": "display_data"
    },
    {
     "data": {
      "text/html": "<div id='5231'>\n  <div class=\"bk-root\" id=\"243f1926-9d0d-4689-948c-345db09aea9f\" data-root-id=\"5231\"></div>\n</div>\n<script type=\"application/javascript\">(function(root) {\n  function embed_document(root) {\n    var docs_json = {\"c7721d44-35b5-4231-98a0-52437d8dc19e\":{\"defs\":[{\"extends\":null,\"module\":null,\"name\":\"ReactiveHTML1\",\"overrides\":[],\"properties\":[]},{\"extends\":null,\"module\":null,\"name\":\"FlexBox1\",\"overrides\":[],\"properties\":[{\"default\":\"flex-start\",\"kind\":null,\"name\":\"align_content\"},{\"default\":\"flex-start\",\"kind\":null,\"name\":\"align_items\"},{\"default\":\"row\",\"kind\":null,\"name\":\"flex_direction\"},{\"default\":\"wrap\",\"kind\":null,\"name\":\"flex_wrap\"},{\"default\":\"flex-start\",\"kind\":null,\"name\":\"justify_content\"}]},{\"extends\":null,\"module\":null,\"name\":\"GridStack1\",\"overrides\":[],\"properties\":[{\"default\":\"warn\",\"kind\":null,\"name\":\"mode\"},{\"default\":null,\"kind\":null,\"name\":\"ncols\"},{\"default\":null,\"kind\":null,\"name\":\"nrows\"},{\"default\":true,\"kind\":null,\"name\":\"allow_resize\"},{\"default\":true,\"kind\":null,\"name\":\"allow_drag\"},{\"default\":[],\"kind\":null,\"name\":\"state\"}]},{\"extends\":null,\"module\":null,\"name\":\"click1\",\"overrides\":[],\"properties\":[{\"default\":\"\",\"kind\":null,\"name\":\"terminal_output\"},{\"default\":\"\",\"kind\":null,\"name\":\"debug_name\"},{\"default\":0,\"kind\":null,\"name\":\"clears\"}]},{\"extends\":null,\"module\":null,\"name\":\"NotificationAreaBase1\",\"overrides\":[],\"properties\":[{\"default\":\"bottom-right\",\"kind\":null,\"name\":\"position\"},{\"default\":0,\"kind\":null,\"name\":\"_clear\"}]},{\"extends\":null,\"module\":null,\"name\":\"NotificationArea1\",\"overrides\":[],\"properties\":[{\"default\":[],\"kind\":null,\"name\":\"notifications\"},{\"default\":\"bottom-right\",\"kind\":null,\"name\":\"position\"},{\"default\":0,\"kind\":null,\"name\":\"_clear\"},{\"default\":[{\"background\":\"#ffc107\",\"icon\":{\"className\":\"fas fa-exclamation-triangle\",\"color\":\"white\",\"tagName\":\"i\"},\"type\":\"warning\"},{\"background\":\"#007bff\",\"icon\":{\"className\":\"fas fa-info-circle\",\"color\":\"white\",\"tagName\":\"i\"},\"type\":\"info\"}],\"kind\":null,\"name\":\"types\"}]},{\"extends\":null,\"module\":null,\"name\":\"Notification\",\"overrides\":[],\"properties\":[{\"default\":null,\"kind\":null,\"name\":\"background\"},{\"default\":3000,\"kind\":null,\"name\":\"duration\"},{\"default\":null,\"kind\":null,\"name\":\"icon\"},{\"default\":\"\",\"kind\":null,\"name\":\"message\"},{\"default\":null,\"kind\":null,\"name\":\"notification_type\"},{\"default\":false,\"kind\":null,\"name\":\"_destroyed\"}]},{\"extends\":null,\"module\":null,\"name\":\"TemplateActions1\",\"overrides\":[],\"properties\":[{\"default\":0,\"kind\":null,\"name\":\"open_modal\"},{\"default\":0,\"kind\":null,\"name\":\"close_modal\"}]},{\"extends\":null,\"module\":null,\"name\":\"MaterialTemplateActions1\",\"overrides\":[],\"properties\":[{\"default\":0,\"kind\":null,\"name\":\"open_modal\"},{\"default\":0,\"kind\":null,\"name\":\"close_modal\"}]}],\"roots\":{\"references\":[{\"attributes\":{\"line_alpha\":0.2,\"line_color\":\"#6C00A8\",\"line_dash\":[6],\"line_width\":4,\"x\":{\"field\":\"x\"},\"y\":{\"field\":\"y\"}},\"id\":\"4994\",\"type\":\"Line\"},{\"attributes\":{\"coordinates\":null,\"data_source\":{\"id\":\"4991\"},\"glyph\":{\"id\":\"4992\"},\"group\":null,\"hover_glyph\":null,\"muted_glyph\":{\"id\":\"4994\"},\"nonselection_glyph\":{\"id\":\"4993\"},\"view\":{\"id\":\"4996\"}},\"id\":\"4995\",\"type\":\"GlyphRenderer\"},{\"attributes\":{},\"id\":\"5322\",\"type\":\"UnionRenderers\"},{\"attributes\":{\"data\":{\"x\":{\"__ndarray__\":\"wrEwSqUt77/Eb4duVprtPw==\",\"dtype\":\"float64\",\"order\":\"little\",\"shape\":[2]},\"y\":{\"__ndarray__\":\"lMjIskvA1j/rsfA6tRXfvw==\",\"dtype\":\"float64\",\"order\":\"little\",\"shape\":[2]}},\"selected\":{\"id\":\"5263\"},\"selection_policy\":{\"id\":\"5262\"}},\"id\":\"4991\",\"type\":\"ColumnDataSource\"},{\"attributes\":{\"line_color\":\"#7300A8\",\"line_dash\":[6],\"line_width\":4,\"x\":{\"field\":\"x\"},\"y\":{\"field\":\"y\"}},\"id\":\"4998\",\"type\":\"Line\"},{\"attributes\":{},\"id\":\"5263\",\"type\":\"Selection\"},{\"attributes\":{\"line_alpha\":0.1,\"line_color\":\"#6200A6\",\"line_dash\":[6],\"line_width\":4,\"x\":{\"field\":\"x\"},\"y\":{\"field\":\"y\"}},\"id\":\"4987\",\"type\":\"Line\"},{\"attributes\":{\"source\":{\"id\":\"4985\"}},\"id\":\"4990\",\"type\":\"CDSView\"},{\"attributes\":{\"line_alpha\":0.2,\"line_color\":\"#6200A6\",\"line_dash\":[6],\"line_width\":4,\"x\":{\"field\":\"x\"},\"y\":{\"field\":\"y\"}},\"id\":\"4988\",\"type\":\"Line\"},{\"attributes\":{\"coordinates\":null,\"data_source\":{\"id\":\"4985\"},\"glyph\":{\"id\":\"4986\"},\"group\":null,\"hover_glyph\":null,\"muted_glyph\":{\"id\":\"4988\"},\"nonselection_glyph\":{\"id\":\"4987\"},\"view\":{\"id\":\"4990\"}},\"id\":\"4989\",\"type\":\"GlyphRenderer\"},{\"attributes\":{},\"id\":\"4889\",\"type\":\"BasicTicker\"},{\"attributes\":{\"line_alpha\":0.2,\"line_color\":\"#8908A5\",\"line_dash\":[6],\"line_width\":4,\"x\":{\"field\":\"x\"},\"y\":{\"field\":\"y\"}},\"id\":\"5018\",\"type\":\"Line\"},{\"attributes\":{\"coordinates\":null,\"data_source\":{\"id\":\"5015\"},\"glyph\":{\"id\":\"5016\"},\"group\":null,\"hover_glyph\":null,\"muted_glyph\":{\"id\":\"5018\"},\"nonselection_glyph\":{\"id\":\"5017\"},\"view\":{\"id\":\"5020\"}},\"id\":\"5019\",\"type\":\"GlyphRenderer\"},{\"attributes\":{\"axis\":{\"id\":\"4888\"},\"coordinates\":null,\"grid_line_alpha\":0.15,\"grid_line_color\":\"#E0E0E0\",\"group\":null,\"ticker\":null},\"id\":\"4891\",\"type\":\"Grid\"},{\"attributes\":{},\"id\":\"5264\",\"type\":\"UnionRenderers\"},{\"attributes\":{\"data\":{\"x\":{\"__ndarray__\":\"wrEwSqUt77/Eb4duVprtPw==\",\"dtype\":\"float64\",\"order\":\"little\",\"shape\":[2]},\"y\":{\"__ndarray__\":\"1OHurCpx1z9AgJIZ1J7fvw==\",\"dtype\":\"float64\",\"order\":\"little\",\"shape\":[2]}},\"selected\":{\"id\":\"5271\"},\"selection_policy\":{\"id\":\"5270\"}},\"id\":\"5015\",\"type\":\"ColumnDataSource\"},{\"attributes\":{},\"id\":\"5292\",\"type\":\"UnionRenderers\"},{\"attributes\":{\"line_color\":\"#920FA2\",\"line_dash\":[6],\"line_width\":4,\"x\":{\"field\":\"x\"},\"y\":{\"field\":\"y\"}},\"id\":\"5022\",\"type\":\"Line\"},{\"attributes\":{\"line_alpha\":0.1,\"line_color\":\"#8204A7\",\"line_dash\":[6],\"line_width\":4,\"x\":{\"field\":\"x\"},\"y\":{\"field\":\"y\"}},\"id\":\"5011\",\"type\":\"Line\"},{\"attributes\":{},\"id\":\"5261\",\"type\":\"Selection\"},{\"attributes\":{},\"id\":\"5293\",\"type\":\"Selection\"},{\"attributes\":{\"source\":{\"id\":\"5009\"}},\"id\":\"5014\",\"type\":\"CDSView\"},{\"attributes\":{\"line_alpha\":0.2,\"line_color\":\"#8204A7\",\"line_dash\":[6],\"line_width\":4,\"x\":{\"field\":\"x\"},\"y\":{\"field\":\"y\"}},\"id\":\"5012\",\"type\":\"Line\"},{\"attributes\":{\"coordinates\":null,\"data_source\":{\"id\":\"5009\"},\"glyph\":{\"id\":\"5010\"},\"group\":null,\"hover_glyph\":null,\"muted_glyph\":{\"id\":\"5012\"},\"nonselection_glyph\":{\"id\":\"5011\"},\"view\":{\"id\":\"5014\"}},\"id\":\"5013\",\"type\":\"GlyphRenderer\"},{\"attributes\":{\"data\":{\"x\":{\"__ndarray__\":\"wrEwSqUt77/Eb4duVprtPw==\",\"dtype\":\"float64\",\"order\":\"little\",\"shape\":[2]},\"y\":{\"__ndarray__\":\"G8mErNzh3D8xS56r2ArVvw==\",\"dtype\":\"float64\",\"order\":\"little\",\"shape\":[2]}},\"selected\":{\"id\":\"5269\"},\"selection_policy\":{\"id\":\"5268\"}},\"id\":\"5009\",\"type\":\"ColumnDataSource\"},{\"attributes\":{\"line_color\":\"#8908A5\",\"line_dash\":[6],\"line_width\":4,\"x\":{\"field\":\"x\"},\"y\":{\"field\":\"y\"}},\"id\":\"5016\",\"type\":\"Line\"},{\"attributes\":{\"line_alpha\":0.1,\"line_color\":\"#7B02A8\",\"line_dash\":[6],\"line_width\":4,\"x\":{\"field\":\"x\"},\"y\":{\"field\":\"y\"}},\"id\":\"5005\",\"type\":\"Line\"},{\"attributes\":{\"source\":{\"id\":\"5003\"}},\"id\":\"5008\",\"type\":\"CDSView\"},{\"attributes\":{\"line_alpha\":0.2,\"line_color\":\"#7B02A8\",\"line_dash\":[6],\"line_width\":4,\"x\":{\"field\":\"x\"},\"y\":{\"field\":\"y\"}},\"id\":\"5006\",\"type\":\"Line\"},{\"attributes\":{\"coordinates\":null,\"data_source\":{\"id\":\"5003\"},\"glyph\":{\"id\":\"5004\"},\"group\":null,\"hover_glyph\":null,\"muted_glyph\":{\"id\":\"5006\"},\"nonselection_glyph\":{\"id\":\"5005\"},\"view\":{\"id\":\"5008\"}},\"id\":\"5007\",\"type\":\"GlyphRenderer\"},{\"attributes\":{\"margin\":[5,5,5,5],\"name\":\"HSpacer00180\",\"sizing_mode\":\"stretch_width\"},\"id\":\"5232\",\"type\":\"Spacer\"},{\"attributes\":{},\"id\":\"5265\",\"type\":\"Selection\"},{\"attributes\":{},\"id\":\"5260\",\"type\":\"UnionRenderers\"},{\"attributes\":{\"data\":{\"x\":{\"__ndarray__\":\"wrEwSqUt77/Eb4duVprtPw==\",\"dtype\":\"float64\",\"order\":\"little\",\"shape\":[2]},\"y\":{\"__ndarray__\":\"M0IhLHn/1D8TFO/AkELgvw==\",\"dtype\":\"float64\",\"order\":\"little\",\"shape\":[2]}},\"selected\":{\"id\":\"5267\"},\"selection_policy\":{\"id\":\"5266\"}},\"id\":\"5003\",\"type\":\"ColumnDataSource\"},{\"attributes\":{\"children\":[{\"id\":\"5232\"},{\"id\":\"4877\"},{\"id\":\"5453\"}],\"margin\":[0,0,0,0],\"name\":\"Row00184\"},\"id\":\"5231\",\"type\":\"Row\"},{\"attributes\":{\"line_color\":\"#8204A7\",\"line_dash\":[6],\"line_width\":4,\"x\":{\"field\":\"x\"},\"y\":{\"field\":\"y\"}},\"id\":\"5010\",\"type\":\"Line\"},{\"attributes\":{\"line_alpha\":0.1,\"line_color\":\"#7300A8\",\"line_dash\":[6],\"line_width\":4,\"x\":{\"field\":\"x\"},\"y\":{\"field\":\"y\"}},\"id\":\"4999\",\"type\":\"Line\"},{\"attributes\":{},\"id\":\"5334\",\"type\":\"UnionRenderers\"},{\"attributes\":{\"source\":{\"id\":\"4997\"}},\"id\":\"5002\",\"type\":\"CDSView\"},{\"attributes\":{\"line_alpha\":0.2,\"line_color\":\"#7300A8\",\"line_dash\":[6],\"line_width\":4,\"x\":{\"field\":\"x\"},\"y\":{\"field\":\"y\"}},\"id\":\"5000\",\"type\":\"Line\"},{\"attributes\":{},\"id\":\"5320\",\"type\":\"UnionRenderers\"},{\"attributes\":{\"coordinates\":null,\"data_source\":{\"id\":\"4997\"},\"glyph\":{\"id\":\"4998\"},\"group\":null,\"hover_glyph\":null,\"muted_glyph\":{\"id\":\"5000\"},\"nonselection_glyph\":{\"id\":\"4999\"},\"view\":{\"id\":\"5002\"}},\"id\":\"5001\",\"type\":\"GlyphRenderer\"},{\"attributes\":{},\"id\":\"5306\",\"type\":\"UnionRenderers\"},{\"attributes\":{\"data\":{\"x\":{\"__ndarray__\":\"wrEwSqUt77/Eb4duVprtPw==\",\"dtype\":\"float64\",\"order\":\"little\",\"shape\":[2]},\"y\":{\"__ndarray__\":\"/eutUg5F3T/p1L+mwlXVvw==\",\"dtype\":\"float64\",\"order\":\"little\",\"shape\":[2]}},\"selected\":{\"id\":\"5265\"},\"selection_policy\":{\"id\":\"5264\"}},\"id\":\"4997\",\"type\":\"ColumnDataSource\"},{\"attributes\":{\"line_color\":\"#7B02A8\",\"line_dash\":[6],\"line_width\":4,\"x\":{\"field\":\"x\"},\"y\":{\"field\":\"y\"}},\"id\":\"5004\",\"type\":\"Line\"},{\"attributes\":{\"line_alpha\":0.1,\"line_color\":\"#EFF821\",\"line_dash\":[6],\"line_width\":4,\"x\":{\"field\":\"x\"},\"y\":{\"field\":\"y\"}},\"id\":\"5227\",\"type\":\"Line\"},{\"attributes\":{\"line_alpha\":0.1,\"line_color\":\"#6C00A8\",\"line_dash\":[6],\"line_width\":4,\"x\":{\"field\":\"x\"},\"y\":{\"field\":\"y\"}},\"id\":\"4993\",\"type\":\"Line\"},{\"attributes\":{\"source\":{\"id\":\"4991\"}},\"id\":\"4996\",\"type\":\"CDSView\"},{\"attributes\":{},\"id\":\"5333\",\"type\":\"Selection\"},{\"attributes\":{},\"id\":\"5272\",\"type\":\"UnionRenderers\"},{\"attributes\":{},\"id\":\"5273\",\"type\":\"Selection\"},{\"attributes\":{\"line_alpha\":0.1,\"line_color\":\"#F3EE26\",\"line_dash\":[6],\"line_width\":4,\"x\":{\"field\":\"x\"},\"y\":{\"field\":\"y\"}},\"id\":\"5221\",\"type\":\"Line\"},{\"attributes\":{\"fill_alpha\":{\"value\":0.2},\"fill_color\":{\"field\":\"color\"},\"hatch_alpha\":{\"value\":0.2},\"hatch_color\":{\"field\":\"color\"},\"line_alpha\":{\"value\":0.2},\"line_color\":{\"value\":\"white\"},\"size\":{\"value\":10},\"x\":{\"field\":\"x\"},\"y\":{\"field\":\"y\"}},\"id\":\"4914\",\"type\":\"Circle\"},{\"attributes\":{\"background_fill_alpha\":0.2,\"background_fill_color\":\"darkgrey\",\"border_line_alpha\":0.8,\"border_line_color\":\"grey\",\"border_line_width\":3,\"coordinates\":null,\"group\":null,\"items\":[{\"id\":\"4928\"}],\"label_text_color\":\"white\"},\"id\":\"4927\",\"type\":\"Legend\"},{\"attributes\":{\"fill_alpha\":{\"value\":0.1},\"fill_color\":{\"field\":\"color\"},\"hatch_alpha\":{\"value\":0.1},\"hatch_color\":{\"field\":\"color\"},\"line_alpha\":{\"value\":0.1},\"line_color\":{\"value\":\"white\"},\"size\":{\"value\":10},\"x\":{\"field\":\"x\"},\"y\":{\"field\":\"y\"}},\"id\":\"4913\",\"type\":\"Circle\"},{\"attributes\":{\"margin\":[5,5,5,5],\"name\":\"HSpacer00181\",\"sizing_mode\":\"stretch_width\"},\"id\":\"5453\",\"type\":\"Spacer\"},{\"attributes\":{\"background_fill_alpha\":0.9,\"background_fill_color\":\"#0f0f0f\",\"below\":[{\"id\":\"4888\"}],\"border_fill_alpha\":0.8,\"border_fill_color\":\"#111111\",\"center\":[{\"id\":\"4891\"},{\"id\":\"4895\"},{\"id\":\"4927\"}],\"height\":450,\"left\":[{\"id\":\"4892\"}],\"outline_line_alpha\":0.25,\"outline_line_color\":\"#E0E0E0\",\"outline_line_width\":3,\"renderers\":[{\"id\":\"4915\"},{\"id\":\"4935\"},{\"id\":\"4941\"},{\"id\":\"4947\"},{\"id\":\"4953\"},{\"id\":\"4959\"},{\"id\":\"4965\"},{\"id\":\"4971\"},{\"id\":\"4977\"},{\"id\":\"4983\"},{\"id\":\"4989\"},{\"id\":\"4995\"},{\"id\":\"5001\"},{\"id\":\"5007\"},{\"id\":\"5013\"},{\"id\":\"5019\"},{\"id\":\"5025\"},{\"id\":\"5031\"},{\"id\":\"5037\"},{\"id\":\"5043\"},{\"id\":\"5049\"},{\"id\":\"5055\"},{\"id\":\"5061\"},{\"id\":\"5067\"},{\"id\":\"5073\"},{\"id\":\"5079\"},{\"id\":\"5085\"},{\"id\":\"5091\"},{\"id\":\"5097\"},{\"id\":\"5103\"},{\"id\":\"5109\"},{\"id\":\"5115\"},{\"id\":\"5121\"},{\"id\":\"5127\"},{\"id\":\"5133\"},{\"id\":\"5139\"},{\"id\":\"5145\"},{\"id\":\"5151\"},{\"id\":\"5157\"},{\"id\":\"5163\"},{\"id\":\"5169\"},{\"id\":\"5175\"},{\"id\":\"5181\"},{\"id\":\"5187\"},{\"id\":\"5193\"},{\"id\":\"5199\"},{\"id\":\"5205\"},{\"id\":\"5211\"},{\"id\":\"5217\"},{\"id\":\"5223\"},{\"id\":\"5229\"}],\"right\":[{\"id\":\"4927\"}],\"title\":{\"id\":\"4878\"},\"toolbar\":{\"id\":\"4903\"},\"width\":700,\"x_range\":{\"id\":\"4929\"},\"x_scale\":{\"id\":\"4884\"},\"y_range\":{\"id\":\"4930\"},\"y_scale\":{\"id\":\"4886\"}},\"id\":\"4877\",\"subtype\":\"Figure\",\"type\":\"Plot\"},{\"attributes\":{\"tools\":[{\"id\":\"4896\"},{\"id\":\"4897\"},{\"id\":\"4898\"},{\"id\":\"4899\"},{\"id\":\"4900\"},{\"id\":\"4901\"}]},\"id\":\"4903\",\"type\":\"Toolbar\"},{\"attributes\":{},\"id\":\"5307\",\"type\":\"Selection\"},{\"attributes\":{},\"id\":\"4923\",\"type\":\"AllLabels\"},{\"attributes\":{},\"id\":\"5289\",\"type\":\"Selection\"},{\"attributes\":{},\"id\":\"4922\",\"type\":\"BasicTickFormatter\"},{\"attributes\":{},\"id\":\"5328\",\"type\":\"UnionRenderers\"},{\"attributes\":{},\"id\":\"5338\",\"type\":\"UnionRenderers\"},{\"attributes\":{\"line_alpha\":0.2,\"line_color\":\"#EFF821\",\"line_dash\":[6],\"line_width\":4,\"x\":{\"field\":\"x\"},\"y\":{\"field\":\"y\"}},\"id\":\"5228\",\"type\":\"Line\"},{\"attributes\":{},\"id\":\"5329\",\"type\":\"Selection\"},{\"attributes\":{},\"id\":\"5251\",\"type\":\"Selection\"},{\"attributes\":{},\"id\":\"5275\",\"type\":\"Selection\"},{\"attributes\":{},\"id\":\"5274\",\"type\":\"UnionRenderers\"},{\"attributes\":{},\"id\":\"5300\",\"type\":\"UnionRenderers\"},{\"attributes\":{},\"id\":\"5337\",\"type\":\"Selection\"},{\"attributes\":{\"data\":{\"x\":{\"__ndarray__\":\"wrEwSqUt77/Eb4duVprtPw==\",\"dtype\":\"float64\",\"order\":\"little\",\"shape\":[2]},\"y\":{\"__ndarray__\":\"2RmGkMr71z9n4YkMjffgvw==\",\"dtype\":\"float64\",\"order\":\"little\",\"shape\":[2]}},\"selected\":{\"id\":\"5339\"},\"selection_policy\":{\"id\":\"5338\"}},\"id\":\"5219\",\"type\":\"ColumnDataSource\"},{\"attributes\":{},\"id\":\"5258\",\"type\":\"UnionRenderers\"},{\"attributes\":{\"coordinates\":null,\"data_source\":{\"id\":\"5219\"},\"glyph\":{\"id\":\"5220\"},\"group\":null,\"hover_glyph\":null,\"muted_glyph\":{\"id\":\"5222\"},\"nonselection_glyph\":{\"id\":\"5221\"},\"view\":{\"id\":\"5224\"}},\"id\":\"5223\",\"type\":\"GlyphRenderer\"},{\"attributes\":{},\"id\":\"4924\",\"type\":\"UnionRenderers\"},{\"attributes\":{\"source\":{\"id\":\"5219\"}},\"id\":\"5224\",\"type\":\"CDSView\"},{\"attributes\":{},\"id\":\"4925\",\"type\":\"Selection\"},{\"attributes\":{},\"id\":\"5336\",\"type\":\"UnionRenderers\"},{\"attributes\":{\"line_color\":\"#EFF821\",\"line_dash\":[6],\"line_width\":4,\"x\":{\"field\":\"x\"},\"y\":{\"field\":\"y\"}},\"id\":\"5226\",\"type\":\"Line\"},{\"attributes\":{},\"id\":\"4919\",\"type\":\"BasicTickFormatter\"},{\"attributes\":{},\"id\":\"5250\",\"type\":\"UnionRenderers\"},{\"attributes\":{},\"id\":\"5291\",\"type\":\"Selection\"},{\"attributes\":{},\"id\":\"5326\",\"type\":\"UnionRenderers\"},{\"attributes\":{},\"id\":\"4920\",\"type\":\"AllLabels\"},{\"attributes\":{},\"id\":\"5288\",\"type\":\"UnionRenderers\"},{\"attributes\":{},\"id\":\"5335\",\"type\":\"Selection\"},{\"attributes\":{\"coordinates\":null,\"data_source\":{\"id\":\"5123\"},\"glyph\":{\"id\":\"5124\"},\"group\":null,\"hover_glyph\":null,\"muted_glyph\":{\"id\":\"5126\"},\"nonselection_glyph\":{\"id\":\"5125\"},\"view\":{\"id\":\"5128\"}},\"id\":\"5127\",\"type\":\"GlyphRenderer\"},{\"attributes\":{\"line_alpha\":0.2,\"line_color\":\"#EA7356\",\"line_dash\":[6],\"line_width\":4,\"x\":{\"field\":\"x\"},\"y\":{\"field\":\"y\"}},\"id\":\"5126\",\"type\":\"Line\"},{\"attributes\":{\"source\":{\"id\":\"5177\"}},\"id\":\"5182\",\"type\":\"CDSView\"},{\"attributes\":{},\"id\":\"5246\",\"type\":\"UnionRenderers\"},{\"attributes\":{},\"id\":\"5332\",\"type\":\"UnionRenderers\"},{\"attributes\":{},\"id\":\"5259\",\"type\":\"Selection\"},{\"attributes\":{},\"id\":\"5267\",\"type\":\"Selection\"},{\"attributes\":{},\"id\":\"5287\",\"type\":\"Selection\"},{\"attributes\":{},\"id\":\"5330\",\"type\":\"UnionRenderers\"},{\"attributes\":{},\"id\":\"5286\",\"type\":\"UnionRenderers\"},{\"attributes\":{},\"id\":\"5325\",\"type\":\"Selection\"},{\"attributes\":{},\"id\":\"5244\",\"type\":\"UnionRenderers\"},{\"attributes\":{\"line_alpha\":0.2,\"line_color\":\"#0C0786\",\"line_dash\":[6],\"line_width\":4,\"x\":{\"field\":\"x\"},\"y\":{\"field\":\"y\"}},\"id\":\"4934\",\"type\":\"Line\"},{\"attributes\":{\"coordinates\":null,\"data_source\":{\"id\":\"4910\"},\"glyph\":{\"id\":\"4912\"},\"group\":null,\"hover_glyph\":null,\"muted_glyph\":{\"id\":\"4914\"},\"nonselection_glyph\":{\"id\":\"4913\"},\"view\":{\"id\":\"4916\"}},\"id\":\"4915\",\"type\":\"GlyphRenderer\"},{\"attributes\":{},\"id\":\"5245\",\"type\":\"Selection\"},{\"attributes\":{\"source\":{\"id\":\"4910\"}},\"id\":\"4916\",\"type\":\"CDSView\"},{\"attributes\":{\"data\":{\"x\":{\"__ndarray__\":\"wrEwSqUt77/Eb4duVprtPw==\",\"dtype\":\"float64\",\"order\":\"little\",\"shape\":[2]},\"y\":{\"__ndarray__\":\"wonezeq13T/L7y05wE3Zvw==\",\"dtype\":\"float64\",\"order\":\"little\",\"shape\":[2]}},\"selected\":{\"id\":\"5341\"},\"selection_policy\":{\"id\":\"5340\"}},\"id\":\"5225\",\"type\":\"ColumnDataSource\"},{\"attributes\":{},\"id\":\"5298\",\"type\":\"UnionRenderers\"},{\"attributes\":{},\"id\":\"5324\",\"type\":\"UnionRenderers\"},{\"attributes\":{},\"id\":\"5266\",\"type\":\"UnionRenderers\"},{\"attributes\":{},\"id\":\"4901\",\"type\":\"HelpTool\"},{\"attributes\":{\"line_color\":\"#E3675F\",\"line_dash\":[6],\"line_width\":4,\"x\":{\"field\":\"x\"},\"y\":{\"field\":\"y\"}},\"id\":\"5112\",\"type\":\"Line\"},{\"attributes\":{},\"id\":\"5257\",\"type\":\"Selection\"},{\"attributes\":{},\"id\":\"5262\",\"type\":\"UnionRenderers\"},{\"attributes\":{},\"id\":\"5294\",\"type\":\"UnionRenderers\"},{\"attributes\":{\"label\":{\"field\":\"label\"},\"renderers\":[{\"id\":\"4915\"}]},\"id\":\"4928\",\"type\":\"LegendItem\"},{\"attributes\":{},\"id\":\"5256\",\"type\":\"UnionRenderers\"},{\"attributes\":{},\"id\":\"5295\",\"type\":\"Selection\"},{\"attributes\":{\"line_alpha\":0.2,\"line_color\":\"#FDB32E\",\"line_dash\":[6],\"line_width\":4,\"x\":{\"field\":\"x\"},\"y\":{\"field\":\"y\"}},\"id\":\"5180\",\"type\":\"Line\"},{\"attributes\":{\"source\":{\"id\":\"4931\"}},\"id\":\"4936\",\"type\":\"CDSView\"},{\"attributes\":{\"coordinates\":null,\"data_source\":{\"id\":\"5177\"},\"glyph\":{\"id\":\"5178\"},\"group\":null,\"hover_glyph\":null,\"muted_glyph\":{\"id\":\"5180\"},\"nonselection_glyph\":{\"id\":\"5179\"},\"view\":{\"id\":\"5182\"}},\"id\":\"5181\",\"type\":\"GlyphRenderer\"},{\"attributes\":{\"coordinates\":null,\"data_source\":{\"id\":\"4931\"},\"glyph\":{\"id\":\"4932\"},\"group\":null,\"hover_glyph\":null,\"muted_glyph\":{\"id\":\"4934\"},\"nonselection_glyph\":{\"id\":\"4933\"},\"view\":{\"id\":\"4936\"}},\"id\":\"4935\",\"type\":\"GlyphRenderer\"},{\"attributes\":{\"data\":{\"x\":{\"__ndarray__\":\"wrEwSqUt77/Eb4duVprtPw==\",\"dtype\":\"float64\",\"order\":\"little\",\"shape\":[2]},\"y\":{\"__ndarray__\":\"GXh1ewPt3j9KbAnHTIrXvw==\",\"dtype\":\"float64\",\"order\":\"little\",\"shape\":[2]}},\"selected\":{\"id\":\"5325\"},\"selection_policy\":{\"id\":\"5324\"}},\"id\":\"5177\",\"type\":\"ColumnDataSource\"},{\"attributes\":{\"line_color\":\"#FDBB2B\",\"line_dash\":[6],\"line_width\":4,\"x\":{\"field\":\"x\"},\"y\":{\"field\":\"y\"}},\"id\":\"5184\",\"type\":\"Line\"},{\"attributes\":{\"line_color\":\"#1B068C\",\"line_dash\":[6],\"line_width\":4,\"x\":{\"field\":\"x\"},\"y\":{\"field\":\"y\"}},\"id\":\"4938\",\"type\":\"Line\"},{\"attributes\":{\"line_alpha\":0.1,\"line_color\":\"#FCAC32\",\"line_dash\":[6],\"line_width\":4,\"x\":{\"field\":\"x\"},\"y\":{\"field\":\"y\"}},\"id\":\"5173\",\"type\":\"Line\"},{\"attributes\":{\"data\":{\"x\":{\"__ndarray__\":\"wrEwSqUt77/Eb4duVprtPw==\",\"dtype\":\"float64\",\"order\":\"little\",\"shape\":[2]},\"y\":{\"__ndarray__\":\"KTYoMZqnjL+OMwLUU87rPw==\",\"dtype\":\"float64\",\"order\":\"little\",\"shape\":[2]}},\"selected\":{\"id\":\"5243\"},\"selection_policy\":{\"id\":\"5242\"}},\"id\":\"4931\",\"type\":\"ColumnDataSource\"},{\"attributes\":{\"source\":{\"id\":\"5171\"}},\"id\":\"5176\",\"type\":\"CDSView\"},{\"attributes\":{\"overlay\":{\"id\":\"4902\"}},\"id\":\"4898\",\"type\":\"BoxZoomTool\"},{\"attributes\":{\"line_alpha\":0.2,\"line_color\":\"#FCAC32\",\"line_dash\":[6],\"line_width\":4,\"x\":{\"field\":\"x\"},\"y\":{\"field\":\"y\"}},\"id\":\"5174\",\"type\":\"Line\"},{\"attributes\":{},\"id\":\"5278\",\"type\":\"UnionRenderers\"},{\"attributes\":{},\"id\":\"4899\",\"type\":\"SaveTool\"},{\"attributes\":{\"coordinates\":null,\"data_source\":{\"id\":\"5171\"},\"glyph\":{\"id\":\"5172\"},\"group\":null,\"hover_glyph\":null,\"muted_glyph\":{\"id\":\"5174\"},\"nonselection_glyph\":{\"id\":\"5173\"},\"view\":{\"id\":\"5176\"}},\"id\":\"5175\",\"type\":\"GlyphRenderer\"},{\"attributes\":{},\"id\":\"4900\",\"type\":\"ResetTool\"},{\"attributes\":{\"data\":{\"x\":{\"__ndarray__\":\"wrEwSqUt77/Eb4duVprtPw==\",\"dtype\":\"float64\",\"order\":\"little\",\"shape\":[2]},\"y\":{\"__ndarray__\":\"1pXSBjQU2T9z8TiYES3gvw==\",\"dtype\":\"float64\",\"order\":\"little\",\"shape\":[2]}},\"selected\":{\"id\":\"5323\"},\"selection_policy\":{\"id\":\"5322\"}},\"id\":\"5171\",\"type\":\"ColumnDataSource\"},{\"attributes\":{\"line_alpha\":0.2,\"line_color\":\"#1B068C\",\"line_dash\":[6],\"line_width\":4,\"x\":{\"field\":\"x\"},\"y\":{\"field\":\"y\"}},\"id\":\"4940\",\"type\":\"Line\"},{\"attributes\":{\"coordinates\":null,\"data_source\":{\"id\":\"5225\"},\"glyph\":{\"id\":\"5226\"},\"group\":null,\"hover_glyph\":null,\"muted_glyph\":{\"id\":\"5228\"},\"nonselection_glyph\":{\"id\":\"5227\"},\"view\":{\"id\":\"5230\"}},\"id\":\"5229\",\"type\":\"GlyphRenderer\"},{\"attributes\":{\"line_color\":\"#FDB32E\",\"line_dash\":[6],\"line_width\":4,\"x\":{\"field\":\"x\"},\"y\":{\"field\":\"y\"}},\"id\":\"5178\",\"type\":\"Line\"},{\"attributes\":{\"source\":{\"id\":\"4937\"}},\"id\":\"4942\",\"type\":\"CDSView\"},{\"attributes\":{},\"id\":\"5255\",\"type\":\"Selection\"},{\"attributes\":{},\"id\":\"5279\",\"type\":\"Selection\"},{\"attributes\":{\"line_alpha\":0.1,\"line_color\":\"#1B068C\",\"line_dash\":[6],\"line_width\":4,\"x\":{\"field\":\"x\"},\"y\":{\"field\":\"y\"}},\"id\":\"4939\",\"type\":\"Line\"},{\"attributes\":{\"coordinates\":null,\"data_source\":{\"id\":\"5063\"},\"glyph\":{\"id\":\"5064\"},\"group\":null,\"hover_glyph\":null,\"muted_glyph\":{\"id\":\"5066\"},\"nonselection_glyph\":{\"id\":\"5065\"},\"view\":{\"id\":\"5068\"}},\"id\":\"5067\",\"type\":\"GlyphRenderer\"},{\"attributes\":{\"line_color\":\"#2F0495\",\"line_dash\":[6],\"line_width\":4,\"x\":{\"field\":\"x\"},\"y\":{\"field\":\"y\"}},\"id\":\"4950\",\"type\":\"Line\"},{\"attributes\":{\"line_alpha\":0.2,\"line_color\":\"#BD3784\",\"line_dash\":[6],\"line_width\":4,\"x\":{\"field\":\"x\"},\"y\":{\"field\":\"y\"}},\"id\":\"5066\",\"type\":\"Line\"},{\"attributes\":{},\"id\":\"5254\",\"type\":\"UnionRenderers\"},{\"attributes\":{\"data\":{\"x\":{\"__ndarray__\":\"wrEwSqUt77/Eb4duVprtPw==\",\"dtype\":\"float64\",\"order\":\"little\",\"shape\":[2]},\"y\":{\"__ndarray__\":\"rthoaG/y3r8E91/ZVeLrvw==\",\"dtype\":\"float64\",\"order\":\"little\",\"shape\":[2]}},\"selected\":{\"id\":\"5247\"},\"selection_policy\":{\"id\":\"5246\"}},\"id\":\"4943\",\"type\":\"ColumnDataSource\"},{\"attributes\":{\"source\":{\"id\":\"5063\"}},\"id\":\"5068\",\"type\":\"CDSView\"},{\"attributes\":{\"line_color\":\"#4A02A0\",\"line_dash\":[6],\"line_width\":4,\"x\":{\"field\":\"x\"},\"y\":{\"field\":\"y\"}},\"id\":\"4968\",\"type\":\"Line\"},{\"attributes\":{\"line_alpha\":0.1,\"line_color\":\"#BD3784\",\"line_dash\":[6],\"line_width\":4,\"x\":{\"field\":\"x\"},\"y\":{\"field\":\"y\"}},\"id\":\"5065\",\"type\":\"Line\"},{\"attributes\":{\"coordinates\":null,\"data_source\":{\"id\":\"4943\"},\"glyph\":{\"id\":\"4944\"},\"group\":null,\"hover_glyph\":null,\"muted_glyph\":{\"id\":\"4946\"},\"nonselection_glyph\":{\"id\":\"4945\"},\"view\":{\"id\":\"4948\"}},\"id\":\"4947\",\"type\":\"GlyphRenderer\"},{\"attributes\":{\"line_color\":\"#C7427B\",\"line_dash\":[6],\"line_width\":4,\"x\":{\"field\":\"x\"},\"y\":{\"field\":\"y\"}},\"id\":\"5076\",\"type\":\"Line\"},{\"attributes\":{\"line_alpha\":0.2,\"line_color\":\"#250591\",\"line_dash\":[6],\"line_width\":4,\"x\":{\"field\":\"x\"},\"y\":{\"field\":\"y\"}},\"id\":\"4946\",\"type\":\"Line\"},{\"attributes\":{\"data\":{\"x\":{\"__ndarray__\":\"wrEwSqUt77/Eb4duVprtPw==\",\"dtype\":\"float64\",\"order\":\"little\",\"shape\":[2]},\"y\":{\"__ndarray__\":\"9bzeTK+t3T9rAAqQJwbWvw==\",\"dtype\":\"float64\",\"order\":\"little\",\"shape\":[2]}},\"selected\":{\"id\":\"5289\"},\"selection_policy\":{\"id\":\"5288\"}},\"id\":\"5069\",\"type\":\"ColumnDataSource\"},{\"attributes\":{\"source\":{\"id\":\"4943\"}},\"id\":\"4948\",\"type\":\"CDSView\"},{\"attributes\":{\"line_alpha\":0.1,\"line_color\":\"#250591\",\"line_dash\":[6],\"line_width\":4,\"x\":{\"field\":\"x\"},\"y\":{\"field\":\"y\"}},\"id\":\"4945\",\"type\":\"Line\"},{\"attributes\":{},\"id\":\"5299\",\"type\":\"Selection\"},{\"attributes\":{\"coordinates\":null,\"data_source\":{\"id\":\"5069\"},\"glyph\":{\"id\":\"5070\"},\"group\":null,\"hover_glyph\":null,\"muted_glyph\":{\"id\":\"5072\"},\"nonselection_glyph\":{\"id\":\"5071\"},\"view\":{\"id\":\"5074\"}},\"id\":\"5073\",\"type\":\"GlyphRenderer\"},{\"attributes\":{\"line_color\":\"#380499\",\"line_dash\":[6],\"line_width\":4,\"x\":{\"field\":\"x\"},\"y\":{\"field\":\"y\"}},\"id\":\"4956\",\"type\":\"Line\"},{\"attributes\":{\"data\":{\"x\":{\"__ndarray__\":\"wrEwSqUt77/Eb4duVprtPw==\",\"dtype\":\"float64\",\"order\":\"little\",\"shape\":[2]},\"y\":{\"__ndarray__\":\"h6aJtaUj1z88TY/RlNngvw==\",\"dtype\":\"float64\",\"order\":\"little\",\"shape\":[2]}},\"selected\":{\"id\":\"5307\"},\"selection_policy\":{\"id\":\"5306\"}},\"id\":\"5123\",\"type\":\"ColumnDataSource\"},{\"attributes\":{},\"id\":\"5310\",\"type\":\"UnionRenderers\"},{\"attributes\":{\"data\":{\"x\":{\"__ndarray__\":\"wrEwSqUt77/Eb4duVprtPw==\",\"dtype\":\"float64\",\"order\":\"little\",\"shape\":[2]},\"y\":{\"__ndarray__\":\"yvIW31C/3j9RNcnUYEm2Pw==\",\"dtype\":\"float64\",\"order\":\"little\",\"shape\":[2]}},\"selected\":{\"id\":\"5249\"},\"selection_policy\":{\"id\":\"5248\"}},\"id\":\"4949\",\"type\":\"ColumnDataSource\"},{\"attributes\":{},\"id\":\"5341\",\"type\":\"Selection\"},{\"attributes\":{\"line_color\":\"#ED7952\",\"line_dash\":[6],\"line_width\":4,\"x\":{\"field\":\"x\"},\"y\":{\"field\":\"y\"}},\"id\":\"5130\",\"type\":\"Line\"},{\"attributes\":{\"line_alpha\":0.1,\"line_color\":\"#E66D5A\",\"line_dash\":[6],\"line_width\":4,\"x\":{\"field\":\"x\"},\"y\":{\"field\":\"y\"}},\"id\":\"5119\",\"type\":\"Line\"},{\"attributes\":{\"data\":{\"x\":{\"__ndarray__\":\"wrEwSqUt77/Eb4duVprtPw==\",\"dtype\":\"float64\",\"order\":\"little\",\"shape\":[2]},\"y\":{\"__ndarray__\":\"Ue/ftKBxwj9CTrHPjwzYvw==\",\"dtype\":\"float64\",\"order\":\"little\",\"shape\":[2]}},\"selected\":{\"id\":\"5251\"},\"selection_policy\":{\"id\":\"5250\"}},\"id\":\"4955\",\"type\":\"ColumnDataSource\"},{\"attributes\":{\"source\":{\"id\":\"5117\"}},\"id\":\"5122\",\"type\":\"CDSView\"},{\"attributes\":{},\"id\":\"5340\",\"type\":\"UnionRenderers\"},{\"attributes\":{\"line_alpha\":0.2,\"line_color\":\"#2F0495\",\"line_dash\":[6],\"line_width\":4,\"x\":{\"field\":\"x\"},\"y\":{\"field\":\"y\"}},\"id\":\"4952\",\"type\":\"Line\"},{\"attributes\":{\"line_alpha\":0.1,\"line_color\":\"#FDB32E\",\"line_dash\":[6],\"line_width\":4,\"x\":{\"field\":\"x\"},\"y\":{\"field\":\"y\"}},\"id\":\"5179\",\"type\":\"Line\"},{\"attributes\":{},\"id\":\"5312\",\"type\":\"UnionRenderers\"},{\"attributes\":{\"coordinates\":null,\"data_source\":{\"id\":\"4949\"},\"glyph\":{\"id\":\"4950\"},\"group\":null,\"hover_glyph\":null,\"muted_glyph\":{\"id\":\"4952\"},\"nonselection_glyph\":{\"id\":\"4951\"},\"view\":{\"id\":\"4954\"}},\"id\":\"4953\",\"type\":\"GlyphRenderer\"},{\"attributes\":{\"line_alpha\":0.2,\"line_color\":\"#E66D5A\",\"line_dash\":[6],\"line_width\":4,\"x\":{\"field\":\"x\"},\"y\":{\"field\":\"y\"}},\"id\":\"5120\",\"type\":\"Line\"},{\"attributes\":{\"line_alpha\":0.1,\"line_color\":\"#2F0495\",\"line_dash\":[6],\"line_width\":4,\"x\":{\"field\":\"x\"},\"y\":{\"field\":\"y\"}},\"id\":\"4951\",\"type\":\"Line\"},{\"attributes\":{\"coordinates\":null,\"data_source\":{\"id\":\"5117\"},\"glyph\":{\"id\":\"5118\"},\"group\":null,\"hover_glyph\":null,\"muted_glyph\":{\"id\":\"5120\"},\"nonselection_glyph\":{\"id\":\"5119\"},\"view\":{\"id\":\"5122\"}},\"id\":\"5121\",\"type\":\"GlyphRenderer\"},{\"attributes\":{\"line_color\":\"#42039D\",\"line_dash\":[6],\"line_width\":4,\"x\":{\"field\":\"x\"},\"y\":{\"field\":\"y\"}},\"id\":\"4962\",\"type\":\"Line\"},{\"attributes\":{\"coordinates\":null,\"data_source\":{\"id\":\"5057\"},\"glyph\":{\"id\":\"5058\"},\"group\":null,\"hover_glyph\":null,\"muted_glyph\":{\"id\":\"5060\"},\"nonselection_glyph\":{\"id\":\"5059\"},\"view\":{\"id\":\"5062\"}},\"id\":\"5061\",\"type\":\"GlyphRenderer\"},{\"attributes\":{},\"id\":\"5308\",\"type\":\"UnionRenderers\"},{\"attributes\":{\"line_alpha\":0.2,\"line_color\":\"#B83289\",\"line_dash\":[6],\"line_width\":4,\"x\":{\"field\":\"x\"},\"y\":{\"field\":\"y\"}},\"id\":\"5060\",\"type\":\"Line\"},{\"attributes\":{\"source\":{\"id\":\"5057\"}},\"id\":\"5062\",\"type\":\"CDSView\"},{\"attributes\":{\"line_alpha\":0.1,\"line_color\":\"#B83289\",\"line_dash\":[6],\"line_width\":4,\"x\":{\"field\":\"x\"},\"y\":{\"field\":\"y\"}},\"id\":\"5059\",\"type\":\"Line\"},{\"attributes\":{\"line_color\":\"#C23D80\",\"line_dash\":[6],\"line_width\":4,\"x\":{\"field\":\"x\"},\"y\":{\"field\":\"y\"}},\"id\":\"5070\",\"type\":\"Line\"},{\"attributes\":{\"data\":{\"x\":{\"__ndarray__\":\"wrEwSqUt77/Eb4duVprtPw==\",\"dtype\":\"float64\",\"order\":\"little\",\"shape\":[2]},\"y\":{\"__ndarray__\":\"KTfoSr8X1j91Zl7zmI3gvw==\",\"dtype\":\"float64\",\"order\":\"little\",\"shape\":[2]}},\"selected\":{\"id\":\"5287\"},\"selection_policy\":{\"id\":\"5286\"}},\"id\":\"5063\",\"type\":\"ColumnDataSource\"},{\"attributes\":{\"coordinates\":null,\"data_source\":{\"id\":\"5195\"},\"glyph\":{\"id\":\"5196\"},\"group\":null,\"hover_glyph\":null,\"muted_glyph\":{\"id\":\"5198\"},\"nonselection_glyph\":{\"id\":\"5197\"},\"view\":{\"id\":\"5200\"}},\"id\":\"5199\",\"type\":\"GlyphRenderer\"},{\"attributes\":{\"data\":{\"x\":{\"__ndarray__\":\"wrEwSqUt77/Eb4duVprtPw==\",\"dtype\":\"float64\",\"order\":\"little\",\"shape\":[2]},\"y\":{\"__ndarray__\":\"8aPbm12o2D8+akRfkdLfvw==\",\"dtype\":\"float64\",\"order\":\"little\",\"shape\":[2]}},\"selected\":{\"id\":\"5331\"},\"selection_policy\":{\"id\":\"5330\"}},\"id\":\"5195\",\"type\":\"ColumnDataSource\"},{\"attributes\":{\"line_color\":\"#FAD524\",\"line_dash\":[6],\"line_width\":4,\"x\":{\"field\":\"x\"},\"y\":{\"field\":\"y\"}},\"id\":\"5202\",\"type\":\"Line\"},{\"attributes\":{},\"id\":\"5318\",\"type\":\"UnionRenderers\"},{\"attributes\":{\"line_alpha\":0.1,\"line_color\":\"#FDC328\",\"line_dash\":[6],\"line_width\":4,\"x\":{\"field\":\"x\"},\"y\":{\"field\":\"y\"}},\"id\":\"5191\",\"type\":\"Line\"},{\"attributes\":{},\"id\":\"5309\",\"type\":\"Selection\"},{\"attributes\":{},\"id\":\"5319\",\"type\":\"Selection\"},{\"attributes\":{},\"id\":\"5339\",\"type\":\"Selection\"},{\"attributes\":{\"source\":{\"id\":\"5189\"}},\"id\":\"5194\",\"type\":\"CDSView\"},{\"attributes\":{\"line_alpha\":0.2,\"line_color\":\"#C23D80\",\"line_dash\":[6],\"line_width\":4,\"x\":{\"field\":\"x\"},\"y\":{\"field\":\"y\"}},\"id\":\"5072\",\"type\":\"Line\"},{\"attributes\":{\"source\":{\"id\":\"5069\"}},\"id\":\"5074\",\"type\":\"CDSView\"},{\"attributes\":{\"line_alpha\":0.1,\"line_color\":\"#C23D80\",\"line_dash\":[6],\"line_width\":4,\"x\":{\"field\":\"x\"},\"y\":{\"field\":\"y\"}},\"id\":\"5071\",\"type\":\"Line\"},{\"attributes\":{\"coordinates\":null,\"group\":null,\"text\":\"Observations\",\"text_color\":\"#E0E0E0\",\"text_font\":\"Josefin Sans\",\"text_font_size\":\"2.1em\"},\"id\":\"4878\",\"type\":\"Title\"},{\"attributes\":{\"line_color\":\"#CD4975\",\"line_dash\":[6],\"line_width\":4,\"x\":{\"field\":\"x\"},\"y\":{\"field\":\"y\"}},\"id\":\"5082\",\"type\":\"Line\"},{\"attributes\":{\"data\":{\"x\":{\"__ndarray__\":\"wrEwSqUt77/Eb4duVprtPw==\",\"dtype\":\"float64\",\"order\":\"little\",\"shape\":[2]},\"y\":{\"__ndarray__\":\"YX1x0jbM1T9FyHzXKFjgvw==\",\"dtype\":\"float64\",\"order\":\"little\",\"shape\":[2]}},\"selected\":{\"id\":\"5291\"},\"selection_policy\":{\"id\":\"5290\"}},\"id\":\"5075\",\"type\":\"ColumnDataSource\"},{\"attributes\":{},\"id\":\"5243\",\"type\":\"Selection\"},{\"attributes\":{\"line_color\":\"#F3EE26\",\"line_dash\":[6],\"line_width\":4,\"x\":{\"field\":\"x\"},\"y\":{\"field\":\"y\"}},\"id\":\"5220\",\"type\":\"Line\"},{\"attributes\":{},\"id\":\"5285\",\"type\":\"Selection\"},{\"attributes\":{},\"id\":\"4896\",\"type\":\"PanTool\"},{\"attributes\":{\"coordinates\":null,\"data_source\":{\"id\":\"5075\"},\"glyph\":{\"id\":\"5076\"},\"group\":null,\"hover_glyph\":null,\"muted_glyph\":{\"id\":\"5078\"},\"nonselection_glyph\":{\"id\":\"5077\"},\"view\":{\"id\":\"5080\"}},\"id\":\"5079\",\"type\":\"GlyphRenderer\"},{\"attributes\":{},\"id\":\"5242\",\"type\":\"UnionRenderers\"},{\"attributes\":{},\"id\":\"4897\",\"type\":\"WheelZoomTool\"},{\"attributes\":{\"line_alpha\":0.2,\"line_color\":\"#C7427B\",\"line_dash\":[6],\"line_width\":4,\"x\":{\"field\":\"x\"},\"y\":{\"field\":\"y\"}},\"id\":\"5078\",\"type\":\"Line\"},{\"attributes\":{\"source\":{\"id\":\"5075\"}},\"id\":\"5080\",\"type\":\"CDSView\"},{\"attributes\":{\"line_alpha\":0.1,\"line_color\":\"#FBA337\",\"line_dash\":[6],\"line_width\":4,\"x\":{\"field\":\"x\"},\"y\":{\"field\":\"y\"}},\"id\":\"5167\",\"type\":\"Line\"},{\"attributes\":{\"source\":{\"id\":\"5165\"}},\"id\":\"5170\",\"type\":\"CDSView\"},{\"attributes\":{\"line_alpha\":0.2,\"line_color\":\"#FBA337\",\"line_dash\":[6],\"line_width\":4,\"x\":{\"field\":\"x\"},\"y\":{\"field\":\"y\"}},\"id\":\"5168\",\"type\":\"Line\"},{\"attributes\":{\"coordinates\":null,\"data_source\":{\"id\":\"5165\"},\"glyph\":{\"id\":\"5166\"},\"group\":null,\"hover_glyph\":null,\"muted_glyph\":{\"id\":\"5168\"},\"nonselection_glyph\":{\"id\":\"5167\"},\"view\":{\"id\":\"5170\"}},\"id\":\"5169\",\"type\":\"GlyphRenderer\"},{\"attributes\":{},\"id\":\"4893\",\"type\":\"BasicTicker\"},{\"attributes\":{\"data\":{\"x\":{\"__ndarray__\":\"wrEwSqUt77/Eb4duVprtPw==\",\"dtype\":\"float64\",\"order\":\"little\",\"shape\":[2]},\"y\":{\"__ndarray__\":\"+2m7A9Lm2z+DLr5JJ4fXvw==\",\"dtype\":\"float64\",\"order\":\"little\",\"shape\":[2]}},\"selected\":{\"id\":\"5321\"},\"selection_policy\":{\"id\":\"5320\"}},\"id\":\"5165\",\"type\":\"ColumnDataSource\"},{\"attributes\":{\"axis\":{\"id\":\"4892\"},\"coordinates\":null,\"dimension\":1,\"grid_line_alpha\":0.15,\"grid_line_color\":\"#E0E0E0\",\"group\":null,\"ticker\":null},\"id\":\"4895\",\"type\":\"Grid\"},{\"attributes\":{\"line_color\":\"#FCAC32\",\"line_dash\":[6],\"line_width\":4,\"x\":{\"field\":\"x\"},\"y\":{\"field\":\"y\"}},\"id\":\"5172\",\"type\":\"Line\"},{\"attributes\":{\"line_alpha\":0.1,\"line_color\":\"#FA9C3B\",\"line_dash\":[6],\"line_width\":4,\"x\":{\"field\":\"x\"},\"y\":{\"field\":\"y\"}},\"id\":\"5161\",\"type\":\"Line\"},{\"attributes\":{\"source\":{\"id\":\"5159\"}},\"id\":\"5164\",\"type\":\"CDSView\"},{\"attributes\":{\"source\":{\"id\":\"5015\"}},\"id\":\"5020\",\"type\":\"CDSView\"},{\"attributes\":{\"line_alpha\":0.2,\"line_color\":\"#FA9C3B\",\"line_dash\":[6],\"line_width\":4,\"x\":{\"field\":\"x\"},\"y\":{\"field\":\"y\"}},\"id\":\"5162\",\"type\":\"Line\"},{\"attributes\":{\"end\":0.988288431694486,\"start\":-0.9976408194605686},\"id\":\"4930\",\"type\":\"Range1d\"},{\"attributes\":{\"line_alpha\":0.1,\"line_color\":\"#8908A5\",\"line_dash\":[6],\"line_width\":4,\"x\":{\"field\":\"x\"},\"y\":{\"field\":\"y\"}},\"id\":\"5017\",\"type\":\"Line\"},{\"attributes\":{\"coordinates\":null,\"data_source\":{\"id\":\"5159\"},\"glyph\":{\"id\":\"5160\"},\"group\":null,\"hover_glyph\":null,\"muted_glyph\":{\"id\":\"5162\"},\"nonselection_glyph\":{\"id\":\"5161\"},\"view\":{\"id\":\"5164\"}},\"id\":\"5163\",\"type\":\"GlyphRenderer\"},{\"attributes\":{\"line_color\":\"#99149F\",\"line_dash\":[6],\"line_width\":4,\"x\":{\"field\":\"x\"},\"y\":{\"field\":\"y\"}},\"id\":\"5028\",\"type\":\"Line\"},{\"attributes\":{},\"id\":\"5284\",\"type\":\"UnionRenderers\"},{\"attributes\":{\"data\":{\"x\":{\"__ndarray__\":\"wrEwSqUt77/Eb4duVprtPw==\",\"dtype\":\"float64\",\"order\":\"little\",\"shape\":[2]},\"y\":{\"__ndarray__\":\"HlkWSlre3T9VfzT/9vvVvw==\",\"dtype\":\"float64\",\"order\":\"little\",\"shape\":[2]}},\"selected\":{\"id\":\"5273\"},\"selection_policy\":{\"id\":\"5272\"}},\"id\":\"5021\",\"type\":\"ColumnDataSource\"},{\"attributes\":{},\"id\":\"5317\",\"type\":\"Selection\"},{\"attributes\":{\"data\":{\"x\":{\"__ndarray__\":\"wrEwSqUt77/Eb4duVprtPw==\",\"dtype\":\"float64\",\"order\":\"little\",\"shape\":[2]},\"y\":{\"__ndarray__\":\"zHA1ZhS61D88eyQb1/7gvw==\",\"dtype\":\"float64\",\"order\":\"little\",\"shape\":[2]}},\"selected\":{\"id\":\"5319\"},\"selection_policy\":{\"id\":\"5318\"}},\"id\":\"5159\",\"type\":\"ColumnDataSource\"},{\"attributes\":{\"line_color\":\"#FBA337\",\"line_dash\":[6],\"line_width\":4,\"x\":{\"field\":\"x\"},\"y\":{\"field\":\"y\"}},\"id\":\"5166\",\"type\":\"Line\"},{\"attributes\":{\"coordinates\":null,\"data_source\":{\"id\":\"5021\"},\"glyph\":{\"id\":\"5022\"},\"group\":null,\"hover_glyph\":null,\"muted_glyph\":{\"id\":\"5024\"},\"nonselection_glyph\":{\"id\":\"5023\"},\"view\":{\"id\":\"5026\"}},\"id\":\"5025\",\"type\":\"GlyphRenderer\"},{\"attributes\":{\"line_alpha\":0.2,\"line_color\":\"#920FA2\",\"line_dash\":[6],\"line_width\":4,\"x\":{\"field\":\"x\"},\"y\":{\"field\":\"y\"}},\"id\":\"5024\",\"type\":\"Line\"},{\"attributes\":{},\"id\":\"5302\",\"type\":\"UnionRenderers\"},{\"attributes\":{\"source\":{\"id\":\"5021\"}},\"id\":\"5026\",\"type\":\"CDSView\"},{\"attributes\":{\"data\":{\"x\":{\"__ndarray__\":\"wrEwSqUt77/Eb4duVprtPw==\",\"dtype\":\"float64\",\"order\":\"little\",\"shape\":[2]},\"y\":{\"__ndarray__\":\"fhfsaJ622z81ZWw3sD/Xvw==\",\"dtype\":\"float64\",\"order\":\"little\",\"shape\":[2]}},\"selected\":{\"id\":\"5301\"},\"selection_policy\":{\"id\":\"5300\"}},\"id\":\"5105\",\"type\":\"ColumnDataSource\"},{\"attributes\":{\"line_alpha\":0.1,\"line_color\":\"#920FA2\",\"line_dash\":[6],\"line_width\":4,\"x\":{\"field\":\"x\"},\"y\":{\"field\":\"y\"}},\"id\":\"5023\",\"type\":\"Line\"},{\"attributes\":{\"line_color\":\"#9F1A9B\",\"line_dash\":[6],\"line_width\":4,\"x\":{\"field\":\"x\"},\"y\":{\"field\":\"y\"}},\"id\":\"5034\",\"type\":\"Line\"},{\"attributes\":{\"source\":{\"id\":\"5225\"}},\"id\":\"5230\",\"type\":\"CDSView\"},{\"attributes\":{\"axis_label\":\"y\",\"axis_label_standoff\":10,\"axis_label_text_color\":\"#FFFFFF\",\"axis_label_text_font\":\"Josefin Sans\",\"axis_label_text_font_size\":\"1.9em\",\"axis_label_text_font_style\":\"bold\",\"axis_line_alpha\":0.4,\"axis_line_color\":\"#E0E0E0\",\"coordinates\":null,\"formatter\":{\"id\":\"4919\"},\"group\":null,\"major_label_policy\":{\"id\":\"4920\"},\"major_label_text_color\":\"#E0E0E0\",\"major_label_text_font\":\"Josefin Sans\",\"major_label_text_font_size\":\"1.15em\",\"major_tick_line_alpha\":0.4,\"major_tick_line_color\":\"#E0E0E0\",\"minor_tick_line_alpha\":0.4,\"minor_tick_line_color\":\"#E0E0E0\",\"ticker\":{\"id\":\"4893\"}},\"id\":\"4892\",\"type\":\"LinearAxis\"},{\"attributes\":{\"data\":{\"x\":{\"__ndarray__\":\"wrEwSqUt77/Eb4duVprtPw==\",\"dtype\":\"float64\",\"order\":\"little\",\"shape\":[2]},\"y\":{\"__ndarray__\":\"k83XeYC01T95kfdWPITgvw==\",\"dtype\":\"float64\",\"order\":\"little\",\"shape\":[2]}},\"selected\":{\"id\":\"5275\"},\"selection_policy\":{\"id\":\"5274\"}},\"id\":\"5027\",\"type\":\"ColumnDataSource\"},{\"attributes\":{\"data\":{\"x\":{\"__ndarray__\":\"wrEwSqUt77/Eb4duVprtPw==\",\"dtype\":\"float64\",\"order\":\"little\",\"shape\":[2]},\"y\":{\"__ndarray__\":\"ZhyS5lMB2T9CdTRlPV7gvw==\",\"dtype\":\"float64\",\"order\":\"little\",\"shape\":[2]}},\"selected\":{\"id\":\"5295\"},\"selection_policy\":{\"id\":\"5294\"}},\"id\":\"5087\",\"type\":\"ColumnDataSource\"},{\"attributes\":{\"coordinates\":null,\"data_source\":{\"id\":\"5027\"},\"glyph\":{\"id\":\"5028\"},\"group\":null,\"hover_glyph\":null,\"muted_glyph\":{\"id\":\"5030\"},\"nonselection_glyph\":{\"id\":\"5029\"},\"view\":{\"id\":\"5032\"}},\"id\":\"5031\",\"type\":\"GlyphRenderer\"},{\"attributes\":{\"line_alpha\":0.2,\"line_color\":\"#99149F\",\"line_dash\":[6],\"line_width\":4,\"x\":{\"field\":\"x\"},\"y\":{\"field\":\"y\"}},\"id\":\"5030\",\"type\":\"Line\"},{\"attributes\":{\"data\":{\"x\":{\"__ndarray__\":\"wrEwSqUt77/Eb4duVprtPw==\",\"dtype\":\"float64\",\"order\":\"little\",\"shape\":[2]},\"y\":{\"__ndarray__\":\"Mx903qUP3j9evmseP1HWvw==\",\"dtype\":\"float64\",\"order\":\"little\",\"shape\":[2]}},\"selected\":{\"id\":\"5285\"},\"selection_policy\":{\"id\":\"5284\"}},\"id\":\"5057\",\"type\":\"ColumnDataSource\"},{\"attributes\":{\"source\":{\"id\":\"5027\"}},\"id\":\"5032\",\"type\":\"CDSView\"},{\"attributes\":{\"line_alpha\":0.1,\"line_color\":\"#99149F\",\"line_dash\":[6],\"line_width\":4,\"x\":{\"field\":\"x\"},\"y\":{\"field\":\"y\"}},\"id\":\"5029\",\"type\":\"Line\"},{\"attributes\":{\"source\":{\"id\":\"5123\"}},\"id\":\"5128\",\"type\":\"CDSView\"},{\"attributes\":{\"coordinates\":null,\"data_source\":{\"id\":\"5033\"},\"glyph\":{\"id\":\"5034\"},\"group\":null,\"hover_glyph\":null,\"muted_glyph\":{\"id\":\"5036\"},\"nonselection_glyph\":{\"id\":\"5035\"},\"view\":{\"id\":\"5038\"}},\"id\":\"5037\",\"type\":\"GlyphRenderer\"},{\"attributes\":{\"line_color\":\"#D6556D\",\"line_dash\":[6],\"line_width\":4,\"x\":{\"field\":\"x\"},\"y\":{\"field\":\"y\"}},\"id\":\"5094\",\"type\":\"Line\"},{\"attributes\":{},\"id\":\"5301\",\"type\":\"Selection\"},{\"attributes\":{\"end\":0.9250900419970027,\"start\":-0.9743219803836427},\"id\":\"4929\",\"type\":\"Range1d\"},{\"attributes\":{\"line_alpha\":0.2,\"line_color\":\"#9F1A9B\",\"line_dash\":[6],\"line_width\":4,\"x\":{\"field\":\"x\"},\"y\":{\"field\":\"y\"}},\"id\":\"5036\",\"type\":\"Line\"},{\"attributes\":{\"line_alpha\":0.1,\"line_color\":\"#CD4975\",\"line_dash\":[6],\"line_width\":4,\"x\":{\"field\":\"x\"},\"y\":{\"field\":\"y\"}},\"id\":\"5083\",\"type\":\"Line\"},{\"attributes\":{\"source\":{\"id\":\"5033\"}},\"id\":\"5038\",\"type\":\"CDSView\"},{\"attributes\":{\"source\":{\"id\":\"5081\"}},\"id\":\"5086\",\"type\":\"CDSView\"},{\"attributes\":{},\"id\":\"5282\",\"type\":\"UnionRenderers\"},{\"attributes\":{\"line_alpha\":0.1,\"line_color\":\"#9F1A9B\",\"line_dash\":[6],\"line_width\":4,\"x\":{\"field\":\"x\"},\"y\":{\"field\":\"y\"}},\"id\":\"5035\",\"type\":\"Line\"},{\"attributes\":{\"line_alpha\":0.1,\"line_color\":\"#EA7356\",\"line_dash\":[6],\"line_width\":4,\"x\":{\"field\":\"x\"},\"y\":{\"field\":\"y\"}},\"id\":\"5125\",\"type\":\"Line\"},{\"attributes\":{},\"id\":\"5303\",\"type\":\"Selection\"},{\"attributes\":{\"line_color\":\"#AC2593\",\"line_dash\":[6],\"line_width\":4,\"x\":{\"field\":\"x\"},\"y\":{\"field\":\"y\"}},\"id\":\"5046\",\"type\":\"Line\"},{\"attributes\":{},\"id\":\"5304\",\"type\":\"UnionRenderers\"},{\"attributes\":{\"line_alpha\":0.2,\"line_color\":\"#FCCB25\",\"line_dash\":[6],\"line_width\":4,\"x\":{\"field\":\"x\"},\"y\":{\"field\":\"y\"}},\"id\":\"5198\",\"type\":\"Line\"},{\"attributes\":{\"data\":{\"x\":{\"__ndarray__\":\"wrEwSqUt77/Eb4duVprtPw==\",\"dtype\":\"float64\",\"order\":\"little\",\"shape\":[2]},\"y\":{\"__ndarray__\":\"MhQk201o1T9Mt6k6n03gvw==\",\"dtype\":\"float64\",\"order\":\"little\",\"shape\":[2]}},\"selected\":{\"id\":\"5279\"},\"selection_policy\":{\"id\":\"5278\"}},\"id\":\"5039\",\"type\":\"ColumnDataSource\"},{\"attributes\":{},\"id\":\"5321\",\"type\":\"Selection\"},{\"attributes\":{},\"id\":\"5283\",\"type\":\"Selection\"},{\"attributes\":{\"line_color\":\"#F0804D\",\"line_dash\":[6],\"line_width\":4,\"x\":{\"field\":\"x\"},\"y\":{\"field\":\"y\"}},\"id\":\"5136\",\"type\":\"Line\"},{\"attributes\":{\"data\":{\"x\":{\"__ndarray__\":\"wrEwSqUt77/Eb4duVprtPw==\",\"dtype\":\"float64\",\"order\":\"little\",\"shape\":[2]},\"y\":{\"__ndarray__\":\"tN7Fl1oq3T9Y/rdT96PYvw==\",\"dtype\":\"float64\",\"order\":\"little\",\"shape\":[2]}},\"selected\":{\"id\":\"5309\"},\"selection_policy\":{\"id\":\"5308\"}},\"id\":\"5129\",\"type\":\"ColumnDataSource\"},{\"attributes\":{\"source\":{\"id\":\"5213\"}},\"id\":\"5218\",\"type\":\"CDSView\"},{\"attributes\":{\"coordinates\":null,\"data_source\":{\"id\":\"5039\"},\"glyph\":{\"id\":\"5040\"},\"group\":null,\"hover_glyph\":null,\"muted_glyph\":{\"id\":\"5042\"},\"nonselection_glyph\":{\"id\":\"5041\"},\"view\":{\"id\":\"5044\"}},\"id\":\"5043\",\"type\":\"GlyphRenderer\"},{\"attributes\":{},\"id\":\"5281\",\"type\":\"Selection\"},{\"attributes\":{\"line_alpha\":0.2,\"line_color\":\"#A51F97\",\"line_dash\":[6],\"line_width\":4,\"x\":{\"field\":\"x\"},\"y\":{\"field\":\"y\"}},\"id\":\"5042\",\"type\":\"Line\"},{\"attributes\":{\"coordinates\":null,\"data_source\":{\"id\":\"5129\"},\"glyph\":{\"id\":\"5130\"},\"group\":null,\"hover_glyph\":null,\"muted_glyph\":{\"id\":\"5132\"},\"nonselection_glyph\":{\"id\":\"5131\"},\"view\":{\"id\":\"5134\"}},\"id\":\"5133\",\"type\":\"GlyphRenderer\"},{\"attributes\":{\"source\":{\"id\":\"5039\"}},\"id\":\"5044\",\"type\":\"CDSView\"},{\"attributes\":{\"source\":{\"id\":\"5195\"}},\"id\":\"5200\",\"type\":\"CDSView\"},{\"attributes\":{\"line_alpha\":0.1,\"line_color\":\"#A51F97\",\"line_dash\":[6],\"line_width\":4,\"x\":{\"field\":\"x\"},\"y\":{\"field\":\"y\"}},\"id\":\"5041\",\"type\":\"Line\"},{\"attributes\":{\"line_alpha\":0.1,\"line_color\":\"#FCCB25\",\"line_dash\":[6],\"line_width\":4,\"x\":{\"field\":\"x\"},\"y\":{\"field\":\"y\"}},\"id\":\"5197\",\"type\":\"Line\"},{\"attributes\":{\"line_alpha\":0.1,\"line_color\":\"#ED7952\",\"line_dash\":[6],\"line_width\":4,\"x\":{\"field\":\"x\"},\"y\":{\"field\":\"y\"}},\"id\":\"5131\",\"type\":\"Line\"},{\"attributes\":{\"line_color\":\"#B22C8E\",\"line_dash\":[6],\"line_width\":4,\"x\":{\"field\":\"x\"},\"y\":{\"field\":\"y\"}},\"id\":\"5052\",\"type\":\"Line\"},{\"attributes\":{\"line_alpha\":0.2,\"line_color\":\"#ED7952\",\"line_dash\":[6],\"line_width\":4,\"x\":{\"field\":\"x\"},\"y\":{\"field\":\"y\"}},\"id\":\"5132\",\"type\":\"Line\"},{\"attributes\":{\"data\":{\"x\":{\"__ndarray__\":\"wrEwSqUt77/Eb4duVprtPw==\",\"dtype\":\"float64\",\"order\":\"little\",\"shape\":[2]},\"y\":{\"__ndarray__\":\"iiLc6CcZ3T9DAYdk42XVvw==\",\"dtype\":\"float64\",\"order\":\"little\",\"shape\":[2]}},\"selected\":{\"id\":\"5281\"},\"selection_policy\":{\"id\":\"5280\"}},\"id\":\"5045\",\"type\":\"ColumnDataSource\"},{\"attributes\":{\"line_alpha\":0.1,\"line_color\":\"#B22C8E\",\"line_dash\":[6],\"line_width\":4,\"x\":{\"field\":\"x\"},\"y\":{\"field\":\"y\"}},\"id\":\"5053\",\"type\":\"Line\"},{\"attributes\":{\"line_alpha\":0.1,\"line_color\":\"#E3675F\",\"line_dash\":[6],\"line_width\":4,\"x\":{\"field\":\"x\"},\"y\":{\"field\":\"y\"}},\"id\":\"5113\",\"type\":\"Line\"},{\"attributes\":{\"coordinates\":null,\"data_source\":{\"id\":\"5045\"},\"glyph\":{\"id\":\"5046\"},\"group\":null,\"hover_glyph\":null,\"muted_glyph\":{\"id\":\"5048\"},\"nonselection_glyph\":{\"id\":\"5047\"},\"view\":{\"id\":\"5050\"}},\"id\":\"5049\",\"type\":\"GlyphRenderer\"},{\"attributes\":{\"line_alpha\":0.1,\"line_color\":\"#DA5A68\",\"line_dash\":[6],\"line_width\":4,\"x\":{\"field\":\"x\"},\"y\":{\"field\":\"y\"}},\"id\":\"5101\",\"type\":\"Line\"},{\"attributes\":{\"line_alpha\":0.2,\"line_color\":\"#AC2593\",\"line_dash\":[6],\"line_width\":4,\"x\":{\"field\":\"x\"},\"y\":{\"field\":\"y\"}},\"id\":\"5048\",\"type\":\"Line\"},{\"attributes\":{\"source\":{\"id\":\"5099\"}},\"id\":\"5104\",\"type\":\"CDSView\"},{\"attributes\":{\"line_alpha\":0.2,\"line_color\":\"#F8DD24\",\"line_dash\":[6],\"line_width\":4,\"x\":{\"field\":\"x\"},\"y\":{\"field\":\"y\"}},\"id\":\"5210\",\"type\":\"Line\"},{\"attributes\":{\"source\":{\"id\":\"5045\"}},\"id\":\"5050\",\"type\":\"CDSView\"},{\"attributes\":{\"line_alpha\":0.2,\"line_color\":\"#DA5A68\",\"line_dash\":[6],\"line_width\":4,\"x\":{\"field\":\"x\"},\"y\":{\"field\":\"y\"}},\"id\":\"5102\",\"type\":\"Line\"},{\"attributes\":{\"line_alpha\":0.1,\"line_color\":\"#AC2593\",\"line_dash\":[6],\"line_width\":4,\"x\":{\"field\":\"x\"},\"y\":{\"field\":\"y\"}},\"id\":\"5047\",\"type\":\"Line\"},{\"attributes\":{\"coordinates\":null,\"data_source\":{\"id\":\"5099\"},\"glyph\":{\"id\":\"5100\"},\"group\":null,\"hover_glyph\":null,\"muted_glyph\":{\"id\":\"5102\"},\"nonselection_glyph\":{\"id\":\"5101\"},\"view\":{\"id\":\"5104\"}},\"id\":\"5103\",\"type\":\"GlyphRenderer\"},{\"attributes\":{\"coordinates\":null,\"data_source\":{\"id\":\"5051\"},\"glyph\":{\"id\":\"5052\"},\"group\":null,\"hover_glyph\":null,\"muted_glyph\":{\"id\":\"5054\"},\"nonselection_glyph\":{\"id\":\"5053\"},\"view\":{\"id\":\"5056\"}},\"id\":\"5055\",\"type\":\"GlyphRenderer\"},{\"attributes\":{\"data\":{\"x\":{\"__ndarray__\":\"wrEwSqUt77/Eb4duVprtPw==\",\"dtype\":\"float64\",\"order\":\"little\",\"shape\":[2]},\"y\":{\"__ndarray__\":\"zrpbm5fK1z9FQX8XXbrfvw==\",\"dtype\":\"float64\",\"order\":\"little\",\"shape\":[2]}},\"selected\":{\"id\":\"5283\"},\"selection_policy\":{\"id\":\"5282\"}},\"id\":\"5051\",\"type\":\"ColumnDataSource\"},{\"attributes\":{\"data\":{\"x\":{\"__ndarray__\":\"wrEwSqUt77/Eb4duVprtPw==\",\"dtype\":\"float64\",\"order\":\"little\",\"shape\":[2]},\"y\":{\"__ndarray__\":\"hUZtnrFJ1D8yP700pAjhvw==\",\"dtype\":\"float64\",\"order\":\"little\",\"shape\":[2]}},\"selected\":{\"id\":\"5299\"},\"selection_policy\":{\"id\":\"5298\"}},\"id\":\"5099\",\"type\":\"ColumnDataSource\"},{\"attributes\":{\"line_color\":\"#B83289\",\"line_dash\":[6],\"line_width\":4,\"x\":{\"field\":\"x\"},\"y\":{\"field\":\"y\"}},\"id\":\"5058\",\"type\":\"Line\"},{\"attributes\":{\"source\":{\"id\":\"5105\"}},\"id\":\"5110\",\"type\":\"CDSView\"},{\"attributes\":{\"line_alpha\":0.1,\"line_color\":\"#DE6064\",\"line_dash\":[6],\"line_width\":4,\"x\":{\"field\":\"x\"},\"y\":{\"field\":\"y\"}},\"id\":\"5107\",\"type\":\"Line\"},{\"attributes\":{\"bottom_units\":\"screen\",\"coordinates\":null,\"fill_alpha\":0.5,\"fill_color\":\"lightgrey\",\"group\":null,\"left_units\":\"screen\",\"level\":\"overlay\",\"line_alpha\":1.0,\"line_color\":\"black\",\"line_dash\":[4,4],\"line_width\":2,\"right_units\":\"screen\",\"syncable\":false,\"top_units\":\"screen\"},\"id\":\"4902\",\"type\":\"BoxAnnotation\"},{\"attributes\":{\"line_color\":\"#E66D5A\",\"line_dash\":[6],\"line_width\":4,\"x\":{\"field\":\"x\"},\"y\":{\"field\":\"y\"}},\"id\":\"5118\",\"type\":\"Line\"},{\"attributes\":{},\"id\":\"5247\",\"type\":\"Selection\"},{\"attributes\":{\"data\":{\"x\":{\"__ndarray__\":\"wrEwSqUt77/Eb4duVprtPw==\",\"dtype\":\"float64\",\"order\":\"little\",\"shape\":[2]},\"y\":{\"__ndarray__\":\"uE0M9y/K2D9/36+moy/gvw==\",\"dtype\":\"float64\",\"order\":\"little\",\"shape\":[2]}},\"selected\":{\"id\":\"5303\"},\"selection_policy\":{\"id\":\"5302\"}},\"id\":\"5111\",\"type\":\"ColumnDataSource\"},{\"attributes\":{\"line_alpha\":0.2,\"line_color\":\"#F3EE26\",\"line_dash\":[6],\"line_width\":4,\"x\":{\"field\":\"x\"},\"y\":{\"field\":\"y\"}},\"id\":\"5222\",\"type\":\"Line\"},{\"attributes\":{\"client_comm_id\":\"b289126068464d5f839bfac23f31dc45\",\"comm_id\":\"26c4f10443a4479ead865219aa7f1651\",\"plot_id\":\"5231\"},\"id\":\"5784\",\"type\":\"panel.models.comm_manager.CommManager\"},{\"attributes\":{\"fill_alpha\":{\"value\":0.6},\"fill_color\":{\"field\":\"color\"},\"hatch_alpha\":{\"value\":0.6},\"hatch_color\":{\"field\":\"color\"},\"line_alpha\":{\"value\":0.6},\"line_color\":{\"value\":\"white\"},\"size\":{\"value\":10},\"x\":{\"field\":\"x\"},\"y\":{\"field\":\"y\"}},\"id\":\"4912\",\"type\":\"Circle\"},{\"attributes\":{\"coordinates\":null,\"data_source\":{\"id\":\"5111\"},\"glyph\":{\"id\":\"5112\"},\"group\":null,\"hover_glyph\":null,\"muted_glyph\":{\"id\":\"5114\"},\"nonselection_glyph\":{\"id\":\"5113\"},\"view\":{\"id\":\"5116\"}},\"id\":\"5115\",\"type\":\"GlyphRenderer\"},{\"attributes\":{\"line_alpha\":0.2,\"line_color\":\"#E3675F\",\"line_dash\":[6],\"line_width\":4,\"x\":{\"field\":\"x\"},\"y\":{\"field\":\"y\"}},\"id\":\"5114\",\"type\":\"Line\"},{\"attributes\":{},\"id\":\"5280\",\"type\":\"UnionRenderers\"},{\"attributes\":{\"source\":{\"id\":\"5111\"}},\"id\":\"5116\",\"type\":\"CDSView\"},{\"attributes\":{\"line_color\":\"#DE6064\",\"line_dash\":[6],\"line_width\":4,\"x\":{\"field\":\"x\"},\"y\":{\"field\":\"y\"}},\"id\":\"5106\",\"type\":\"Line\"},{\"attributes\":{},\"id\":\"4886\",\"type\":\"LinearScale\"},{\"attributes\":{\"line_alpha\":0.1,\"line_color\":\"#D6556D\",\"line_dash\":[6],\"line_width\":4,\"x\":{\"field\":\"x\"},\"y\":{\"field\":\"y\"}},\"id\":\"5095\",\"type\":\"Line\"},{\"attributes\":{\"source\":{\"id\":\"5093\"}},\"id\":\"5098\",\"type\":\"CDSView\"},{\"attributes\":{},\"id\":\"4884\",\"type\":\"LinearScale\"},{\"attributes\":{\"line_alpha\":0.2,\"line_color\":\"#D6556D\",\"line_dash\":[6],\"line_width\":4,\"x\":{\"field\":\"x\"},\"y\":{\"field\":\"y\"}},\"id\":\"5096\",\"type\":\"Line\"},{\"attributes\":{\"coordinates\":null,\"data_source\":{\"id\":\"4937\"},\"glyph\":{\"id\":\"4938\"},\"group\":null,\"hover_glyph\":null,\"muted_glyph\":{\"id\":\"4940\"},\"nonselection_glyph\":{\"id\":\"4939\"},\"view\":{\"id\":\"4942\"}},\"id\":\"4941\",\"type\":\"GlyphRenderer\"},{\"attributes\":{\"coordinates\":null,\"data_source\":{\"id\":\"5093\"},\"glyph\":{\"id\":\"5094\"},\"group\":null,\"hover_glyph\":null,\"muted_glyph\":{\"id\":\"5096\"},\"nonselection_glyph\":{\"id\":\"5095\"},\"view\":{\"id\":\"5098\"}},\"id\":\"5097\",\"type\":\"GlyphRenderer\"},{\"attributes\":{\"data\":{\"x\":{\"__ndarray__\":\"wrEwSqUt77/Eb4duVprtPw==\",\"dtype\":\"float64\",\"order\":\"little\",\"shape\":[2]},\"y\":{\"__ndarray__\":\"hlWBbd9U6j+KdQzrRfTMPw==\",\"dtype\":\"float64\",\"order\":\"little\",\"shape\":[2]}},\"selected\":{\"id\":\"5245\"},\"selection_policy\":{\"id\":\"5244\"}},\"id\":\"4937\",\"type\":\"ColumnDataSource\"},{\"attributes\":{\"data\":{\"x\":{\"__ndarray__\":\"wrEwSqUt77/Eb4duVprtPw==\",\"dtype\":\"float64\",\"order\":\"little\",\"shape\":[2]},\"y\":{\"__ndarray__\":\"rIQQSdYo3z/fbaaOAHXXvw==\",\"dtype\":\"float64\",\"order\":\"little\",\"shape\":[2]}},\"selected\":{\"id\":\"5297\"},\"selection_policy\":{\"id\":\"5296\"}},\"id\":\"5093\",\"type\":\"ColumnDataSource\"},{\"attributes\":{\"line_color\":\"#250591\",\"line_dash\":[6],\"line_width\":4,\"x\":{\"field\":\"x\"},\"y\":{\"field\":\"y\"}},\"id\":\"4944\",\"type\":\"Line\"},{\"attributes\":{\"line_color\":\"#DA5A68\",\"line_dash\":[6],\"line_width\":4,\"x\":{\"field\":\"x\"},\"y\":{\"field\":\"y\"}},\"id\":\"5100\",\"type\":\"Line\"},{\"attributes\":{\"line_alpha\":0.1,\"line_color\":\"#0C0786\",\"line_dash\":[6],\"line_width\":4,\"x\":{\"field\":\"x\"},\"y\":{\"field\":\"y\"}},\"id\":\"4933\",\"type\":\"Line\"},{\"attributes\":{},\"id\":\"5323\",\"type\":\"Selection\"},{\"attributes\":{\"line_alpha\":0.1,\"line_color\":\"#F6E525\",\"line_dash\":[6],\"line_width\":4,\"x\":{\"field\":\"x\"},\"y\":{\"field\":\"y\"}},\"id\":\"5215\",\"type\":\"Line\"},{\"attributes\":{},\"id\":\"5290\",\"type\":\"UnionRenderers\"},{\"attributes\":{\"data\":{\"x\":{\"__ndarray__\":\"wrEwSqUt77/Eb4duVprtPw==\",\"dtype\":\"float64\",\"order\":\"little\",\"shape\":[2]},\"y\":{\"__ndarray__\":\"ZtNh+ZrU3D8SGQiiQnfYvw==\",\"dtype\":\"float64\",\"order\":\"little\",\"shape\":[2]}},\"selected\":{\"id\":\"5337\"},\"selection_policy\":{\"id\":\"5336\"}},\"id\":\"5213\",\"type\":\"ColumnDataSource\"},{\"attributes\":{},\"id\":\"5269\",\"type\":\"Selection\"},{\"attributes\":{\"line_alpha\":0.2,\"line_color\":\"#F6E525\",\"line_dash\":[6],\"line_width\":4,\"x\":{\"field\":\"x\"},\"y\":{\"field\":\"y\"}},\"id\":\"5216\",\"type\":\"Line\"},{\"attributes\":{\"data\":{\"x\":{\"__ndarray__\":\"wrEwSqUt77/Eb4duVprtPw==\",\"dtype\":\"float64\",\"order\":\"little\",\"shape\":[2]},\"y\":{\"__ndarray__\":\"Zbx4sjpO3T/7dTyTg9/Yvw==\",\"dtype\":\"float64\",\"order\":\"little\",\"shape\":[2]}},\"selected\":{\"id\":\"5329\"},\"selection_policy\":{\"id\":\"5328\"}},\"id\":\"5189\",\"type\":\"ColumnDataSource\"},{\"attributes\":{\"line_color\":\"#FCCB25\",\"line_dash\":[6],\"line_width\":4,\"x\":{\"field\":\"x\"},\"y\":{\"field\":\"y\"}},\"id\":\"5196\",\"type\":\"Line\"},{\"attributes\":{\"line_alpha\":0.1,\"line_color\":\"#D14F71\",\"line_dash\":[6],\"line_width\":4,\"x\":{\"field\":\"x\"},\"y\":{\"field\":\"y\"}},\"id\":\"5089\",\"type\":\"Line\"},{\"attributes\":{\"source\":{\"id\":\"5087\"}},\"id\":\"5092\",\"type\":\"CDSView\"},{\"attributes\":{},\"id\":\"5305\",\"type\":\"Selection\"},{\"attributes\":{\"source\":{\"id\":\"4949\"}},\"id\":\"4954\",\"type\":\"CDSView\"},{\"attributes\":{\"line_alpha\":0.2,\"line_color\":\"#D14F71\",\"line_dash\":[6],\"line_width\":4,\"x\":{\"field\":\"x\"},\"y\":{\"field\":\"y\"}},\"id\":\"5090\",\"type\":\"Line\"},{\"attributes\":{\"coordinates\":null,\"data_source\":{\"id\":\"4955\"},\"glyph\":{\"id\":\"4956\"},\"group\":null,\"hover_glyph\":null,\"muted_glyph\":{\"id\":\"4958\"},\"nonselection_glyph\":{\"id\":\"4957\"},\"view\":{\"id\":\"4960\"}},\"id\":\"4959\",\"type\":\"GlyphRenderer\"},{\"attributes\":{},\"id\":\"5314\",\"type\":\"UnionRenderers\"},{\"attributes\":{\"coordinates\":null,\"data_source\":{\"id\":\"5087\"},\"glyph\":{\"id\":\"5088\"},\"group\":null,\"hover_glyph\":null,\"muted_glyph\":{\"id\":\"5090\"},\"nonselection_glyph\":{\"id\":\"5089\"},\"view\":{\"id\":\"5092\"}},\"id\":\"5091\",\"type\":\"GlyphRenderer\"},{\"attributes\":{\"line_alpha\":0.2,\"line_color\":\"#380499\",\"line_dash\":[6],\"line_width\":4,\"x\":{\"field\":\"x\"},\"y\":{\"field\":\"y\"}},\"id\":\"4958\",\"type\":\"Line\"},{\"attributes\":{\"line_alpha\":0.1,\"line_color\":\"#F89540\",\"line_dash\":[6],\"line_width\":4,\"x\":{\"field\":\"x\"},\"y\":{\"field\":\"y\"}},\"id\":\"5155\",\"type\":\"Line\"},{\"attributes\":{\"source\":{\"id\":\"4955\"}},\"id\":\"4960\",\"type\":\"CDSView\"},{\"attributes\":{\"line_alpha\":0.1,\"line_color\":\"#380499\",\"line_dash\":[6],\"line_width\":4,\"x\":{\"field\":\"x\"},\"y\":{\"field\":\"y\"}},\"id\":\"4957\",\"type\":\"Line\"},{\"attributes\":{\"data\":{\"x\":{\"__ndarray__\":\"wrEwSqUt77/Eb4duVprtPw==\",\"dtype\":\"float64\",\"order\":\"little\",\"shape\":[2]},\"y\":{\"__ndarray__\":\"MjdfVHYU1T+RyB9t3MjQvw==\",\"dtype\":\"float64\",\"order\":\"little\",\"shape\":[2]}},\"selected\":{\"id\":\"5253\"},\"selection_policy\":{\"id\":\"5252\"}},\"id\":\"4961\",\"type\":\"ColumnDataSource\"},{\"attributes\":{\"line_alpha\":0.2,\"line_color\":\"#F89540\",\"line_dash\":[6],\"line_width\":4,\"x\":{\"field\":\"x\"},\"y\":{\"field\":\"y\"}},\"id\":\"5156\",\"type\":\"Line\"},{\"attributes\":{\"line_color\":\"#FA9C3B\",\"line_dash\":[6],\"line_width\":4,\"x\":{\"field\":\"x\"},\"y\":{\"field\":\"y\"}},\"id\":\"5160\",\"type\":\"Line\"},{\"attributes\":{\"data\":{\"x\":{\"__ndarray__\":\"wrEwSqUt77/Eb4duVprtPw==\",\"dtype\":\"float64\",\"order\":\"little\",\"shape\":[2]},\"y\":{\"__ndarray__\":\"62f9gok83z+u5C03K7zXvw==\",\"dtype\":\"float64\",\"order\":\"little\",\"shape\":[2]}},\"selected\":{\"id\":\"5317\"},\"selection_policy\":{\"id\":\"5316\"}},\"id\":\"5153\",\"type\":\"ColumnDataSource\"},{\"attributes\":{\"coordinates\":null,\"data_source\":{\"id\":\"4961\"},\"glyph\":{\"id\":\"4962\"},\"group\":null,\"hover_glyph\":null,\"muted_glyph\":{\"id\":\"4964\"},\"nonselection_glyph\":{\"id\":\"4963\"},\"view\":{\"id\":\"4966\"}},\"id\":\"4965\",\"type\":\"GlyphRenderer\"},{\"attributes\":{\"source\":{\"id\":\"5153\"}},\"id\":\"5158\",\"type\":\"CDSView\"},{\"attributes\":{\"line_alpha\":0.2,\"line_color\":\"#42039D\",\"line_dash\":[6],\"line_width\":4,\"x\":{\"field\":\"x\"},\"y\":{\"field\":\"y\"}},\"id\":\"4964\",\"type\":\"Line\"},{\"attributes\":{\"line_alpha\":0.2,\"line_color\":\"#FDC328\",\"line_dash\":[6],\"line_width\":4,\"x\":{\"field\":\"x\"},\"y\":{\"field\":\"y\"}},\"id\":\"5192\",\"type\":\"Line\"},{\"attributes\":{\"source\":{\"id\":\"4961\"}},\"id\":\"4966\",\"type\":\"CDSView\"},{\"attributes\":{\"coordinates\":null,\"data_source\":{\"id\":\"5189\"},\"glyph\":{\"id\":\"5190\"},\"group\":null,\"hover_glyph\":null,\"muted_glyph\":{\"id\":\"5192\"},\"nonselection_glyph\":{\"id\":\"5191\"},\"view\":{\"id\":\"5194\"}},\"id\":\"5193\",\"type\":\"GlyphRenderer\"},{\"attributes\":{\"line_alpha\":0.1,\"line_color\":\"#42039D\",\"line_dash\":[6],\"line_width\":4,\"x\":{\"field\":\"x\"},\"y\":{\"field\":\"y\"}},\"id\":\"4963\",\"type\":\"Line\"},{\"attributes\":{\"source\":{\"id\":\"5207\"}},\"id\":\"5212\",\"type\":\"CDSView\"},{\"attributes\":{\"data\":{\"x\":{\"__ndarray__\":\"wrEwSqUt77/Eb4duVprtPw==\",\"dtype\":\"float64\",\"order\":\"little\",\"shape\":[2]},\"y\":{\"__ndarray__\":\"zLW06rTd0T+06P0hN0navw==\",\"dtype\":\"float64\",\"order\":\"little\",\"shape\":[2]}},\"selected\":{\"id\":\"5255\"},\"selection_policy\":{\"id\":\"5254\"}},\"id\":\"4967\",\"type\":\"ColumnDataSource\"},{\"attributes\":{\"line_color\":\"#BD3784\",\"line_dash\":[6],\"line_width\":4,\"x\":{\"field\":\"x\"},\"y\":{\"field\":\"y\"}},\"id\":\"5064\",\"type\":\"Line\"},{\"attributes\":{\"axis_label\":\"x\",\"axis_label_standoff\":10,\"axis_label_text_color\":\"#FFFFFF\",\"axis_label_text_font\":\"Josefin Sans\",\"axis_label_text_font_size\":\"1.9em\",\"axis_label_text_font_style\":\"bold\",\"axis_line_alpha\":0.4,\"axis_line_color\":\"#E0E0E0\",\"coordinates\":null,\"formatter\":{\"id\":\"4922\"},\"group\":null,\"major_label_policy\":{\"id\":\"4923\"},\"major_label_text_color\":\"#E0E0E0\",\"major_label_text_font\":\"Josefin Sans\",\"major_label_text_font_size\":\"1.15em\",\"major_tick_line_alpha\":0.4,\"major_tick_line_color\":\"#E0E0E0\",\"minor_tick_line_alpha\":0.4,\"minor_tick_line_color\":\"#E0E0E0\",\"ticker\":{\"id\":\"4889\"}},\"id\":\"4888\",\"type\":\"LinearAxis\"},{\"attributes\":{\"line_color\":\"#5201A3\",\"line_dash\":[6],\"line_width\":4,\"x\":{\"field\":\"x\"},\"y\":{\"field\":\"y\"}},\"id\":\"4974\",\"type\":\"Line\"},{\"attributes\":{\"line_alpha\":0.1,\"line_color\":\"#F8DD24\",\"line_dash\":[6],\"line_width\":4,\"x\":{\"field\":\"x\"},\"y\":{\"field\":\"y\"}},\"id\":\"5209\",\"type\":\"Line\"},{\"attributes\":{\"coordinates\":null,\"data_source\":{\"id\":\"4967\"},\"glyph\":{\"id\":\"4968\"},\"group\":null,\"hover_glyph\":null,\"muted_glyph\":{\"id\":\"4970\"},\"nonselection_glyph\":{\"id\":\"4969\"},\"view\":{\"id\":\"4972\"}},\"id\":\"4971\",\"type\":\"GlyphRenderer\"},{\"attributes\":{\"data\":{\"color\":[\"midnightblue\",\"firebrick\",\"midnightblue\",\"firebrick\",\"midnightblue\",\"midnightblue\",\"midnightblue\",\"firebrick\",\"midnightblue\",\"firebrick\",\"firebrick\",\"firebrick\",\"firebrick\",\"firebrick\",\"firebrick\",\"firebrick\",\"firebrick\",\"midnightblue\",\"firebrick\",\"firebrick\",\"firebrick\",\"midnightblue\",\"midnightblue\",\"firebrick\",\"firebrick\",\"midnightblue\",\"midnightblue\",\"firebrick\",\"midnightblue\",\"midnightblue\",\"midnightblue\",\"midnightblue\",\"midnightblue\",\"firebrick\",\"firebrick\",\"midnightblue\",\"firebrick\",\"firebrick\",\"firebrick\",\"firebrick\",\"firebrick\",\"midnightblue\",\"midnightblue\",\"firebrick\",\"midnightblue\",\"midnightblue\",\"firebrick\",\"midnightblue\",\"firebrick\",\"firebrick\",\"firebrick\",\"firebrick\",\"firebrick\",\"midnightblue\",\"firebrick\",\"firebrick\",\"firebrick\",\"firebrick\",\"midnightblue\",\"midnightblue\",\"firebrick\",\"midnightblue\",\"midnightblue\",\"midnightblue\",\"firebrick\",\"midnightblue\",\"firebrick\",\"firebrick\",\"firebrick\",\"midnightblue\",\"firebrick\",\"firebrick\",\"firebrick\",\"midnightblue\",\"midnightblue\",\"midnightblue\",\"midnightblue\",\"firebrick\",\"firebrick\",\"firebrick\",\"firebrick\",\"midnightblue\",\"midnightblue\",\"midnightblue\",\"midnightblue\",\"midnightblue\",\"firebrick\",\"midnightblue\",\"midnightblue\",\"firebrick\",\"firebrick\",\"midnightblue\",\"midnightblue\",\"firebrick\",\"midnightblue\",\"firebrick\",\"firebrick\",\"midnightblue\",\"midnightblue\",\"midnightblue\"],\"label\":[\"class 1\",\"class 2\",\"class 1\",\"class 2\",\"class 1\",\"class 1\",\"class 1\",\"class 2\",\"class 1\",\"class 2\",\"class 2\",\"class 2\",\"class 2\",\"class 2\",\"class 2\",\"class 2\",\"class 2\",\"class 1\",\"class 2\",\"class 2\",\"class 2\",\"class 1\",\"class 1\",\"class 2\",\"class 2\",\"class 1\",\"class 1\",\"class 2\",\"class 1\",\"class 1\",\"class 1\",\"class 1\",\"class 1\",\"class 2\",\"class 2\",\"class 1\",\"class 2\",\"class 2\",\"class 2\",\"class 2\",\"class 2\",\"class 1\",\"class 1\",\"class 2\",\"class 1\",\"class 1\",\"class 2\",\"class 1\",\"class 2\",\"class 2\",\"class 2\",\"class 2\",\"class 2\",\"class 1\",\"class 2\",\"class 2\",\"class 2\",\"class 2\",\"class 1\",\"class 1\",\"class 2\",\"class 1\",\"class 1\",\"class 1\",\"class 2\",\"class 1\",\"class 2\",\"class 2\",\"class 2\",\"class 1\",\"class 2\",\"class 2\",\"class 2\",\"class 1\",\"class 1\",\"class 1\",\"class 1\",\"class 2\",\"class 2\",\"class 2\",\"class 2\",\"class 1\",\"class 1\",\"class 1\",\"class 1\",\"class 1\",\"class 2\",\"class 1\",\"class 1\",\"class 2\",\"class 2\",\"class 1\",\"class 1\",\"class 2\",\"class 1\",\"class 2\",\"class 2\",\"class 1\",\"class 1\",\"class 1\"],\"x\":{\"__ndarray__\":\"mjnUkPxq4r+A7BXi3lyrPzDUKrTMr9k/zN7l1USM7D+40Xy13ZjTv3hrDKWvT+K/IuqN6UBv7r+eA6Hmfsfmv8S2uwMZpeC/AJy5xBjZYz887M7YySDnP8RIWZfOJeg/XGZeVmdZ2L/A6LGQddfpv54NX35jh+w/4EVlBYomob+8zVV7hSzZP8DaVZAR/Og/Yn9Ws7eL5b8iMFuQfoDpv2AXjpQE6dU/rmcjs3Ow5b/A2vxYC8/gv7BPu3YJntE/eCFQeQDg3j9Y79TWZifFP7JQjoJQ7um/1Cl0XcmX4D+0heeuHOHRP1Th7giL8ew/BgXLg+Vu6D9EdpyaBqbZv6C6qjd/pK8/ABR+G+Jlmj+4KyoHg3TXP1ARpNXv8bW/hLUFp86M6r8gyxpwrU7RP/h3t3Qgrsa/ePLELe5g3D8y2PGOlfvjP4Dae9NYVYg/8tHGOSaz6b/Uf+zE2v/XPzyRYG1h09Q/EKSEWRwStL9ABhL2nOzgvzym7YVXq+O/4K36AhbOwD8gYQh9xkW2P3A8nvN5e+i/+IwaiT1N3r/mHZP02hbrv8Q6QOT12N0/OAqU8krB1z+EWi1fFIXkv0hKRK/8ruA/+IlIvNz14T+EU1PbsCHhP77OtLM1rO6/ygb7nGfv6z8Y7IQW0hnDvyQLwk3lSdY/sCS7r/NytD/Sv3+7yy7ov9LhG39CNOc/kP6CPltVtz8kX65osQHnPwAWKFDVSeO/YPtljsxa5b/Eb4duVprtP0hnyLmK298/qAmgIKEryb+4JhMO0LfMP5ge9WyUrMo/UNGCV9tJsz8oG8U3G8/Ev27E9peZBeG/qILJpYkZ0D8wyXIPUFTkv2jr5WeesdE/YDIlxr5oy7+ILilfL17Hv0Rt8MY6IeY/xACtJT++0r/EZAVhaKTivwCIOwS+mK+/3CgiUbo84L9k/UjkbGDfv6iZmKAEKeo/CO9qqnWxxT+EvNIf2Knpv2yafpQqH96/FLYILge24D+AAQwL9BiKv8KxMEqlLe+/aLTe3BgR1L++7h98lK7ivwzvcXQzg9Q/gosZpP2v6r8=\",\"dtype\":\"float64\",\"order\":\"little\",\"shape\":[100]},\"y\":{\"__ndarray__\":\"wPL5BXqCuT9cmXq8EyPbPzBtGCEfS+W/BjNbKGnS5z+UzM0yayLsv2yhR6JwjeO/sDSOf1L4wr+Yqa1FciPrP5DWQ2zl0bE/8OkSizLa3D8MoQi3G/zSvxidPF7Fe9w/UBpaAa4JyD+Q8jvg8V/rP0hNw9QjPt8/+BgVXHrw1z8wlZIprA6wv+YD+AVNKOi/tM3GkJZp6z8wQav7/vDkPxCoe32uAcS/OGBOjzyRw78kojs17h7Vv7D6Lf6IQMs/1OEE4r9k5z/iI6xElRXrv5gqGRGShdy/YAvRf6cEyz8ill/bilfnv3A+LyygNt2/CNrIAvJZ4r/oVv7O+e3Sv/hCQu7+mdO/jGMXOkrx2D8oYkhHiqDCv65JOgKcEOm/lNfdM4oU5j8AMM005e18v8gy2LQOQOE/5pFMCKuU7D+0qOnQ9qPjP4Q/eEDt1di/kNCPCz5M3L9gwpRhfdLFvzzgej4i/tW/AOPDgkO7c7+YiBgJv9beP3DhkFClleK/yC7e30BZzz+MMDLvYz/tP9Y8pSKaMuU/XpdcxAPH4D/Yn0l5D2rbP0pk8f4IQeW/UJVIEoA/sT+Ol+y1nKTjP1DtSWUXkto/8IvooiOV7j8QSx6sVDXrv1Il9q24Mu+/qJtVX4FVw7+0V8vkXgfvv7jSPTXWuMy/ZtNTGyAD67/E7J2OB0vsP/4p7rZVLOO/mP6Z7a7b4T9ctJOHKeHdP3B3rPGDQtM/PJq1dSr90b+gEZeOmh+gv7i1IHVswcw/XO9EFKyD7z9OJDBoJvDov94ef2DvQ+y/UJOuEXfIwL84RAI/mhzRvwaTpA8PoO8/dIijD4rf5j/EGbqwjP7YPwDho3eyC46/gGampKQQpD/gi1gg5xCgP8hYVdC6B+G/hPYzpVlg5L8u+2gWH//kv8DrUyVkPeY/9GEXF2in279kDz76v+3ovxZAmM8yueA/pvIWsh1/6T/y3O40m7PjvxCmh9cwduC/IFQIpYTzyT8YdWG1eJ7SvwLdrncuKOQ/bHxfDZLK5D/qm5dwrOzvv+CtBx6TSN+/mIVI1xkHxr8=\",\"dtype\":\"float64\",\"order\":\"little\",\"shape\":[100]}},\"selected\":{\"id\":\"4925\"},\"selection_policy\":{\"id\":\"4924\"}},\"id\":\"4910\",\"type\":\"ColumnDataSource\"},{\"attributes\":{\"coordinates\":null,\"data_source\":{\"id\":\"5213\"},\"glyph\":{\"id\":\"5214\"},\"group\":null,\"hover_glyph\":null,\"muted_glyph\":{\"id\":\"5216\"},\"nonselection_glyph\":{\"id\":\"5215\"},\"view\":{\"id\":\"5218\"}},\"id\":\"5217\",\"type\":\"GlyphRenderer\"},{\"attributes\":{\"line_alpha\":0.2,\"line_color\":\"#4A02A0\",\"line_dash\":[6],\"line_width\":4,\"x\":{\"field\":\"x\"},\"y\":{\"field\":\"y\"}},\"id\":\"4970\",\"type\":\"Line\"},{\"attributes\":{\"coordinates\":null,\"data_source\":{\"id\":\"5207\"},\"glyph\":{\"id\":\"5208\"},\"group\":null,\"hover_glyph\":null,\"muted_glyph\":{\"id\":\"5210\"},\"nonselection_glyph\":{\"id\":\"5209\"},\"view\":{\"id\":\"5212\"}},\"id\":\"5211\",\"type\":\"GlyphRenderer\"},{\"attributes\":{\"source\":{\"id\":\"4967\"}},\"id\":\"4972\",\"type\":\"CDSView\"},{\"attributes\":{\"data\":{\"x\":{\"__ndarray__\":\"wrEwSqUt77/Eb4duVprtPw==\",\"dtype\":\"float64\",\"order\":\"little\",\"shape\":[2]},\"y\":{\"__ndarray__\":\"eUWOYPTW3j8kQRKjrkLXvw==\",\"dtype\":\"float64\",\"order\":\"little\",\"shape\":[2]}},\"selected\":{\"id\":\"5305\"},\"selection_policy\":{\"id\":\"5304\"}},\"id\":\"5117\",\"type\":\"ColumnDataSource\"},{\"attributes\":{\"line_alpha\":0.1,\"line_color\":\"#4A02A0\",\"line_dash\":[6],\"line_width\":4,\"x\":{\"field\":\"x\"},\"y\":{\"field\":\"y\"}},\"id\":\"4969\",\"type\":\"Line\"},{\"attributes\":{\"line_color\":\"#EA7356\",\"line_dash\":[6],\"line_width\":4,\"x\":{\"field\":\"x\"},\"y\":{\"field\":\"y\"}},\"id\":\"5124\",\"type\":\"Line\"},{\"attributes\":{\"line_color\":\"#5A00A5\",\"line_dash\":[6],\"line_width\":4,\"x\":{\"field\":\"x\"},\"y\":{\"field\":\"y\"}},\"id\":\"4980\",\"type\":\"Line\"},{\"attributes\":{\"line_alpha\":0.1,\"line_color\":\"#C7427B\",\"line_dash\":[6],\"line_width\":4,\"x\":{\"field\":\"x\"},\"y\":{\"field\":\"y\"}},\"id\":\"5077\",\"type\":\"Line\"},{\"attributes\":{\"data\":{\"x\":{\"__ndarray__\":\"wrEwSqUt77/Eb4duVprtPw==\",\"dtype\":\"float64\",\"order\":\"little\",\"shape\":[2]},\"y\":{\"__ndarray__\":\"TBJ3kuuB1z/SI9nLLy7Wvw==\",\"dtype\":\"float64\",\"order\":\"little\",\"shape\":[2]}},\"selected\":{\"id\":\"5257\"},\"selection_policy\":{\"id\":\"5256\"}},\"id\":\"4973\",\"type\":\"ColumnDataSource\"},{\"attributes\":{\"line_alpha\":0.1,\"line_color\":\"#F68E44\",\"line_dash\":[6],\"line_width\":4,\"x\":{\"field\":\"x\"},\"y\":{\"field\":\"y\"}},\"id\":\"5149\",\"type\":\"Line\"},{\"attributes\":{},\"id\":\"5268\",\"type\":\"UnionRenderers\"},{\"attributes\":{\"source\":{\"id\":\"5147\"}},\"id\":\"5152\",\"type\":\"CDSView\"},{\"attributes\":{\"coordinates\":null,\"data_source\":{\"id\":\"4973\"},\"glyph\":{\"id\":\"4974\"},\"group\":null,\"hover_glyph\":null,\"muted_glyph\":{\"id\":\"4976\"},\"nonselection_glyph\":{\"id\":\"4975\"},\"view\":{\"id\":\"4978\"}},\"id\":\"4977\",\"type\":\"GlyphRenderer\"},{\"attributes\":{\"line_alpha\":0.2,\"line_color\":\"#F68E44\",\"line_dash\":[6],\"line_width\":4,\"x\":{\"field\":\"x\"},\"y\":{\"field\":\"y\"}},\"id\":\"5150\",\"type\":\"Line\"},{\"attributes\":{\"line_alpha\":0.2,\"line_color\":\"#5201A3\",\"line_dash\":[6],\"line_width\":4,\"x\":{\"field\":\"x\"},\"y\":{\"field\":\"y\"}},\"id\":\"4976\",\"type\":\"Line\"},{\"attributes\":{\"coordinates\":null,\"data_source\":{\"id\":\"5147\"},\"glyph\":{\"id\":\"5148\"},\"group\":null,\"hover_glyph\":null,\"muted_glyph\":{\"id\":\"5150\"},\"nonselection_glyph\":{\"id\":\"5149\"},\"view\":{\"id\":\"5152\"}},\"id\":\"5151\",\"type\":\"GlyphRenderer\"},{\"attributes\":{\"line_color\":\"#0C0786\",\"line_dash\":[6],\"line_width\":4,\"x\":{\"field\":\"x\"},\"y\":{\"field\":\"y\"}},\"id\":\"4932\",\"type\":\"Line\"},{\"attributes\":{\"source\":{\"id\":\"4973\"}},\"id\":\"4978\",\"type\":\"CDSView\"},{\"attributes\":{\"coordinates\":null,\"data_source\":{\"id\":\"5153\"},\"glyph\":{\"id\":\"5154\"},\"group\":null,\"hover_glyph\":null,\"muted_glyph\":{\"id\":\"5156\"},\"nonselection_glyph\":{\"id\":\"5155\"},\"view\":{\"id\":\"5158\"}},\"id\":\"5157\",\"type\":\"GlyphRenderer\"},{\"attributes\":{\"line_alpha\":0.1,\"line_color\":\"#5201A3\",\"line_dash\":[6],\"line_width\":4,\"x\":{\"field\":\"x\"},\"y\":{\"field\":\"y\"}},\"id\":\"4975\",\"type\":\"Line\"},{\"attributes\":{},\"id\":\"5315\",\"type\":\"Selection\"},{\"attributes\":{\"data\":{\"x\":{\"__ndarray__\":\"wrEwSqUt77/Eb4duVprtPw==\",\"dtype\":\"float64\",\"order\":\"little\",\"shape\":[2]},\"y\":{\"__ndarray__\":\"zCj7psNK2T+a8q8gC1rgvw==\",\"dtype\":\"float64\",\"order\":\"little\",\"shape\":[2]}},\"selected\":{\"id\":\"5315\"},\"selection_policy\":{\"id\":\"5314\"}},\"id\":\"5147\",\"type\":\"ColumnDataSource\"},{\"attributes\":{\"line_color\":\"#6200A6\",\"line_dash\":[6],\"line_width\":4,\"x\":{\"field\":\"x\"},\"y\":{\"field\":\"y\"}},\"id\":\"4986\",\"type\":\"Line\"},{\"attributes\":{\"line_color\":\"#F89540\",\"line_dash\":[6],\"line_width\":4,\"x\":{\"field\":\"x\"},\"y\":{\"field\":\"y\"}},\"id\":\"5154\",\"type\":\"Line\"},{\"attributes\":{\"data\":{\"x\":{\"__ndarray__\":\"wrEwSqUt77/Eb4duVprtPw==\",\"dtype\":\"float64\",\"order\":\"little\",\"shape\":[2]},\"y\":{\"__ndarray__\":\"M1G1QsVF1D82FdcqZv7fvw==\",\"dtype\":\"float64\",\"order\":\"little\",\"shape\":[2]}},\"selected\":{\"id\":\"5259\"},\"selection_policy\":{\"id\":\"5258\"}},\"id\":\"4979\",\"type\":\"ColumnDataSource\"},{\"attributes\":{\"data\":{\"x\":{\"__ndarray__\":\"wrEwSqUt77/Eb4duVprtPw==\",\"dtype\":\"float64\",\"order\":\"little\",\"shape\":[2]},\"y\":{\"__ndarray__\":\"g2RnYjcW1z/IplhOqYvgvw==\",\"dtype\":\"float64\",\"order\":\"little\",\"shape\":[2]}},\"selected\":{\"id\":\"5335\"},\"selection_policy\":{\"id\":\"5334\"}},\"id\":\"5207\",\"type\":\"ColumnDataSource\"},{\"attributes\":{\"line_color\":\"#F6E525\",\"line_dash\":[6],\"line_width\":4,\"x\":{\"field\":\"x\"},\"y\":{\"field\":\"y\"}},\"id\":\"5214\",\"type\":\"Line\"},{\"attributes\":{\"coordinates\":null,\"data_source\":{\"id\":\"4979\"},\"glyph\":{\"id\":\"4980\"},\"group\":null,\"hover_glyph\":null,\"muted_glyph\":{\"id\":\"4982\"},\"nonselection_glyph\":{\"id\":\"4981\"},\"view\":{\"id\":\"4984\"}},\"id\":\"4983\",\"type\":\"GlyphRenderer\"},{\"attributes\":{\"line_alpha\":0.1,\"line_color\":\"#FAD524\",\"line_dash\":[6],\"line_width\":4,\"x\":{\"field\":\"x\"},\"y\":{\"field\":\"y\"}},\"id\":\"5203\",\"type\":\"Line\"},{\"attributes\":{},\"id\":\"5252\",\"type\":\"UnionRenderers\"},{\"attributes\":{\"line_alpha\":0.2,\"line_color\":\"#5A00A5\",\"line_dash\":[6],\"line_width\":4,\"x\":{\"field\":\"x\"},\"y\":{\"field\":\"y\"}},\"id\":\"4982\",\"type\":\"Line\"},{\"attributes\":{\"source\":{\"id\":\"5201\"}},\"id\":\"5206\",\"type\":\"CDSView\"},{\"attributes\":{\"source\":{\"id\":\"4979\"}},\"id\":\"4984\",\"type\":\"CDSView\"},{\"attributes\":{\"line_alpha\":0.2,\"line_color\":\"#FAD524\",\"line_dash\":[6],\"line_width\":4,\"x\":{\"field\":\"x\"},\"y\":{\"field\":\"y\"}},\"id\":\"5204\",\"type\":\"Line\"},{\"attributes\":{\"line_alpha\":0.1,\"line_color\":\"#5A00A5\",\"line_dash\":[6],\"line_width\":4,\"x\":{\"field\":\"x\"},\"y\":{\"field\":\"y\"}},\"id\":\"4981\",\"type\":\"Line\"},{\"attributes\":{\"coordinates\":null,\"data_source\":{\"id\":\"5201\"},\"glyph\":{\"id\":\"5202\"},\"group\":null,\"hover_glyph\":null,\"muted_glyph\":{\"id\":\"5204\"},\"nonselection_glyph\":{\"id\":\"5203\"},\"view\":{\"id\":\"5206\"}},\"id\":\"5205\",\"type\":\"GlyphRenderer\"},{\"attributes\":{},\"id\":\"5253\",\"type\":\"Selection\"},{\"attributes\":{\"line_color\":\"#6C00A8\",\"line_dash\":[6],\"line_width\":4,\"x\":{\"field\":\"x\"},\"y\":{\"field\":\"y\"}},\"id\":\"4992\",\"type\":\"Line\"},{\"attributes\":{\"data\":{\"x\":{\"__ndarray__\":\"wrEwSqUt77/Eb4duVprtPw==\",\"dtype\":\"float64\",\"order\":\"little\",\"shape\":[2]},\"y\":{\"__ndarray__\":\"AlffPjxF3D8W2WjlcWHUvw==\",\"dtype\":\"float64\",\"order\":\"little\",\"shape\":[2]}},\"selected\":{\"id\":\"5261\"},\"selection_policy\":{\"id\":\"5260\"}},\"id\":\"4985\",\"type\":\"ColumnDataSource\"},{\"attributes\":{\"data\":{\"x\":{\"__ndarray__\":\"wrEwSqUt77/Eb4duVprtPw==\",\"dtype\":\"float64\",\"order\":\"little\",\"shape\":[2]},\"y\":{\"__ndarray__\":\"Ug4vCkRs3j+ECOIpXibXvw==\",\"dtype\":\"float64\",\"order\":\"little\",\"shape\":[2]}},\"selected\":{\"id\":\"5333\"},\"selection_policy\":{\"id\":\"5332\"}},\"id\":\"5201\",\"type\":\"ColumnDataSource\"},{\"attributes\":{},\"id\":\"5313\",\"type\":\"Selection\"},{\"attributes\":{\"line_alpha\":0.1,\"line_color\":\"#F38748\",\"line_dash\":[6],\"line_width\":4,\"x\":{\"field\":\"x\"},\"y\":{\"field\":\"y\"}},\"id\":\"5143\",\"type\":\"Line\"},{\"attributes\":{\"source\":{\"id\":\"5141\"}},\"id\":\"5146\",\"type\":\"CDSView\"},{\"attributes\":{\"line_alpha\":0.2,\"line_color\":\"#F38748\",\"line_dash\":[6],\"line_width\":4,\"x\":{\"field\":\"x\"},\"y\":{\"field\":\"y\"}},\"id\":\"5144\",\"type\":\"Line\"},{\"attributes\":{},\"id\":\"5249\",\"type\":\"Selection\"},{\"attributes\":{\"coordinates\":null,\"data_source\":{\"id\":\"5141\"},\"glyph\":{\"id\":\"5142\"},\"group\":null,\"hover_glyph\":null,\"muted_glyph\":{\"id\":\"5144\"},\"nonselection_glyph\":{\"id\":\"5143\"},\"view\":{\"id\":\"5146\"}},\"id\":\"5145\",\"type\":\"GlyphRenderer\"},{\"attributes\":{},\"id\":\"5327\",\"type\":\"Selection\"},{\"attributes\":{\"data\":{\"x\":{\"__ndarray__\":\"wrEwSqUt77/Eb4duVprtPw==\",\"dtype\":\"float64\",\"order\":\"little\",\"shape\":[2]},\"y\":{\"__ndarray__\":\"vfh7KLMW3j8OmxZ//YTZvw==\",\"dtype\":\"float64\",\"order\":\"little\",\"shape\":[2]}},\"selected\":{\"id\":\"5313\"},\"selection_policy\":{\"id\":\"5312\"}},\"id\":\"5141\",\"type\":\"ColumnDataSource\"},{\"attributes\":{},\"id\":\"5248\",\"type\":\"UnionRenderers\"},{\"attributes\":{\"line_color\":\"#F68E44\",\"line_dash\":[6],\"line_width\":4,\"x\":{\"field\":\"x\"},\"y\":{\"field\":\"y\"}},\"id\":\"5148\",\"type\":\"Line\"},{\"attributes\":{},\"id\":\"5331\",\"type\":\"Selection\"},{\"attributes\":{\"line_alpha\":0.1,\"line_color\":\"#F0804D\",\"line_dash\":[6],\"line_width\":4,\"x\":{\"field\":\"x\"},\"y\":{\"field\":\"y\"}},\"id\":\"5137\",\"type\":\"Line\"},{\"attributes\":{\"source\":{\"id\":\"5135\"}},\"id\":\"5140\",\"type\":\"CDSView\"},{\"attributes\":{\"line_alpha\":0.2,\"line_color\":\"#F0804D\",\"line_dash\":[6],\"line_width\":4,\"x\":{\"field\":\"x\"},\"y\":{\"field\":\"y\"}},\"id\":\"5138\",\"type\":\"Line\"},{\"attributes\":{},\"id\":\"5277\",\"type\":\"Selection\"},{\"attributes\":{\"coordinates\":null,\"data_source\":{\"id\":\"5135\"},\"glyph\":{\"id\":\"5136\"},\"group\":null,\"hover_glyph\":null,\"muted_glyph\":{\"id\":\"5138\"},\"nonselection_glyph\":{\"id\":\"5137\"},\"view\":{\"id\":\"5140\"}},\"id\":\"5139\",\"type\":\"GlyphRenderer\"},{\"attributes\":{},\"id\":\"5296\",\"type\":\"UnionRenderers\"},{\"attributes\":{},\"id\":\"5316\",\"type\":\"UnionRenderers\"},{\"attributes\":{},\"id\":\"5297\",\"type\":\"Selection\"},{\"attributes\":{},\"id\":\"5311\",\"type\":\"Selection\"},{\"attributes\":{\"data\":{\"x\":{\"__ndarray__\":\"wrEwSqUt77/Eb4duVprtPw==\",\"dtype\":\"float64\",\"order\":\"little\",\"shape\":[2]},\"y\":{\"__ndarray__\":\"GShOXrAU2D/DOyBTzUrhvw==\",\"dtype\":\"float64\",\"order\":\"little\",\"shape\":[2]}},\"selected\":{\"id\":\"5311\"},\"selection_policy\":{\"id\":\"5310\"}},\"id\":\"5135\",\"type\":\"ColumnDataSource\"},{\"attributes\":{\"line_color\":\"#F38748\",\"line_dash\":[6],\"line_width\":4,\"x\":{\"field\":\"x\"},\"y\":{\"field\":\"y\"}},\"id\":\"5142\",\"type\":\"Line\"},{\"attributes\":{\"line_alpha\":0.1,\"line_color\":\"#FDBB2B\",\"line_dash\":[6],\"line_width\":4,\"x\":{\"field\":\"x\"},\"y\":{\"field\":\"y\"}},\"id\":\"5185\",\"type\":\"Line\"},{\"attributes\":{\"line_alpha\":0.2,\"line_color\":\"#B22C8E\",\"line_dash\":[6],\"line_width\":4,\"x\":{\"field\":\"x\"},\"y\":{\"field\":\"y\"}},\"id\":\"5054\",\"type\":\"Line\"},{\"attributes\":{\"source\":{\"id\":\"5183\"}},\"id\":\"5188\",\"type\":\"CDSView\"},{\"attributes\":{\"line_color\":\"#F8DD24\",\"line_dash\":[6],\"line_width\":4,\"x\":{\"field\":\"x\"},\"y\":{\"field\":\"y\"}},\"id\":\"5208\",\"type\":\"Line\"},{\"attributes\":{\"line_color\":\"#D14F71\",\"line_dash\":[6],\"line_width\":4,\"x\":{\"field\":\"x\"},\"y\":{\"field\":\"y\"}},\"id\":\"5088\",\"type\":\"Line\"},{\"attributes\":{\"data\":{\"x\":{\"__ndarray__\":\"wrEwSqUt77/Eb4duVprtPw==\",\"dtype\":\"float64\",\"order\":\"little\",\"shape\":[2]},\"y\":{\"__ndarray__\":\"YaiJBgP62z8SLZsaxXHXvw==\",\"dtype\":\"float64\",\"order\":\"little\",\"shape\":[2]}},\"selected\":{\"id\":\"5293\"},\"selection_policy\":{\"id\":\"5292\"}},\"id\":\"5081\",\"type\":\"ColumnDataSource\"},{\"attributes\":{\"line_alpha\":0.2,\"line_color\":\"#DE6064\",\"line_dash\":[6],\"line_width\":4,\"x\":{\"field\":\"x\"},\"y\":{\"field\":\"y\"}},\"id\":\"5108\",\"type\":\"Line\"},{\"attributes\":{\"coordinates\":null,\"data_source\":{\"id\":\"5105\"},\"glyph\":{\"id\":\"5106\"},\"group\":null,\"hover_glyph\":null,\"muted_glyph\":{\"id\":\"5108\"},\"nonselection_glyph\":{\"id\":\"5107\"},\"view\":{\"id\":\"5110\"}},\"id\":\"5109\",\"type\":\"GlyphRenderer\"},{\"attributes\":{},\"id\":\"5276\",\"type\":\"UnionRenderers\"},{\"attributes\":{\"coordinates\":null,\"data_source\":{\"id\":\"5081\"},\"glyph\":{\"id\":\"5082\"},\"group\":null,\"hover_glyph\":null,\"muted_glyph\":{\"id\":\"5084\"},\"nonselection_glyph\":{\"id\":\"5083\"},\"view\":{\"id\":\"5086\"}},\"id\":\"5085\",\"type\":\"GlyphRenderer\"},{\"attributes\":{\"line_alpha\":0.2,\"line_color\":\"#CD4975\",\"line_dash\":[6],\"line_width\":4,\"x\":{\"field\":\"x\"},\"y\":{\"field\":\"y\"}},\"id\":\"5084\",\"type\":\"Line\"},{\"attributes\":{},\"id\":\"5270\",\"type\":\"UnionRenderers\"},{\"attributes\":{\"line_alpha\":0.2,\"line_color\":\"#FDBB2B\",\"line_dash\":[6],\"line_width\":4,\"x\":{\"field\":\"x\"},\"y\":{\"field\":\"y\"}},\"id\":\"5186\",\"type\":\"Line\"},{\"attributes\":{\"coordinates\":null,\"data_source\":{\"id\":\"5183\"},\"glyph\":{\"id\":\"5184\"},\"group\":null,\"hover_glyph\":null,\"muted_glyph\":{\"id\":\"5186\"},\"nonselection_glyph\":{\"id\":\"5185\"},\"view\":{\"id\":\"5188\"}},\"id\":\"5187\",\"type\":\"GlyphRenderer\"},{\"attributes\":{\"source\":{\"id\":\"5051\"}},\"id\":\"5056\",\"type\":\"CDSView\"},{\"attributes\":{\"data\":{\"x\":{\"__ndarray__\":\"wrEwSqUt77/Eb4duVprtPw==\",\"dtype\":\"float64\",\"order\":\"little\",\"shape\":[2]},\"y\":{\"__ndarray__\":\"00OXEhN71z9MMVNWaNHgvw==\",\"dtype\":\"float64\",\"order\":\"little\",\"shape\":[2]}},\"selected\":{\"id\":\"5327\"},\"selection_policy\":{\"id\":\"5326\"}},\"id\":\"5183\",\"type\":\"ColumnDataSource\"},{\"attributes\":{},\"id\":\"5271\",\"type\":\"Selection\"},{\"attributes\":{\"line_color\":\"#FDC328\",\"line_dash\":[6],\"line_width\":4,\"x\":{\"field\":\"x\"},\"y\":{\"field\":\"y\"}},\"id\":\"5190\",\"type\":\"Line\"},{\"attributes\":{\"data\":{\"x\":{\"__ndarray__\":\"wrEwSqUt77/Eb4duVprtPw==\",\"dtype\":\"float64\",\"order\":\"little\",\"shape\":[2]},\"y\":{\"__ndarray__\":\"qBLFdZ563T9tjfEAELDVvw==\",\"dtype\":\"float64\",\"order\":\"little\",\"shape\":[2]}},\"selected\":{\"id\":\"5277\"},\"selection_policy\":{\"id\":\"5276\"}},\"id\":\"5033\",\"type\":\"ColumnDataSource\"},{\"attributes\":{\"line_color\":\"#A51F97\",\"line_dash\":[6],\"line_width\":4,\"x\":{\"field\":\"x\"},\"y\":{\"field\":\"y\"}},\"id\":\"5040\",\"type\":\"Line\"},{\"attributes\":{\"source\":{\"id\":\"5129\"}},\"id\":\"5134\",\"type\":\"CDSView\"}],\"root_ids\":[\"5231\",\"5784\"]},\"title\":\"Bokeh Application\",\"version\":\"2.4.3\"}};\n    var render_items = [{\"docid\":\"c7721d44-35b5-4231-98a0-52437d8dc19e\",\"root_ids\":[\"5231\"],\"roots\":{\"5231\":\"243f1926-9d0d-4689-948c-345db09aea9f\"}}];\n    root.Bokeh.embed.embed_items_notebook(docs_json, render_items);\n    for (const render_item of render_items) {\n      for (const root_id of render_item.root_ids) {\n\tconst id_el = document.getElementById(root_id)\n\tif (id_el.children.length && (id_el.children[0].className === 'bk-root')) {\n\t  const root_el = id_el.children[0]\n\t  root_el.id = root_el.id + '-rendered'\n\t}\n      }\n    }\n  }\n  if (root.Bokeh !== undefined && root.Bokeh.Panel !== undefined) {\n    embed_document(root);\n  } else {\n    var attempts = 0;\n    var timer = setInterval(function(root) {\n      if (root.Bokeh !== undefined && root.Bokeh.Panel !== undefined) {\n        clearInterval(timer);\n        embed_document(root);\n      } else if (document.readyState == \"complete\") {\n        attempts++;\n        if (attempts > 200) {\n          clearInterval(timer);\n          console.log(\"Bokeh: ERROR: Unable to run BokehJS code because BokehJS library is missing\");\n        }\n      }\n    }, 25, root)\n  }\n})(window);</script>",
      "application/vnd.holoviews_exec.v0+json": "",
      "text/plain": "Row\n    [0] HSpacer()\n    [1] Bokeh(Figure)\n    [2] HSpacer()"
     },
     "execution_count": 29,
     "metadata": {
      "application/vnd.holoviews_exec.v0+json": {
       "id": "5231"
      }
     },
     "output_type": "execute_result"
    }
   ],
   "source": [
    "verbose = False\n",
    "weights_history[0] = weights\n",
    "bias_history[0] = bias\n",
    "# Update loop\n",
    "for i in range(n_epochs):\n",
    "    \n",
    "    ######################\n",
    "    # YOUR CODE GOES HERE\n",
    "    ######################\n",
    "   \n",
    "    gradients =  2 *((x_inputs@ (weights.T) +bias >0) - y_class[:,None])\n",
    "    weights -= eta * np.sum(gradients * x_inputs, 0)\n",
    "    bias -= eta * np.sum(gradients , 0)\n",
    "    \n",
    "    \n",
    "    \n",
    "    \n",
    "    ######################\n",
    "    # Solution  \n",
    "    # y_bar = np.dot(weights, x_inputs.T) + bias > 0\n",
    "    # if np.sum(np.abs(y_bar - y_class)) == 0:\n",
    "    #     break\n",
    "    # error = y_class - y_bar\n",
    "    # weights = weights + eta * (np.dot(error, x_inputs))\n",
    "    # bias = bias + eta * (np.sum(error))\n",
    "    ######################\n",
    "    \n",
    "    weights_history[i + 1] = weights\n",
    "    bias_history[i + 1] = bias\n",
    "    \n",
    "    if (verbose):\n",
    "        print('%2d. error = %f, weights = %f, %f, %f' % (i, np.sum(np.abs(error)) / n_observations, bias[0, 0], weights[0, 0], weights[0, 1]))\n",
    "plot = center_plot(scatter_boundary(x_inputs, y_class, weights_history, bias_history, i + 1))\n",
    "plot"
   ]
  },
  {
   "cell_type": "markdown",
   "metadata": {},
   "source": [
    "### Neuron implementation in `JAX`\n",
    "\n",
    "As seen in the previous course, the `NumPy` implementation requires us to perform manual differentiation of our loss function to understand how to update the parameters. However, the recent [`JAX`](https://github.com/google/jax) library provides **automatic differentiation** on top of the `NumPy` library. If you have not yet completed the set of [tutorials](https://jax.readthedocs.io/en/latest/), we strongly encourage you to do so. We will introduce a few more functions compared to last time, but we try to keep the implementation as simple as possible on purpose."
   ]
  },
  {
   "cell_type": "code",
   "execution_count": 30,
   "metadata": {
    "ExecuteTime": {
     "end_time": "2023-05-12T03:06:41.285056974Z",
     "start_time": "2023-05-12T03:06:41.046514368Z"
    }
   },
   "outputs": [],
   "source": [
    "import jax.numpy as jnp\n",
    "from jax import grad, jit, random\n",
    "key = random.PRNGKey(42)"
   ]
  },
  {
   "cell_type": "markdown",
   "metadata": {},
   "source": [
    "We keep our previousmy generated dataset but we will rely on `jnp.ndarray` instead of `np.ndarray`, by simply casting the arrays to JAX-compliant ones."
   ]
  },
  {
   "cell_type": "code",
   "execution_count": 31,
   "metadata": {
    "ExecuteTime": {
     "end_time": "2023-05-12T03:06:41.285170165Z",
     "start_time": "2023-05-12T03:06:41.048718845Z"
    }
   },
   "outputs": [],
   "source": [
    "x_jax = jnp.asarray(x_inputs)\n",
    "y_jax = jnp.asarray(y_class)"
   ]
  },
  {
   "cell_type": "markdown",
   "metadata": {},
   "source": [
    "We will also keep the same hyperparameters as previously (see `eta`, `lambda_r` and `n_epochs` above) and randomly initialize our parameters "
   ]
  },
  {
   "cell_type": "code",
   "execution_count": 32,
   "metadata": {
    "ExecuteTime": {
     "end_time": "2023-05-12T03:06:41.285272462Z",
     "start_time": "2023-05-12T03:06:41.092968389Z"
    }
   },
   "outputs": [],
   "source": [
    "eta = 0.01\n",
    "# Perform key splitting\n",
    "key_w, key_b, key = random.split(key, 3)\n",
    "# Initialize the weights\n",
    "weights = random.normal(key_w, (1, 2));\n",
    "bias = random.normal(key_b, (1, 1));\n",
    "# Save the weight history for plotting\n",
    "weights_history = jnp.zeros((n_epochs + 1, 2));\n",
    "bias_history = jnp.zeros((n_epochs + 1, 1));\n",
    "# Record the first \n",
    "weights_history = weights_history.at[0].set(weights[0])\n",
    "bias_history = bias_history.at[0].set(bias[0])"
   ]
  },
  {
   "cell_type": "markdown",
   "metadata": {},
   "source": [
    "As we discussed earlier, the original model by McCulloch & Pitts has several issues regarding its use for numerical optimization (as it was originally observed from a neuroscience point of view)\n",
    "\n",
    "***\n",
    "\n",
    "<div class=\"alert alert-success\" markdown=\"1\" style=\"color:white; background-color: #410819; border-color: #cb2e47\">\n",
    "\n",
    "> **Changes from the `NumPy` implementation**\n",
    ">   1. (Smoothness) Our _activation function_ will change from _identity_ to sigmoid, i.e. $ \\phi(\\mathbf{x}) = \\frac{1}{1 + e^{-\\mathbf{x}}} $\n",
    ">   2. (Outliers) Our _loss function_ will change from $ L_{1} $ to $ L_{2} $ (MSE - Mean Squared Error)\n",
    "\n",
    "</div>\n",
    "\n",
    "***\n",
    "\n",
    "As discussed in the previous course, for using the very handy `grad` function provided by `JAX`, we need to define the whole forward function that we want to derive given our parameters. Hence this function also needs to **contain the forward pass**. This is summarized in the following function"
   ]
  },
  {
   "cell_type": "code",
   "execution_count": 33,
   "metadata": {
    "ExecuteTime": {
     "end_time": "2023-05-12T03:06:41.285368699Z",
     "start_time": "2023-05-12T03:06:41.093200770Z"
    }
   },
   "outputs": [],
   "source": [
    "import jax\n",
    "# Single neuron full function\n",
    "def loss_function(x, y, w, b):\n",
    "    # Forward pass\n",
    "    y_bar = jax.nn.sigmoid(jnp.dot(w, x.T) + b)\n",
    "    # Error computation\n",
    "    error = jnp.sum((y_bar - y) ** 2)\n",
    "    return error\n",
    "# Gradient of the loss\n",
    "grad_loss_function = jit(grad(loss_function, argnums=[2, 3]))"
   ]
  },
  {
   "cell_type": "markdown",
   "metadata": {},
   "source": [
    "Finally, we can now define the main training loop, which is almost exactly similar to the previously defined one minus the gradient computation operations. "
   ]
  },
  {
   "cell_type": "code",
   "execution_count": 34,
   "metadata": {
    "ExecuteTime": {
     "end_time": "2023-05-12T03:06:41.518001473Z",
     "start_time": "2023-05-12T03:06:41.093383462Z"
    }
   },
   "outputs": [
    {
     "data": {},
     "metadata": {},
     "output_type": "display_data"
    },
    {
     "data": {
      "text/html": "<div id='6689'>\n  <div class=\"bk-root\" id=\"2c4412ea-f8ee-4786-aeb2-b35b63e71c0e\" data-root-id=\"6689\"></div>\n</div>\n<script type=\"application/javascript\">(function(root) {\n  function embed_document(root) {\n    var docs_json = {\"e230250a-53d9-4c18-a9be-b0a5db9cd80b\":{\"defs\":[{\"extends\":null,\"module\":null,\"name\":\"ReactiveHTML1\",\"overrides\":[],\"properties\":[]},{\"extends\":null,\"module\":null,\"name\":\"FlexBox1\",\"overrides\":[],\"properties\":[{\"default\":\"flex-start\",\"kind\":null,\"name\":\"align_content\"},{\"default\":\"flex-start\",\"kind\":null,\"name\":\"align_items\"},{\"default\":\"row\",\"kind\":null,\"name\":\"flex_direction\"},{\"default\":\"wrap\",\"kind\":null,\"name\":\"flex_wrap\"},{\"default\":\"flex-start\",\"kind\":null,\"name\":\"justify_content\"}]},{\"extends\":null,\"module\":null,\"name\":\"GridStack1\",\"overrides\":[],\"properties\":[{\"default\":\"warn\",\"kind\":null,\"name\":\"mode\"},{\"default\":null,\"kind\":null,\"name\":\"ncols\"},{\"default\":null,\"kind\":null,\"name\":\"nrows\"},{\"default\":true,\"kind\":null,\"name\":\"allow_resize\"},{\"default\":true,\"kind\":null,\"name\":\"allow_drag\"},{\"default\":[],\"kind\":null,\"name\":\"state\"}]},{\"extends\":null,\"module\":null,\"name\":\"click1\",\"overrides\":[],\"properties\":[{\"default\":\"\",\"kind\":null,\"name\":\"terminal_output\"},{\"default\":\"\",\"kind\":null,\"name\":\"debug_name\"},{\"default\":0,\"kind\":null,\"name\":\"clears\"}]},{\"extends\":null,\"module\":null,\"name\":\"NotificationAreaBase1\",\"overrides\":[],\"properties\":[{\"default\":\"bottom-right\",\"kind\":null,\"name\":\"position\"},{\"default\":0,\"kind\":null,\"name\":\"_clear\"}]},{\"extends\":null,\"module\":null,\"name\":\"NotificationArea1\",\"overrides\":[],\"properties\":[{\"default\":[],\"kind\":null,\"name\":\"notifications\"},{\"default\":\"bottom-right\",\"kind\":null,\"name\":\"position\"},{\"default\":0,\"kind\":null,\"name\":\"_clear\"},{\"default\":[{\"background\":\"#ffc107\",\"icon\":{\"className\":\"fas fa-exclamation-triangle\",\"color\":\"white\",\"tagName\":\"i\"},\"type\":\"warning\"},{\"background\":\"#007bff\",\"icon\":{\"className\":\"fas fa-info-circle\",\"color\":\"white\",\"tagName\":\"i\"},\"type\":\"info\"}],\"kind\":null,\"name\":\"types\"}]},{\"extends\":null,\"module\":null,\"name\":\"Notification\",\"overrides\":[],\"properties\":[{\"default\":null,\"kind\":null,\"name\":\"background\"},{\"default\":3000,\"kind\":null,\"name\":\"duration\"},{\"default\":null,\"kind\":null,\"name\":\"icon\"},{\"default\":\"\",\"kind\":null,\"name\":\"message\"},{\"default\":null,\"kind\":null,\"name\":\"notification_type\"},{\"default\":false,\"kind\":null,\"name\":\"_destroyed\"}]},{\"extends\":null,\"module\":null,\"name\":\"TemplateActions1\",\"overrides\":[],\"properties\":[{\"default\":0,\"kind\":null,\"name\":\"open_modal\"},{\"default\":0,\"kind\":null,\"name\":\"close_modal\"}]},{\"extends\":null,\"module\":null,\"name\":\"MaterialTemplateActions1\",\"overrides\":[],\"properties\":[{\"default\":0,\"kind\":null,\"name\":\"open_modal\"},{\"default\":0,\"kind\":null,\"name\":\"close_modal\"}]}],\"roots\":{\"references\":[{\"attributes\":{},\"id\":\"6382\",\"type\":\"UnionRenderers\"},{\"attributes\":{},\"id\":\"6722\",\"type\":\"UnionRenderers\"},{\"attributes\":{},\"id\":\"6760\",\"type\":\"UnionRenderers\"},{\"attributes\":{},\"id\":\"6723\",\"type\":\"Selection\"},{\"attributes\":{},\"id\":\"6798\",\"type\":\"UnionRenderers\"},{\"attributes\":{},\"id\":\"6761\",\"type\":\"Selection\"},{\"attributes\":{\"source\":{\"id\":\"6671\"}},\"id\":\"6676\",\"type\":\"CDSView\"},{\"attributes\":{},\"id\":\"6799\",\"type\":\"Selection\"},{\"attributes\":{\"fill_alpha\":{\"value\":0.6},\"fill_color\":{\"field\":\"color\"},\"hatch_alpha\":{\"value\":0.6},\"hatch_color\":{\"field\":\"color\"},\"line_alpha\":{\"value\":0.6},\"line_color\":{\"value\":\"white\"},\"size\":{\"value\":10},\"x\":{\"field\":\"x\"},\"y\":{\"field\":\"y\"}},\"id\":\"6370\",\"type\":\"Circle\"},{\"attributes\":{},\"id\":\"6703\",\"type\":\"Selection\"},{\"attributes\":{\"data\":{\"x\":{\"__ndarray__\":\"wrEwSqUt77/Eb4duVprtPw==\",\"dtype\":\"float64\",\"order\":\"little\",\"shape\":[2]},\"y\":{\"__ndarray__\":\"MgWCpzRFsb9DbJVGDLervw==\",\"dtype\":\"float64\",\"order\":\"little\",\"shape\":[2]}},\"selected\":{\"id\":\"6759\"},\"selection_policy\":{\"id\":\"6758\"}},\"id\":\"6563\",\"type\":\"ColumnDataSource\"},{\"attributes\":{},\"id\":\"6702\",\"type\":\"UnionRenderers\"},{\"attributes\":{},\"id\":\"6377\",\"type\":\"BasicTickFormatter\"},{\"attributes\":{},\"id\":\"6383\",\"type\":\"Selection\"},{\"attributes\":{},\"id\":\"6724\",\"type\":\"UnionRenderers\"},{\"attributes\":{},\"id\":\"6380\",\"type\":\"BasicTickFormatter\"},{\"attributes\":{},\"id\":\"6762\",\"type\":\"UnionRenderers\"},{\"attributes\":{},\"id\":\"6725\",\"type\":\"Selection\"},{\"attributes\":{},\"id\":\"6378\",\"type\":\"AllLabels\"},{\"attributes\":{},\"id\":\"6763\",\"type\":\"Selection\"},{\"attributes\":{},\"id\":\"6701\",\"type\":\"Selection\"},{\"attributes\":{},\"id\":\"6704\",\"type\":\"UnionRenderers\"},{\"attributes\":{\"line_alpha\":0.2,\"line_color\":\"#920FA2\",\"line_dash\":[6],\"line_width\":4,\"x\":{\"field\":\"x\"},\"y\":{\"field\":\"y\"}},\"id\":\"6482\",\"type\":\"Line\"},{\"attributes\":{},\"id\":\"6726\",\"type\":\"UnionRenderers\"},{\"attributes\":{\"coordinates\":null,\"data_source\":{\"id\":\"6479\"},\"glyph\":{\"id\":\"6480\"},\"group\":null,\"hover_glyph\":null,\"muted_glyph\":{\"id\":\"6482\"},\"nonselection_glyph\":{\"id\":\"6481\"},\"view\":{\"id\":\"6484\"}},\"id\":\"6483\",\"type\":\"GlyphRenderer\"},{\"attributes\":{},\"id\":\"6705\",\"type\":\"Selection\"},{\"attributes\":{},\"id\":\"6764\",\"type\":\"UnionRenderers\"},{\"attributes\":{\"data\":{\"x\":{\"__ndarray__\":\"wrEwSqUt77/Eb4duVprtPw==\",\"dtype\":\"float64\",\"order\":\"little\",\"shape\":[2]},\"y\":{\"__ndarray__\":\"+caKRGIr7b9oL80MXgbhPw==\",\"dtype\":\"float64\",\"order\":\"little\",\"shape\":[2]}},\"selected\":{\"id\":\"6731\"},\"selection_policy\":{\"id\":\"6730\"}},\"id\":\"6479\",\"type\":\"ColumnDataSource\"},{\"attributes\":{},\"id\":\"6727\",\"type\":\"Selection\"},{\"attributes\":{\"line_color\":\"#99149F\",\"line_dash\":[6],\"line_width\":4,\"x\":{\"field\":\"x\"},\"y\":{\"field\":\"y\"}},\"id\":\"6486\",\"type\":\"Line\"},{\"attributes\":{\"line_alpha\":0.1,\"line_color\":\"#8908A5\",\"line_dash\":[6],\"line_width\":4,\"x\":{\"field\":\"x\"},\"y\":{\"field\":\"y\"}},\"id\":\"6475\",\"type\":\"Line\"},{\"attributes\":{},\"id\":\"6765\",\"type\":\"Selection\"},{\"attributes\":{\"source\":{\"id\":\"6473\"}},\"id\":\"6478\",\"type\":\"CDSView\"},{\"attributes\":{\"line_alpha\":0.2,\"line_color\":\"#8908A5\",\"line_dash\":[6],\"line_width\":4,\"x\":{\"field\":\"x\"},\"y\":{\"field\":\"y\"}},\"id\":\"6476\",\"type\":\"Line\"},{\"attributes\":{\"coordinates\":null,\"data_source\":{\"id\":\"6473\"},\"glyph\":{\"id\":\"6474\"},\"group\":null,\"hover_glyph\":null,\"muted_glyph\":{\"id\":\"6476\"},\"nonselection_glyph\":{\"id\":\"6475\"},\"view\":{\"id\":\"6478\"}},\"id\":\"6477\",\"type\":\"GlyphRenderer\"},{\"attributes\":{\"bottom_units\":\"screen\",\"coordinates\":null,\"fill_alpha\":0.5,\"fill_color\":\"lightgrey\",\"group\":null,\"left_units\":\"screen\",\"level\":\"overlay\",\"line_alpha\":1.0,\"line_color\":\"black\",\"line_dash\":[4,4],\"line_width\":2,\"right_units\":\"screen\",\"syncable\":false,\"top_units\":\"screen\"},\"id\":\"6360\",\"type\":\"BoxAnnotation\"},{\"attributes\":{\"line_color\":\"#E3675F\",\"line_dash\":[6],\"line_width\":4,\"x\":{\"field\":\"x\"},\"y\":{\"field\":\"y\"}},\"id\":\"6570\",\"type\":\"Line\"},{\"attributes\":{},\"id\":\"6358\",\"type\":\"ResetTool\"},{\"attributes\":{},\"id\":\"6357\",\"type\":\"SaveTool\"},{\"attributes\":{\"overlay\":{\"id\":\"6360\"}},\"id\":\"6356\",\"type\":\"BoxZoomTool\"},{\"attributes\":{\"line_alpha\":0.1,\"line_color\":\"#DA5A68\",\"line_dash\":[6],\"line_width\":4,\"x\":{\"field\":\"x\"},\"y\":{\"field\":\"y\"}},\"id\":\"6559\",\"type\":\"Line\"},{\"attributes\":{\"line_color\":\"#EFF821\",\"line_dash\":[6],\"line_width\":4,\"x\":{\"field\":\"x\"},\"y\":{\"field\":\"y\"}},\"id\":\"6684\",\"type\":\"Line\"},{\"attributes\":{},\"id\":\"6354\",\"type\":\"PanTool\"},{\"attributes\":{},\"id\":\"6728\",\"type\":\"UnionRenderers\"},{\"attributes\":{},\"id\":\"6355\",\"type\":\"WheelZoomTool\"},{\"attributes\":{},\"id\":\"6766\",\"type\":\"UnionRenderers\"},{\"attributes\":{},\"id\":\"6729\",\"type\":\"Selection\"},{\"attributes\":{},\"id\":\"6351\",\"type\":\"BasicTicker\"},{\"attributes\":{},\"id\":\"6767\",\"type\":\"Selection\"},{\"attributes\":{\"data\":{\"x\":{\"__ndarray__\":\"wrEwSqUt77/Eb4duVprtPw==\",\"dtype\":\"float64\",\"order\":\"little\",\"shape\":[2]},\"y\":{\"__ndarray__\":\"iX/k5sK/4784HwQwjpvVPw==\",\"dtype\":\"float64\",\"order\":\"little\",\"shape\":[2]}},\"selected\":{\"id\":\"6735\"},\"selection_policy\":{\"id\":\"6734\"}},\"id\":\"6491\",\"type\":\"ColumnDataSource\"},{\"attributes\":{\"line_color\":\"#A51F97\",\"line_dash\":[6],\"line_width\":4,\"x\":{\"field\":\"x\"},\"y\":{\"field\":\"y\"}},\"id\":\"6498\",\"type\":\"Line\"},{\"attributes\":{\"data\":{\"x\":{\"__ndarray__\":\"wrEwSqUt77/Eb4duVprtPw==\",\"dtype\":\"float64\",\"order\":\"little\",\"shape\":[2]},\"y\":{\"__ndarray__\":\"xWu3ombcwL/I6RZKHM9uvw==\",\"dtype\":\"float64\",\"order\":\"little\",\"shape\":[2]}},\"selected\":{\"id\":\"6753\"},\"selection_policy\":{\"id\":\"6752\"}},\"id\":\"6545\",\"type\":\"ColumnDataSource\"},{\"attributes\":{},\"id\":\"6720\",\"type\":\"UnionRenderers\"},{\"attributes\":{},\"id\":\"6721\",\"type\":\"Selection\"},{\"attributes\":{\"line_color\":\"#D6556D\",\"line_dash\":[6],\"line_width\":4,\"x\":{\"field\":\"x\"},\"y\":{\"field\":\"y\"}},\"id\":\"6552\",\"type\":\"Line\"},{\"attributes\":{},\"id\":\"6730\",\"type\":\"UnionRenderers\"},{\"attributes\":{},\"id\":\"6768\",\"type\":\"UnionRenderers\"},{\"attributes\":{},\"id\":\"6731\",\"type\":\"Selection\"},{\"attributes\":{},\"id\":\"6769\",\"type\":\"Selection\"},{\"attributes\":{},\"id\":\"6381\",\"type\":\"AllLabels\"},{\"attributes\":{\"data\":{\"color\":[\"midnightblue\",\"firebrick\",\"midnightblue\",\"firebrick\",\"midnightblue\",\"midnightblue\",\"midnightblue\",\"firebrick\",\"midnightblue\",\"firebrick\",\"firebrick\",\"firebrick\",\"firebrick\",\"firebrick\",\"firebrick\",\"firebrick\",\"firebrick\",\"midnightblue\",\"firebrick\",\"firebrick\",\"firebrick\",\"midnightblue\",\"midnightblue\",\"firebrick\",\"firebrick\",\"midnightblue\",\"midnightblue\",\"firebrick\",\"midnightblue\",\"midnightblue\",\"midnightblue\",\"midnightblue\",\"midnightblue\",\"firebrick\",\"firebrick\",\"midnightblue\",\"firebrick\",\"firebrick\",\"firebrick\",\"firebrick\",\"firebrick\",\"midnightblue\",\"midnightblue\",\"firebrick\",\"midnightblue\",\"midnightblue\",\"firebrick\",\"midnightblue\",\"firebrick\",\"firebrick\",\"firebrick\",\"firebrick\",\"firebrick\",\"midnightblue\",\"firebrick\",\"firebrick\",\"firebrick\",\"firebrick\",\"midnightblue\",\"midnightblue\",\"firebrick\",\"midnightblue\",\"midnightblue\",\"midnightblue\",\"firebrick\",\"midnightblue\",\"firebrick\",\"firebrick\",\"firebrick\",\"midnightblue\",\"firebrick\",\"firebrick\",\"firebrick\",\"midnightblue\",\"midnightblue\",\"midnightblue\",\"midnightblue\",\"firebrick\",\"firebrick\",\"firebrick\",\"firebrick\",\"midnightblue\",\"midnightblue\",\"midnightblue\",\"midnightblue\",\"midnightblue\",\"firebrick\",\"midnightblue\",\"midnightblue\",\"firebrick\",\"firebrick\",\"midnightblue\",\"midnightblue\",\"firebrick\",\"midnightblue\",\"firebrick\",\"firebrick\",\"midnightblue\",\"midnightblue\",\"midnightblue\"],\"label\":[\"class 1\",\"class 2\",\"class 1\",\"class 2\",\"class 1\",\"class 1\",\"class 1\",\"class 2\",\"class 1\",\"class 2\",\"class 2\",\"class 2\",\"class 2\",\"class 2\",\"class 2\",\"class 2\",\"class 2\",\"class 1\",\"class 2\",\"class 2\",\"class 2\",\"class 1\",\"class 1\",\"class 2\",\"class 2\",\"class 1\",\"class 1\",\"class 2\",\"class 1\",\"class 1\",\"class 1\",\"class 1\",\"class 1\",\"class 2\",\"class 2\",\"class 1\",\"class 2\",\"class 2\",\"class 2\",\"class 2\",\"class 2\",\"class 1\",\"class 1\",\"class 2\",\"class 1\",\"class 1\",\"class 2\",\"class 1\",\"class 2\",\"class 2\",\"class 2\",\"class 2\",\"class 2\",\"class 1\",\"class 2\",\"class 2\",\"class 2\",\"class 2\",\"class 1\",\"class 1\",\"class 2\",\"class 1\",\"class 1\",\"class 1\",\"class 2\",\"class 1\",\"class 2\",\"class 2\",\"class 2\",\"class 1\",\"class 2\",\"class 2\",\"class 2\",\"class 1\",\"class 1\",\"class 1\",\"class 1\",\"class 2\",\"class 2\",\"class 2\",\"class 2\",\"class 1\",\"class 1\",\"class 1\",\"class 1\",\"class 1\",\"class 2\",\"class 1\",\"class 1\",\"class 2\",\"class 2\",\"class 1\",\"class 1\",\"class 2\",\"class 1\",\"class 2\",\"class 2\",\"class 1\",\"class 1\",\"class 1\"],\"x\":{\"__ndarray__\":\"mjnUkPxq4r+A7BXi3lyrPzDUKrTMr9k/zN7l1USM7D+40Xy13ZjTv3hrDKWvT+K/IuqN6UBv7r+eA6Hmfsfmv8S2uwMZpeC/AJy5xBjZYz887M7YySDnP8RIWZfOJeg/XGZeVmdZ2L/A6LGQddfpv54NX35jh+w/4EVlBYomob+8zVV7hSzZP8DaVZAR/Og/Yn9Ws7eL5b8iMFuQfoDpv2AXjpQE6dU/rmcjs3Ow5b/A2vxYC8/gv7BPu3YJntE/eCFQeQDg3j9Y79TWZifFP7JQjoJQ7um/1Cl0XcmX4D+0heeuHOHRP1Th7giL8ew/BgXLg+Vu6D9EdpyaBqbZv6C6qjd/pK8/ABR+G+Jlmj+4KyoHg3TXP1ARpNXv8bW/hLUFp86M6r8gyxpwrU7RP/h3t3Qgrsa/ePLELe5g3D8y2PGOlfvjP4Dae9NYVYg/8tHGOSaz6b/Uf+zE2v/XPzyRYG1h09Q/EKSEWRwStL9ABhL2nOzgvzym7YVXq+O/4K36AhbOwD8gYQh9xkW2P3A8nvN5e+i/+IwaiT1N3r/mHZP02hbrv8Q6QOT12N0/OAqU8krB1z+EWi1fFIXkv0hKRK/8ruA/+IlIvNz14T+EU1PbsCHhP77OtLM1rO6/ygb7nGfv6z8Y7IQW0hnDvyQLwk3lSdY/sCS7r/NytD/Sv3+7yy7ov9LhG39CNOc/kP6CPltVtz8kX65osQHnPwAWKFDVSeO/YPtljsxa5b/Eb4duVprtP0hnyLmK298/qAmgIKEryb+4JhMO0LfMP5ge9WyUrMo/UNGCV9tJsz8oG8U3G8/Ev27E9peZBeG/qILJpYkZ0D8wyXIPUFTkv2jr5WeesdE/YDIlxr5oy7+ILilfL17Hv0Rt8MY6IeY/xACtJT++0r/EZAVhaKTivwCIOwS+mK+/3CgiUbo84L9k/UjkbGDfv6iZmKAEKeo/CO9qqnWxxT+EvNIf2Knpv2yafpQqH96/FLYILge24D+AAQwL9BiKv8KxMEqlLe+/aLTe3BgR1L++7h98lK7ivwzvcXQzg9Q/gosZpP2v6r8=\",\"dtype\":\"float64\",\"order\":\"little\",\"shape\":[100]},\"y\":{\"__ndarray__\":\"wPL5BXqCuT9cmXq8EyPbPzBtGCEfS+W/BjNbKGnS5z+UzM0yayLsv2yhR6JwjeO/sDSOf1L4wr+Yqa1FciPrP5DWQ2zl0bE/8OkSizLa3D8MoQi3G/zSvxidPF7Fe9w/UBpaAa4JyD+Q8jvg8V/rP0hNw9QjPt8/+BgVXHrw1z8wlZIprA6wv+YD+AVNKOi/tM3GkJZp6z8wQav7/vDkPxCoe32uAcS/OGBOjzyRw78kojs17h7Vv7D6Lf6IQMs/1OEE4r9k5z/iI6xElRXrv5gqGRGShdy/YAvRf6cEyz8ill/bilfnv3A+LyygNt2/CNrIAvJZ4r/oVv7O+e3Sv/hCQu7+mdO/jGMXOkrx2D8oYkhHiqDCv65JOgKcEOm/lNfdM4oU5j8AMM005e18v8gy2LQOQOE/5pFMCKuU7D+0qOnQ9qPjP4Q/eEDt1di/kNCPCz5M3L9gwpRhfdLFvzzgej4i/tW/AOPDgkO7c7+YiBgJv9beP3DhkFClleK/yC7e30BZzz+MMDLvYz/tP9Y8pSKaMuU/XpdcxAPH4D/Yn0l5D2rbP0pk8f4IQeW/UJVIEoA/sT+Ol+y1nKTjP1DtSWUXkto/8IvooiOV7j8QSx6sVDXrv1Il9q24Mu+/qJtVX4FVw7+0V8vkXgfvv7jSPTXWuMy/ZtNTGyAD67/E7J2OB0vsP/4p7rZVLOO/mP6Z7a7b4T9ctJOHKeHdP3B3rPGDQtM/PJq1dSr90b+gEZeOmh+gv7i1IHVswcw/XO9EFKyD7z9OJDBoJvDov94ef2DvQ+y/UJOuEXfIwL84RAI/mhzRvwaTpA8PoO8/dIijD4rf5j/EGbqwjP7YPwDho3eyC46/gGampKQQpD/gi1gg5xCgP8hYVdC6B+G/hPYzpVlg5L8u+2gWH//kv8DrUyVkPeY/9GEXF2in279kDz76v+3ovxZAmM8yueA/pvIWsh1/6T/y3O40m7PjvxCmh9cwduC/IFQIpYTzyT8YdWG1eJ7SvwLdrncuKOQ/bHxfDZLK5D/qm5dwrOzvv+CtBx6TSN+/mIVI1xkHxr8=\",\"dtype\":\"float64\",\"order\":\"little\",\"shape\":[100]}},\"selected\":{\"id\":\"6383\"},\"selection_policy\":{\"id\":\"6382\"}},\"id\":\"6368\",\"type\":\"ColumnDataSource\"},{\"attributes\":{\"source\":{\"id\":\"6557\"}},\"id\":\"6562\",\"type\":\"CDSView\"},{\"attributes\":{\"tools\":[{\"id\":\"6354\"},{\"id\":\"6355\"},{\"id\":\"6356\"},{\"id\":\"6357\"},{\"id\":\"6358\"},{\"id\":\"6359\"}]},\"id\":\"6361\",\"type\":\"Toolbar\"},{\"attributes\":{\"source\":{\"id\":\"6503\"}},\"id\":\"6508\",\"type\":\"CDSView\"},{\"attributes\":{\"line_alpha\":0.2,\"line_color\":\"#AC2593\",\"line_dash\":[6],\"line_width\":4,\"x\":{\"field\":\"x\"},\"y\":{\"field\":\"y\"}},\"id\":\"6506\",\"type\":\"Line\"},{\"attributes\":{\"line_color\":\"#B22C8E\",\"line_dash\":[6],\"line_width\":4,\"x\":{\"field\":\"x\"},\"y\":{\"field\":\"y\"}},\"id\":\"6510\",\"type\":\"Line\"},{\"attributes\":{\"data\":{\"x\":{\"__ndarray__\":\"wrEwSqUt77/Eb4duVprtPw==\",\"dtype\":\"float64\",\"order\":\"little\",\"shape\":[2]},\"y\":{\"__ndarray__\":\"pUmQOR+P179q/YIaKofFPw==\",\"dtype\":\"float64\",\"order\":\"little\",\"shape\":[2]}},\"selected\":{\"id\":\"6741\"},\"selection_policy\":{\"id\":\"6740\"}},\"id\":\"6509\",\"type\":\"ColumnDataSource\"},{\"attributes\":{\"data\":{\"x\":{\"__ndarray__\":\"wrEwSqUt77/Eb4duVprtPw==\",\"dtype\":\"float64\",\"order\":\"little\",\"shape\":[2]},\"y\":{\"__ndarray__\":\"n8l4SnjX279a/h3ayXPLPw==\",\"dtype\":\"float64\",\"order\":\"little\",\"shape\":[2]}},\"selected\":{\"id\":\"6739\"},\"selection_policy\":{\"id\":\"6738\"}},\"id\":\"6503\",\"type\":\"ColumnDataSource\"},{\"attributes\":{\"data\":{\"x\":{\"__ndarray__\":\"wrEwSqUt77/Eb4duVprtPw==\",\"dtype\":\"float64\",\"order\":\"little\",\"shape\":[2]},\"y\":{\"__ndarray__\":\"BuCFkbJfuz8p6Na3iw7Kvw==\",\"dtype\":\"float64\",\"order\":\"little\",\"shape\":[2]}},\"selected\":{\"id\":\"6797\"},\"selection_policy\":{\"id\":\"6796\"}},\"id\":\"6677\",\"type\":\"ColumnDataSource\"},{\"attributes\":{},\"id\":\"6732\",\"type\":\"UnionRenderers\"},{\"attributes\":{},\"id\":\"6770\",\"type\":\"UnionRenderers\"},{\"attributes\":{},\"id\":\"6733\",\"type\":\"Selection\"},{\"attributes\":{},\"id\":\"6771\",\"type\":\"Selection\"},{\"attributes\":{\"data\":{\"x\":{\"__ndarray__\":\"wrEwSqUt77/Eb4duVprtPw==\",\"dtype\":\"float64\",\"order\":\"little\",\"shape\":[2]},\"y\":{\"__ndarray__\":\"J/I6siLW5789Y7YeJgnbPw==\",\"dtype\":\"float64\",\"order\":\"little\",\"shape\":[2]}},\"selected\":{\"id\":\"6733\"},\"selection_policy\":{\"id\":\"6732\"}},\"id\":\"6485\",\"type\":\"ColumnDataSource\"},{\"attributes\":{\"line_color\":\"#9F1A9B\",\"line_dash\":[6],\"line_width\":4,\"x\":{\"field\":\"x\"},\"y\":{\"field\":\"y\"}},\"id\":\"6492\",\"type\":\"Line\"},{\"attributes\":{\"line_alpha\":0.1,\"line_color\":\"#920FA2\",\"line_dash\":[6],\"line_width\":4,\"x\":{\"field\":\"x\"},\"y\":{\"field\":\"y\"}},\"id\":\"6481\",\"type\":\"Line\"},{\"attributes\":{\"line_alpha\":0.2,\"line_color\":\"#DA5A68\",\"line_dash\":[6],\"line_width\":4,\"x\":{\"field\":\"x\"},\"y\":{\"field\":\"y\"}},\"id\":\"6560\",\"type\":\"Line\"},{\"attributes\":{\"source\":{\"id\":\"6479\"}},\"id\":\"6484\",\"type\":\"CDSView\"},{\"attributes\":{\"coordinates\":null,\"data_source\":{\"id\":\"6677\"},\"glyph\":{\"id\":\"6678\"},\"group\":null,\"hover_glyph\":null,\"muted_glyph\":{\"id\":\"6680\"},\"nonselection_glyph\":{\"id\":\"6679\"},\"view\":{\"id\":\"6682\"}},\"id\":\"6681\",\"type\":\"GlyphRenderer\"},{\"attributes\":{},\"id\":\"6734\",\"type\":\"UnionRenderers\"},{\"attributes\":{\"coordinates\":null,\"data_source\":{\"id\":\"6485\"},\"glyph\":{\"id\":\"6486\"},\"group\":null,\"hover_glyph\":null,\"muted_glyph\":{\"id\":\"6488\"},\"nonselection_glyph\":{\"id\":\"6487\"},\"view\":{\"id\":\"6490\"}},\"id\":\"6489\",\"type\":\"GlyphRenderer\"},{\"attributes\":{\"line_alpha\":0.2,\"line_color\":\"#99149F\",\"line_dash\":[6],\"line_width\":4,\"x\":{\"field\":\"x\"},\"y\":{\"field\":\"y\"}},\"id\":\"6488\",\"type\":\"Line\"},{\"attributes\":{},\"id\":\"6772\",\"type\":\"UnionRenderers\"},{\"attributes\":{\"source\":{\"id\":\"6485\"}},\"id\":\"6490\",\"type\":\"CDSView\"},{\"attributes\":{},\"id\":\"6719\",\"type\":\"Selection\"},{\"attributes\":{},\"id\":\"6735\",\"type\":\"Selection\"},{\"attributes\":{\"line_alpha\":0.1,\"line_color\":\"#99149F\",\"line_dash\":[6],\"line_width\":4,\"x\":{\"field\":\"x\"},\"y\":{\"field\":\"y\"}},\"id\":\"6487\",\"type\":\"Line\"},{\"attributes\":{\"coordinates\":null,\"data_source\":{\"id\":\"6467\"},\"glyph\":{\"id\":\"6468\"},\"group\":null,\"hover_glyph\":null,\"muted_glyph\":{\"id\":\"6470\"},\"nonselection_glyph\":{\"id\":\"6469\"},\"view\":{\"id\":\"6472\"}},\"id\":\"6471\",\"type\":\"GlyphRenderer\"},{\"attributes\":{},\"id\":\"6773\",\"type\":\"Selection\"},{\"attributes\":{\"line_alpha\":0.2,\"line_color\":\"#8204A7\",\"line_dash\":[6],\"line_width\":4,\"x\":{\"field\":\"x\"},\"y\":{\"field\":\"y\"}},\"id\":\"6470\",\"type\":\"Line\"},{\"attributes\":{\"source\":{\"id\":\"6467\"}},\"id\":\"6472\",\"type\":\"CDSView\"},{\"attributes\":{\"line_alpha\":0.1,\"line_color\":\"#8204A7\",\"line_dash\":[6],\"line_width\":4,\"x\":{\"field\":\"x\"},\"y\":{\"field\":\"y\"}},\"id\":\"6469\",\"type\":\"Line\"},{\"attributes\":{\"line_color\":\"#920FA2\",\"line_dash\":[6],\"line_width\":4,\"x\":{\"field\":\"x\"},\"y\":{\"field\":\"y\"}},\"id\":\"6480\",\"type\":\"Line\"},{\"attributes\":{\"data\":{\"x\":{\"__ndarray__\":\"wrEwSqUt77/Eb4duVprtPw==\",\"dtype\":\"float64\",\"order\":\"little\",\"shape\":[2]},\"y\":{\"__ndarray__\":\"3yLYrdIy8r84y0RbiL7lPw==\",\"dtype\":\"float64\",\"order\":\"little\",\"shape\":[2]}},\"selected\":{\"id\":\"6729\"},\"selection_policy\":{\"id\":\"6728\"}},\"id\":\"6473\",\"type\":\"ColumnDataSource\"},{\"attributes\":{\"data\":{\"x\":{\"__ndarray__\":\"wrEwSqUt77/Eb4duVprtPw==\",\"dtype\":\"float64\",\"order\":\"little\",\"shape\":[2]},\"y\":{\"__ndarray__\":\"HC5qbzKG4L+lZb67BEbRPw==\",\"dtype\":\"float64\",\"order\":\"little\",\"shape\":[2]}},\"selected\":{\"id\":\"6737\"},\"selection_policy\":{\"id\":\"6736\"}},\"id\":\"6497\",\"type\":\"ColumnDataSource\"},{\"attributes\":{\"line_color\":\"#AC2593\",\"line_dash\":[6],\"line_width\":4,\"x\":{\"field\":\"x\"},\"y\":{\"field\":\"y\"}},\"id\":\"6504\",\"type\":\"Line\"},{\"attributes\":{\"line_color\":\"#F38748\",\"line_dash\":[6],\"line_width\":4,\"x\":{\"field\":\"x\"},\"y\":{\"field\":\"y\"}},\"id\":\"6600\",\"type\":\"Line\"},{\"attributes\":{\"line_alpha\":0.1,\"line_color\":\"#9F1A9B\",\"line_dash\":[6],\"line_width\":4,\"x\":{\"field\":\"x\"},\"y\":{\"field\":\"y\"}},\"id\":\"6493\",\"type\":\"Line\"},{\"attributes\":{\"source\":{\"id\":\"6491\"}},\"id\":\"6496\",\"type\":\"CDSView\"},{\"attributes\":{},\"id\":\"6718\",\"type\":\"UnionRenderers\"},{\"attributes\":{\"line_alpha\":0.2,\"line_color\":\"#9F1A9B\",\"line_dash\":[6],\"line_width\":4,\"x\":{\"field\":\"x\"},\"y\":{\"field\":\"y\"}},\"id\":\"6494\",\"type\":\"Line\"},{\"attributes\":{\"coordinates\":null,\"data_source\":{\"id\":\"6491\"},\"glyph\":{\"id\":\"6492\"},\"group\":null,\"hover_glyph\":null,\"muted_glyph\":{\"id\":\"6494\"},\"nonselection_glyph\":{\"id\":\"6493\"},\"view\":{\"id\":\"6496\"}},\"id\":\"6495\",\"type\":\"GlyphRenderer\"},{\"attributes\":{\"data\":{\"x\":{\"__ndarray__\":\"wrEwSqUt77/Eb4duVprtPw==\",\"dtype\":\"float64\",\"order\":\"little\",\"shape\":[2]},\"y\":{\"__ndarray__\":\"vvaJDmTKcj9OrvGMOge9vw==\",\"dtype\":\"float64\",\"order\":\"little\",\"shape\":[2]}},\"selected\":{\"id\":\"6769\"},\"selection_policy\":{\"id\":\"6768\"}},\"id\":\"6593\",\"type\":\"ColumnDataSource\"},{\"attributes\":{},\"id\":\"6736\",\"type\":\"UnionRenderers\"},{\"attributes\":{},\"id\":\"6774\",\"type\":\"UnionRenderers\"},{\"attributes\":{},\"id\":\"6737\",\"type\":\"Selection\"},{\"attributes\":{\"margin\":[5,5,5,5],\"name\":\"HSpacer00188\",\"sizing_mode\":\"stretch_width\"},\"id\":\"6911\",\"type\":\"Spacer\"},{\"attributes\":{\"line_alpha\":0.1,\"line_color\":\"#AC2593\",\"line_dash\":[6],\"line_width\":4,\"x\":{\"field\":\"x\"},\"y\":{\"field\":\"y\"}},\"id\":\"6505\",\"type\":\"Line\"},{\"attributes\":{\"coordinates\":null,\"data_source\":{\"id\":\"6497\"},\"glyph\":{\"id\":\"6498\"},\"group\":null,\"hover_glyph\":null,\"muted_glyph\":{\"id\":\"6500\"},\"nonselection_glyph\":{\"id\":\"6499\"},\"view\":{\"id\":\"6502\"}},\"id\":\"6501\",\"type\":\"GlyphRenderer\"},{\"attributes\":{},\"id\":\"6775\",\"type\":\"Selection\"},{\"attributes\":{\"line_alpha\":0.2,\"line_color\":\"#A51F97\",\"line_dash\":[6],\"line_width\":4,\"x\":{\"field\":\"x\"},\"y\":{\"field\":\"y\"}},\"id\":\"6500\",\"type\":\"Line\"},{\"attributes\":{\"source\":{\"id\":\"6497\"}},\"id\":\"6502\",\"type\":\"CDSView\"},{\"attributes\":{\"line_alpha\":0.1,\"line_color\":\"#A51F97\",\"line_dash\":[6],\"line_width\":4,\"x\":{\"field\":\"x\"},\"y\":{\"field\":\"y\"}},\"id\":\"6499\",\"type\":\"Line\"},{\"attributes\":{\"coordinates\":null,\"data_source\":{\"id\":\"6557\"},\"glyph\":{\"id\":\"6558\"},\"group\":null,\"hover_glyph\":null,\"muted_glyph\":{\"id\":\"6560\"},\"nonselection_glyph\":{\"id\":\"6559\"},\"view\":{\"id\":\"6562\"}},\"id\":\"6561\",\"type\":\"GlyphRenderer\"},{\"attributes\":{\"coordinates\":null,\"data_source\":{\"id\":\"6503\"},\"glyph\":{\"id\":\"6504\"},\"group\":null,\"hover_glyph\":null,\"muted_glyph\":{\"id\":\"6506\"},\"nonselection_glyph\":{\"id\":\"6505\"},\"view\":{\"id\":\"6508\"}},\"id\":\"6507\",\"type\":\"GlyphRenderer\"},{\"attributes\":{\"data\":{\"x\":{\"__ndarray__\":\"wrEwSqUt77/Eb4duVprtPw==\",\"dtype\":\"float64\",\"order\":\"little\",\"shape\":[2]},\"y\":{\"__ndarray__\":\"l8gCK7iLvD9zZM3uA5jKvw==\",\"dtype\":\"float64\",\"order\":\"little\",\"shape\":[2]}},\"selected\":{\"id\":\"6799\"},\"selection_policy\":{\"id\":\"6798\"}},\"id\":\"6683\",\"type\":\"ColumnDataSource\"},{\"attributes\":{},\"id\":\"6738\",\"type\":\"UnionRenderers\"},{\"attributes\":{\"line_alpha\":0.2,\"line_color\":\"#0C0786\",\"line_dash\":[6],\"line_width\":4,\"x\":{\"field\":\"x\"},\"y\":{\"field\":\"y\"}},\"id\":\"6392\",\"type\":\"Line\"},{\"attributes\":{},\"id\":\"6776\",\"type\":\"UnionRenderers\"},{\"attributes\":{\"coordinates\":null,\"data_source\":{\"id\":\"6671\"},\"glyph\":{\"id\":\"6672\"},\"group\":null,\"hover_glyph\":null,\"muted_glyph\":{\"id\":\"6674\"},\"nonselection_glyph\":{\"id\":\"6673\"},\"view\":{\"id\":\"6676\"}},\"id\":\"6675\",\"type\":\"GlyphRenderer\"},{\"attributes\":{},\"id\":\"6739\",\"type\":\"Selection\"},{\"attributes\":{},\"id\":\"6777\",\"type\":\"Selection\"},{\"attributes\":{\"fill_alpha\":{\"value\":0.1},\"fill_color\":{\"field\":\"color\"},\"hatch_alpha\":{\"value\":0.1},\"hatch_color\":{\"field\":\"color\"},\"line_alpha\":{\"value\":0.1},\"line_color\":{\"value\":\"white\"},\"size\":{\"value\":10},\"x\":{\"field\":\"x\"},\"y\":{\"field\":\"y\"}},\"id\":\"6371\",\"type\":\"Circle\"},{\"attributes\":{\"coordinates\":null,\"data_source\":{\"id\":\"6563\"},\"glyph\":{\"id\":\"6564\"},\"group\":null,\"hover_glyph\":null,\"muted_glyph\":{\"id\":\"6566\"},\"nonselection_glyph\":{\"id\":\"6565\"},\"view\":{\"id\":\"6568\"}},\"id\":\"6567\",\"type\":\"GlyphRenderer\"},{\"attributes\":{\"line_alpha\":0.2,\"line_color\":\"#DE6064\",\"line_dash\":[6],\"line_width\":4,\"x\":{\"field\":\"x\"},\"y\":{\"field\":\"y\"}},\"id\":\"6566\",\"type\":\"Line\"},{\"attributes\":{\"source\":{\"id\":\"6563\"}},\"id\":\"6568\",\"type\":\"CDSView\"},{\"attributes\":{\"coordinates\":null,\"data_source\":{\"id\":\"6368\"},\"glyph\":{\"id\":\"6370\"},\"group\":null,\"hover_glyph\":null,\"muted_glyph\":{\"id\":\"6372\"},\"nonselection_glyph\":{\"id\":\"6371\"},\"view\":{\"id\":\"6374\"}},\"id\":\"6373\",\"type\":\"GlyphRenderer\"},{\"attributes\":{\"line_alpha\":0.1,\"line_color\":\"#DE6064\",\"line_dash\":[6],\"line_width\":4,\"x\":{\"field\":\"x\"},\"y\":{\"field\":\"y\"}},\"id\":\"6565\",\"type\":\"Line\"},{\"attributes\":{\"line_color\":\"#5201A3\",\"line_dash\":[6],\"line_width\":4,\"x\":{\"field\":\"x\"},\"y\":{\"field\":\"y\"}},\"id\":\"6432\",\"type\":\"Line\"},{\"attributes\":{\"line_color\":\"#E66D5A\",\"line_dash\":[6],\"line_width\":4,\"x\":{\"field\":\"x\"},\"y\":{\"field\":\"y\"}},\"id\":\"6576\",\"type\":\"Line\"},{\"attributes\":{\"data\":{\"x\":{\"__ndarray__\":\"wrEwSqUt77/Eb4duVprtPw==\",\"dtype\":\"float64\",\"order\":\"little\",\"shape\":[2]},\"y\":{\"__ndarray__\":\"2+XXgny3qb/Pq71VeWmxvw==\",\"dtype\":\"float64\",\"order\":\"little\",\"shape\":[2]}},\"selected\":{\"id\":\"6761\"},\"selection_policy\":{\"id\":\"6760\"}},\"id\":\"6569\",\"type\":\"ColumnDataSource\"},{\"attributes\":{\"data\":{\"x\":{\"__ndarray__\":\"wrEwSqUt77/Eb4duVprtPw==\",\"dtype\":\"float64\",\"order\":\"little\",\"shape\":[2]},\"y\":{\"__ndarray__\":\"VyGc4Kpb978IQj6uE3TsPw==\",\"dtype\":\"float64\",\"order\":\"little\",\"shape\":[2]}},\"selected\":{\"id\":\"6727\"},\"selection_policy\":{\"id\":\"6726\"}},\"id\":\"6467\",\"type\":\"ColumnDataSource\"},{\"attributes\":{\"coordinates\":null,\"data_source\":{\"id\":\"6569\"},\"glyph\":{\"id\":\"6570\"},\"group\":null,\"hover_glyph\":null,\"muted_glyph\":{\"id\":\"6572\"},\"nonselection_glyph\":{\"id\":\"6571\"},\"view\":{\"id\":\"6574\"}},\"id\":\"6573\",\"type\":\"GlyphRenderer\"},{\"attributes\":{\"line_color\":\"#8908A5\",\"line_dash\":[6],\"line_width\":4,\"x\":{\"field\":\"x\"},\"y\":{\"field\":\"y\"}},\"id\":\"6474\",\"type\":\"Line\"},{\"attributes\":{},\"id\":\"6740\",\"type\":\"UnionRenderers\"},{\"attributes\":{\"line_alpha\":0.1,\"line_color\":\"#7B02A8\",\"line_dash\":[6],\"line_width\":4,\"x\":{\"field\":\"x\"},\"y\":{\"field\":\"y\"}},\"id\":\"6463\",\"type\":\"Line\"},{\"attributes\":{\"line_color\":\"#FDB32E\",\"line_dash\":[6],\"line_width\":4,\"x\":{\"field\":\"x\"},\"y\":{\"field\":\"y\"}},\"id\":\"6636\",\"type\":\"Line\"},{\"attributes\":{\"source\":{\"id\":\"6461\"}},\"id\":\"6466\",\"type\":\"CDSView\"},{\"attributes\":{\"data\":{\"x\":{\"__ndarray__\":\"wrEwSqUt77/Eb4duVprtPw==\",\"dtype\":\"float64\",\"order\":\"little\",\"shape\":[2]},\"y\":{\"__ndarray__\":\"45NqvHKhrj87NTRTFaHEvw==\",\"dtype\":\"float64\",\"order\":\"little\",\"shape\":[2]}},\"selected\":{\"id\":\"6781\"},\"selection_policy\":{\"id\":\"6780\"}},\"id\":\"6629\",\"type\":\"ColumnDataSource\"},{\"attributes\":{},\"id\":\"6778\",\"type\":\"UnionRenderers\"},{\"attributes\":{\"line_alpha\":0.2,\"line_color\":\"#7B02A8\",\"line_dash\":[6],\"line_width\":4,\"x\":{\"field\":\"x\"},\"y\":{\"field\":\"y\"}},\"id\":\"6464\",\"type\":\"Line\"},{\"attributes\":{},\"id\":\"6716\",\"type\":\"UnionRenderers\"},{\"attributes\":{},\"id\":\"6741\",\"type\":\"Selection\"},{\"attributes\":{\"coordinates\":null,\"data_source\":{\"id\":\"6461\"},\"glyph\":{\"id\":\"6462\"},\"group\":null,\"hover_glyph\":null,\"muted_glyph\":{\"id\":\"6464\"},\"nonselection_glyph\":{\"id\":\"6463\"},\"view\":{\"id\":\"6466\"}},\"id\":\"6465\",\"type\":\"GlyphRenderer\"},{\"attributes\":{\"coordinates\":null,\"data_source\":{\"id\":\"6629\"},\"glyph\":{\"id\":\"6630\"},\"group\":null,\"hover_glyph\":null,\"muted_glyph\":{\"id\":\"6632\"},\"nonselection_glyph\":{\"id\":\"6631\"},\"view\":{\"id\":\"6634\"}},\"id\":\"6633\",\"type\":\"GlyphRenderer\"},{\"attributes\":{\"line_alpha\":0.2,\"line_color\":\"#FCAC32\",\"line_dash\":[6],\"line_width\":4,\"x\":{\"field\":\"x\"},\"y\":{\"field\":\"y\"}},\"id\":\"6632\",\"type\":\"Line\"},{\"attributes\":{},\"id\":\"6779\",\"type\":\"Selection\"},{\"attributes\":{\"data\":{\"x\":{\"__ndarray__\":\"wrEwSqUt77/Eb4duVprtPw==\",\"dtype\":\"float64\",\"order\":\"little\",\"shape\":[2]},\"y\":{\"__ndarray__\":\"Pc+VdihO/7+aHKzao2LzPw==\",\"dtype\":\"float64\",\"order\":\"little\",\"shape\":[2]}},\"selected\":{\"id\":\"6725\"},\"selection_policy\":{\"id\":\"6724\"}},\"id\":\"6461\",\"type\":\"ColumnDataSource\"},{\"attributes\":{\"source\":{\"id\":\"6629\"}},\"id\":\"6634\",\"type\":\"CDSView\"},{\"attributes\":{},\"id\":\"6717\",\"type\":\"Selection\"},{\"attributes\":{\"line_color\":\"#8204A7\",\"line_dash\":[6],\"line_width\":4,\"x\":{\"field\":\"x\"},\"y\":{\"field\":\"y\"}},\"id\":\"6468\",\"type\":\"Line\"},{\"attributes\":{\"line_alpha\":0.1,\"line_color\":\"#FCAC32\",\"line_dash\":[6],\"line_width\":4,\"x\":{\"field\":\"x\"},\"y\":{\"field\":\"y\"}},\"id\":\"6631\",\"type\":\"Line\"},{\"attributes\":{\"line_alpha\":0.1,\"line_color\":\"#7300A8\",\"line_dash\":[6],\"line_width\":4,\"x\":{\"field\":\"x\"},\"y\":{\"field\":\"y\"}},\"id\":\"6457\",\"type\":\"Line\"},{\"attributes\":{\"source\":{\"id\":\"6581\"}},\"id\":\"6586\",\"type\":\"CDSView\"},{\"attributes\":{\"source\":{\"id\":\"6455\"}},\"id\":\"6460\",\"type\":\"CDSView\"},{\"attributes\":{\"line_alpha\":0.1,\"line_color\":\"#EA7356\",\"line_dash\":[6],\"line_width\":4,\"x\":{\"field\":\"x\"},\"y\":{\"field\":\"y\"}},\"id\":\"6583\",\"type\":\"Line\"},{\"attributes\":{\"line_alpha\":0.2,\"line_color\":\"#7300A8\",\"line_dash\":[6],\"line_width\":4,\"x\":{\"field\":\"x\"},\"y\":{\"field\":\"y\"}},\"id\":\"6458\",\"type\":\"Line\"},{\"attributes\":{\"line_color\":\"#F0804D\",\"line_dash\":[6],\"line_width\":4,\"x\":{\"field\":\"x\"},\"y\":{\"field\":\"y\"}},\"id\":\"6594\",\"type\":\"Line\"},{\"attributes\":{\"coordinates\":null,\"data_source\":{\"id\":\"6455\"},\"glyph\":{\"id\":\"6456\"},\"group\":null,\"hover_glyph\":null,\"muted_glyph\":{\"id\":\"6458\"},\"nonselection_glyph\":{\"id\":\"6457\"},\"view\":{\"id\":\"6460\"}},\"id\":\"6459\",\"type\":\"GlyphRenderer\"},{\"attributes\":{\"data\":{\"x\":{\"__ndarray__\":\"wrEwSqUt77/Eb4duVprtPw==\",\"dtype\":\"float64\",\"order\":\"little\",\"shape\":[2]},\"y\":{\"__ndarray__\":\"ib7Vk7klfr+l1ppsM3S6vw==\",\"dtype\":\"float64\",\"order\":\"little\",\"shape\":[2]}},\"selected\":{\"id\":\"6767\"},\"selection_policy\":{\"id\":\"6766\"}},\"id\":\"6587\",\"type\":\"ColumnDataSource\"},{\"attributes\":{},\"id\":\"6715\",\"type\":\"Selection\"},{\"attributes\":{\"source\":{\"id\":\"6593\"}},\"id\":\"6598\",\"type\":\"CDSView\"},{\"attributes\":{\"data\":{\"x\":{\"__ndarray__\":\"wrEwSqUt77/Eb4duVprtPw==\",\"dtype\":\"float64\",\"order\":\"little\",\"shape\":[2]},\"y\":{\"__ndarray__\":\"4X3jFriOBsCFzTJ/wVr8Pw==\",\"dtype\":\"float64\",\"order\":\"little\",\"shape\":[2]}},\"selected\":{\"id\":\"6723\"},\"selection_policy\":{\"id\":\"6722\"}},\"id\":\"6455\",\"type\":\"ColumnDataSource\"},{\"attributes\":{\"coordinates\":null,\"data_source\":{\"id\":\"6587\"},\"glyph\":{\"id\":\"6588\"},\"group\":null,\"hover_glyph\":null,\"muted_glyph\":{\"id\":\"6590\"},\"nonselection_glyph\":{\"id\":\"6589\"},\"view\":{\"id\":\"6592\"}},\"id\":\"6591\",\"type\":\"GlyphRenderer\"},{\"attributes\":{\"line_color\":\"#7B02A8\",\"line_dash\":[6],\"line_width\":4,\"x\":{\"field\":\"x\"},\"y\":{\"field\":\"y\"}},\"id\":\"6462\",\"type\":\"Line\"},{\"attributes\":{\"line_alpha\":0.2,\"line_color\":\"#ED7952\",\"line_dash\":[6],\"line_width\":4,\"x\":{\"field\":\"x\"},\"y\":{\"field\":\"y\"}},\"id\":\"6590\",\"type\":\"Line\"},{\"attributes\":{},\"id\":\"6714\",\"type\":\"UnionRenderers\"},{\"attributes\":{\"line_alpha\":0.1,\"line_color\":\"#6C00A8\",\"line_dash\":[6],\"line_width\":4,\"x\":{\"field\":\"x\"},\"y\":{\"field\":\"y\"}},\"id\":\"6451\",\"type\":\"Line\"},{\"attributes\":{\"source\":{\"id\":\"6587\"}},\"id\":\"6592\",\"type\":\"CDSView\"},{\"attributes\":{\"source\":{\"id\":\"6449\"}},\"id\":\"6454\",\"type\":\"CDSView\"},{\"attributes\":{\"line_alpha\":0.1,\"line_color\":\"#ED7952\",\"line_dash\":[6],\"line_width\":4,\"x\":{\"field\":\"x\"},\"y\":{\"field\":\"y\"}},\"id\":\"6589\",\"type\":\"Line\"},{\"attributes\":{\"line_alpha\":0.2,\"line_color\":\"#6C00A8\",\"line_dash\":[6],\"line_width\":4,\"x\":{\"field\":\"x\"},\"y\":{\"field\":\"y\"}},\"id\":\"6452\",\"type\":\"Line\"},{\"attributes\":{\"line_alpha\":0.2,\"line_color\":\"#FBA337\",\"line_dash\":[6],\"line_width\":4,\"x\":{\"field\":\"x\"},\"y\":{\"field\":\"y\"}},\"id\":\"6626\",\"type\":\"Line\"},{\"attributes\":{\"coordinates\":null,\"data_source\":{\"id\":\"6449\"},\"glyph\":{\"id\":\"6450\"},\"group\":null,\"hover_glyph\":null,\"muted_glyph\":{\"id\":\"6452\"},\"nonselection_glyph\":{\"id\":\"6451\"},\"view\":{\"id\":\"6454\"}},\"id\":\"6453\",\"type\":\"GlyphRenderer\"},{\"attributes\":{\"coordinates\":null,\"data_source\":{\"id\":\"6623\"},\"glyph\":{\"id\":\"6624\"},\"group\":null,\"hover_glyph\":null,\"muted_glyph\":{\"id\":\"6626\"},\"nonselection_glyph\":{\"id\":\"6625\"},\"view\":{\"id\":\"6628\"}},\"id\":\"6627\",\"type\":\"GlyphRenderer\"},{\"attributes\":{},\"id\":\"6742\",\"type\":\"UnionRenderers\"},{\"attributes\":{\"data\":{\"x\":{\"__ndarray__\":\"wrEwSqUt77/Eb4duVprtPw==\",\"dtype\":\"float64\",\"order\":\"little\",\"shape\":[2]},\"y\":{\"__ndarray__\":\"LTmtz4DEEsBSG0DKtewHQA==\",\"dtype\":\"float64\",\"order\":\"little\",\"shape\":[2]}},\"selected\":{\"id\":\"6721\"},\"selection_policy\":{\"id\":\"6720\"}},\"id\":\"6449\",\"type\":\"ColumnDataSource\"},{\"attributes\":{\"data\":{\"x\":{\"__ndarray__\":\"wrEwSqUt77/Eb4duVprtPw==\",\"dtype\":\"float64\",\"order\":\"little\",\"shape\":[2]},\"y\":{\"__ndarray__\":\"NcK01W62qj/hQMLWA8TDvw==\",\"dtype\":\"float64\",\"order\":\"little\",\"shape\":[2]}},\"selected\":{\"id\":\"6779\"},\"selection_policy\":{\"id\":\"6778\"}},\"id\":\"6623\",\"type\":\"ColumnDataSource\"},{\"attributes\":{},\"id\":\"6780\",\"type\":\"UnionRenderers\"},{\"attributes\":{\"line_color\":\"#7300A8\",\"line_dash\":[6],\"line_width\":4,\"x\":{\"field\":\"x\"},\"y\":{\"field\":\"y\"}},\"id\":\"6456\",\"type\":\"Line\"},{\"attributes\":{\"line_color\":\"#FCAC32\",\"line_dash\":[6],\"line_width\":4,\"x\":{\"field\":\"x\"},\"y\":{\"field\":\"y\"}},\"id\":\"6630\",\"type\":\"Line\"},{\"attributes\":{},\"id\":\"6743\",\"type\":\"Selection\"},{\"attributes\":{\"line_alpha\":0.1,\"line_color\":\"#6200A6\",\"line_dash\":[6],\"line_width\":4,\"x\":{\"field\":\"x\"},\"y\":{\"field\":\"y\"}},\"id\":\"6445\",\"type\":\"Line\"},{\"attributes\":{\"line_alpha\":0.1,\"line_color\":\"#FA9C3B\",\"line_dash\":[6],\"line_width\":4,\"x\":{\"field\":\"x\"},\"y\":{\"field\":\"y\"}},\"id\":\"6619\",\"type\":\"Line\"},{\"attributes\":{\"source\":{\"id\":\"6443\"}},\"id\":\"6448\",\"type\":\"CDSView\"},{\"attributes\":{\"source\":{\"id\":\"6617\"}},\"id\":\"6622\",\"type\":\"CDSView\"},{\"attributes\":{},\"id\":\"6781\",\"type\":\"Selection\"},{\"attributes\":{\"line_alpha\":0.2,\"line_color\":\"#6200A6\",\"line_dash\":[6],\"line_width\":4,\"x\":{\"field\":\"x\"},\"y\":{\"field\":\"y\"}},\"id\":\"6446\",\"type\":\"Line\"},{\"attributes\":{\"line_alpha\":0.2,\"line_color\":\"#FA9C3B\",\"line_dash\":[6],\"line_width\":4,\"x\":{\"field\":\"x\"},\"y\":{\"field\":\"y\"}},\"id\":\"6620\",\"type\":\"Line\"},{\"attributes\":{\"coordinates\":null,\"data_source\":{\"id\":\"6443\"},\"glyph\":{\"id\":\"6444\"},\"group\":null,\"hover_glyph\":null,\"muted_glyph\":{\"id\":\"6446\"},\"nonselection_glyph\":{\"id\":\"6445\"},\"view\":{\"id\":\"6448\"}},\"id\":\"6447\",\"type\":\"GlyphRenderer\"},{\"attributes\":{\"coordinates\":null,\"data_source\":{\"id\":\"6617\"},\"glyph\":{\"id\":\"6618\"},\"group\":null,\"hover_glyph\":null,\"muted_glyph\":{\"id\":\"6620\"},\"nonselection_glyph\":{\"id\":\"6619\"},\"view\":{\"id\":\"6622\"}},\"id\":\"6621\",\"type\":\"GlyphRenderer\"},{\"attributes\":{\"coordinates\":null,\"data_source\":{\"id\":\"6683\"},\"glyph\":{\"id\":\"6684\"},\"group\":null,\"hover_glyph\":null,\"muted_glyph\":{\"id\":\"6686\"},\"nonselection_glyph\":{\"id\":\"6685\"},\"view\":{\"id\":\"6688\"}},\"id\":\"6687\",\"type\":\"GlyphRenderer\"},{\"attributes\":{\"end\":0.988288431694486,\"start\":-0.9976408194605686},\"id\":\"6388\",\"type\":\"Range1d\"},{\"attributes\":{\"data\":{\"x\":{\"__ndarray__\":\"wrEwSqUt77/Eb4duVprtPw==\",\"dtype\":\"float64\",\"order\":\"little\",\"shape\":[2]},\"y\":{\"__ndarray__\":\"MkUg8Uq5J8AOBmQHyaseQA==\",\"dtype\":\"float64\",\"order\":\"little\",\"shape\":[2]}},\"selected\":{\"id\":\"6719\"},\"selection_policy\":{\"id\":\"6718\"}},\"id\":\"6443\",\"type\":\"ColumnDataSource\"},{\"attributes\":{\"data\":{\"x\":{\"__ndarray__\":\"wrEwSqUt77/Eb4duVprtPw==\",\"dtype\":\"float64\",\"order\":\"little\",\"shape\":[2]},\"y\":{\"__ndarray__\":\"xQWvmJaFpj+YWZjpDdnCvw==\",\"dtype\":\"float64\",\"order\":\"little\",\"shape\":[2]}},\"selected\":{\"id\":\"6777\"},\"selection_policy\":{\"id\":\"6776\"}},\"id\":\"6617\",\"type\":\"ColumnDataSource\"},{\"attributes\":{\"line_color\":\"#6C00A8\",\"line_dash\":[6],\"line_width\":4,\"x\":{\"field\":\"x\"},\"y\":{\"field\":\"y\"}},\"id\":\"6450\",\"type\":\"Line\"},{\"attributes\":{\"line_color\":\"#FBA337\",\"line_dash\":[6],\"line_width\":4,\"x\":{\"field\":\"x\"},\"y\":{\"field\":\"y\"}},\"id\":\"6624\",\"type\":\"Line\"},{\"attributes\":{\"line_alpha\":0.1,\"line_color\":\"#5A00A5\",\"line_dash\":[6],\"line_width\":4,\"x\":{\"field\":\"x\"},\"y\":{\"field\":\"y\"}},\"id\":\"6439\",\"type\":\"Line\"},{\"attributes\":{\"line_alpha\":0.1,\"line_color\":\"#F89540\",\"line_dash\":[6],\"line_width\":4,\"x\":{\"field\":\"x\"},\"y\":{\"field\":\"y\"}},\"id\":\"6613\",\"type\":\"Line\"},{\"attributes\":{},\"id\":\"6713\",\"type\":\"Selection\"},{\"attributes\":{\"source\":{\"id\":\"6437\"}},\"id\":\"6442\",\"type\":\"CDSView\"},{\"attributes\":{\"source\":{\"id\":\"6611\"}},\"id\":\"6616\",\"type\":\"CDSView\"},{\"attributes\":{\"line_alpha\":0.2,\"line_color\":\"#5A00A5\",\"line_dash\":[6],\"line_width\":4,\"x\":{\"field\":\"x\"},\"y\":{\"field\":\"y\"}},\"id\":\"6440\",\"type\":\"Line\"},{\"attributes\":{\"line_alpha\":0.2,\"line_color\":\"#F89540\",\"line_dash\":[6],\"line_width\":4,\"x\":{\"field\":\"x\"},\"y\":{\"field\":\"y\"}},\"id\":\"6614\",\"type\":\"Line\"},{\"attributes\":{\"coordinates\":null,\"data_source\":{\"id\":\"6437\"},\"glyph\":{\"id\":\"6438\"},\"group\":null,\"hover_glyph\":null,\"muted_glyph\":{\"id\":\"6440\"},\"nonselection_glyph\":{\"id\":\"6439\"},\"view\":{\"id\":\"6442\"}},\"id\":\"6441\",\"type\":\"GlyphRenderer\"},{\"attributes\":{\"coordinates\":null,\"data_source\":{\"id\":\"6611\"},\"glyph\":{\"id\":\"6612\"},\"group\":null,\"hover_glyph\":null,\"muted_glyph\":{\"id\":\"6614\"},\"nonselection_glyph\":{\"id\":\"6613\"},\"view\":{\"id\":\"6616\"}},\"id\":\"6615\",\"type\":\"GlyphRenderer\"},{\"attributes\":{},\"id\":\"6712\",\"type\":\"UnionRenderers\"},{\"attributes\":{\"data\":{\"x\":{\"__ndarray__\":\"wrEwSqUt77/Eb4duVprtPw==\",\"dtype\":\"float64\",\"order\":\"little\",\"shape\":[2]},\"y\":{\"__ndarray__\":\"s2mhQReIPUC8pIAFbl8zwA==\",\"dtype\":\"float64\",\"order\":\"little\",\"shape\":[2]}},\"selected\":{\"id\":\"6717\"},\"selection_policy\":{\"id\":\"6716\"}},\"id\":\"6437\",\"type\":\"ColumnDataSource\"},{\"attributes\":{\"data\":{\"x\":{\"__ndarray__\":\"wrEwSqUt77/Eb4duVprtPw==\",\"dtype\":\"float64\",\"order\":\"little\",\"shape\":[2]},\"y\":{\"__ndarray__\":\"p26nPCQHoj+D65V10t7Bvw==\",\"dtype\":\"float64\",\"order\":\"little\",\"shape\":[2]}},\"selected\":{\"id\":\"6775\"},\"selection_policy\":{\"id\":\"6774\"}},\"id\":\"6611\",\"type\":\"ColumnDataSource\"},{\"attributes\":{\"line_color\":\"#6200A6\",\"line_dash\":[6],\"line_width\":4,\"x\":{\"field\":\"x\"},\"y\":{\"field\":\"y\"}},\"id\":\"6444\",\"type\":\"Line\"},{\"attributes\":{\"line_color\":\"#FA9C3B\",\"line_dash\":[6],\"line_width\":4,\"x\":{\"field\":\"x\"},\"y\":{\"field\":\"y\"}},\"id\":\"6618\",\"type\":\"Line\"},{\"attributes\":{\"line_alpha\":0.1,\"line_color\":\"#5201A3\",\"line_dash\":[6],\"line_width\":4,\"x\":{\"field\":\"x\"},\"y\":{\"field\":\"y\"}},\"id\":\"6433\",\"type\":\"Line\"},{\"attributes\":{\"line_color\":\"#FDBB2B\",\"line_dash\":[6],\"line_width\":4,\"x\":{\"field\":\"x\"},\"y\":{\"field\":\"y\"}},\"id\":\"6642\",\"type\":\"Line\"},{\"attributes\":{},\"id\":\"6744\",\"type\":\"UnionRenderers\"},{\"attributes\":{\"source\":{\"id\":\"6431\"}},\"id\":\"6436\",\"type\":\"CDSView\"},{\"attributes\":{\"data\":{\"x\":{\"__ndarray__\":\"wrEwSqUt77/Eb4duVprtPw==\",\"dtype\":\"float64\",\"order\":\"little\",\"shape\":[2]},\"y\":{\"__ndarray__\":\"akmXS7QmsT8RQ2SueXHFvw==\",\"dtype\":\"float64\",\"order\":\"little\",\"shape\":[2]}},\"selected\":{\"id\":\"6783\"},\"selection_policy\":{\"id\":\"6782\"}},\"id\":\"6635\",\"type\":\"ColumnDataSource\"},{\"attributes\":{\"line_color\":\"#F3EE26\",\"line_dash\":[6],\"line_width\":4,\"x\":{\"field\":\"x\"},\"y\":{\"field\":\"y\"}},\"id\":\"6678\",\"type\":\"Line\"},{\"attributes\":{\"line_alpha\":0.2,\"line_color\":\"#5201A3\",\"line_dash\":[6],\"line_width\":4,\"x\":{\"field\":\"x\"},\"y\":{\"field\":\"y\"}},\"id\":\"6434\",\"type\":\"Line\"},{\"attributes\":{},\"id\":\"6782\",\"type\":\"UnionRenderers\"},{\"attributes\":{\"coordinates\":null,\"data_source\":{\"id\":\"6431\"},\"glyph\":{\"id\":\"6432\"},\"group\":null,\"hover_glyph\":null,\"muted_glyph\":{\"id\":\"6434\"},\"nonselection_glyph\":{\"id\":\"6433\"},\"view\":{\"id\":\"6436\"}},\"id\":\"6435\",\"type\":\"GlyphRenderer\"},{\"attributes\":{\"coordinates\":null,\"data_source\":{\"id\":\"6635\"},\"glyph\":{\"id\":\"6636\"},\"group\":null,\"hover_glyph\":null,\"muted_glyph\":{\"id\":\"6638\"},\"nonselection_glyph\":{\"id\":\"6637\"},\"view\":{\"id\":\"6640\"}},\"id\":\"6639\",\"type\":\"GlyphRenderer\"},{\"attributes\":{},\"id\":\"6745\",\"type\":\"Selection\"},{\"attributes\":{\"line_alpha\":0.2,\"line_color\":\"#FDB32E\",\"line_dash\":[6],\"line_width\":4,\"x\":{\"field\":\"x\"},\"y\":{\"field\":\"y\"}},\"id\":\"6638\",\"type\":\"Line\"},{\"attributes\":{\"data\":{\"x\":{\"__ndarray__\":\"wrEwSqUt77/Eb4duVprtPw==\",\"dtype\":\"float64\",\"order\":\"little\",\"shape\":[2]},\"y\":{\"__ndarray__\":\"+5QdGDnvG0DQgpZWQ54SwA==\",\"dtype\":\"float64\",\"order\":\"little\",\"shape\":[2]}},\"selected\":{\"id\":\"6715\"},\"selection_policy\":{\"id\":\"6714\"}},\"id\":\"6431\",\"type\":\"ColumnDataSource\"},{\"attributes\":{\"source\":{\"id\":\"6635\"}},\"id\":\"6640\",\"type\":\"CDSView\"},{\"attributes\":{},\"id\":\"6783\",\"type\":\"Selection\"},{\"attributes\":{\"line_color\":\"#5A00A5\",\"line_dash\":[6],\"line_width\":4,\"x\":{\"field\":\"x\"},\"y\":{\"field\":\"y\"}},\"id\":\"6438\",\"type\":\"Line\"},{\"attributes\":{\"line_alpha\":0.1,\"line_color\":\"#FDB32E\",\"line_dash\":[6],\"line_width\":4,\"x\":{\"field\":\"x\"},\"y\":{\"field\":\"y\"}},\"id\":\"6637\",\"type\":\"Line\"},{\"attributes\":{\"line_alpha\":0.1,\"line_color\":\"#4A02A0\",\"line_dash\":[6],\"line_width\":4,\"x\":{\"field\":\"x\"},\"y\":{\"field\":\"y\"}},\"id\":\"6427\",\"type\":\"Line\"},{\"attributes\":{\"line_color\":\"#FDC328\",\"line_dash\":[6],\"line_width\":4,\"x\":{\"field\":\"x\"},\"y\":{\"field\":\"y\"}},\"id\":\"6648\",\"type\":\"Line\"},{\"attributes\":{\"source\":{\"id\":\"6425\"}},\"id\":\"6430\",\"type\":\"CDSView\"},{\"attributes\":{\"data\":{\"x\":{\"__ndarray__\":\"wrEwSqUt77/Eb4duVprtPw==\",\"dtype\":\"float64\",\"order\":\"little\",\"shape\":[2]},\"y\":{\"__ndarray__\":\"UdqC3B/gsj/rI3zSRDbGvw==\",\"dtype\":\"float64\",\"order\":\"little\",\"shape\":[2]}},\"selected\":{\"id\":\"6785\"},\"selection_policy\":{\"id\":\"6784\"}},\"id\":\"6641\",\"type\":\"ColumnDataSource\"},{\"attributes\":{\"line_alpha\":0.2,\"line_color\":\"#4A02A0\",\"line_dash\":[6],\"line_width\":4,\"x\":{\"field\":\"x\"},\"y\":{\"field\":\"y\"}},\"id\":\"6428\",\"type\":\"Line\"},{\"attributes\":{\"line_color\":\"#B83289\",\"line_dash\":[6],\"line_width\":4,\"x\":{\"field\":\"x\"},\"y\":{\"field\":\"y\"}},\"id\":\"6516\",\"type\":\"Line\"},{\"attributes\":{\"data\":{\"x\":{\"__ndarray__\":\"wrEwSqUt77/Eb4duVprtPw==\",\"dtype\":\"float64\",\"order\":\"little\",\"shape\":[2]},\"y\":{\"__ndarray__\":\"bDW8pstNEEB1736YNx0GwA==\",\"dtype\":\"float64\",\"order\":\"little\",\"shape\":[2]}},\"selected\":{\"id\":\"6713\"},\"selection_policy\":{\"id\":\"6712\"}},\"id\":\"6425\",\"type\":\"ColumnDataSource\"},{\"attributes\":{},\"id\":\"6711\",\"type\":\"Selection\"},{\"attributes\":{\"line_alpha\":0.1,\"line_color\":\"#42039D\",\"line_dash\":[6],\"line_width\":4,\"x\":{\"field\":\"x\"},\"y\":{\"field\":\"y\"}},\"id\":\"6421\",\"type\":\"Line\"},{\"attributes\":{\"background_fill_alpha\":0.9,\"background_fill_color\":\"#0f0f0f\",\"below\":[{\"id\":\"6346\"}],\"border_fill_alpha\":0.8,\"border_fill_color\":\"#111111\",\"center\":[{\"id\":\"6349\"},{\"id\":\"6353\"},{\"id\":\"6385\"}],\"height\":450,\"left\":[{\"id\":\"6350\"}],\"outline_line_alpha\":0.25,\"outline_line_color\":\"#E0E0E0\",\"outline_line_width\":3,\"renderers\":[{\"id\":\"6373\"},{\"id\":\"6393\"},{\"id\":\"6399\"},{\"id\":\"6405\"},{\"id\":\"6411\"},{\"id\":\"6417\"},{\"id\":\"6423\"},{\"id\":\"6429\"},{\"id\":\"6435\"},{\"id\":\"6441\"},{\"id\":\"6447\"},{\"id\":\"6453\"},{\"id\":\"6459\"},{\"id\":\"6465\"},{\"id\":\"6471\"},{\"id\":\"6477\"},{\"id\":\"6483\"},{\"id\":\"6489\"},{\"id\":\"6495\"},{\"id\":\"6501\"},{\"id\":\"6507\"},{\"id\":\"6513\"},{\"id\":\"6519\"},{\"id\":\"6525\"},{\"id\":\"6531\"},{\"id\":\"6537\"},{\"id\":\"6543\"},{\"id\":\"6549\"},{\"id\":\"6555\"},{\"id\":\"6561\"},{\"id\":\"6567\"},{\"id\":\"6573\"},{\"id\":\"6579\"},{\"id\":\"6585\"},{\"id\":\"6591\"},{\"id\":\"6597\"},{\"id\":\"6603\"},{\"id\":\"6609\"},{\"id\":\"6615\"},{\"id\":\"6621\"},{\"id\":\"6627\"},{\"id\":\"6633\"},{\"id\":\"6639\"},{\"id\":\"6645\"},{\"id\":\"6651\"},{\"id\":\"6657\"},{\"id\":\"6663\"},{\"id\":\"6669\"},{\"id\":\"6675\"},{\"id\":\"6681\"},{\"id\":\"6687\"}],\"right\":[{\"id\":\"6385\"}],\"title\":{\"id\":\"6336\"},\"toolbar\":{\"id\":\"6361\"},\"width\":700,\"x_range\":{\"id\":\"6387\"},\"x_scale\":{\"id\":\"6342\"},\"y_range\":{\"id\":\"6388\"},\"y_scale\":{\"id\":\"6344\"}},\"id\":\"6335\",\"subtype\":\"Figure\",\"type\":\"Plot\"},{\"attributes\":{\"source\":{\"id\":\"6419\"}},\"id\":\"6424\",\"type\":\"CDSView\"},{\"attributes\":{\"line_alpha\":0.2,\"line_color\":\"#42039D\",\"line_dash\":[6],\"line_width\":4,\"x\":{\"field\":\"x\"},\"y\":{\"field\":\"y\"}},\"id\":\"6422\",\"type\":\"Line\"},{\"attributes\":{},\"id\":\"6710\",\"type\":\"UnionRenderers\"},{\"attributes\":{\"coordinates\":null,\"data_source\":{\"id\":\"6419\"},\"glyph\":{\"id\":\"6420\"},\"group\":null,\"hover_glyph\":null,\"muted_glyph\":{\"id\":\"6422\"},\"nonselection_glyph\":{\"id\":\"6421\"},\"view\":{\"id\":\"6424\"}},\"id\":\"6423\",\"type\":\"GlyphRenderer\"},{\"attributes\":{\"data\":{\"x\":{\"__ndarray__\":\"wrEwSqUt77/Eb4duVprtPw==\",\"dtype\":\"float64\",\"order\":\"little\",\"shape\":[2]},\"y\":{\"__ndarray__\":\"ArhW2u1nB0BIZ9N8Fi4AwA==\",\"dtype\":\"float64\",\"order\":\"little\",\"shape\":[2]}},\"selected\":{\"id\":\"6711\"},\"selection_policy\":{\"id\":\"6710\"}},\"id\":\"6419\",\"type\":\"ColumnDataSource\"},{\"attributes\":{},\"id\":\"6746\",\"type\":\"UnionRenderers\"},{\"attributes\":{\"line_alpha\":0.1,\"line_color\":\"#380499\",\"line_dash\":[6],\"line_width\":4,\"x\":{\"field\":\"x\"},\"y\":{\"field\":\"y\"}},\"id\":\"6415\",\"type\":\"Line\"},{\"attributes\":{\"coordinates\":null,\"data_source\":{\"id\":\"6545\"},\"glyph\":{\"id\":\"6546\"},\"group\":null,\"hover_glyph\":null,\"muted_glyph\":{\"id\":\"6548\"},\"nonselection_glyph\":{\"id\":\"6547\"},\"view\":{\"id\":\"6550\"}},\"id\":\"6549\",\"type\":\"GlyphRenderer\"},{\"attributes\":{\"source\":{\"id\":\"6413\"}},\"id\":\"6418\",\"type\":\"CDSView\"},{\"attributes\":{\"line_alpha\":0.2,\"line_color\":\"#D14F71\",\"line_dash\":[6],\"line_width\":4,\"x\":{\"field\":\"x\"},\"y\":{\"field\":\"y\"}},\"id\":\"6548\",\"type\":\"Line\"},{\"attributes\":{},\"id\":\"6784\",\"type\":\"UnionRenderers\"},{\"attributes\":{\"line_alpha\":0.2,\"line_color\":\"#380499\",\"line_dash\":[6],\"line_width\":4,\"x\":{\"field\":\"x\"},\"y\":{\"field\":\"y\"}},\"id\":\"6416\",\"type\":\"Line\"},{\"attributes\":{\"source\":{\"id\":\"6545\"}},\"id\":\"6550\",\"type\":\"CDSView\"},{\"attributes\":{},\"id\":\"6747\",\"type\":\"Selection\"},{\"attributes\":{\"coordinates\":null,\"data_source\":{\"id\":\"6413\"},\"glyph\":{\"id\":\"6414\"},\"group\":null,\"hover_glyph\":null,\"muted_glyph\":{\"id\":\"6416\"},\"nonselection_glyph\":{\"id\":\"6415\"},\"view\":{\"id\":\"6418\"}},\"id\":\"6417\",\"type\":\"GlyphRenderer\"},{\"attributes\":{\"margin\":[5,5,5,5],\"name\":\"HSpacer00187\",\"sizing_mode\":\"stretch_width\"},\"id\":\"6690\",\"type\":\"Spacer\"},{\"attributes\":{\"line_alpha\":0.1,\"line_color\":\"#D14F71\",\"line_dash\":[6],\"line_width\":4,\"x\":{\"field\":\"x\"},\"y\":{\"field\":\"y\"}},\"id\":\"6547\",\"type\":\"Line\"},{\"attributes\":{\"line_color\":\"#42039D\",\"line_dash\":[6],\"line_width\":4,\"x\":{\"field\":\"x\"},\"y\":{\"field\":\"y\"}},\"id\":\"6420\",\"type\":\"Line\"},{\"attributes\":{\"line_color\":\"#DA5A68\",\"line_dash\":[6],\"line_width\":4,\"x\":{\"field\":\"x\"},\"y\":{\"field\":\"y\"}},\"id\":\"6558\",\"type\":\"Line\"},{\"attributes\":{},\"id\":\"6785\",\"type\":\"Selection\"},{\"attributes\":{\"data\":{\"x\":{\"__ndarray__\":\"wrEwSqUt77/Eb4duVprtPw==\",\"dtype\":\"float64\",\"order\":\"little\",\"shape\":[2]},\"y\":{\"__ndarray__\":\"fUeX4TFwAkC2TBk1FQj6vw==\",\"dtype\":\"float64\",\"order\":\"little\",\"shape\":[2]}},\"selected\":{\"id\":\"6709\"},\"selection_policy\":{\"id\":\"6708\"}},\"id\":\"6413\",\"type\":\"ColumnDataSource\"},{\"attributes\":{\"data\":{\"x\":{\"__ndarray__\":\"wrEwSqUt77/Eb4duVprtPw==\",\"dtype\":\"float64\",\"order\":\"little\",\"shape\":[2]},\"y\":{\"__ndarray__\":\"yX6dz4acu798Fndrr8KWvw==\",\"dtype\":\"float64\",\"order\":\"little\",\"shape\":[2]}},\"selected\":{\"id\":\"6755\"},\"selection_policy\":{\"id\":\"6754\"}},\"id\":\"6551\",\"type\":\"ColumnDataSource\"},{\"attributes\":{\"line_color\":\"#4A02A0\",\"line_dash\":[6],\"line_width\":4,\"x\":{\"field\":\"x\"},\"y\":{\"field\":\"y\"}},\"id\":\"6426\",\"type\":\"Line\"},{\"attributes\":{\"line_alpha\":0.1,\"line_color\":\"#2F0495\",\"line_dash\":[6],\"line_width\":4,\"x\":{\"field\":\"x\"},\"y\":{\"field\":\"y\"}},\"id\":\"6409\",\"type\":\"Line\"},{\"attributes\":{\"coordinates\":null,\"data_source\":{\"id\":\"6551\"},\"glyph\":{\"id\":\"6552\"},\"group\":null,\"hover_glyph\":null,\"muted_glyph\":{\"id\":\"6554\"},\"nonselection_glyph\":{\"id\":\"6553\"},\"view\":{\"id\":\"6556\"}},\"id\":\"6555\",\"type\":\"GlyphRenderer\"},{\"attributes\":{\"source\":{\"id\":\"6407\"}},\"id\":\"6412\",\"type\":\"CDSView\"},{\"attributes\":{\"line_alpha\":0.2,\"line_color\":\"#D6556D\",\"line_dash\":[6],\"line_width\":4,\"x\":{\"field\":\"x\"},\"y\":{\"field\":\"y\"}},\"id\":\"6554\",\"type\":\"Line\"},{\"attributes\":{\"line_alpha\":0.2,\"line_color\":\"#2F0495\",\"line_dash\":[6],\"line_width\":4,\"x\":{\"field\":\"x\"},\"y\":{\"field\":\"y\"}},\"id\":\"6410\",\"type\":\"Line\"},{\"attributes\":{\"source\":{\"id\":\"6551\"}},\"id\":\"6556\",\"type\":\"CDSView\"},{\"attributes\":{\"coordinates\":null,\"data_source\":{\"id\":\"6407\"},\"glyph\":{\"id\":\"6408\"},\"group\":null,\"hover_glyph\":null,\"muted_glyph\":{\"id\":\"6410\"},\"nonselection_glyph\":{\"id\":\"6409\"},\"view\":{\"id\":\"6412\"}},\"id\":\"6411\",\"type\":\"GlyphRenderer\"},{\"attributes\":{\"line_alpha\":0.1,\"line_color\":\"#D6556D\",\"line_dash\":[6],\"line_width\":4,\"x\":{\"field\":\"x\"},\"y\":{\"field\":\"y\"}},\"id\":\"6553\",\"type\":\"Line\"},{\"attributes\":{},\"id\":\"6709\",\"type\":\"Selection\"},{\"attributes\":{\"line_color\":\"#DE6064\",\"line_dash\":[6],\"line_width\":4,\"x\":{\"field\":\"x\"},\"y\":{\"field\":\"y\"}},\"id\":\"6564\",\"type\":\"Line\"},{\"attributes\":{\"data\":{\"x\":{\"__ndarray__\":\"wrEwSqUt77/Eb4duVprtPw==\",\"dtype\":\"float64\",\"order\":\"little\",\"shape\":[2]},\"y\":{\"__ndarray__\":\"Tx+vJQGb/j+wkXqtLhr2vw==\",\"dtype\":\"float64\",\"order\":\"little\",\"shape\":[2]}},\"selected\":{\"id\":\"6707\"},\"selection_policy\":{\"id\":\"6706\"}},\"id\":\"6407\",\"type\":\"ColumnDataSource\"},{\"attributes\":{\"data\":{\"x\":{\"__ndarray__\":\"wrEwSqUt77/Eb4duVprtPw==\",\"dtype\":\"float64\",\"order\":\"little\",\"shape\":[2]},\"y\":{\"__ndarray__\":\"FeJLdDMptr9NQ0fETe+jvw==\",\"dtype\":\"float64\",\"order\":\"little\",\"shape\":[2]}},\"selected\":{\"id\":\"6757\"},\"selection_policy\":{\"id\":\"6756\"}},\"id\":\"6557\",\"type\":\"ColumnDataSource\"},{\"attributes\":{\"line_color\":\"#380499\",\"line_dash\":[6],\"line_width\":4,\"x\":{\"field\":\"x\"},\"y\":{\"field\":\"y\"}},\"id\":\"6414\",\"type\":\"Line\"},{\"attributes\":{\"line_alpha\":0.2,\"line_color\":\"#F0804D\",\"line_dash\":[6],\"line_width\":4,\"x\":{\"field\":\"x\"},\"y\":{\"field\":\"y\"}},\"id\":\"6596\",\"type\":\"Line\"},{\"attributes\":{},\"id\":\"6708\",\"type\":\"UnionRenderers\"},{\"attributes\":{\"line_alpha\":0.1,\"line_color\":\"#250591\",\"line_dash\":[6],\"line_width\":4,\"x\":{\"field\":\"x\"},\"y\":{\"field\":\"y\"}},\"id\":\"6403\",\"type\":\"Line\"},{\"attributes\":{\"line_alpha\":0.1,\"line_color\":\"#F0804D\",\"line_dash\":[6],\"line_width\":4,\"x\":{\"field\":\"x\"},\"y\":{\"field\":\"y\"}},\"id\":\"6595\",\"type\":\"Line\"},{\"attributes\":{\"source\":{\"id\":\"6401\"}},\"id\":\"6406\",\"type\":\"CDSView\"},{\"attributes\":{\"line_alpha\":0.2,\"line_color\":\"#250591\",\"line_dash\":[6],\"line_width\":4,\"x\":{\"field\":\"x\"},\"y\":{\"field\":\"y\"}},\"id\":\"6404\",\"type\":\"Line\"},{\"attributes\":{\"coordinates\":null,\"data_source\":{\"id\":\"6401\"},\"glyph\":{\"id\":\"6402\"},\"group\":null,\"hover_glyph\":null,\"muted_glyph\":{\"id\":\"6404\"},\"nonselection_glyph\":{\"id\":\"6403\"},\"view\":{\"id\":\"6406\"}},\"id\":\"6405\",\"type\":\"GlyphRenderer\"},{\"attributes\":{},\"id\":\"6748\",\"type\":\"UnionRenderers\"},{\"attributes\":{\"line_alpha\":0.2,\"line_color\":\"#EA7356\",\"line_dash\":[6],\"line_width\":4,\"x\":{\"field\":\"x\"},\"y\":{\"field\":\"y\"}},\"id\":\"6584\",\"type\":\"Line\"},{\"attributes\":{\"data\":{\"x\":{\"__ndarray__\":\"wrEwSqUt77/Eb4duVprtPw==\",\"dtype\":\"float64\",\"order\":\"little\",\"shape\":[2]},\"y\":{\"__ndarray__\":\"kzk2U9o/+j+jWXKaLm3zvw==\",\"dtype\":\"float64\",\"order\":\"little\",\"shape\":[2]}},\"selected\":{\"id\":\"6705\"},\"selection_policy\":{\"id\":\"6704\"}},\"id\":\"6401\",\"type\":\"ColumnDataSource\"},{\"attributes\":{\"coordinates\":null,\"data_source\":{\"id\":\"6581\"},\"glyph\":{\"id\":\"6582\"},\"group\":null,\"hover_glyph\":null,\"muted_glyph\":{\"id\":\"6584\"},\"nonselection_glyph\":{\"id\":\"6583\"},\"view\":{\"id\":\"6586\"}},\"id\":\"6585\",\"type\":\"GlyphRenderer\"},{\"attributes\":{},\"id\":\"6786\",\"type\":\"UnionRenderers\"},{\"attributes\":{\"line_color\":\"#2F0495\",\"line_dash\":[6],\"line_width\":4,\"x\":{\"field\":\"x\"},\"y\":{\"field\":\"y\"}},\"id\":\"6408\",\"type\":\"Line\"},{\"attributes\":{},\"id\":\"6749\",\"type\":\"Selection\"},{\"attributes\":{\"line_alpha\":0.1,\"line_color\":\"#1B068C\",\"line_dash\":[6],\"line_width\":4,\"x\":{\"field\":\"x\"},\"y\":{\"field\":\"y\"}},\"id\":\"6397\",\"type\":\"Line\"},{\"attributes\":{\"data\":{\"x\":{\"__ndarray__\":\"wrEwSqUt77/Eb4duVprtPw==\",\"dtype\":\"float64\",\"order\":\"little\",\"shape\":[2]},\"y\":{\"__ndarray__\":\"5z+rNuLclL+66Qinba23vw==\",\"dtype\":\"float64\",\"order\":\"little\",\"shape\":[2]}},\"selected\":{\"id\":\"6765\"},\"selection_policy\":{\"id\":\"6764\"}},\"id\":\"6581\",\"type\":\"ColumnDataSource\"},{\"attributes\":{\"source\":{\"id\":\"6395\"}},\"id\":\"6400\",\"type\":\"CDSView\"},{\"attributes\":{\"line_color\":\"#ED7952\",\"line_dash\":[6],\"line_width\":4,\"x\":{\"field\":\"x\"},\"y\":{\"field\":\"y\"}},\"id\":\"6588\",\"type\":\"Line\"},{\"attributes\":{},\"id\":\"6787\",\"type\":\"Selection\"},{\"attributes\":{\"line_alpha\":0.2,\"line_color\":\"#1B068C\",\"line_dash\":[6],\"line_width\":4,\"x\":{\"field\":\"x\"},\"y\":{\"field\":\"y\"}},\"id\":\"6398\",\"type\":\"Line\"},{\"attributes\":{\"line_alpha\":0.1,\"line_color\":\"#E66D5A\",\"line_dash\":[6],\"line_width\":4,\"x\":{\"field\":\"x\"},\"y\":{\"field\":\"y\"}},\"id\":\"6577\",\"type\":\"Line\"},{\"attributes\":{\"coordinates\":null,\"data_source\":{\"id\":\"6395\"},\"glyph\":{\"id\":\"6396\"},\"group\":null,\"hover_glyph\":null,\"muted_glyph\":{\"id\":\"6398\"},\"nonselection_glyph\":{\"id\":\"6397\"},\"view\":{\"id\":\"6400\"}},\"id\":\"6399\",\"type\":\"GlyphRenderer\"},{\"attributes\":{\"source\":{\"id\":\"6575\"}},\"id\":\"6580\",\"type\":\"CDSView\"},{\"attributes\":{\"line_alpha\":0.2,\"line_color\":\"#E66D5A\",\"line_dash\":[6],\"line_width\":4,\"x\":{\"field\":\"x\"},\"y\":{\"field\":\"y\"}},\"id\":\"6578\",\"type\":\"Line\"},{\"attributes\":{\"data\":{\"x\":{\"__ndarray__\":\"wrEwSqUt77/Eb4duVprtPw==\",\"dtype\":\"float64\",\"order\":\"little\",\"shape\":[2]},\"y\":{\"__ndarray__\":\"yMSq6xMF9z88FhB1fnzxvw==\",\"dtype\":\"float64\",\"order\":\"little\",\"shape\":[2]}},\"selected\":{\"id\":\"6703\"},\"selection_policy\":{\"id\":\"6702\"}},\"id\":\"6395\",\"type\":\"ColumnDataSource\"},{\"attributes\":{\"coordinates\":null,\"data_source\":{\"id\":\"6575\"},\"glyph\":{\"id\":\"6576\"},\"group\":null,\"hover_glyph\":null,\"muted_glyph\":{\"id\":\"6578\"},\"nonselection_glyph\":{\"id\":\"6577\"},\"view\":{\"id\":\"6580\"}},\"id\":\"6579\",\"type\":\"GlyphRenderer\"},{\"attributes\":{\"line_color\":\"#250591\",\"line_dash\":[6],\"line_width\":4,\"x\":{\"field\":\"x\"},\"y\":{\"field\":\"y\"}},\"id\":\"6402\",\"type\":\"Line\"},{\"attributes\":{\"line_alpha\":0.2,\"line_color\":\"#F3EE26\",\"line_dash\":[6],\"line_width\":4,\"x\":{\"field\":\"x\"},\"y\":{\"field\":\"y\"}},\"id\":\"6680\",\"type\":\"Line\"},{\"attributes\":{\"line_alpha\":0.1,\"line_color\":\"#0C0786\",\"line_dash\":[6],\"line_width\":4,\"x\":{\"field\":\"x\"},\"y\":{\"field\":\"y\"}},\"id\":\"6391\",\"type\":\"Line\"},{\"attributes\":{\"data\":{\"x\":{\"__ndarray__\":\"wrEwSqUt77/Eb4duVprtPw==\",\"dtype\":\"float64\",\"order\":\"little\",\"shape\":[2]},\"y\":{\"__ndarray__\":\"rMj3iIy3ob+OIc1FaKy0vw==\",\"dtype\":\"float64\",\"order\":\"little\",\"shape\":[2]}},\"selected\":{\"id\":\"6763\"},\"selection_policy\":{\"id\":\"6762\"}},\"id\":\"6575\",\"type\":\"ColumnDataSource\"},{\"attributes\":{\"source\":{\"id\":\"6389\"}},\"id\":\"6394\",\"type\":\"CDSView\"},{\"attributes\":{\"line_color\":\"#EA7356\",\"line_dash\":[6],\"line_width\":4,\"x\":{\"field\":\"x\"},\"y\":{\"field\":\"y\"}},\"id\":\"6582\",\"type\":\"Line\"},{\"attributes\":{\"line_alpha\":0.1,\"line_color\":\"#E3675F\",\"line_dash\":[6],\"line_width\":4,\"x\":{\"field\":\"x\"},\"y\":{\"field\":\"y\"}},\"id\":\"6571\",\"type\":\"Line\"},{\"attributes\":{\"source\":{\"id\":\"6569\"}},\"id\":\"6574\",\"type\":\"CDSView\"},{\"attributes\":{\"coordinates\":null,\"data_source\":{\"id\":\"6389\"},\"glyph\":{\"id\":\"6390\"},\"group\":null,\"hover_glyph\":null,\"muted_glyph\":{\"id\":\"6392\"},\"nonselection_glyph\":{\"id\":\"6391\"},\"view\":{\"id\":\"6394\"}},\"id\":\"6393\",\"type\":\"GlyphRenderer\"},{\"attributes\":{\"line_alpha\":0.2,\"line_color\":\"#E3675F\",\"line_dash\":[6],\"line_width\":4,\"x\":{\"field\":\"x\"},\"y\":{\"field\":\"y\"}},\"id\":\"6572\",\"type\":\"Line\"},{\"attributes\":{\"source\":{\"id\":\"6623\"}},\"id\":\"6628\",\"type\":\"CDSView\"},{\"attributes\":{\"line_color\":\"#1B068C\",\"line_dash\":[6],\"line_width\":4,\"x\":{\"field\":\"x\"},\"y\":{\"field\":\"y\"}},\"id\":\"6396\",\"type\":\"Line\"},{\"attributes\":{\"line_alpha\":0.1,\"line_color\":\"#FBA337\",\"line_dash\":[6],\"line_width\":4,\"x\":{\"field\":\"x\"},\"y\":{\"field\":\"y\"}},\"id\":\"6625\",\"type\":\"Line\"},{\"attributes\":{\"data\":{\"x\":{\"__ndarray__\":\"wrEwSqUt77/Eb4duVprtPw==\",\"dtype\":\"float64\",\"order\":\"little\",\"shape\":[2]},\"y\":{\"__ndarray__\":\"ZgWjHoaC9D9Y6H4RaQPwvw==\",\"dtype\":\"float64\",\"order\":\"little\",\"shape\":[2]}},\"selected\":{\"id\":\"6701\"},\"selection_policy\":{\"id\":\"6700\"}},\"id\":\"6389\",\"type\":\"ColumnDataSource\"},{\"attributes\":{\"line_alpha\":0.1,\"line_color\":\"#CD4975\",\"line_dash\":[6],\"line_width\":4,\"x\":{\"field\":\"x\"},\"y\":{\"field\":\"y\"}},\"id\":\"6541\",\"type\":\"Line\"},{\"attributes\":{},\"id\":\"6750\",\"type\":\"UnionRenderers\"},{\"attributes\":{\"label\":{\"field\":\"label\"},\"renderers\":[{\"id\":\"6373\"}]},\"id\":\"6386\",\"type\":\"LegendItem\"},{\"attributes\":{\"source\":{\"id\":\"6539\"}},\"id\":\"6544\",\"type\":\"CDSView\"},{\"attributes\":{\"line_alpha\":0.2,\"line_color\":\"#CD4975\",\"line_dash\":[6],\"line_width\":4,\"x\":{\"field\":\"x\"},\"y\":{\"field\":\"y\"}},\"id\":\"6542\",\"type\":\"Line\"},{\"attributes\":{},\"id\":\"6788\",\"type\":\"UnionRenderers\"},{\"attributes\":{\"coordinates\":null,\"data_source\":{\"id\":\"6539\"},\"glyph\":{\"id\":\"6540\"},\"group\":null,\"hover_glyph\":null,\"muted_glyph\":{\"id\":\"6542\"},\"nonselection_glyph\":{\"id\":\"6541\"},\"view\":{\"id\":\"6544\"}},\"id\":\"6543\",\"type\":\"GlyphRenderer\"},{\"attributes\":{},\"id\":\"6751\",\"type\":\"Selection\"},{\"attributes\":{\"coordinates\":null,\"data_source\":{\"id\":\"6509\"},\"glyph\":{\"id\":\"6510\"},\"group\":null,\"hover_glyph\":null,\"muted_glyph\":{\"id\":\"6512\"},\"nonselection_glyph\":{\"id\":\"6511\"},\"view\":{\"id\":\"6514\"}},\"id\":\"6513\",\"type\":\"GlyphRenderer\"},{\"attributes\":{\"line_alpha\":0.2,\"line_color\":\"#B22C8E\",\"line_dash\":[6],\"line_width\":4,\"x\":{\"field\":\"x\"},\"y\":{\"field\":\"y\"}},\"id\":\"6512\",\"type\":\"Line\"},{\"attributes\":{},\"id\":\"6789\",\"type\":\"Selection\"},{\"attributes\":{\"source\":{\"id\":\"6509\"}},\"id\":\"6514\",\"type\":\"CDSView\"},{\"attributes\":{\"source\":{\"id\":\"6683\"}},\"id\":\"6688\",\"type\":\"CDSView\"},{\"attributes\":{\"line_alpha\":0.1,\"line_color\":\"#B22C8E\",\"line_dash\":[6],\"line_width\":4,\"x\":{\"field\":\"x\"},\"y\":{\"field\":\"y\"}},\"id\":\"6511\",\"type\":\"Line\"},{\"attributes\":{\"line_color\":\"#BD3784\",\"line_dash\":[6],\"line_width\":4,\"x\":{\"field\":\"x\"},\"y\":{\"field\":\"y\"}},\"id\":\"6522\",\"type\":\"Line\"},{\"attributes\":{\"children\":[{\"id\":\"6690\"},{\"id\":\"6335\"},{\"id\":\"6911\"}],\"margin\":[0,0,0,0],\"name\":\"Row00191\"},\"id\":\"6689\",\"type\":\"Row\"},{\"attributes\":{\"data\":{\"x\":{\"__ndarray__\":\"wrEwSqUt77/Eb4duVprtPw==\",\"dtype\":\"float64\",\"order\":\"little\",\"shape\":[2]},\"y\":{\"__ndarray__\":\"BaHDpiz707+DxuTzrn/APw==\",\"dtype\":\"float64\",\"order\":\"little\",\"shape\":[2]}},\"selected\":{\"id\":\"6743\"},\"selection_policy\":{\"id\":\"6742\"}},\"id\":\"6515\",\"type\":\"ColumnDataSource\"},{\"attributes\":{\"coordinates\":null,\"data_source\":{\"id\":\"6515\"},\"glyph\":{\"id\":\"6516\"},\"group\":null,\"hover_glyph\":null,\"muted_glyph\":{\"id\":\"6518\"},\"nonselection_glyph\":{\"id\":\"6517\"},\"view\":{\"id\":\"6520\"}},\"id\":\"6519\",\"type\":\"GlyphRenderer\"},{\"attributes\":{\"line_alpha\":0.2,\"line_color\":\"#B83289\",\"line_dash\":[6],\"line_width\":4,\"x\":{\"field\":\"x\"},\"y\":{\"field\":\"y\"}},\"id\":\"6518\",\"type\":\"Line\"},{\"attributes\":{\"source\":{\"id\":\"6515\"}},\"id\":\"6520\",\"type\":\"CDSView\"},{\"attributes\":{\"line_alpha\":0.1,\"line_color\":\"#B83289\",\"line_dash\":[6],\"line_width\":4,\"x\":{\"field\":\"x\"},\"y\":{\"field\":\"y\"}},\"id\":\"6517\",\"type\":\"Line\"},{\"attributes\":{\"line_color\":\"#C23D80\",\"line_dash\":[6],\"line_width\":4,\"x\":{\"field\":\"x\"},\"y\":{\"field\":\"y\"}},\"id\":\"6528\",\"type\":\"Line\"},{\"attributes\":{\"data\":{\"x\":{\"__ndarray__\":\"wrEwSqUt77/Eb4duVprtPw==\",\"dtype\":\"float64\",\"order\":\"little\",\"shape\":[2]},\"y\":{\"__ndarray__\":\"VFWRdLPz0L8PRMugJle4Pw==\",\"dtype\":\"float64\",\"order\":\"little\",\"shape\":[2]}},\"selected\":{\"id\":\"6745\"},\"selection_policy\":{\"id\":\"6744\"}},\"id\":\"6521\",\"type\":\"ColumnDataSource\"},{\"attributes\":{\"coordinates\":null,\"data_source\":{\"id\":\"6593\"},\"glyph\":{\"id\":\"6594\"},\"group\":null,\"hover_glyph\":null,\"muted_glyph\":{\"id\":\"6596\"},\"nonselection_glyph\":{\"id\":\"6595\"},\"view\":{\"id\":\"6598\"}},\"id\":\"6597\",\"type\":\"GlyphRenderer\"},{\"attributes\":{\"line_color\":\"#F68E44\",\"line_dash\":[6],\"line_width\":4,\"x\":{\"field\":\"x\"},\"y\":{\"field\":\"y\"}},\"id\":\"6606\",\"type\":\"Line\"},{\"attributes\":{},\"id\":\"6752\",\"type\":\"UnionRenderers\"},{\"attributes\":{\"data\":{\"x\":{\"__ndarray__\":\"wrEwSqUt77/Eb4duVprtPw==\",\"dtype\":\"float64\",\"order\":\"little\",\"shape\":[2]},\"y\":{\"__ndarray__\":\"vDcMLNnwjz8E3tlIEWy/vw==\",\"dtype\":\"float64\",\"order\":\"little\",\"shape\":[2]}},\"selected\":{\"id\":\"6771\"},\"selection_policy\":{\"id\":\"6770\"}},\"id\":\"6599\",\"type\":\"ColumnDataSource\"},{\"attributes\":{\"line_alpha\":0.2,\"line_color\":\"#F6E525\",\"line_dash\":[6],\"line_width\":4,\"x\":{\"field\":\"x\"},\"y\":{\"field\":\"y\"}},\"id\":\"6674\",\"type\":\"Line\"},{\"attributes\":{},\"id\":\"6790\",\"type\":\"UnionRenderers\"},{\"attributes\":{\"line_alpha\":0.1,\"line_color\":\"#F3EE26\",\"line_dash\":[6],\"line_width\":4,\"x\":{\"field\":\"x\"},\"y\":{\"field\":\"y\"}},\"id\":\"6679\",\"type\":\"Line\"},{\"attributes\":{\"coordinates\":null,\"data_source\":{\"id\":\"6599\"},\"glyph\":{\"id\":\"6600\"},\"group\":null,\"hover_glyph\":null,\"muted_glyph\":{\"id\":\"6602\"},\"nonselection_glyph\":{\"id\":\"6601\"},\"view\":{\"id\":\"6604\"}},\"id\":\"6603\",\"type\":\"GlyphRenderer\"},{\"attributes\":{},\"id\":\"6753\",\"type\":\"Selection\"},{\"attributes\":{\"line_alpha\":0.1,\"line_color\":\"#EFF821\",\"line_dash\":[6],\"line_width\":4,\"x\":{\"field\":\"x\"},\"y\":{\"field\":\"y\"}},\"id\":\"6685\",\"type\":\"Line\"},{\"attributes\":{\"line_alpha\":0.2,\"line_color\":\"#F38748\",\"line_dash\":[6],\"line_width\":4,\"x\":{\"field\":\"x\"},\"y\":{\"field\":\"y\"}},\"id\":\"6602\",\"type\":\"Line\"},{\"attributes\":{\"source\":{\"id\":\"6599\"}},\"id\":\"6604\",\"type\":\"CDSView\"},{\"attributes\":{},\"id\":\"6791\",\"type\":\"Selection\"},{\"attributes\":{\"line_alpha\":0.1,\"line_color\":\"#F38748\",\"line_dash\":[6],\"line_width\":4,\"x\":{\"field\":\"x\"},\"y\":{\"field\":\"y\"}},\"id\":\"6601\",\"type\":\"Line\"},{\"attributes\":{\"line_color\":\"#F89540\",\"line_dash\":[6],\"line_width\":4,\"x\":{\"field\":\"x\"},\"y\":{\"field\":\"y\"}},\"id\":\"6612\",\"type\":\"Line\"},{\"attributes\":{},\"id\":\"6707\",\"type\":\"Selection\"},{\"attributes\":{\"data\":{\"x\":{\"__ndarray__\":\"wrEwSqUt77/Eb4duVprtPw==\",\"dtype\":\"float64\",\"order\":\"little\",\"shape\":[2]},\"y\":{\"__ndarray__\":\"RxD/1kZkmj/HZzVav9PAvw==\",\"dtype\":\"float64\",\"order\":\"little\",\"shape\":[2]}},\"selected\":{\"id\":\"6773\"},\"selection_policy\":{\"id\":\"6772\"}},\"id\":\"6605\",\"type\":\"ColumnDataSource\"},{\"attributes\":{\"coordinates\":null,\"data_source\":{\"id\":\"6605\"},\"glyph\":{\"id\":\"6606\"},\"group\":null,\"hover_glyph\":null,\"muted_glyph\":{\"id\":\"6608\"},\"nonselection_glyph\":{\"id\":\"6607\"},\"view\":{\"id\":\"6610\"}},\"id\":\"6609\",\"type\":\"GlyphRenderer\"},{\"attributes\":{},\"id\":\"6706\",\"type\":\"UnionRenderers\"},{\"attributes\":{\"line_alpha\":0.2,\"line_color\":\"#F68E44\",\"line_dash\":[6],\"line_width\":4,\"x\":{\"field\":\"x\"},\"y\":{\"field\":\"y\"}},\"id\":\"6608\",\"type\":\"Line\"},{\"attributes\":{\"source\":{\"id\":\"6605\"}},\"id\":\"6610\",\"type\":\"CDSView\"},{\"attributes\":{\"line_alpha\":0.1,\"line_color\":\"#F68E44\",\"line_dash\":[6],\"line_width\":4,\"x\":{\"field\":\"x\"},\"y\":{\"field\":\"y\"}},\"id\":\"6607\",\"type\":\"Line\"},{\"attributes\":{\"coordinates\":null,\"data_source\":{\"id\":\"6521\"},\"glyph\":{\"id\":\"6522\"},\"group\":null,\"hover_glyph\":null,\"muted_glyph\":{\"id\":\"6524\"},\"nonselection_glyph\":{\"id\":\"6523\"},\"view\":{\"id\":\"6526\"}},\"id\":\"6525\",\"type\":\"GlyphRenderer\"},{\"attributes\":{\"line_alpha\":0.2,\"line_color\":\"#BD3784\",\"line_dash\":[6],\"line_width\":4,\"x\":{\"field\":\"x\"},\"y\":{\"field\":\"y\"}},\"id\":\"6524\",\"type\":\"Line\"},{\"attributes\":{\"source\":{\"id\":\"6521\"}},\"id\":\"6526\",\"type\":\"CDSView\"},{\"attributes\":{\"line_alpha\":0.1,\"line_color\":\"#BD3784\",\"line_dash\":[6],\"line_width\":4,\"x\":{\"field\":\"x\"},\"y\":{\"field\":\"y\"}},\"id\":\"6523\",\"type\":\"Line\"},{\"attributes\":{},\"id\":\"6754\",\"type\":\"UnionRenderers\"},{\"attributes\":{\"line_color\":\"#C7427B\",\"line_dash\":[6],\"line_width\":4,\"x\":{\"field\":\"x\"},\"y\":{\"field\":\"y\"}},\"id\":\"6534\",\"type\":\"Line\"},{\"attributes\":{\"data\":{\"x\":{\"__ndarray__\":\"wrEwSqUt77/Eb4duVprtPw==\",\"dtype\":\"float64\",\"order\":\"little\",\"shape\":[2]},\"y\":{\"__ndarray__\":\"HtBzmB63zL8XARy4Yc2wPw==\",\"dtype\":\"float64\",\"order\":\"little\",\"shape\":[2]}},\"selected\":{\"id\":\"6747\"},\"selection_policy\":{\"id\":\"6746\"}},\"id\":\"6527\",\"type\":\"ColumnDataSource\"},{\"attributes\":{},\"id\":\"6792\",\"type\":\"UnionRenderers\"},{\"attributes\":{},\"id\":\"6755\",\"type\":\"Selection\"},{\"attributes\":{\"source\":{\"id\":\"6368\"}},\"id\":\"6374\",\"type\":\"CDSView\"},{\"attributes\":{\"source\":{\"id\":\"6677\"}},\"id\":\"6682\",\"type\":\"CDSView\"},{\"attributes\":{\"coordinates\":null,\"data_source\":{\"id\":\"6527\"},\"glyph\":{\"id\":\"6528\"},\"group\":null,\"hover_glyph\":null,\"muted_glyph\":{\"id\":\"6530\"},\"nonselection_glyph\":{\"id\":\"6529\"},\"view\":{\"id\":\"6532\"}},\"id\":\"6531\",\"type\":\"GlyphRenderer\"},{\"attributes\":{},\"id\":\"6700\",\"type\":\"UnionRenderers\"},{\"attributes\":{\"line_alpha\":0.2,\"line_color\":\"#C23D80\",\"line_dash\":[6],\"line_width\":4,\"x\":{\"field\":\"x\"},\"y\":{\"field\":\"y\"}},\"id\":\"6530\",\"type\":\"Line\"},{\"attributes\":{},\"id\":\"6793\",\"type\":\"Selection\"},{\"attributes\":{\"fill_alpha\":{\"value\":0.2},\"fill_color\":{\"field\":\"color\"},\"hatch_alpha\":{\"value\":0.2},\"hatch_color\":{\"field\":\"color\"},\"line_alpha\":{\"value\":0.2},\"line_color\":{\"value\":\"white\"},\"size\":{\"value\":10},\"x\":{\"field\":\"x\"},\"y\":{\"field\":\"y\"}},\"id\":\"6372\",\"type\":\"Circle\"},{\"attributes\":{\"source\":{\"id\":\"6527\"}},\"id\":\"6532\",\"type\":\"CDSView\"},{\"attributes\":{\"background_fill_alpha\":0.2,\"background_fill_color\":\"darkgrey\",\"border_line_alpha\":0.8,\"border_line_color\":\"grey\",\"border_line_width\":3,\"coordinates\":null,\"group\":null,\"items\":[{\"id\":\"6386\"}],\"label_text_color\":\"white\"},\"id\":\"6385\",\"type\":\"Legend\"},{\"attributes\":{\"line_alpha\":0.1,\"line_color\":\"#C23D80\",\"line_dash\":[6],\"line_width\":4,\"x\":{\"field\":\"x\"},\"y\":{\"field\":\"y\"}},\"id\":\"6529\",\"type\":\"Line\"},{\"attributes\":{\"coordinates\":null,\"data_source\":{\"id\":\"6425\"},\"glyph\":{\"id\":\"6426\"},\"group\":null,\"hover_glyph\":null,\"muted_glyph\":{\"id\":\"6428\"},\"nonselection_glyph\":{\"id\":\"6427\"},\"view\":{\"id\":\"6430\"}},\"id\":\"6429\",\"type\":\"GlyphRenderer\"},{\"attributes\":{\"line_color\":\"#CD4975\",\"line_dash\":[6],\"line_width\":4,\"x\":{\"field\":\"x\"},\"y\":{\"field\":\"y\"}},\"id\":\"6540\",\"type\":\"Line\"},{\"attributes\":{\"data\":{\"x\":{\"__ndarray__\":\"wrEwSqUt77/Eb4duVprtPw==\",\"dtype\":\"float64\",\"order\":\"little\",\"shape\":[2]},\"y\":{\"__ndarray__\":\"CbfhQwA6yL8r313ugFikPw==\",\"dtype\":\"float64\",\"order\":\"little\",\"shape\":[2]}},\"selected\":{\"id\":\"6749\"},\"selection_policy\":{\"id\":\"6748\"}},\"id\":\"6533\",\"type\":\"ColumnDataSource\"},{\"attributes\":{\"coordinates\":null,\"data_source\":{\"id\":\"6533\"},\"glyph\":{\"id\":\"6534\"},\"group\":null,\"hover_glyph\":null,\"muted_glyph\":{\"id\":\"6536\"},\"nonselection_glyph\":{\"id\":\"6535\"},\"view\":{\"id\":\"6538\"}},\"id\":\"6537\",\"type\":\"GlyphRenderer\"},{\"attributes\":{\"axis\":{\"id\":\"6350\"},\"coordinates\":null,\"dimension\":1,\"grid_line_alpha\":0.15,\"grid_line_color\":\"#E0E0E0\",\"group\":null,\"ticker\":null},\"id\":\"6353\",\"type\":\"Grid\"},{\"attributes\":{\"line_alpha\":0.2,\"line_color\":\"#C7427B\",\"line_dash\":[6],\"line_width\":4,\"x\":{\"field\":\"x\"},\"y\":{\"field\":\"y\"}},\"id\":\"6536\",\"type\":\"Line\"},{\"attributes\":{\"source\":{\"id\":\"6533\"}},\"id\":\"6538\",\"type\":\"CDSView\"},{\"attributes\":{},\"id\":\"6347\",\"type\":\"BasicTicker\"},{\"attributes\":{\"line_alpha\":0.1,\"line_color\":\"#C7427B\",\"line_dash\":[6],\"line_width\":4,\"x\":{\"field\":\"x\"},\"y\":{\"field\":\"y\"}},\"id\":\"6535\",\"type\":\"Line\"},{\"attributes\":{\"client_comm_id\":\"e6ad8f6167bc4bf0973919bcd934924a\",\"comm_id\":\"0009621e69c8416293b1f36792bcc2a1\",\"plot_id\":\"6689\"},\"id\":\"7242\",\"type\":\"panel.models.comm_manager.CommManager\"},{\"attributes\":{\"line_color\":\"#D14F71\",\"line_dash\":[6],\"line_width\":4,\"x\":{\"field\":\"x\"},\"y\":{\"field\":\"y\"}},\"id\":\"6546\",\"type\":\"Line\"},{\"attributes\":{\"data\":{\"x\":{\"__ndarray__\":\"wrEwSqUt77/Eb4duVprtPw==\",\"dtype\":\"float64\",\"order\":\"little\",\"shape\":[2]},\"y\":{\"__ndarray__\":\"uCMs+PROxL+csB6ibiuRPw==\",\"dtype\":\"float64\",\"order\":\"little\",\"shape\":[2]}},\"selected\":{\"id\":\"6751\"},\"selection_policy\":{\"id\":\"6750\"}},\"id\":\"6539\",\"type\":\"ColumnDataSource\"},{\"attributes\":{\"axis_label\":\"x\",\"axis_label_standoff\":10,\"axis_label_text_color\":\"#FFFFFF\",\"axis_label_text_font\":\"Josefin Sans\",\"axis_label_text_font_size\":\"1.9em\",\"axis_label_text_font_style\":\"bold\",\"axis_line_alpha\":0.4,\"axis_line_color\":\"#E0E0E0\",\"coordinates\":null,\"formatter\":{\"id\":\"6380\"},\"group\":null,\"major_label_policy\":{\"id\":\"6381\"},\"major_label_text_color\":\"#E0E0E0\",\"major_label_text_font\":\"Josefin Sans\",\"major_label_text_font_size\":\"1.15em\",\"major_tick_line_alpha\":0.4,\"major_tick_line_color\":\"#E0E0E0\",\"minor_tick_line_alpha\":0.4,\"minor_tick_line_color\":\"#E0E0E0\",\"ticker\":{\"id\":\"6347\"}},\"id\":\"6346\",\"type\":\"LinearAxis\"},{\"attributes\":{\"line_color\":\"#F6E525\",\"line_dash\":[6],\"line_width\":4,\"x\":{\"field\":\"x\"},\"y\":{\"field\":\"y\"}},\"id\":\"6672\",\"type\":\"Line\"},{\"attributes\":{\"line_alpha\":0.1,\"line_color\":\"#F8DD24\",\"line_dash\":[6],\"line_width\":4,\"x\":{\"field\":\"x\"},\"y\":{\"field\":\"y\"}},\"id\":\"6667\",\"type\":\"Line\"},{\"attributes\":{},\"id\":\"6756\",\"type\":\"UnionRenderers\"},{\"attributes\":{},\"id\":\"6359\",\"type\":\"HelpTool\"},{\"attributes\":{\"source\":{\"id\":\"6665\"}},\"id\":\"6670\",\"type\":\"CDSView\"},{\"attributes\":{\"line_alpha\":0.2,\"line_color\":\"#F8DD24\",\"line_dash\":[6],\"line_width\":4,\"x\":{\"field\":\"x\"},\"y\":{\"field\":\"y\"}},\"id\":\"6668\",\"type\":\"Line\"},{\"attributes\":{},\"id\":\"6794\",\"type\":\"UnionRenderers\"},{\"attributes\":{\"coordinates\":null,\"group\":null,\"text\":\"Observations\",\"text_color\":\"#E0E0E0\",\"text_font\":\"Josefin Sans\",\"text_font_size\":\"2.1em\"},\"id\":\"6336\",\"type\":\"Title\"},{\"attributes\":{\"coordinates\":null,\"data_source\":{\"id\":\"6665\"},\"glyph\":{\"id\":\"6666\"},\"group\":null,\"hover_glyph\":null,\"muted_glyph\":{\"id\":\"6668\"},\"nonselection_glyph\":{\"id\":\"6667\"},\"view\":{\"id\":\"6670\"}},\"id\":\"6669\",\"type\":\"GlyphRenderer\"},{\"attributes\":{},\"id\":\"6757\",\"type\":\"Selection\"},{\"attributes\":{\"axis\":{\"id\":\"6346\"},\"coordinates\":null,\"grid_line_alpha\":0.15,\"grid_line_color\":\"#E0E0E0\",\"group\":null,\"ticker\":null},\"id\":\"6349\",\"type\":\"Grid\"},{\"attributes\":{\"line_alpha\":0.1,\"line_color\":\"#F6E525\",\"line_dash\":[6],\"line_width\":4,\"x\":{\"field\":\"x\"},\"y\":{\"field\":\"y\"}},\"id\":\"6673\",\"type\":\"Line\"},{\"attributes\":{\"line_alpha\":0.2,\"line_color\":\"#EFF821\",\"line_dash\":[6],\"line_width\":4,\"x\":{\"field\":\"x\"},\"y\":{\"field\":\"y\"}},\"id\":\"6686\",\"type\":\"Line\"},{\"attributes\":{\"data\":{\"x\":{\"__ndarray__\":\"wrEwSqUt77/Eb4duVprtPw==\",\"dtype\":\"float64\",\"order\":\"little\",\"shape\":[2]},\"y\":{\"__ndarray__\":\"NJKyXgPYuD/Z6hUwIufIvw==\",\"dtype\":\"float64\",\"order\":\"little\",\"shape\":[2]}},\"selected\":{\"id\":\"6793\"},\"selection_policy\":{\"id\":\"6792\"}},\"id\":\"6665\",\"type\":\"ColumnDataSource\"},{\"attributes\":{},\"id\":\"6795\",\"type\":\"Selection\"},{\"attributes\":{\"end\":0.9250900419970027,\"start\":-0.9743219803836427},\"id\":\"6387\",\"type\":\"Range1d\"},{\"attributes\":{\"data\":{\"x\":{\"__ndarray__\":\"wrEwSqUt77/Eb4duVprtPw==\",\"dtype\":\"float64\",\"order\":\"little\",\"shape\":[2]},\"y\":{\"__ndarray__\":\"0izsHjokuj+MK2+da37Jvw==\",\"dtype\":\"float64\",\"order\":\"little\",\"shape\":[2]}},\"selected\":{\"id\":\"6795\"},\"selection_policy\":{\"id\":\"6794\"}},\"id\":\"6671\",\"type\":\"ColumnDataSource\"},{\"attributes\":{\"axis_label\":\"y\",\"axis_label_standoff\":10,\"axis_label_text_color\":\"#FFFFFF\",\"axis_label_text_font\":\"Josefin Sans\",\"axis_label_text_font_size\":\"1.9em\",\"axis_label_text_font_style\":\"bold\",\"axis_line_alpha\":0.4,\"axis_line_color\":\"#E0E0E0\",\"coordinates\":null,\"formatter\":{\"id\":\"6377\"},\"group\":null,\"major_label_policy\":{\"id\":\"6378\"},\"major_label_text_color\":\"#E0E0E0\",\"major_label_text_font\":\"Josefin Sans\",\"major_label_text_font_size\":\"1.15em\",\"major_tick_line_alpha\":0.4,\"major_tick_line_color\":\"#E0E0E0\",\"minor_tick_line_alpha\":0.4,\"minor_tick_line_color\":\"#E0E0E0\",\"ticker\":{\"id\":\"6351\"}},\"id\":\"6350\",\"type\":\"LinearAxis\"},{\"attributes\":{\"line_alpha\":0.1,\"line_color\":\"#FAD524\",\"line_dash\":[6],\"line_width\":4,\"x\":{\"field\":\"x\"},\"y\":{\"field\":\"y\"}},\"id\":\"6661\",\"type\":\"Line\"},{\"attributes\":{\"source\":{\"id\":\"6659\"}},\"id\":\"6664\",\"type\":\"CDSView\"},{\"attributes\":{\"line_alpha\":0.2,\"line_color\":\"#FAD524\",\"line_dash\":[6],\"line_width\":4,\"x\":{\"field\":\"x\"},\"y\":{\"field\":\"y\"}},\"id\":\"6662\",\"type\":\"Line\"},{\"attributes\":{\"coordinates\":null,\"data_source\":{\"id\":\"6659\"},\"glyph\":{\"id\":\"6660\"},\"group\":null,\"hover_glyph\":null,\"muted_glyph\":{\"id\":\"6662\"},\"nonselection_glyph\":{\"id\":\"6661\"},\"view\":{\"id\":\"6664\"}},\"id\":\"6663\",\"type\":\"GlyphRenderer\"},{\"attributes\":{},\"id\":\"6344\",\"type\":\"LinearScale\"},{\"attributes\":{\"data\":{\"x\":{\"__ndarray__\":\"wrEwSqUt77/Eb4duVprtPw==\",\"dtype\":\"float64\",\"order\":\"little\",\"shape\":[2]},\"y\":{\"__ndarray__\":\"C5LMs5x5tz95KxrRIEjIvw==\",\"dtype\":\"float64\",\"order\":\"little\",\"shape\":[2]}},\"selected\":{\"id\":\"6791\"},\"selection_policy\":{\"id\":\"6790\"}},\"id\":\"6659\",\"type\":\"ColumnDataSource\"},{\"attributes\":{},\"id\":\"6342\",\"type\":\"LinearScale\"},{\"attributes\":{\"line_color\":\"#F8DD24\",\"line_dash\":[6],\"line_width\":4,\"x\":{\"field\":\"x\"},\"y\":{\"field\":\"y\"}},\"id\":\"6666\",\"type\":\"Line\"},{\"attributes\":{\"line_alpha\":0.1,\"line_color\":\"#FCCB25\",\"line_dash\":[6],\"line_width\":4,\"x\":{\"field\":\"x\"},\"y\":{\"field\":\"y\"}},\"id\":\"6655\",\"type\":\"Line\"},{\"attributes\":{\"line_color\":\"#0C0786\",\"line_dash\":[6],\"line_width\":4,\"x\":{\"field\":\"x\"},\"y\":{\"field\":\"y\"}},\"id\":\"6390\",\"type\":\"Line\"},{\"attributes\":{\"source\":{\"id\":\"6653\"}},\"id\":\"6658\",\"type\":\"CDSView\"},{\"attributes\":{\"line_alpha\":0.2,\"line_color\":\"#FCCB25\",\"line_dash\":[6],\"line_width\":4,\"x\":{\"field\":\"x\"},\"y\":{\"field\":\"y\"}},\"id\":\"6656\",\"type\":\"Line\"},{\"attributes\":{\"coordinates\":null,\"data_source\":{\"id\":\"6653\"},\"glyph\":{\"id\":\"6654\"},\"group\":null,\"hover_glyph\":null,\"muted_glyph\":{\"id\":\"6656\"},\"nonselection_glyph\":{\"id\":\"6655\"},\"view\":{\"id\":\"6658\"}},\"id\":\"6657\",\"type\":\"GlyphRenderer\"},{\"attributes\":{},\"id\":\"6758\",\"type\":\"UnionRenderers\"},{\"attributes\":{\"data\":{\"x\":{\"__ndarray__\":\"wrEwSqUt77/Eb4duVprtPw==\",\"dtype\":\"float64\",\"order\":\"little\",\"shape\":[2]},\"y\":{\"__ndarray__\":\"sPFzmWgHtj+gmPUxyaDHvw==\",\"dtype\":\"float64\",\"order\":\"little\",\"shape\":[2]}},\"selected\":{\"id\":\"6789\"},\"selection_policy\":{\"id\":\"6788\"}},\"id\":\"6653\",\"type\":\"ColumnDataSource\"},{\"attributes\":{\"line_color\":\"#FAD524\",\"line_dash\":[6],\"line_width\":4,\"x\":{\"field\":\"x\"},\"y\":{\"field\":\"y\"}},\"id\":\"6660\",\"type\":\"Line\"},{\"attributes\":{},\"id\":\"6796\",\"type\":\"UnionRenderers\"},{\"attributes\":{\"line_alpha\":0.1,\"line_color\":\"#FDC328\",\"line_dash\":[6],\"line_width\":4,\"x\":{\"field\":\"x\"},\"y\":{\"field\":\"y\"}},\"id\":\"6649\",\"type\":\"Line\"},{\"attributes\":{},\"id\":\"6759\",\"type\":\"Selection\"},{\"attributes\":{\"source\":{\"id\":\"6647\"}},\"id\":\"6652\",\"type\":\"CDSView\"},{\"attributes\":{\"line_alpha\":0.2,\"line_color\":\"#FDC328\",\"line_dash\":[6],\"line_width\":4,\"x\":{\"field\":\"x\"},\"y\":{\"field\":\"y\"}},\"id\":\"6650\",\"type\":\"Line\"},{\"attributes\":{},\"id\":\"6797\",\"type\":\"Selection\"},{\"attributes\":{\"coordinates\":null,\"data_source\":{\"id\":\"6647\"},\"glyph\":{\"id\":\"6648\"},\"group\":null,\"hover_glyph\":null,\"muted_glyph\":{\"id\":\"6650\"},\"nonselection_glyph\":{\"id\":\"6649\"},\"view\":{\"id\":\"6652\"}},\"id\":\"6651\",\"type\":\"GlyphRenderer\"},{\"attributes\":{\"data\":{\"x\":{\"__ndarray__\":\"wrEwSqUt77/Eb4duVprtPw==\",\"dtype\":\"float64\",\"order\":\"little\",\"shape\":[2]},\"y\":{\"__ndarray__\":\"qkHIj5d/tD+7x+u/a/DGvw==\",\"dtype\":\"float64\",\"order\":\"little\",\"shape\":[2]}},\"selected\":{\"id\":\"6787\"},\"selection_policy\":{\"id\":\"6786\"}},\"id\":\"6647\",\"type\":\"ColumnDataSource\"},{\"attributes\":{\"line_color\":\"#FCCB25\",\"line_dash\":[6],\"line_width\":4,\"x\":{\"field\":\"x\"},\"y\":{\"field\":\"y\"}},\"id\":\"6654\",\"type\":\"Line\"},{\"attributes\":{\"line_alpha\":0.1,\"line_color\":\"#FDBB2B\",\"line_dash\":[6],\"line_width\":4,\"x\":{\"field\":\"x\"},\"y\":{\"field\":\"y\"}},\"id\":\"6643\",\"type\":\"Line\"},{\"attributes\":{\"source\":{\"id\":\"6641\"}},\"id\":\"6646\",\"type\":\"CDSView\"},{\"attributes\":{\"line_alpha\":0.2,\"line_color\":\"#FDBB2B\",\"line_dash\":[6],\"line_width\":4,\"x\":{\"field\":\"x\"},\"y\":{\"field\":\"y\"}},\"id\":\"6644\",\"type\":\"Line\"},{\"attributes\":{\"coordinates\":null,\"data_source\":{\"id\":\"6641\"},\"glyph\":{\"id\":\"6642\"},\"group\":null,\"hover_glyph\":null,\"muted_glyph\":{\"id\":\"6644\"},\"nonselection_glyph\":{\"id\":\"6643\"},\"view\":{\"id\":\"6646\"}},\"id\":\"6645\",\"type\":\"GlyphRenderer\"}],\"root_ids\":[\"6689\",\"7242\"]},\"title\":\"Bokeh Application\",\"version\":\"2.4.3\"}};\n    var render_items = [{\"docid\":\"e230250a-53d9-4c18-a9be-b0a5db9cd80b\",\"root_ids\":[\"6689\"],\"roots\":{\"6689\":\"2c4412ea-f8ee-4786-aeb2-b35b63e71c0e\"}}];\n    root.Bokeh.embed.embed_items_notebook(docs_json, render_items);\n    for (const render_item of render_items) {\n      for (const root_id of render_item.root_ids) {\n\tconst id_el = document.getElementById(root_id)\n\tif (id_el.children.length && (id_el.children[0].className === 'bk-root')) {\n\t  const root_el = id_el.children[0]\n\t  root_el.id = root_el.id + '-rendered'\n\t}\n      }\n    }\n  }\n  if (root.Bokeh !== undefined && root.Bokeh.Panel !== undefined) {\n    embed_document(root);\n  } else {\n    var attempts = 0;\n    var timer = setInterval(function(root) {\n      if (root.Bokeh !== undefined && root.Bokeh.Panel !== undefined) {\n        clearInterval(timer);\n        embed_document(root);\n      } else if (document.readyState == \"complete\") {\n        attempts++;\n        if (attempts > 200) {\n          clearInterval(timer);\n          console.log(\"Bokeh: ERROR: Unable to run BokehJS code because BokehJS library is missing\");\n        }\n      }\n    }, 25, root)\n  }\n})(window);</script>",
      "application/vnd.holoviews_exec.v0+json": "",
      "text/plain": "Row\n    [0] HSpacer()\n    [1] Bokeh(Figure)\n    [2] HSpacer()"
     },
     "execution_count": 34,
     "metadata": {
      "application/vnd.holoviews_exec.v0+json": {
       "id": "6689"
      }
     },
     "output_type": "execute_result"
    }
   ],
   "source": [
    "# Update loop\n",
    "for i in range(n_epochs):\n",
    "    \n",
    "    ######################\n",
    "    # YOUR CODE GOES HERE\n",
    "    ######################\n",
    "    \n",
    "    gradients = grad_loss_function(x_jax,y_jax,weights,bias)\n",
    "    weights -= eta *gradients[0]\n",
    "    bias -= eta * gradients[1]\n",
    "    \n",
    "    \n",
    "    \n",
    "    \n",
    "    \n",
    "    \n",
    "    \n",
    "    \n",
    "    \n",
    "    \n",
    "    ######################\n",
    "    # # Solution \n",
    "    # gradients = grad_loss_function(x_jax, y_jax, weights, bias)\n",
    "    # weights = weights - eta * gradients[0]\n",
    "    # bias = bias - eta * gradients[1]\n",
    "    ######################\n",
    "    weights_history = weights_history.at[i + 1].set(weights[0])\n",
    "    bias_history = bias_history.at[i + 1].set(bias[0])\n",
    "    \n",
    "    if (verbose):\n",
    "        print('%2d. error = %f, weights = %f, %f, %f' % (i, np.sum(np.abs(error)) / n_observations, bias[0, 0], weights[0, 0], weights[0, 1]))\n",
    "plot = center_plot(\n",
    "    scatter_boundary(\n",
    "        np.array(x_inputs), \n",
    "        np.array(y_class), \n",
    "        np.array(weights_history), \n",
    "        np.array(bias_history), \n",
    "        i + 1)\n",
    "    )\n",
    "plot"
   ]
  },
  {
   "cell_type": "markdown",
   "metadata": {
    "tags": []
   },
   "source": [
    "## Multi-layer networks\n",
    "\n",
    "In the following, we define the overall architecture of the exercise to fill. The goal is to define a more advanced problem \n",
    "\n",
    "### 2-layer XOR problem\n",
    "\n",
    "In most cases, classification problems are far from being linear. Therefore, we need more advanced methods to be able to compute non-linear class boundaries. The advantage of neural networks is that the same principle can be applied in a *layer-wise* fashion. This allows to further discriminate the space in sub-regions (as seen in the course). We will try to implement the 2-layer *perceptron* that can provide a solution to the infamous XOR problem. The idea is now to have the output of the first neurons to be connected to a set of other neurons. Therefore, if we take back our previous formulation, we have the same output for the first neuron(s) $y$, that we will now term as $y^{(1)}$. Then, we feed these outputs to a second layer of neurons, which gives\n",
    "\n",
    "\n",
    "$$\n",
    "\\begin{equation}\n",
    "y^{(2)}=\\sigma\\left(\\sum_{i = 1}^{n}w_{i}.y^{(1)}_{i} + b\\right)\n",
    "\\end{equation}\n",
    "$$  \n",
    "\n",
    "Finally, we will rely on the same loss $\\mathcal{L_{D}}$ as in the previous exercise, but the outputs used are $y^{(2)}$ instead of $y$. As in the previous case, we now need to compute the derivatives of the weights and biases for several layers . However, you should see that some form of generalization might be possible for any number of layer.  "
   ]
  },
  {
   "cell_type": "markdown",
   "metadata": {},
   "source": [
    "***\n",
    "\n",
    "<div class=\"alert alert-success\" markdown=\"1\" style=\"color:white; background-color: #192841; border-color: #779ecb\">\n",
    "\n",
    "> ### Exercise (course)\n",
    ">   1. Perform the derivatives for the last layer specifically\n",
    ">   2. Define a generalized derivative for any previous layer\n",
    "\n",
    "</div>\n",
    "\n",
    "***"
   ]
  },
  {
   "cell_type": "markdown",
   "metadata": {},
   "source": [
    "We can construct the prototypical set of XOR values by using the following code (note that this is the most simple case, but still this is typically a problem that cannot be solved by a _linear classifier_"
   ]
  },
  {
   "cell_type": "code",
   "execution_count": 35,
   "metadata": {
    "ExecuteTime": {
     "end_time": "2023-05-12T03:06:41.572774324Z",
     "start_time": "2023-05-12T03:06:41.544821903Z"
    }
   },
   "outputs": [
    {
     "data": {},
     "metadata": {},
     "output_type": "display_data"
    },
    {
     "data": {
      "text/html": "<div id='7845'>\n  <div class=\"bk-root\" id=\"7f9b1536-8cae-4939-8a29-0e66a0fbb21e\" data-root-id=\"7845\"></div>\n</div>\n<script type=\"application/javascript\">(function(root) {\n  function embed_document(root) {\n    var docs_json = {\"c437413f-8880-4300-8f5f-5249f9cbb3f6\":{\"defs\":[{\"extends\":null,\"module\":null,\"name\":\"ReactiveHTML1\",\"overrides\":[],\"properties\":[]},{\"extends\":null,\"module\":null,\"name\":\"FlexBox1\",\"overrides\":[],\"properties\":[{\"default\":\"flex-start\",\"kind\":null,\"name\":\"align_content\"},{\"default\":\"flex-start\",\"kind\":null,\"name\":\"align_items\"},{\"default\":\"row\",\"kind\":null,\"name\":\"flex_direction\"},{\"default\":\"wrap\",\"kind\":null,\"name\":\"flex_wrap\"},{\"default\":\"flex-start\",\"kind\":null,\"name\":\"justify_content\"}]},{\"extends\":null,\"module\":null,\"name\":\"GridStack1\",\"overrides\":[],\"properties\":[{\"default\":\"warn\",\"kind\":null,\"name\":\"mode\"},{\"default\":null,\"kind\":null,\"name\":\"ncols\"},{\"default\":null,\"kind\":null,\"name\":\"nrows\"},{\"default\":true,\"kind\":null,\"name\":\"allow_resize\"},{\"default\":true,\"kind\":null,\"name\":\"allow_drag\"},{\"default\":[],\"kind\":null,\"name\":\"state\"}]},{\"extends\":null,\"module\":null,\"name\":\"click1\",\"overrides\":[],\"properties\":[{\"default\":\"\",\"kind\":null,\"name\":\"terminal_output\"},{\"default\":\"\",\"kind\":null,\"name\":\"debug_name\"},{\"default\":0,\"kind\":null,\"name\":\"clears\"}]},{\"extends\":null,\"module\":null,\"name\":\"NotificationAreaBase1\",\"overrides\":[],\"properties\":[{\"default\":\"bottom-right\",\"kind\":null,\"name\":\"position\"},{\"default\":0,\"kind\":null,\"name\":\"_clear\"}]},{\"extends\":null,\"module\":null,\"name\":\"NotificationArea1\",\"overrides\":[],\"properties\":[{\"default\":[],\"kind\":null,\"name\":\"notifications\"},{\"default\":\"bottom-right\",\"kind\":null,\"name\":\"position\"},{\"default\":0,\"kind\":null,\"name\":\"_clear\"},{\"default\":[{\"background\":\"#ffc107\",\"icon\":{\"className\":\"fas fa-exclamation-triangle\",\"color\":\"white\",\"tagName\":\"i\"},\"type\":\"warning\"},{\"background\":\"#007bff\",\"icon\":{\"className\":\"fas fa-info-circle\",\"color\":\"white\",\"tagName\":\"i\"},\"type\":\"info\"}],\"kind\":null,\"name\":\"types\"}]},{\"extends\":null,\"module\":null,\"name\":\"Notification\",\"overrides\":[],\"properties\":[{\"default\":null,\"kind\":null,\"name\":\"background\"},{\"default\":3000,\"kind\":null,\"name\":\"duration\"},{\"default\":null,\"kind\":null,\"name\":\"icon\"},{\"default\":\"\",\"kind\":null,\"name\":\"message\"},{\"default\":null,\"kind\":null,\"name\":\"notification_type\"},{\"default\":false,\"kind\":null,\"name\":\"_destroyed\"}]},{\"extends\":null,\"module\":null,\"name\":\"TemplateActions1\",\"overrides\":[],\"properties\":[{\"default\":0,\"kind\":null,\"name\":\"open_modal\"},{\"default\":0,\"kind\":null,\"name\":\"close_modal\"}]},{\"extends\":null,\"module\":null,\"name\":\"MaterialTemplateActions1\",\"overrides\":[],\"properties\":[{\"default\":0,\"kind\":null,\"name\":\"open_modal\"},{\"default\":0,\"kind\":null,\"name\":\"close_modal\"}]}],\"roots\":{\"references\":[{\"attributes\":{\"fill_alpha\":{\"value\":0.6},\"fill_color\":{\"field\":\"color\"},\"hatch_alpha\":{\"value\":0.6},\"hatch_color\":{\"field\":\"color\"},\"line_alpha\":{\"value\":0.6},\"line_color\":{\"value\":\"white\"},\"size\":{\"value\":10},\"x\":{\"field\":\"x\"},\"y\":{\"field\":\"y\"}},\"id\":\"7828\",\"type\":\"Circle\"},{\"attributes\":{},\"id\":\"7815\",\"type\":\"SaveTool\"},{\"attributes\":{\"coordinates\":null,\"data_source\":{\"id\":\"7826\"},\"glyph\":{\"id\":\"7828\"},\"group\":null,\"hover_glyph\":null,\"muted_glyph\":{\"id\":\"7830\"},\"nonselection_glyph\":{\"id\":\"7829\"},\"view\":{\"id\":\"7832\"}},\"id\":\"7831\",\"type\":\"GlyphRenderer\"},{\"attributes\":{},\"id\":\"7805\",\"type\":\"BasicTicker\"},{\"attributes\":{},\"id\":\"7796\",\"type\":\"DataRange1d\"},{\"attributes\":{\"fill_alpha\":{\"value\":0.1},\"fill_color\":{\"field\":\"color\"},\"hatch_alpha\":{\"value\":0.1},\"hatch_color\":{\"field\":\"color\"},\"line_alpha\":{\"value\":0.1},\"line_color\":{\"value\":\"white\"},\"size\":{\"value\":10},\"x\":{\"field\":\"x\"},\"y\":{\"field\":\"y\"}},\"id\":\"7829\",\"type\":\"Circle\"},{\"attributes\":{\"overlay\":{\"id\":\"7818\"}},\"id\":\"7814\",\"type\":\"BoxZoomTool\"},{\"attributes\":{\"client_comm_id\":\"8f9b67f8d348410583ad5a3af8a84080\",\"comm_id\":\"b333f399d12944908a5db63205a64e04\",\"plot_id\":\"7845\"},\"id\":\"7898\",\"type\":\"panel.models.comm_manager.CommManager\"},{\"attributes\":{},\"id\":\"7816\",\"type\":\"ResetTool\"},{\"attributes\":{\"background_fill_alpha\":0.2,\"background_fill_color\":\"darkgrey\",\"border_line_alpha\":0.8,\"border_line_color\":\"grey\",\"border_line_width\":3,\"coordinates\":null,\"group\":null,\"items\":[{\"id\":\"7844\"}],\"label_text_color\":\"white\"},\"id\":\"7843\",\"type\":\"Legend\"},{\"attributes\":{},\"id\":\"7812\",\"type\":\"PanTool\"},{\"attributes\":{\"fill_alpha\":{\"value\":0.2},\"fill_color\":{\"field\":\"color\"},\"hatch_alpha\":{\"value\":0.2},\"hatch_color\":{\"field\":\"color\"},\"line_alpha\":{\"value\":0.2},\"line_color\":{\"value\":\"white\"},\"size\":{\"value\":10},\"x\":{\"field\":\"x\"},\"y\":{\"field\":\"y\"}},\"id\":\"7830\",\"type\":\"Circle\"},{\"attributes\":{},\"id\":\"7839\",\"type\":\"AllLabels\"},{\"attributes\":{\"axis\":{\"id\":\"7808\"},\"coordinates\":null,\"dimension\":1,\"grid_line_alpha\":0.15,\"grid_line_color\":\"#E0E0E0\",\"group\":null,\"ticker\":null},\"id\":\"7811\",\"type\":\"Grid\"},{\"attributes\":{\"axis_label\":\"x\",\"axis_label_standoff\":10,\"axis_label_text_color\":\"#FFFFFF\",\"axis_label_text_font\":\"Josefin Sans\",\"axis_label_text_font_size\":\"1.9em\",\"axis_label_text_font_style\":\"bold\",\"axis_line_alpha\":0.4,\"axis_line_color\":\"#E0E0E0\",\"coordinates\":null,\"formatter\":{\"id\":\"7838\"},\"group\":null,\"major_label_policy\":{\"id\":\"7839\"},\"major_label_text_color\":\"#E0E0E0\",\"major_label_text_font\":\"Josefin Sans\",\"major_label_text_font_size\":\"1.15em\",\"major_tick_line_alpha\":0.4,\"major_tick_line_color\":\"#E0E0E0\",\"minor_tick_line_alpha\":0.4,\"minor_tick_line_color\":\"#E0E0E0\",\"ticker\":{\"id\":\"7805\"}},\"id\":\"7804\",\"type\":\"LinearAxis\"},{\"attributes\":{\"tools\":[{\"id\":\"7812\"},{\"id\":\"7813\"},{\"id\":\"7814\"},{\"id\":\"7815\"},{\"id\":\"7816\"},{\"id\":\"7817\"}]},\"id\":\"7819\",\"type\":\"Toolbar\"},{\"attributes\":{\"background_fill_alpha\":0.9,\"background_fill_color\":\"#0f0f0f\",\"below\":[{\"id\":\"7804\"}],\"border_fill_alpha\":0.8,\"border_fill_color\":\"#111111\",\"center\":[{\"id\":\"7807\"},{\"id\":\"7811\"},{\"id\":\"7843\"}],\"height\":450,\"left\":[{\"id\":\"7808\"}],\"outline_line_alpha\":0.25,\"outline_line_color\":\"#E0E0E0\",\"outline_line_width\":3,\"renderers\":[{\"id\":\"7831\"}],\"right\":[{\"id\":\"7843\"}],\"title\":{\"id\":\"7794\"},\"toolbar\":{\"id\":\"7819\"},\"width\":700,\"x_range\":{\"id\":\"7796\"},\"x_scale\":{\"id\":\"7800\"},\"y_range\":{\"id\":\"7798\"},\"y_scale\":{\"id\":\"7802\"}},\"id\":\"7793\",\"subtype\":\"Figure\",\"type\":\"Plot\"},{\"attributes\":{\"margin\":[5,5,5,5],\"name\":\"HSpacer00195\",\"sizing_mode\":\"stretch_width\"},\"id\":\"7867\",\"type\":\"Spacer\"},{\"attributes\":{},\"id\":\"7817\",\"type\":\"HelpTool\"},{\"attributes\":{\"axis_label\":\"y\",\"axis_label_standoff\":10,\"axis_label_text_color\":\"#FFFFFF\",\"axis_label_text_font\":\"Josefin Sans\",\"axis_label_text_font_size\":\"1.9em\",\"axis_label_text_font_style\":\"bold\",\"axis_line_alpha\":0.4,\"axis_line_color\":\"#E0E0E0\",\"coordinates\":null,\"formatter\":{\"id\":\"7835\"},\"group\":null,\"major_label_policy\":{\"id\":\"7836\"},\"major_label_text_color\":\"#E0E0E0\",\"major_label_text_font\":\"Josefin Sans\",\"major_label_text_font_size\":\"1.15em\",\"major_tick_line_alpha\":0.4,\"major_tick_line_color\":\"#E0E0E0\",\"minor_tick_line_alpha\":0.4,\"minor_tick_line_color\":\"#E0E0E0\",\"ticker\":{\"id\":\"7809\"}},\"id\":\"7808\",\"type\":\"LinearAxis\"},{\"attributes\":{},\"id\":\"7802\",\"type\":\"LinearScale\"},{\"attributes\":{\"children\":[{\"id\":\"7846\"},{\"id\":\"7793\"},{\"id\":\"7867\"}],\"margin\":[0,0,0,0],\"name\":\"Row00198\"},\"id\":\"7845\",\"type\":\"Row\"},{\"attributes\":{\"margin\":[5,5,5,5],\"name\":\"HSpacer00194\",\"sizing_mode\":\"stretch_width\"},\"id\":\"7846\",\"type\":\"Spacer\"},{\"attributes\":{\"axis\":{\"id\":\"7804\"},\"coordinates\":null,\"grid_line_alpha\":0.15,\"grid_line_color\":\"#E0E0E0\",\"group\":null,\"ticker\":null},\"id\":\"7807\",\"type\":\"Grid\"},{\"attributes\":{},\"id\":\"7841\",\"type\":\"Selection\"},{\"attributes\":{},\"id\":\"7813\",\"type\":\"WheelZoomTool\"},{\"attributes\":{},\"id\":\"7840\",\"type\":\"UnionRenderers\"},{\"attributes\":{},\"id\":\"7835\",\"type\":\"BasicTickFormatter\"},{\"attributes\":{},\"id\":\"7836\",\"type\":\"AllLabels\"},{\"attributes\":{},\"id\":\"7798\",\"type\":\"DataRange1d\"},{\"attributes\":{},\"id\":\"7809\",\"type\":\"BasicTicker\"},{\"attributes\":{},\"id\":\"7838\",\"type\":\"BasicTickFormatter\"},{\"attributes\":{},\"id\":\"7800\",\"type\":\"LinearScale\"},{\"attributes\":{\"bottom_units\":\"screen\",\"coordinates\":null,\"fill_alpha\":0.5,\"fill_color\":\"lightgrey\",\"group\":null,\"left_units\":\"screen\",\"level\":\"overlay\",\"line_alpha\":1.0,\"line_color\":\"black\",\"line_dash\":[4,4],\"line_width\":2,\"right_units\":\"screen\",\"syncable\":false,\"top_units\":\"screen\"},\"id\":\"7818\",\"type\":\"BoxAnnotation\"},{\"attributes\":{\"label\":{\"field\":\"label\"},\"renderers\":[{\"id\":\"7831\"}]},\"id\":\"7844\",\"type\":\"LegendItem\"},{\"attributes\":{\"data\":{\"color\":[\"midnightblue\",\"firebrick\",\"firebrick\",\"midnightblue\"],\"label\":[\"class 1\",\"class 2\",\"class 2\",\"class 1\"],\"x\":[-1,-1,1,1],\"y\":[-1,1,-1,1]},\"selected\":{\"id\":\"7841\"},\"selection_policy\":{\"id\":\"7840\"}},\"id\":\"7826\",\"type\":\"ColumnDataSource\"},{\"attributes\":{\"coordinates\":null,\"group\":null,\"text\":\"XOR classification\",\"text_color\":\"#E0E0E0\",\"text_font\":\"Josefin Sans\",\"text_font_size\":\"2.1em\"},\"id\":\"7794\",\"type\":\"Title\"},{\"attributes\":{\"source\":{\"id\":\"7826\"}},\"id\":\"7832\",\"type\":\"CDSView\"}],\"root_ids\":[\"7845\",\"7898\"]},\"title\":\"Bokeh Application\",\"version\":\"2.4.3\"}};\n    var render_items = [{\"docid\":\"c437413f-8880-4300-8f5f-5249f9cbb3f6\",\"root_ids\":[\"7845\"],\"roots\":{\"7845\":\"7f9b1536-8cae-4939-8a29-0e66a0fbb21e\"}}];\n    root.Bokeh.embed.embed_items_notebook(docs_json, render_items);\n    for (const render_item of render_items) {\n      for (const root_id of render_item.root_ids) {\n\tconst id_el = document.getElementById(root_id)\n\tif (id_el.children.length && (id_el.children[0].className === 'bk-root')) {\n\t  const root_el = id_el.children[0]\n\t  root_el.id = root_el.id + '-rendered'\n\t}\n      }\n    }\n  }\n  if (root.Bokeh !== undefined && root.Bokeh.Panel !== undefined) {\n    embed_document(root);\n  } else {\n    var attempts = 0;\n    var timer = setInterval(function(root) {\n      if (root.Bokeh !== undefined && root.Bokeh.Panel !== undefined) {\n        clearInterval(timer);\n        embed_document(root);\n      } else if (document.readyState == \"complete\") {\n        attempts++;\n        if (attempts > 200) {\n          clearInterval(timer);\n          console.log(\"Bokeh: ERROR: Unable to run BokehJS code because BokehJS library is missing\");\n        }\n      }\n    }, 25, root)\n  }\n})(window);</script>",
      "application/vnd.holoviews_exec.v0+json": "",
      "text/plain": "Row\n    [0] HSpacer()\n    [1] Bokeh(Figure)\n    [2] HSpacer()"
     },
     "execution_count": 35,
     "metadata": {
      "application/vnd.holoviews_exec.v0+json": {
       "id": "7845"
      }
     },
     "output_type": "execute_result"
    }
   ],
   "source": [
    "# Input patterns\n",
    "x_inputs = np.array([[-1, -1],[-1,  1],[1, -1],[1,  1]])\n",
    "# Corresponding classes\n",
    "y_class = np.array([0, 1, 1, 0])                        \n",
    "# Initialize based on their sizes\n",
    "n_inputs = x_inputs.shape[0]\n",
    "n_outputs = 1\n",
    "# Plot the XOR problem\n",
    "plot = center_plot(scatter_classes(x_inputs, y_class, title = \"XOR classification\"))\n",
    "plot"
   ]
  },
  {
   "cell_type": "markdown",
   "metadata": {
    "tags": []
   },
   "source": [
    "## Observing the problem interactively"
   ]
  },
  {
   "cell_type": "code",
   "execution_count": 36,
   "metadata": {
    "ExecuteTime": {
     "end_time": "2023-05-12T03:06:41.661375382Z",
     "start_time": "2023-05-12T03:06:41.569806912Z"
    }
   },
   "outputs": [
    {
     "data": {},
     "metadata": {},
     "output_type": "display_data"
    },
    {
     "data": {
      "text/html": "<div id='8001'>\n  <div class=\"bk-root\" id=\"b7986842-079d-4db1-be2c-23eadaa724cf\" data-root-id=\"8001\"></div>\n</div>\n<script type=\"application/javascript\">(function(root) {\n  function embed_document(root) {\n    var docs_json = {\"0de5ecb3-79a5-4834-9ea9-c3881c688888\":{\"defs\":[{\"extends\":null,\"module\":null,\"name\":\"ReactiveHTML1\",\"overrides\":[],\"properties\":[]},{\"extends\":null,\"module\":null,\"name\":\"FlexBox1\",\"overrides\":[],\"properties\":[{\"default\":\"flex-start\",\"kind\":null,\"name\":\"align_content\"},{\"default\":\"flex-start\",\"kind\":null,\"name\":\"align_items\"},{\"default\":\"row\",\"kind\":null,\"name\":\"flex_direction\"},{\"default\":\"wrap\",\"kind\":null,\"name\":\"flex_wrap\"},{\"default\":\"flex-start\",\"kind\":null,\"name\":\"justify_content\"}]},{\"extends\":null,\"module\":null,\"name\":\"GridStack1\",\"overrides\":[],\"properties\":[{\"default\":\"warn\",\"kind\":null,\"name\":\"mode\"},{\"default\":null,\"kind\":null,\"name\":\"ncols\"},{\"default\":null,\"kind\":null,\"name\":\"nrows\"},{\"default\":true,\"kind\":null,\"name\":\"allow_resize\"},{\"default\":true,\"kind\":null,\"name\":\"allow_drag\"},{\"default\":[],\"kind\":null,\"name\":\"state\"}]},{\"extends\":null,\"module\":null,\"name\":\"click1\",\"overrides\":[],\"properties\":[{\"default\":\"\",\"kind\":null,\"name\":\"terminal_output\"},{\"default\":\"\",\"kind\":null,\"name\":\"debug_name\"},{\"default\":0,\"kind\":null,\"name\":\"clears\"}]},{\"extends\":null,\"module\":null,\"name\":\"NotificationAreaBase1\",\"overrides\":[],\"properties\":[{\"default\":\"bottom-right\",\"kind\":null,\"name\":\"position\"},{\"default\":0,\"kind\":null,\"name\":\"_clear\"}]},{\"extends\":null,\"module\":null,\"name\":\"NotificationArea1\",\"overrides\":[],\"properties\":[{\"default\":[],\"kind\":null,\"name\":\"notifications\"},{\"default\":\"bottom-right\",\"kind\":null,\"name\":\"position\"},{\"default\":0,\"kind\":null,\"name\":\"_clear\"},{\"default\":[{\"background\":\"#ffc107\",\"icon\":{\"className\":\"fas fa-exclamation-triangle\",\"color\":\"white\",\"tagName\":\"i\"},\"type\":\"warning\"},{\"background\":\"#007bff\",\"icon\":{\"className\":\"fas fa-info-circle\",\"color\":\"white\",\"tagName\":\"i\"},\"type\":\"info\"}],\"kind\":null,\"name\":\"types\"}]},{\"extends\":null,\"module\":null,\"name\":\"Notification\",\"overrides\":[],\"properties\":[{\"default\":null,\"kind\":null,\"name\":\"background\"},{\"default\":3000,\"kind\":null,\"name\":\"duration\"},{\"default\":null,\"kind\":null,\"name\":\"icon\"},{\"default\":\"\",\"kind\":null,\"name\":\"message\"},{\"default\":null,\"kind\":null,\"name\":\"notification_type\"},{\"default\":false,\"kind\":null,\"name\":\"_destroyed\"}]},{\"extends\":null,\"module\":null,\"name\":\"TemplateActions1\",\"overrides\":[],\"properties\":[{\"default\":0,\"kind\":null,\"name\":\"open_modal\"},{\"default\":0,\"kind\":null,\"name\":\"close_modal\"}]},{\"extends\":null,\"module\":null,\"name\":\"MaterialTemplateActions1\",\"overrides\":[],\"properties\":[{\"default\":0,\"kind\":null,\"name\":\"open_modal\"},{\"default\":0,\"kind\":null,\"name\":\"close_modal\"}]}],\"roots\":{\"references\":[{\"attributes\":{\"code\":\"    def generate_data(self):\\n        self.x, self.y = xor_separation(self.number_observations, self.dense_factor)\\n        super().generate_data()\",\"filename\":\"\",\"height\":60,\"js_property_callbacks\":{\"change:disabled\":[{\"id\":\"8043\"}],\"change:readonly\":[{\"id\":\"8042\"}]},\"language\":\"python\",\"margin\":[5,10,5,10],\"sizing_mode\":\"stretch_both\",\"theme\":\"chaos\"},\"id\":\"8031\",\"type\":\"panel.models.ace.AcePlot\"},{\"attributes\":{},\"id\":\"7969\",\"type\":\"WheelZoomTool\"},{\"attributes\":{},\"id\":\"7968\",\"type\":\"PanTool\"},{\"attributes\":{\"children\":[{\"id\":\"7949\"}],\"margin\":[0,0,0,0],\"name\":\"Row00220\"},\"id\":\"8010\",\"type\":\"Row\"},{\"attributes\":{\"overlay\":{\"id\":\"7974\"}},\"id\":\"7970\",\"type\":\"BoxZoomTool\"},{\"attributes\":{},\"id\":\"7971\",\"type\":\"SaveTool\"},{\"attributes\":{\"fill_alpha\":{\"value\":0.6},\"fill_color\":{\"field\":\"color\"},\"hatch_alpha\":{\"value\":0.6},\"hatch_color\":{\"field\":\"color\"},\"line_alpha\":{\"value\":0.6},\"line_color\":{\"value\":\"white\"},\"size\":{\"value\":10},\"x\":{\"field\":\"x\"},\"y\":{\"field\":\"y\"}},\"id\":\"7984\",\"type\":\"Circle\"},{\"attributes\":{},\"id\":\"7972\",\"type\":\"ResetTool\"},{\"attributes\":{\"coordinates\":null,\"group\":null,\"text\":\"XOR classification\",\"text_color\":\"#E0E0E0\",\"text_font\":\"Josefin Sans\",\"text_font_size\":\"2.1em\"},\"id\":\"7950\",\"type\":\"Title\"},{\"attributes\":{},\"id\":\"7994\",\"type\":\"BasicTickFormatter\"},{\"attributes\":{},\"id\":\"7996\",\"type\":\"UnionRenderers\"},{\"attributes\":{\"bottom_units\":\"screen\",\"coordinates\":null,\"fill_alpha\":0.5,\"fill_color\":\"lightgrey\",\"group\":null,\"left_units\":\"screen\",\"level\":\"overlay\",\"line_alpha\":1.0,\"line_color\":\"black\",\"line_dash\":[4,4],\"line_width\":2,\"right_units\":\"screen\",\"syncable\":false,\"top_units\":\"screen\"},\"id\":\"7974\",\"type\":\"BoxAnnotation\"},{\"attributes\":{\"client_comm_id\":\"ae2fc3c88db548cd93e94e5b51b8b294\",\"comm_id\":\"9157c0061b8a4750b194a34e6bfde623\",\"plot_id\":\"8001\"},\"id\":\"8064\",\"type\":\"panel.models.comm_manager.CommManager\"},{\"attributes\":{\"coordinates\":null,\"data_source\":{\"id\":\"7982\"},\"glyph\":{\"id\":\"7984\"},\"group\":null,\"hover_glyph\":null,\"muted_glyph\":{\"id\":\"7986\"},\"nonselection_glyph\":{\"id\":\"7985\"},\"view\":{\"id\":\"7988\"}},\"id\":\"7987\",\"type\":\"GlyphRenderer\"},{\"attributes\":{},\"id\":\"7997\",\"type\":\"Selection\"},{\"attributes\":{\"args\":{\"bidirectional\":true,\"properties\":{\"readonly\":\"disabled\"},\"source\":{\"id\":\"8031\"},\"target\":{\"id\":\"8031\"}},\"code\":\"\\n    var value = source['readonly'];\\n    value = value;\\n    value = value;\\n    try {\\n      var property = target.properties['disabled'];\\n      if (property !== undefined) { property.validate(value); }\\n    } catch(err) {\\n      console.log('WARNING: Could not set disabled on target, raised error: ' + err);\\n      return;\\n    }\\n    try {\\n      target['disabled'] = value;\\n    } catch(err) {\\n      console.log(err)\\n    }\\n    \",\"tags\":[[139744283683584,[null,\"readonly\"],[null,\"disabled\"]]]},\"id\":\"8042\",\"type\":\"CustomJS\"},{\"attributes\":{\"args\":{\"bidirectional\":true,\"properties\":{\"readonly\":\"disabled\"},\"source\":{\"id\":\"8031\"},\"target\":{\"id\":\"8031\"}},\"code\":\"\\n    var value = source['disabled'];\\n    value = value;\\n    value = value;\\n    try {\\n      var property = target.properties['readonly'];\\n      if (property !== undefined) { property.validate(value); }\\n    } catch(err) {\\n      console.log('WARNING: Could not set readonly on target, raised error: ' + err);\\n      return;\\n    }\\n    try {\\n      target['readonly'] = value;\\n    } catch(err) {\\n      console.log(err)\\n    }\\n    \",\"tags\":[[139744283683584,[null,\"readonly\"],[null,\"disabled\"]]]},\"id\":\"8043\",\"type\":\"CustomJS\"},{\"attributes\":{\"background_fill_alpha\":0.9,\"background_fill_color\":\"#0f0f0f\",\"below\":[{\"id\":\"7960\"}],\"border_fill_alpha\":0.8,\"border_fill_color\":\"#111111\",\"center\":[{\"id\":\"7963\"},{\"id\":\"7967\"},{\"id\":\"7999\"}],\"height\":450,\"left\":[{\"id\":\"7964\"}],\"outline_line_alpha\":0.25,\"outline_line_color\":\"#E0E0E0\",\"outline_line_width\":3,\"renderers\":[{\"id\":\"7987\"}],\"right\":[{\"id\":\"7999\"}],\"title\":{\"id\":\"7950\"},\"toolbar\":{\"id\":\"7975\"},\"width\":700,\"x_range\":{\"id\":\"7952\"},\"x_scale\":{\"id\":\"7956\"},\"y_range\":{\"id\":\"7954\"},\"y_scale\":{\"id\":\"7958\"}},\"id\":\"7949\",\"subtype\":\"Figure\",\"type\":\"Plot\"},{\"attributes\":{},\"id\":\"7958\",\"type\":\"LinearScale\"},{\"attributes\":{\"fill_alpha\":{\"value\":0.1},\"fill_color\":{\"field\":\"color\"},\"hatch_alpha\":{\"value\":0.1},\"hatch_color\":{\"field\":\"color\"},\"line_alpha\":{\"value\":0.1},\"line_color\":{\"value\":\"white\"},\"size\":{\"value\":10},\"x\":{\"field\":\"x\"},\"y\":{\"field\":\"y\"}},\"id\":\"7985\",\"type\":\"Circle\"},{\"attributes\":{\"data\":{\"color\":[\"midnightblue\",\"midnightblue\",\"midnightblue\",\"midnightblue\",\"midnightblue\",\"midnightblue\",\"midnightblue\",\"midnightblue\",\"midnightblue\",\"midnightblue\",\"midnightblue\",\"midnightblue\",\"midnightblue\",\"midnightblue\",\"midnightblue\",\"midnightblue\",\"midnightblue\",\"midnightblue\",\"midnightblue\",\"midnightblue\",\"midnightblue\",\"midnightblue\",\"midnightblue\",\"midnightblue\",\"firebrick\",\"firebrick\",\"firebrick\",\"firebrick\",\"firebrick\",\"firebrick\",\"firebrick\",\"firebrick\",\"firebrick\",\"firebrick\",\"firebrick\",\"firebrick\",\"firebrick\",\"firebrick\",\"firebrick\",\"firebrick\",\"firebrick\",\"firebrick\",\"firebrick\",\"firebrick\",\"firebrick\",\"firebrick\",\"firebrick\",\"firebrick\",\"firebrick\",\"firebrick\",\"firebrick\",\"firebrick\",\"firebrick\",\"firebrick\",\"firebrick\",\"firebrick\",\"firebrick\",\"firebrick\",\"firebrick\",\"firebrick\",\"firebrick\",\"firebrick\",\"firebrick\",\"firebrick\",\"firebrick\",\"firebrick\",\"firebrick\",\"firebrick\",\"firebrick\",\"firebrick\",\"firebrick\",\"firebrick\",\"midnightblue\",\"midnightblue\",\"midnightblue\",\"midnightblue\",\"midnightblue\",\"midnightblue\",\"midnightblue\",\"midnightblue\",\"midnightblue\",\"midnightblue\",\"midnightblue\",\"midnightblue\",\"midnightblue\",\"midnightblue\",\"midnightblue\",\"midnightblue\",\"midnightblue\",\"midnightblue\",\"midnightblue\",\"midnightblue\",\"midnightblue\",\"midnightblue\",\"midnightblue\",\"midnightblue\"],\"label\":[\"class 1\",\"class 1\",\"class 1\",\"class 1\",\"class 1\",\"class 1\",\"class 1\",\"class 1\",\"class 1\",\"class 1\",\"class 1\",\"class 1\",\"class 1\",\"class 1\",\"class 1\",\"class 1\",\"class 1\",\"class 1\",\"class 1\",\"class 1\",\"class 1\",\"class 1\",\"class 1\",\"class 1\",\"class 2\",\"class 2\",\"class 2\",\"class 2\",\"class 2\",\"class 2\",\"class 2\",\"class 2\",\"class 2\",\"class 2\",\"class 2\",\"class 2\",\"class 2\",\"class 2\",\"class 2\",\"class 2\",\"class 2\",\"class 2\",\"class 2\",\"class 2\",\"class 2\",\"class 2\",\"class 2\",\"class 2\",\"class 2\",\"class 2\",\"class 2\",\"class 2\",\"class 2\",\"class 2\",\"class 2\",\"class 2\",\"class 2\",\"class 2\",\"class 2\",\"class 2\",\"class 2\",\"class 2\",\"class 2\",\"class 2\",\"class 2\",\"class 2\",\"class 2\",\"class 2\",\"class 2\",\"class 2\",\"class 2\",\"class 2\",\"class 1\",\"class 1\",\"class 1\",\"class 1\",\"class 1\",\"class 1\",\"class 1\",\"class 1\",\"class 1\",\"class 1\",\"class 1\",\"class 1\",\"class 1\",\"class 1\",\"class 1\",\"class 1\",\"class 1\",\"class 1\",\"class 1\",\"class 1\",\"class 1\",\"class 1\",\"class 1\",\"class 1\"],\"x\":{\"__ndarray__\":\"Eadsv+uUi79uW5O/vqZ3v13xj79ysIy/siiHv+qXer/s7nq/LSuBv1rder8QnWW/Pux3v9XGmL/yY42/MxuRv5jpXb/pdWm/qEGIv0X7i78Gr4C/POl5v+Wyhb/A84a/Q1Fuv8tOfb+ZWoS/TEGMv4Gwgb/ApXy/dsN5v4Qakb+hepG/hJiHv8SJVr8tR5O/yh+Wv7RCfr8ZFIG/9giBvzKRi7+Y6Y+/qG+Pv/w2d7+EJFq/WCaMv8YBhL948l+/dm+BP+rWbz+YCFo/EZxkP/EGkT9rW5Q/URyAP7JigT8fvoI/tsZ4P5LYdD9PWmI/8C+OP0N8ZD8ecZI/e/hRP5aFlj9RAGs/O8OFP8P3bz+QY4I/wTSLP09Zcz9lL4o/eoJxP9nchT/p2ok/7pBrP5DqYD9Gwok/rK85P+c0UT8EJ4s/adBeP4Hdjj97VJc/1hWIP9Y7gT9dnYs/Ls5rP4tDfT89T4E/KluSPxWFfD82wI0/z+p8P7JgdT+UXZc/\",\"dtype\":\"float32\",\"order\":\"little\",\"shape\":[96]},\"y\":{\"__ndarray__\":\"MIqNvxpZgr+MWYq/Ga1zv1yWir9f7Xe/QddKv7zuiL9ZuIe/ijtsvy85hL87FIy/m1F6vxyrX7+5nn+/yoKMvxVLeL9MT4G/GERxv7olgr9vy3+/GH9qvzQrcr8BBm+/zI2QP62iiz8C8Wc/3jWOPxcZhD9aHYc/qT6WP8GKcj95xYA/lEx3P9Kmbz/IyFE/JQp5P5+6kD+fB4w/LoJ3P4YJdz+yUos/gsKFP4fqWj9PNSQ/5HmVP3nuUj+uzU8/w49lv3uegb9tTHu/JJw6v/0mbb+8PYO/mSCAv3MNjL8+hHu/Wdh3v/Jldb/xk4y/NAyAvyLNX79mR2e/74CIv3zviL+anZe/z8F9v5Nzd7/kuGi/YFmDv6+Zbr+ohU2/YINMP4/4kD9HMII/vw1HP/cvhj/rcU8/Hgt7P3p2eD9Bd1g/cr9/P8IRij9STpw/ijJyP7eWeD8nbnY/zFxqPx00kT9ZZow/kvOFP3y1kD/WcWg/PjaSP6F5jD9PqoA/\",\"dtype\":\"float32\",\"order\":\"little\",\"shape\":[96]}},\"selected\":{\"id\":\"7997\"},\"selection_policy\":{\"id\":\"7996\"}},\"id\":\"7982\",\"type\":\"ColumnDataSource\"},{\"attributes\":{\"tools\":[{\"id\":\"7968\"},{\"id\":\"7969\"},{\"id\":\"7970\"},{\"id\":\"7971\"},{\"id\":\"7972\"},{\"id\":\"7973\"}]},\"id\":\"7975\",\"type\":\"Toolbar\"},{\"attributes\":{\"axis\":{\"id\":\"7960\"},\"coordinates\":null,\"grid_line_alpha\":0.15,\"grid_line_color\":\"#E0E0E0\",\"group\":null,\"ticker\":null},\"id\":\"7963\",\"type\":\"Grid\"},{\"attributes\":{},\"id\":\"7956\",\"type\":\"LinearScale\"},{\"attributes\":{},\"id\":\"7961\",\"type\":\"BasicTicker\"},{\"attributes\":{\"children\":[{\"id\":\"8002\"},{\"id\":\"8031\"}],\"margin\":[0,0,0,0],\"name\":\"Column00226\"},\"id\":\"8001\",\"type\":\"Column\"},{\"attributes\":{\"background_fill_alpha\":0.2,\"background_fill_color\":\"darkgrey\",\"border_line_alpha\":0.8,\"border_line_color\":\"grey\",\"border_line_width\":3,\"coordinates\":null,\"group\":null,\"items\":[{\"id\":\"8000\"}],\"label_text_color\":\"white\"},\"id\":\"7999\",\"type\":\"Legend\"},{\"attributes\":{\"fill_alpha\":{\"value\":0.2},\"fill_color\":{\"field\":\"color\"},\"hatch_alpha\":{\"value\":0.2},\"hatch_color\":{\"field\":\"color\"},\"line_alpha\":{\"value\":0.2},\"line_color\":{\"value\":\"white\"},\"size\":{\"value\":10},\"x\":{\"field\":\"x\"},\"y\":{\"field\":\"y\"}},\"id\":\"7986\",\"type\":\"Circle\"},{\"attributes\":{\"children\":[{\"id\":\"8003\"},{\"id\":\"8010\"}],\"margin\":[0,0,0,0],\"name\":\"Row00223\"},\"id\":\"8002\",\"type\":\"Row\"},{\"attributes\":{\"axis_label\":\"$$\\\\color{white} \\\\mathbf{y}$$\",\"axis_label_standoff\":10,\"axis_label_text_color\":\"#FFFFFF\",\"axis_label_text_font\":\"Josefin Sans\",\"axis_label_text_font_size\":\"1.9em\",\"axis_label_text_font_style\":\"bold\",\"axis_line_alpha\":0.4,\"axis_line_color\":\"#E0E0E0\",\"coordinates\":null,\"formatter\":{\"id\":\"7991\"},\"group\":null,\"major_label_policy\":{\"id\":\"7992\"},\"major_label_text_color\":\"#E0E0E0\",\"major_label_text_font\":\"Josefin Sans\",\"major_label_text_font_size\":\"1.15em\",\"major_tick_line_alpha\":0.4,\"major_tick_line_color\":\"#E0E0E0\",\"minor_tick_line_alpha\":0.4,\"minor_tick_line_color\":\"#E0E0E0\",\"ticker\":{\"id\":\"7965\"}},\"id\":\"7964\",\"type\":\"LinearAxis\"},{\"attributes\":{\"source\":{\"id\":\"7982\"}},\"id\":\"7988\",\"type\":\"CDSView\"},{\"attributes\":{\"children\":[{\"id\":\"8004\"},{\"id\":\"8005\"},{\"id\":\"8006\"},{\"id\":\"8007\"},{\"id\":\"8008\"},{\"id\":\"8009\"}],\"margin\":[5,5,5,5],\"min_width\":300,\"name\":\"Problem parameters\",\"width\":300},\"id\":\"8003\",\"type\":\"Column\"},{\"attributes\":{},\"id\":\"7995\",\"type\":\"AllLabels\"},{\"attributes\":{},\"id\":\"7952\",\"type\":\"DataRange1d\"},{\"attributes\":{},\"id\":\"7954\",\"type\":\"DataRange1d\"},{\"attributes\":{\"label\":{\"field\":\"label\"},\"renderers\":[{\"id\":\"7987\"}]},\"id\":\"8000\",\"type\":\"LegendItem\"},{\"attributes\":{\"margin\":[5,10,5,10],\"name\":\"\",\"text\":\"<b>Problem parameters</b>\"},\"id\":\"8004\",\"type\":\"Div\"},{\"attributes\":{},\"id\":\"7973\",\"type\":\"HelpTool\"},{\"attributes\":{\"labels\":[\"Ground truth\"],\"margin\":[5,10,5,10]},\"id\":\"8007\",\"type\":\"CheckboxGroup\"},{\"attributes\":{\"axis_label\":\"$$\\\\color{white} x$$\",\"axis_label_standoff\":10,\"axis_label_text_color\":\"#FFFFFF\",\"axis_label_text_font\":\"Josefin Sans\",\"axis_label_text_font_size\":\"1.9em\",\"axis_label_text_font_style\":\"bold\",\"axis_line_alpha\":0.4,\"axis_line_color\":\"#E0E0E0\",\"coordinates\":null,\"formatter\":{\"id\":\"7994\"},\"group\":null,\"major_label_policy\":{\"id\":\"7995\"},\"major_label_text_color\":\"#E0E0E0\",\"major_label_text_font\":\"Josefin Sans\",\"major_label_text_font_size\":\"1.15em\",\"major_tick_line_alpha\":0.4,\"major_tick_line_color\":\"#E0E0E0\",\"minor_tick_line_alpha\":0.4,\"minor_tick_line_color\":\"#E0E0E0\",\"ticker\":{\"id\":\"7961\"}},\"id\":\"7960\",\"type\":\"LinearAxis\"},{\"attributes\":{},\"id\":\"7991\",\"type\":\"BasicTickFormatter\"},{\"attributes\":{\"labels\":[\"Error\"],\"margin\":[5,10,5,10]},\"id\":\"8008\",\"type\":\"CheckboxGroup\"},{\"attributes\":{\"axis\":{\"id\":\"7964\"},\"coordinates\":null,\"dimension\":1,\"grid_line_alpha\":0.15,\"grid_line_color\":\"#E0E0E0\",\"group\":null,\"ticker\":null},\"id\":\"7967\",\"type\":\"Grid\"},{\"attributes\":{\"end\":1000,\"margin\":[5,10,5,10],\"start\":10,\"title\":\"Number observations\",\"value\":100},\"id\":\"8005\",\"type\":\"Slider\"},{\"attributes\":{},\"id\":\"7965\",\"type\":\"BasicTicker\"},{\"attributes\":{},\"id\":\"7992\",\"type\":\"AllLabels\"},{\"attributes\":{\"end\":0.9,\"margin\":[5,10,5,10],\"start\":0.01,\"step\":0.1,\"title\":\"Dense factor\",\"value\":0.1},\"id\":\"8009\",\"type\":\"Slider\"},{\"attributes\":{\"end\":5.0,\"margin\":[5,10,5,10],\"start\":0.0,\"step\":0.1,\"title\":\"Noise level\",\"value\":0.1},\"id\":\"8006\",\"type\":\"Slider\"}],\"root_ids\":[\"8001\",\"8064\"]},\"title\":\"Bokeh Application\",\"version\":\"2.4.3\"}};\n    var render_items = [{\"docid\":\"0de5ecb3-79a5-4834-9ea9-c3881c688888\",\"root_ids\":[\"8001\"],\"roots\":{\"8001\":\"b7986842-079d-4db1-be2c-23eadaa724cf\"}}];\n    root.Bokeh.embed.embed_items_notebook(docs_json, render_items);\n    for (const render_item of render_items) {\n      for (const root_id of render_item.root_ids) {\n\tconst id_el = document.getElementById(root_id)\n\tif (id_el.children.length && (id_el.children[0].className === 'bk-root')) {\n\t  const root_el = id_el.children[0]\n\t  root_el.id = root_el.id + '-rendered'\n\t}\n      }\n    }\n  }\n  if (root.Bokeh !== undefined && root.Bokeh.Panel !== undefined) {\n    embed_document(root);\n  } else {\n    var attempts = 0;\n    var timer = setInterval(function(root) {\n      if (root.Bokeh !== undefined && root.Bokeh.Panel !== undefined) {\n        clearInterval(timer);\n        embed_document(root);\n      } else if (document.readyState == \"complete\") {\n        attempts++;\n        if (attempts > 200) {\n          clearInterval(timer);\n          console.log(\"Bokeh: ERROR: Unable to run BokehJS code because BokehJS library is missing\");\n        }\n      }\n    }, 25, root)\n  }\n})(window);</script>",
      "application/vnd.holoviews_exec.v0+json": "",
      "text/plain": "Column\n    [0] Row\n        [0] Param(ClassificationXOR, name='Problem parameters')\n        [1] ParamMethod(method, _pane=Bokeh)\n    [1] Ace(height=60, language='python', sizing_mode='stretch_both', theme='chaos', value='    def generate_data(sel...)"
     },
     "execution_count": 36,
     "metadata": {
      "application/vnd.holoviews_exec.v0+json": {
       "id": "8001"
      }
     },
     "output_type": "execute_result"
    }
   ],
   "source": [
    "from cml.tasks import ClassificationLinear, ClassificationXOR\n",
    "explorer = ClassificationXOR()\n",
    "explorer.render()"
   ]
  },
  {
   "cell_type": "markdown",
   "metadata": {},
   "source": [
    "## Solving the problem with the `scikit-learn` library\n",
    "\n",
    "As a side note, and as discussed in the previous course, there is obviously a lot of libraries that can perform the training of such networks for you directly, without understanding what is exactly going on behind the scene. A quite extensive library is `scikit-learn`, which contains already coded models and learning procedure, that will allow us to _learn_ the parameters of this unknown function.\n",
    "\n",
    "Here we will use a `MLPClassifier` model to perfom classification on standardized features that we rescale through the `LinearRegression` and that this polynomial should be of degree 2. "
   ]
  },
  {
   "cell_type": "code",
   "execution_count": 37,
   "metadata": {
    "ExecuteTime": {
     "end_time": "2023-05-12T03:06:41.665662606Z",
     "start_time": "2023-05-12T03:06:41.663393074Z"
    }
   },
   "outputs": [],
   "source": [
    "from sklearn.neural_network import MLPClassifier\n",
    "from sklearn.preprocessing import StandardScaler\n",
    "from sklearn.pipeline import make_pipeline\n",
    "# Create the MLP classifier\n",
    "classifier = MLPClassifier(alpha=1, max_iter=1000)\n",
    "# Standardize the input features\n",
    "clf = make_pipeline(StandardScaler(), classifier)"
   ]
  },
  {
   "cell_type": "markdown",
   "metadata": {},
   "source": [
    "Now based on this model definition, training it can be performed with a single line of code"
   ]
  },
  {
   "cell_type": "code",
   "execution_count": 38,
   "metadata": {
    "ExecuteTime": {
     "end_time": "2023-05-12T03:06:42.721739470Z",
     "start_time": "2023-05-12T03:06:41.666087381Z"
    }
   },
   "outputs": [],
   "source": [
    "from cml.data import xor_separation\n",
    "# Generate a XOR dataset\n",
    "x_inputs, y_classes = xor_separation(500, 0.1)\n",
    "# Train the MLP model\n",
    "clf.fit(x_inputs, y_classes);"
   ]
  },
  {
   "cell_type": "markdown",
   "metadata": {
    "tags": []
   },
   "source": [
    "## Multi-layer implementation\n",
    "\n",
    "In this exercise, we will implement the XOR classification resolution using NumPy and JAX. This classification problem cannot be solved with a simple linear classifier. Hence, we will need to use at least a 2-layer network. The minimal set of variables that will be used by your code should be the following.\n",
    "\n",
    "```Python\n",
    "x_inputs          # 2 x n matrix of random points\n",
    "y_class           # classes of the patterns \n",
    "n_hidden          # Number of hidden units\n",
    "eta               # Learning rate parameter\n",
    "momentum          # Momentum parameter (bonus)\n",
    "weights1          # 1st layer weights\n",
    "weights2          # 2nd layer weights\n",
    "mse_limit         # Sum-squared error limit\n",
    "```"
   ]
  },
  {
   "cell_type": "code",
   "execution_count": 39,
   "metadata": {
    "ExecuteTime": {
     "end_time": "2023-05-12T03:06:42.731256896Z",
     "start_time": "2023-05-12T03:06:42.724831087Z"
    }
   },
   "outputs": [],
   "source": [
    "# Number of hidden units\n",
    "n_hidden = 2\n",
    "# Learning rate parameter\n",
    "eta = 0.005\n",
    "# Momentum parameter\n",
    "momentum = 0.1\n",
    "# Sum-squared error limit\n",
    "mse_limit = 0.002"
   ]
  },
  {
   "cell_type": "markdown",
   "metadata": {
    "tags": []
   },
   "source": [
    "## Exercise 1 - 2-layers XOR classification\n",
    "\n",
    "<div class=\"alert alert-success\" markdown=\"1\" style=\"color:white; background-color: #013220; border-color: #03C03C\">\n",
    "\n",
    "> To complete this exercise, you will need to have a basic understanding of NumPy and JAX. You can use the resources provided in the previous exercises to learn more about these libraries.\n",
    "\n",
    "We help you out by first defining the XOR classification problem to solve (and outlining some basic properties)\n",
    "\n",
    "</div>"
   ]
  },
  {
   "cell_type": "code",
   "execution_count": 40,
   "metadata": {
    "ExecuteTime": {
     "end_time": "2023-05-12T03:06:42.777554567Z",
     "start_time": "2023-05-12T03:06:42.734444611Z"
    }
   },
   "outputs": [],
   "source": [
    "from cml.data import xor_separation\n",
    "# Definition of our data properties\n",
    "n_observations = 500\n",
    "noise_factor = 0.1\n",
    "# Properties of our problem\n",
    "n_input = 2\n",
    "n_output = 1\n",
    "# Generate a XOR dataset\n",
    "x_inputs, y_classes = xor_separation(n_observations, noise_factor)"
   ]
  },
  {
   "cell_type": "markdown",
   "metadata": {},
   "source": [
    "We also show some potential implementation of the **initialization scheme**. Note that you can later try to replace this naive implementation by some more refined functions"
   ]
  },
  {
   "cell_type": "code",
   "execution_count": 41,
   "metadata": {
    "ExecuteTime": {
     "end_time": "2023-05-12T03:06:42.777819887Z",
     "start_time": "2023-05-12T03:06:42.769636179Z"
    }
   },
   "outputs": [],
   "source": [
    "# 1st layer weights\n",
    "weights1 = (np.random.randn(n_hidden, n_input) * 0.01)\n",
    "# 2nd layer weights\n",
    "weights2 = (np.random.randn(n_output, n_hidden) * 0.01)\n",
    "# 1st layer biases\n",
    "bias1 = (np.random.randn(n_hidden, 1) * 0.01)\n",
    "# 2nd layer biases\n",
    "bias2 = (np.random.randn(n_output, 1) * 0.01)"
   ]
  },
  {
   "cell_type": "markdown",
   "metadata": {},
   "source": [
    "$$\n",
    "\\begin{equation}\n",
    "y^{(1)}=\\sum_{i = 1}^{n}w_{i}.x_{i} + b\n",
    "\\label{eq1}\n",
    "\\end{equation}\n",
    "$$\n",
    "$$\n",
    "\\begin{equation}\n",
    "y^{(2)}=\\phi\\left(\\sum_{i = 1}^{n}w_{i}.y^{(1)}_{i} + b\\right)\n",
    "\\end{equation}\n",
    "$$  \n",
    "\n",
    "$$ \\phi(\\mathbf{x}) = \\frac{1}{1 + e^{-\\mathbf{x}}} $$"
   ]
  },
  {
   "cell_type": "markdown",
   "metadata": {},
   "source": [
    "***\n",
    "\n",
    "<div class=\"alert alert-success\" markdown=\"1\" style=\"color:white; background-color: #013220; border-color: #03C03C\">\n",
    "\n",
    "> ### Question 1.1 - Implement 2-layer XOR classification with NumPy\n",
    "\n",
    "> 1. Update the forward propagation and error computation\n",
    "> 2. Update the back-propagation part to learn the weights of both layers.\n",
    "> 3. Run the learning and check your network results\n",
    "  \n",
    "*For optional questions, please look at the end of this exercise's code boxes for more information*\n",
    "\n",
    "</div>\n",
    "\n",
    "***"
   ]
  },
  {
   "cell_type": "code",
   "execution_count": 42,
   "metadata": {
    "ExecuteTime": {
     "end_time": "2023-05-12T03:06:51.465971547Z",
     "start_time": "2023-05-12T03:06:42.775853882Z"
    }
   },
   "outputs": [
    {
     "name": "stdout",
     "output_type": "stream",
     "text": [
      "before training:  124.0\n",
      "after training:  89.177124\n"
     ]
    }
   ],
   "source": [
    "eta=0.01\n",
    "# 1st layer weights\n",
    "weights1 = (np.random.randn(n_hidden, n_input) * 0.01)\n",
    "# 2nd layer weights\n",
    "weights2 = (np.random.randn(n_output, n_hidden) * 0.01)\n",
    "# 1st layer biases\n",
    "bias1 = (np.random.randn(n_hidden, 1) * 0.01)\n",
    "# 2nd layer biases\n",
    "bias2 = (np.random.randn(n_output, 1) * 0.01)\n",
    "\n",
    "\n",
    "# 1st layer weights\n",
    "weights1 = (np.random.randn(n_hidden, n_input) * 0)\n",
    "# 2nd layer weights\n",
    "weights2 = (np.random.randn(n_output, n_hidden) * 0)\n",
    "# 1st layer biases\n",
    "bias1 = (np.random.randn(n_hidden, 1) * 0)\n",
    "# 2nd layer biases\n",
    "bias2 = (np.random.randn(n_output, 1) * 0)\n",
    "######################\n",
    "# YOUR CODE GOES HERE\n",
    "######################\n",
    "def sigmoid(x):\n",
    "    return 1/(1+np.exp(-x))\n",
    "\n",
    "def loss(x,y,w1,w2,b1,b2):\n",
    "    y_1 = sigmoid( x@w1.T +b1.T )\n",
    "    y_2 = sigmoid(y_1 @w2.T+b2.T)\n",
    "    return np.sum((y[:,None]-y_2)**2)\n",
    "\n",
    "print(\"before training: \", loss(x_inputs,y_classes,weights1,weights2,bias1,bias2))\n",
    "epoch =1000\n",
    "batch_size =100\n",
    "for i in range(epoch):\n",
    "    for batch_idx in range(len(x_inputs)//batch_size+1):\n",
    "        start = batch_idx*batch_size\n",
    "        end = start+batch_size\n",
    "        \n",
    "        x_batch = x_inputs[start:end,:]\n",
    "        y_batch=  y_classes[start:end]\n",
    "       \n",
    "        y_1 = sigmoid(x_batch@weights1.T +bias1.T)\n",
    "        y_2 = sigmoid(y_1 @weights2.T+bias2.T)\n",
    "        gradients2 = 2*(y_2-y_batch[:,None])*y_2*(1-y_2)\n",
    "        bias2 -= eta*np.sum(gradients2,axis=0)\n",
    "        weights2 -= eta *np.sum(gradients2[:,:,None]*y_1[:,None,:],axis=0)\n",
    "        \n",
    "        gradients1 = (gradients2*weights2)*(y_1*(1-y_1))\n",
    "        bias1 -= eta *np.sum(gradients1[:,:,None],0)\n",
    "        weights1 -= eta *np.sum(gradients1[:,:,None]*x_batch[:,None,:],axis=0)\n",
    "    # print(\"epoch: \",i, loss(x_original,y_original,weights1,weights2,bias1,bias2))\n",
    "print(\"after training: \", loss(x_inputs,y_classes,weights1,weights2,bias1,bias2))\n",
    "    \n",
    "    "
   ]
  },
  {
   "cell_type": "code",
   "execution_count": 43,
   "metadata": {
    "ExecuteTime": {
     "end_time": "2023-05-12T03:06:51.466364010Z",
     "start_time": "2023-05-12T03:06:51.440825439Z"
    }
   },
   "outputs": [
    {
     "name": "stdout",
     "output_type": "stream",
     "text": [
      "-4.212524\n"
     ]
    }
   ],
   "source": [
    "print(weights1[0,0])"
   ]
  },
  {
   "cell_type": "code",
   "execution_count": 44,
   "metadata": {
    "ExecuteTime": {
     "end_time": "2023-05-12T03:06:51.466514738Z",
     "start_time": "2023-05-12T03:06:51.441062627Z"
    }
   },
   "outputs": [],
   "source": [
    "# import copy\n",
    "# eta=0.1\n",
    "# # 1st layer weights\n",
    "# weights1 = (np.random.randn(n_hidden, n_input) )\n",
    "# # 2nd layer weights\n",
    "# weights2 = (np.random.randn(n_output, n_hidden) )\n",
    "# # 1st layer biases\n",
    "# bias1 = (np.random.randn(n_hidden, 1) )\n",
    "# # 2nd layer biases\n",
    "# bias2 = (np.random.randn(n_output, 1) )\n",
    "# ######################\n",
    "# # YOUR CODE GOES HERE\n",
    "# ######################\n",
    "# def sigmoid(x):\n",
    "#     return 1/(1+np.exp(-x))\n",
    "#\n",
    "# def loss(x,y,w1,w2,b1,b2):\n",
    "#     y_1 = sigmoid( x@w1.T +b1.T )\n",
    "#     y_2 = sigmoid(y_1 @w2.T+b2.T)\n",
    "#     return np.sum((y[:,None]-y_2)**2)\n",
    "#\n",
    "# print(\"before training: \", loss(x_original,y_original,weights1,weights2,bias1,bias2))\n",
    "# epoch =100\n",
    "# batch_size =5\n",
    "# for i in range(epoch):\n",
    "#     for batch_idx in range(len(x_original)//batch_size+1):\n",
    "#         x_inputs = x_original[batch_idx*batch_size:(batch_idx+1)*batch_size,:]\n",
    "#         y_classes= y_original[batch_idx*batch_size:(batch_idx+1)*batch_size]\n",
    "#         # print(x_inputs.shape,y_classes.shape)\n",
    "#         y_1 = sigmoid(x_inputs@weights1.T +bias1.T) #[496,2]\n",
    "#         y_2 = sigmoid(y_1 @weights2.T+bias2.T) #[496,1]\n",
    "#\n",
    "#         weights2[0,0] -= np.sum(2*(y_2-y_classes[:,None])*y_2*(1-y_2)*y_1[:,0][:,None],0)\n",
    "#         weights2[0,1] -= np.sum(2*(y_2-y_classes[:,None])*y_2*(1-y_2)*y_1[:,1][:,None],0)\n",
    "#         bias2[0,0]    -= np.sum(2*(y_2-y_classes[:,None])*y_2*(1-y_2),0)\n",
    "#\n",
    "#\n",
    "#         weights1[0,0] -= np.sum(2*(y_2-y_classes[:,None])*y_2*(1-y_2)*weights2[0,0]* (y_1[:,0]*(1-y_1[:,0]))[:,None]*x_inputs[:,0][:,None],0)\n",
    "#         weights1[0,1] -= np.sum(2*(y_2-y_classes[:,None])*y_2*(1-y_2)*weights2[0,0]* (y_1[:,0]*(1-y_1[:,0]))[:,None]*x_inputs[:,1][:,None],0)\n",
    "#         bias1[0,0]    -= np.sum(2*(y_2-y_classes[:,None])*y_2*(1-y_2)*weights2[0,0]* (y_1[:,0]*(1-y_1[:,0]))[:,None],0)\n",
    "#\n",
    "#         weights1[1,0] -= np.sum(2*(y_2-y_classes[:,None])*y_2*(1-y_2)*weights2[0,1]* (y_1[:,1]*(1-y_1[:,1]))[:,None]*x_inputs[:,0][:,None],0)\n",
    "#         weights1[1,1] -= np.sum(2*(y_2-y_classes[:,None])*y_2*(1-y_2)*weights2[0,1]* (y_1[:,1]*(1-y_1[:,1]))[:,None]*x_inputs[:,1][:,None],0)\n",
    "#         bias1[1,0]    -= np.sum(2*(y_2-y_classes[:,None])*y_2*(1-y_2)*weights2[0,1]* (y_1[:,1]*(1-y_1[:,1]))[:,None],0)\n",
    "#     print(\"epoch: \",i, loss(x_original,y_original,weights1,weights2,bias1,bias2))\n",
    "#\n",
    "# print(\"after training: \", loss(x_original,y_original,weights1,weights2,bias1,bias2))\n",
    "#\n",
    "#"
   ]
  },
  {
   "cell_type": "markdown",
   "metadata": {},
   "source": [
    "***\n",
    "\n",
    "<div class=\"alert alert-success\" markdown=\"1\" style=\"color:white; background-color: #013220; border-color: #03C03C\">\n",
    "\n",
    "> ### Question 1.2 - Implement XOR classification with JAX\n",
    "\n",
    "> 1. Perform the same implementation as previously with JAX\n",
    "> 2. Implement gradient descent to optimize the weights and bias.\n",
    "\n",
    "</div>\n",
    "\n",
    "***"
   ]
  },
  {
   "cell_type": "code",
   "execution_count": 45,
   "metadata": {
    "ExecuteTime": {
     "end_time": "2023-05-12T03:07:00.872069760Z",
     "start_time": "2023-05-12T03:06:51.441195765Z"
    }
   },
   "outputs": [
    {
     "name": "stdout",
     "output_type": "stream",
     "text": [
      "before training:  124.00929\n",
      "Epoch cost: 31\n",
      "after training:  0.019482007\n"
     ]
    }
   ],
   "source": [
    "import jax\n",
    "import jax.numpy as jnp\n",
    "from jax import grad, jit, random\n",
    "from cml.data import xor_separation\n",
    "key = random.PRNGKey(42)\n",
    "\n",
    "# Number of hidden units\n",
    "n_hidden = 2\n",
    "# Learning rate parameter\n",
    "eta = 0.01\n",
    "# Momentum parameter\n",
    "momentum = 0.1\n",
    "# Sum-squared error limit\n",
    "mse_limit = 0.02\n",
    "\n",
    "x_inputs, y_classes = xor_separation(n_observations, noise_factor)\n",
    "x_jax = jnp.asarray(x_inputs)\n",
    "y_jax = jnp.asarray(y_classes)\n",
    "\n",
    "key_w1,key_w2, key_b1,key_b2, key = random.split(key, 5)\n",
    "\n",
    "coe = 0.01\n",
    "weights1 = random.normal(key_w1,(n_hidden,n_input))*coe\n",
    "weights2 = random.normal(key_w2,(n_output,n_hidden))*coe\n",
    "bias1 = random.normal(key_b1,(n_hidden,1))*coe\n",
    "bias2 = random.normal(key_b2,(n_output,1))*coe\n",
    "\n",
    "\n",
    "def loss_function(x, y, w1,w2,b1,b2):\n",
    "    y_1 =  jax.nn.sigmoid( x@w1.T +b1.T )\n",
    "    y_2 =  jax.nn.sigmoid(y_1 @w2.T+b2.T)\n",
    "    return jnp.sum((y[:,None]-y_2)**2)\n",
    "    \n",
    "grad_loss_function = jit(grad(loss_function, argnums=[2,3,4,5]))\n",
    "\n",
    "print(\"before training: \", loss_function(x_jax,y_jax,weights1,weights2,bias1,bias2))\n",
    "epoch =0\n",
    "batch_size =1\n",
    "while True:\n",
    "    for batch_idx in range(len(x_inputs)//batch_size+1):\n",
    "        start = batch_idx*batch_size\n",
    "        end = start+batch_size\n",
    "        \n",
    "        x_batch = x_inputs[start:end,:]\n",
    "        y_batch=  y_classes[start:end]\n",
    "       \n",
    "        gradients = grad_loss_function(x_jax,y_jax,weights1,weights2,bias1,bias2)\n",
    "        weights1 -= eta *gradients[0]\n",
    "        weights2 -= eta*gradients[1]\n",
    "        bias1    -= eta * gradients[2]\n",
    "        bias2    -= eta * gradients[3]\n",
    "    epoch+=1\n",
    "    if loss(x_jax,y_jax,weights1,weights2,bias1,bias2) < mse_limit:\n",
    "        break\n",
    "    if epoch >=30000:\n",
    "        break\n",
    "            \n",
    "print(\"Epoch cost:\" , epoch)\n",
    "print(\"after training: \", loss(x_jax,y_jax,weights1,weights2,bias1,bias2))\n",
    "    \n"
   ]
  },
  {
   "cell_type": "markdown",
   "metadata": {},
   "source": [
    "***\n",
    "\n",
    "<div class=\"alert alert-success\" markdown=\"1\" style=\"color:white; background-color: #013220; border-color: #03C03C\">\n",
    "\n",
    "> ### Question 1.3 - Understanding properties of our implementation\n",
    "\n",
    "> 4. Perform multiple re-runs of the learning procedure (re-launching with different initializations)\n",
    ">     1. What observations can you make on the learning process?\n",
    ">     2. What happens if you initialize all weights to zeros?\n",
    ">     3. Change your initialization and regularization scheme\n",
    "\n",
    "</div>\n",
    "\n",
    "***"
   ]
  },
  {
   "cell_type": "markdown",
   "metadata": {},
   "source": [
    "A. \n",
    "The learning rate really affects the efficiency.  \n",
    "When the lerarning rate is set to 0.01, it takes 2702 epochs to converge  \n",
    "When the lerarning rate is set to 0.05, it takes 3342 epochs to converge  \n",
    "When the lerarning rate is set to 0.001, it takes 28892 epochs to converge\n",
    "\n",
    "Also the batch size will affect the efficiency.\n",
    "when the batch size is set to 1,   it takes 32 epochs to converge\n",
    "when the batch size is set to 100, it takes 2702 epochs to converge\n",
    "when the batch size is set to 200, it takes 5137 epochs to converge\n",
    "when the batch size is set to 400, it takes 6972 epochs to converge\n",
    "when the batch contains the whole dataset, it takes 13936 epochs to converge\n",
    "\n",
    "B. \n",
    "when all weights are set to 0, it doesn't converge at all."
   ]
  },
  {
   "cell_type": "markdown",
   "metadata": {},
   "source": [
    "***\n",
    "\n",
    "<div class=\"alert alert-success\" markdown=\"1\" style=\"color:white; background-color: #192841; border-color: #779ecb\">\n",
    "\n",
    "> ### Going further\n",
    "\n",
    "> The following set of questions are optionnal addendum to your previous code that allow to understand more in-depth properties about _regularization_ both for neural networks and optimization in general.\n",
    "\n",
    "> 1. (Optional) Implement the *weight decay* constraint in your network.\n",
    "> 2. (Optional) Add the *momentum* to the learning procedure.\n",
    "\n",
    "> *Weight decay* constraint\n",
    "> As nothing constrains the weights in the network, we can note that usually all weights vector given a multiplicative factor might be equivalent, which can stall the learning (and lead to exploding weights). The *weight decay* allows to regularize the learning by penalizing weights with a too wide amplitude. The idea is to add this constraint as a term to the final loss (which leads to an indirect \"pressure\" on the learning process. Therefore, the final loss will be defined as\n",
    "> $$\n",
    "\\begin{equation}\n",
    "\\mathcal{L}_{final}=\\mathcal{L_D} + \\lambda \\sum_{l} \\sum_{i} \\sum_{j} \\left( W_{ij}^{l} \\right)^{2}\n",
    "\\end{equation}\n",
    "$$\n",
    "> where the parameter $\\lambda$ controls the relative importance of the two terms.\n",
    "\n",
    "> *Momentum* in learning\n",
    "> Usually, in complex problems, the gradient can be very noisy and, therefore, the learning might oscillate widely. In order to reduce this problem, we can *smooth* the different gradient updates by retaining the values of the gradient at each iteration and then performing an update based on the latest gradient $\\delta_{i}^{t}$ and the gradient at the previous iteration $\\delta_{i}^{t-1}$. Therefore, a gradient update is applied as\n",
    "> $$\n",
    "\\begin{equation}\n",
    "\\delta_{final}^{t} = \\delta_{i}^{t} + m.\\delta_{i}^{t-1}\n",
    "\\end{equation}\n",
    "$$\n",
    "> with $m$ the momentum parameter, which control the amount of gradient smoothing.\n",
    "\n",
    "</div>\n",
    "\n",
    "***"
   ]
  },
  {
   "cell_type": "markdown",
   "metadata": {},
   "source": [
    "## (Optional) 3-layer audio classification\n",
    "\n",
    "Once again, note that the following paragraph and subsequent questions are _optional_ but should be a quite simple extension of our previous work on 2-layer networks. If you struggle with the data import mechanisms, you can look down at the PyTorch section (with a **mandatory exercise**) that will provide base code for this aspect. \n",
    "\n",
    "Finally, we will attack a complete audio classification problem and try to perform neural network learning on a set of audio files. The data structure will be the same as the one used for parts 1 and 2. As discussed during the courses, even though a 2-layer neural network can provide non-linear boundaries, it can not perform \"holes\" inside those regions. In order to obtain an improved classification, we will now rely on a 3-layer neural network. The modification to the code of section 3.2 should be minimal, as the back-propagation will be similar for the new layer as one of the two others. We do not develop the math here as it is simply a re-application of the previous rules with an additional layer (which derivatives you should have generalized in the previous exercise).  \n",
    "\n",
    "However, up until now, we only performed *binary classification* problems, but this time we need to obtain a decision rule for multiple classes. Therefore, we cannot rely on simply computing the distance between desired patterns and the obtained binary value. The idea here is to rely on the *softmax regression*, by considering classes as a vector of probabilities. The desired answers will therefore be considered as a set of *probabilities*, where the desired class is $1$ and the others are $0$ (called *one-hot* representation). Then, the cost function will rely on the softmax formulation\n",
    "\n",
    "$$\n",
    "\\begin{equation}\n",
    "\\mathcal{L_D}(\\theta) = - \\frac{1}{m} \\left[ \\sum_{i=1}^{m} \\sum_{j=1}^{k} 1\\left\\{y^{(i)} = j\\right\\} \\log \\frac{e^{\\theta_{j}^{T} x^{(i)}}}{\\sum_{l=1}^{k} e^{ \\theta_{l}^{T} x^{(i)} }}  \\right]\n",
    "\\end{equation}\n",
    "$$\n",
    "\n",
    "Therefore, we compute the output of the softmax by taking \n",
    "\n",
    "$$\n",
    "\\begin{equation}\n",
    "p(y^{(i)} = j | x^{(i)}; \\theta) = \\frac{e^{\\theta_{j}^{T} x^{(i)}}}{\\sum_{l=1}^{k} e^{ \\theta_{l}^{T} x^{(i)}} }\n",
    "\\end{equation}\n",
    "$$\n",
    "\n",
    "By taking derivatives, we can show that the gradient of the softmax layer is\n",
    "\n",
    "$$\n",
    "\\begin{equation}\n",
    "\\nabla_{\\theta_{j}} \\mathcal{L_D}(\\theta) = - \\frac{1}{m} \\sum_{i=1}^{m}{ \\left[ x^{(i)} \\left( 1\\{ y^{(i)} = j\\}  - p(y^{(i)} = j \\mid x^{(i)}, \\theta) \\right) \\right]}\n",
    "\\end{equation}\n",
    "$$"
   ]
  },
  {
   "cell_type": "markdown",
   "metadata": {},
   "source": [
    "### Sweet activation functions\n",
    "\n",
    "As discussed in the course, the interest of stacking layers is that there is an _activation function_, which allows non-linear interactions between the dimensions (and avoids to only compute a single huge affine transform). Although the `sigmoid` function has been historically the most used, there has been some large developments since. Notably the `ReLU` (Rectified Linear Unit) is one of the major difference in modern networks (we will see more about that in a later course)"
   ]
  },
  {
   "cell_type": "code",
   "execution_count": 46,
   "metadata": {
    "ExecuteTime": {
     "end_time": "2023-05-12T03:07:00.876153117Z",
     "start_time": "2023-05-12T03:07:00.873227440Z"
    }
   },
   "outputs": [],
   "source": [
    "# Function for computing the Sigmoid activation\n",
    "def sigmoid(x):\n",
    "    return 1 / (1 + np.exp(-x))\n",
    "# Derivative\n",
    "def dsigmoid(a):\n",
    "    return a * (1.0 - a)\n",
    "# Function for computing the ReLU activation\n",
    "def relu(x):\n",
    "    return np.maximum(0, x)\n",
    "# Derivative\n",
    "def drelu(x):\n",
    "    if (x < 0):\n",
    "        return 0\n",
    "    return 1\n",
    "# Function for computing the Tanh activation\n",
    "def tanh(x):\n",
    "    return np.tanh(x);\n",
    "# Derivative\n",
    "def dtanh(x): \n",
    "    return np.cosh(x) ^ -2"
   ]
  },
  {
   "cell_type": "markdown",
   "metadata": {},
   "source": [
    "Here, we plot some simple examples of what these activation functions look like. You can try to rely on these functions in your previous training code and witness the differences in training.\n"
   ]
  },
  {
   "cell_type": "code",
   "execution_count": 47,
   "metadata": {
    "ExecuteTime": {
     "end_time": "2023-05-12T03:07:01.001795153Z",
     "start_time": "2023-05-12T03:07:00.876723126Z"
    }
   },
   "outputs": [
    {
     "data": {},
     "metadata": {},
     "output_type": "display_data"
    },
    {
     "data": {
      "text/html": "<div id='8235'>\n  <div class=\"bk-root\" id=\"960fa3d5-5b6a-4b8c-9955-2b3510aec4fe\" data-root-id=\"8235\"></div>\n</div>\n<script type=\"application/javascript\">(function(root) {\n  function embed_document(root) {\n    var docs_json = {\"9fc4acc4-cfde-4c00-b8ca-7361bb792906\":{\"defs\":[{\"extends\":null,\"module\":null,\"name\":\"ReactiveHTML1\",\"overrides\":[],\"properties\":[]},{\"extends\":null,\"module\":null,\"name\":\"FlexBox1\",\"overrides\":[],\"properties\":[{\"default\":\"flex-start\",\"kind\":null,\"name\":\"align_content\"},{\"default\":\"flex-start\",\"kind\":null,\"name\":\"align_items\"},{\"default\":\"row\",\"kind\":null,\"name\":\"flex_direction\"},{\"default\":\"wrap\",\"kind\":null,\"name\":\"flex_wrap\"},{\"default\":\"flex-start\",\"kind\":null,\"name\":\"justify_content\"}]},{\"extends\":null,\"module\":null,\"name\":\"GridStack1\",\"overrides\":[],\"properties\":[{\"default\":\"warn\",\"kind\":null,\"name\":\"mode\"},{\"default\":null,\"kind\":null,\"name\":\"ncols\"},{\"default\":null,\"kind\":null,\"name\":\"nrows\"},{\"default\":true,\"kind\":null,\"name\":\"allow_resize\"},{\"default\":true,\"kind\":null,\"name\":\"allow_drag\"},{\"default\":[],\"kind\":null,\"name\":\"state\"}]},{\"extends\":null,\"module\":null,\"name\":\"click1\",\"overrides\":[],\"properties\":[{\"default\":\"\",\"kind\":null,\"name\":\"terminal_output\"},{\"default\":\"\",\"kind\":null,\"name\":\"debug_name\"},{\"default\":0,\"kind\":null,\"name\":\"clears\"}]},{\"extends\":null,\"module\":null,\"name\":\"NotificationAreaBase1\",\"overrides\":[],\"properties\":[{\"default\":\"bottom-right\",\"kind\":null,\"name\":\"position\"},{\"default\":0,\"kind\":null,\"name\":\"_clear\"}]},{\"extends\":null,\"module\":null,\"name\":\"NotificationArea1\",\"overrides\":[],\"properties\":[{\"default\":[],\"kind\":null,\"name\":\"notifications\"},{\"default\":\"bottom-right\",\"kind\":null,\"name\":\"position\"},{\"default\":0,\"kind\":null,\"name\":\"_clear\"},{\"default\":[{\"background\":\"#ffc107\",\"icon\":{\"className\":\"fas fa-exclamation-triangle\",\"color\":\"white\",\"tagName\":\"i\"},\"type\":\"warning\"},{\"background\":\"#007bff\",\"icon\":{\"className\":\"fas fa-info-circle\",\"color\":\"white\",\"tagName\":\"i\"},\"type\":\"info\"}],\"kind\":null,\"name\":\"types\"}]},{\"extends\":null,\"module\":null,\"name\":\"Notification\",\"overrides\":[],\"properties\":[{\"default\":null,\"kind\":null,\"name\":\"background\"},{\"default\":3000,\"kind\":null,\"name\":\"duration\"},{\"default\":null,\"kind\":null,\"name\":\"icon\"},{\"default\":\"\",\"kind\":null,\"name\":\"message\"},{\"default\":null,\"kind\":null,\"name\":\"notification_type\"},{\"default\":false,\"kind\":null,\"name\":\"_destroyed\"}]},{\"extends\":null,\"module\":null,\"name\":\"TemplateActions1\",\"overrides\":[],\"properties\":[{\"default\":0,\"kind\":null,\"name\":\"open_modal\"},{\"default\":0,\"kind\":null,\"name\":\"close_modal\"}]},{\"extends\":null,\"module\":null,\"name\":\"MaterialTemplateActions1\",\"overrides\":[],\"properties\":[{\"default\":0,\"kind\":null,\"name\":\"open_modal\"},{\"default\":0,\"kind\":null,\"name\":\"close_modal\"}]}],\"roots\":{\"references\":[{\"attributes\":{\"data\":{\"x\":{\"__ndarray__\":\"AAAAAAAAFMBDYt7OkJgTwIbEvJ0hMRPAyiabbLLJEsANiXk7Q2ISwFDrVwrU+hHAk0022WSTEcDXrxSo9SsRwBoS83aGxBDAXXTRRRddEMBArV8pUOsPwMdxHMdxHA/ATjbZZJNNDsDU+pUCtX4NwFq/UqDWrwzA4YMPPvjgC8BoSMzbGRILwO4MiXk7QwrAdNFFF110CcD7lQK1fqUIwIFav1Kg1gfACB988MEHB8CO4ziO4zgGwBWo9SsFagXAm2yyySabBMAiMW9nSMwDwKj1KwVq/QLAL7rooosuAsC1fqVArV8BwDxDYt7OkADAhA8++OCD/7+SmLczJOb9v54hMW9nSPy/qqqqqqqq+r+4MyTm7Qz5v8S8nSExb/e/0kUXXXTR9b/ezpCYtzP0v+xXCtT6lfK/+OCDDz748L8I1PqVArXuvyjm7QyJeeu/QPjggw8+6L9YCtT6lQLlv3Acx3Ecx+G/IF100UUX3b9QgVq/UqDWv4ClQK1fKdC/YJNNNtlkw78Ab2dIzNupvwBvZ0jM26k/YJNNNtlkwz+ApUCtXynQP1CBWr9SoNY/EF100UUX3T9wHMdxHMfhP1gK1PqVAuU/QPjggw8+6D8g5u0MiXnrPwjU+pUCte4/+OCDDz748D/sVwrU+pXyP9zOkJi3M/Q/0EUXXXTR9T/EvJ0hMW/3P7gzJObtDPk/rKqqqqqq+j+cITFvZ0j8P5CYtzMk5v0/hA8++OCD/z88Q2LezpAAQLR+pUCtXwFALrrooosuAkCo9SsFav0CQCIxb2dIzANAmmyyySabBEAUqPUrBWoFQI7jOI7jOAZACB988MEHB0CAWr9SoNYHQPyVArV+pQhAdNFFF110CUDsDIl5O0MKQGhIzNsZEgtA4IMPPvjgC0Bcv1Kg1q8MQNT6lQK1fg1ATDbZZJNNDkDIcRzHcRwPQECtXylQ6w9AXHTRRRddEEAaEvN2hsQQQNavFKj1KxFAlE022WSTEUBQ61cK1PoRQAyJeTtDYhJAyiabbLLJEkCGxLydITETQERi3s6QmBNAAAAAAAAAFEA=\",\"dtype\":\"float64\",\"order\":\"little\",\"shape\":[100]},\"y\":{\"__ndarray__\":\"AAAAAAAAAAAAAAAAAAAAAAAAAAAAAAAAAAAAAAAAAAAAAAAAAAAAAAAAAAAAAAAAAAAAAAAAAAAAAAAAAAAAAAAAAAAAAAAAAAAAAAAAAAAAAAAAAAAAAAAAAAAAAAAAAAAAAAAAAAAAAAAAAAAAAAAAAAAAAAAAAAAAAAAAAAAAAAAAAAAAAAAAAAAAAAAAAAAAAAAAAAAAAAAAAAAAAAAAAAAAAAAAAAAAAAAAAAAAAAAAAAAAAAAAAAAAAAAAAAAAAAAAAAAAAAAAAAAAAAAAAAAAAAAAAAAAAAAAAAAAAAAAAAAAAAAAAAAAAAAAAAAAAAAAAAAAAAAAAAAAAAAAAAAAAAAAAAAAAAAAAAAAAAAAAAAAAAAAAAAAAAAAAAAAAAAAAAAAAAAAAAAAAAAAAAAAAAAAAAAAAAAAAAAAAAAAAAAAAAAAAAAAAAAAAAAAAAAAAAAAAAAAAAAAAAAAAAAAAAAAAAAAAAAAAAAAAAAAAAAAAAAAAAAAAAAAAAAAAAAAAAAAAAAAAAAAAABvZ0jM26k/YJNNNtlkwz+ApUCtXynQP1CBWr9SoNY/EF100UUX3T9wHMdxHMfhP1gK1PqVAuU/QPjggw8+6D8g5u0MiXnrPwjU+pUCte4/+OCDDz748D/sVwrU+pXyP9zOkJi3M/Q/0EUXXXTR9T/EvJ0hMW/3P7gzJObtDPk/rKqqqqqq+j+cITFvZ0j8P5CYtzMk5v0/hA8++OCD/z88Q2LezpAAQLR+pUCtXwFALrrooosuAkCo9SsFav0CQCIxb2dIzANAmmyyySabBEAUqPUrBWoFQI7jOI7jOAZACB988MEHB0CAWr9SoNYHQPyVArV+pQhAdNFFF110CUDsDIl5O0MKQGhIzNsZEgtA4IMPPvjgC0Bcv1Kg1q8MQNT6lQK1fg1ATDbZZJNNDkDIcRzHcRwPQECtXylQ6w9AXHTRRRddEEAaEvN2hsQQQNavFKj1KxFAlE022WSTEUBQ61cK1PoRQAyJeTtDYhJAyiabbLLJEkCGxLydITETQERi3s6QmBNAAAAAAAAAFEA=\",\"dtype\":\"float64\",\"order\":\"little\",\"shape\":[100]}},\"selected\":{\"id\":\"8265\"},\"selection_policy\":{\"id\":\"8264\"}},\"id\":\"8226\",\"type\":\"ColumnDataSource\"},{\"attributes\":{\"line_alpha\":0.2,\"line_color\":\"yellow\",\"line_width\":4,\"x\":{\"field\":\"x\"},\"y\":{\"field\":\"y\"}},\"id\":\"8229\",\"type\":\"Line\"},{\"attributes\":{},\"id\":\"8122\",\"type\":\"LinearScale\"},{\"attributes\":{\"axis\":{\"id\":\"8126\"},\"coordinates\":null,\"grid_line_alpha\":0.15,\"grid_line_color\":\"#E0E0E0\",\"group\":null,\"ticker\":null},\"id\":\"8129\",\"type\":\"Grid\"},{\"attributes\":{\"axis_label_standoff\":10,\"axis_label_text_color\":\"#FFFFFF\",\"axis_label_text_font\":\"Josefin Sans\",\"axis_label_text_font_size\":\"1.9em\",\"axis_label_text_font_style\":\"bold\",\"axis_line_alpha\":0.4,\"axis_line_color\":\"#E0E0E0\",\"coordinates\":null,\"formatter\":{\"id\":\"8247\"},\"group\":null,\"major_label_policy\":{\"id\":\"8248\"},\"major_label_text_color\":\"#E0E0E0\",\"major_label_text_font\":\"Josefin Sans\",\"major_label_text_font_size\":\"1.15em\",\"major_tick_line_alpha\":0.4,\"major_tick_line_color\":\"#E0E0E0\",\"minor_tick_line_alpha\":0.4,\"minor_tick_line_color\":\"#E0E0E0\",\"ticker\":{\"id\":\"8170\"}},\"id\":\"8169\",\"type\":\"LinearAxis\"},{\"attributes\":{\"axis_label_standoff\":10,\"axis_label_text_color\":\"#FFFFFF\",\"axis_label_text_font\":\"Josefin Sans\",\"axis_label_text_font_size\":\"1.9em\",\"axis_label_text_font_style\":\"bold\",\"axis_line_alpha\":0.4,\"axis_line_color\":\"#E0E0E0\",\"coordinates\":null,\"formatter\":{\"id\":\"8244\"},\"group\":null,\"major_label_policy\":{\"id\":\"8245\"},\"major_label_text_color\":\"#E0E0E0\",\"major_label_text_font\":\"Josefin Sans\",\"major_label_text_font_size\":\"1.15em\",\"major_tick_line_alpha\":0.4,\"major_tick_line_color\":\"#E0E0E0\",\"minor_tick_line_alpha\":0.4,\"minor_tick_line_color\":\"#E0E0E0\",\"ticker\":{\"id\":\"8127\"}},\"id\":\"8126\",\"type\":\"LinearAxis\"},{\"attributes\":{\"coordinates\":null,\"group\":null,\"text\":\"Tanh\",\"text_color\":\"#E0E0E0\",\"text_font\":\"Josefin Sans\",\"text_font_size\":\"2.1em\"},\"id\":\"8155\",\"type\":\"Title\"},{\"attributes\":{},\"id\":\"8217\",\"type\":\"HelpTool\"},{\"attributes\":{\"line_alpha\":0.1,\"line_color\":\"orange\",\"line_width\":4,\"x\":{\"field\":\"x\"},\"y\":{\"field\":\"y\"}},\"id\":\"8189\",\"type\":\"Line\"},{\"attributes\":{\"margin\":[5,5,5,5],\"name\":\"HSpacer00229\",\"sizing_mode\":\"stretch_width\"},\"id\":\"8236\",\"type\":\"Spacer\"},{\"attributes\":{},\"id\":\"8161\",\"type\":\"LinearScale\"},{\"attributes\":{},\"id\":\"8124\",\"type\":\"LinearScale\"},{\"attributes\":{\"tools\":[{\"id\":\"8173\"},{\"id\":\"8174\"},{\"id\":\"8175\"},{\"id\":\"8176\"},{\"id\":\"8177\"},{\"id\":\"8178\"}]},\"id\":\"8180\",\"type\":\"Toolbar\"},{\"attributes\":{},\"id\":\"8177\",\"type\":\"ResetTool\"},{\"attributes\":{\"source\":{\"id\":\"8226\"}},\"id\":\"8231\",\"type\":\"CDSView\"},{\"attributes\":{},\"id\":\"8198\",\"type\":\"DataRange1d\"},{\"attributes\":{},\"id\":\"8138\",\"type\":\"ResetTool\"},{\"attributes\":{\"line_color\":\"red\",\"line_width\":4,\"x\":{\"field\":\"x\"},\"y\":{\"field\":\"y\"}},\"id\":\"8149\",\"type\":\"Line\"},{\"attributes\":{\"background_fill_alpha\":0.9,\"background_fill_color\":\"#0f0f0f\",\"below\":[{\"id\":\"8126\"}],\"border_fill_alpha\":0.8,\"border_fill_color\":\"#111111\",\"center\":[{\"id\":\"8129\"},{\"id\":\"8133\"}],\"height\":250,\"left\":[{\"id\":\"8130\"}],\"outline_line_alpha\":0.25,\"outline_line_color\":\"#E0E0E0\",\"outline_line_width\":3,\"renderers\":[{\"id\":\"8152\"}],\"title\":{\"id\":\"8116\"},\"toolbar\":{\"id\":\"8141\"},\"width\":400,\"x_range\":{\"id\":\"8118\"},\"x_scale\":{\"id\":\"8122\"},\"y_range\":{\"id\":\"8120\"},\"y_scale\":{\"id\":\"8124\"}},\"id\":\"8115\",\"subtype\":\"Figure\",\"type\":\"Plot\"},{\"attributes\":{},\"id\":\"8137\",\"type\":\"SaveTool\"},{\"attributes\":{},\"id\":\"8135\",\"type\":\"WheelZoomTool\"},{\"attributes\":{\"data\":{\"x\":{\"__ndarray__\":\"AAAAAAAAFMBDYt7OkJgTwIbEvJ0hMRPAyiabbLLJEsANiXk7Q2ISwFDrVwrU+hHAk0022WSTEcDXrxSo9SsRwBoS83aGxBDAXXTRRRddEMBArV8pUOsPwMdxHMdxHA/ATjbZZJNNDsDU+pUCtX4NwFq/UqDWrwzA4YMPPvjgC8BoSMzbGRILwO4MiXk7QwrAdNFFF110CcD7lQK1fqUIwIFav1Kg1gfACB988MEHB8CO4ziO4zgGwBWo9SsFagXAm2yyySabBMAiMW9nSMwDwKj1KwVq/QLAL7rooosuAsC1fqVArV8BwDxDYt7OkADAhA8++OCD/7+SmLczJOb9v54hMW9nSPy/qqqqqqqq+r+4MyTm7Qz5v8S8nSExb/e/0kUXXXTR9b/ezpCYtzP0v+xXCtT6lfK/+OCDDz748L8I1PqVArXuvyjm7QyJeeu/QPjggw8+6L9YCtT6lQLlv3Acx3Ecx+G/IF100UUX3b9QgVq/UqDWv4ClQK1fKdC/YJNNNtlkw78Ab2dIzNupvwBvZ0jM26k/YJNNNtlkwz+ApUCtXynQP1CBWr9SoNY/EF100UUX3T9wHMdxHMfhP1gK1PqVAuU/QPjggw8+6D8g5u0MiXnrPwjU+pUCte4/+OCDDz748D/sVwrU+pXyP9zOkJi3M/Q/0EUXXXTR9T/EvJ0hMW/3P7gzJObtDPk/rKqqqqqq+j+cITFvZ0j8P5CYtzMk5v0/hA8++OCD/z88Q2LezpAAQLR+pUCtXwFALrrooosuAkCo9SsFav0CQCIxb2dIzANAmmyyySabBEAUqPUrBWoFQI7jOI7jOAZACB988MEHB0CAWr9SoNYHQPyVArV+pQhAdNFFF110CUDsDIl5O0MKQGhIzNsZEgtA4IMPPvjgC0Bcv1Kg1q8MQNT6lQK1fg1ATDbZZJNNDkDIcRzHcRwPQECtXylQ6w9AXHTRRRddEEAaEvN2hsQQQNavFKj1KxFAlE022WSTEUBQ61cK1PoRQAyJeTtDYhJAyiabbLLJEkCGxLydITETQERi3s6QmBNAAAAAAAAAFEA=\",\"dtype\":\"float64\",\"order\":\"little\",\"shape\":[100]},\"y\":{\"__ndarray__\":\"Ed9olkH/779xHDX2Fv/vv2PTXMvi/u+/tykv86L+779oyqrQVP7vv5VqJTH1/e+/AdXYKoD9778+DPrz8Pzvv+R3srBB/O+/seP1NWv7778C7b6+ZPrvvzVIspAj+e+/GVCDjJr377/6GqylufXvv5SfGjxt8++/g1tUUZ3w7782/jqRLO3vvwpKByX36O+/kLQ0RdHj778GKfN8hd3vv2dPQ4/S1e+/F2kq62jM77+jbX6Z58Dvv1i8zYvYsu+/1CEZMayh779DqukytIzvv2zAbjwdc++/qVLVrudT779zlYUr3y3vv8N/uOiQ/+6/fDIb2kDH7r+tmFja3YLuv0YK+Tj1L+6/zv7GYKbL7b/XD/S8l1LtvzWhkZzuwOy/ljVLlkwS7L8lhcTR1UHrvy50/oZESuq/sMhCwQ4m6b88c/imo8/nv3hPlK3EQea/JYsBmPx35L/fJkVXMW/iv9AYbbpGJuC/sE3YDH49279KKI4ofLrVvzdYpvc6p8+/IIThpDM/w7+rNaLaLNapv6s1otos1qk/IIThpDM/wz83WKb3OqfPP0oojih8utU/pE3YDH492z/QGG26RibgP98mRVcxb+I/JYsBmPx35D9zT5StxEHmPzxz+Kajz+c/sMhCwQ4m6T8udP6GRErqPySFxNHVQes/lTVLlkwS7D81oZGc7sDsP9cP9LyXUu0/zv7GYKbL7T9GCvk49S/uP62YWNrdgu4/fDIb2kDH7j/Df7jokP/uP3KVhSvfLe8/qVLVrudT7z9swG48HXPvP0Oq6TK0jO8/1CEZMayh7z9YvM2L2LLvP6NtfpnnwO8/F2kq62jM7z9nT0OP0tXvPwYp83yF3e8/kLQ0RdHj7z8KSgcl9+jvPzb+OpEs7e8/g1tUUZ3w7z+Unxo8bfPvP/oarKW59e8/GVCDjJr37z81SLKQI/nvPwLtvr5k+u8/seP1NWv77z/kd7KwQfzvPz4M+vPw/O8/AdXYKoD97z+VaiUx9f3vP2jKqtBU/u8/tykv86L+7z9j01zL4v7vP3EcNfYW/+8/Ed9olkH/7z8=\",\"dtype\":\"float64\",\"order\":\"little\",\"shape\":[100]}},\"selected\":{\"id\":\"8262\"},\"selection_policy\":{\"id\":\"8261\"}},\"id\":\"8187\",\"type\":\"ColumnDataSource\"},{\"attributes\":{\"axis_label_standoff\":10,\"axis_label_text_color\":\"#FFFFFF\",\"axis_label_text_font\":\"Josefin Sans\",\"axis_label_text_font_size\":\"1.9em\",\"axis_label_text_font_style\":\"bold\",\"axis_line_alpha\":0.4,\"axis_line_color\":\"#E0E0E0\",\"coordinates\":null,\"formatter\":{\"id\":\"8253\"},\"group\":null,\"major_label_policy\":{\"id\":\"8254\"},\"major_label_text_color\":\"#E0E0E0\",\"major_label_text_font\":\"Josefin Sans\",\"major_label_text_font_size\":\"1.15em\",\"major_tick_line_alpha\":0.4,\"major_tick_line_color\":\"#E0E0E0\",\"minor_tick_line_alpha\":0.4,\"minor_tick_line_color\":\"#E0E0E0\",\"ticker\":{\"id\":\"8209\"}},\"id\":\"8208\",\"type\":\"LinearAxis\"},{\"attributes\":{},\"id\":\"8163\",\"type\":\"LinearScale\"},{\"attributes\":{},\"id\":\"8253\",\"type\":\"BasicTickFormatter\"},{\"attributes\":{\"overlay\":{\"id\":\"8140\"}},\"id\":\"8136\",\"type\":\"BoxZoomTool\"},{\"attributes\":{},\"id\":\"8174\",\"type\":\"WheelZoomTool\"},{\"attributes\":{\"style\":{\"font-size\":\"250%\"},\"text\":\"Different activation functions\"},\"id\":\"8232\",\"type\":\"Div\"},{\"attributes\":{},\"id\":\"8264\",\"type\":\"UnionRenderers\"},{\"attributes\":{\"axis_label_standoff\":10,\"axis_label_text_color\":\"#FFFFFF\",\"axis_label_text_font\":\"Josefin Sans\",\"axis_label_text_font_size\":\"1.9em\",\"axis_label_text_font_style\":\"bold\",\"axis_line_alpha\":0.4,\"axis_line_color\":\"#E0E0E0\",\"coordinates\":null,\"formatter\":{\"id\":\"8256\"},\"group\":null,\"major_label_policy\":{\"id\":\"8257\"},\"major_label_text_color\":\"#E0E0E0\",\"major_label_text_font\":\"Josefin Sans\",\"major_label_text_font_size\":\"1.15em\",\"major_tick_line_alpha\":0.4,\"major_tick_line_color\":\"#E0E0E0\",\"minor_tick_line_alpha\":0.4,\"minor_tick_line_color\":\"#E0E0E0\",\"ticker\":{\"id\":\"8205\"}},\"id\":\"8204\",\"type\":\"LinearAxis\"},{\"attributes\":{},\"id\":\"8254\",\"type\":\"AllLabels\"},{\"attributes\":{},\"id\":\"8241\",\"type\":\"BasicTickFormatter\"},{\"attributes\":{\"coordinates\":null,\"data_source\":{\"id\":\"8187\"},\"glyph\":{\"id\":\"8188\"},\"group\":null,\"hover_glyph\":null,\"muted_glyph\":{\"id\":\"8190\"},\"nonselection_glyph\":{\"id\":\"8189\"},\"view\":{\"id\":\"8192\"}},\"id\":\"8191\",\"type\":\"GlyphRenderer\"},{\"attributes\":{},\"id\":\"8265\",\"type\":\"Selection\"},{\"attributes\":{\"client_comm_id\":\"f91b5fcecb1b401ab1433b7fe7c19c22\",\"comm_id\":\"3280b386f7f945e09afb0f3ff6a113c4\",\"plot_id\":\"8235\"},\"id\":\"8388\",\"type\":\"panel.models.comm_manager.CommManager\"},{\"attributes\":{},\"id\":\"8159\",\"type\":\"DataRange1d\"},{\"attributes\":{},\"id\":\"8256\",\"type\":\"BasicTickFormatter\"},{\"attributes\":{},\"id\":\"8242\",\"type\":\"AllLabels\"},{\"attributes\":{},\"id\":\"8216\",\"type\":\"ResetTool\"},{\"attributes\":{\"line_alpha\":0.2,\"line_color\":\"orange\",\"line_width\":4,\"x\":{\"field\":\"x\"},\"y\":{\"field\":\"y\"}},\"id\":\"8190\",\"type\":\"Line\"},{\"attributes\":{},\"id\":\"8176\",\"type\":\"SaveTool\"},{\"attributes\":{\"background_fill_alpha\":0.9,\"background_fill_color\":\"#0f0f0f\",\"below\":[{\"id\":\"8165\"}],\"border_fill_alpha\":0.8,\"border_fill_color\":\"#111111\",\"center\":[{\"id\":\"8168\"},{\"id\":\"8172\"}],\"height\":250,\"left\":[{\"id\":\"8169\"}],\"outline_line_alpha\":0.25,\"outline_line_color\":\"#E0E0E0\",\"outline_line_width\":3,\"renderers\":[{\"id\":\"8191\"}],\"title\":{\"id\":\"8155\"},\"toolbar\":{\"id\":\"8180\"},\"width\":400,\"x_range\":{\"id\":\"8157\"},\"x_scale\":{\"id\":\"8161\"},\"y_range\":{\"id\":\"8159\"},\"y_scale\":{\"id\":\"8163\"}},\"id\":\"8154\",\"subtype\":\"Figure\",\"type\":\"Plot\"},{\"attributes\":{},\"id\":\"8257\",\"type\":\"AllLabels\"},{\"attributes\":{},\"id\":\"8244\",\"type\":\"BasicTickFormatter\"},{\"attributes\":{\"axis\":{\"id\":\"8208\"},\"coordinates\":null,\"dimension\":1,\"grid_line_alpha\":0.15,\"grid_line_color\":\"#E0E0E0\",\"group\":null,\"ticker\":null},\"id\":\"8211\",\"type\":\"Grid\"},{\"attributes\":{\"coordinates\":null,\"data_source\":{\"id\":\"8226\"},\"glyph\":{\"id\":\"8227\"},\"group\":null,\"hover_glyph\":null,\"muted_glyph\":{\"id\":\"8229\"},\"nonselection_glyph\":{\"id\":\"8228\"},\"view\":{\"id\":\"8231\"}},\"id\":\"8230\",\"type\":\"GlyphRenderer\"},{\"attributes\":{},\"id\":\"8170\",\"type\":\"BasicTicker\"},{\"attributes\":{},\"id\":\"8173\",\"type\":\"PanTool\"},{\"attributes\":{},\"id\":\"8127\",\"type\":\"BasicTicker\"},{\"attributes\":{},\"id\":\"8245\",\"type\":\"AllLabels\"},{\"attributes\":{\"coordinates\":null,\"group\":null,\"text\":\"Sigmoid\",\"text_color\":\"#E0E0E0\",\"text_font\":\"Josefin Sans\",\"text_font_size\":\"2.1em\"},\"id\":\"8116\",\"type\":\"Title\"},{\"attributes\":{\"axis\":{\"id\":\"8169\"},\"coordinates\":null,\"dimension\":1,\"grid_line_alpha\":0.15,\"grid_line_color\":\"#E0E0E0\",\"group\":null,\"ticker\":null},\"id\":\"8172\",\"type\":\"Grid\"},{\"attributes\":{\"axis_label_standoff\":10,\"axis_label_text_color\":\"#FFFFFF\",\"axis_label_text_font\":\"Josefin Sans\",\"axis_label_text_font_size\":\"1.9em\",\"axis_label_text_font_style\":\"bold\",\"axis_line_alpha\":0.4,\"axis_line_color\":\"#E0E0E0\",\"coordinates\":null,\"formatter\":{\"id\":\"8241\"},\"group\":null,\"major_label_policy\":{\"id\":\"8242\"},\"major_label_text_color\":\"#E0E0E0\",\"major_label_text_font\":\"Josefin Sans\",\"major_label_text_font_size\":\"1.15em\",\"major_tick_line_alpha\":0.4,\"major_tick_line_color\":\"#E0E0E0\",\"minor_tick_line_alpha\":0.4,\"minor_tick_line_color\":\"#E0E0E0\",\"ticker\":{\"id\":\"8131\"}},\"id\":\"8130\",\"type\":\"LinearAxis\"},{\"attributes\":{\"source\":{\"id\":\"8187\"}},\"id\":\"8192\",\"type\":\"CDSView\"},{\"attributes\":{},\"id\":\"8134\",\"type\":\"PanTool\"},{\"attributes\":{\"coordinates\":null,\"data_source\":{\"id\":\"8148\"},\"glyph\":{\"id\":\"8149\"},\"group\":null,\"hover_glyph\":null,\"muted_glyph\":{\"id\":\"8151\"},\"nonselection_glyph\":{\"id\":\"8150\"},\"view\":{\"id\":\"8153\"}},\"id\":\"8152\",\"type\":\"GlyphRenderer\"},{\"attributes\":{},\"id\":\"8139\",\"type\":\"HelpTool\"},{\"attributes\":{\"bottom_units\":\"screen\",\"coordinates\":null,\"fill_alpha\":0.5,\"fill_color\":\"lightgrey\",\"group\":null,\"left_units\":\"screen\",\"level\":\"overlay\",\"line_alpha\":1.0,\"line_color\":\"black\",\"line_dash\":[4,4],\"line_width\":2,\"right_units\":\"screen\",\"syncable\":false,\"top_units\":\"screen\"},\"id\":\"8218\",\"type\":\"BoxAnnotation\"},{\"attributes\":{\"children\":[{\"id\":\"8115\"},{\"id\":\"8154\"},{\"id\":\"8193\"}]},\"id\":\"8233\",\"type\":\"Row\"},{\"attributes\":{},\"id\":\"8258\",\"type\":\"UnionRenderers\"},{\"attributes\":{},\"id\":\"8178\",\"type\":\"HelpTool\"},{\"attributes\":{\"overlay\":{\"id\":\"8179\"}},\"id\":\"8175\",\"type\":\"BoxZoomTool\"},{\"attributes\":{\"axis\":{\"id\":\"8130\"},\"coordinates\":null,\"dimension\":1,\"grid_line_alpha\":0.15,\"grid_line_color\":\"#E0E0E0\",\"group\":null,\"ticker\":null},\"id\":\"8133\",\"type\":\"Grid\"},{\"attributes\":{},\"id\":\"8120\",\"type\":\"DataRange1d\"},{\"attributes\":{},\"id\":\"8259\",\"type\":\"Selection\"},{\"attributes\":{},\"id\":\"8202\",\"type\":\"LinearScale\"},{\"attributes\":{},\"id\":\"8196\",\"type\":\"DataRange1d\"},{\"attributes\":{\"axis\":{\"id\":\"8204\"},\"coordinates\":null,\"grid_line_alpha\":0.15,\"grid_line_color\":\"#E0E0E0\",\"group\":null,\"ticker\":null},\"id\":\"8207\",\"type\":\"Grid\"},{\"attributes\":{\"data\":{\"x\":{\"__ndarray__\":\"AAAAAAAAFMBDYt7OkJgTwIbEvJ0hMRPAyiabbLLJEsANiXk7Q2ISwFDrVwrU+hHAk0022WSTEcDXrxSo9SsRwBoS83aGxBDAXXTRRRddEMBArV8pUOsPwMdxHMdxHA/ATjbZZJNNDsDU+pUCtX4NwFq/UqDWrwzA4YMPPvjgC8BoSMzbGRILwO4MiXk7QwrAdNFFF110CcD7lQK1fqUIwIFav1Kg1gfACB988MEHB8CO4ziO4zgGwBWo9SsFagXAm2yyySabBMAiMW9nSMwDwKj1KwVq/QLAL7rooosuAsC1fqVArV8BwDxDYt7OkADAhA8++OCD/7+SmLczJOb9v54hMW9nSPy/qqqqqqqq+r+4MyTm7Qz5v8S8nSExb/e/0kUXXXTR9b/ezpCYtzP0v+xXCtT6lfK/+OCDDz748L8I1PqVArXuvyjm7QyJeeu/QPjggw8+6L9YCtT6lQLlv3Acx3Ecx+G/IF100UUX3b9QgVq/UqDWv4ClQK1fKdC/YJNNNtlkw78Ab2dIzNupvwBvZ0jM26k/YJNNNtlkwz+ApUCtXynQP1CBWr9SoNY/EF100UUX3T9wHMdxHMfhP1gK1PqVAuU/QPjggw8+6D8g5u0MiXnrPwjU+pUCte4/+OCDDz748D/sVwrU+pXyP9zOkJi3M/Q/0EUXXXTR9T/EvJ0hMW/3P7gzJObtDPk/rKqqqqqq+j+cITFvZ0j8P5CYtzMk5v0/hA8++OCD/z88Q2LezpAAQLR+pUCtXwFALrrooosuAkCo9SsFav0CQCIxb2dIzANAmmyyySabBEAUqPUrBWoFQI7jOI7jOAZACB988MEHB0CAWr9SoNYHQPyVArV+pQhAdNFFF110CUDsDIl5O0MKQGhIzNsZEgtA4IMPPvjgC0Bcv1Kg1q8MQNT6lQK1fg1ATDbZZJNNDkDIcRzHcRwPQECtXylQ6w9AXHTRRRddEEAaEvN2hsQQQNavFKj1KxFAlE022WSTEUBQ61cK1PoRQAyJeTtDYhJAyiabbLLJEkCGxLydITETQERi3s6QmBNAAAAAAAAAFEA=\",\"dtype\":\"float64\",\"order\":\"little\",\"shape\":[100]},\"y\":{\"__ndarray__\":\"jo9jffZpez8zICEkXk5+P3YuqyAfwIA/p+JVusaDgj8N8g/shXaEP/byi48qnYY/0BjB9/n8iD/WZNY4u5uLP6vI/AXCf44/EJSHDf3XkD/6lO+Q+ZmSP06i3332iZQ/VzdyJ3Kslj8nJDSWTwaZPwVPZcvcnJs/Nz7K0Nh1nj/SLj+0vMugP2FCABM4hKI/cEoQV/dnpD/TN0jn1HqmPztu44ftwKg/IjxyKqA+qz9GueiGjPitP6x4HxzIebA/Bir+B2Easj+U/wqnteCzPwKDQzN/z7U/d+J5foXptz/t5tFglzG6PykCu3GBqrw/UGnG7AJXvz+DDaxX4BzBP1E7QSabqsI/LnfnpNJVxD9YIjhZgR/GPxsQCKdxCMg/578cdjMRyj/8P9qtETrMP6bqzeUHg84/wifXXdx10D+UG9WmsrnRP5JJRzBzDNM/B5ki3VNt1D+dUU4YU9vVP7IneGw4Vdc/QWJr05bZ2D+hWanP0GbaPzYfqEoe+9s/yqt2F5SU3T+jHszeLDHfP6/wmZBpZ+A/G6pE9LU14T9l8KvacALiPy9TK5iXzOI/3U5KljST4z8n7MPJY1XkPzLX2HNWEuU/fbNuEVbJ5T81W9xnxnnmPzZylawmI+c/H2wU0RHF5z9XhYwGPl/oPwBwiZR78eg/BtB4IrN76T/6+z2W4/3pP2n3sakfeOo/NSLGVovq6j8ssW82WVXrP5/8FOrHuOs/1jJnoh8V7D+6n8jRr2rsPyHD5RPNuew/scMwUM8C7T+gj5cZEEbtPw2gHkvpg+0/vjoA37O87T/qEHz8xvDtP2t0kTd3IO4/PtxY/RVM7j8byYEn8XPuP4R8i7FSmO4/WPuOioC57j/b+89+vNfuPxMNvDRE8+4/Dq55OVEM7z+I1aQZGSPvP95eToPNN+8/Rm7EbpxK7z/tAhFMsFvvP1iDeDMwa+8/YMOTF0B57z/eDOj3AIbvP22mHBORke8/nfsgGAyc7z800MFVi6XvPzjAT+glru8/dqgW5fC17z9GU32D/7zvP8C9t0Njw+8/4jgFEyzJ7z8=\",\"dtype\":\"float64\",\"order\":\"little\",\"shape\":[100]}},\"selected\":{\"id\":\"8259\"},\"selection_policy\":{\"id\":\"8258\"}},\"id\":\"8148\",\"type\":\"ColumnDataSource\"},{\"attributes\":{\"coordinates\":null,\"group\":null,\"text\":\"ReLU\",\"text_color\":\"#E0E0E0\",\"text_font\":\"Josefin Sans\",\"text_font_size\":\"2.1em\"},\"id\":\"8194\",\"type\":\"Title\"},{\"attributes\":{\"children\":[{\"id\":\"8236\"},{\"id\":\"8234\"},{\"id\":\"8297\"}],\"margin\":[0,0,0,0],\"name\":\"Row00233\"},\"id\":\"8235\",\"type\":\"Row\"},{\"attributes\":{\"tools\":[{\"id\":\"8134\"},{\"id\":\"8135\"},{\"id\":\"8136\"},{\"id\":\"8137\"},{\"id\":\"8138\"},{\"id\":\"8139\"}]},\"id\":\"8141\",\"type\":\"Toolbar\"},{\"attributes\":{\"background_fill_alpha\":0.9,\"background_fill_color\":\"#0f0f0f\",\"below\":[{\"id\":\"8204\"}],\"border_fill_alpha\":0.8,\"border_fill_color\":\"#111111\",\"center\":[{\"id\":\"8207\"},{\"id\":\"8211\"}],\"height\":250,\"left\":[{\"id\":\"8208\"}],\"outline_line_alpha\":0.25,\"outline_line_color\":\"#E0E0E0\",\"outline_line_width\":3,\"renderers\":[{\"id\":\"8230\"}],\"title\":{\"id\":\"8194\"},\"toolbar\":{\"id\":\"8219\"},\"width\":400,\"x_range\":{\"id\":\"8196\"},\"x_scale\":{\"id\":\"8200\"},\"y_range\":{\"id\":\"8198\"},\"y_scale\":{\"id\":\"8202\"}},\"id\":\"8193\",\"subtype\":\"Figure\",\"type\":\"Plot\"},{\"attributes\":{\"line_color\":\"yellow\",\"line_width\":4,\"x\":{\"field\":\"x\"},\"y\":{\"field\":\"y\"}},\"id\":\"8227\",\"type\":\"Line\"},{\"attributes\":{\"line_color\":\"orange\",\"line_width\":4,\"x\":{\"field\":\"x\"},\"y\":{\"field\":\"y\"}},\"id\":\"8188\",\"type\":\"Line\"},{\"attributes\":{},\"id\":\"8166\",\"type\":\"BasicTicker\"},{\"attributes\":{},\"id\":\"8200\",\"type\":\"LinearScale\"},{\"attributes\":{\"margin\":[5,5,5,5],\"name\":\"HSpacer00230\",\"sizing_mode\":\"stretch_width\"},\"id\":\"8297\",\"type\":\"Spacer\"},{\"attributes\":{\"line_alpha\":0.2,\"line_color\":\"red\",\"line_width\":4,\"x\":{\"field\":\"x\"},\"y\":{\"field\":\"y\"}},\"id\":\"8151\",\"type\":\"Line\"},{\"attributes\":{},\"id\":\"8131\",\"type\":\"BasicTicker\"},{\"attributes\":{},\"id\":\"8212\",\"type\":\"PanTool\"},{\"attributes\":{\"line_alpha\":0.1,\"line_color\":\"red\",\"line_width\":4,\"x\":{\"field\":\"x\"},\"y\":{\"field\":\"y\"}},\"id\":\"8150\",\"type\":\"Line\"},{\"attributes\":{\"line_alpha\":0.1,\"line_color\":\"yellow\",\"line_width\":4,\"x\":{\"field\":\"x\"},\"y\":{\"field\":\"y\"}},\"id\":\"8228\",\"type\":\"Line\"},{\"attributes\":{\"axis\":{\"id\":\"8165\"},\"coordinates\":null,\"grid_line_alpha\":0.15,\"grid_line_color\":\"#E0E0E0\",\"group\":null,\"ticker\":null},\"id\":\"8168\",\"type\":\"Grid\"},{\"attributes\":{},\"id\":\"8213\",\"type\":\"WheelZoomTool\"},{\"attributes\":{\"tools\":[{\"id\":\"8212\"},{\"id\":\"8213\"},{\"id\":\"8214\"},{\"id\":\"8215\"},{\"id\":\"8216\"},{\"id\":\"8217\"}]},\"id\":\"8219\",\"type\":\"Toolbar\"},{\"attributes\":{\"source\":{\"id\":\"8148\"}},\"id\":\"8153\",\"type\":\"CDSView\"},{\"attributes\":{},\"id\":\"8247\",\"type\":\"BasicTickFormatter\"},{\"attributes\":{\"bottom_units\":\"screen\",\"coordinates\":null,\"fill_alpha\":0.5,\"fill_color\":\"lightgrey\",\"group\":null,\"left_units\":\"screen\",\"level\":\"overlay\",\"line_alpha\":1.0,\"line_color\":\"black\",\"line_dash\":[4,4],\"line_width\":2,\"right_units\":\"screen\",\"syncable\":false,\"top_units\":\"screen\"},\"id\":\"8179\",\"type\":\"BoxAnnotation\"},{\"attributes\":{},\"id\":\"8209\",\"type\":\"BasicTicker\"},{\"attributes\":{\"axis_label_standoff\":10,\"axis_label_text_color\":\"#FFFFFF\",\"axis_label_text_font\":\"Josefin Sans\",\"axis_label_text_font_size\":\"1.9em\",\"axis_label_text_font_style\":\"bold\",\"axis_line_alpha\":0.4,\"axis_line_color\":\"#E0E0E0\",\"coordinates\":null,\"formatter\":{\"id\":\"8250\"},\"group\":null,\"major_label_policy\":{\"id\":\"8251\"},\"major_label_text_color\":\"#E0E0E0\",\"major_label_text_font\":\"Josefin Sans\",\"major_label_text_font_size\":\"1.15em\",\"major_tick_line_alpha\":0.4,\"major_tick_line_color\":\"#E0E0E0\",\"minor_tick_line_alpha\":0.4,\"minor_tick_line_color\":\"#E0E0E0\",\"ticker\":{\"id\":\"8166\"}},\"id\":\"8165\",\"type\":\"LinearAxis\"},{\"attributes\":{},\"id\":\"8248\",\"type\":\"AllLabels\"},{\"attributes\":{},\"id\":\"8118\",\"type\":\"DataRange1d\"},{\"attributes\":{},\"id\":\"8157\",\"type\":\"DataRange1d\"},{\"attributes\":{\"bottom_units\":\"screen\",\"coordinates\":null,\"fill_alpha\":0.5,\"fill_color\":\"lightgrey\",\"group\":null,\"left_units\":\"screen\",\"level\":\"overlay\",\"line_alpha\":1.0,\"line_color\":\"black\",\"line_dash\":[4,4],\"line_width\":2,\"right_units\":\"screen\",\"syncable\":false,\"top_units\":\"screen\"},\"id\":\"8140\",\"type\":\"BoxAnnotation\"},{\"attributes\":{},\"id\":\"8250\",\"type\":\"BasicTickFormatter\"},{\"attributes\":{},\"id\":\"8261\",\"type\":\"UnionRenderers\"},{\"attributes\":{\"overlay\":{\"id\":\"8218\"}},\"id\":\"8214\",\"type\":\"BoxZoomTool\"},{\"attributes\":{\"children\":[{\"id\":\"8232\"},{\"id\":\"8233\"}]},\"id\":\"8234\",\"type\":\"Column\"},{\"attributes\":{},\"id\":\"8215\",\"type\":\"SaveTool\"},{\"attributes\":{},\"id\":\"8251\",\"type\":\"AllLabels\"},{\"attributes\":{},\"id\":\"8262\",\"type\":\"Selection\"},{\"attributes\":{},\"id\":\"8205\",\"type\":\"BasicTicker\"}],\"root_ids\":[\"8235\",\"8388\"]},\"title\":\"Bokeh Application\",\"version\":\"2.4.3\"}};\n    var render_items = [{\"docid\":\"9fc4acc4-cfde-4c00-b8ca-7361bb792906\",\"root_ids\":[\"8235\"],\"roots\":{\"8235\":\"960fa3d5-5b6a-4b8c-9955-2b3510aec4fe\"}}];\n    root.Bokeh.embed.embed_items_notebook(docs_json, render_items);\n    for (const render_item of render_items) {\n      for (const root_id of render_item.root_ids) {\n\tconst id_el = document.getElementById(root_id)\n\tif (id_el.children.length && (id_el.children[0].className === 'bk-root')) {\n\t  const root_el = id_el.children[0]\n\t  root_el.id = root_el.id + '-rendered'\n\t}\n      }\n    }\n  }\n  if (root.Bokeh !== undefined && root.Bokeh.Panel !== undefined) {\n    embed_document(root);\n  } else {\n    var attempts = 0;\n    var timer = setInterval(function(root) {\n      if (root.Bokeh !== undefined && root.Bokeh.Panel !== undefined) {\n        clearInterval(timer);\n        embed_document(root);\n      } else if (document.readyState == \"complete\") {\n        attempts++;\n        if (attempts > 200) {\n          clearInterval(timer);\n          console.log(\"Bokeh: ERROR: Unable to run BokehJS code because BokehJS library is missing\");\n        }\n      }\n    }, 25, root)\n  }\n})(window);</script>",
      "application/vnd.holoviews_exec.v0+json": "",
      "text/plain": "Row\n    [0] HSpacer()\n    [1] Bokeh(Column)\n    [2] HSpacer()"
     },
     "execution_count": 47,
     "metadata": {
      "application/vnd.holoviews_exec.v0+json": {
       "id": "8235"
      }
     },
     "output_type": "execute_result"
    }
   ],
   "source": [
    "from bokeh.models import Div\n",
    "from bokeh.layouts import column, row\n",
    "from cml.plot import cml_figure\n",
    "# Functions to\n",
    "funcs = [('Sigmoid',sigmoid,'red'), ('Tanh',tanh,'orange'), ('ReLU',relu,'yellow')]\n",
    "# Generating the x axis\n",
    "x = np.linspace(-5, 5, 100)\n",
    "plots = []\n",
    "for (name, func, color) in funcs:\n",
    "    cur_plot = cml_figure(plot_width=400, plot_height=250, title=name)\n",
    "    cur_plot.line(x, func(x), color=color, line_width=4)\n",
    "    plots.append(cur_plot)\n",
    "plot = center_plot(column(Div(text = \"Different activation functions\", style={'font-size': '250%'}), row(*plots)))\n",
    "plot"
   ]
  },
  {
   "cell_type": "markdown",
   "metadata": {},
   "source": [
    "## Coding the whole network from scratch\n",
    "\n",
    "You should now have all the tools necessary to apply neural networks from scratch to a more complex problem. In the following exercise, we simply removed any guideline code, and you need to code all the procedure for training a NN and **apply it to audio data**. You will use the spectral features discussed in the previous exercise as an input.\n",
    "\n",
    "***\n",
    "\n",
    "<div class=\"alert alert-success\" markdown=\"1\" style=\"color:white; background-color: #192841; border-color: #779ecb\">\n",
    "\n",
    "> ### Going further **(optional exercise) **\n",
    "\n",
    ">  1. Based on the previous neural network, upgrade the code to a 3-layer neural network\n",
    ">  2. Implement the *softmax regression* on top of your 3-layer network\n",
    ">  3. Use the provided code to perform classification on a pre-defined set of features\n",
    ">  4. As previously, change the set of features to assess their different accuracies\n",
    ">  5. Evaluate the neural network accuracy for all features combinations\n",
    ">  6. What happens if the learning rate is too large ? What is this phenomenon ?\n",
    ">  7. Perform a more advanced visualization of the learning process.\n",
    "  \n",
    "\n",
    "</div>\n",
    "\n",
    "***"
   ]
  },
  {
   "cell_type": "code",
   "execution_count": 48,
   "metadata": {
    "ExecuteTime": {
     "end_time": "2023-05-12T03:07:01.001974873Z",
     "start_time": "2023-05-12T03:07:00.999264027Z"
    }
   },
   "outputs": [],
   "source": [
    "\n",
    "######################\n",
    "# YOUR CODE GOES HERE\n",
    "######################\n"
   ]
  },
  {
   "cell_type": "markdown",
   "metadata": {},
   "source": [
    "# Using `Pytorch` to enjoy life\n",
    "\n",
    "Up to now, we have been writing every operations by ourselves (in order to better understand the mathematics behind NN). However, there exists of course some simplifying libraries that provide large simplifications to this question.\n",
    "\n",
    "One of the most powerful and complete library of this sort is `Pytorch`, which has been developed for several years (even prior to the recent boom of deep learning). `Pytorch` provides a large set of pre-coded layers, but also **computational graphs** and **autograd**, which are very powerful paradigms allowing to define complex operators and automatically taking derivatives.\n",
    "\n",
    "## An (extremely) fast and dirty introduction to `Pytorch`\n",
    "\n",
    "PyTorch is a popular open-source deep learning framework based on the Torch library. It is primarily developed by Facebook AI research team, and it provides a simple and efficient way to build deep learning models. In this extremely short crash course, we will cover the basics of PyTorch, including:\n",
    "\n",
    "* Tensors\n",
    "* Automatic differentiation\n",
    "* Neural networks\n",
    "* Training a neural network on a dataset\n",
    "\n",
    "For a complete tutorial on PyTorch, please check out the [official PyTorch documentation](https://pytorch.org/tutorials/). This tutorial covers a wide range of topics, including the basics of PyTorch, building and training neural networks, working with data and dataloaders, and deploying models to production."
   ]
  },
  {
   "cell_type": "markdown",
   "metadata": {},
   "source": [
    "### Tensors\n",
    "At its core, PyTorch is all about tensors. A tensor is a generalization of vectors and matrices to an arbitrary number of dimensions. A scalar is a 0-dimensional tensor, a vector is a 1-dimensional tensor, and a matrix is a 2-dimensional tensor.\n",
    "\n",
    "#### Creating Tensors\n",
    "We can create a PyTorch tensor from a Python list or a NumPy array using the `torch.tensor()` function, but also tensors of a specific size and/or with all zeros or all ones using the `torch.zeros()` and `torch.ones()` functions"
   ]
  },
  {
   "cell_type": "code",
   "execution_count": 49,
   "metadata": {
    "ExecuteTime": {
     "end_time": "2023-05-12T03:07:01.053311980Z",
     "start_time": "2023-05-12T03:07:01.002142181Z"
    }
   },
   "outputs": [
    {
     "name": "stdout",
     "output_type": "stream",
     "text": [
      "tensor([1, 2, 3, 4])\n",
      "tensor([[1, 2],\n",
      "        [3, 4]])\n",
      "tensor([[0., 0., 0.],\n",
      "        [0., 0., 0.]])\n",
      "tensor([[1., 1.],\n",
      "        [1., 1.],\n",
      "        [1., 1.]])\n"
     ]
    }
   ],
   "source": [
    "import torch\n",
    "import numpy as np\n",
    "# create a tensor from a Python list\n",
    "x = torch.tensor([1, 2, 3, 4])\n",
    "print(x)\n",
    "# create a tensor from a NumPy array\n",
    "y = torch.tensor(np.array([[1, 2], [3, 4]]))\n",
    "print(y)\n",
    "# create a 2x3 tensor of zeros\n",
    "z = torch.zeros((2, 3))\n",
    "print(z)\n",
    "# create a 3x2 tensor of ones\n",
    "w = torch.ones((3, 2))\n",
    "print(w)"
   ]
  },
  {
   "cell_type": "markdown",
   "metadata": {},
   "source": [
    "#### Tensor operations\n",
    "\n",
    "PyTorch tensors support a wide range of operations, including arithmetic operations like addition, subtraction, multiplication, and division, as well as more advanced operations like matrix multiplication, element-wise multiplication, and concatenation."
   ]
  },
  {
   "cell_type": "code",
   "execution_count": 50,
   "metadata": {
    "ExecuteTime": {
     "end_time": "2023-05-12T03:07:01.053593357Z",
     "start_time": "2023-05-12T03:07:01.045022686Z"
    }
   },
   "outputs": [
    {
     "name": "stdout",
     "output_type": "stream",
     "text": [
      "tensor([ 6,  8, 10, 12])\n",
      "tensor([ 5, 12, 21, 32])\n",
      "tensor([[19, 22],\n",
      "        [43, 50]])\n",
      "tensor([[1, 2, 5, 6],\n",
      "        [3, 4, 7, 8]])\n"
     ]
    }
   ],
   "source": [
    "# create two tensors\n",
    "x = torch.tensor([1, 2, 3, 4])\n",
    "y = torch.tensor([5, 6, 7, 8])\n",
    "# add the two tensors\n",
    "z = x + y\n",
    "print(z)\n",
    "# element-wise multiplication\n",
    "w = x * y\n",
    "print(w)\n",
    "# matrix multiplication\n",
    "a = torch.tensor([[1, 2], [3, 4]])\n",
    "b = torch.tensor([[5, 6], [7, 8]])\n",
    "c = torch.matmul(a, b)\n",
    "print(c)\n",
    "# concatenation\n",
    "d = torch.cat((a, b), dim=1)\n",
    "print(d)"
   ]
  },
  {
   "cell_type": "markdown",
   "metadata": {},
   "source": [
    "### Automatic differentiation\n",
    "\n",
    "The core of PyTorch is the autograd package. It provides automatic differentiation for all operations on Tensors.\n",
    "\n",
    "PyTorch's autograd package provides automatic differentiation for all operations on Tensors. It is a define-by-run framework, which means that your backpropagation is defined by how your code is run, and that every single iteration can be different.\n",
    "\n",
    "To compute gradients, the `requires_grad` property of Tensors needs to `True` (which is the case by default). This tells PyTorch to track all operations on the Tensor. You can then call `.backward()` on a Tensor to compute the gradients with respect to that Tensor."
   ]
  },
  {
   "cell_type": "code",
   "execution_count": 51,
   "metadata": {
    "ExecuteTime": {
     "end_time": "2023-05-12T03:07:01.053792740Z",
     "start_time": "2023-05-12T03:07:01.045273302Z"
    }
   },
   "outputs": [
    {
     "name": "stdout",
     "output_type": "stream",
     "text": [
      "tensor(11.)\n"
     ]
    }
   ],
   "source": [
    "import torch\n",
    "\n",
    "x = torch.tensor(2.0, requires_grad=True)\n",
    "y = 2*x**2 + 3*x - 1\n",
    "y.backward()\n",
    "\n",
    "print(x.grad)"
   ]
  },
  {
   "cell_type": "markdown",
   "metadata": {},
   "source": [
    "## Defining our network\n",
    "\n",
    "When building neural networks we frequently think of arranging the computation into layers, some of which have learnable parameters which will be optimized during learning. In `PyTorch`, the `nn` package provides higher-level abstractions over raw computational graphs that are useful for building neural networks. The `nn` package defines a set of `Modules`, which are roughly equivalent to neural network layers. A `Module` receives input `Tensors` and computes output `Tensors`, but may also hold internal state such as `Tensors` containing learnable parameters. The nn package also defines a set of useful loss functions that are commonly used when training neural networks.\n",
    "\n",
    "In the following example, we use the `nn` package to show how easy it is to instantiate our previous three-layers network"
   ]
  },
  {
   "cell_type": "code",
   "execution_count": 52,
   "metadata": {
    "ExecuteTime": {
     "end_time": "2023-05-12T03:07:01.053903007Z",
     "start_time": "2023-05-12T03:07:01.045516858Z"
    }
   },
   "outputs": [],
   "source": [
    "import torch\n",
    "# Define the input dimensions\n",
    "in_size = 1000\n",
    "# Number of neurons in a layer\n",
    "hidden_size = 100\n",
    "# Output (target) dimension\n",
    "output_size = 10\n",
    "# Use the nn package to define our model and loss function.\n",
    "model = torch.nn.Sequential(\n",
    "    torch.nn.Linear(in_size, hidden_size),\n",
    "    torch.nn.Sigmoid(),\n",
    "    torch.nn.Linear(hidden_size, hidden_size),\n",
    "    torch.nn.Tanh(),\n",
    "    torch.nn.Linear(hidden_size, output_size),\n",
    "    torch.nn.Softmax(dim=1)\n",
    ")"
   ]
  },
  {
   "cell_type": "markdown",
   "metadata": {},
   "source": [
    "### Optimizing the network\n",
    "\n",
    "Up to this point we have updated the weights of our models by manually performing the gradient descent algorithm (changing the parameters vectors). Although this is not a huge burden for simple optimization algorithms like stochastic gradient descent, in practice we often train neural networks using more sophisticated optimizers like AdaGrad, RMSProp or Adam (that we will see later in this course)\n",
    "\n",
    "The `optim` package in PyTorch abstracts the idea of an optimization algorithm and provides implementations of commonly used optimization algorithms, and greatly simplfies the training loop associated with training a neural network.\n",
    "\n",
    "For the sake of presentation we will use random inputs $\\mathbf{x}$ that should be matched with random outputs $\\mathbf{y}$"
   ]
  },
  {
   "cell_type": "code",
   "execution_count": 53,
   "metadata": {
    "ExecuteTime": {
     "end_time": "2023-05-12T03:07:01.054013590Z",
     "start_time": "2023-05-12T03:07:01.045670114Z"
    }
   },
   "outputs": [],
   "source": [
    "batch_size = 64\n",
    "# Create random Tensors to hold inputs and outputs\n",
    "x = torch.randn(batch_size, in_size)\n",
    "y = torch.randn(batch_size, output_size)"
   ]
  },
  {
   "cell_type": "markdown",
   "metadata": {},
   "source": [
    "In the following example we optimize the model using the Adam algorithm provided by the `optim` package, based on a `MSE` loss."
   ]
  },
  {
   "cell_type": "code",
   "execution_count": 54,
   "metadata": {
    "ExecuteTime": {
     "end_time": "2023-05-12T03:07:01.321923028Z",
     "start_time": "2023-05-12T03:07:01.045867213Z"
    }
   },
   "outputs": [
    {
     "name": "stdout",
     "output_type": "stream",
     "text": [
      "tensor(602.9655, grad_fn=<MseLossBackward0>)\n"
     ]
    }
   ],
   "source": [
    "# Learning rate\n",
    "learning_rate = 1e-4\n",
    "# Loss function that we will use\n",
    "loss_fn = torch.nn.MSELoss(reduction='sum')\n",
    "# Optimizer to fit the weights of the network\n",
    "optimizer = torch.optim.SGD(model.parameters(), lr=learning_rate)\n",
    "for t in range(500):\n",
    "    # Forward pass: compute predicted y by passing x to the model.\n",
    "    y_pred = model(x)\n",
    "    # Compute the loss.\n",
    "    loss = loss_fn(y_pred, y)\n",
    "    # Before the backward pass, zero all of the network gradients\n",
    "    optimizer.zero_grad()\n",
    "    # Backward pass: compute gradient of the loss with respect to parameters\n",
    "    loss.backward()\n",
    "    # Calling the step function to update the parameters\n",
    "    optimizer.step()\n",
    "print(loss)\n",
    "    "
   ]
  },
  {
   "cell_type": "markdown",
   "metadata": {
    "tags": []
   },
   "source": [
    "## Exercise 2 - Pytorch to classify audio\n",
    "\n",
    "Now that we know the main components of `Pytorch` to define and optimize networks, your assignement is to define a complete classification problem from audio data, by relying on this toolbox\n",
    "\n",
    "***\n",
    "\n",
    "<div class=\"alert alert-success\" markdown=\"1\" style=\"color:white; background-color: #013220; border-color: #03C03C\">\n",
    "\n",
    "> ### Question 1.1 - Model and definition\n",
    "\n",
    ">   1. Use `Pytorch` to define a model for audio classification\n",
    ">   2. Import the audio features dataset and check that your model produces an output\n",
    "\n",
    "</div>\n",
    "\n",
    "***\n"
   ]
  },
  {
   "cell_type": "code",
   "execution_count": 55,
   "metadata": {
    "ExecuteTime": {
     "end_time": "2023-05-12T03:07:39.045903435Z",
     "start_time": "2023-05-12T03:07:01.309589367Z"
    }
   },
   "outputs": [
    {
     "name": "stdout",
     "output_type": "stream",
     "text": [
      "Recursive search in data//musclefish\n"
     ]
    }
   ],
   "source": [
    "from cml.data import import_dataset, AudioSupervisedDataset\n",
    "data_path = \"data/\"\n",
    "batch_size = 16\n",
    "# Instantiate the dataset class\n",
    "train_dataset = import_dataset(data_path, \"musclefish\", 'train', batch_size=batch_size)\n",
    "\n",
    "######################\n",
    "# YOUR CODE GOES HERE\n",
    "######################\n"
   ]
  },
  {
   "cell_type": "code",
   "execution_count": 72,
   "metadata": {
    "ExecuteTime": {
     "end_time": "2023-05-12T03:28:48.872998752Z",
     "start_time": "2023-05-12T03:28:48.857203199Z"
    }
   },
   "outputs": [],
   "source": [
    "import  torch.nn as nn\n",
    "import  torch.nn.functional as F\n",
    "class AudioClassifier(nn.Module):\n",
    "    def __init__(self):\n",
    "        super(AudioClassifier,self).__init__()\n",
    "        self.layers = nn.Sequential(\n",
    "            nn.Linear(44100,1000),nn.ReLU(),\n",
    "            nn.Linear(1000,100),nn.ReLU(),\n",
    "            nn.Linear(100,16),nn.Softmax(dim=-1)\n",
    "        )\n",
    "    def forward(self,x):\n",
    "        return self.layers(x)"
   ]
  },
  {
   "cell_type": "code",
   "execution_count": 90,
   "outputs": [
    {
     "name": "stdout",
     "output_type": "stream",
     "text": [
      "tensor([[0.0577, 0.0662, 0.0688, 0.0581, 0.0601, 0.0667, 0.0662, 0.0602, 0.0612,\n",
      "         0.0603, 0.0574, 0.0657, 0.0659, 0.0626, 0.0574, 0.0652],\n",
      "        [0.0577, 0.0663, 0.0690, 0.0582, 0.0600, 0.0666, 0.0663, 0.0601, 0.0612,\n",
      "         0.0603, 0.0574, 0.0657, 0.0659, 0.0628, 0.0574, 0.0651],\n",
      "        [0.0578, 0.0661, 0.0688, 0.0581, 0.0603, 0.0664, 0.0662, 0.0603, 0.0611,\n",
      "         0.0603, 0.0574, 0.0658, 0.0660, 0.0628, 0.0573, 0.0652],\n",
      "        [0.0578, 0.0662, 0.0688, 0.0585, 0.0600, 0.0667, 0.0663, 0.0604, 0.0611,\n",
      "         0.0600, 0.0574, 0.0656, 0.0658, 0.0629, 0.0574, 0.0651],\n",
      "        [0.0578, 0.0663, 0.0688, 0.0581, 0.0602, 0.0667, 0.0662, 0.0601, 0.0612,\n",
      "         0.0603, 0.0573, 0.0658, 0.0659, 0.0627, 0.0574, 0.0653],\n",
      "        [0.0576, 0.0664, 0.0689, 0.0581, 0.0600, 0.0666, 0.0663, 0.0603, 0.0612,\n",
      "         0.0603, 0.0574, 0.0657, 0.0660, 0.0627, 0.0573, 0.0652],\n",
      "        [0.0576, 0.0665, 0.0683, 0.0587, 0.0599, 0.0667, 0.0662, 0.0603, 0.0623,\n",
      "         0.0593, 0.0569, 0.0659, 0.0660, 0.0637, 0.0576, 0.0641],\n",
      "        [0.0577, 0.0663, 0.0689, 0.0582, 0.0601, 0.0667, 0.0662, 0.0602, 0.0612,\n",
      "         0.0603, 0.0574, 0.0657, 0.0659, 0.0626, 0.0574, 0.0652],\n",
      "        [0.0578, 0.0658, 0.0689, 0.0583, 0.0600, 0.0668, 0.0661, 0.0602, 0.0618,\n",
      "         0.0599, 0.0573, 0.0658, 0.0663, 0.0632, 0.0571, 0.0648],\n",
      "        [0.0579, 0.0662, 0.0685, 0.0580, 0.0601, 0.0665, 0.0662, 0.0604, 0.0611,\n",
      "         0.0604, 0.0573, 0.0661, 0.0660, 0.0628, 0.0572, 0.0654],\n",
      "        [0.0577, 0.0663, 0.0689, 0.0581, 0.0601, 0.0667, 0.0662, 0.0602, 0.0612,\n",
      "         0.0603, 0.0574, 0.0657, 0.0659, 0.0626, 0.0574, 0.0652],\n",
      "        [0.0576, 0.0663, 0.0689, 0.0581, 0.0601, 0.0666, 0.0662, 0.0602, 0.0612,\n",
      "         0.0604, 0.0574, 0.0658, 0.0661, 0.0626, 0.0574, 0.0651],\n",
      "        [0.0568, 0.0660, 0.0684, 0.0587, 0.0605, 0.0661, 0.0666, 0.0604, 0.0613,\n",
      "         0.0601, 0.0578, 0.0656, 0.0666, 0.0633, 0.0567, 0.0649],\n",
      "        [0.0577, 0.0663, 0.0689, 0.0581, 0.0601, 0.0662, 0.0662, 0.0602, 0.0614,\n",
      "         0.0600, 0.0576, 0.0658, 0.0658, 0.0629, 0.0572, 0.0655],\n",
      "        [0.0575, 0.0658, 0.0688, 0.0584, 0.0603, 0.0665, 0.0665, 0.0605, 0.0614,\n",
      "         0.0603, 0.0574, 0.0656, 0.0661, 0.0626, 0.0574, 0.0650],\n",
      "        [0.0573, 0.0667, 0.0693, 0.0579, 0.0602, 0.0660, 0.0667, 0.0606, 0.0612,\n",
      "         0.0602, 0.0571, 0.0654, 0.0666, 0.0630, 0.0573, 0.0645]],\n",
      "       grad_fn=<SoftmaxBackward0>)\n",
      "torch.Size([16, 16]) torch.Size([16, 16])\n"
     ]
    }
   ],
   "source": [
    "batch_x, batch_y = next(train_dataset)\n",
    "batch_y =F.one_hot( torch.tensor(batch_y.numpy()).type(torch.int64), 16)\n",
    "net = AudioClassifier()\n",
    "out = net(torch.tensor(batch_x.numpy()))\n"
   ],
   "metadata": {
    "collapsed": false,
    "ExecuteTime": {
     "end_time": "2023-05-12T03:36:53.009957830Z",
     "start_time": "2023-05-12T03:36:52.795382717Z"
    }
   }
  },
  {
   "cell_type": "markdown",
   "metadata": {},
   "source": [
    "\n",
    "***\n",
    "\n",
    "<div class=\"alert alert-success\" markdown=\"1\" style=\"color:white; background-color: #013220; border-color: #03C03C\">\n",
    "\n",
    "> ### Question 1.2 - Training the model\n",
    "\n",
    ">   3. Write the optimization loop (think carefully about the _loss function_\n",
    ">   4. As previously, change the set of features to assess their different accuracies\n",
    ">   5. (Optional) Think of how you could use more complex features (time series, audio, STFT) to classify your data\n",
    "\n",
    "</div>\n",
    "\n",
    "***"
   ]
  },
  {
   "cell_type": "code",
   "execution_count": 107,
   "outputs": [
    {
     "name": "stdout",
     "output_type": "stream",
     "text": [
      "[0.7951219512195122, 0.8780487804878049, 0.8926829268292683, 0.9073170731707317, 0.9317073170731708, 0.9463414634146341, 0.9707317073170731, 0.9878048780487805, 0.9902439024390244, 0.9926829268292683, 0.9951219512195122, 0.9951219512195122, 0.9951219512195122, 0.9951219512195122, 0.9951219512195122, 0.9951219512195122, 0.9951219512195122, 0.9951219512195122, 0.9951219512195122, 0.9951219512195122]\n"
     ]
    }
   ],
   "source": [
    "def evaluate_accuracy(net,dataset):\n",
    "    net.eval()\n",
    "    dataset._reset_generator()\n",
    "    accuracy=0\n",
    "    for batch_x, batch_y in iter(dataset):   #batch_x [16,44100]  batch_y [16,]\n",
    "        batch_x = torch.tensor(batch_x.numpy())\n",
    "        batch_y = torch.tensor(batch_y.numpy())\n",
    "        out = net(batch_x)\n",
    "        predicted = torch.argmax(out,dim=-1)\n",
    "        accuracy+=torch.sum(predicted==batch_y).item()\n",
    "    return (accuracy/len(dataset))\n",
    "import pandas as pd\n",
    "n_batch = 0\n",
    "\n",
    "net = AudioClassifier()\n",
    "loss_fn = nn.CrossEntropyLoss()\n",
    "optimizer = torch.optim.Adam(net.parameters(), lr=1e-4)\n",
    "\n",
    "accuracy =[]\n",
    "#8s per epoch\n",
    "for epoch in range(20):\n",
    "    train_dataset._reset_generator()\n",
    "    for batch_x, batch_y in iter(train_dataset):   #batch_x [16,44100]  batch_y [16,]\n",
    "        batch_x = torch.tensor(batch_x.numpy())\n",
    "        batch_y = F.one_hot( torch.tensor(batch_y.numpy()).type(torch.int64), 16).float()\n",
    "        out = net(batch_x)\n",
    "        loss = loss_fn(out,batch_y)\n",
    "        optimizer.zero_grad()\n",
    "        loss.backward()\n",
    "        optimizer.step()\n",
    "    accuracy.append(evaluate_accuracy(net,train_dataset))\n",
    "print(accuracy)"
   ],
   "metadata": {
    "collapsed": false,
    "ExecuteTime": {
     "end_time": "2023-05-12T04:12:13.810020249Z",
     "start_time": "2023-05-12T04:09:24.145525886Z"
    }
   }
  }
 ],
 "metadata": {
  "kernelspec": {
   "display_name": "creative-ml",
   "language": "python",
   "name": "creative-ml"
  },
  "language_info": {
   "codemirror_mode": {
    "name": "ipython",
    "version": 3
   },
   "file_extension": ".py",
   "mimetype": "text/x-python",
   "name": "python",
   "nbconvert_exporter": "python",
   "pygments_lexer": "ipython3",
   "version": "3.10.10"
  }
 },
 "nbformat": 4,
 "nbformat_minor": 4
}
