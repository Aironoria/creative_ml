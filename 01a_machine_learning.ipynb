{
 "cells": [
  {
   "cell_type": "markdown",
   "metadata": {},
   "source": [
    "# Creative machine learning - Machine Learning\n",
    "\n",
    "### Author: Philippe Esling (esling@ircam.fr)\n",
    "\n",
    "In this course we will cover\n",
    "1. A [first definition](#definition) on the concept of machine learning\n",
    "2. An introduction to a simple problem of [linear regression](#regression)\n",
    "4. A detailed implementation of [simple linear regression](#linear)\n",
    "3. An explanation on [model capacity and overfitting](#capacity)\n",
    "4. Two [exercises](#exercises) to explore regression and classification\n",
    "4. An introduction to the [audio datasets](#audio) that we will use"
   ]
  },
  {
   "cell_type": "markdown",
   "metadata": {},
   "source": [
    "<a id=\"definition\"></a>\n",
    "## Defining machine learning\n",
    "\n",
    "In all natural process, there exists complex relations between sets $\\mathcal{X} \\mapsto \\mathcal{Y}$. This can relate some objects with their names, or a cause to a consequence. In most cases, _we do not know the precise relations_ between these sets, all we have is _observations_ such as pairs $(x,y)$, composed of input data $x \\in \\mathcal{X}$, which have a corresponding expected output $y \\in \\mathcal{Y}$. The overarching goal of machine learning is to approximate such _unknown processes_ as a function $\\mathcal{F}_{\\theta}$, which _transforms_ input data $x$ into output data $y$.\n",
    "\n",
    "\n",
    "<center>\n",
    "<img src=\"images/01_machine_learning_basic.png\" align=\"center\"/>\n",
    "</center>\n",
    "\n",
    "Hence, machine learning aims to understand and model the relationship between some (usually complex and high-dimensional) inputs $\\mathbf{x}\\in\\mathcal{X}\\subset\\mathbb{R}^{\\mathcal{X}}$ and outputs $\\mathbf{y}\\in\\mathcal{Y}\\subset\\mathbb{R}^{\\mathcal{Y}}$, given by a set of data examples $\\mathcal{D}=\\left\\{(x_1,y_1),\\cdots,(x_N,y_N)\\right\\}$. This is achieved by defining a parametric model $f_{\\mathbf{\\theta}}\\in\\mathcal{F}$ inside a family of functions $\\mathcal{F}$, which depends on parameters $\\mathbf{\\theta} \\in \\mathbf{\\Theta}$ and that could approximate the underlying relationship. The _learning_ aspect refers to the adjustment of the parameters $\\mathbf{\\theta}$ in order to obtain the best approximation of the given task\n",
    "$$\n",
    "\\begin{equation}\n",
    "f_{\\mathbf{\\theta}}(\\mathbf{x}) = \\bar{\\mathbf{y}}\\approx \\mathbf{y}.\n",
    "\\end{equation}\n",
    "$$\n",
    "\n",
    "Hence, the major elements that we have to define in any machine learning problems are\n",
    "1. **Dataset** : $\\mathcal{D}=\\left\\{(x_1,y_1),\\cdots,(x_N,y_N)\\right\\}$. This dataset has to be representative of the relation $f:\\mathcal{X} \\mapsto \\mathcal{Y}$ that we are looking to model\n",
    "2. **Model** : Our parametric approximation $\\bar{\\mathbf{y}} = f_{\\mathbf{\\theta}}(\\mathbf{x})$, where the choice of family $f_{\\mathbf{\\theta}}\\in\\mathcal{F}$ is critical\n",
    "3. **Loss** : $\\mathcal{L}\\left( \\bar{\\mathbf{y}}, \\mathbf{y} \\mid f_{\\theta}, \\theta \\right)$ allows to measure the amount of errors made by our model\n",
    "4. **Optimization** : Method to find $\\theta^{*}\\in\\Theta$ so that our model minimizes the loss\n",
    "$$\\theta^{*}= \\underset{\\theta}{\\text{argmin }} \\mathcal{L}\\left( \\bar{\\mathbf{y}}, \\mathbf{y} \\mid f_{\\theta}, \\theta \\right)$$\n",
    "\n",
    "\n",
    "To observe this idea in simple setups, we are going to use the `numpy` library and also initialize the homemade course library `cml` and style for future plotting and exercise. We also set the random generator to a fixed point with `rng = np.random.RandomState(1)`, to ensure reproducibility"
   ]
  },
  {
   "cell_type": "code",
   "execution_count": 1,
   "metadata": {
    "ExecuteTime": {
     "end_time": "2023-05-01T13:09:59.563365Z",
     "start_time": "2023-05-01T13:09:59.289590Z"
    }
   },
   "outputs": [
    {
     "name": "stderr",
     "output_type": "stream",
     "text": [
      "2023-05-01 17:13:27.456713: I tensorflow/core/platform/cpu_feature_guard.cc:193] This TensorFlow binary is optimized with oneAPI Deep Neural Network Library (oneDNN) to use the following CPU instructions in performance-critical operations:  AVX2 FMA\n",
      "To enable them in other operations, rebuild TensorFlow with the appropriate compiler flags.\n",
      "2023-05-01 17:13:27.983067: W tensorflow/compiler/xla/stream_executor/platform/default/dso_loader.cc:64] Could not load dynamic library 'libnvinfer.so.7'; dlerror: libnvinfer.so.7: cannot open shared object file: No such file or directory\n",
      "2023-05-01 17:13:27.983121: W tensorflow/compiler/xla/stream_executor/platform/default/dso_loader.cc:64] Could not load dynamic library 'libnvinfer_plugin.so.7'; dlerror: libnvinfer_plugin.so.7: cannot open shared object file: No such file or directory\n",
      "2023-05-01 17:13:27.983127: W tensorflow/compiler/tf2tensorrt/utils/py_utils.cc:38] TF-TRT Warning: Cannot dlopen some TensorRT libraries. If you would like to use Nvidia GPU with TensorRT, please make sure the missing libraries mentioned above are installed properly.\n",
      "/home/chenjy/anaconda3/envs/creative-ml/lib/python3.10/site-packages/tqdm/auto.py:21: TqdmWarning: IProgress not found. Please update jupyter and ipywidgets. See https://ipywidgets.readthedocs.io/en/stable/user_install.html\n",
      "  from .autonotebook import tqdm as notebook_tqdm\n",
      "No GPU/TPU found, falling back to CPU. (Set TF_CPP_MIN_LOG_LEVEL=0 and rerun for more info.)\n"
     ]
    },
    {
     "data": {
      "text/html": [
       "<div class=\"bk-root\">\n",
       "        <a href=\"https://bokeh.org\" target=\"_blank\" class=\"bk-logo bk-logo-small bk-logo-notebook\"></a>\n",
       "        <span id=\"1002\">Loading BokehJS ...</span>\n",
       "    </div>\n"
      ]
     },
     "metadata": {},
     "output_type": "display_data"
    },
    {
     "data": {
      "application/javascript": [
       "(function(root) {\n",
       "  function now() {\n",
       "    return new Date();\n",
       "  }\n",
       "\n",
       "  const force = true;\n",
       "\n",
       "  if (typeof root._bokeh_onload_callbacks === \"undefined\" || force === true) {\n",
       "    root._bokeh_onload_callbacks = [];\n",
       "    root._bokeh_is_loading = undefined;\n",
       "  }\n",
       "\n",
       "const JS_MIME_TYPE = 'application/javascript';\n",
       "  const HTML_MIME_TYPE = 'text/html';\n",
       "  const EXEC_MIME_TYPE = 'application/vnd.bokehjs_exec.v0+json';\n",
       "  const CLASS_NAME = 'output_bokeh rendered_html';\n",
       "\n",
       "  /**\n",
       "   * Render data to the DOM node\n",
       "   */\n",
       "  function render(props, node) {\n",
       "    const script = document.createElement(\"script\");\n",
       "    node.appendChild(script);\n",
       "  }\n",
       "\n",
       "  /**\n",
       "   * Handle when an output is cleared or removed\n",
       "   */\n",
       "  function handleClearOutput(event, handle) {\n",
       "    const cell = handle.cell;\n",
       "\n",
       "    const id = cell.output_area._bokeh_element_id;\n",
       "    const server_id = cell.output_area._bokeh_server_id;\n",
       "    // Clean up Bokeh references\n",
       "    if (id != null && id in Bokeh.index) {\n",
       "      Bokeh.index[id].model.document.clear();\n",
       "      delete Bokeh.index[id];\n",
       "    }\n",
       "\n",
       "    if (server_id !== undefined) {\n",
       "      // Clean up Bokeh references\n",
       "      const cmd_clean = \"from bokeh.io.state import curstate; print(curstate().uuid_to_server['\" + server_id + \"'].get_sessions()[0].document.roots[0]._id)\";\n",
       "      cell.notebook.kernel.execute(cmd_clean, {\n",
       "        iopub: {\n",
       "          output: function(msg) {\n",
       "            const id = msg.content.text.trim();\n",
       "            if (id in Bokeh.index) {\n",
       "              Bokeh.index[id].model.document.clear();\n",
       "              delete Bokeh.index[id];\n",
       "            }\n",
       "          }\n",
       "        }\n",
       "      });\n",
       "      // Destroy server and session\n",
       "      const cmd_destroy = \"import bokeh.io.notebook as ion; ion.destroy_server('\" + server_id + \"')\";\n",
       "      cell.notebook.kernel.execute(cmd_destroy);\n",
       "    }\n",
       "  }\n",
       "\n",
       "  /**\n",
       "   * Handle when a new output is added\n",
       "   */\n",
       "  function handleAddOutput(event, handle) {\n",
       "    const output_area = handle.output_area;\n",
       "    const output = handle.output;\n",
       "\n",
       "    // limit handleAddOutput to display_data with EXEC_MIME_TYPE content only\n",
       "    if ((output.output_type != \"display_data\") || (!Object.prototype.hasOwnProperty.call(output.data, EXEC_MIME_TYPE))) {\n",
       "      return\n",
       "    }\n",
       "\n",
       "    const toinsert = output_area.element.find(\".\" + CLASS_NAME.split(' ')[0]);\n",
       "\n",
       "    if (output.metadata[EXEC_MIME_TYPE][\"id\"] !== undefined) {\n",
       "      toinsert[toinsert.length - 1].firstChild.textContent = output.data[JS_MIME_TYPE];\n",
       "      // store reference to embed id on output_area\n",
       "      output_area._bokeh_element_id = output.metadata[EXEC_MIME_TYPE][\"id\"];\n",
       "    }\n",
       "    if (output.metadata[EXEC_MIME_TYPE][\"server_id\"] !== undefined) {\n",
       "      const bk_div = document.createElement(\"div\");\n",
       "      bk_div.innerHTML = output.data[HTML_MIME_TYPE];\n",
       "      const script_attrs = bk_div.children[0].attributes;\n",
       "      for (let i = 0; i < script_attrs.length; i++) {\n",
       "        toinsert[toinsert.length - 1].firstChild.setAttribute(script_attrs[i].name, script_attrs[i].value);\n",
       "        toinsert[toinsert.length - 1].firstChild.textContent = bk_div.children[0].textContent\n",
       "      }\n",
       "      // store reference to server id on output_area\n",
       "      output_area._bokeh_server_id = output.metadata[EXEC_MIME_TYPE][\"server_id\"];\n",
       "    }\n",
       "  }\n",
       "\n",
       "  function register_renderer(events, OutputArea) {\n",
       "\n",
       "    function append_mime(data, metadata, element) {\n",
       "      // create a DOM node to render to\n",
       "      const toinsert = this.create_output_subarea(\n",
       "        metadata,\n",
       "        CLASS_NAME,\n",
       "        EXEC_MIME_TYPE\n",
       "      );\n",
       "      this.keyboard_manager.register_events(toinsert);\n",
       "      // Render to node\n",
       "      const props = {data: data, metadata: metadata[EXEC_MIME_TYPE]};\n",
       "      render(props, toinsert[toinsert.length - 1]);\n",
       "      element.append(toinsert);\n",
       "      return toinsert\n",
       "    }\n",
       "\n",
       "    /* Handle when an output is cleared or removed */\n",
       "    events.on('clear_output.CodeCell', handleClearOutput);\n",
       "    events.on('delete.Cell', handleClearOutput);\n",
       "\n",
       "    /* Handle when a new output is added */\n",
       "    events.on('output_added.OutputArea', handleAddOutput);\n",
       "\n",
       "    /**\n",
       "     * Register the mime type and append_mime function with output_area\n",
       "     */\n",
       "    OutputArea.prototype.register_mime_type(EXEC_MIME_TYPE, append_mime, {\n",
       "      /* Is output safe? */\n",
       "      safe: true,\n",
       "      /* Index of renderer in `output_area.display_order` */\n",
       "      index: 0\n",
       "    });\n",
       "  }\n",
       "\n",
       "  // register the mime type if in Jupyter Notebook environment and previously unregistered\n",
       "  if (root.Jupyter !== undefined) {\n",
       "    const events = require('base/js/events');\n",
       "    const OutputArea = require('notebook/js/outputarea').OutputArea;\n",
       "\n",
       "    if (OutputArea.prototype.mime_types().indexOf(EXEC_MIME_TYPE) == -1) {\n",
       "      register_renderer(events, OutputArea);\n",
       "    }\n",
       "  }\n",
       "  if (typeof (root._bokeh_timeout) === \"undefined\" || force === true) {\n",
       "    root._bokeh_timeout = Date.now() + 5000;\n",
       "    root._bokeh_failed_load = false;\n",
       "  }\n",
       "\n",
       "  const NB_LOAD_WARNING = {'data': {'text/html':\n",
       "     \"<div style='background-color: #fdd'>\\n\"+\n",
       "     \"<p>\\n\"+\n",
       "     \"BokehJS does not appear to have successfully loaded. If loading BokehJS from CDN, this \\n\"+\n",
       "     \"may be due to a slow or bad network connection. Possible fixes:\\n\"+\n",
       "     \"</p>\\n\"+\n",
       "     \"<ul>\\n\"+\n",
       "     \"<li>re-rerun `output_notebook()` to attempt to load from CDN again, or</li>\\n\"+\n",
       "     \"<li>use INLINE resources instead, as so:</li>\\n\"+\n",
       "     \"</ul>\\n\"+\n",
       "     \"<code>\\n\"+\n",
       "     \"from bokeh.resources import INLINE\\n\"+\n",
       "     \"output_notebook(resources=INLINE)\\n\"+\n",
       "     \"</code>\\n\"+\n",
       "     \"</div>\"}};\n",
       "\n",
       "  function display_loaded() {\n",
       "    const el = document.getElementById(\"1002\");\n",
       "    if (el != null) {\n",
       "      el.textContent = \"BokehJS is loading...\";\n",
       "    }\n",
       "    if (root.Bokeh !== undefined) {\n",
       "      if (el != null) {\n",
       "        el.textContent = \"BokehJS \" + root.Bokeh.version + \" successfully loaded.\";\n",
       "      }\n",
       "    } else if (Date.now() < root._bokeh_timeout) {\n",
       "      setTimeout(display_loaded, 100)\n",
       "    }\n",
       "  }\n",
       "\n",
       "  function run_callbacks() {\n",
       "    try {\n",
       "      root._bokeh_onload_callbacks.forEach(function(callback) {\n",
       "        if (callback != null)\n",
       "          callback();\n",
       "      });\n",
       "    } finally {\n",
       "      delete root._bokeh_onload_callbacks\n",
       "    }\n",
       "    console.debug(\"Bokeh: all callbacks have finished\");\n",
       "  }\n",
       "\n",
       "  function load_libs(css_urls, js_urls, callback) {\n",
       "    if (css_urls == null) css_urls = [];\n",
       "    if (js_urls == null) js_urls = [];\n",
       "\n",
       "    root._bokeh_onload_callbacks.push(callback);\n",
       "    if (root._bokeh_is_loading > 0) {\n",
       "      console.debug(\"Bokeh: BokehJS is being loaded, scheduling callback at\", now());\n",
       "      return null;\n",
       "    }\n",
       "    if (js_urls == null || js_urls.length === 0) {\n",
       "      run_callbacks();\n",
       "      return null;\n",
       "    }\n",
       "    console.debug(\"Bokeh: BokehJS not loaded, scheduling load and callback at\", now());\n",
       "    root._bokeh_is_loading = css_urls.length + js_urls.length;\n",
       "\n",
       "    function on_load() {\n",
       "      root._bokeh_is_loading--;\n",
       "      if (root._bokeh_is_loading === 0) {\n",
       "        console.debug(\"Bokeh: all BokehJS libraries/stylesheets loaded\");\n",
       "        run_callbacks()\n",
       "      }\n",
       "    }\n",
       "\n",
       "    function on_error(url) {\n",
       "      console.error(\"failed to load \" + url);\n",
       "    }\n",
       "\n",
       "    for (let i = 0; i < css_urls.length; i++) {\n",
       "      const url = css_urls[i];\n",
       "      const element = document.createElement(\"link\");\n",
       "      element.onload = on_load;\n",
       "      element.onerror = on_error.bind(null, url);\n",
       "      element.rel = \"stylesheet\";\n",
       "      element.type = \"text/css\";\n",
       "      element.href = url;\n",
       "      console.debug(\"Bokeh: injecting link tag for BokehJS stylesheet: \", url);\n",
       "      document.body.appendChild(element);\n",
       "    }\n",
       "\n",
       "    for (let i = 0; i < js_urls.length; i++) {\n",
       "      const url = js_urls[i];\n",
       "      const element = document.createElement('script');\n",
       "      element.onload = on_load;\n",
       "      element.onerror = on_error.bind(null, url);\n",
       "      element.async = false;\n",
       "      element.src = url;\n",
       "      console.debug(\"Bokeh: injecting script tag for BokehJS library: \", url);\n",
       "      document.head.appendChild(element);\n",
       "    }\n",
       "  };\n",
       "\n",
       "  function inject_raw_css(css) {\n",
       "    const element = document.createElement(\"style\");\n",
       "    element.appendChild(document.createTextNode(css));\n",
       "    document.body.appendChild(element);\n",
       "  }\n",
       "\n",
       "  const js_urls = [\"https://cdn.bokeh.org/bokeh/release/bokeh-2.4.3.min.js\", \"https://cdn.bokeh.org/bokeh/release/bokeh-gl-2.4.3.min.js\", \"https://cdn.bokeh.org/bokeh/release/bokeh-widgets-2.4.3.min.js\", \"https://cdn.bokeh.org/bokeh/release/bokeh-tables-2.4.3.min.js\", \"https://cdn.bokeh.org/bokeh/release/bokeh-mathjax-2.4.3.min.js\", \"https://unpkg.com/@holoviz/panel@0.14.4/dist/panel.min.js\"];\n",
       "  const css_urls = [];\n",
       "\n",
       "  const inline_js = [    function(Bokeh) {\n",
       "      Bokeh.set_log_level(\"info\");\n",
       "    },\n",
       "function(Bokeh) {\n",
       "    }\n",
       "  ];\n",
       "\n",
       "  function run_inline_js() {\n",
       "    if (root.Bokeh !== undefined || force === true) {\n",
       "          for (let i = 0; i < inline_js.length; i++) {\n",
       "      inline_js[i].call(root, root.Bokeh);\n",
       "    }\n",
       "if (force === true) {\n",
       "        display_loaded();\n",
       "      }} else if (Date.now() < root._bokeh_timeout) {\n",
       "      setTimeout(run_inline_js, 100);\n",
       "    } else if (!root._bokeh_failed_load) {\n",
       "      console.log(\"Bokeh: BokehJS failed to load within specified timeout.\");\n",
       "      root._bokeh_failed_load = true;\n",
       "    } else if (force !== true) {\n",
       "      const cell = $(document.getElementById(\"1002\")).parents('.cell').data().cell;\n",
       "      cell.output_area.append_execute_result(NB_LOAD_WARNING)\n",
       "    }\n",
       "  }\n",
       "\n",
       "  if (root._bokeh_is_loading === 0) {\n",
       "    console.debug(\"Bokeh: BokehJS loaded, going straight to plotting\");\n",
       "    run_inline_js();\n",
       "  } else {\n",
       "    load_libs(css_urls, js_urls, function() {\n",
       "      console.debug(\"Bokeh: BokehJS plotting callback run at\", now());\n",
       "      run_inline_js();\n",
       "    });\n",
       "  }\n",
       "}(window));"
      ],
      "application/vnd.bokehjs_load.v0+json": "(function(root) {\n  function now() {\n    return new Date();\n  }\n\n  const force = true;\n\n  if (typeof root._bokeh_onload_callbacks === \"undefined\" || force === true) {\n    root._bokeh_onload_callbacks = [];\n    root._bokeh_is_loading = undefined;\n  }\n\n\n  if (typeof (root._bokeh_timeout) === \"undefined\" || force === true) {\n    root._bokeh_timeout = Date.now() + 5000;\n    root._bokeh_failed_load = false;\n  }\n\n  const NB_LOAD_WARNING = {'data': {'text/html':\n     \"<div style='background-color: #fdd'>\\n\"+\n     \"<p>\\n\"+\n     \"BokehJS does not appear to have successfully loaded. If loading BokehJS from CDN, this \\n\"+\n     \"may be due to a slow or bad network connection. Possible fixes:\\n\"+\n     \"</p>\\n\"+\n     \"<ul>\\n\"+\n     \"<li>re-rerun `output_notebook()` to attempt to load from CDN again, or</li>\\n\"+\n     \"<li>use INLINE resources instead, as so:</li>\\n\"+\n     \"</ul>\\n\"+\n     \"<code>\\n\"+\n     \"from bokeh.resources import INLINE\\n\"+\n     \"output_notebook(resources=INLINE)\\n\"+\n     \"</code>\\n\"+\n     \"</div>\"}};\n\n  function display_loaded() {\n    const el = document.getElementById(\"1002\");\n    if (el != null) {\n      el.textContent = \"BokehJS is loading...\";\n    }\n    if (root.Bokeh !== undefined) {\n      if (el != null) {\n        el.textContent = \"BokehJS \" + root.Bokeh.version + \" successfully loaded.\";\n      }\n    } else if (Date.now() < root._bokeh_timeout) {\n      setTimeout(display_loaded, 100)\n    }\n  }\n\n  function run_callbacks() {\n    try {\n      root._bokeh_onload_callbacks.forEach(function(callback) {\n        if (callback != null)\n          callback();\n      });\n    } finally {\n      delete root._bokeh_onload_callbacks\n    }\n    console.debug(\"Bokeh: all callbacks have finished\");\n  }\n\n  function load_libs(css_urls, js_urls, callback) {\n    if (css_urls == null) css_urls = [];\n    if (js_urls == null) js_urls = [];\n\n    root._bokeh_onload_callbacks.push(callback);\n    if (root._bokeh_is_loading > 0) {\n      console.debug(\"Bokeh: BokehJS is being loaded, scheduling callback at\", now());\n      return null;\n    }\n    if (js_urls == null || js_urls.length === 0) {\n      run_callbacks();\n      return null;\n    }\n    console.debug(\"Bokeh: BokehJS not loaded, scheduling load and callback at\", now());\n    root._bokeh_is_loading = css_urls.length + js_urls.length;\n\n    function on_load() {\n      root._bokeh_is_loading--;\n      if (root._bokeh_is_loading === 0) {\n        console.debug(\"Bokeh: all BokehJS libraries/stylesheets loaded\");\n        run_callbacks()\n      }\n    }\n\n    function on_error(url) {\n      console.error(\"failed to load \" + url);\n    }\n\n    for (let i = 0; i < css_urls.length; i++) {\n      const url = css_urls[i];\n      const element = document.createElement(\"link\");\n      element.onload = on_load;\n      element.onerror = on_error.bind(null, url);\n      element.rel = \"stylesheet\";\n      element.type = \"text/css\";\n      element.href = url;\n      console.debug(\"Bokeh: injecting link tag for BokehJS stylesheet: \", url);\n      document.body.appendChild(element);\n    }\n\n    for (let i = 0; i < js_urls.length; i++) {\n      const url = js_urls[i];\n      const element = document.createElement('script');\n      element.onload = on_load;\n      element.onerror = on_error.bind(null, url);\n      element.async = false;\n      element.src = url;\n      console.debug(\"Bokeh: injecting script tag for BokehJS library: \", url);\n      document.head.appendChild(element);\n    }\n  };\n\n  function inject_raw_css(css) {\n    const element = document.createElement(\"style\");\n    element.appendChild(document.createTextNode(css));\n    document.body.appendChild(element);\n  }\n\n  const js_urls = [\"https://cdn.bokeh.org/bokeh/release/bokeh-2.4.3.min.js\", \"https://cdn.bokeh.org/bokeh/release/bokeh-gl-2.4.3.min.js\", \"https://cdn.bokeh.org/bokeh/release/bokeh-widgets-2.4.3.min.js\", \"https://cdn.bokeh.org/bokeh/release/bokeh-tables-2.4.3.min.js\", \"https://cdn.bokeh.org/bokeh/release/bokeh-mathjax-2.4.3.min.js\", \"https://unpkg.com/@holoviz/panel@0.14.4/dist/panel.min.js\"];\n  const css_urls = [];\n\n  const inline_js = [    function(Bokeh) {\n      Bokeh.set_log_level(\"info\");\n    },\nfunction(Bokeh) {\n    }\n  ];\n\n  function run_inline_js() {\n    if (root.Bokeh !== undefined || force === true) {\n          for (let i = 0; i < inline_js.length; i++) {\n      inline_js[i].call(root, root.Bokeh);\n    }\nif (force === true) {\n        display_loaded();\n      }} else if (Date.now() < root._bokeh_timeout) {\n      setTimeout(run_inline_js, 100);\n    } else if (!root._bokeh_failed_load) {\n      console.log(\"Bokeh: BokehJS failed to load within specified timeout.\");\n      root._bokeh_failed_load = true;\n    } else if (force !== true) {\n      const cell = $(document.getElementById(\"1002\")).parents('.cell').data().cell;\n      cell.output_area.append_execute_result(NB_LOAD_WARNING)\n    }\n  }\n\n  if (root._bokeh_is_loading === 0) {\n    console.debug(\"Bokeh: BokehJS loaded, going straight to plotting\");\n    run_inline_js();\n  } else {\n    load_libs(css_urls, js_urls, function() {\n      console.debug(\"Bokeh: BokehJS plotting callback run at\", now());\n      run_inline_js();\n    });\n  }\n}(window));"
     },
     "metadata": {},
     "output_type": "display_data"
    },
    {
     "data": {
      "application/javascript": [
       "(function(root) {\n",
       "  function now() {\n",
       "    return new Date();\n",
       "  }\n",
       "\n",
       "  var force = true;\n",
       "\n",
       "  if (typeof root._bokeh_onload_callbacks === \"undefined\" || force === true) {\n",
       "    root._bokeh_onload_callbacks = [];\n",
       "    root._bokeh_is_loading = undefined;\n",
       "  }\n",
       "\n",
       "  if (typeof (root._bokeh_timeout) === \"undefined\" || force === true) {\n",
       "    root._bokeh_timeout = Date.now() + 5000;\n",
       "    root._bokeh_failed_load = false;\n",
       "  }\n",
       "\n",
       "  function run_callbacks() {\n",
       "    try {\n",
       "      root._bokeh_onload_callbacks.forEach(function(callback) {\n",
       "        if (callback != null)\n",
       "          callback();\n",
       "      });\n",
       "    } finally {\n",
       "      delete root._bokeh_onload_callbacks\n",
       "    }\n",
       "    console.debug(\"Bokeh: all callbacks have finished\");\n",
       "  }\n",
       "\n",
       "  function load_libs(css_urls, js_urls, js_modules, callback) {\n",
       "    if (css_urls == null) css_urls = [];\n",
       "    if (js_urls == null) js_urls = [];\n",
       "    if (js_modules == null) js_modules = [];\n",
       "\n",
       "    root._bokeh_onload_callbacks.push(callback);\n",
       "    if (root._bokeh_is_loading > 0) {\n",
       "      console.debug(\"Bokeh: BokehJS is being loaded, scheduling callback at\", now());\n",
       "      return null;\n",
       "    }\n",
       "    if (js_urls.length === 0 && js_modules.length === 0) {\n",
       "      run_callbacks();\n",
       "      return null;\n",
       "    }\n",
       "    console.debug(\"Bokeh: BokehJS not loaded, scheduling load and callback at\", now());\n",
       "\n",
       "    function on_load() {\n",
       "      root._bokeh_is_loading--;\n",
       "      if (root._bokeh_is_loading === 0) {\n",
       "        console.debug(\"Bokeh: all BokehJS libraries/stylesheets loaded\");\n",
       "        run_callbacks()\n",
       "      }\n",
       "    }\n",
       "\n",
       "    function on_error() {\n",
       "      console.error(\"failed to load \" + url);\n",
       "    }\n",
       "\n",
       "    for (var i = 0; i < css_urls.length; i++) {\n",
       "      var url = css_urls[i];\n",
       "      const element = document.createElement(\"link\");\n",
       "      element.onload = on_load;\n",
       "      element.onerror = on_error;\n",
       "      element.rel = \"stylesheet\";\n",
       "      element.type = \"text/css\";\n",
       "      element.href = url;\n",
       "      console.debug(\"Bokeh: injecting link tag for BokehJS stylesheet: \", url);\n",
       "      document.body.appendChild(element);\n",
       "    }\n",
       "\n",
       "    var skip = [];\n",
       "    if (window.requirejs) {\n",
       "      window.requirejs.config({'packages': {}, 'paths': {'ace': '//cdnjs.cloudflare.com/ajax/libs/ace/1.4.7', 'gridstack': 'https://cdn.jsdelivr.net/npm/gridstack@4.2.5/dist/gridstack-h5', 'notyf': 'https://cdn.jsdelivr.net/npm/notyf@3/notyf.min'}, 'shim': {'ace/ext-language_tools': {'deps': ['ace/ace']}, 'ace/ext-modelist': {'deps': ['ace/ace']}, 'gridstack': {'exports': 'GridStack'}}});\n",
       "      require([\"ace/ace\"], function(ace) {\n",
       "\twindow.ace = ace\n",
       "\ton_load()\n",
       "      })\n",
       "      require([\"ace/ext-language_tools\"], function() {\n",
       "\ton_load()\n",
       "      })\n",
       "      require([\"ace/ext-modelist\"], function() {\n",
       "\ton_load()\n",
       "      })\n",
       "      require([\"gridstack\"], function(GridStack) {\n",
       "\twindow.GridStack = GridStack\n",
       "\ton_load()\n",
       "      })\n",
       "      require([\"notyf\"], function() {\n",
       "\ton_load()\n",
       "      })\n",
       "      root._bokeh_is_loading = css_urls.length + 5;\n",
       "    } else {\n",
       "      root._bokeh_is_loading = css_urls.length + js_urls.length + js_modules.length;\n",
       "    }    if (((window['ace'] !== undefined) && (!(window['ace'] instanceof HTMLElement))) || window.requirejs) {\n",
       "      var urls = ['https://cdnjs.cloudflare.com/ajax/libs/ace/1.4.11/ace.js', 'https://cdnjs.cloudflare.com/ajax/libs/ace/1.4.11/ext-language_tools.js', 'https://cdnjs.cloudflare.com/ajax/libs/ace/1.4.11/ext-modelist.js'];\n",
       "      for (var i = 0; i < urls.length; i++) {\n",
       "        skip.push(urls[i])\n",
       "      }\n",
       "    }    if (((window['GridStack'] !== undefined) && (!(window['GridStack'] instanceof HTMLElement))) || window.requirejs) {\n",
       "      var urls = ['https://cdn.holoviz.org/panel/0.14.4/dist/bundled/gridstack/gridstack@4.2.5/dist/gridstack-h5.js'];\n",
       "      for (var i = 0; i < urls.length; i++) {\n",
       "        skip.push(urls[i])\n",
       "      }\n",
       "    }    if (((window['Notyf'] !== undefined) && (!(window['Notyf'] instanceof HTMLElement))) || window.requirejs) {\n",
       "      var urls = ['https://cdn.holoviz.org/panel/0.14.4/dist/bundled/notificationarea/notyf@3/notyf.min.js'];\n",
       "      for (var i = 0; i < urls.length; i++) {\n",
       "        skip.push(urls[i])\n",
       "      }\n",
       "    }    for (var i = 0; i < js_urls.length; i++) {\n",
       "      var url = js_urls[i];\n",
       "      if (skip.indexOf(url) >= 0) {\n",
       "\tif (!window.requirejs) {\n",
       "\t  on_load();\n",
       "\t}\n",
       "\tcontinue;\n",
       "      }\n",
       "      var element = document.createElement('script');\n",
       "      element.onload = on_load;\n",
       "      element.onerror = on_error;\n",
       "      element.async = false;\n",
       "      element.src = url;\n",
       "      console.debug(\"Bokeh: injecting script tag for BokehJS library: \", url);\n",
       "      document.head.appendChild(element);\n",
       "    }\n",
       "    for (var i = 0; i < js_modules.length; i++) {\n",
       "      var url = js_modules[i];\n",
       "      if (skip.indexOf(url) >= 0) {\n",
       "\tif (!window.requirejs) {\n",
       "\t  on_load();\n",
       "\t}\n",
       "\tcontinue;\n",
       "      }\n",
       "      var element = document.createElement('script');\n",
       "      element.onload = on_load;\n",
       "      element.onerror = on_error;\n",
       "      element.async = false;\n",
       "      element.src = url;\n",
       "      element.type = \"module\";\n",
       "      console.debug(\"Bokeh: injecting script tag for BokehJS library: \", url);\n",
       "      document.head.appendChild(element);\n",
       "    }\n",
       "    if (!js_urls.length && !js_modules.length) {\n",
       "      on_load()\n",
       "    }\n",
       "  };\n",
       "\n",
       "  function inject_raw_css(css) {\n",
       "    const element = document.createElement(\"style\");\n",
       "    element.appendChild(document.createTextNode(css));\n",
       "    document.body.appendChild(element);\n",
       "  }\n",
       "\n",
       "  var js_urls = [\"https://cdnjs.cloudflare.com/ajax/libs/ace/1.4.11/ace.js\", \"https://cdnjs.cloudflare.com/ajax/libs/ace/1.4.11/ext-language_tools.js\", \"https://cdnjs.cloudflare.com/ajax/libs/ace/1.4.11/ext-modelist.js\", \"https://cdn.bokeh.org/bokeh/release/bokeh-2.4.3.min.js\", \"https://cdn.bokeh.org/bokeh/release/bokeh-gl-2.4.3.min.js\", \"https://cdn.bokeh.org/bokeh/release/bokeh-widgets-2.4.3.min.js\", \"https://cdn.bokeh.org/bokeh/release/bokeh-tables-2.4.3.min.js\", \"https://cdn.bokeh.org/bokeh/release/bokeh-mathjax-2.4.3.min.js\", \"https://unpkg.com/@holoviz/panel@0.14.4/dist/panel.min.js\"];\n",
       "  var js_modules = [];\n",
       "  var css_urls = [\"https://cdn.holoviz.org/panel/0.14.4/dist/css/markdown.css\", \"https://cdn.holoviz.org/panel/0.14.4/dist/css/loading.css\", \"https://cdn.holoviz.org/panel/0.14.4/dist/css/json.css\", \"https://cdn.holoviz.org/panel/0.14.4/dist/css/alerts.css\", \"https://cdn.holoviz.org/panel/0.14.4/dist/css/dataframe.css\", \"https://cdn.holoviz.org/panel/0.14.4/dist/css/debugger.css\", \"https://cdn.holoviz.org/panel/0.14.4/dist/css/widgets.css\", \"https://cdn.holoviz.org/panel/0.14.4/dist/css/card.css\"];\n",
       "  var inline_js = [    function(Bokeh) {\n",
       "      inject_raw_css(\"/*\\n ~ CML // Creative Machine Learning ~\\n mml.css : CSS styling information for Panel and Bokeh\\n \\n This file defines the main CSS styling information for the CML course\\n \\n Author               :  Philippe Esling\\n                        <esling@ircam.fr>\\n*/\\n\\nbody {\\n  display: flex;\\n  height: 100vh;\\n  margin: 0px;\\n  overflow-x: hidden;\\n  overflow-y: hidden;\\n}\\n\\n.bk-root .bk, .bk-root .bk:before, .bk-root .bk:after {\\n  font-family: \\\"Josefin Sans\\\";\\n}\\n\\nimg {\\n  max-width: 100%;\\n}\\n\\n#container {\\n  padding:0px;\\n  height:100vh;\\n  width: 100vw;\\n  max-width: 100vw;\\n}\\n\\n#sidebar .mdc-list {\\n  padding-left: 5px;\\n  padding-right: 5px;\\n}\\n\\n.mdc-drawer-app-content {\\n  flex: auto;\\n  position: relative;\\n  overflow: hidden;\\n}\\n\\n.mdc-drawer {\\n  background: #FAFAFA; /* GRAY 50 */\\n}\\n\\n.mdc-drawer-app-content {\\n  margin-left: 0 !important;\\n}\\n\\n.title-bar {\\n  display: contents;\\n  justify-content: center;\\n  align-content: center;\\n  width: 100%;\\n}\\n\\n.mdc-top-app-bar .bk-menu {\\n  color: black\\n}\\n\\n.app-header {\\n  display: contents;\\n  padding-left: 10px;\\n  font-size: 1.25em;\\n}\\n\\nimg.app-logo {\\n  padding-right: 10px;\\n  font-size: 28px;\\n  height: 30px;\\n  max-width: inherit;\\n  padding-top: 12px;\\n  padding-bottom: 6px;\\n}\\n\\n#app-title {\\n  padding-right: 12px;\\n  padding-left: 12px;\\n}\\n\\n.title {\\n  font-family: \\\"Josefin Sans\\\";\\n  color: #fff;\\n  text-decoration: none;\\n  text-decoration-line: none;\\n  text-decoration-style: initial;\\n  text-decoration-color: initial;\\n  font-weight: 400;\\n  font-size: 2em;\\n  line-height: 2em;\\n  white-space: nowrap;\\n}\\n\\n.main-content {\\n  overflow-y: scroll;\\n  overflow-x: auto;\\n}\\n\\n#header {\\n  position: absolute;\\n  z-index: 7;\\n}\\n\\n#header-items {\\n  width: 100%;\\n  margin-left:15px;\\n}\\n\\n.pn-busy-container {\\n  align-items: center;\\n  justify-content: center;\\n  display: flex;\\n}\\n\\n.mdc-drawer__content {\\n  overflow-x: hidden;\\n}\\n.mdc-drawer__content, .main-content {\\n  padding: 12px;\\n}\\n\\n.main-content {\\n  height: calc(100vh - 88px);\\n  max-height: calc(100vh - 88px);\\n  padding-right: 32px;\\n}\\n\\nbutton.mdc-button.mdc-card-button {\\n  color: transparent;\\n  height: 50px;\\n}\\n\\np.bk.mdc-button {\\n  display: none;\\n}\\n\\ndiv.bk.mdc-card {\\n  border-radius: 0px\\n}\\n\\n.mdc-card .bk.card-header {\\n  display: flex;\\n}\\n\\n.bk.mdc-card-title {\\n  font-family: \\\"Josefin Sans\\\";\\n  font-weight: bold;\\n  align-items: center;\\n  display: flex !important;\\n  position: relative !important;\\n}\\n\\n.bk.mdc-card-title:nth-child(2) {\\n  margin-left: -1.4em;\\n}\\n\\n.pn-modal {\\n  overflow-y: scroll;\\n  width: 100%;\\n  display: none;\\n  position: absolute;\\n  top: 0;\\n  left: 0;\\n}\\n\\n.pn-modal-content {\\n  font-family: \\\"Josefin Sans\\\";\\n  background-color: #0e0e0e;\\n  margin: auto;\\n  margin-top: 25px;\\n  margin-bottom: 25px;\\n  padding: 15px 20px 20px 20px;\\n  border: 1px solid #888;\\n  width: 80% !important;\\n}\\n\\n.pn-modal-close {\\n  position: absolute;\\n  right: 25px;\\n  z-index: 100;\\n}\\n\\n.pn-modal-close:hover,\\n.pn-modal-close:focus {\\n  color: #000;\\n  text-decoration: none;\\n  cursor: pointer;\\n}\\n\\n.custom_button_bokeh button.bk.bk-btn.bk-btn-default {\\n    font-size:48pt;\\n    background-color: #05b7ff;\\n    border-color: #05b7ff;\\n}\");\n",
       "    },    function(Bokeh) {\n",
       "      inject_raw_css(\"\\n    .bk.pn-loading.arc:before {\\n      background-image: url(\\\"data:image/svg+xml;base64,PHN2ZyB4bWxucz0iaHR0cDovL3d3dy53My5vcmcvMjAwMC9zdmciIHN0eWxlPSJtYXJnaW46IGF1dG87IGJhY2tncm91bmQ6IG5vbmU7IGRpc3BsYXk6IGJsb2NrOyBzaGFwZS1yZW5kZXJpbmc6IGF1dG87IiB2aWV3Qm94PSIwIDAgMTAwIDEwMCIgcHJlc2VydmVBc3BlY3RSYXRpbz0ieE1pZFlNaWQiPiAgPGNpcmNsZSBjeD0iNTAiIGN5PSI1MCIgZmlsbD0ibm9uZSIgc3Ryb2tlPSIjYzNjM2MzIiBzdHJva2Utd2lkdGg9IjEwIiByPSIzNSIgc3Ryb2tlLWRhc2hhcnJheT0iMTY0LjkzMzYxNDMxMzQ2NDE1IDU2Ljk3Nzg3MTQzNzgyMTM4Ij4gICAgPGFuaW1hdGVUcmFuc2Zvcm0gYXR0cmlidXRlTmFtZT0idHJhbnNmb3JtIiB0eXBlPSJyb3RhdGUiIHJlcGVhdENvdW50PSJpbmRlZmluaXRlIiBkdXI9IjFzIiB2YWx1ZXM9IjAgNTAgNTA7MzYwIDUwIDUwIiBrZXlUaW1lcz0iMDsxIj48L2FuaW1hdGVUcmFuc2Zvcm0+ICA8L2NpcmNsZT48L3N2Zz4=\\\");\\n      background-size: auto calc(min(50%, 400px));\\n    }\\n    \");\n",
       "    },    function(Bokeh) {\n",
       "      Bokeh.set_log_level(\"info\");\n",
       "    },\n",
       "function(Bokeh) {} // ensure no trailing comma for IE\n",
       "  ];\n",
       "\n",
       "  function run_inline_js() {\n",
       "    if ((root.Bokeh !== undefined) || (force === true)) {\n",
       "      for (var i = 0; i < inline_js.length; i++) {\n",
       "        inline_js[i].call(root, root.Bokeh);\n",
       "      }} else if (Date.now() < root._bokeh_timeout) {\n",
       "      setTimeout(run_inline_js, 100);\n",
       "    } else if (!root._bokeh_failed_load) {\n",
       "      console.log(\"Bokeh: BokehJS failed to load within specified timeout.\");\n",
       "      root._bokeh_failed_load = true;\n",
       "    }\n",
       "  }\n",
       "\n",
       "  if (root._bokeh_is_loading === 0) {\n",
       "    console.debug(\"Bokeh: BokehJS loaded, going straight to plotting\");\n",
       "    run_inline_js();\n",
       "  } else {\n",
       "    load_libs(css_urls, js_urls, js_modules, function() {\n",
       "      console.debug(\"Bokeh: BokehJS plotting callback run at\", now());\n",
       "      run_inline_js();\n",
       "    });\n",
       "  }\n",
       "}(window));"
      ],
      "application/vnd.holoviews_load.v0+json": "(function(root) {\n  function now() {\n    return new Date();\n  }\n\n  var force = true;\n\n  if (typeof root._bokeh_onload_callbacks === \"undefined\" || force === true) {\n    root._bokeh_onload_callbacks = [];\n    root._bokeh_is_loading = undefined;\n  }\n\n  if (typeof (root._bokeh_timeout) === \"undefined\" || force === true) {\n    root._bokeh_timeout = Date.now() + 5000;\n    root._bokeh_failed_load = false;\n  }\n\n  function run_callbacks() {\n    try {\n      root._bokeh_onload_callbacks.forEach(function(callback) {\n        if (callback != null)\n          callback();\n      });\n    } finally {\n      delete root._bokeh_onload_callbacks\n    }\n    console.debug(\"Bokeh: all callbacks have finished\");\n  }\n\n  function load_libs(css_urls, js_urls, js_modules, callback) {\n    if (css_urls == null) css_urls = [];\n    if (js_urls == null) js_urls = [];\n    if (js_modules == null) js_modules = [];\n\n    root._bokeh_onload_callbacks.push(callback);\n    if (root._bokeh_is_loading > 0) {\n      console.debug(\"Bokeh: BokehJS is being loaded, scheduling callback at\", now());\n      return null;\n    }\n    if (js_urls.length === 0 && js_modules.length === 0) {\n      run_callbacks();\n      return null;\n    }\n    console.debug(\"Bokeh: BokehJS not loaded, scheduling load and callback at\", now());\n\n    function on_load() {\n      root._bokeh_is_loading--;\n      if (root._bokeh_is_loading === 0) {\n        console.debug(\"Bokeh: all BokehJS libraries/stylesheets loaded\");\n        run_callbacks()\n      }\n    }\n\n    function on_error() {\n      console.error(\"failed to load \" + url);\n    }\n\n    for (var i = 0; i < css_urls.length; i++) {\n      var url = css_urls[i];\n      const element = document.createElement(\"link\");\n      element.onload = on_load;\n      element.onerror = on_error;\n      element.rel = \"stylesheet\";\n      element.type = \"text/css\";\n      element.href = url;\n      console.debug(\"Bokeh: injecting link tag for BokehJS stylesheet: \", url);\n      document.body.appendChild(element);\n    }\n\n    var skip = [];\n    if (window.requirejs) {\n      window.requirejs.config({'packages': {}, 'paths': {'ace': '//cdnjs.cloudflare.com/ajax/libs/ace/1.4.7', 'gridstack': 'https://cdn.jsdelivr.net/npm/gridstack@4.2.5/dist/gridstack-h5', 'notyf': 'https://cdn.jsdelivr.net/npm/notyf@3/notyf.min'}, 'shim': {'ace/ext-language_tools': {'deps': ['ace/ace']}, 'ace/ext-modelist': {'deps': ['ace/ace']}, 'gridstack': {'exports': 'GridStack'}}});\n      require([\"ace/ace\"], function(ace) {\n\twindow.ace = ace\n\ton_load()\n      })\n      require([\"ace/ext-language_tools\"], function() {\n\ton_load()\n      })\n      require([\"ace/ext-modelist\"], function() {\n\ton_load()\n      })\n      require([\"gridstack\"], function(GridStack) {\n\twindow.GridStack = GridStack\n\ton_load()\n      })\n      require([\"notyf\"], function() {\n\ton_load()\n      })\n      root._bokeh_is_loading = css_urls.length + 5;\n    } else {\n      root._bokeh_is_loading = css_urls.length + js_urls.length + js_modules.length;\n    }    if (((window['ace'] !== undefined) && (!(window['ace'] instanceof HTMLElement))) || window.requirejs) {\n      var urls = ['https://cdnjs.cloudflare.com/ajax/libs/ace/1.4.11/ace.js', 'https://cdnjs.cloudflare.com/ajax/libs/ace/1.4.11/ext-language_tools.js', 'https://cdnjs.cloudflare.com/ajax/libs/ace/1.4.11/ext-modelist.js'];\n      for (var i = 0; i < urls.length; i++) {\n        skip.push(urls[i])\n      }\n    }    if (((window['GridStack'] !== undefined) && (!(window['GridStack'] instanceof HTMLElement))) || window.requirejs) {\n      var urls = ['https://cdn.holoviz.org/panel/0.14.4/dist/bundled/gridstack/gridstack@4.2.5/dist/gridstack-h5.js'];\n      for (var i = 0; i < urls.length; i++) {\n        skip.push(urls[i])\n      }\n    }    if (((window['Notyf'] !== undefined) && (!(window['Notyf'] instanceof HTMLElement))) || window.requirejs) {\n      var urls = ['https://cdn.holoviz.org/panel/0.14.4/dist/bundled/notificationarea/notyf@3/notyf.min.js'];\n      for (var i = 0; i < urls.length; i++) {\n        skip.push(urls[i])\n      }\n    }    for (var i = 0; i < js_urls.length; i++) {\n      var url = js_urls[i];\n      if (skip.indexOf(url) >= 0) {\n\tif (!window.requirejs) {\n\t  on_load();\n\t}\n\tcontinue;\n      }\n      var element = document.createElement('script');\n      element.onload = on_load;\n      element.onerror = on_error;\n      element.async = false;\n      element.src = url;\n      console.debug(\"Bokeh: injecting script tag for BokehJS library: \", url);\n      document.head.appendChild(element);\n    }\n    for (var i = 0; i < js_modules.length; i++) {\n      var url = js_modules[i];\n      if (skip.indexOf(url) >= 0) {\n\tif (!window.requirejs) {\n\t  on_load();\n\t}\n\tcontinue;\n      }\n      var element = document.createElement('script');\n      element.onload = on_load;\n      element.onerror = on_error;\n      element.async = false;\n      element.src = url;\n      element.type = \"module\";\n      console.debug(\"Bokeh: injecting script tag for BokehJS library: \", url);\n      document.head.appendChild(element);\n    }\n    if (!js_urls.length && !js_modules.length) {\n      on_load()\n    }\n  };\n\n  function inject_raw_css(css) {\n    const element = document.createElement(\"style\");\n    element.appendChild(document.createTextNode(css));\n    document.body.appendChild(element);\n  }\n\n  var js_urls = [\"https://cdnjs.cloudflare.com/ajax/libs/ace/1.4.11/ace.js\", \"https://cdnjs.cloudflare.com/ajax/libs/ace/1.4.11/ext-language_tools.js\", \"https://cdnjs.cloudflare.com/ajax/libs/ace/1.4.11/ext-modelist.js\", \"https://cdn.bokeh.org/bokeh/release/bokeh-2.4.3.min.js\", \"https://cdn.bokeh.org/bokeh/release/bokeh-gl-2.4.3.min.js\", \"https://cdn.bokeh.org/bokeh/release/bokeh-widgets-2.4.3.min.js\", \"https://cdn.bokeh.org/bokeh/release/bokeh-tables-2.4.3.min.js\", \"https://cdn.bokeh.org/bokeh/release/bokeh-mathjax-2.4.3.min.js\", \"https://unpkg.com/@holoviz/panel@0.14.4/dist/panel.min.js\"];\n  var js_modules = [];\n  var css_urls = [\"https://cdn.holoviz.org/panel/0.14.4/dist/css/markdown.css\", \"https://cdn.holoviz.org/panel/0.14.4/dist/css/loading.css\", \"https://cdn.holoviz.org/panel/0.14.4/dist/css/json.css\", \"https://cdn.holoviz.org/panel/0.14.4/dist/css/alerts.css\", \"https://cdn.holoviz.org/panel/0.14.4/dist/css/dataframe.css\", \"https://cdn.holoviz.org/panel/0.14.4/dist/css/debugger.css\", \"https://cdn.holoviz.org/panel/0.14.4/dist/css/widgets.css\", \"https://cdn.holoviz.org/panel/0.14.4/dist/css/card.css\"];\n  var inline_js = [    function(Bokeh) {\n      inject_raw_css(\"/*\\n ~ CML // Creative Machine Learning ~\\n mml.css : CSS styling information for Panel and Bokeh\\n \\n This file defines the main CSS styling information for the CML course\\n \\n Author               :  Philippe Esling\\n                        <esling@ircam.fr>\\n*/\\n\\nbody {\\n  display: flex;\\n  height: 100vh;\\n  margin: 0px;\\n  overflow-x: hidden;\\n  overflow-y: hidden;\\n}\\n\\n.bk-root .bk, .bk-root .bk:before, .bk-root .bk:after {\\n  font-family: \\\"Josefin Sans\\\";\\n}\\n\\nimg {\\n  max-width: 100%;\\n}\\n\\n#container {\\n  padding:0px;\\n  height:100vh;\\n  width: 100vw;\\n  max-width: 100vw;\\n}\\n\\n#sidebar .mdc-list {\\n  padding-left: 5px;\\n  padding-right: 5px;\\n}\\n\\n.mdc-drawer-app-content {\\n  flex: auto;\\n  position: relative;\\n  overflow: hidden;\\n}\\n\\n.mdc-drawer {\\n  background: #FAFAFA; /* GRAY 50 */\\n}\\n\\n.mdc-drawer-app-content {\\n  margin-left: 0 !important;\\n}\\n\\n.title-bar {\\n  display: contents;\\n  justify-content: center;\\n  align-content: center;\\n  width: 100%;\\n}\\n\\n.mdc-top-app-bar .bk-menu {\\n  color: black\\n}\\n\\n.app-header {\\n  display: contents;\\n  padding-left: 10px;\\n  font-size: 1.25em;\\n}\\n\\nimg.app-logo {\\n  padding-right: 10px;\\n  font-size: 28px;\\n  height: 30px;\\n  max-width: inherit;\\n  padding-top: 12px;\\n  padding-bottom: 6px;\\n}\\n\\n#app-title {\\n  padding-right: 12px;\\n  padding-left: 12px;\\n}\\n\\n.title {\\n  font-family: \\\"Josefin Sans\\\";\\n  color: #fff;\\n  text-decoration: none;\\n  text-decoration-line: none;\\n  text-decoration-style: initial;\\n  text-decoration-color: initial;\\n  font-weight: 400;\\n  font-size: 2em;\\n  line-height: 2em;\\n  white-space: nowrap;\\n}\\n\\n.main-content {\\n  overflow-y: scroll;\\n  overflow-x: auto;\\n}\\n\\n#header {\\n  position: absolute;\\n  z-index: 7;\\n}\\n\\n#header-items {\\n  width: 100%;\\n  margin-left:15px;\\n}\\n\\n.pn-busy-container {\\n  align-items: center;\\n  justify-content: center;\\n  display: flex;\\n}\\n\\n.mdc-drawer__content {\\n  overflow-x: hidden;\\n}\\n.mdc-drawer__content, .main-content {\\n  padding: 12px;\\n}\\n\\n.main-content {\\n  height: calc(100vh - 88px);\\n  max-height: calc(100vh - 88px);\\n  padding-right: 32px;\\n}\\n\\nbutton.mdc-button.mdc-card-button {\\n  color: transparent;\\n  height: 50px;\\n}\\n\\np.bk.mdc-button {\\n  display: none;\\n}\\n\\ndiv.bk.mdc-card {\\n  border-radius: 0px\\n}\\n\\n.mdc-card .bk.card-header {\\n  display: flex;\\n}\\n\\n.bk.mdc-card-title {\\n  font-family: \\\"Josefin Sans\\\";\\n  font-weight: bold;\\n  align-items: center;\\n  display: flex !important;\\n  position: relative !important;\\n}\\n\\n.bk.mdc-card-title:nth-child(2) {\\n  margin-left: -1.4em;\\n}\\n\\n.pn-modal {\\n  overflow-y: scroll;\\n  width: 100%;\\n  display: none;\\n  position: absolute;\\n  top: 0;\\n  left: 0;\\n}\\n\\n.pn-modal-content {\\n  font-family: \\\"Josefin Sans\\\";\\n  background-color: #0e0e0e;\\n  margin: auto;\\n  margin-top: 25px;\\n  margin-bottom: 25px;\\n  padding: 15px 20px 20px 20px;\\n  border: 1px solid #888;\\n  width: 80% !important;\\n}\\n\\n.pn-modal-close {\\n  position: absolute;\\n  right: 25px;\\n  z-index: 100;\\n}\\n\\n.pn-modal-close:hover,\\n.pn-modal-close:focus {\\n  color: #000;\\n  text-decoration: none;\\n  cursor: pointer;\\n}\\n\\n.custom_button_bokeh button.bk.bk-btn.bk-btn-default {\\n    font-size:48pt;\\n    background-color: #05b7ff;\\n    border-color: #05b7ff;\\n}\");\n    },    function(Bokeh) {\n      inject_raw_css(\"\\n    .bk.pn-loading.arc:before {\\n      background-image: url(\\\"data:image/svg+xml;base64,PHN2ZyB4bWxucz0iaHR0cDovL3d3dy53My5vcmcvMjAwMC9zdmciIHN0eWxlPSJtYXJnaW46IGF1dG87IGJhY2tncm91bmQ6IG5vbmU7IGRpc3BsYXk6IGJsb2NrOyBzaGFwZS1yZW5kZXJpbmc6IGF1dG87IiB2aWV3Qm94PSIwIDAgMTAwIDEwMCIgcHJlc2VydmVBc3BlY3RSYXRpbz0ieE1pZFlNaWQiPiAgPGNpcmNsZSBjeD0iNTAiIGN5PSI1MCIgZmlsbD0ibm9uZSIgc3Ryb2tlPSIjYzNjM2MzIiBzdHJva2Utd2lkdGg9IjEwIiByPSIzNSIgc3Ryb2tlLWRhc2hhcnJheT0iMTY0LjkzMzYxNDMxMzQ2NDE1IDU2Ljk3Nzg3MTQzNzgyMTM4Ij4gICAgPGFuaW1hdGVUcmFuc2Zvcm0gYXR0cmlidXRlTmFtZT0idHJhbnNmb3JtIiB0eXBlPSJyb3RhdGUiIHJlcGVhdENvdW50PSJpbmRlZmluaXRlIiBkdXI9IjFzIiB2YWx1ZXM9IjAgNTAgNTA7MzYwIDUwIDUwIiBrZXlUaW1lcz0iMDsxIj48L2FuaW1hdGVUcmFuc2Zvcm0+ICA8L2NpcmNsZT48L3N2Zz4=\\\");\\n      background-size: auto calc(min(50%, 400px));\\n    }\\n    \");\n    },    function(Bokeh) {\n      Bokeh.set_log_level(\"info\");\n    },\nfunction(Bokeh) {} // ensure no trailing comma for IE\n  ];\n\n  function run_inline_js() {\n    if ((root.Bokeh !== undefined) || (force === true)) {\n      for (var i = 0; i < inline_js.length; i++) {\n        inline_js[i].call(root, root.Bokeh);\n      }} else if (Date.now() < root._bokeh_timeout) {\n      setTimeout(run_inline_js, 100);\n    } else if (!root._bokeh_failed_load) {\n      console.log(\"Bokeh: BokehJS failed to load within specified timeout.\");\n      root._bokeh_failed_load = true;\n    }\n  }\n\n  if (root._bokeh_is_loading === 0) {\n    console.debug(\"Bokeh: BokehJS loaded, going straight to plotting\");\n    run_inline_js();\n  } else {\n    load_libs(css_urls, js_urls, js_modules, function() {\n      console.debug(\"Bokeh: BokehJS plotting callback run at\", now());\n      run_inline_js();\n    });\n  }\n}(window));"
     },
     "metadata": {},
     "output_type": "display_data"
    },
    {
     "data": {
      "application/javascript": [
       "\n",
       "if ((window.PyViz === undefined) || (window.PyViz instanceof HTMLElement)) {\n",
       "  window.PyViz = {comms: {}, comm_status:{}, kernels:{}, receivers: {}, plot_index: []}\n",
       "}\n",
       "\n",
       "\n",
       "    function JupyterCommManager() {\n",
       "    }\n",
       "\n",
       "    JupyterCommManager.prototype.register_target = function(plot_id, comm_id, msg_handler) {\n",
       "      if (window.comm_manager || ((window.Jupyter !== undefined) && (Jupyter.notebook.kernel != null))) {\n",
       "        var comm_manager = window.comm_manager || Jupyter.notebook.kernel.comm_manager;\n",
       "        comm_manager.register_target(comm_id, function(comm) {\n",
       "          comm.on_msg(msg_handler);\n",
       "        });\n",
       "      } else if ((plot_id in window.PyViz.kernels) && (window.PyViz.kernels[plot_id])) {\n",
       "        window.PyViz.kernels[plot_id].registerCommTarget(comm_id, function(comm) {\n",
       "          comm.onMsg = msg_handler;\n",
       "        });\n",
       "      } else if (typeof google != 'undefined' && google.colab.kernel != null) {\n",
       "        google.colab.kernel.comms.registerTarget(comm_id, (comm) => {\n",
       "          var messages = comm.messages[Symbol.asyncIterator]();\n",
       "          function processIteratorResult(result) {\n",
       "            var message = result.value;\n",
       "            console.log(message)\n",
       "            var content = {data: message.data, comm_id};\n",
       "            var buffers = []\n",
       "            for (var buffer of message.buffers || []) {\n",
       "              buffers.push(new DataView(buffer))\n",
       "            }\n",
       "            var metadata = message.metadata || {};\n",
       "            var msg = {content, buffers, metadata}\n",
       "            msg_handler(msg);\n",
       "            return messages.next().then(processIteratorResult);\n",
       "          }\n",
       "          return messages.next().then(processIteratorResult);\n",
       "        })\n",
       "      }\n",
       "    }\n",
       "\n",
       "    JupyterCommManager.prototype.get_client_comm = function(plot_id, comm_id, msg_handler) {\n",
       "      if (comm_id in window.PyViz.comms) {\n",
       "        return window.PyViz.comms[comm_id];\n",
       "      } else if (window.comm_manager || ((window.Jupyter !== undefined) && (Jupyter.notebook.kernel != null))) {\n",
       "        var comm_manager = window.comm_manager || Jupyter.notebook.kernel.comm_manager;\n",
       "        var comm = comm_manager.new_comm(comm_id, {}, {}, {}, comm_id);\n",
       "        if (msg_handler) {\n",
       "          comm.on_msg(msg_handler);\n",
       "        }\n",
       "      } else if ((plot_id in window.PyViz.kernels) && (window.PyViz.kernels[plot_id])) {\n",
       "        var comm = window.PyViz.kernels[plot_id].connectToComm(comm_id);\n",
       "        comm.open();\n",
       "        if (msg_handler) {\n",
       "          comm.onMsg = msg_handler;\n",
       "        }\n",
       "      } else if (typeof google != 'undefined' && google.colab.kernel != null) {\n",
       "        var comm_promise = google.colab.kernel.comms.open(comm_id)\n",
       "        comm_promise.then((comm) => {\n",
       "          window.PyViz.comms[comm_id] = comm;\n",
       "          if (msg_handler) {\n",
       "            var messages = comm.messages[Symbol.asyncIterator]();\n",
       "            function processIteratorResult(result) {\n",
       "              var message = result.value;\n",
       "              var content = {data: message.data};\n",
       "              var metadata = message.metadata || {comm_id};\n",
       "              var msg = {content, metadata}\n",
       "              msg_handler(msg);\n",
       "              return messages.next().then(processIteratorResult);\n",
       "            }\n",
       "            return messages.next().then(processIteratorResult);\n",
       "          }\n",
       "        }) \n",
       "        var sendClosure = (data, metadata, buffers, disposeOnDone) => {\n",
       "          return comm_promise.then((comm) => {\n",
       "            comm.send(data, metadata, buffers, disposeOnDone);\n",
       "          });\n",
       "        };\n",
       "        var comm = {\n",
       "          send: sendClosure\n",
       "        };\n",
       "      }\n",
       "      window.PyViz.comms[comm_id] = comm;\n",
       "      return comm;\n",
       "    }\n",
       "    window.PyViz.comm_manager = new JupyterCommManager();\n",
       "    \n",
       "\n",
       "\n",
       "var JS_MIME_TYPE = 'application/javascript';\n",
       "var HTML_MIME_TYPE = 'text/html';\n",
       "var EXEC_MIME_TYPE = 'application/vnd.holoviews_exec.v0+json';\n",
       "var CLASS_NAME = 'output';\n",
       "\n",
       "/**\n",
       " * Render data to the DOM node\n",
       " */\n",
       "function render(props, node) {\n",
       "  var div = document.createElement(\"div\");\n",
       "  var script = document.createElement(\"script\");\n",
       "  node.appendChild(div);\n",
       "  node.appendChild(script);\n",
       "}\n",
       "\n",
       "/**\n",
       " * Handle when a new output is added\n",
       " */\n",
       "function handle_add_output(event, handle) {\n",
       "  var output_area = handle.output_area;\n",
       "  var output = handle.output;\n",
       "  if ((output.data == undefined) || (!output.data.hasOwnProperty(EXEC_MIME_TYPE))) {\n",
       "    return\n",
       "  }\n",
       "  var id = output.metadata[EXEC_MIME_TYPE][\"id\"];\n",
       "  var toinsert = output_area.element.find(\".\" + CLASS_NAME.split(' ')[0]);\n",
       "  if (id !== undefined) {\n",
       "    var nchildren = toinsert.length;\n",
       "    var html_node = toinsert[nchildren-1].children[0];\n",
       "    html_node.innerHTML = output.data[HTML_MIME_TYPE];\n",
       "    var scripts = [];\n",
       "    var nodelist = html_node.querySelectorAll(\"script\");\n",
       "    for (var i in nodelist) {\n",
       "      if (nodelist.hasOwnProperty(i)) {\n",
       "        scripts.push(nodelist[i])\n",
       "      }\n",
       "    }\n",
       "\n",
       "    scripts.forEach( function (oldScript) {\n",
       "      var newScript = document.createElement(\"script\");\n",
       "      var attrs = [];\n",
       "      var nodemap = oldScript.attributes;\n",
       "      for (var j in nodemap) {\n",
       "        if (nodemap.hasOwnProperty(j)) {\n",
       "          attrs.push(nodemap[j])\n",
       "        }\n",
       "      }\n",
       "      attrs.forEach(function(attr) { newScript.setAttribute(attr.name, attr.value) });\n",
       "      newScript.appendChild(document.createTextNode(oldScript.innerHTML));\n",
       "      oldScript.parentNode.replaceChild(newScript, oldScript);\n",
       "    });\n",
       "    if (JS_MIME_TYPE in output.data) {\n",
       "      toinsert[nchildren-1].children[1].textContent = output.data[JS_MIME_TYPE];\n",
       "    }\n",
       "    output_area._hv_plot_id = id;\n",
       "    if ((window.Bokeh !== undefined) && (id in Bokeh.index)) {\n",
       "      window.PyViz.plot_index[id] = Bokeh.index[id];\n",
       "    } else {\n",
       "      window.PyViz.plot_index[id] = null;\n",
       "    }\n",
       "  } else if (output.metadata[EXEC_MIME_TYPE][\"server_id\"] !== undefined) {\n",
       "    var bk_div = document.createElement(\"div\");\n",
       "    bk_div.innerHTML = output.data[HTML_MIME_TYPE];\n",
       "    var script_attrs = bk_div.children[0].attributes;\n",
       "    for (var i = 0; i < script_attrs.length; i++) {\n",
       "      toinsert[toinsert.length - 1].childNodes[1].setAttribute(script_attrs[i].name, script_attrs[i].value);\n",
       "    }\n",
       "    // store reference to server id on output_area\n",
       "    output_area._bokeh_server_id = output.metadata[EXEC_MIME_TYPE][\"server_id\"];\n",
       "  }\n",
       "}\n",
       "\n",
       "/**\n",
       " * Handle when an output is cleared or removed\n",
       " */\n",
       "function handle_clear_output(event, handle) {\n",
       "  var id = handle.cell.output_area._hv_plot_id;\n",
       "  var server_id = handle.cell.output_area._bokeh_server_id;\n",
       "  if (((id === undefined) || !(id in PyViz.plot_index)) && (server_id !== undefined)) { return; }\n",
       "  var comm = window.PyViz.comm_manager.get_client_comm(\"hv-extension-comm\", \"hv-extension-comm\", function () {});\n",
       "  if (server_id !== null) {\n",
       "    comm.send({event_type: 'server_delete', 'id': server_id});\n",
       "    return;\n",
       "  } else if (comm !== null) {\n",
       "    comm.send({event_type: 'delete', 'id': id});\n",
       "  }\n",
       "  delete PyViz.plot_index[id];\n",
       "  if ((window.Bokeh !== undefined) & (id in window.Bokeh.index)) {\n",
       "    var doc = window.Bokeh.index[id].model.document\n",
       "    doc.clear();\n",
       "    const i = window.Bokeh.documents.indexOf(doc);\n",
       "    if (i > -1) {\n",
       "      window.Bokeh.documents.splice(i, 1);\n",
       "    }\n",
       "  }\n",
       "}\n",
       "\n",
       "/**\n",
       " * Handle kernel restart event\n",
       " */\n",
       "function handle_kernel_cleanup(event, handle) {\n",
       "  delete PyViz.comms[\"hv-extension-comm\"];\n",
       "  window.PyViz.plot_index = {}\n",
       "}\n",
       "\n",
       "/**\n",
       " * Handle update_display_data messages\n",
       " */\n",
       "function handle_update_output(event, handle) {\n",
       "  handle_clear_output(event, {cell: {output_area: handle.output_area}})\n",
       "  handle_add_output(event, handle)\n",
       "}\n",
       "\n",
       "function register_renderer(events, OutputArea) {\n",
       "  function append_mime(data, metadata, element) {\n",
       "    // create a DOM node to render to\n",
       "    var toinsert = this.create_output_subarea(\n",
       "    metadata,\n",
       "    CLASS_NAME,\n",
       "    EXEC_MIME_TYPE\n",
       "    );\n",
       "    this.keyboard_manager.register_events(toinsert);\n",
       "    // Render to node\n",
       "    var props = {data: data, metadata: metadata[EXEC_MIME_TYPE]};\n",
       "    render(props, toinsert[0]);\n",
       "    element.append(toinsert);\n",
       "    return toinsert\n",
       "  }\n",
       "\n",
       "  events.on('output_added.OutputArea', handle_add_output);\n",
       "  events.on('output_updated.OutputArea', handle_update_output);\n",
       "  events.on('clear_output.CodeCell', handle_clear_output);\n",
       "  events.on('delete.Cell', handle_clear_output);\n",
       "  events.on('kernel_ready.Kernel', handle_kernel_cleanup);\n",
       "\n",
       "  OutputArea.prototype.register_mime_type(EXEC_MIME_TYPE, append_mime, {\n",
       "    safe: true,\n",
       "    index: 0\n",
       "  });\n",
       "}\n",
       "\n",
       "if (window.Jupyter !== undefined) {\n",
       "  try {\n",
       "    var events = require('base/js/events');\n",
       "    var OutputArea = require('notebook/js/outputarea').OutputArea;\n",
       "    if (OutputArea.prototype.mime_types().indexOf(EXEC_MIME_TYPE) == -1) {\n",
       "      register_renderer(events, OutputArea);\n",
       "    }\n",
       "  } catch(err) {\n",
       "  }\n",
       "}\n"
      ],
      "application/vnd.holoviews_load.v0+json": "\nif ((window.PyViz === undefined) || (window.PyViz instanceof HTMLElement)) {\n  window.PyViz = {comms: {}, comm_status:{}, kernels:{}, receivers: {}, plot_index: []}\n}\n\n\n    function JupyterCommManager() {\n    }\n\n    JupyterCommManager.prototype.register_target = function(plot_id, comm_id, msg_handler) {\n      if (window.comm_manager || ((window.Jupyter !== undefined) && (Jupyter.notebook.kernel != null))) {\n        var comm_manager = window.comm_manager || Jupyter.notebook.kernel.comm_manager;\n        comm_manager.register_target(comm_id, function(comm) {\n          comm.on_msg(msg_handler);\n        });\n      } else if ((plot_id in window.PyViz.kernels) && (window.PyViz.kernels[plot_id])) {\n        window.PyViz.kernels[plot_id].registerCommTarget(comm_id, function(comm) {\n          comm.onMsg = msg_handler;\n        });\n      } else if (typeof google != 'undefined' && google.colab.kernel != null) {\n        google.colab.kernel.comms.registerTarget(comm_id, (comm) => {\n          var messages = comm.messages[Symbol.asyncIterator]();\n          function processIteratorResult(result) {\n            var message = result.value;\n            console.log(message)\n            var content = {data: message.data, comm_id};\n            var buffers = []\n            for (var buffer of message.buffers || []) {\n              buffers.push(new DataView(buffer))\n            }\n            var metadata = message.metadata || {};\n            var msg = {content, buffers, metadata}\n            msg_handler(msg);\n            return messages.next().then(processIteratorResult);\n          }\n          return messages.next().then(processIteratorResult);\n        })\n      }\n    }\n\n    JupyterCommManager.prototype.get_client_comm = function(plot_id, comm_id, msg_handler) {\n      if (comm_id in window.PyViz.comms) {\n        return window.PyViz.comms[comm_id];\n      } else if (window.comm_manager || ((window.Jupyter !== undefined) && (Jupyter.notebook.kernel != null))) {\n        var comm_manager = window.comm_manager || Jupyter.notebook.kernel.comm_manager;\n        var comm = comm_manager.new_comm(comm_id, {}, {}, {}, comm_id);\n        if (msg_handler) {\n          comm.on_msg(msg_handler);\n        }\n      } else if ((plot_id in window.PyViz.kernels) && (window.PyViz.kernels[plot_id])) {\n        var comm = window.PyViz.kernels[plot_id].connectToComm(comm_id);\n        comm.open();\n        if (msg_handler) {\n          comm.onMsg = msg_handler;\n        }\n      } else if (typeof google != 'undefined' && google.colab.kernel != null) {\n        var comm_promise = google.colab.kernel.comms.open(comm_id)\n        comm_promise.then((comm) => {\n          window.PyViz.comms[comm_id] = comm;\n          if (msg_handler) {\n            var messages = comm.messages[Symbol.asyncIterator]();\n            function processIteratorResult(result) {\n              var message = result.value;\n              var content = {data: message.data};\n              var metadata = message.metadata || {comm_id};\n              var msg = {content, metadata}\n              msg_handler(msg);\n              return messages.next().then(processIteratorResult);\n            }\n            return messages.next().then(processIteratorResult);\n          }\n        }) \n        var sendClosure = (data, metadata, buffers, disposeOnDone) => {\n          return comm_promise.then((comm) => {\n            comm.send(data, metadata, buffers, disposeOnDone);\n          });\n        };\n        var comm = {\n          send: sendClosure\n        };\n      }\n      window.PyViz.comms[comm_id] = comm;\n      return comm;\n    }\n    window.PyViz.comm_manager = new JupyterCommManager();\n    \n\n\nvar JS_MIME_TYPE = 'application/javascript';\nvar HTML_MIME_TYPE = 'text/html';\nvar EXEC_MIME_TYPE = 'application/vnd.holoviews_exec.v0+json';\nvar CLASS_NAME = 'output';\n\n/**\n * Render data to the DOM node\n */\nfunction render(props, node) {\n  var div = document.createElement(\"div\");\n  var script = document.createElement(\"script\");\n  node.appendChild(div);\n  node.appendChild(script);\n}\n\n/**\n * Handle when a new output is added\n */\nfunction handle_add_output(event, handle) {\n  var output_area = handle.output_area;\n  var output = handle.output;\n  if ((output.data == undefined) || (!output.data.hasOwnProperty(EXEC_MIME_TYPE))) {\n    return\n  }\n  var id = output.metadata[EXEC_MIME_TYPE][\"id\"];\n  var toinsert = output_area.element.find(\".\" + CLASS_NAME.split(' ')[0]);\n  if (id !== undefined) {\n    var nchildren = toinsert.length;\n    var html_node = toinsert[nchildren-1].children[0];\n    html_node.innerHTML = output.data[HTML_MIME_TYPE];\n    var scripts = [];\n    var nodelist = html_node.querySelectorAll(\"script\");\n    for (var i in nodelist) {\n      if (nodelist.hasOwnProperty(i)) {\n        scripts.push(nodelist[i])\n      }\n    }\n\n    scripts.forEach( function (oldScript) {\n      var newScript = document.createElement(\"script\");\n      var attrs = [];\n      var nodemap = oldScript.attributes;\n      for (var j in nodemap) {\n        if (nodemap.hasOwnProperty(j)) {\n          attrs.push(nodemap[j])\n        }\n      }\n      attrs.forEach(function(attr) { newScript.setAttribute(attr.name, attr.value) });\n      newScript.appendChild(document.createTextNode(oldScript.innerHTML));\n      oldScript.parentNode.replaceChild(newScript, oldScript);\n    });\n    if (JS_MIME_TYPE in output.data) {\n      toinsert[nchildren-1].children[1].textContent = output.data[JS_MIME_TYPE];\n    }\n    output_area._hv_plot_id = id;\n    if ((window.Bokeh !== undefined) && (id in Bokeh.index)) {\n      window.PyViz.plot_index[id] = Bokeh.index[id];\n    } else {\n      window.PyViz.plot_index[id] = null;\n    }\n  } else if (output.metadata[EXEC_MIME_TYPE][\"server_id\"] !== undefined) {\n    var bk_div = document.createElement(\"div\");\n    bk_div.innerHTML = output.data[HTML_MIME_TYPE];\n    var script_attrs = bk_div.children[0].attributes;\n    for (var i = 0; i < script_attrs.length; i++) {\n      toinsert[toinsert.length - 1].childNodes[1].setAttribute(script_attrs[i].name, script_attrs[i].value);\n    }\n    // store reference to server id on output_area\n    output_area._bokeh_server_id = output.metadata[EXEC_MIME_TYPE][\"server_id\"];\n  }\n}\n\n/**\n * Handle when an output is cleared or removed\n */\nfunction handle_clear_output(event, handle) {\n  var id = handle.cell.output_area._hv_plot_id;\n  var server_id = handle.cell.output_area._bokeh_server_id;\n  if (((id === undefined) || !(id in PyViz.plot_index)) && (server_id !== undefined)) { return; }\n  var comm = window.PyViz.comm_manager.get_client_comm(\"hv-extension-comm\", \"hv-extension-comm\", function () {});\n  if (server_id !== null) {\n    comm.send({event_type: 'server_delete', 'id': server_id});\n    return;\n  } else if (comm !== null) {\n    comm.send({event_type: 'delete', 'id': id});\n  }\n  delete PyViz.plot_index[id];\n  if ((window.Bokeh !== undefined) & (id in window.Bokeh.index)) {\n    var doc = window.Bokeh.index[id].model.document\n    doc.clear();\n    const i = window.Bokeh.documents.indexOf(doc);\n    if (i > -1) {\n      window.Bokeh.documents.splice(i, 1);\n    }\n  }\n}\n\n/**\n * Handle kernel restart event\n */\nfunction handle_kernel_cleanup(event, handle) {\n  delete PyViz.comms[\"hv-extension-comm\"];\n  window.PyViz.plot_index = {}\n}\n\n/**\n * Handle update_display_data messages\n */\nfunction handle_update_output(event, handle) {\n  handle_clear_output(event, {cell: {output_area: handle.output_area}})\n  handle_add_output(event, handle)\n}\n\nfunction register_renderer(events, OutputArea) {\n  function append_mime(data, metadata, element) {\n    // create a DOM node to render to\n    var toinsert = this.create_output_subarea(\n    metadata,\n    CLASS_NAME,\n    EXEC_MIME_TYPE\n    );\n    this.keyboard_manager.register_events(toinsert);\n    // Render to node\n    var props = {data: data, metadata: metadata[EXEC_MIME_TYPE]};\n    render(props, toinsert[0]);\n    element.append(toinsert);\n    return toinsert\n  }\n\n  events.on('output_added.OutputArea', handle_add_output);\n  events.on('output_updated.OutputArea', handle_update_output);\n  events.on('clear_output.CodeCell', handle_clear_output);\n  events.on('delete.Cell', handle_clear_output);\n  events.on('kernel_ready.Kernel', handle_kernel_cleanup);\n\n  OutputArea.prototype.register_mime_type(EXEC_MIME_TYPE, append_mime, {\n    safe: true,\n    index: 0\n  });\n}\n\nif (window.Jupyter !== undefined) {\n  try {\n    var events = require('base/js/events');\n    var OutputArea = require('notebook/js/outputarea').OutputArea;\n    if (OutputArea.prototype.mime_types().indexOf(EXEC_MIME_TYPE) == -1) {\n      register_renderer(events, OutputArea);\n    }\n  } catch(err) {\n  }\n}\n"
     },
     "metadata": {},
     "output_type": "display_data"
    },
    {
     "data": {
      "text/html": [
       "<style>.bk-root, .bk-root .bk:before, .bk-root .bk:after {\n",
       "  font-family: var(--jp-ui-font-size1);\n",
       "  font-size: var(--jp-ui-font-size1);\n",
       "  color: var(--jp-ui-font-color1);\n",
       "}\n",
       "</style>"
      ]
     },
     "metadata": {},
     "output_type": "display_data"
    }
   ],
   "source": [
    "# Base imports\n",
    "import numpy as np\n",
    "import matplotlib.pyplot as plt\n",
    "from cml.plot import initialize_bokeh\n",
    "from cml.panel import initialize_panel\n",
    "from jupyterthemes.stylefx import set_nb_theme\n",
    "from bokeh.io import show\n",
    "initialize_bokeh()\n",
    "initialize_panel()\n",
    "set_nb_theme(\"onedork\")\n",
    "rng = np.random.RandomState(1)"
   ]
  },
  {
   "cell_type": "markdown",
   "metadata": {},
   "source": [
    "<a id=\"regression\"></a>\n",
    "## Simple learning problem\n",
    "\n",
    "Imagine that a certain process somewhere follows the form of a quadratic relationship\n",
    "\n",
    "$$\n",
    " y = a x^{2} + bx + c \n",
    "$$\n",
    "\n",
    "In this case, all the **unknown parameters** are that of a polynomial model, therefore we have $\\theta = \\{a, b, c\\}$. However, this is clearly an ideal (clean) case, whereas in natural observations, there might be some noise in our observations\n",
    "$$\n",
    " y = a x^{2} + bx + c +\\epsilon \\quad \\mbox{with} \\quad \\epsilon \\in [-0.1, 0.1]\n",
    "$$\n",
    "\n",
    "An example of such noisy observations for different parameters is given below"
   ]
  },
  {
   "cell_type": "code",
   "execution_count": 4,
   "metadata": {
    "ExecuteTime": {
     "end_time": "2023-05-01T13:10:02.904464Z",
     "start_time": "2023-05-01T13:10:02.893168Z"
    }
   },
   "outputs": [],
   "source": [
    "# Parameters to our function\n",
    "eps = 0.1\n",
    "a, b, c = 3, 0, 1\n",
    "# Generating the corresponding data\n",
    "x = np.linspace(0, 1, 100)\n",
    "poly = np.poly1d([a, b, c])\n",
    "epsilon = np.random.uniform(-eps, eps, x.shape)\n",
    "y = poly(x) + epsilon"
   ]
  },
  {
   "cell_type": "code",
   "execution_count": 5,
   "metadata": {
    "ExecuteTime": {
     "end_time": "2023-05-01T13:10:04.253482Z",
     "start_time": "2023-05-01T13:10:04.119412Z"
    }
   },
   "outputs": [
    {
     "data": {},
     "metadata": {},
     "output_type": "display_data"
    },
    {
     "data": {
      "application/vnd.holoviews_exec.v0+json": "",
      "text/html": [
       "<div id='1132'>\n",
       "  <div class=\"bk-root\" id=\"8507cc5f-1796-4d64-850f-11fb832547ae\" data-root-id=\"1132\"></div>\n",
       "</div>\n",
       "<script type=\"application/javascript\">(function(root) {\n",
       "  function embed_document(root) {\n",
       "    var docs_json = {\"efa374ce-2e0e-450c-925e-111e849975f4\":{\"defs\":[{\"extends\":null,\"module\":null,\"name\":\"ReactiveHTML1\",\"overrides\":[],\"properties\":[]},{\"extends\":null,\"module\":null,\"name\":\"FlexBox1\",\"overrides\":[],\"properties\":[{\"default\":\"flex-start\",\"kind\":null,\"name\":\"align_content\"},{\"default\":\"flex-start\",\"kind\":null,\"name\":\"align_items\"},{\"default\":\"row\",\"kind\":null,\"name\":\"flex_direction\"},{\"default\":\"wrap\",\"kind\":null,\"name\":\"flex_wrap\"},{\"default\":\"flex-start\",\"kind\":null,\"name\":\"justify_content\"}]},{\"extends\":null,\"module\":null,\"name\":\"GridStack1\",\"overrides\":[],\"properties\":[{\"default\":\"warn\",\"kind\":null,\"name\":\"mode\"},{\"default\":null,\"kind\":null,\"name\":\"ncols\"},{\"default\":null,\"kind\":null,\"name\":\"nrows\"},{\"default\":true,\"kind\":null,\"name\":\"allow_resize\"},{\"default\":true,\"kind\":null,\"name\":\"allow_drag\"},{\"default\":[],\"kind\":null,\"name\":\"state\"}]},{\"extends\":null,\"module\":null,\"name\":\"click1\",\"overrides\":[],\"properties\":[{\"default\":\"\",\"kind\":null,\"name\":\"terminal_output\"},{\"default\":\"\",\"kind\":null,\"name\":\"debug_name\"},{\"default\":0,\"kind\":null,\"name\":\"clears\"}]},{\"extends\":null,\"module\":null,\"name\":\"NotificationAreaBase1\",\"overrides\":[],\"properties\":[{\"default\":\"bottom-right\",\"kind\":null,\"name\":\"position\"},{\"default\":0,\"kind\":null,\"name\":\"_clear\"}]},{\"extends\":null,\"module\":null,\"name\":\"NotificationArea1\",\"overrides\":[],\"properties\":[{\"default\":[],\"kind\":null,\"name\":\"notifications\"},{\"default\":\"bottom-right\",\"kind\":null,\"name\":\"position\"},{\"default\":0,\"kind\":null,\"name\":\"_clear\"},{\"default\":[{\"background\":\"#ffc107\",\"icon\":{\"className\":\"fas fa-exclamation-triangle\",\"color\":\"white\",\"tagName\":\"i\"},\"type\":\"warning\"},{\"background\":\"#007bff\",\"icon\":{\"className\":\"fas fa-info-circle\",\"color\":\"white\",\"tagName\":\"i\"},\"type\":\"info\"}],\"kind\":null,\"name\":\"types\"}]},{\"extends\":null,\"module\":null,\"name\":\"Notification\",\"overrides\":[],\"properties\":[{\"default\":null,\"kind\":null,\"name\":\"background\"},{\"default\":3000,\"kind\":null,\"name\":\"duration\"},{\"default\":null,\"kind\":null,\"name\":\"icon\"},{\"default\":\"\",\"kind\":null,\"name\":\"message\"},{\"default\":null,\"kind\":null,\"name\":\"notification_type\"},{\"default\":false,\"kind\":null,\"name\":\"_destroyed\"}]},{\"extends\":null,\"module\":null,\"name\":\"TemplateActions1\",\"overrides\":[],\"properties\":[{\"default\":0,\"kind\":null,\"name\":\"open_modal\"},{\"default\":0,\"kind\":null,\"name\":\"close_modal\"}]},{\"extends\":null,\"module\":null,\"name\":\"MaterialTemplateActions1\",\"overrides\":[],\"properties\":[{\"default\":0,\"kind\":null,\"name\":\"open_modal\"},{\"default\":0,\"kind\":null,\"name\":\"close_modal\"}]}],\"roots\":{\"references\":[{\"attributes\":{\"overlay\":{\"id\":\"1099\"}},\"id\":\"1095\",\"type\":\"BoxZoomTool\"},{\"attributes\":{},\"id\":\"1077\",\"type\":\"DataRange1d\"},{\"attributes\":{\"tools\":[{\"id\":\"1093\"},{\"id\":\"1094\"},{\"id\":\"1095\"},{\"id\":\"1096\"},{\"id\":\"1097\"},{\"id\":\"1098\"},{\"id\":\"1126\"},{\"id\":\"1130\"}]},\"id\":\"1100\",\"type\":\"Toolbar\"},{\"attributes\":{\"label\":{\"value\":\"Observations\"},\"renderers\":[{\"id\":\"1112\"}]},\"id\":\"1125\",\"type\":\"LegendItem\"},{\"attributes\":{\"margin\":[5,5,5,5],\"name\":\"HSpacer00101\",\"sizing_mode\":\"stretch_width\"},\"id\":\"1133\",\"type\":\"Spacer\"},{\"attributes\":{\"callback\":null,\"mode\":\"vline\",\"renderers\":[{\"id\":\"1112\"}],\"tooltips\":null},\"id\":\"1126\",\"type\":\"HoverTool\"},{\"attributes\":{},\"id\":\"1094\",\"type\":\"WheelZoomTool\"},{\"attributes\":{\"axis\":{\"id\":\"1085\"},\"coordinates\":null,\"grid_line_alpha\":0.15,\"grid_line_color\":\"#E0E0E0\",\"group\":null,\"ticker\":null},\"id\":\"1088\",\"type\":\"Grid\"},{\"attributes\":{},\"id\":\"1083\",\"type\":\"LinearScale\"},{\"attributes\":{\"fill_alpha\":{\"value\":0.2},\"fill_color\":{\"value\":\"midnightblue\"},\"hatch_alpha\":{\"value\":0.2},\"line_alpha\":{\"value\":0.2},\"line_color\":{\"value\":\"white\"},\"size\":{\"value\":10},\"x\":{\"field\":\"x\"},\"y\":{\"field\":\"y\"}},\"id\":\"1111\",\"type\":\"Circle\"},{\"attributes\":{},\"id\":\"1081\",\"type\":\"LinearScale\"},{\"attributes\":{},\"id\":\"1090\",\"type\":\"BasicTicker\"},{\"attributes\":{\"axis\":{\"id\":\"1089\"},\"coordinates\":null,\"dimension\":1,\"grid_line_alpha\":0.15,\"grid_line_color\":\"#E0E0E0\",\"group\":null,\"ticker\":null},\"id\":\"1092\",\"type\":\"Grid\"},{\"attributes\":{\"fill_alpha\":{\"value\":0.5},\"fill_color\":{\"value\":\"red\"},\"hatch_alpha\":{\"value\":0.5},\"line_alpha\":{\"value\":0.5},\"line_color\":{\"value\":\"white\"},\"size\":{\"value\":10},\"x\":{\"field\":\"x\"},\"y\":{\"field\":\"y\"}},\"id\":\"1110\",\"type\":\"Circle\"},{\"attributes\":{},\"id\":\"1086\",\"type\":\"BasicTicker\"},{\"attributes\":{},\"id\":\"1079\",\"type\":\"DataRange1d\"},{\"attributes\":{\"data\":{\"x\":{\"__ndarray__\":\"AAAAAAAAAABbv1Kg1q+EP1u/UqDWr5Q/CB988MEHnz9bv1Kg1q+kPzJvZ0jM26k/CB988MEHrz9wZ0jM2xmyP1u/UqDWr7Q/RhdddNFFtz8yb2dIzNu5Px3HcRzHcbw/CB988MEHvz96O0Ni3s7AP3BnSMzbGcI/ZZNNNtlkwz9bv1Kg1q/EP1HrVwrU+sU/RhdddNFFxz88Q2LezpDIPzJvZ0jM28k/J5tssskmyz8dx3Ecx3HMPxPzdobEvM0/CB988MEHzz9/pUCtXynQP3o7Q2LeztA/ddFFF1100T9wZ0jM2xnSP2r9SoFav9I/ZZNNNtlk0z9gKVDrVwrUP1u/UqDWr9Q/VlVVVVVV1T9R61cK1PrVP0yBWr9SoNY/RhdddNFF1z9BrV8pUOvXPzxDYt7OkNg/N9lkk0022T8yb2dIzNvZPy0Fav1Kgdo/J5tssskm2z8iMW9nSMzbPx3HcRzHcdw/GF100UUX3T8T83aGxLzdPw6JeTtDYt4/CB988MEH3z8DtX6lQK3fP3+lQK1fKeA/ffDBBx984D96O0Ni3s7gP3eGxLydIeE/ddFFF1104T9yHMdxHMfhP3BnSMzbGeI/bbLJJpts4j9q/UqBWr/iP2hIzNsZEuM/ZZNNNtlk4z9j3s6QmLfjP2ApUOtXCuQ/XnTRRRdd5D9bv1Kg1q/kP1gK1PqVAuU/VlVVVVVV5T9ToNavFKjlP1HrVwrU+uU/TjbZZJNN5j9MgVq/UqDmP0nM2xkS8+Y/RhdddNFF5z9EYt7OkJjnP0GtXylQ6+c/P/jggw8+6D88Q2LezpDoPzmO4ziO4+g/N9lkk0026T80JObtDInpPzJvZ0jM2+k/L7rooosu6j8tBWr9SoHqPypQ61cK1Oo/J5tssskm6z8l5u0MiXnrPyIxb2dIzOs/IHzwwQcf7D8dx3Ecx3HsPxsS83aGxOw/GF100UUX7T8VqPUrBWrtPxPzdobEvO0/ED744IMP7j8OiXk7Q2LuPwvU+pUCte4/CB988MEH7z8Gav1KgVrvPwO1fqVAre8/AAAAAAAA8D8=\",\"dtype\":\"float64\",\"order\":\"little\",\"shape\":[100]},\"y\":{\"__ndarray__\":\"ReCZAp227z/gu/m5Iy/tPw/TzdsNDPA/CXOBmX+T8D9g3NowmO/tP8EI7FfzUO8/AtaQeFKQ8D/xFpLZxoDwP3RCcYTDHvE//hRJAcnV8D+A3FUdr1XwP8r7Ti7hOPE/QOEuqgGp8T+NURh53G/wP/98+2ywPPA/VMR45Z9y7z++HXG7dFDxP2jBMRohxvI/64Mr8K+98T+PhupcZkDzP0Pa/JhT2fA/aHehj08L8j+eFGO1WrzxP9ALk/HkmvE/njO//as58T/tSk78FNTxP2V9jEPZWfQ/P9PS/0tM9D8P3wgHEOH0PyHEfVwuavQ/x47K6Kbi9D/X+21NI0X2Py3k3nygh/M/vjc8Z2VN9T+YmCHwcxv1Pxwb/kEG8fQ/FvMq/w889T8+XXvL3CX1PyZDPp8uf/U/rDLY8MQH9z8EHJd22TT4P9cWoNJJS/g/nUeOxioR+T9rOE3+J8f3P+s7u2tkcvo/1e1Oo72m+j+nXXUQQyb6PyxANRpx4vo/nLosrvmM/D+zkWrBQ1j6P0nEPkcLOPw/mAeU0zp0+z/eiPY9gaX8PxjYTDlvEv4/SRYVpDS0/z8UfFIZdfb+P71lzQDI/P4/REYZYaYqAEBEhDGdsNv/P3CmfhPwOAFADEAY0Z1lAEDC5d+LVusAQMem8UNeNgJA3idNC3EEAUB6XP/zuYgBQPw5BcwTTwJAsvVQJ52GAkACo1PhIpADQFFIDA0cuwNAwWb4mwoBA0A6EuWRjw0EQMeAc0lx8ARAaDFDJxLEBEAMLRtsUccFQNSACTFwHwVAdyFN1q0QBUB2+Y5y8MwGQKRwuijBxgVAxle6GZzRBkDdCTL60MYGQEcXpo3NKgdAZd+7adZyCECMtWquTq8IQNeFAN2oCQlAwf8c0ueUCECEufuB05gJQEILWTcjfwlAGOuRlzneCUApChpBlvoKQPaucfwPuwpA9UlpIlR1DEAmpqtUVkUMQIA5+GA/MwxAPXCxUaGBDEBp2awDyUMOQMFxCNNO1w5Aw6U1uvgmDkCtuxApNpMOQBd5BnR7gQ9Aoyi6ORIQEEA=\",\"dtype\":\"float64\",\"order\":\"little\",\"shape\":[100]}},\"selected\":{\"id\":\"1122\"},\"selection_policy\":{\"id\":\"1121\"}},\"id\":\"1107\",\"type\":\"ColumnDataSource\"},{\"attributes\":{\"axis_label\":\"y\",\"axis_label_standoff\":10,\"axis_label_text_color\":\"#FFFFFF\",\"axis_label_text_font\":\"Josefin Sans\",\"axis_label_text_font_size\":\"1.9em\",\"axis_label_text_font_style\":\"bold\",\"axis_line_alpha\":0.4,\"axis_line_color\":\"#E0E0E0\",\"coordinates\":null,\"formatter\":{\"id\":\"1116\"},\"group\":null,\"major_label_policy\":{\"id\":\"1117\"},\"major_label_text_color\":\"#E0E0E0\",\"major_label_text_font\":\"Josefin Sans\",\"major_label_text_font_size\":\"1.15em\",\"major_tick_line_alpha\":0.4,\"major_tick_line_color\":\"#E0E0E0\",\"minor_tick_line_alpha\":0.4,\"minor_tick_line_color\":\"#E0E0E0\",\"ticker\":{\"id\":\"1090\"}},\"id\":\"1089\",\"type\":\"LinearAxis\"},{\"attributes\":{},\"id\":\"1093\",\"type\":\"PanTool\"},{\"attributes\":{\"axis_label\":\"x\",\"axis_label_standoff\":10,\"axis_label_text_color\":\"#FFFFFF\",\"axis_label_text_font\":\"Josefin Sans\",\"axis_label_text_font_size\":\"1.9em\",\"axis_label_text_font_style\":\"bold\",\"axis_line_alpha\":0.4,\"axis_line_color\":\"#E0E0E0\",\"coordinates\":null,\"formatter\":{\"id\":\"1119\"},\"group\":null,\"major_label_policy\":{\"id\":\"1120\"},\"major_label_text_color\":\"#E0E0E0\",\"major_label_text_font\":\"Josefin Sans\",\"major_label_text_font_size\":\"1.15em\",\"major_tick_line_alpha\":0.4,\"major_tick_line_color\":\"#E0E0E0\",\"minor_tick_line_alpha\":0.4,\"minor_tick_line_color\":\"#E0E0E0\",\"ticker\":{\"id\":\"1086\"}},\"id\":\"1085\",\"type\":\"LinearAxis\"},{\"attributes\":{},\"id\":\"1117\",\"type\":\"AllLabels\"},{\"attributes\":{\"coordinates\":null,\"group\":null,\"text\":\"Simple quadratic problem\",\"text_color\":\"#E0E0E0\",\"text_font\":\"Josefin Sans\",\"text_font_size\":\"2.1em\"},\"id\":\"1075\",\"type\":\"Title\"},{\"attributes\":{},\"id\":\"1121\",\"type\":\"UnionRenderers\"},{\"attributes\":{\"coordinates\":null,\"data_source\":{\"id\":\"1107\"},\"glyph\":{\"id\":\"1108\"},\"group\":null,\"hover_glyph\":{\"id\":\"1110\"},\"muted_glyph\":{\"id\":\"1111\"},\"nonselection_glyph\":{\"id\":\"1129\"},\"selection_glyph\":{\"id\":\"1128\"},\"view\":{\"id\":\"1113\"}},\"id\":\"1112\",\"type\":\"GlyphRenderer\"},{\"attributes\":{},\"id\":\"1120\",\"type\":\"AllLabels\"},{\"attributes\":{},\"id\":\"1096\",\"type\":\"SaveTool\"},{\"attributes\":{},\"id\":\"1116\",\"type\":\"BasicTickFormatter\"},{\"attributes\":{},\"id\":\"1097\",\"type\":\"ResetTool\"},{\"attributes\":{},\"id\":\"1122\",\"type\":\"Selection\"},{\"attributes\":{},\"id\":\"1119\",\"type\":\"BasicTickFormatter\"},{\"attributes\":{\"source\":{\"id\":\"1107\"}},\"id\":\"1113\",\"type\":\"CDSView\"},{\"attributes\":{\"children\":[{\"id\":\"1133\"},{\"id\":\"1074\"},{\"id\":\"1156\"}],\"margin\":[0,0,0,0],\"name\":\"Row00105\"},\"id\":\"1132\",\"type\":\"Row\"},{\"attributes\":{\"margin\":[5,5,5,5],\"name\":\"HSpacer00102\",\"sizing_mode\":\"stretch_width\"},\"id\":\"1156\",\"type\":\"Spacer\"},{\"attributes\":{\"background_fill_alpha\":0.25,\"background_fill_color\":\"#505050\",\"border_line_alpha\":0.25,\"coordinates\":null,\"group\":null,\"items\":[{\"id\":\"1125\"}],\"label_standoff\":8,\"label_text_color\":\"#E0E0E0\",\"label_text_font\":\"Josefin Sans\",\"label_text_font_size\":\"1.15em\",\"spacing\":8},\"id\":\"1124\",\"type\":\"Legend\"},{\"attributes\":{\"fill_alpha\":{\"value\":0.25},\"fill_color\":{\"value\":\"midnightblue\"},\"hatch_alpha\":{\"value\":0.25},\"line_alpha\":{\"value\":0.25},\"line_color\":{\"value\":\"white\"},\"size\":{\"value\":10},\"x\":{\"field\":\"x\"},\"y\":{\"field\":\"y\"}},\"id\":\"1108\",\"type\":\"Circle\"},{\"attributes\":{},\"id\":\"1098\",\"type\":\"HelpTool\"},{\"attributes\":{\"fill_alpha\":{\"value\":0.8},\"fill_color\":{\"value\":\"red\"},\"line_color\":{\"value\":\"white\"}},\"id\":\"1128\",\"type\":\"Circle\"},{\"attributes\":{\"bottom_units\":\"screen\",\"coordinates\":null,\"fill_alpha\":0.5,\"fill_color\":\"lightgrey\",\"group\":null,\"left_units\":\"screen\",\"level\":\"overlay\",\"line_alpha\":1.0,\"line_color\":\"black\",\"line_dash\":[4,4],\"line_width\":2,\"right_units\":\"screen\",\"syncable\":false,\"top_units\":\"screen\"},\"id\":\"1099\",\"type\":\"BoxAnnotation\"},{\"attributes\":{\"client_comm_id\":\"14808cc51de7493e9d10a6d90f5b588b\",\"comm_id\":\"a52251798a5a4c1c9678f1341769dbe7\",\"plot_id\":\"1132\"},\"id\":\"1190\",\"type\":\"panel.models.comm_manager.CommManager\"},{\"attributes\":{\"reload\":false},\"id\":\"1224\",\"type\":\"panel.models.location.Location\"},{\"attributes\":{\"mode\":\"append\",\"overlay\":{\"id\":\"1144\"},\"renderers\":[{\"id\":\"1112\"}]},\"id\":\"1130\",\"type\":\"BoxSelectTool\"},{\"attributes\":{\"bottom_units\":\"screen\",\"coordinates\":null,\"fill_alpha\":0.5,\"fill_color\":\"lightgrey\",\"group\":null,\"left_units\":\"screen\",\"level\":\"overlay\",\"line_alpha\":1.0,\"line_color\":\"black\",\"line_dash\":[4,4],\"line_width\":2,\"right_units\":\"screen\",\"syncable\":false,\"top_units\":\"screen\"},\"id\":\"1144\",\"type\":\"BoxAnnotation\"},{\"attributes\":{\"fill_alpha\":{\"value\":0.5},\"fill_color\":{\"value\":\"midnightblue\"},\"line_color\":{\"value\":\"white\"}},\"id\":\"1129\",\"type\":\"Circle\"},{\"attributes\":{\"background_fill_alpha\":0.9,\"background_fill_color\":\"#0f0f0f\",\"below\":[{\"id\":\"1085\"}],\"border_fill_alpha\":0.8,\"border_fill_color\":\"#111111\",\"center\":[{\"id\":\"1088\"},{\"id\":\"1092\"},{\"id\":\"1124\"}],\"height\":450,\"left\":[{\"id\":\"1089\"}],\"outline_line_alpha\":0.25,\"outline_line_color\":\"#E0E0E0\",\"outline_line_width\":3,\"renderers\":[{\"id\":\"1112\"}],\"title\":{\"id\":\"1075\"},\"toolbar\":{\"id\":\"1100\"},\"toolbar_location\":\"left\",\"x_range\":{\"id\":\"1077\"},\"x_scale\":{\"id\":\"1081\"},\"y_range\":{\"id\":\"1079\"},\"y_scale\":{\"id\":\"1083\"}},\"id\":\"1074\",\"subtype\":\"Figure\",\"type\":\"Plot\"}],\"root_ids\":[\"1132\",\"1190\",\"1224\"]},\"title\":\"Bokeh Application\",\"version\":\"2.4.3\"}};\n",
       "    var render_items = [{\"docid\":\"efa374ce-2e0e-450c-925e-111e849975f4\",\"root_ids\":[\"1132\"],\"roots\":{\"1132\":\"8507cc5f-1796-4d64-850f-11fb832547ae\"}}];\n",
       "    root.Bokeh.embed.embed_items_notebook(docs_json, render_items);\n",
       "    for (const render_item of render_items) {\n",
       "      for (const root_id of render_item.root_ids) {\n",
       "\tconst id_el = document.getElementById(root_id)\n",
       "\tif (id_el.children.length && (id_el.children[0].className === 'bk-root')) {\n",
       "\t  const root_el = id_el.children[0]\n",
       "\t  root_el.id = root_el.id + '-rendered'\n",
       "\t}\n",
       "      }\n",
       "    }\n",
       "  }\n",
       "  if (root.Bokeh !== undefined && root.Bokeh.Panel !== undefined) {\n",
       "    embed_document(root);\n",
       "  } else {\n",
       "    var attempts = 0;\n",
       "    var timer = setInterval(function(root) {\n",
       "      if (root.Bokeh !== undefined && root.Bokeh.Panel !== undefined) {\n",
       "        clearInterval(timer);\n",
       "        embed_document(root);\n",
       "      } else if (document.readyState == \"complete\") {\n",
       "        attempts++;\n",
       "        if (attempts > 200) {\n",
       "          clearInterval(timer);\n",
       "          console.log(\"Bokeh: ERROR: Unable to run BokehJS code because BokehJS library is missing\");\n",
       "        }\n",
       "      }\n",
       "    }, 25, root)\n",
       "  }\n",
       "})(window);</script>"
      ],
      "text/plain": [
       "Row\n",
       "    [0] HSpacer()\n",
       "    [1] Bokeh(Figure)\n",
       "    [2] HSpacer()"
      ]
     },
     "execution_count": 5,
     "metadata": {
      "application/vnd.holoviews_exec.v0+json": {
       "id": "1132"
      }
     },
     "output_type": "execute_result"
    }
   ],
   "source": [
    "from cml.plot import center_plot, scatter\n",
    "plot = (center_plot(scatter(x, y, title=\"Simple quadratic problem\", toolbar_location=\"left\")))\n",
    "plot"
   ]
  },
  {
   "cell_type": "markdown",
   "metadata": {},
   "source": [
    "Now our main problem is that this function can follow different types of parameters"
   ]
  },
  {
   "cell_type": "code",
   "execution_count": 6,
   "metadata": {
    "ExecuteTime": {
     "end_time": "2023-05-01T13:10:06.947984Z",
     "start_time": "2023-05-01T13:10:06.916000Z"
    }
   },
   "outputs": [],
   "source": [
    "params = [[5, -5, 4], [-2, 1, 0], [0.1, 1, 1]]\n",
    "# Generating the x axis\n",
    "x = np.linspace(0, 1, 100)\n",
    "plots = []\n",
    "for p in range(len(params)):\n",
    "    poly = np.poly1d(params[p])\n",
    "    epsilon = np.random.uniform(-eps, eps, x.shape)\n",
    "    y = poly(x) + epsilon\n",
    "    plots.append(scatter(x, y, title=\"Problem \"+(str(p+1))))"
   ]
  },
  {
   "cell_type": "code",
   "execution_count": 7,
   "metadata": {
    "ExecuteTime": {
     "end_time": "2023-05-01T13:10:07.940288Z",
     "start_time": "2023-05-01T13:10:07.712516Z"
    }
   },
   "outputs": [
    {
     "data": {},
     "metadata": {},
     "output_type": "display_data"
    },
    {
     "data": {
      "application/vnd.holoviews_exec.v0+json": "",
      "text/html": [
       "<div id='1435'>\n",
       "  <div class=\"bk-root\" id=\"600a7532-0b60-4934-82da-badb54583a3b\" data-root-id=\"1435\"></div>\n",
       "</div>\n",
       "<script type=\"application/javascript\">(function(root) {\n",
       "  function embed_document(root) {\n",
       "    var docs_json = {\"e11b5e97-6e9a-45e4-b4fb-541b680dfaac\":{\"defs\":[{\"extends\":null,\"module\":null,\"name\":\"ReactiveHTML1\",\"overrides\":[],\"properties\":[]},{\"extends\":null,\"module\":null,\"name\":\"FlexBox1\",\"overrides\":[],\"properties\":[{\"default\":\"flex-start\",\"kind\":null,\"name\":\"align_content\"},{\"default\":\"flex-start\",\"kind\":null,\"name\":\"align_items\"},{\"default\":\"row\",\"kind\":null,\"name\":\"flex_direction\"},{\"default\":\"wrap\",\"kind\":null,\"name\":\"flex_wrap\"},{\"default\":\"flex-start\",\"kind\":null,\"name\":\"justify_content\"}]},{\"extends\":null,\"module\":null,\"name\":\"GridStack1\",\"overrides\":[],\"properties\":[{\"default\":\"warn\",\"kind\":null,\"name\":\"mode\"},{\"default\":null,\"kind\":null,\"name\":\"ncols\"},{\"default\":null,\"kind\":null,\"name\":\"nrows\"},{\"default\":true,\"kind\":null,\"name\":\"allow_resize\"},{\"default\":true,\"kind\":null,\"name\":\"allow_drag\"},{\"default\":[],\"kind\":null,\"name\":\"state\"}]},{\"extends\":null,\"module\":null,\"name\":\"click1\",\"overrides\":[],\"properties\":[{\"default\":\"\",\"kind\":null,\"name\":\"terminal_output\"},{\"default\":\"\",\"kind\":null,\"name\":\"debug_name\"},{\"default\":0,\"kind\":null,\"name\":\"clears\"}]},{\"extends\":null,\"module\":null,\"name\":\"NotificationAreaBase1\",\"overrides\":[],\"properties\":[{\"default\":\"bottom-right\",\"kind\":null,\"name\":\"position\"},{\"default\":0,\"kind\":null,\"name\":\"_clear\"}]},{\"extends\":null,\"module\":null,\"name\":\"NotificationArea1\",\"overrides\":[],\"properties\":[{\"default\":[],\"kind\":null,\"name\":\"notifications\"},{\"default\":\"bottom-right\",\"kind\":null,\"name\":\"position\"},{\"default\":0,\"kind\":null,\"name\":\"_clear\"},{\"default\":[{\"background\":\"#ffc107\",\"icon\":{\"className\":\"fas fa-exclamation-triangle\",\"color\":\"white\",\"tagName\":\"i\"},\"type\":\"warning\"},{\"background\":\"#007bff\",\"icon\":{\"className\":\"fas fa-info-circle\",\"color\":\"white\",\"tagName\":\"i\"},\"type\":\"info\"}],\"kind\":null,\"name\":\"types\"}]},{\"extends\":null,\"module\":null,\"name\":\"Notification\",\"overrides\":[],\"properties\":[{\"default\":null,\"kind\":null,\"name\":\"background\"},{\"default\":3000,\"kind\":null,\"name\":\"duration\"},{\"default\":null,\"kind\":null,\"name\":\"icon\"},{\"default\":\"\",\"kind\":null,\"name\":\"message\"},{\"default\":null,\"kind\":null,\"name\":\"notification_type\"},{\"default\":false,\"kind\":null,\"name\":\"_destroyed\"}]},{\"extends\":null,\"module\":null,\"name\":\"TemplateActions1\",\"overrides\":[],\"properties\":[{\"default\":0,\"kind\":null,\"name\":\"open_modal\"},{\"default\":0,\"kind\":null,\"name\":\"close_modal\"}]},{\"extends\":null,\"module\":null,\"name\":\"MaterialTemplateActions1\",\"overrides\":[],\"properties\":[{\"default\":0,\"kind\":null,\"name\":\"open_modal\"},{\"default\":0,\"kind\":null,\"name\":\"close_modal\"}]}],\"roots\":{\"references\":[{\"attributes\":{\"margin\":[5,5,5,5],\"name\":\"HSpacer00110\",\"sizing_mode\":\"stretch_width\"},\"id\":\"1503\",\"type\":\"Spacer\"},{\"attributes\":{},\"id\":\"1282\",\"type\":\"HelpTool\"},{\"attributes\":{\"fill_alpha\":{\"value\":0.25},\"fill_color\":{\"value\":\"midnightblue\"},\"hatch_alpha\":{\"value\":0.25},\"line_alpha\":{\"value\":0.25},\"line_color\":{\"value\":\"white\"},\"size\":{\"value\":10},\"x\":{\"field\":\"x\"},\"y\":{\"field\":\"y\"}},\"id\":\"1408\",\"type\":\"Circle\"},{\"attributes\":{},\"id\":\"1358\",\"type\":\"BasicTickFormatter\"},{\"attributes\":{\"bottom_units\":\"screen\",\"coordinates\":null,\"fill_alpha\":0.5,\"fill_color\":\"lightgrey\",\"group\":null,\"left_units\":\"screen\",\"level\":\"overlay\",\"line_alpha\":1.0,\"line_color\":\"black\",\"line_dash\":[4,4],\"line_width\":2,\"right_units\":\"screen\",\"syncable\":false,\"top_units\":\"screen\"},\"id\":\"1399\",\"type\":\"BoxAnnotation\"},{\"attributes\":{\"data\":{\"x\":{\"__ndarray__\":\"AAAAAAAAAABbv1Kg1q+EP1u/UqDWr5Q/CB988MEHnz9bv1Kg1q+kPzJvZ0jM26k/CB988MEHrz9wZ0jM2xmyP1u/UqDWr7Q/RhdddNFFtz8yb2dIzNu5Px3HcRzHcbw/CB988MEHvz96O0Ni3s7AP3BnSMzbGcI/ZZNNNtlkwz9bv1Kg1q/EP1HrVwrU+sU/RhdddNFFxz88Q2LezpDIPzJvZ0jM28k/J5tssskmyz8dx3Ecx3HMPxPzdobEvM0/CB988MEHzz9/pUCtXynQP3o7Q2LeztA/ddFFF1100T9wZ0jM2xnSP2r9SoFav9I/ZZNNNtlk0z9gKVDrVwrUP1u/UqDWr9Q/VlVVVVVV1T9R61cK1PrVP0yBWr9SoNY/RhdddNFF1z9BrV8pUOvXPzxDYt7OkNg/N9lkk0022T8yb2dIzNvZPy0Fav1Kgdo/J5tssskm2z8iMW9nSMzbPx3HcRzHcdw/GF100UUX3T8T83aGxLzdPw6JeTtDYt4/CB988MEH3z8DtX6lQK3fP3+lQK1fKeA/ffDBBx984D96O0Ni3s7gP3eGxLydIeE/ddFFF1104T9yHMdxHMfhP3BnSMzbGeI/bbLJJpts4j9q/UqBWr/iP2hIzNsZEuM/ZZNNNtlk4z9j3s6QmLfjP2ApUOtXCuQ/XnTRRRdd5D9bv1Kg1q/kP1gK1PqVAuU/VlVVVVVV5T9ToNavFKjlP1HrVwrU+uU/TjbZZJNN5j9MgVq/UqDmP0nM2xkS8+Y/RhdddNFF5z9EYt7OkJjnP0GtXylQ6+c/P/jggw8+6D88Q2LezpDoPzmO4ziO4+g/N9lkk0026T80JObtDInpPzJvZ0jM2+k/L7rooosu6j8tBWr9SoHqPypQ61cK1Oo/J5tssskm6z8l5u0MiXnrPyIxb2dIzOs/IHzwwQcf7D8dx3Ecx3HsPxsS83aGxOw/GF100UUX7T8VqPUrBWrtPxPzdobEvO0/ED744IMP7j8OiXk7Q2LuPwvU+pUCte4/CB988MEH7z8Gav1KgVrvPwO1fqVAre8/AAAAAAAA8D8=\",\"dtype\":\"float64\",\"order\":\"little\",\"shape\":[100]},\"y\":{\"__ndarray__\":\"BNOkDdwpEEAeRJFwXN4OQDaRpa21tQ9AVr4Oq875DkCZKMFvf0EOQFJyxSM5+w1A219c5LpLDkAHl1KbPCQNQONaIc5OPw1AYC9bOPXXDECiLz7zpw8MQM43G5kZnwxAJGqRpdQhC0CDSSikP9QLQFCDHtntKQtAb3NuY49QC0Dj4UHwDvkJQO353DlTuwlAvUhDCe5DCUDl907oYWoKQKSlHW2qtQlApQPRSJ2ECUAJpGHMz5AJQLnnAgCjSAhATmeo62b6CEDLHmquAyoIQE+FuBddpwdAY5XmuXamCEAO70iHyMgHQFNrU67+FwhAR0sbrKA3CEDP5k3EIc8HQBS7iOYanwdAdRJY+E5wBkAGKWK08sEHQNNS894rfgZASyFi3VXNBkCv8GgoZIgGQGLV1n0U7gVA4kp95iNVBkDuK3UInpsGQIheZz7U1wVAf14R1m7/BkBl1ZltfXwFQFbHWcwuNwZASQIxN/EXBkCoyFvLNuUFQOdUfHUrqQZA1FsHwJuABUApJj1rw+MFQKymIF7O2AVAR7IhdxLJBkCExGqApH0FQA4i3qGcLQZAcaYjUVeOBUBC+gHTF5sGQKhy2k1MhQZANxzCIfmmBUBY52guiZ4GQN/awYM1AwZAQZFEcTjvBUA2RXgy8gYHQHXM81g4+QVAM1WtWXMeB0DYwf44arkGQNiGG6/dRAdAp4lm/LyVBkASI0SWd7YHQCvZeP5CEgdACFNDYeO2B0DCJUM34U8IQPN6Hmv3IAdAaqTbNE+9B0CPHU77BrMHQEd6UiGYAglAvKoxm07yB0CTqj/VnGcJQGCJaOH0+QhAPw4GiczBCUDPT29w0vIIQC+iOdhxTAlAQngmGhlSCkDSzDZjWmQKQOxtZBuF+QpAJaheuASyCkB58lbgn6ALQLDXGo2PUwtAoPfeNVj2CkANOr6Dip4LQPyuJZ3djQxA9N+R0VXaDEBgsmCHXK8NQL98pdndoQ1A8Jet3TtLDUCYp7gRh8cOQEUnAXNHqA1A/jM0jkmUDkBLLUckt+wPQDnFwpRe+g5ABbasw05wD0A=\",\"dtype\":\"float64\",\"order\":\"little\",\"shape\":[100]}},\"selected\":{\"id\":\"1306\"},\"selection_policy\":{\"id\":\"1305\"}},\"id\":\"1291\",\"type\":\"ColumnDataSource\"},{\"attributes\":{},\"id\":\"1274\",\"type\":\"BasicTicker\"},{\"attributes\":{\"children\":[{\"id\":\"1432\"},{\"id\":\"1433\"}]},\"id\":\"1434\",\"type\":\"Column\"},{\"attributes\":{\"axis\":{\"id\":\"1273\"},\"coordinates\":null,\"dimension\":1,\"grid_line_alpha\":0.15,\"grid_line_color\":\"#E0E0E0\",\"group\":null,\"ticker\":null},\"id\":\"1276\",\"type\":\"Grid\"},{\"attributes\":{\"axis\":{\"id\":\"1269\"},\"coordinates\":null,\"grid_line_alpha\":0.15,\"grid_line_color\":\"#E0E0E0\",\"group\":null,\"ticker\":null},\"id\":\"1272\",\"type\":\"Grid\"},{\"attributes\":{\"fill_alpha\":{\"value\":0.8},\"fill_color\":{\"value\":\"red\"},\"line_color\":{\"value\":\"white\"}},\"id\":\"1428\",\"type\":\"Circle\"},{\"attributes\":{\"bottom_units\":\"screen\",\"coordinates\":null,\"fill_alpha\":0.5,\"fill_color\":\"lightgrey\",\"group\":null,\"left_units\":\"screen\",\"level\":\"overlay\",\"line_alpha\":1.0,\"line_color\":\"black\",\"line_dash\":[4,4],\"line_width\":2,\"right_units\":\"screen\",\"syncable\":false,\"top_units\":\"screen\"},\"id\":\"1469\",\"type\":\"BoxAnnotation\"},{\"attributes\":{},\"id\":\"1267\",\"type\":\"LinearScale\"},{\"attributes\":{\"label\":{\"value\":\"Observations\"},\"renderers\":[{\"id\":\"1412\"}]},\"id\":\"1425\",\"type\":\"LegendItem\"},{\"attributes\":{\"background_fill_alpha\":0.9,\"background_fill_color\":\"#0f0f0f\",\"below\":[{\"id\":\"1269\"}],\"border_fill_alpha\":0.8,\"border_fill_color\":\"#111111\",\"center\":[{\"id\":\"1272\"},{\"id\":\"1276\"},{\"id\":\"1308\"}],\"height\":450,\"left\":[{\"id\":\"1273\"}],\"outline_line_alpha\":0.25,\"outline_line_color\":\"#E0E0E0\",\"outline_line_width\":3,\"renderers\":[{\"id\":\"1296\"}],\"title\":{\"id\":\"1259\"},\"toolbar\":{\"id\":\"1284\"},\"toolbar_location\":null,\"x_range\":{\"id\":\"1261\"},\"x_scale\":{\"id\":\"1265\"},\"y_range\":{\"id\":\"1263\"},\"y_scale\":{\"id\":\"1267\"}},\"id\":\"1258\",\"subtype\":\"Figure\",\"type\":\"Plot\"},{\"attributes\":{\"axis_label\":\"y\",\"axis_label_standoff\":10,\"axis_label_text_color\":\"#FFFFFF\",\"axis_label_text_font\":\"Josefin Sans\",\"axis_label_text_font_size\":\"1.9em\",\"axis_label_text_font_style\":\"bold\",\"axis_line_alpha\":0.4,\"axis_line_color\":\"#E0E0E0\",\"coordinates\":null,\"formatter\":{\"id\":\"1300\"},\"group\":null,\"major_label_policy\":{\"id\":\"1301\"},\"major_label_text_color\":\"#E0E0E0\",\"major_label_text_font\":\"Josefin Sans\",\"major_label_text_font_size\":\"1.15em\",\"major_tick_line_alpha\":0.4,\"major_tick_line_color\":\"#E0E0E0\",\"minor_tick_line_alpha\":0.4,\"minor_tick_line_color\":\"#E0E0E0\",\"ticker\":{\"id\":\"1274\"}},\"id\":\"1273\",\"type\":\"LinearAxis\"},{\"attributes\":{\"fill_alpha\":{\"value\":0.8},\"fill_color\":{\"value\":\"red\"},\"line_color\":{\"value\":\"white\"}},\"id\":\"1370\",\"type\":\"Circle\"},{\"attributes\":{},\"id\":\"1416\",\"type\":\"BasicTickFormatter\"},{\"attributes\":{\"axis_label\":\"x\",\"axis_label_standoff\":10,\"axis_label_text_color\":\"#FFFFFF\",\"axis_label_text_font\":\"Josefin Sans\",\"axis_label_text_font_size\":\"1.9em\",\"axis_label_text_font_style\":\"bold\",\"axis_line_alpha\":0.4,\"axis_line_color\":\"#E0E0E0\",\"coordinates\":null,\"formatter\":{\"id\":\"1303\"},\"group\":null,\"major_label_policy\":{\"id\":\"1304\"},\"major_label_text_color\":\"#E0E0E0\",\"major_label_text_font\":\"Josefin Sans\",\"major_label_text_font_size\":\"1.15em\",\"major_tick_line_alpha\":0.4,\"major_tick_line_color\":\"#E0E0E0\",\"minor_tick_line_alpha\":0.4,\"minor_tick_line_color\":\"#E0E0E0\",\"ticker\":{\"id\":\"1270\"}},\"id\":\"1269\",\"type\":\"LinearAxis\"},{\"attributes\":{\"mode\":\"append\",\"overlay\":{\"id\":\"1469\"},\"renderers\":[{\"id\":\"1412\"}]},\"id\":\"1430\",\"type\":\"BoxSelectTool\"},{\"attributes\":{\"source\":{\"id\":\"1291\"}},\"id\":\"1297\",\"type\":\"CDSView\"},{\"attributes\":{\"coordinates\":null,\"group\":null,\"text\":\"Problem 1\",\"text_color\":\"#E0E0E0\",\"text_font\":\"Josefin Sans\",\"text_font_size\":\"2.1em\"},\"id\":\"1259\",\"type\":\"Title\"},{\"attributes\":{\"mode\":\"append\",\"overlay\":{\"id\":\"1465\"},\"renderers\":[{\"id\":\"1354\"}]},\"id\":\"1372\",\"type\":\"BoxSelectTool\"},{\"attributes\":{},\"id\":\"1261\",\"type\":\"DataRange1d\"},{\"attributes\":{},\"id\":\"1270\",\"type\":\"BasicTicker\"},{\"attributes\":{},\"id\":\"1278\",\"type\":\"WheelZoomTool\"},{\"attributes\":{\"callback\":null,\"mode\":\"vline\",\"renderers\":[{\"id\":\"1412\"}],\"tooltips\":null},\"id\":\"1426\",\"type\":\"HoverTool\"},{\"attributes\":{},\"id\":\"1277\",\"type\":\"PanTool\"},{\"attributes\":{},\"id\":\"1263\",\"type\":\"DataRange1d\"},{\"attributes\":{\"data\":{\"x\":{\"__ndarray__\":\"AAAAAAAAAABbv1Kg1q+EP1u/UqDWr5Q/CB988MEHnz9bv1Kg1q+kPzJvZ0jM26k/CB988MEHrz9wZ0jM2xmyP1u/UqDWr7Q/RhdddNFFtz8yb2dIzNu5Px3HcRzHcbw/CB988MEHvz96O0Ni3s7AP3BnSMzbGcI/ZZNNNtlkwz9bv1Kg1q/EP1HrVwrU+sU/RhdddNFFxz88Q2LezpDIPzJvZ0jM28k/J5tssskmyz8dx3Ecx3HMPxPzdobEvM0/CB988MEHzz9/pUCtXynQP3o7Q2LeztA/ddFFF1100T9wZ0jM2xnSP2r9SoFav9I/ZZNNNtlk0z9gKVDrVwrUP1u/UqDWr9Q/VlVVVVVV1T9R61cK1PrVP0yBWr9SoNY/RhdddNFF1z9BrV8pUOvXPzxDYt7OkNg/N9lkk0022T8yb2dIzNvZPy0Fav1Kgdo/J5tssskm2z8iMW9nSMzbPx3HcRzHcdw/GF100UUX3T8T83aGxLzdPw6JeTtDYt4/CB988MEH3z8DtX6lQK3fP3+lQK1fKeA/ffDBBx984D96O0Ni3s7gP3eGxLydIeE/ddFFF1104T9yHMdxHMfhP3BnSMzbGeI/bbLJJpts4j9q/UqBWr/iP2hIzNsZEuM/ZZNNNtlk4z9j3s6QmLfjP2ApUOtXCuQ/XnTRRRdd5D9bv1Kg1q/kP1gK1PqVAuU/VlVVVVVV5T9ToNavFKjlP1HrVwrU+uU/TjbZZJNN5j9MgVq/UqDmP0nM2xkS8+Y/RhdddNFF5z9EYt7OkJjnP0GtXylQ6+c/P/jggw8+6D88Q2LezpDoPzmO4ziO4+g/N9lkk0026T80JObtDInpPzJvZ0jM2+k/L7rooosu6j8tBWr9SoHqPypQ61cK1Oo/J5tssskm6z8l5u0MiXnrPyIxb2dIzOs/IHzwwQcf7D8dx3Ecx3HsPxsS83aGxOw/GF100UUX7T8VqPUrBWrtPxPzdobEvO0/ED744IMP7j8OiXk7Q2LuPwvU+pUCte4/CB988MEH7z8Gav1KgVrvPwO1fqVAre8/AAAAAAAA8D8=\",\"dtype\":\"float64\",\"order\":\"little\",\"shape\":[100]},\"y\":{\"__ndarray__\":\"h4GjK8A9q7//teDOeVqhPzLxSTi26Lw/4smSTTeAjb8qAMqC+kaZv8hv6DM4Ynk/bgzBdilAnj9mbZWGZdW4P0jQ5BHo5aQ/yokGBCK4rz/a0bavbBW7P0hCGd/lr8c/BMqj3icTxj+nAbvuRdipPwkpDjRSLLY/ckMwss2lwz+UtSYXCa22PybQ7RfcRqo/Dt4yCFKhyj8ZGkHVbdi0P9qSNZ1zj8E/jrC8hNResz9QPOsBH9nLP/mMd/Czg8A/RU65crUUuT/8DfsnJmnDPwxS2hcdPsQ/uNs+/zKkqD8Mr8yenNfDPxjXtdqVuMs/Aq7GNCXApT9OYoELUIixP+Cr2uX5fMk/tgJyQMlnsj8B6xSGHsm7P4t6TQxsCMk/er+sWmGxuz8JQJq7MsXCP7dwEAlIibk/QqnjkweOwz94ZwDW1CSKP5hSVgh0EJ2/Vt8TBnYgsD9qSml+OILCP2CC+v3dAbk/sm2uYNMbmD8K7zqIO3GZv0ovJ14SyqY/e6jCGpfolz8Q5IYvmmtJP7Zo8T2WhLe/2jp19JMBrT8IaLlJQWKwvwAEylFUlwI/TNV/5o7Tur8cJPXtwTe+v8Nweg5Z37u/hoWAPIQKv79YgEJwbnGTv9QZAYW+Q7y/YGf6LjRFsr+S5cXrftHDvyXKa7e6Xsi/AFzZhlyLur/kPNqJay+3vwzWXabdwcC/EB5rnijs0L81/gBzjHjSv7LsRUL47s6/D7L59ojp0r+/fE1Nt9XRvzv6naO1t9C/mtevwdGD0L9QC2w/b43XvzBjfk5cVtK/OYnKdwzL0r+6+VRwmZ7cv5irKKIiqdW/uHJu1OU43b8k+iKiXRTZv2BgicqRzdu/opZqvOMr3b9Y46yXJpLev7Z8dPz2UeG/5NOQ7Mux4790ErxaY0flv+7pVBUVcOS/ILhX6SRm57+iH+LjyGfkvyJF2XHuoOS/exoIWCfu5b+sFFyUN6fmvzOx46aS3uu/yiIQcj7w7L/meoDx+nDuv+5kprFPu+m/I2vPugQM8L+hzJBPEgfsvzT3x//89PC/XpnAt8QO778=\",\"dtype\":\"float64\",\"order\":\"little\",\"shape\":[100]}},\"selected\":{\"id\":\"1364\"},\"selection_policy\":{\"id\":\"1363\"}},\"id\":\"1349\",\"type\":\"ColumnDataSource\"},{\"attributes\":{\"callback\":null,\"mode\":\"vline\",\"renderers\":[{\"id\":\"1354\"}],\"tooltips\":null},\"id\":\"1368\",\"type\":\"HoverTool\"},{\"attributes\":{\"background_fill_alpha\":0.9,\"background_fill_color\":\"#0f0f0f\",\"below\":[{\"id\":\"1385\"}],\"border_fill_alpha\":0.8,\"border_fill_color\":\"#111111\",\"center\":[{\"id\":\"1388\"},{\"id\":\"1392\"},{\"id\":\"1424\"}],\"height\":450,\"left\":[{\"id\":\"1389\"}],\"outline_line_alpha\":0.25,\"outline_line_color\":\"#E0E0E0\",\"outline_line_width\":3,\"renderers\":[{\"id\":\"1412\"}],\"title\":{\"id\":\"1375\"},\"toolbar\":{\"id\":\"1400\"},\"toolbar_location\":null,\"x_range\":{\"id\":\"1377\"},\"x_scale\":{\"id\":\"1381\"},\"y_range\":{\"id\":\"1379\"},\"y_scale\":{\"id\":\"1383\"}},\"id\":\"1374\",\"subtype\":\"Figure\",\"type\":\"Plot\"},{\"attributes\":{},\"id\":\"1265\",\"type\":\"LinearScale\"},{\"attributes\":{\"fill_alpha\":{\"value\":0.25},\"fill_color\":{\"value\":\"midnightblue\"},\"hatch_alpha\":{\"value\":0.25},\"line_alpha\":{\"value\":0.25},\"line_color\":{\"value\":\"white\"},\"size\":{\"value\":10},\"x\":{\"field\":\"x\"},\"y\":{\"field\":\"y\"}},\"id\":\"1292\",\"type\":\"Circle\"},{\"attributes\":{},\"id\":\"1362\",\"type\":\"AllLabels\"},{\"attributes\":{},\"id\":\"1417\",\"type\":\"AllLabels\"},{\"attributes\":{\"overlay\":{\"id\":\"1283\"}},\"id\":\"1279\",\"type\":\"BoxZoomTool\"},{\"attributes\":{\"data\":{\"x\":{\"__ndarray__\":\"AAAAAAAAAABbv1Kg1q+EP1u/UqDWr5Q/CB988MEHnz9bv1Kg1q+kPzJvZ0jM26k/CB988MEHrz9wZ0jM2xmyP1u/UqDWr7Q/RhdddNFFtz8yb2dIzNu5Px3HcRzHcbw/CB988MEHvz96O0Ni3s7AP3BnSMzbGcI/ZZNNNtlkwz9bv1Kg1q/EP1HrVwrU+sU/RhdddNFFxz88Q2LezpDIPzJvZ0jM28k/J5tssskmyz8dx3Ecx3HMPxPzdobEvM0/CB988MEHzz9/pUCtXynQP3o7Q2LeztA/ddFFF1100T9wZ0jM2xnSP2r9SoFav9I/ZZNNNtlk0z9gKVDrVwrUP1u/UqDWr9Q/VlVVVVVV1T9R61cK1PrVP0yBWr9SoNY/RhdddNFF1z9BrV8pUOvXPzxDYt7OkNg/N9lkk0022T8yb2dIzNvZPy0Fav1Kgdo/J5tssskm2z8iMW9nSMzbPx3HcRzHcdw/GF100UUX3T8T83aGxLzdPw6JeTtDYt4/CB988MEH3z8DtX6lQK3fP3+lQK1fKeA/ffDBBx984D96O0Ni3s7gP3eGxLydIeE/ddFFF1104T9yHMdxHMfhP3BnSMzbGeI/bbLJJpts4j9q/UqBWr/iP2hIzNsZEuM/ZZNNNtlk4z9j3s6QmLfjP2ApUOtXCuQ/XnTRRRdd5D9bv1Kg1q/kP1gK1PqVAuU/VlVVVVVV5T9ToNavFKjlP1HrVwrU+uU/TjbZZJNN5j9MgVq/UqDmP0nM2xkS8+Y/RhdddNFF5z9EYt7OkJjnP0GtXylQ6+c/P/jggw8+6D88Q2LezpDoPzmO4ziO4+g/N9lkk0026T80JObtDInpPzJvZ0jM2+k/L7rooosu6j8tBWr9SoHqPypQ61cK1Oo/J5tssskm6z8l5u0MiXnrPyIxb2dIzOs/IHzwwQcf7D8dx3Ecx3HsPxsS83aGxOw/GF100UUX7T8VqPUrBWrtPxPzdobEvO0/ED744IMP7j8OiXk7Q2LuPwvU+pUCte4/CB988MEH7z8Gav1KgVrvPwO1fqVAre8/AAAAAAAA8D8=\",\"dtype\":\"float64\",\"order\":\"little\",\"shape\":[100]},\"y\":{\"__ndarray__\":\"OaMXGx098T9JpN8WAcTuP2T9Jt7L0/E/f3WhVAaN7z/OmEv/TW3wP/HEUTdON/I/R4jX9cPG8D9vaiJViVjxP+4s6PSrpe8/PCKPtfN18T8nyWbYpXHyP+JoKI3CzfA/gDbmM59D8T8FSUsvQz/yP/hAd1DsYPM/bMiJ8Zl78T8a9eTNhS7zP5xsenwU/vM/KsdtP4sU8z/hEK9XCJvyPy8pa9bdlvQ/gJ648rDZ9D9OsHa/CbbzP0cO+rpSb/I/H2QUvO548z+X+0QiVZbyP/Dg2vEXjPQ/mu5sKlCf9D+MpVFXi1bzP0LgXqt42fQ/wGJhkQdP9T9GbQVRmxD1P27syvAq2fM/aTpOUmmL9D9SeYSKDqL2P3cPwaD1EvY/2u4HJ2X+9D/4dIqiZWH1PyqG7t58afY/AkfDF1nL9T8nd7oc3Lr1P1zK2m3V9vU/qGNLlmB49j9W5c59eoT3P2GYBdJGgfY/3fo0fZhF9z+dyTSdmXr4P7Xstzcl/fc/uC98vEwi+T+aQoKeNFX3P3Z6tWdyYfk/qflsE5hf9z8AbkgWe5f5P6Wnofin5Pk/vgUdo0CG+D+FTmgIc2D6P3Xi/B0W4fo/wa1jalzM+T+W76TfWg75PxoUhYLAg/k/GRQbU5xv+z91Lcq0mtj6P1vc/FkJGPw/Rk0a97DX+z8DudI9Y7j5P/dfNHeu7Ps/pLzCODiB+j8fkmFeUGP7P2KzoYjvd/w/h2ErS/Ut/D8aLx8jnUP8P3/x4B5xEP0/lEdtah40/D9OIo10kjr7P9RHo9ADrv0//CI4o6SU/T/WBF39xZj9P6cIdT6vHfw/XJEyLhN4/j/oXd+xbTX+P/a40yuvZP0/BEdeUQ21/z96mARBWRz9P3uu9zNDP/0/jRQuaoUOAEArFbsvHur+P3bMDp7VH/8/DgmF5UxO/j/atw6Bi7D/Pyc2RBCJSf8/6ifpL3FnAEAjrRFexAYAQFMv7eZTLgBAn8yp9eHQAEAbQzr9tgEBQNt8w+JHNwBAK60KWXlNAECGzuVCqKz/P0AKJa35JQFAJtl+H1aZAEA=\",\"dtype\":\"float64\",\"order\":\"little\",\"shape\":[100]}},\"selected\":{\"id\":\"1422\"},\"selection_policy\":{\"id\":\"1421\"}},\"id\":\"1407\",\"type\":\"ColumnDataSource\"},{\"attributes\":{\"fill_alpha\":{\"value\":0.5},\"fill_color\":{\"value\":\"midnightblue\"},\"line_color\":{\"value\":\"white\"}},\"id\":\"1429\",\"type\":\"Circle\"},{\"attributes\":{\"background_fill_alpha\":0.25,\"background_fill_color\":\"#505050\",\"border_line_alpha\":0.25,\"coordinates\":null,\"group\":null,\"items\":[{\"id\":\"1425\"}],\"label_standoff\":8,\"label_text_color\":\"#E0E0E0\",\"label_text_font\":\"Josefin Sans\",\"label_text_font_size\":\"1.15em\",\"spacing\":8},\"id\":\"1424\",\"type\":\"Legend\"},{\"attributes\":{\"fill_alpha\":{\"value\":0.5},\"fill_color\":{\"value\":\"midnightblue\"},\"line_color\":{\"value\":\"white\"}},\"id\":\"1371\",\"type\":\"Circle\"},{\"attributes\":{},\"id\":\"1301\",\"type\":\"AllLabels\"},{\"attributes\":{},\"id\":\"1377\",\"type\":\"DataRange1d\"},{\"attributes\":{},\"id\":\"1379\",\"type\":\"DataRange1d\"},{\"attributes\":{},\"id\":\"1381\",\"type\":\"LinearScale\"},{\"attributes\":{\"fill_alpha\":{\"value\":0.8},\"fill_color\":{\"value\":\"red\"},\"line_color\":{\"value\":\"white\"}},\"id\":\"1312\",\"type\":\"Circle\"},{\"attributes\":{},\"id\":\"1419\",\"type\":\"BasicTickFormatter\"},{\"attributes\":{\"label\":{\"value\":\"Observations\"},\"renderers\":[{\"id\":\"1296\"}]},\"id\":\"1309\",\"type\":\"LegendItem\"},{\"attributes\":{},\"id\":\"1300\",\"type\":\"BasicTickFormatter\"},{\"attributes\":{},\"id\":\"1383\",\"type\":\"LinearScale\"},{\"attributes\":{\"tools\":[{\"id\":\"1335\"},{\"id\":\"1336\"},{\"id\":\"1337\"},{\"id\":\"1338\"},{\"id\":\"1339\"},{\"id\":\"1340\"},{\"id\":\"1368\"},{\"id\":\"1372\"}]},\"id\":\"1342\",\"type\":\"Toolbar\"},{\"attributes\":{\"axis_label\":\"y\",\"axis_label_standoff\":10,\"axis_label_text_color\":\"#FFFFFF\",\"axis_label_text_font\":\"Josefin Sans\",\"axis_label_text_font_size\":\"1.9em\",\"axis_label_text_font_style\":\"bold\",\"axis_line_alpha\":0.4,\"axis_line_color\":\"#E0E0E0\",\"coordinates\":null,\"formatter\":{\"id\":\"1416\"},\"group\":null,\"major_label_policy\":{\"id\":\"1417\"},\"major_label_text_color\":\"#E0E0E0\",\"major_label_text_font\":\"Josefin Sans\",\"major_label_text_font_size\":\"1.15em\",\"major_tick_line_alpha\":0.4,\"major_tick_line_color\":\"#E0E0E0\",\"minor_tick_line_alpha\":0.4,\"minor_tick_line_color\":\"#E0E0E0\",\"ticker\":{\"id\":\"1390\"}},\"id\":\"1389\",\"type\":\"LinearAxis\"},{\"attributes\":{\"mode\":\"append\",\"overlay\":{\"id\":\"1461\"},\"renderers\":[{\"id\":\"1296\"}]},\"id\":\"1314\",\"type\":\"BoxSelectTool\"},{\"attributes\":{\"client_comm_id\":\"5808da46a0e645e4b9c483a887a347f2\",\"comm_id\":\"8bd30c3c64744c6b8450974de2bfb446\",\"plot_id\":\"1435\"},\"id\":\"1603\",\"type\":\"panel.models.comm_manager.CommManager\"},{\"attributes\":{},\"id\":\"1386\",\"type\":\"BasicTicker\"},{\"attributes\":{\"coordinates\":null,\"group\":null,\"text\":\"Problem 3\",\"text_color\":\"#E0E0E0\",\"text_font\":\"Josefin Sans\",\"text_font_size\":\"2.1em\"},\"id\":\"1375\",\"type\":\"Title\"},{\"attributes\":{\"axis_label\":\"x\",\"axis_label_standoff\":10,\"axis_label_text_color\":\"#FFFFFF\",\"axis_label_text_font\":\"Josefin Sans\",\"axis_label_text_font_size\":\"1.9em\",\"axis_label_text_font_style\":\"bold\",\"axis_line_alpha\":0.4,\"axis_line_color\":\"#E0E0E0\",\"coordinates\":null,\"formatter\":{\"id\":\"1419\"},\"group\":null,\"major_label_policy\":{\"id\":\"1420\"},\"major_label_text_color\":\"#E0E0E0\",\"major_label_text_font\":\"Josefin Sans\",\"major_label_text_font_size\":\"1.15em\",\"major_tick_line_alpha\":0.4,\"major_tick_line_color\":\"#E0E0E0\",\"minor_tick_line_alpha\":0.4,\"minor_tick_line_color\":\"#E0E0E0\",\"ticker\":{\"id\":\"1386\"}},\"id\":\"1385\",\"type\":\"LinearAxis\"},{\"attributes\":{\"callback\":null,\"mode\":\"vline\",\"renderers\":[{\"id\":\"1296\"}],\"tooltips\":null},\"id\":\"1310\",\"type\":\"HoverTool\"},{\"attributes\":{},\"id\":\"1303\",\"type\":\"BasicTickFormatter\"},{\"attributes\":{\"background_fill_alpha\":0.9,\"background_fill_color\":\"#0f0f0f\",\"below\":[{\"id\":\"1327\"}],\"border_fill_alpha\":0.8,\"border_fill_color\":\"#111111\",\"center\":[{\"id\":\"1330\"},{\"id\":\"1334\"},{\"id\":\"1366\"}],\"height\":450,\"left\":[{\"id\":\"1331\"}],\"outline_line_alpha\":0.25,\"outline_line_color\":\"#E0E0E0\",\"outline_line_width\":3,\"renderers\":[{\"id\":\"1354\"}],\"title\":{\"id\":\"1317\"},\"toolbar\":{\"id\":\"1342\"},\"toolbar_location\":null,\"x_range\":{\"id\":\"1319\"},\"x_scale\":{\"id\":\"1323\"},\"y_range\":{\"id\":\"1321\"},\"y_scale\":{\"id\":\"1325\"}},\"id\":\"1316\",\"subtype\":\"Figure\",\"type\":\"Plot\"},{\"attributes\":{\"axis\":{\"id\":\"1385\"},\"coordinates\":null,\"grid_line_alpha\":0.15,\"grid_line_color\":\"#E0E0E0\",\"group\":null,\"ticker\":null},\"id\":\"1388\",\"type\":\"Grid\"},{\"attributes\":{\"tools\":[{\"id\":\"1393\"},{\"id\":\"1394\"},{\"id\":\"1395\"},{\"id\":\"1396\"},{\"id\":\"1397\"},{\"id\":\"1398\"},{\"id\":\"1426\"},{\"id\":\"1430\"}]},\"id\":\"1400\",\"type\":\"Toolbar\"},{\"attributes\":{\"coordinates\":null,\"data_source\":{\"id\":\"1291\"},\"glyph\":{\"id\":\"1292\"},\"group\":null,\"hover_glyph\":{\"id\":\"1294\"},\"muted_glyph\":{\"id\":\"1295\"},\"nonselection_glyph\":{\"id\":\"1313\"},\"selection_glyph\":{\"id\":\"1312\"},\"view\":{\"id\":\"1297\"}},\"id\":\"1296\",\"type\":\"GlyphRenderer\"},{\"attributes\":{\"fill_alpha\":{\"value\":0.5},\"fill_color\":{\"value\":\"midnightblue\"},\"line_color\":{\"value\":\"white\"}},\"id\":\"1313\",\"type\":\"Circle\"},{\"attributes\":{},\"id\":\"1364\",\"type\":\"Selection\"},{\"attributes\":{\"axis\":{\"id\":\"1389\"},\"coordinates\":null,\"dimension\":1,\"grid_line_alpha\":0.15,\"grid_line_color\":\"#E0E0E0\",\"group\":null,\"ticker\":null},\"id\":\"1392\",\"type\":\"Grid\"},{\"attributes\":{},\"id\":\"1422\",\"type\":\"Selection\"},{\"attributes\":{},\"id\":\"1319\",\"type\":\"DataRange1d\"},{\"attributes\":{},\"id\":\"1321\",\"type\":\"DataRange1d\"},{\"attributes\":{\"fill_alpha\":{\"value\":0.5},\"fill_color\":{\"value\":\"red\"},\"hatch_alpha\":{\"value\":0.5},\"line_alpha\":{\"value\":0.5},\"line_color\":{\"value\":\"white\"},\"size\":{\"value\":10},\"x\":{\"field\":\"x\"},\"y\":{\"field\":\"y\"}},\"id\":\"1294\",\"type\":\"Circle\"},{\"attributes\":{\"margin\":[5,5,5,5],\"name\":\"HSpacer00109\",\"sizing_mode\":\"stretch_width\"},\"id\":\"1436\",\"type\":\"Spacer\"},{\"attributes\":{},\"id\":\"1323\",\"type\":\"LinearScale\"},{\"attributes\":{\"fill_alpha\":{\"value\":0.2},\"fill_color\":{\"value\":\"midnightblue\"},\"hatch_alpha\":{\"value\":0.2},\"line_alpha\":{\"value\":0.2},\"line_color\":{\"value\":\"white\"},\"size\":{\"value\":10},\"x\":{\"field\":\"x\"},\"y\":{\"field\":\"y\"}},\"id\":\"1295\",\"type\":\"Circle\"},{\"attributes\":{},\"id\":\"1390\",\"type\":\"BasicTicker\"},{\"attributes\":{},\"id\":\"1420\",\"type\":\"AllLabels\"},{\"attributes\":{\"bottom_units\":\"screen\",\"coordinates\":null,\"fill_alpha\":0.5,\"fill_color\":\"lightgrey\",\"group\":null,\"left_units\":\"screen\",\"level\":\"overlay\",\"line_alpha\":1.0,\"line_color\":\"black\",\"line_dash\":[4,4],\"line_width\":2,\"right_units\":\"screen\",\"syncable\":false,\"top_units\":\"screen\"},\"id\":\"1341\",\"type\":\"BoxAnnotation\"},{\"attributes\":{},\"id\":\"1363\",\"type\":\"UnionRenderers\"},{\"attributes\":{},\"id\":\"1421\",\"type\":\"UnionRenderers\"},{\"attributes\":{\"bottom_units\":\"screen\",\"coordinates\":null,\"fill_alpha\":0.5,\"fill_color\":\"lightgrey\",\"group\":null,\"left_units\":\"screen\",\"level\":\"overlay\",\"line_alpha\":1.0,\"line_color\":\"black\",\"line_dash\":[4,4],\"line_width\":2,\"right_units\":\"screen\",\"syncable\":false,\"top_units\":\"screen\"},\"id\":\"1283\",\"type\":\"BoxAnnotation\"},{\"attributes\":{},\"id\":\"1304\",\"type\":\"AllLabels\"},{\"attributes\":{},\"id\":\"1328\",\"type\":\"BasicTicker\"},{\"attributes\":{\"coordinates\":null,\"group\":null,\"text\":\"Problem 2\",\"text_color\":\"#E0E0E0\",\"text_font\":\"Josefin Sans\",\"text_font_size\":\"2.1em\"},\"id\":\"1317\",\"type\":\"Title\"},{\"attributes\":{},\"id\":\"1397\",\"type\":\"ResetTool\"},{\"attributes\":{\"axis_label\":\"x\",\"axis_label_standoff\":10,\"axis_label_text_color\":\"#FFFFFF\",\"axis_label_text_font\":\"Josefin Sans\",\"axis_label_text_font_size\":\"1.9em\",\"axis_label_text_font_style\":\"bold\",\"axis_line_alpha\":0.4,\"axis_line_color\":\"#E0E0E0\",\"coordinates\":null,\"formatter\":{\"id\":\"1361\"},\"group\":null,\"major_label_policy\":{\"id\":\"1362\"},\"major_label_text_color\":\"#E0E0E0\",\"major_label_text_font\":\"Josefin Sans\",\"major_label_text_font_size\":\"1.15em\",\"major_tick_line_alpha\":0.4,\"major_tick_line_color\":\"#E0E0E0\",\"minor_tick_line_alpha\":0.4,\"minor_tick_line_color\":\"#E0E0E0\",\"ticker\":{\"id\":\"1328\"}},\"id\":\"1327\",\"type\":\"LinearAxis\"},{\"attributes\":{},\"id\":\"1361\",\"type\":\"BasicTickFormatter\"},{\"attributes\":{},\"id\":\"1281\",\"type\":\"ResetTool\"},{\"attributes\":{},\"id\":\"1325\",\"type\":\"LinearScale\"},{\"attributes\":{},\"id\":\"1280\",\"type\":\"SaveTool\"},{\"attributes\":{\"axis\":{\"id\":\"1327\"},\"coordinates\":null,\"grid_line_alpha\":0.15,\"grid_line_color\":\"#E0E0E0\",\"group\":null,\"ticker\":null},\"id\":\"1330\",\"type\":\"Grid\"},{\"attributes\":{},\"id\":\"1394\",\"type\":\"WheelZoomTool\"},{\"attributes\":{},\"id\":\"1396\",\"type\":\"SaveTool\"},{\"attributes\":{\"axis\":{\"id\":\"1331\"},\"coordinates\":null,\"dimension\":1,\"grid_line_alpha\":0.15,\"grid_line_color\":\"#E0E0E0\",\"group\":null,\"ticker\":null},\"id\":\"1334\",\"type\":\"Grid\"},{\"attributes\":{},\"id\":\"1306\",\"type\":\"Selection\"},{\"attributes\":{},\"id\":\"1393\",\"type\":\"PanTool\"},{\"attributes\":{\"overlay\":{\"id\":\"1399\"}},\"id\":\"1395\",\"type\":\"BoxZoomTool\"},{\"attributes\":{},\"id\":\"1305\",\"type\":\"UnionRenderers\"},{\"attributes\":{},\"id\":\"1332\",\"type\":\"BasicTicker\"},{\"attributes\":{\"bottom_units\":\"screen\",\"coordinates\":null,\"fill_alpha\":0.5,\"fill_color\":\"lightgrey\",\"group\":null,\"left_units\":\"screen\",\"level\":\"overlay\",\"line_alpha\":1.0,\"line_color\":\"black\",\"line_dash\":[4,4],\"line_width\":2,\"right_units\":\"screen\",\"syncable\":false,\"top_units\":\"screen\"},\"id\":\"1461\",\"type\":\"BoxAnnotation\"},{\"attributes\":{\"axis_label\":\"y\",\"axis_label_standoff\":10,\"axis_label_text_color\":\"#FFFFFF\",\"axis_label_text_font\":\"Josefin Sans\",\"axis_label_text_font_size\":\"1.9em\",\"axis_label_text_font_style\":\"bold\",\"axis_line_alpha\":0.4,\"axis_line_color\":\"#E0E0E0\",\"coordinates\":null,\"formatter\":{\"id\":\"1358\"},\"group\":null,\"major_label_policy\":{\"id\":\"1359\"},\"major_label_text_color\":\"#E0E0E0\",\"major_label_text_font\":\"Josefin Sans\",\"major_label_text_font_size\":\"1.15em\",\"major_tick_line_alpha\":0.4,\"major_tick_line_color\":\"#E0E0E0\",\"minor_tick_line_alpha\":0.4,\"minor_tick_line_color\":\"#E0E0E0\",\"ticker\":{\"id\":\"1332\"}},\"id\":\"1331\",\"type\":\"LinearAxis\"},{\"attributes\":{\"fill_alpha\":{\"value\":0.2},\"fill_color\":{\"value\":\"midnightblue\"},\"hatch_alpha\":{\"value\":0.2},\"line_alpha\":{\"value\":0.2},\"line_color\":{\"value\":\"white\"},\"size\":{\"value\":10},\"x\":{\"field\":\"x\"},\"y\":{\"field\":\"y\"}},\"id\":\"1411\",\"type\":\"Circle\"},{\"attributes\":{},\"id\":\"1340\",\"type\":\"HelpTool\"},{\"attributes\":{\"fill_alpha\":{\"value\":0.2},\"fill_color\":{\"value\":\"midnightblue\"},\"hatch_alpha\":{\"value\":0.2},\"line_alpha\":{\"value\":0.2},\"line_color\":{\"value\":\"white\"},\"size\":{\"value\":10},\"x\":{\"field\":\"x\"},\"y\":{\"field\":\"y\"}},\"id\":\"1353\",\"type\":\"Circle\"},{\"attributes\":{\"coordinates\":null,\"data_source\":{\"id\":\"1407\"},\"glyph\":{\"id\":\"1408\"},\"group\":null,\"hover_glyph\":{\"id\":\"1410\"},\"muted_glyph\":{\"id\":\"1411\"},\"nonselection_glyph\":{\"id\":\"1429\"},\"selection_glyph\":{\"id\":\"1428\"},\"view\":{\"id\":\"1413\"}},\"id\":\"1412\",\"type\":\"GlyphRenderer\"},{\"attributes\":{},\"id\":\"1336\",\"type\":\"WheelZoomTool\"},{\"attributes\":{\"source\":{\"id\":\"1407\"}},\"id\":\"1413\",\"type\":\"CDSView\"},{\"attributes\":{},\"id\":\"1335\",\"type\":\"PanTool\"},{\"attributes\":{\"overlay\":{\"id\":\"1341\"}},\"id\":\"1337\",\"type\":\"BoxZoomTool\"},{\"attributes\":{\"fill_alpha\":{\"value\":0.25},\"fill_color\":{\"value\":\"midnightblue\"},\"hatch_alpha\":{\"value\":0.25},\"line_alpha\":{\"value\":0.25},\"line_color\":{\"value\":\"white\"},\"size\":{\"value\":10},\"x\":{\"field\":\"x\"},\"y\":{\"field\":\"y\"}},\"id\":\"1350\",\"type\":\"Circle\"},{\"attributes\":{},\"id\":\"1338\",\"type\":\"SaveTool\"},{\"attributes\":{},\"id\":\"1339\",\"type\":\"ResetTool\"},{\"attributes\":{\"label\":{\"value\":\"Observations\"},\"renderers\":[{\"id\":\"1354\"}]},\"id\":\"1367\",\"type\":\"LegendItem\"},{\"attributes\":{\"fill_alpha\":{\"value\":0.5},\"fill_color\":{\"value\":\"red\"},\"hatch_alpha\":{\"value\":0.5},\"line_alpha\":{\"value\":0.5},\"line_color\":{\"value\":\"white\"},\"size\":{\"value\":10},\"x\":{\"field\":\"x\"},\"y\":{\"field\":\"y\"}},\"id\":\"1410\",\"type\":\"Circle\"},{\"attributes\":{\"source\":{\"id\":\"1349\"}},\"id\":\"1355\",\"type\":\"CDSView\"},{\"attributes\":{},\"id\":\"1398\",\"type\":\"HelpTool\"},{\"attributes\":{\"coordinates\":null,\"data_source\":{\"id\":\"1349\"},\"glyph\":{\"id\":\"1350\"},\"group\":null,\"hover_glyph\":{\"id\":\"1352\"},\"muted_glyph\":{\"id\":\"1353\"},\"nonselection_glyph\":{\"id\":\"1371\"},\"selection_glyph\":{\"id\":\"1370\"},\"view\":{\"id\":\"1355\"}},\"id\":\"1354\",\"type\":\"GlyphRenderer\"},{\"attributes\":{\"tools\":[{\"id\":\"1277\"},{\"id\":\"1278\"},{\"id\":\"1279\"},{\"id\":\"1280\"},{\"id\":\"1281\"},{\"id\":\"1282\"},{\"id\":\"1310\"},{\"id\":\"1314\"}]},\"id\":\"1284\",\"type\":\"Toolbar\"},{\"attributes\":{\"background_fill_alpha\":0.25,\"background_fill_color\":\"#505050\",\"border_line_alpha\":0.25,\"coordinates\":null,\"group\":null,\"items\":[{\"id\":\"1367\"}],\"label_standoff\":8,\"label_text_color\":\"#E0E0E0\",\"label_text_font\":\"Josefin Sans\",\"label_text_font_size\":\"1.15em\",\"spacing\":8},\"id\":\"1366\",\"type\":\"Legend\"},{\"attributes\":{},\"id\":\"1359\",\"type\":\"AllLabels\"},{\"attributes\":{\"children\":[{\"id\":\"1436\"},{\"id\":\"1434\"},{\"id\":\"1503\"}],\"margin\":[0,0,0,0],\"name\":\"Row00113\"},\"id\":\"1435\",\"type\":\"Row\"},{\"attributes\":{\"background_fill_alpha\":0.25,\"background_fill_color\":\"#505050\",\"border_line_alpha\":0.25,\"coordinates\":null,\"group\":null,\"items\":[{\"id\":\"1309\"}],\"label_standoff\":8,\"label_text_color\":\"#E0E0E0\",\"label_text_font\":\"Josefin Sans\",\"label_text_font_size\":\"1.15em\",\"spacing\":8},\"id\":\"1308\",\"type\":\"Legend\"},{\"attributes\":{\"style\":{\"font-size\":\"250%\"},\"text\":\"Observing different problems\"},\"id\":\"1432\",\"type\":\"Div\"},{\"attributes\":{\"children\":[{\"id\":\"1258\"},{\"id\":\"1316\"},{\"id\":\"1374\"}]},\"id\":\"1433\",\"type\":\"Row\"},{\"attributes\":{\"bottom_units\":\"screen\",\"coordinates\":null,\"fill_alpha\":0.5,\"fill_color\":\"lightgrey\",\"group\":null,\"left_units\":\"screen\",\"level\":\"overlay\",\"line_alpha\":1.0,\"line_color\":\"black\",\"line_dash\":[4,4],\"line_width\":2,\"right_units\":\"screen\",\"syncable\":false,\"top_units\":\"screen\"},\"id\":\"1465\",\"type\":\"BoxAnnotation\"},{\"attributes\":{\"fill_alpha\":{\"value\":0.5},\"fill_color\":{\"value\":\"red\"},\"hatch_alpha\":{\"value\":0.5},\"line_alpha\":{\"value\":0.5},\"line_color\":{\"value\":\"white\"},\"size\":{\"value\":10},\"x\":{\"field\":\"x\"},\"y\":{\"field\":\"y\"}},\"id\":\"1352\",\"type\":\"Circle\"}],\"root_ids\":[\"1435\",\"1603\"]},\"title\":\"Bokeh Application\",\"version\":\"2.4.3\"}};\n",
       "    var render_items = [{\"docid\":\"e11b5e97-6e9a-45e4-b4fb-541b680dfaac\",\"root_ids\":[\"1435\"],\"roots\":{\"1435\":\"600a7532-0b60-4934-82da-badb54583a3b\"}}];\n",
       "    root.Bokeh.embed.embed_items_notebook(docs_json, render_items);\n",
       "    for (const render_item of render_items) {\n",
       "      for (const root_id of render_item.root_ids) {\n",
       "\tconst id_el = document.getElementById(root_id)\n",
       "\tif (id_el.children.length && (id_el.children[0].className === 'bk-root')) {\n",
       "\t  const root_el = id_el.children[0]\n",
       "\t  root_el.id = root_el.id + '-rendered'\n",
       "\t}\n",
       "      }\n",
       "    }\n",
       "  }\n",
       "  if (root.Bokeh !== undefined && root.Bokeh.Panel !== undefined) {\n",
       "    embed_document(root);\n",
       "  } else {\n",
       "    var attempts = 0;\n",
       "    var timer = setInterval(function(root) {\n",
       "      if (root.Bokeh !== undefined && root.Bokeh.Panel !== undefined) {\n",
       "        clearInterval(timer);\n",
       "        embed_document(root);\n",
       "      } else if (document.readyState == \"complete\") {\n",
       "        attempts++;\n",
       "        if (attempts > 200) {\n",
       "          clearInterval(timer);\n",
       "          console.log(\"Bokeh: ERROR: Unable to run BokehJS code because BokehJS library is missing\");\n",
       "        }\n",
       "      }\n",
       "    }, 25, root)\n",
       "  }\n",
       "})(window);</script>"
      ],
      "text/plain": [
       "Row\n",
       "    [0] HSpacer()\n",
       "    [1] Bokeh(Column)\n",
       "    [2] HSpacer()"
      ]
     },
     "execution_count": 7,
     "metadata": {
      "application/vnd.holoviews_exec.v0+json": {
       "id": "1435"
      }
     },
     "output_type": "execute_result"
    }
   ],
   "source": [
    "from bokeh.models import Div\n",
    "from bokeh.layouts import column, row\n",
    "plot = center_plot(column(Div(text = \"Observing different problems\", style={'font-size': '250%'}), row(*plots)))\n",
    "plot"
   ]
  },
  {
   "cell_type": "markdown",
   "metadata": {},
   "source": [
    "In real-life settings, this function can also have different levels of noise, as exemplified in the following code."
   ]
  },
  {
   "cell_type": "code",
   "execution_count": 8,
   "metadata": {
    "ExecuteTime": {
     "end_time": "2023-05-01T13:10:10.238294Z",
     "start_time": "2023-05-01T13:10:10.214825Z"
    }
   },
   "outputs": [],
   "source": [
    "params = [3, 0, 1]\n",
    "noise_levels = [0.1, 1.0, 8.0]\n",
    "# Generating the x axis\n",
    "x = np.linspace(0, 1, 100)\n",
    "plots = []\n",
    "for p in range(len(noise_levels)):\n",
    "    poly = np.poly1d(params)\n",
    "    epsilon = np.random.uniform(-noise_levels[p],noise_levels[p],x.shape)\n",
    "    y = poly(x) + epsilon\n",
    "    plots.append(scatter(x, y, title=\"Problem \"+(str(p+1))))"
   ]
  },
  {
   "cell_type": "code",
   "execution_count": 9,
   "metadata": {
    "ExecuteTime": {
     "end_time": "2023-05-01T13:10:11.545646Z",
     "start_time": "2023-05-01T13:10:11.447846Z"
    }
   },
   "outputs": [
    {
     "data": {},
     "metadata": {},
     "output_type": "display_data"
    },
    {
     "data": {
      "application/vnd.holoviews_exec.v0+json": "",
      "text/html": [
       "<div id='1946'>\n",
       "  <div class=\"bk-root\" id=\"23eed362-5728-47c0-b351-0f6161773476\" data-root-id=\"1946\"></div>\n",
       "</div>\n",
       "<script type=\"application/javascript\">(function(root) {\n",
       "  function embed_document(root) {\n",
       "    var docs_json = {\"6ed4407e-8eb4-4ec0-9bec-1c0c43dfaf16\":{\"defs\":[{\"extends\":null,\"module\":null,\"name\":\"ReactiveHTML1\",\"overrides\":[],\"properties\":[]},{\"extends\":null,\"module\":null,\"name\":\"FlexBox1\",\"overrides\":[],\"properties\":[{\"default\":\"flex-start\",\"kind\":null,\"name\":\"align_content\"},{\"default\":\"flex-start\",\"kind\":null,\"name\":\"align_items\"},{\"default\":\"row\",\"kind\":null,\"name\":\"flex_direction\"},{\"default\":\"wrap\",\"kind\":null,\"name\":\"flex_wrap\"},{\"default\":\"flex-start\",\"kind\":null,\"name\":\"justify_content\"}]},{\"extends\":null,\"module\":null,\"name\":\"GridStack1\",\"overrides\":[],\"properties\":[{\"default\":\"warn\",\"kind\":null,\"name\":\"mode\"},{\"default\":null,\"kind\":null,\"name\":\"ncols\"},{\"default\":null,\"kind\":null,\"name\":\"nrows\"},{\"default\":true,\"kind\":null,\"name\":\"allow_resize\"},{\"default\":true,\"kind\":null,\"name\":\"allow_drag\"},{\"default\":[],\"kind\":null,\"name\":\"state\"}]},{\"extends\":null,\"module\":null,\"name\":\"click1\",\"overrides\":[],\"properties\":[{\"default\":\"\",\"kind\":null,\"name\":\"terminal_output\"},{\"default\":\"\",\"kind\":null,\"name\":\"debug_name\"},{\"default\":0,\"kind\":null,\"name\":\"clears\"}]},{\"extends\":null,\"module\":null,\"name\":\"NotificationAreaBase1\",\"overrides\":[],\"properties\":[{\"default\":\"bottom-right\",\"kind\":null,\"name\":\"position\"},{\"default\":0,\"kind\":null,\"name\":\"_clear\"}]},{\"extends\":null,\"module\":null,\"name\":\"NotificationArea1\",\"overrides\":[],\"properties\":[{\"default\":[],\"kind\":null,\"name\":\"notifications\"},{\"default\":\"bottom-right\",\"kind\":null,\"name\":\"position\"},{\"default\":0,\"kind\":null,\"name\":\"_clear\"},{\"default\":[{\"background\":\"#ffc107\",\"icon\":{\"className\":\"fas fa-exclamation-triangle\",\"color\":\"white\",\"tagName\":\"i\"},\"type\":\"warning\"},{\"background\":\"#007bff\",\"icon\":{\"className\":\"fas fa-info-circle\",\"color\":\"white\",\"tagName\":\"i\"},\"type\":\"info\"}],\"kind\":null,\"name\":\"types\"}]},{\"extends\":null,\"module\":null,\"name\":\"Notification\",\"overrides\":[],\"properties\":[{\"default\":null,\"kind\":null,\"name\":\"background\"},{\"default\":3000,\"kind\":null,\"name\":\"duration\"},{\"default\":null,\"kind\":null,\"name\":\"icon\"},{\"default\":\"\",\"kind\":null,\"name\":\"message\"},{\"default\":null,\"kind\":null,\"name\":\"notification_type\"},{\"default\":false,\"kind\":null,\"name\":\"_destroyed\"}]},{\"extends\":null,\"module\":null,\"name\":\"TemplateActions1\",\"overrides\":[],\"properties\":[{\"default\":0,\"kind\":null,\"name\":\"open_modal\"},{\"default\":0,\"kind\":null,\"name\":\"close_modal\"}]},{\"extends\":null,\"module\":null,\"name\":\"MaterialTemplateActions1\",\"overrides\":[],\"properties\":[{\"default\":0,\"kind\":null,\"name\":\"open_modal\"},{\"default\":0,\"kind\":null,\"name\":\"close_modal\"}]}],\"roots\":{\"references\":[{\"attributes\":{\"axis\":{\"id\":\"1780\"},\"coordinates\":null,\"grid_line_alpha\":0.15,\"grid_line_color\":\"#E0E0E0\",\"group\":null,\"ticker\":null},\"id\":\"1783\",\"type\":\"Grid\"},{\"attributes\":{},\"id\":\"1781\",\"type\":\"BasicTicker\"},{\"attributes\":{},\"id\":\"1778\",\"type\":\"LinearScale\"},{\"attributes\":{\"overlay\":{\"id\":\"1794\"}},\"id\":\"1790\",\"type\":\"BoxZoomTool\"},{\"attributes\":{\"background_fill_alpha\":0.25,\"background_fill_color\":\"#505050\",\"border_line_alpha\":0.25,\"coordinates\":null,\"group\":null,\"items\":[{\"id\":\"1936\"}],\"label_standoff\":8,\"label_text_color\":\"#E0E0E0\",\"label_text_font\":\"Josefin Sans\",\"label_text_font_size\":\"1.15em\",\"spacing\":8},\"id\":\"1935\",\"type\":\"Legend\"},{\"attributes\":{},\"id\":\"1788\",\"type\":\"PanTool\"},{\"attributes\":{},\"id\":\"1789\",\"type\":\"WheelZoomTool\"},{\"attributes\":{\"coordinates\":null,\"data_source\":{\"id\":\"1918\"},\"glyph\":{\"id\":\"1919\"},\"group\":null,\"hover_glyph\":{\"id\":\"1921\"},\"muted_glyph\":{\"id\":\"1922\"},\"nonselection_glyph\":{\"id\":\"1940\"},\"selection_glyph\":{\"id\":\"1939\"},\"view\":{\"id\":\"1924\"}},\"id\":\"1923\",\"type\":\"GlyphRenderer\"},{\"attributes\":{\"source\":{\"id\":\"1918\"}},\"id\":\"1924\",\"type\":\"CDSView\"},{\"attributes\":{\"axis_label\":\"y\",\"axis_label_standoff\":10,\"axis_label_text_color\":\"#FFFFFF\",\"axis_label_text_font\":\"Josefin Sans\",\"axis_label_text_font_size\":\"1.9em\",\"axis_label_text_font_style\":\"bold\",\"axis_line_alpha\":0.4,\"axis_line_color\":\"#E0E0E0\",\"coordinates\":null,\"formatter\":{\"id\":\"1811\"},\"group\":null,\"major_label_policy\":{\"id\":\"1812\"},\"major_label_text_color\":\"#E0E0E0\",\"major_label_text_font\":\"Josefin Sans\",\"major_label_text_font_size\":\"1.15em\",\"major_tick_line_alpha\":0.4,\"major_tick_line_color\":\"#E0E0E0\",\"minor_tick_line_alpha\":0.4,\"minor_tick_line_color\":\"#E0E0E0\",\"ticker\":{\"id\":\"1785\"}},\"id\":\"1784\",\"type\":\"LinearAxis\"},{\"attributes\":{\"data\":{\"x\":{\"__ndarray__\":\"AAAAAAAAAABbv1Kg1q+EP1u/UqDWr5Q/CB988MEHnz9bv1Kg1q+kPzJvZ0jM26k/CB988MEHrz9wZ0jM2xmyP1u/UqDWr7Q/RhdddNFFtz8yb2dIzNu5Px3HcRzHcbw/CB988MEHvz96O0Ni3s7AP3BnSMzbGcI/ZZNNNtlkwz9bv1Kg1q/EP1HrVwrU+sU/RhdddNFFxz88Q2LezpDIPzJvZ0jM28k/J5tssskmyz8dx3Ecx3HMPxPzdobEvM0/CB988MEHzz9/pUCtXynQP3o7Q2LeztA/ddFFF1100T9wZ0jM2xnSP2r9SoFav9I/ZZNNNtlk0z9gKVDrVwrUP1u/UqDWr9Q/VlVVVVVV1T9R61cK1PrVP0yBWr9SoNY/RhdddNFF1z9BrV8pUOvXPzxDYt7OkNg/N9lkk0022T8yb2dIzNvZPy0Fav1Kgdo/J5tssskm2z8iMW9nSMzbPx3HcRzHcdw/GF100UUX3T8T83aGxLzdPw6JeTtDYt4/CB988MEH3z8DtX6lQK3fP3+lQK1fKeA/ffDBBx984D96O0Ni3s7gP3eGxLydIeE/ddFFF1104T9yHMdxHMfhP3BnSMzbGeI/bbLJJpts4j9q/UqBWr/iP2hIzNsZEuM/ZZNNNtlk4z9j3s6QmLfjP2ApUOtXCuQ/XnTRRRdd5D9bv1Kg1q/kP1gK1PqVAuU/VlVVVVVV5T9ToNavFKjlP1HrVwrU+uU/TjbZZJNN5j9MgVq/UqDmP0nM2xkS8+Y/RhdddNFF5z9EYt7OkJjnP0GtXylQ6+c/P/jggw8+6D88Q2LezpDoPzmO4ziO4+g/N9lkk0026T80JObtDInpPzJvZ0jM2+k/L7rooosu6j8tBWr9SoHqPypQ61cK1Oo/J5tssskm6z8l5u0MiXnrPyIxb2dIzOs/IHzwwQcf7D8dx3Ecx3HsPxsS83aGxOw/GF100UUX7T8VqPUrBWrtPxPzdobEvO0/ED744IMP7j8OiXk7Q2LuPwvU+pUCte4/CB988MEH7z8Gav1KgVrvPwO1fqVAre8/AAAAAAAA8D8=\",\"dtype\":\"float64\",\"order\":\"little\",\"shape\":[100]},\"y\":{\"__ndarray__\":\"SeBwrqw48D8O/xBxtVTvP8So12PeZvA/PJe90t/s8D/pj8EAlCbxP5oGx0k7XfE/RN++1n3f7j8JzFuZSqvuP3wHQhV2c/A/8v13pryy7z8Dw/LglELxP5mNgFfkiPA/BuPKJ6Ox7z/Cv04LQ7zwP3AWEsm0OPE/T6WyKBJ58T+lE50pU0HxP6DKKNrND/E/HvAzis7/8T9CerbVn97yP7Megq/7wfA/+9lFDqef8D9mrHTrQ/rxP4DFE0UDx/I/zutNFl028z9RdbcwYdLzP8ZZv7H4IfI/0cny+8u78z++JtEEL+bzPyubg6LuHfM/N0M/UafC8z/nQYG4rdzzPx57bsHsfvQ/UFBrlLEn9T9092/DVsD2PzD2zpMyCvc/ISUsraqp9j/UDek8Zy71PwW5H4GzOPc/a9ergHVC9z93/gU/7Dj4P4QnWDVYmPk/2vXfUqPq+T/2RDa46xH5P1SBRAn15Pc/IT4ax+Ew+T9524o/g3P6Pxreu3s3lvo/9qaGqvkE+z9VWqM/loL8P9Iz2+/AoPs/xgcVbLq0/T88tZM9AKj9P2ItQAXKU/0/uGj73lwl/j+KriZhr9n+P1kzCGYgnv8/5eOb4wGBAEBYsRZJS1sAQE2AbZQRKgFApORjb6gFAEBBUu2jm64BQHlcictfFQJAr3TULWIyAkCR2ukvmdcBQN5HniCdFAJAylntSQnjAUAqcVObj3wDQOvCPRk9AgNAs63wBmp4A0DNLLkVojoDQE1RiVHrpwRAenXwxs2sBEDzZRuZehMFQPjixzlroQRA/NKzrSR4BUCK7uBbmXcFQHkiEQrlEQdAbxEkKdVmBkBn8D5t55IGQBon478HdAdA80cbsHTSB0D2wbu7YSMIQHmPuAouZwhAXfP00JyvCUBtNZXTUWkKQL7NJ3xlnAlAE0df3bnTCUAAwPJ8xyULQB/hCb5o8gtA4EQjKMqoC0DzqHSxq/AMQNwZH9z7tgxAGqrcvxJyDUBumYPAUw8NQLnb7R5EdQ5AdSBIP/KqDkCGYHMaD48PQIXOMMZVNA9AustNEj8kEEA=\",\"dtype\":\"float64\",\"order\":\"little\",\"shape\":[100]}},\"selected\":{\"id\":\"1817\"},\"selection_policy\":{\"id\":\"1816\"}},\"id\":\"1802\",\"type\":\"ColumnDataSource\"},{\"attributes\":{},\"id\":\"1869\",\"type\":\"BasicTickFormatter\"},{\"attributes\":{},\"id\":\"1785\",\"type\":\"BasicTicker\"},{\"attributes\":{\"axis\":{\"id\":\"1784\"},\"coordinates\":null,\"dimension\":1,\"grid_line_alpha\":0.15,\"grid_line_color\":\"#E0E0E0\",\"group\":null,\"ticker\":null},\"id\":\"1787\",\"type\":\"Grid\"},{\"attributes\":{},\"id\":\"1791\",\"type\":\"SaveTool\"},{\"attributes\":{},\"id\":\"1792\",\"type\":\"ResetTool\"},{\"attributes\":{},\"id\":\"1814\",\"type\":\"BasicTickFormatter\"},{\"attributes\":{\"children\":[{\"id\":\"1943\"},{\"id\":\"1944\"}]},\"id\":\"1945\",\"type\":\"Column\"},{\"attributes\":{\"fill_alpha\":{\"value\":0.8},\"fill_color\":{\"value\":\"red\"},\"line_color\":{\"value\":\"white\"}},\"id\":\"1823\",\"type\":\"Circle\"},{\"attributes\":{\"label\":{\"value\":\"Observations\"},\"renderers\":[{\"id\":\"1807\"}]},\"id\":\"1820\",\"type\":\"LegendItem\"},{\"attributes\":{\"callback\":null,\"mode\":\"vline\",\"renderers\":[{\"id\":\"1923\"}],\"tooltips\":null},\"id\":\"1937\",\"type\":\"HoverTool\"},{\"attributes\":{\"mode\":\"append\",\"overlay\":{\"id\":\"1972\"},\"renderers\":[{\"id\":\"1807\"}]},\"id\":\"1825\",\"type\":\"BoxSelectTool\"},{\"attributes\":{},\"id\":\"1793\",\"type\":\"HelpTool\"},{\"attributes\":{},\"id\":\"1776\",\"type\":\"LinearScale\"},{\"attributes\":{},\"id\":\"1812\",\"type\":\"AllLabels\"},{\"attributes\":{},\"id\":\"1774\",\"type\":\"DataRange1d\"},{\"attributes\":{\"callback\":null,\"mode\":\"vline\",\"renderers\":[{\"id\":\"1807\"}],\"tooltips\":null},\"id\":\"1821\",\"type\":\"HoverTool\"},{\"attributes\":{},\"id\":\"1870\",\"type\":\"AllLabels\"},{\"attributes\":{\"fill_alpha\":{\"value\":0.25},\"fill_color\":{\"value\":\"midnightblue\"},\"hatch_alpha\":{\"value\":0.25},\"line_alpha\":{\"value\":0.25},\"line_color\":{\"value\":\"white\"},\"size\":{\"value\":10},\"x\":{\"field\":\"x\"},\"y\":{\"field\":\"y\"}},\"id\":\"1919\",\"type\":\"Circle\"},{\"attributes\":{\"fill_alpha\":{\"value\":0.5},\"fill_color\":{\"value\":\"midnightblue\"},\"line_color\":{\"value\":\"white\"}},\"id\":\"1824\",\"type\":\"Circle\"},{\"attributes\":{\"background_fill_alpha\":0.9,\"background_fill_color\":\"#0f0f0f\",\"below\":[{\"id\":\"1838\"}],\"border_fill_alpha\":0.8,\"border_fill_color\":\"#111111\",\"center\":[{\"id\":\"1841\"},{\"id\":\"1845\"},{\"id\":\"1877\"}],\"height\":450,\"left\":[{\"id\":\"1842\"}],\"outline_line_alpha\":0.25,\"outline_line_color\":\"#E0E0E0\",\"outline_line_width\":3,\"renderers\":[{\"id\":\"1865\"}],\"title\":{\"id\":\"1828\"},\"toolbar\":{\"id\":\"1853\"},\"toolbar_location\":null,\"x_range\":{\"id\":\"1830\"},\"x_scale\":{\"id\":\"1834\"},\"y_range\":{\"id\":\"1832\"},\"y_scale\":{\"id\":\"1836\"}},\"id\":\"1827\",\"subtype\":\"Figure\",\"type\":\"Plot\"},{\"attributes\":{},\"id\":\"1830\",\"type\":\"DataRange1d\"},{\"attributes\":{\"fill_alpha\":{\"value\":0.25},\"fill_color\":{\"value\":\"midnightblue\"},\"hatch_alpha\":{\"value\":0.25},\"line_alpha\":{\"value\":0.25},\"line_color\":{\"value\":\"white\"},\"size\":{\"value\":10},\"x\":{\"field\":\"x\"},\"y\":{\"field\":\"y\"}},\"id\":\"1803\",\"type\":\"Circle\"},{\"attributes\":{},\"id\":\"1832\",\"type\":\"DataRange1d\"},{\"attributes\":{\"bottom_units\":\"screen\",\"coordinates\":null,\"fill_alpha\":0.5,\"fill_color\":\"lightgrey\",\"group\":null,\"left_units\":\"screen\",\"level\":\"overlay\",\"line_alpha\":1.0,\"line_color\":\"black\",\"line_dash\":[4,4],\"line_width\":2,\"right_units\":\"screen\",\"syncable\":false,\"top_units\":\"screen\"},\"id\":\"1976\",\"type\":\"BoxAnnotation\"},{\"attributes\":{},\"id\":\"1834\",\"type\":\"LinearScale\"},{\"attributes\":{},\"id\":\"1851\",\"type\":\"HelpTool\"},{\"attributes\":{\"bottom_units\":\"screen\",\"coordinates\":null,\"fill_alpha\":0.5,\"fill_color\":\"lightgrey\",\"group\":null,\"left_units\":\"screen\",\"level\":\"overlay\",\"line_alpha\":1.0,\"line_color\":\"black\",\"line_dash\":[4,4],\"line_width\":2,\"right_units\":\"screen\",\"syncable\":false,\"top_units\":\"screen\"},\"id\":\"1980\",\"type\":\"BoxAnnotation\"},{\"attributes\":{},\"id\":\"1874\",\"type\":\"UnionRenderers\"},{\"attributes\":{},\"id\":\"1839\",\"type\":\"BasicTicker\"},{\"attributes\":{\"coordinates\":null,\"group\":null,\"text\":\"Problem 2\",\"text_color\":\"#E0E0E0\",\"text_font\":\"Josefin Sans\",\"text_font_size\":\"2.1em\"},\"id\":\"1828\",\"type\":\"Title\"},{\"attributes\":{\"axis_label\":\"x\",\"axis_label_standoff\":10,\"axis_label_text_color\":\"#FFFFFF\",\"axis_label_text_font\":\"Josefin Sans\",\"axis_label_text_font_size\":\"1.9em\",\"axis_label_text_font_style\":\"bold\",\"axis_line_alpha\":0.4,\"axis_line_color\":\"#E0E0E0\",\"coordinates\":null,\"formatter\":{\"id\":\"1872\"},\"group\":null,\"major_label_policy\":{\"id\":\"1873\"},\"major_label_text_color\":\"#E0E0E0\",\"major_label_text_font\":\"Josefin Sans\",\"major_label_text_font_size\":\"1.15em\",\"major_tick_line_alpha\":0.4,\"major_tick_line_color\":\"#E0E0E0\",\"minor_tick_line_alpha\":0.4,\"minor_tick_line_color\":\"#E0E0E0\",\"ticker\":{\"id\":\"1839\"}},\"id\":\"1838\",\"type\":\"LinearAxis\"},{\"attributes\":{\"axis_label\":\"y\",\"axis_label_standoff\":10,\"axis_label_text_color\":\"#FFFFFF\",\"axis_label_text_font\":\"Josefin Sans\",\"axis_label_text_font_size\":\"1.9em\",\"axis_label_text_font_style\":\"bold\",\"axis_line_alpha\":0.4,\"axis_line_color\":\"#E0E0E0\",\"coordinates\":null,\"formatter\":{\"id\":\"1869\"},\"group\":null,\"major_label_policy\":{\"id\":\"1870\"},\"major_label_text_color\":\"#E0E0E0\",\"major_label_text_font\":\"Josefin Sans\",\"major_label_text_font_size\":\"1.15em\",\"major_tick_line_alpha\":0.4,\"major_tick_line_color\":\"#E0E0E0\",\"minor_tick_line_alpha\":0.4,\"minor_tick_line_color\":\"#E0E0E0\",\"ticker\":{\"id\":\"1843\"}},\"id\":\"1842\",\"type\":\"LinearAxis\"},{\"attributes\":{},\"id\":\"1927\",\"type\":\"BasicTickFormatter\"},{\"attributes\":{\"fill_alpha\":{\"value\":0.5},\"fill_color\":{\"value\":\"red\"},\"hatch_alpha\":{\"value\":0.5},\"line_alpha\":{\"value\":0.5},\"line_color\":{\"value\":\"white\"},\"size\":{\"value\":10},\"x\":{\"field\":\"x\"},\"y\":{\"field\":\"y\"}},\"id\":\"1921\",\"type\":\"Circle\"},{\"attributes\":{},\"id\":\"1836\",\"type\":\"LinearScale\"},{\"attributes\":{},\"id\":\"1875\",\"type\":\"Selection\"},{\"attributes\":{\"axis\":{\"id\":\"1838\"},\"coordinates\":null,\"grid_line_alpha\":0.15,\"grid_line_color\":\"#E0E0E0\",\"group\":null,\"ticker\":null},\"id\":\"1841\",\"type\":\"Grid\"},{\"attributes\":{},\"id\":\"1816\",\"type\":\"UnionRenderers\"},{\"attributes\":{\"axis\":{\"id\":\"1842\"},\"coordinates\":null,\"dimension\":1,\"grid_line_alpha\":0.15,\"grid_line_color\":\"#E0E0E0\",\"group\":null,\"ticker\":null},\"id\":\"1845\",\"type\":\"Grid\"},{\"attributes\":{},\"id\":\"1843\",\"type\":\"BasicTicker\"},{\"attributes\":{},\"id\":\"1930\",\"type\":\"BasicTickFormatter\"},{\"attributes\":{\"data\":{\"x\":{\"__ndarray__\":\"AAAAAAAAAABbv1Kg1q+EP1u/UqDWr5Q/CB988MEHnz9bv1Kg1q+kPzJvZ0jM26k/CB988MEHrz9wZ0jM2xmyP1u/UqDWr7Q/RhdddNFFtz8yb2dIzNu5Px3HcRzHcbw/CB988MEHvz96O0Ni3s7AP3BnSMzbGcI/ZZNNNtlkwz9bv1Kg1q/EP1HrVwrU+sU/RhdddNFFxz88Q2LezpDIPzJvZ0jM28k/J5tssskmyz8dx3Ecx3HMPxPzdobEvM0/CB988MEHzz9/pUCtXynQP3o7Q2LeztA/ddFFF1100T9wZ0jM2xnSP2r9SoFav9I/ZZNNNtlk0z9gKVDrVwrUP1u/UqDWr9Q/VlVVVVVV1T9R61cK1PrVP0yBWr9SoNY/RhdddNFF1z9BrV8pUOvXPzxDYt7OkNg/N9lkk0022T8yb2dIzNvZPy0Fav1Kgdo/J5tssskm2z8iMW9nSMzbPx3HcRzHcdw/GF100UUX3T8T83aGxLzdPw6JeTtDYt4/CB988MEH3z8DtX6lQK3fP3+lQK1fKeA/ffDBBx984D96O0Ni3s7gP3eGxLydIeE/ddFFF1104T9yHMdxHMfhP3BnSMzbGeI/bbLJJpts4j9q/UqBWr/iP2hIzNsZEuM/ZZNNNtlk4z9j3s6QmLfjP2ApUOtXCuQ/XnTRRRdd5D9bv1Kg1q/kP1gK1PqVAuU/VlVVVVVV5T9ToNavFKjlP1HrVwrU+uU/TjbZZJNN5j9MgVq/UqDmP0nM2xkS8+Y/RhdddNFF5z9EYt7OkJjnP0GtXylQ6+c/P/jggw8+6D88Q2LezpDoPzmO4ziO4+g/N9lkk0026T80JObtDInpPzJvZ0jM2+k/L7rooosu6j8tBWr9SoHqPypQ61cK1Oo/J5tssskm6z8l5u0MiXnrPyIxb2dIzOs/IHzwwQcf7D8dx3Ecx3HsPxsS83aGxOw/GF100UUX7T8VqPUrBWrtPxPzdobEvO0/ED744IMP7j8OiXk7Q2LuPwvU+pUCte4/CB988MEH7z8Gav1KgVrvPwO1fqVAre8/AAAAAAAA8D8=\",\"dtype\":\"float64\",\"order\":\"little\",\"shape\":[100]},\"y\":{\"__ndarray__\":\"GFd3qmvy2D/E36Lh04zmP/xwgMtLRe0/LGNfHJpO0T+wUkU+nTHwP4YIhUaqUvM/ptQfuseq5T+PyOPMk7n1P7yF6+WzxO0/nvb9yYYL6T+UswHwZyDeP8kAW82Hsfs/4LZjdfjIuj9Ub1s642TbP/m9YMHvXvA/X/ROvNqLAEAvsb6Q6o/wP65QGH1bZPw/UiZ7bVdY9D+MAzD7I7rxP+CcKSjai84/QL+lUSp1yj+ktGjdkjDaP5ANrNTZBOY/RA6aFY6L9j8vTXI6afr1P1PTanqW0f4/QvN5akoZ5j8grodFabjYP1QXto9MHOk/GGCtFa7s+T/IRu7wN3HxP6ByRZbhnvY/oCef83x47T86dAM7UlDmP/p++Udl4PU/MRPuJKOh9j9k8eknF+TxP++QK9TWSwNAWwWyeCGHA0AM8UgRuZQBQIqDON70vAFAdCc1navvA0ApwF01I2j/P4hqDzD0+vE/rF/CIuz0/j+AcX7n/wPwP1ztS66Yfvw/ThGtTkdQAUDcGiPAWxDsP2hMfhxwWf4/aNavqfPF9D946Qu/kaLtP5GYBzoAf/Q/FiSz0VuwBECktlcpJTgAQIIfyvnBHfE/G4jMpEIiAEBIw0EitowDQDtIcchHTwNAuFAw5n2IBUCuCFjkiDj8P9fnx690N/0/vfnGbVQI+z8TrcRB93cAQDfI3UNohfY/4BHVYuFUA0AgBJX4XzcAQJmH03sjjwNAAKejw11zAkBAPbPOIAz4P9z8BjyekARAA782WD9+C0ACfPHRrTMEQOC26X2h0ghAUdXtvOaq/T8shyQd8iMFQLBzG3gbEwRAq+LtscMJBkB0Byfpbv8DQEw3Ffx4DwdAnnoVB11ZBEADgFJJ25sAQM7/pOULeQ5AIRPMS6ZfA0DSOJVnGg0HQLvAgRyQbQ1AEalGWB+jDECn5P6kxmMHQLYw5xyAEwpAeSGq2Vq6EUBA93SPC40QQFLyxJAz+AdAAGgv4EhMD0D6G8TbuW4QQLMC1r5iahFA0yYhR4XBC0AMfQHmLDsTQKK0TsBWExBAfqqbgHMUCUA=\",\"dtype\":\"float64\",\"order\":\"little\",\"shape\":[100]}},\"selected\":{\"id\":\"1875\"},\"selection_policy\":{\"id\":\"1874\"}},\"id\":\"1860\",\"type\":\"ColumnDataSource\"},{\"attributes\":{},\"id\":\"1817\",\"type\":\"Selection\"},{\"attributes\":{},\"id\":\"1847\",\"type\":\"WheelZoomTool\"},{\"attributes\":{\"fill_alpha\":{\"value\":0.8},\"fill_color\":{\"value\":\"red\"},\"line_color\":{\"value\":\"white\"}},\"id\":\"1939\",\"type\":\"Circle\"},{\"attributes\":{\"fill_alpha\":{\"value\":0.8},\"fill_color\":{\"value\":\"red\"},\"line_color\":{\"value\":\"white\"}},\"id\":\"1881\",\"type\":\"Circle\"},{\"attributes\":{},\"id\":\"1846\",\"type\":\"PanTool\"},{\"attributes\":{\"label\":{\"value\":\"Observations\"},\"renderers\":[{\"id\":\"1923\"}]},\"id\":\"1936\",\"type\":\"LegendItem\"},{\"attributes\":{\"overlay\":{\"id\":\"1852\"}},\"id\":\"1848\",\"type\":\"BoxZoomTool\"},{\"attributes\":{\"mode\":\"append\",\"overlay\":{\"id\":\"1976\"},\"renderers\":[{\"id\":\"1865\"}]},\"id\":\"1883\",\"type\":\"BoxSelectTool\"},{\"attributes\":{},\"id\":\"1849\",\"type\":\"SaveTool\"},{\"attributes\":{},\"id\":\"1815\",\"type\":\"AllLabels\"},{\"attributes\":{},\"id\":\"1850\",\"type\":\"ResetTool\"},{\"attributes\":{},\"id\":\"1928\",\"type\":\"AllLabels\"},{\"attributes\":{\"callback\":null,\"mode\":\"vline\",\"renderers\":[{\"id\":\"1865\"}],\"tooltips\":null},\"id\":\"1879\",\"type\":\"HoverTool\"},{\"attributes\":{\"background_fill_alpha\":0.9,\"background_fill_color\":\"#0f0f0f\",\"below\":[{\"id\":\"1896\"}],\"border_fill_alpha\":0.8,\"border_fill_color\":\"#111111\",\"center\":[{\"id\":\"1899\"},{\"id\":\"1903\"},{\"id\":\"1935\"}],\"height\":450,\"left\":[{\"id\":\"1900\"}],\"outline_line_alpha\":0.25,\"outline_line_color\":\"#E0E0E0\",\"outline_line_width\":3,\"renderers\":[{\"id\":\"1923\"}],\"title\":{\"id\":\"1886\"},\"toolbar\":{\"id\":\"1911\"},\"toolbar_location\":null,\"x_range\":{\"id\":\"1888\"},\"x_scale\":{\"id\":\"1892\"},\"y_range\":{\"id\":\"1890\"},\"y_scale\":{\"id\":\"1894\"}},\"id\":\"1885\",\"subtype\":\"Figure\",\"type\":\"Plot\"},{\"attributes\":{},\"id\":\"1872\",\"type\":\"BasicTickFormatter\"},{\"attributes\":{},\"id\":\"1873\",\"type\":\"AllLabels\"},{\"attributes\":{\"fill_alpha\":{\"value\":0.5},\"fill_color\":{\"value\":\"midnightblue\"},\"line_color\":{\"value\":\"white\"}},\"id\":\"1940\",\"type\":\"Circle\"},{\"attributes\":{\"fill_alpha\":{\"value\":0.5},\"fill_color\":{\"value\":\"red\"},\"hatch_alpha\":{\"value\":0.5},\"line_alpha\":{\"value\":0.5},\"line_color\":{\"value\":\"white\"},\"size\":{\"value\":10},\"x\":{\"field\":\"x\"},\"y\":{\"field\":\"y\"}},\"id\":\"1805\",\"type\":\"Circle\"},{\"attributes\":{\"bottom_units\":\"screen\",\"coordinates\":null,\"fill_alpha\":0.5,\"fill_color\":\"lightgrey\",\"group\":null,\"left_units\":\"screen\",\"level\":\"overlay\",\"line_alpha\":1.0,\"line_color\":\"black\",\"line_dash\":[4,4],\"line_width\":2,\"right_units\":\"screen\",\"syncable\":false,\"top_units\":\"screen\"},\"id\":\"1852\",\"type\":\"BoxAnnotation\"},{\"attributes\":{\"fill_alpha\":{\"value\":0.2},\"fill_color\":{\"value\":\"midnightblue\"},\"hatch_alpha\":{\"value\":0.2},\"line_alpha\":{\"value\":0.2},\"line_color\":{\"value\":\"white\"},\"size\":{\"value\":10},\"x\":{\"field\":\"x\"},\"y\":{\"field\":\"y\"}},\"id\":\"1806\",\"type\":\"Circle\"},{\"attributes\":{\"fill_alpha\":{\"value\":0.5},\"fill_color\":{\"value\":\"midnightblue\"},\"line_color\":{\"value\":\"white\"}},\"id\":\"1882\",\"type\":\"Circle\"},{\"attributes\":{\"fill_alpha\":{\"value\":0.2},\"fill_color\":{\"value\":\"midnightblue\"},\"hatch_alpha\":{\"value\":0.2},\"line_alpha\":{\"value\":0.2},\"line_color\":{\"value\":\"white\"},\"size\":{\"value\":10},\"x\":{\"field\":\"x\"},\"y\":{\"field\":\"y\"}},\"id\":\"1864\",\"type\":\"Circle\"},{\"attributes\":{},\"id\":\"1888\",\"type\":\"DataRange1d\"},{\"attributes\":{\"fill_alpha\":{\"value\":0.5},\"fill_color\":{\"value\":\"red\"},\"hatch_alpha\":{\"value\":0.5},\"line_alpha\":{\"value\":0.5},\"line_color\":{\"value\":\"white\"},\"size\":{\"value\":10},\"x\":{\"field\":\"x\"},\"y\":{\"field\":\"y\"}},\"id\":\"1863\",\"type\":\"Circle\"},{\"attributes\":{\"bottom_units\":\"screen\",\"coordinates\":null,\"fill_alpha\":0.5,\"fill_color\":\"lightgrey\",\"group\":null,\"left_units\":\"screen\",\"level\":\"overlay\",\"line_alpha\":1.0,\"line_color\":\"black\",\"line_dash\":[4,4],\"line_width\":2,\"right_units\":\"screen\",\"syncable\":false,\"top_units\":\"screen\"},\"id\":\"1794\",\"type\":\"BoxAnnotation\"},{\"attributes\":{},\"id\":\"1890\",\"type\":\"DataRange1d\"},{\"attributes\":{\"tools\":[{\"id\":\"1788\"},{\"id\":\"1789\"},{\"id\":\"1790\"},{\"id\":\"1791\"},{\"id\":\"1792\"},{\"id\":\"1793\"},{\"id\":\"1821\"},{\"id\":\"1825\"}]},\"id\":\"1795\",\"type\":\"Toolbar\"},{\"attributes\":{},\"id\":\"1892\",\"type\":\"LinearScale\"},{\"attributes\":{\"background_fill_alpha\":0.9,\"background_fill_color\":\"#0f0f0f\",\"below\":[{\"id\":\"1780\"}],\"border_fill_alpha\":0.8,\"border_fill_color\":\"#111111\",\"center\":[{\"id\":\"1783\"},{\"id\":\"1787\"},{\"id\":\"1819\"}],\"height\":450,\"left\":[{\"id\":\"1784\"}],\"outline_line_alpha\":0.25,\"outline_line_color\":\"#E0E0E0\",\"outline_line_width\":3,\"renderers\":[{\"id\":\"1807\"}],\"title\":{\"id\":\"1770\"},\"toolbar\":{\"id\":\"1795\"},\"toolbar_location\":null,\"x_range\":{\"id\":\"1772\"},\"x_scale\":{\"id\":\"1776\"},\"y_range\":{\"id\":\"1774\"},\"y_scale\":{\"id\":\"1778\"}},\"id\":\"1769\",\"subtype\":\"Figure\",\"type\":\"Plot\"},{\"attributes\":{\"tools\":[{\"id\":\"1846\"},{\"id\":\"1847\"},{\"id\":\"1848\"},{\"id\":\"1849\"},{\"id\":\"1850\"},{\"id\":\"1851\"},{\"id\":\"1879\"},{\"id\":\"1883\"}]},\"id\":\"1853\",\"type\":\"Toolbar\"},{\"attributes\":{},\"id\":\"1909\",\"type\":\"HelpTool\"},{\"attributes\":{\"fill_alpha\":{\"value\":0.25},\"fill_color\":{\"value\":\"midnightblue\"},\"hatch_alpha\":{\"value\":0.25},\"line_alpha\":{\"value\":0.25},\"line_color\":{\"value\":\"white\"},\"size\":{\"value\":10},\"x\":{\"field\":\"x\"},\"y\":{\"field\":\"y\"}},\"id\":\"1861\",\"type\":\"Circle\"},{\"attributes\":{\"background_fill_alpha\":0.25,\"background_fill_color\":\"#505050\",\"border_line_alpha\":0.25,\"coordinates\":null,\"group\":null,\"items\":[{\"id\":\"1878\"}],\"label_standoff\":8,\"label_text_color\":\"#E0E0E0\",\"label_text_font\":\"Josefin Sans\",\"label_text_font_size\":\"1.15em\",\"spacing\":8},\"id\":\"1877\",\"type\":\"Legend\"},{\"attributes\":{\"bottom_units\":\"screen\",\"coordinates\":null,\"fill_alpha\":0.5,\"fill_color\":\"lightgrey\",\"group\":null,\"left_units\":\"screen\",\"level\":\"overlay\",\"line_alpha\":1.0,\"line_color\":\"black\",\"line_dash\":[4,4],\"line_width\":2,\"right_units\":\"screen\",\"syncable\":false,\"top_units\":\"screen\"},\"id\":\"1972\",\"type\":\"BoxAnnotation\"},{\"attributes\":{\"children\":[{\"id\":\"1769\"},{\"id\":\"1827\"},{\"id\":\"1885\"}]},\"id\":\"1944\",\"type\":\"Row\"},{\"attributes\":{\"coordinates\":null,\"data_source\":{\"id\":\"1802\"},\"glyph\":{\"id\":\"1803\"},\"group\":null,\"hover_glyph\":{\"id\":\"1805\"},\"muted_glyph\":{\"id\":\"1806\"},\"nonselection_glyph\":{\"id\":\"1824\"},\"selection_glyph\":{\"id\":\"1823\"},\"view\":{\"id\":\"1808\"}},\"id\":\"1807\",\"type\":\"GlyphRenderer\"},{\"attributes\":{},\"id\":\"1897\",\"type\":\"BasicTicker\"},{\"attributes\":{},\"id\":\"1932\",\"type\":\"UnionRenderers\"},{\"attributes\":{\"coordinates\":null,\"group\":null,\"text\":\"Problem 3\",\"text_color\":\"#E0E0E0\",\"text_font\":\"Josefin Sans\",\"text_font_size\":\"2.1em\"},\"id\":\"1886\",\"type\":\"Title\"},{\"attributes\":{\"coordinates\":null,\"data_source\":{\"id\":\"1860\"},\"glyph\":{\"id\":\"1861\"},\"group\":null,\"hover_glyph\":{\"id\":\"1863\"},\"muted_glyph\":{\"id\":\"1864\"},\"nonselection_glyph\":{\"id\":\"1882\"},\"selection_glyph\":{\"id\":\"1881\"},\"view\":{\"id\":\"1866\"}},\"id\":\"1865\",\"type\":\"GlyphRenderer\"},{\"attributes\":{\"axis_label\":\"x\",\"axis_label_standoff\":10,\"axis_label_text_color\":\"#FFFFFF\",\"axis_label_text_font\":\"Josefin Sans\",\"axis_label_text_font_size\":\"1.9em\",\"axis_label_text_font_style\":\"bold\",\"axis_line_alpha\":0.4,\"axis_line_color\":\"#E0E0E0\",\"coordinates\":null,\"formatter\":{\"id\":\"1930\"},\"group\":null,\"major_label_policy\":{\"id\":\"1931\"},\"major_label_text_color\":\"#E0E0E0\",\"major_label_text_font\":\"Josefin Sans\",\"major_label_text_font_size\":\"1.15em\",\"major_tick_line_alpha\":0.4,\"major_tick_line_color\":\"#E0E0E0\",\"minor_tick_line_alpha\":0.4,\"minor_tick_line_color\":\"#E0E0E0\",\"ticker\":{\"id\":\"1897\"}},\"id\":\"1896\",\"type\":\"LinearAxis\"},{\"attributes\":{\"source\":{\"id\":\"1860\"}},\"id\":\"1866\",\"type\":\"CDSView\"},{\"attributes\":{\"axis_label\":\"y\",\"axis_label_standoff\":10,\"axis_label_text_color\":\"#FFFFFF\",\"axis_label_text_font\":\"Josefin Sans\",\"axis_label_text_font_size\":\"1.9em\",\"axis_label_text_font_style\":\"bold\",\"axis_line_alpha\":0.4,\"axis_line_color\":\"#E0E0E0\",\"coordinates\":null,\"formatter\":{\"id\":\"1927\"},\"group\":null,\"major_label_policy\":{\"id\":\"1928\"},\"major_label_text_color\":\"#E0E0E0\",\"major_label_text_font\":\"Josefin Sans\",\"major_label_text_font_size\":\"1.15em\",\"major_tick_line_alpha\":0.4,\"major_tick_line_color\":\"#E0E0E0\",\"minor_tick_line_alpha\":0.4,\"minor_tick_line_color\":\"#E0E0E0\",\"ticker\":{\"id\":\"1901\"}},\"id\":\"1900\",\"type\":\"LinearAxis\"},{\"attributes\":{\"mode\":\"append\",\"overlay\":{\"id\":\"1980\"},\"renderers\":[{\"id\":\"1923\"}]},\"id\":\"1941\",\"type\":\"BoxSelectTool\"},{\"attributes\":{},\"id\":\"1894\",\"type\":\"LinearScale\"},{\"attributes\":{\"label\":{\"value\":\"Observations\"},\"renderers\":[{\"id\":\"1865\"}]},\"id\":\"1878\",\"type\":\"LegendItem\"},{\"attributes\":{\"style\":{\"font-size\":\"250%\"},\"text\":\"Different amounts of noise\"},\"id\":\"1943\",\"type\":\"Div\"},{\"attributes\":{\"axis\":{\"id\":\"1896\"},\"coordinates\":null,\"grid_line_alpha\":0.15,\"grid_line_color\":\"#E0E0E0\",\"group\":null,\"ticker\":null},\"id\":\"1899\",\"type\":\"Grid\"},{\"attributes\":{\"axis\":{\"id\":\"1900\"},\"coordinates\":null,\"dimension\":1,\"grid_line_alpha\":0.15,\"grid_line_color\":\"#E0E0E0\",\"group\":null,\"ticker\":null},\"id\":\"1903\",\"type\":\"Grid\"},{\"attributes\":{},\"id\":\"1901\",\"type\":\"BasicTicker\"},{\"attributes\":{\"data\":{\"x\":{\"__ndarray__\":\"AAAAAAAAAABbv1Kg1q+EP1u/UqDWr5Q/CB988MEHnz9bv1Kg1q+kPzJvZ0jM26k/CB988MEHrz9wZ0jM2xmyP1u/UqDWr7Q/RhdddNFFtz8yb2dIzNu5Px3HcRzHcbw/CB988MEHvz96O0Ni3s7AP3BnSMzbGcI/ZZNNNtlkwz9bv1Kg1q/EP1HrVwrU+sU/RhdddNFFxz88Q2LezpDIPzJvZ0jM28k/J5tssskmyz8dx3Ecx3HMPxPzdobEvM0/CB988MEHzz9/pUCtXynQP3o7Q2LeztA/ddFFF1100T9wZ0jM2xnSP2r9SoFav9I/ZZNNNtlk0z9gKVDrVwrUP1u/UqDWr9Q/VlVVVVVV1T9R61cK1PrVP0yBWr9SoNY/RhdddNFF1z9BrV8pUOvXPzxDYt7OkNg/N9lkk0022T8yb2dIzNvZPy0Fav1Kgdo/J5tssskm2z8iMW9nSMzbPx3HcRzHcdw/GF100UUX3T8T83aGxLzdPw6JeTtDYt4/CB988MEH3z8DtX6lQK3fP3+lQK1fKeA/ffDBBx984D96O0Ni3s7gP3eGxLydIeE/ddFFF1104T9yHMdxHMfhP3BnSMzbGeI/bbLJJpts4j9q/UqBWr/iP2hIzNsZEuM/ZZNNNtlk4z9j3s6QmLfjP2ApUOtXCuQ/XnTRRRdd5D9bv1Kg1q/kP1gK1PqVAuU/VlVVVVVV5T9ToNavFKjlP1HrVwrU+uU/TjbZZJNN5j9MgVq/UqDmP0nM2xkS8+Y/RhdddNFF5z9EYt7OkJjnP0GtXylQ6+c/P/jggw8+6D88Q2LezpDoPzmO4ziO4+g/N9lkk0026T80JObtDInpPzJvZ0jM2+k/L7rooosu6j8tBWr9SoHqPypQ61cK1Oo/J5tssskm6z8l5u0MiXnrPyIxb2dIzOs/IHzwwQcf7D8dx3Ecx3HsPxsS83aGxOw/GF100UUX7T8VqPUrBWrtPxPzdobEvO0/ED744IMP7j8OiXk7Q2LuPwvU+pUCte4/CB988MEH7z8Gav1KgVrvPwO1fqVAre8/AAAAAAAA8D8=\",\"dtype\":\"float64\",\"order\":\"little\",\"shape\":[100]},\"y\":{\"__ndarray__\":\"sDNPvjBiBsCvfFQ35JATQCNJrp5U9SBA0u2CpxKNFEBz3be9EhIIwPjdjdFFNRxATi4ZvmYo8r/S/0zVIQ4aQM3gGodqwwjAMYyFlgd/FsBQkNIOa7wJwKsv9Un7hf0/wsi9ecGwE0CUrDS1O3IOwDRBsTpzYRvA1lvOTnDUFED8TXe9KygBwLDiOHrU8PK/bSM2SQUjHkBiUDyYvhYBQMizj3lkmc6/jBPaYIw6EEAzKscuQUcXwPdrAZ05gf8/eHYscLilFMCot6fz7QAEQDzy2Et2LRrAyGCu6vQqEcBOxWMAAc8AQAq/nz0PChTA1lPZ7W8y8j+EHv9NPQAMwJJc2rGAlwJA0uUFG7UU+79MtkcgO4QgQL6hlN+lxxJA4EvYXu7nGMCTt8sbrugcQLty4OIlwPw/EB+2lKtmBcBnW3VblcgSwCAPJWt/LfU/xxcRW5TjDsCVUi+FfO0SwC8mcoAcUhtA25DvMlV+IEBgPYs6Wb8iQBVdZtWaowVALJQ9tnc3BsClJ2fd6sYXQFBnsvgPUxXAYahis/IaDsAAQEkVSsdhPyCiMXyilxRAoCM1CADnsz+0rfyYRCTvP3sQfyzRiAbApACIlkIZB8D36ZuIBWwUQO45fKDGIQdAsDcIPQKazz+95xCto8cLQMcG1ZofbB1AXBAdVVONCsCodjteLQwRQHmYQ9dIRQDABrS0z0/rHUCWRxT4RYgiQIRI3f4ioPe/E+zhbZGiI0DVn3PG5XUQwBG3N/cPeCFAntR0h2NRGEAfsA5+ny4TwAqOWMONjQdADAKVKr9C+L8DyEs/c7QQwCZElHWASx5AkC+BVzzA8b9s27nfjin9P01vSkeMhyBAEcLicyXkDUDaTnl/yC4RwKjwzL4VLg1AfL1RJfeu6T8Q7iBM95sBwB/ULSBC4SJAmiz4bTGvEkAh6h2mUzkOQDTwSwSeXADACt7OSIv/AUBMvnutzVfmP+BsY9EEBfI/oDIbY8uDJkCLsLd1/k4jQFcgcceGfCVAHvoXi/KOF0AwTFB8O9gJQCrtT6KtpgJAKmJVQVNzFUA=\",\"dtype\":\"float64\",\"order\":\"little\",\"shape\":[100]}},\"selected\":{\"id\":\"1933\"},\"selection_policy\":{\"id\":\"1932\"}},\"id\":\"1918\",\"type\":\"ColumnDataSource\"},{\"attributes\":{},\"id\":\"1933\",\"type\":\"Selection\"},{\"attributes\":{},\"id\":\"1905\",\"type\":\"WheelZoomTool\"},{\"attributes\":{\"margin\":[5,5,5,5],\"name\":\"HSpacer00116\",\"sizing_mode\":\"stretch_width\"},\"id\":\"1947\",\"type\":\"Spacer\"},{\"attributes\":{},\"id\":\"1904\",\"type\":\"PanTool\"},{\"attributes\":{\"margin\":[5,5,5,5],\"name\":\"HSpacer00117\",\"sizing_mode\":\"stretch_width\"},\"id\":\"2014\",\"type\":\"Spacer\"},{\"attributes\":{\"overlay\":{\"id\":\"1910\"}},\"id\":\"1906\",\"type\":\"BoxZoomTool\"},{\"attributes\":{\"children\":[{\"id\":\"1947\"},{\"id\":\"1945\"},{\"id\":\"2014\"}],\"margin\":[0,0,0,0],\"name\":\"Row00120\"},\"id\":\"1946\",\"type\":\"Row\"},{\"attributes\":{\"background_fill_alpha\":0.25,\"background_fill_color\":\"#505050\",\"border_line_alpha\":0.25,\"coordinates\":null,\"group\":null,\"items\":[{\"id\":\"1820\"}],\"label_standoff\":8,\"label_text_color\":\"#E0E0E0\",\"label_text_font\":\"Josefin Sans\",\"label_text_font_size\":\"1.15em\",\"spacing\":8},\"id\":\"1819\",\"type\":\"Legend\"},{\"attributes\":{},\"id\":\"1907\",\"type\":\"SaveTool\"},{\"attributes\":{\"client_comm_id\":\"4c17bbf1423541c0a44862a9e5f82fa8\",\"comm_id\":\"1d9f896511fa4b4cb58b6df8c6fb5496\",\"plot_id\":\"1946\"},\"id\":\"2114\",\"type\":\"panel.models.comm_manager.CommManager\"},{\"attributes\":{},\"id\":\"1908\",\"type\":\"ResetTool\"},{\"attributes\":{\"source\":{\"id\":\"1802\"}},\"id\":\"1808\",\"type\":\"CDSView\"},{\"attributes\":{},\"id\":\"1931\",\"type\":\"AllLabels\"},{\"attributes\":{},\"id\":\"1811\",\"type\":\"BasicTickFormatter\"},{\"attributes\":{\"bottom_units\":\"screen\",\"coordinates\":null,\"fill_alpha\":0.5,\"fill_color\":\"lightgrey\",\"group\":null,\"left_units\":\"screen\",\"level\":\"overlay\",\"line_alpha\":1.0,\"line_color\":\"black\",\"line_dash\":[4,4],\"line_width\":2,\"right_units\":\"screen\",\"syncable\":false,\"top_units\":\"screen\"},\"id\":\"1910\",\"type\":\"BoxAnnotation\"},{\"attributes\":{\"axis_label\":\"x\",\"axis_label_standoff\":10,\"axis_label_text_color\":\"#FFFFFF\",\"axis_label_text_font\":\"Josefin Sans\",\"axis_label_text_font_size\":\"1.9em\",\"axis_label_text_font_style\":\"bold\",\"axis_line_alpha\":0.4,\"axis_line_color\":\"#E0E0E0\",\"coordinates\":null,\"formatter\":{\"id\":\"1814\"},\"group\":null,\"major_label_policy\":{\"id\":\"1815\"},\"major_label_text_color\":\"#E0E0E0\",\"major_label_text_font\":\"Josefin Sans\",\"major_label_text_font_size\":\"1.15em\",\"major_tick_line_alpha\":0.4,\"major_tick_line_color\":\"#E0E0E0\",\"minor_tick_line_alpha\":0.4,\"minor_tick_line_color\":\"#E0E0E0\",\"ticker\":{\"id\":\"1781\"}},\"id\":\"1780\",\"type\":\"LinearAxis\"},{\"attributes\":{\"fill_alpha\":{\"value\":0.2},\"fill_color\":{\"value\":\"midnightblue\"},\"hatch_alpha\":{\"value\":0.2},\"line_alpha\":{\"value\":0.2},\"line_color\":{\"value\":\"white\"},\"size\":{\"value\":10},\"x\":{\"field\":\"x\"},\"y\":{\"field\":\"y\"}},\"id\":\"1922\",\"type\":\"Circle\"},{\"attributes\":{\"coordinates\":null,\"group\":null,\"text\":\"Problem 1\",\"text_color\":\"#E0E0E0\",\"text_font\":\"Josefin Sans\",\"text_font_size\":\"2.1em\"},\"id\":\"1770\",\"type\":\"Title\"},{\"attributes\":{},\"id\":\"1772\",\"type\":\"DataRange1d\"},{\"attributes\":{\"tools\":[{\"id\":\"1904\"},{\"id\":\"1905\"},{\"id\":\"1906\"},{\"id\":\"1907\"},{\"id\":\"1908\"},{\"id\":\"1909\"},{\"id\":\"1937\"},{\"id\":\"1941\"}]},\"id\":\"1911\",\"type\":\"Toolbar\"}],\"root_ids\":[\"1946\",\"2114\"]},\"title\":\"Bokeh Application\",\"version\":\"2.4.3\"}};\n",
       "    var render_items = [{\"docid\":\"6ed4407e-8eb4-4ec0-9bec-1c0c43dfaf16\",\"root_ids\":[\"1946\"],\"roots\":{\"1946\":\"23eed362-5728-47c0-b351-0f6161773476\"}}];\n",
       "    root.Bokeh.embed.embed_items_notebook(docs_json, render_items);\n",
       "    for (const render_item of render_items) {\n",
       "      for (const root_id of render_item.root_ids) {\n",
       "\tconst id_el = document.getElementById(root_id)\n",
       "\tif (id_el.children.length && (id_el.children[0].className === 'bk-root')) {\n",
       "\t  const root_el = id_el.children[0]\n",
       "\t  root_el.id = root_el.id + '-rendered'\n",
       "\t}\n",
       "      }\n",
       "    }\n",
       "  }\n",
       "  if (root.Bokeh !== undefined && root.Bokeh.Panel !== undefined) {\n",
       "    embed_document(root);\n",
       "  } else {\n",
       "    var attempts = 0;\n",
       "    var timer = setInterval(function(root) {\n",
       "      if (root.Bokeh !== undefined && root.Bokeh.Panel !== undefined) {\n",
       "        clearInterval(timer);\n",
       "        embed_document(root);\n",
       "      } else if (document.readyState == \"complete\") {\n",
       "        attempts++;\n",
       "        if (attempts > 200) {\n",
       "          clearInterval(timer);\n",
       "          console.log(\"Bokeh: ERROR: Unable to run BokehJS code because BokehJS library is missing\");\n",
       "        }\n",
       "      }\n",
       "    }, 25, root)\n",
       "  }\n",
       "})(window);</script>"
      ],
      "text/plain": [
       "Row\n",
       "    [0] HSpacer()\n",
       "    [1] Bokeh(Column)\n",
       "    [2] HSpacer()"
      ]
     },
     "execution_count": 9,
     "metadata": {
      "application/vnd.holoviews_exec.v0+json": {
       "id": "1946"
      }
     },
     "output_type": "execute_result"
    }
   ],
   "source": [
    "plot = center_plot(column(Div(text = \"Different amounts of noise\", style={'font-size': '250%'}), row(*plots)))\n",
    "plot"
   ]
  },
  {
   "cell_type": "markdown",
   "metadata": {},
   "source": [
    "To summarize, we will have some observations of a function, and we would like to optimize a function that gets as close as possible to the real function that generated this data. Here, we plot the real function and also _subsample_ our number of observations (having only a few points to find the corresponding function)"
   ]
  },
  {
   "cell_type": "code",
   "execution_count": 10,
   "metadata": {
    "ExecuteTime": {
     "end_time": "2023-05-01T13:10:12.777205Z",
     "start_time": "2023-05-01T13:10:12.678672Z"
    }
   },
   "outputs": [
    {
     "data": {},
     "metadata": {},
     "output_type": "display_data"
    },
    {
     "data": {
      "application/vnd.holoviews_exec.v0+json": "",
      "text/html": [
       "<div id='2358'>\n",
       "  <div class=\"bk-root\" id=\"adbaa609-8553-45c4-92b3-bd8b77bd089c\" data-root-id=\"2358\"></div>\n",
       "</div>\n",
       "<script type=\"application/javascript\">(function(root) {\n",
       "  function embed_document(root) {\n",
       "    var docs_json = {\"cd19783c-2800-4702-8122-ba43e0af2b75\":{\"defs\":[{\"extends\":null,\"module\":null,\"name\":\"ReactiveHTML1\",\"overrides\":[],\"properties\":[]},{\"extends\":null,\"module\":null,\"name\":\"FlexBox1\",\"overrides\":[],\"properties\":[{\"default\":\"flex-start\",\"kind\":null,\"name\":\"align_content\"},{\"default\":\"flex-start\",\"kind\":null,\"name\":\"align_items\"},{\"default\":\"row\",\"kind\":null,\"name\":\"flex_direction\"},{\"default\":\"wrap\",\"kind\":null,\"name\":\"flex_wrap\"},{\"default\":\"flex-start\",\"kind\":null,\"name\":\"justify_content\"}]},{\"extends\":null,\"module\":null,\"name\":\"GridStack1\",\"overrides\":[],\"properties\":[{\"default\":\"warn\",\"kind\":null,\"name\":\"mode\"},{\"default\":null,\"kind\":null,\"name\":\"ncols\"},{\"default\":null,\"kind\":null,\"name\":\"nrows\"},{\"default\":true,\"kind\":null,\"name\":\"allow_resize\"},{\"default\":true,\"kind\":null,\"name\":\"allow_drag\"},{\"default\":[],\"kind\":null,\"name\":\"state\"}]},{\"extends\":null,\"module\":null,\"name\":\"click1\",\"overrides\":[],\"properties\":[{\"default\":\"\",\"kind\":null,\"name\":\"terminal_output\"},{\"default\":\"\",\"kind\":null,\"name\":\"debug_name\"},{\"default\":0,\"kind\":null,\"name\":\"clears\"}]},{\"extends\":null,\"module\":null,\"name\":\"NotificationAreaBase1\",\"overrides\":[],\"properties\":[{\"default\":\"bottom-right\",\"kind\":null,\"name\":\"position\"},{\"default\":0,\"kind\":null,\"name\":\"_clear\"}]},{\"extends\":null,\"module\":null,\"name\":\"NotificationArea1\",\"overrides\":[],\"properties\":[{\"default\":[],\"kind\":null,\"name\":\"notifications\"},{\"default\":\"bottom-right\",\"kind\":null,\"name\":\"position\"},{\"default\":0,\"kind\":null,\"name\":\"_clear\"},{\"default\":[{\"background\":\"#ffc107\",\"icon\":{\"className\":\"fas fa-exclamation-triangle\",\"color\":\"white\",\"tagName\":\"i\"},\"type\":\"warning\"},{\"background\":\"#007bff\",\"icon\":{\"className\":\"fas fa-info-circle\",\"color\":\"white\",\"tagName\":\"i\"},\"type\":\"info\"}],\"kind\":null,\"name\":\"types\"}]},{\"extends\":null,\"module\":null,\"name\":\"Notification\",\"overrides\":[],\"properties\":[{\"default\":null,\"kind\":null,\"name\":\"background\"},{\"default\":3000,\"kind\":null,\"name\":\"duration\"},{\"default\":null,\"kind\":null,\"name\":\"icon\"},{\"default\":\"\",\"kind\":null,\"name\":\"message\"},{\"default\":null,\"kind\":null,\"name\":\"notification_type\"},{\"default\":false,\"kind\":null,\"name\":\"_destroyed\"}]},{\"extends\":null,\"module\":null,\"name\":\"TemplateActions1\",\"overrides\":[],\"properties\":[{\"default\":0,\"kind\":null,\"name\":\"open_modal\"},{\"default\":0,\"kind\":null,\"name\":\"close_modal\"}]},{\"extends\":null,\"module\":null,\"name\":\"MaterialTemplateActions1\",\"overrides\":[],\"properties\":[{\"default\":0,\"kind\":null,\"name\":\"open_modal\"},{\"default\":0,\"kind\":null,\"name\":\"close_modal\"}]}],\"roots\":{\"references\":[{\"attributes\":{\"coordinates\":null,\"data_source\":{\"id\":\"2338\"},\"glyph\":{\"id\":\"2339\"},\"group\":null,\"hover_glyph\":null,\"muted_glyph\":{\"id\":\"2341\"},\"nonselection_glyph\":{\"id\":\"2340\"},\"view\":{\"id\":\"2343\"}},\"id\":\"2342\",\"type\":\"GlyphRenderer\"},{\"attributes\":{},\"id\":\"2300\",\"type\":\"WheelZoomTool\"},{\"attributes\":{\"margin\":[5,5,5,5],\"name\":\"HSpacer00124\",\"sizing_mode\":\"stretch_width\"},\"id\":\"2386\",\"type\":\"Spacer\"},{\"attributes\":{},\"id\":\"2323\",\"type\":\"AllLabels\"},{\"attributes\":{},\"id\":\"2299\",\"type\":\"PanTool\"},{\"attributes\":{\"fill_alpha\":{\"value\":0.5},\"fill_color\":{\"value\":\"midnightblue\"},\"line_color\":{\"value\":\"white\"}},\"id\":\"2335\",\"type\":\"Circle\"},{\"attributes\":{\"overlay\":{\"id\":\"2305\"}},\"id\":\"2301\",\"type\":\"BoxZoomTool\"},{\"attributes\":{},\"id\":\"2302\",\"type\":\"SaveTool\"},{\"attributes\":{\"coordinates\":null,\"data_source\":{\"id\":\"2313\"},\"glyph\":{\"id\":\"2314\"},\"group\":null,\"hover_glyph\":{\"id\":\"2316\"},\"muted_glyph\":{\"id\":\"2317\"},\"nonselection_glyph\":{\"id\":\"2335\"},\"selection_glyph\":{\"id\":\"2334\"},\"view\":{\"id\":\"2319\"}},\"id\":\"2318\",\"type\":\"GlyphRenderer\"},{\"attributes\":{},\"id\":\"2303\",\"type\":\"ResetTool\"},{\"attributes\":{\"callback\":null,\"mode\":\"vline\",\"renderers\":[{\"id\":\"2318\"}],\"tooltips\":null},\"id\":\"2332\",\"type\":\"HoverTool\"},{\"attributes\":{},\"id\":\"2322\",\"type\":\"BasicTickFormatter\"},{\"attributes\":{\"tools\":[{\"id\":\"2299\"},{\"id\":\"2300\"},{\"id\":\"2301\"},{\"id\":\"2302\"},{\"id\":\"2303\"},{\"id\":\"2304\"},{\"id\":\"2332\"},{\"id\":\"2336\"}]},\"id\":\"2306\",\"type\":\"Toolbar\"},{\"attributes\":{\"mode\":\"append\",\"overlay\":{\"id\":\"2356\"},\"renderers\":[{\"id\":\"2318\"}]},\"id\":\"2336\",\"type\":\"BoxSelectTool\"},{\"attributes\":{},\"id\":\"2325\",\"type\":\"BasicTickFormatter\"},{\"attributes\":{\"bottom_units\":\"screen\",\"coordinates\":null,\"fill_alpha\":0.5,\"fill_color\":\"lightgrey\",\"group\":null,\"left_units\":\"screen\",\"level\":\"overlay\",\"line_alpha\":1.0,\"line_color\":\"black\",\"line_dash\":[4,4],\"line_width\":2,\"right_units\":\"screen\",\"syncable\":false,\"top_units\":\"screen\"},\"id\":\"2305\",\"type\":\"BoxAnnotation\"},{\"attributes\":{\"source\":{\"id\":\"2338\"}},\"id\":\"2343\",\"type\":\"CDSView\"},{\"attributes\":{\"bottom_units\":\"screen\",\"coordinates\":null,\"fill_alpha\":0.5,\"fill_color\":\"lightgrey\",\"group\":null,\"left_units\":\"screen\",\"level\":\"overlay\",\"line_alpha\":1.0,\"line_color\":\"black\",\"line_dash\":[4,4],\"line_width\":2,\"right_units\":\"screen\",\"syncable\":false,\"top_units\":\"screen\"},\"id\":\"2356\",\"type\":\"BoxAnnotation\"},{\"attributes\":{\"label\":{\"value\":\"Observations\"},\"renderers\":[{\"id\":\"2318\"}]},\"id\":\"2331\",\"type\":\"LegendItem\"},{\"attributes\":{\"fill_alpha\":{\"value\":0.8},\"fill_color\":{\"value\":\"red\"},\"line_color\":{\"value\":\"white\"}},\"id\":\"2334\",\"type\":\"Circle\"},{\"attributes\":{\"fill_alpha\":{\"value\":0.25},\"fill_color\":{\"value\":\"midnightblue\"},\"hatch_alpha\":{\"value\":0.25},\"line_alpha\":{\"value\":0.25},\"line_color\":{\"value\":\"white\"},\"size\":{\"value\":10},\"x\":{\"field\":\"x\"},\"y\":{\"field\":\"y\"}},\"id\":\"2314\",\"type\":\"Circle\"},{\"attributes\":{\"background_fill_alpha\":0.25,\"background_fill_color\":\"#505050\",\"border_line_alpha\":0.25,\"coordinates\":null,\"group\":null,\"items\":[{\"id\":\"2331\"},{\"id\":\"2357\"}],\"label_standoff\":8,\"label_text_color\":\"#E0E0E0\",\"label_text_font\":\"Josefin Sans\",\"label_text_font_size\":\"1.15em\",\"spacing\":8},\"id\":\"2330\",\"type\":\"Legend\"},{\"attributes\":{},\"id\":\"2326\",\"type\":\"AllLabels\"},{\"attributes\":{},\"id\":\"2327\",\"type\":\"UnionRenderers\"},{\"attributes\":{\"client_comm_id\":\"2cc44bd81ae44730ba596e33851e3f62\",\"comm_id\":\"10da8a74fe5e460fae6d0fa84ed8405c\",\"plot_id\":\"2358\"},\"id\":\"2426\",\"type\":\"panel.models.comm_manager.CommManager\"},{\"attributes\":{\"data\":{\"x\":{\"__ndarray__\":\"AAAAAAAAAABbv1Kg1q+EP1u/UqDWr5Q/CB988MEHnz9bv1Kg1q+kPzJvZ0jM26k/CB988MEHrz9wZ0jM2xmyP1u/UqDWr7Q/RhdddNFFtz8yb2dIzNu5Px3HcRzHcbw/CB988MEHvz96O0Ni3s7AP3BnSMzbGcI/ZZNNNtlkwz9bv1Kg1q/EP1HrVwrU+sU/RhdddNFFxz88Q2LezpDIPzJvZ0jM28k/J5tssskmyz8dx3Ecx3HMPxPzdobEvM0/CB988MEHzz9/pUCtXynQP3o7Q2LeztA/ddFFF1100T9wZ0jM2xnSP2r9SoFav9I/ZZNNNtlk0z9gKVDrVwrUP1u/UqDWr9Q/VlVVVVVV1T9R61cK1PrVP0yBWr9SoNY/RhdddNFF1z9BrV8pUOvXPzxDYt7OkNg/N9lkk0022T8yb2dIzNvZPy0Fav1Kgdo/J5tssskm2z8iMW9nSMzbPx3HcRzHcdw/GF100UUX3T8T83aGxLzdPw6JeTtDYt4/CB988MEH3z8DtX6lQK3fP3+lQK1fKeA/ffDBBx984D96O0Ni3s7gP3eGxLydIeE/ddFFF1104T9yHMdxHMfhP3BnSMzbGeI/bbLJJpts4j9q/UqBWr/iP2hIzNsZEuM/ZZNNNtlk4z9j3s6QmLfjP2ApUOtXCuQ/XnTRRRdd5D9bv1Kg1q/kP1gK1PqVAuU/VlVVVVVV5T9ToNavFKjlP1HrVwrU+uU/TjbZZJNN5j9MgVq/UqDmP0nM2xkS8+Y/RhdddNFF5z9EYt7OkJjnP0GtXylQ6+c/P/jggw8+6D88Q2LezpDoPzmO4ziO4+g/N9lkk0026T80JObtDInpPzJvZ0jM2+k/L7rooosu6j8tBWr9SoHqPypQ61cK1Oo/J5tssskm6z8l5u0MiXnrPyIxb2dIzOs/IHzwwQcf7D8dx3Ecx3HsPxsS83aGxOw/GF100UUX7T8VqPUrBWrtPxPzdobEvO0/ED744IMP7j8OiXk7Q2LuPwvU+pUCte4/CB988MEH7z8Gav1KgVrvPwO1fqVAre8/AAAAAAAA8D8=\",\"dtype\":\"float64\",\"order\":\"little\",\"shape\":[100]},\"y\":{\"__ndarray__\":\"AAAAAAAA8D8MJLz1QAHwPy6Q8NYDBfA/aESdo0gL8D+6QMJbDxTwPyKFX/9XH/A/ohF1jiIt8D845gIJbz3wP+YCCW89UPA/q2eHwI1l8D+IFH79X33wP3sJ7SW0l/A/hkbUOYq08D+oyzM54tPwP+GYCyS89fA/Ma5b+hca8T+ZCyS89UDxPxixZGlVavE/rZ4dAjeW8T9b1E6GmsTxPx9S+PV/9fE/+hcaUeco8j/tJbSX0F7yP/d7xsk7l/I/GBpR5yjS8j9QAFTwlw/zP6Auz+SIT/M/B6XCxPuR8z+EYy6Q8NbzPxlqEkdnHvQ/xrhu6V9o9D+JT0N32rT0P2QukPDWA/U/VlVVVVVV9T9fxJKlVan1P397SOHX//U/tnp2CNxY9j8FwhwbYrT2P2tROxlqEvc/6CjSAvRy9z98SOHX/9X3PyiwaJiNO/g/6l9oRJ2j+D/EV+DbLg75P7SX0F5Ce/k/vR85zdfq+T/c7xkn71z6PxIIc2yI0fo/YGhEnaNI+z/FEI65QML7P0EBUMFfPvw/1jmKtAC9/D+AujyTIz79P0CDZ13Iwf0/GpQKE+9H/j8K7SW0l9D+PxKOuUDCW/8/MHfFuG7p/z8y1CSOzjwAQNoQo7UmhgBAi3Hd0r/QAEBJ9tPlmRwBQBKfhu60aQFA6Gv17BC4AUDIXCDhrQcCQLNxB8uLWAJAq6qqqqqqAkCuBwqACv4CQL6IJUurUgNA1y39C42oA0D+9pDCr/8DQDDk4G4TWARAbPXsELixBEC2KrWonQwFQAqEOTbEaAVAagF6uSvGBUDWonYy1CQGQExoL6G9hAZA0FGkBejlBkBeX9VfU0gHQPiQwq//qwdAneZr9ewQCEBPYNEwG3cIQAz+8mGK3ghA07/QiDpHCUCopWqlK7EJQIevwLddHApAc93Sv9CICkBpL6G9hPYKQGylK7F5ZQtAej9ymq/VC0CT/XR5JkcMQLjfM07euQxA6eWuGNctDUAlEObYEKMNQG1e2Y6LGQ5AwNCIOkeRDkAgZ/TbQwoPQIohHHOBhA9AAAAAAAAAEEA=\",\"dtype\":\"float64\",\"order\":\"little\",\"shape\":[100]}},\"selected\":{\"id\":\"2354\"},\"selection_policy\":{\"id\":\"2353\"}},\"id\":\"2338\",\"type\":\"ColumnDataSource\"},{\"attributes\":{},\"id\":\"2353\",\"type\":\"UnionRenderers\"},{\"attributes\":{\"axis_label\":\"x\",\"axis_label_standoff\":10,\"axis_label_text_color\":\"#FFFFFF\",\"axis_label_text_font\":\"Josefin Sans\",\"axis_label_text_font_size\":\"1.9em\",\"axis_label_text_font_style\":\"bold\",\"axis_line_alpha\":0.4,\"axis_line_color\":\"#E0E0E0\",\"coordinates\":null,\"formatter\":{\"id\":\"2325\"},\"group\":null,\"major_label_policy\":{\"id\":\"2326\"},\"major_label_text_color\":\"#E0E0E0\",\"major_label_text_font\":\"Josefin Sans\",\"major_label_text_font_size\":\"1.15em\",\"major_tick_line_alpha\":0.4,\"major_tick_line_color\":\"#E0E0E0\",\"minor_tick_line_alpha\":0.4,\"minor_tick_line_color\":\"#E0E0E0\",\"ticker\":{\"id\":\"2292\"}},\"id\":\"2291\",\"type\":\"LinearAxis\"},{\"attributes\":{},\"id\":\"2328\",\"type\":\"Selection\"},{\"attributes\":{\"background_fill_alpha\":0.9,\"background_fill_color\":\"#0f0f0f\",\"below\":[{\"id\":\"2291\"}],\"border_fill_alpha\":0.8,\"border_fill_color\":\"#111111\",\"center\":[{\"id\":\"2294\"},{\"id\":\"2298\"},{\"id\":\"2330\"}],\"height\":450,\"left\":[{\"id\":\"2295\"}],\"outline_line_alpha\":0.25,\"outline_line_color\":\"#E0E0E0\",\"outline_line_width\":3,\"renderers\":[{\"id\":\"2318\"},{\"id\":\"2342\"}],\"title\":{\"id\":\"2281\"},\"toolbar\":{\"id\":\"2306\"},\"toolbar_location\":null,\"x_range\":{\"id\":\"2283\"},\"x_scale\":{\"id\":\"2287\"},\"y_range\":{\"id\":\"2285\"},\"y_scale\":{\"id\":\"2289\"}},\"id\":\"2280\",\"subtype\":\"Figure\",\"type\":\"Plot\"},{\"attributes\":{},\"id\":\"2296\",\"type\":\"BasicTicker\"},{\"attributes\":{\"data\":{\"x\":{\"__ndarray__\":\"W79SoNavlD8yb2dIzNu5P2WTTTbZZMM/UetXCtT6xT88Q2LezpDIPxPzdobEvM0/ejtDYt7O0D910UUXXXTRP2ApUOtXCtQ/W79SoNav1D9WVVVVVVXVP1HrVwrU+tU/TIFav1Kg1j9GF1100UXXPzxDYt7OkNg/N9lkk0022T8yb2dIzNvZPy0Fav1Kgdo/HcdxHMdx3D8YXXTRRRfdPxPzdobEvN0/CB988MEH3z998MEHH3zgP3o7Q2LezuA/d4bEvJ0h4T910UUXXXThP3BnSMzbGeI/aEjM2xkS4z9gKVDrVwrkP1gK1PqVAuU/U6DWrxSo5T9ONtlkk03mP0Ri3s6QmOc/OY7jOI7j6D832WSTTTbpPzJvZ0jM2+k/L7rooosu6j8tBWr9SoHqPypQ61cK1Oo/J5tssskm6z8iMW9nSMzrPx3HcRzHcew/Faj1KwVq7T8T83aGxLztPxA++OCDD+4/Dol5O0Ni7j8L1PqVArXuPwZq/UqBWu8/A7V+pUCt7z8AAAAAAADwPw==\",\"dtype\":\"float64\",\"order\":\"little\",\"shape\":[50]},\"y\":{\"__ndarray__\":\"gpYm6hDF8T8gFnU7zsjqP4EPBcvpdPI/n5//bYiX7j80gFT3MQnxP+f64sgAlPQ/6OnEaUep8D/34kmT2MLwP9AJgV3aBPI/ckc5yk8m9j+v+eH1Fbz1P6i27A/oCvM/lpC57Kyu9T+lKsW+9/H3P26D9jCjGfg/CUzNEG/k9j9xoZoPtB36PzIusQ2/Pfk/41vVolFh+D9+uQmsWj38PwYFj02rwPg/iG4uvcGH/D/KpPv2LXH6PwiRc7JhuP0//PR5JdDA+j/F4qwxGTL7P4xIz5JzgwBAKJe+fhYuAEBFHFGntPsCQLK5ntxl6gFAMv122C0rBEDvcnc+AfkDQGTg0EFGtANAD8o6FgI5B0AhgiG+JU4FQPl13BwSXwdACkmKEc0gCUDVZEtKW5UJQBZgnT8xEApAFFH/dKk+CkAQXBk+kq8IQER9zQ+1wAtAcn5Z76DpC0DNKC65A/YMQOSibCt+yw1ArzFqNiIUDUCR0AIS8HMPQHYQaM/tyQ5AW9DV2T2/D0BXTHhi+osOQA==\",\"dtype\":\"float64\",\"order\":\"little\",\"shape\":[50]}},\"selected\":{\"id\":\"2328\"},\"selection_policy\":{\"id\":\"2327\"}},\"id\":\"2313\",\"type\":\"ColumnDataSource\"},{\"attributes\":{\"coordinates\":null,\"group\":null,\"text\":\"Learning problem with groundtruth\",\"text_color\":\"#E0E0E0\",\"text_font\":\"Josefin Sans\",\"text_font_size\":\"2.1em\"},\"id\":\"2281\",\"type\":\"Title\"},{\"attributes\":{\"source\":{\"id\":\"2313\"}},\"id\":\"2319\",\"type\":\"CDSView\"},{\"attributes\":{},\"id\":\"2283\",\"type\":\"DataRange1d\"},{\"attributes\":{},\"id\":\"2292\",\"type\":\"BasicTicker\"},{\"attributes\":{},\"id\":\"2354\",\"type\":\"Selection\"},{\"attributes\":{\"axis_label\":\"y\",\"axis_label_standoff\":10,\"axis_label_text_color\":\"#FFFFFF\",\"axis_label_text_font\":\"Josefin Sans\",\"axis_label_text_font_size\":\"1.9em\",\"axis_label_text_font_style\":\"bold\",\"axis_line_alpha\":0.4,\"axis_line_color\":\"#E0E0E0\",\"coordinates\":null,\"formatter\":{\"id\":\"2322\"},\"group\":null,\"major_label_policy\":{\"id\":\"2323\"},\"major_label_text_color\":\"#E0E0E0\",\"major_label_text_font\":\"Josefin Sans\",\"major_label_text_font_size\":\"1.15em\",\"major_tick_line_alpha\":0.4,\"major_tick_line_color\":\"#E0E0E0\",\"minor_tick_line_alpha\":0.4,\"minor_tick_line_color\":\"#E0E0E0\",\"ticker\":{\"id\":\"2296\"}},\"id\":\"2295\",\"type\":\"LinearAxis\"},{\"attributes\":{},\"id\":\"2285\",\"type\":\"DataRange1d\"},{\"attributes\":{},\"id\":\"2289\",\"type\":\"LinearScale\"},{\"attributes\":{\"fill_alpha\":{\"value\":0.2},\"fill_color\":{\"value\":\"midnightblue\"},\"hatch_alpha\":{\"value\":0.2},\"line_alpha\":{\"value\":0.2},\"line_color\":{\"value\":\"white\"},\"size\":{\"value\":10},\"x\":{\"field\":\"x\"},\"y\":{\"field\":\"y\"}},\"id\":\"2317\",\"type\":\"Circle\"},{\"attributes\":{},\"id\":\"2287\",\"type\":\"LinearScale\"},{\"attributes\":{\"line_alpha\":0.1,\"line_color\":\"green\",\"line_width\":6,\"x\":{\"field\":\"x\"},\"y\":{\"field\":\"y\"}},\"id\":\"2340\",\"type\":\"Line\"},{\"attributes\":{\"axis\":{\"id\":\"2291\"},\"coordinates\":null,\"grid_line_alpha\":0.15,\"grid_line_color\":\"#E0E0E0\",\"group\":null,\"ticker\":null},\"id\":\"2294\",\"type\":\"Grid\"},{\"attributes\":{\"line_alpha\":0.6,\"line_color\":\"green\",\"line_width\":6,\"x\":{\"field\":\"x\"},\"y\":{\"field\":\"y\"}},\"id\":\"2339\",\"type\":\"Line\"},{\"attributes\":{\"label\":{\"value\":\"True function\"},\"renderers\":[{\"id\":\"2342\"}]},\"id\":\"2357\",\"type\":\"LegendItem\"},{\"attributes\":{\"children\":[{\"id\":\"2359\"},{\"id\":\"2280\"},{\"id\":\"2386\"}],\"margin\":[0,0,0,0],\"name\":\"Row00127\"},\"id\":\"2358\",\"type\":\"Row\"},{\"attributes\":{\"line_alpha\":0.2,\"line_color\":\"green\",\"line_width\":6,\"x\":{\"field\":\"x\"},\"y\":{\"field\":\"y\"}},\"id\":\"2341\",\"type\":\"Line\"},{\"attributes\":{},\"id\":\"2304\",\"type\":\"HelpTool\"},{\"attributes\":{\"axis\":{\"id\":\"2295\"},\"coordinates\":null,\"dimension\":1,\"grid_line_alpha\":0.15,\"grid_line_color\":\"#E0E0E0\",\"group\":null,\"ticker\":null},\"id\":\"2298\",\"type\":\"Grid\"},{\"attributes\":{\"margin\":[5,5,5,5],\"name\":\"HSpacer00123\",\"sizing_mode\":\"stretch_width\"},\"id\":\"2359\",\"type\":\"Spacer\"},{\"attributes\":{\"fill_alpha\":{\"value\":0.5},\"fill_color\":{\"value\":\"red\"},\"hatch_alpha\":{\"value\":0.5},\"line_alpha\":{\"value\":0.5},\"line_color\":{\"value\":\"white\"},\"size\":{\"value\":10},\"x\":{\"field\":\"x\"},\"y\":{\"field\":\"y\"}},\"id\":\"2316\",\"type\":\"Circle\"}],\"root_ids\":[\"2358\",\"2426\"]},\"title\":\"Bokeh Application\",\"version\":\"2.4.3\"}};\n",
       "    var render_items = [{\"docid\":\"cd19783c-2800-4702-8122-ba43e0af2b75\",\"root_ids\":[\"2358\"],\"roots\":{\"2358\":\"adbaa609-8553-45c4-92b3-bd8b77bd089c\"}}];\n",
       "    root.Bokeh.embed.embed_items_notebook(docs_json, render_items);\n",
       "    for (const render_item of render_items) {\n",
       "      for (const root_id of render_item.root_ids) {\n",
       "\tconst id_el = document.getElementById(root_id)\n",
       "\tif (id_el.children.length && (id_el.children[0].className === 'bk-root')) {\n",
       "\t  const root_el = id_el.children[0]\n",
       "\t  root_el.id = root_el.id + '-rendered'\n",
       "\t}\n",
       "      }\n",
       "    }\n",
       "  }\n",
       "  if (root.Bokeh !== undefined && root.Bokeh.Panel !== undefined) {\n",
       "    embed_document(root);\n",
       "  } else {\n",
       "    var attempts = 0;\n",
       "    var timer = setInterval(function(root) {\n",
       "      if (root.Bokeh !== undefined && root.Bokeh.Panel !== undefined) {\n",
       "        clearInterval(timer);\n",
       "        embed_document(root);\n",
       "      } else if (document.readyState == \"complete\") {\n",
       "        attempts++;\n",
       "        if (attempts > 200) {\n",
       "          clearInterval(timer);\n",
       "          console.log(\"Bokeh: ERROR: Unable to run BokehJS code because BokehJS library is missing\");\n",
       "        }\n",
       "      }\n",
       "    }, 25, root)\n",
       "  }\n",
       "})(window);</script>"
      ],
      "text/plain": [
       "Row\n",
       "    [0] HSpacer()\n",
       "    [1] Bokeh(Figure)\n",
       "    [2] HSpacer()"
      ]
     },
     "execution_count": 10,
     "metadata": {
      "application/vnd.holoviews_exec.v0+json": {
       "id": "2358"
      }
     },
     "output_type": "execute_result"
    }
   ],
   "source": [
    "# Generating the data and subsampling\n",
    "x_all = np.linspace(0, 1, 100); x_plot = np.linspace(0, 1, 100)\n",
    "rng.shuffle(x_all); x = np.sort(x_all[:50])\n",
    "poly = np.poly1d([3,0,1])\n",
    "# Adding some external noise\n",
    "epsilon = np.random.uniform(-0.2,0.2,x.shape)\n",
    "y = poly(x)+ epsilon\n",
    "p = scatter(x, y, title=\"Learning problem with groundtruth\")\n",
    "p.line(x_plot, poly(x_plot), line_width=6, line_alpha=0.6, color=\"green\", legend_label=r\"True function\")\n",
    "plot = (center_plot(p))\n",
    "plot"
   ]
  },
  {
   "cell_type": "markdown",
   "metadata": {},
   "source": [
    "### Summarizing our observations (interactive)\n",
    "\n"
   ]
  },
  {
   "cell_type": "code",
   "execution_count": 11,
   "metadata": {
    "ExecuteTime": {
     "end_time": "2023-05-01T13:10:14.630152Z",
     "start_time": "2023-05-01T13:10:14.190559Z"
    }
   },
   "outputs": [
    {
     "name": "stdout",
     "output_type": "stream",
     "text": [
      "Creating the object\n"
     ]
    },
    {
     "data": {},
     "metadata": {},
     "output_type": "display_data"
    },
    {
     "data": {
      "application/vnd.holoviews_exec.v0+json": "",
      "text/html": [
       "<div id='2550'>\n",
       "  <div class=\"bk-root\" id=\"96b1ae07-874c-4461-9224-4291599b3606\" data-root-id=\"2550\"></div>\n",
       "</div>\n",
       "<script type=\"application/javascript\">(function(root) {\n",
       "  function embed_document(root) {\n",
       "    var docs_json = {\"711cfe4b-2950-4936-a9c0-7c0509de1370\":{\"defs\":[{\"extends\":null,\"module\":null,\"name\":\"ReactiveHTML1\",\"overrides\":[],\"properties\":[]},{\"extends\":null,\"module\":null,\"name\":\"FlexBox1\",\"overrides\":[],\"properties\":[{\"default\":\"flex-start\",\"kind\":null,\"name\":\"align_content\"},{\"default\":\"flex-start\",\"kind\":null,\"name\":\"align_items\"},{\"default\":\"row\",\"kind\":null,\"name\":\"flex_direction\"},{\"default\":\"wrap\",\"kind\":null,\"name\":\"flex_wrap\"},{\"default\":\"flex-start\",\"kind\":null,\"name\":\"justify_content\"}]},{\"extends\":null,\"module\":null,\"name\":\"GridStack1\",\"overrides\":[],\"properties\":[{\"default\":\"warn\",\"kind\":null,\"name\":\"mode\"},{\"default\":null,\"kind\":null,\"name\":\"ncols\"},{\"default\":null,\"kind\":null,\"name\":\"nrows\"},{\"default\":true,\"kind\":null,\"name\":\"allow_resize\"},{\"default\":true,\"kind\":null,\"name\":\"allow_drag\"},{\"default\":[],\"kind\":null,\"name\":\"state\"}]},{\"extends\":null,\"module\":null,\"name\":\"click1\",\"overrides\":[],\"properties\":[{\"default\":\"\",\"kind\":null,\"name\":\"terminal_output\"},{\"default\":\"\",\"kind\":null,\"name\":\"debug_name\"},{\"default\":0,\"kind\":null,\"name\":\"clears\"}]},{\"extends\":null,\"module\":null,\"name\":\"NotificationAreaBase1\",\"overrides\":[],\"properties\":[{\"default\":\"bottom-right\",\"kind\":null,\"name\":\"position\"},{\"default\":0,\"kind\":null,\"name\":\"_clear\"}]},{\"extends\":null,\"module\":null,\"name\":\"NotificationArea1\",\"overrides\":[],\"properties\":[{\"default\":[],\"kind\":null,\"name\":\"notifications\"},{\"default\":\"bottom-right\",\"kind\":null,\"name\":\"position\"},{\"default\":0,\"kind\":null,\"name\":\"_clear\"},{\"default\":[{\"background\":\"#ffc107\",\"icon\":{\"className\":\"fas fa-exclamation-triangle\",\"color\":\"white\",\"tagName\":\"i\"},\"type\":\"warning\"},{\"background\":\"#007bff\",\"icon\":{\"className\":\"fas fa-info-circle\",\"color\":\"white\",\"tagName\":\"i\"},\"type\":\"info\"}],\"kind\":null,\"name\":\"types\"}]},{\"extends\":null,\"module\":null,\"name\":\"Notification\",\"overrides\":[],\"properties\":[{\"default\":null,\"kind\":null,\"name\":\"background\"},{\"default\":3000,\"kind\":null,\"name\":\"duration\"},{\"default\":null,\"kind\":null,\"name\":\"icon\"},{\"default\":\"\",\"kind\":null,\"name\":\"message\"},{\"default\":null,\"kind\":null,\"name\":\"notification_type\"},{\"default\":false,\"kind\":null,\"name\":\"_destroyed\"}]},{\"extends\":null,\"module\":null,\"name\":\"TemplateActions1\",\"overrides\":[],\"properties\":[{\"default\":0,\"kind\":null,\"name\":\"open_modal\"},{\"default\":0,\"kind\":null,\"name\":\"close_modal\"}]},{\"extends\":null,\"module\":null,\"name\":\"MaterialTemplateActions1\",\"overrides\":[],\"properties\":[{\"default\":0,\"kind\":null,\"name\":\"open_modal\"},{\"default\":0,\"kind\":null,\"name\":\"close_modal\"}]}],\"roots\":{\"references\":[{\"attributes\":{},\"id\":\"2504\",\"type\":\"BasicTicker\"},{\"attributes\":{},\"id\":\"2499\",\"type\":\"LinearScale\"},{\"attributes\":{\"tools\":[{\"id\":\"2511\"},{\"id\":\"2512\"},{\"id\":\"2513\"},{\"id\":\"2514\"},{\"id\":\"2515\"},{\"id\":\"2516\"},{\"id\":\"2544\"},{\"id\":\"2548\"}]},\"id\":\"2518\",\"type\":\"Toolbar\"},{\"attributes\":{\"fill_alpha\":{\"value\":0.25},\"fill_color\":{\"value\":\"midnightblue\"},\"hatch_alpha\":{\"value\":0.25},\"line_alpha\":{\"value\":0.25},\"line_color\":{\"value\":\"white\"},\"size\":{\"value\":10},\"x\":{\"field\":\"x\"},\"y\":{\"field\":\"y\"}},\"id\":\"2526\",\"type\":\"Circle\"},{\"attributes\":{},\"id\":\"2535\",\"type\":\"AllLabels\"},{\"attributes\":{\"coordinates\":null,\"data_source\":{\"id\":\"2525\"},\"glyph\":{\"id\":\"2526\"},\"group\":null,\"hover_glyph\":{\"id\":\"2528\"},\"muted_glyph\":{\"id\":\"2529\"},\"nonselection_glyph\":{\"id\":\"2547\"},\"selection_glyph\":{\"id\":\"2546\"},\"view\":{\"id\":\"2531\"}},\"id\":\"2530\",\"type\":\"GlyphRenderer\"},{\"attributes\":{\"fill_alpha\":{\"value\":0.8},\"fill_color\":{\"value\":\"red\"},\"line_color\":{\"value\":\"white\"}},\"id\":\"2546\",\"type\":\"Circle\"},{\"attributes\":{},\"id\":\"2514\",\"type\":\"SaveTool\"},{\"attributes\":{},\"id\":\"2538\",\"type\":\"AllLabels\"},{\"attributes\":{\"axis_label\":\"$$\\\\color{white} x$$\",\"axis_label_standoff\":10,\"axis_label_text_color\":\"#FFFFFF\",\"axis_label_text_font\":\"Josefin Sans\",\"axis_label_text_font_size\":\"1.9em\",\"axis_label_text_font_style\":\"bold\",\"axis_line_alpha\":0.4,\"axis_line_color\":\"#E0E0E0\",\"coordinates\":null,\"formatter\":{\"id\":\"2537\"},\"group\":null,\"major_label_policy\":{\"id\":\"2538\"},\"major_label_text_color\":\"#E0E0E0\",\"major_label_text_font\":\"Josefin Sans\",\"major_label_text_font_size\":\"1.15em\",\"major_tick_line_alpha\":0.4,\"major_tick_line_color\":\"#E0E0E0\",\"minor_tick_line_alpha\":0.4,\"minor_tick_line_color\":\"#E0E0E0\",\"ticker\":{\"id\":\"2504\"}},\"id\":\"2503\",\"type\":\"LinearAxis\"},{\"attributes\":{\"bottom_units\":\"screen\",\"coordinates\":null,\"fill_alpha\":0.5,\"fill_color\":\"lightgrey\",\"group\":null,\"left_units\":\"screen\",\"level\":\"overlay\",\"line_alpha\":1.0,\"line_color\":\"black\",\"line_dash\":[4,4],\"line_width\":2,\"right_units\":\"screen\",\"syncable\":false,\"top_units\":\"screen\"},\"id\":\"2574\",\"type\":\"BoxAnnotation\"},{\"attributes\":{\"fill_alpha\":{\"value\":0.5},\"fill_color\":{\"value\":\"midnightblue\"},\"line_color\":{\"value\":\"white\"}},\"id\":\"2547\",\"type\":\"Circle\"},{\"attributes\":{\"children\":[{\"id\":\"2551\"},{\"id\":\"2552\"},{\"id\":\"2587\"}],\"margin\":[0,0,0,0],\"name\":\"Row00162\"},\"id\":\"2550\",\"type\":\"Row\"},{\"attributes\":{\"args\":{\"bidirectional\":true,\"properties\":{\"readonly\":\"disabled\"},\"source\":{\"id\":\"2586\"},\"target\":{\"id\":\"2586\"}},\"code\":\"\\n    var value = source['readonly'];\\n    value = value;\\n    value = value;\\n    try {\\n      var property = target.properties['disabled'];\\n      if (property !== undefined) { property.validate(value); }\\n    } catch(err) {\\n      console.log('WARNING: Could not set disabled on target, raised error: ' + err);\\n      return;\\n    }\\n    try {\\n      target['disabled'] = value;\\n    } catch(err) {\\n      console.log(err)\\n    }\\n    \",\"tags\":[[139847158150960,[null,\"readonly\"],[null,\"disabled\"]]]},\"id\":\"2599\",\"type\":\"CustomJS\"},{\"attributes\":{\"coordinates\":null,\"group\":null,\"text\":\"Polynomial regression problem\",\"text_color\":\"#E0E0E0\",\"text_font\":\"Josefin Sans\",\"text_font_size\":\"2.1em\"},\"id\":\"2493\",\"type\":\"Title\"},{\"attributes\":{\"fill_alpha\":{\"value\":0.5},\"fill_color\":{\"value\":\"red\"},\"hatch_alpha\":{\"value\":0.5},\"line_alpha\":{\"value\":0.5},\"line_color\":{\"value\":\"white\"},\"size\":{\"value\":10},\"x\":{\"field\":\"x\"},\"y\":{\"field\":\"y\"}},\"id\":\"2528\",\"type\":\"Circle\"},{\"attributes\":{\"children\":[{\"id\":\"2492\"}],\"margin\":[0,0,0,0],\"name\":\"Row00154\"},\"id\":\"2563\",\"type\":\"Row\"},{\"attributes\":{},\"id\":\"2512\",\"type\":\"WheelZoomTool\"},{\"attributes\":{\"code\":\"def polynomial(\\n        coefficients: jnp.ndarray,\\n        n_observations: int = 100) -> [jnp.ndarray, jnp.ndarray]:\\n    x = jnp.linspace(0, 1, n_observations)\\n    y = jnp.polyval(coefficients, x)\\n    return x, \",\"filename\":\"\",\"height\":150,\"js_property_callbacks\":{\"change:disabled\":[{\"id\":\"2600\"}],\"change:readonly\":[{\"id\":\"2599\"}]},\"language\":\"python\",\"margin\":[5,10,5,10],\"sizing_mode\":\"stretch_both\",\"theme\":\"chaos\"},\"id\":\"2586\",\"type\":\"panel.models.ace.AcePlot\"},{\"attributes\":{},\"id\":\"2515\",\"type\":\"ResetTool\"},{\"attributes\":{},\"id\":\"2539\",\"type\":\"UnionRenderers\"},{\"attributes\":{\"margin\":[5,5,5,5],\"name\":\"HSpacer00131\",\"sizing_mode\":\"stretch_width\"},\"id\":\"2551\",\"type\":\"Spacer\"},{\"attributes\":{\"margin\":[5,5,5,5],\"name\":\"HSpacer00161\",\"sizing_mode\":\"stretch_width\"},\"id\":\"2587\",\"type\":\"Spacer\"},{\"attributes\":{},\"id\":\"2511\",\"type\":\"PanTool\"},{\"attributes\":{\"children\":[{\"id\":\"2553\"},{\"id\":\"2586\"}],\"margin\":[0,0,0,0],\"name\":\"Column00160\"},\"id\":\"2552\",\"type\":\"Column\"},{\"attributes\":{\"client_comm_id\":\"13af651794e84d19b6dc0261904de2ba\",\"comm_id\":\"9fe71af8d4c14fc795d23ac9ed03fea0\",\"plot_id\":\"2550\"},\"id\":\"2623\",\"type\":\"panel.models.comm_manager.CommManager\"},{\"attributes\":{\"axis_label\":\"$$\\\\color{white} -2.0x^2 + 0.0x^1 + 1.0x^0$$\",\"axis_label_standoff\":10,\"axis_label_text_color\":\"#FFFFFF\",\"axis_label_text_font\":\"Josefin Sans\",\"axis_label_text_font_size\":\"1.9em\",\"axis_label_text_font_style\":\"bold\",\"axis_line_alpha\":0.4,\"axis_line_color\":\"#E0E0E0\",\"coordinates\":null,\"formatter\":{\"id\":\"2534\"},\"group\":null,\"major_label_policy\":{\"id\":\"2535\"},\"major_label_text_color\":\"#E0E0E0\",\"major_label_text_font\":\"Josefin Sans\",\"major_label_text_font_size\":\"1.15em\",\"major_tick_line_alpha\":0.4,\"major_tick_line_color\":\"#E0E0E0\",\"minor_tick_line_alpha\":0.4,\"minor_tick_line_color\":\"#E0E0E0\",\"ticker\":{\"id\":\"2508\"}},\"id\":\"2507\",\"type\":\"LinearAxis\"},{\"attributes\":{\"children\":[{\"id\":\"2554\"},{\"id\":\"2563\"}],\"margin\":[0,0,0,0],\"name\":\"Row00157\"},\"id\":\"2553\",\"type\":\"Row\"},{\"attributes\":{\"args\":{\"bidirectional\":true,\"properties\":{\"readonly\":\"disabled\"},\"source\":{\"id\":\"2586\"},\"target\":{\"id\":\"2586\"}},\"code\":\"\\n    var value = source['disabled'];\\n    value = value;\\n    value = value;\\n    try {\\n      var property = target.properties['readonly'];\\n      if (property !== undefined) { property.validate(value); }\\n    } catch(err) {\\n      console.log('WARNING: Could not set readonly on target, raised error: ' + err);\\n      return;\\n    }\\n    try {\\n      target['readonly'] = value;\\n    } catch(err) {\\n      console.log(err)\\n    }\\n    \",\"tags\":[[139847158150960,[null,\"readonly\"],[null,\"disabled\"]]]},\"id\":\"2600\",\"type\":\"CustomJS\"},{\"attributes\":{\"children\":[{\"id\":\"2555\"},{\"id\":\"2556\"},{\"id\":\"2557\"},{\"id\":\"2558\"},{\"id\":\"2559\"},{\"id\":\"2560\"},{\"id\":\"2561\"},{\"id\":\"2562\"}],\"margin\":[5,5,5,5],\"min_width\":300,\"name\":\"Problem parameters\",\"width\":300},\"id\":\"2554\",\"type\":\"Column\"},{\"attributes\":{\"end\":5.0,\"margin\":[5,10,5,10],\"start\":-5.0,\"step\":0.1,\"title\":\"X 0\",\"value\":1.0},\"id\":\"2562\",\"type\":\"Slider\"},{\"attributes\":{},\"id\":\"2540\",\"type\":\"Selection\"},{\"attributes\":{\"labels\":[\"Ground truth\"],\"margin\":[5,10,5,10]},\"id\":\"2558\",\"type\":\"CheckboxGroup\"},{\"attributes\":{\"data\":{\"x\":{\"__ndarray__\":\"AAAAALV+JTy1fqU8ED74PLV+JT1i3k49ED54Pd7OkD21fqU9jC66PWLezj05juM9ED74PfN2Bj7ezhA+yiYbPrV+JT6g1i8+jC46PneGRD5i3k4+TjZZPjmOYz4k5m0+ED54Pv1KgT7zdoY+6aKLPt7OkD7U+pU+yiabPr9SoD61fqU+q6qqPqDWrz6WArU+jC66PoFavz53hsQ+bbLJPmLezj5YCtQ+TjbZPkNi3j45juM+L7roPiTm7T4aEvM+ED74PgVq/T79SgE/+OADP/N2Bj/uDAk/6aILP+Q4Dj/ezhA/2WQTP9T6FT/PkBg/yiYbP8W8HT+/UiA/uugiP7V+JT+wFCg/q6oqP6VALT+g1i8/m2wyP5YCNT+RmDc/jC46P4bEPD+BWj8/fPBBP3eGRD9yHEc/bbJJP2dITD9i3k4/XXRRP1gKVD9ToFY/TjZZP0jMWz9DYl4/PvhgPzmOYz80JGY/L7poPylQaz8k5m0/H3xwPxoScz8VqHU/ED54PwrUej8Fan0/AACAPw==\",\"dtype\":\"float32\",\"order\":\"little\",\"shape\":[100]},\"y\":{\"__ndarray__\":\"ki1uPx9TiT8UHoA/KL2KP9L1ij8FfHg/j02KP4J+iz+OAWc/8EiKP+36aD+Uq24/O3V9P4ckgT9ZE4A/erlcP4O2Xz8H9HI/dix4P2m1WT8cCYA/BBV9PzAeZD+wj1E/e4B4Py12cD+O418/MNdsPxx5Vj+HkTo/PUBRP9jNRz/MKjc/NiZXP98eST/k1ig//Eo4Pz1wPD9dT0c/UUsbPzfZFj9nKB8/ExktP6dtHD8kvx4//RskPwtcGz/0AQ8/aVP6PvePCz8y/wk/7HvwPjHoAj/45ds+kKb8Pu/Zsj5fadI+xBLYPogAxj5I3sM+FNFPPrgFqT5KvlU+1T5CPgRDej6S6zs+l2hLPen1Dz1iq/U9OeAyPSJgWjwm0HQ90AEyOyBkwzsEu/O8sk4avs6D0b0fp/q9GiMnvijpZb4c63K+06y+vucAsb48dt++FNvovhDTDr9JMAy/hZsevwYMCL8dGBC/8rIdvw9GG79AkD2/ofYtv+9MOr9l1kK/4mlxvxL3Vr8PD4C//ciIvw==\",\"dtype\":\"float32\",\"order\":\"little\",\"shape\":[100]}},\"selected\":{\"id\":\"2540\"},\"selection_policy\":{\"id\":\"2539\"}},\"id\":\"2525\",\"type\":\"ColumnDataSource\"},{\"attributes\":{\"margin\":[5,10,5,10],\"name\":\"\",\"text\":\"<b>Problem parameters</b>\"},\"id\":\"2555\",\"type\":\"Div\"},{\"attributes\":{\"labels\":[\"Error\"],\"margin\":[5,10,5,10]},\"id\":\"2559\",\"type\":\"CheckboxGroup\"},{\"attributes\":{},\"id\":\"2537\",\"type\":\"BasicTickFormatter\"},{\"attributes\":{\"end\":5.0,\"margin\":[5,10,5,10],\"start\":-5.0,\"step\":0.1,\"title\":\"X 2\",\"value\":-2.0},\"id\":\"2560\",\"type\":\"Slider\"},{\"attributes\":{\"overlay\":{\"id\":\"2517\"}},\"id\":\"2513\",\"type\":\"BoxZoomTool\"},{\"attributes\":{\"end\":1000,\"margin\":[5,10,5,10],\"start\":10,\"title\":\"Number observations\",\"value\":100},\"id\":\"2556\",\"type\":\"Slider\"},{\"attributes\":{},\"id\":\"2495\",\"type\":\"DataRange1d\"},{\"attributes\":{\"fill_alpha\":{\"value\":0.2},\"fill_color\":{\"value\":\"midnightblue\"},\"hatch_alpha\":{\"value\":0.2},\"line_alpha\":{\"value\":0.2},\"line_color\":{\"value\":\"white\"},\"size\":{\"value\":10},\"x\":{\"field\":\"x\"},\"y\":{\"field\":\"y\"}},\"id\":\"2529\",\"type\":\"Circle\"},{\"attributes\":{\"bottom_units\":\"screen\",\"coordinates\":null,\"fill_alpha\":0.5,\"fill_color\":\"lightgrey\",\"group\":null,\"left_units\":\"screen\",\"level\":\"overlay\",\"line_alpha\":1.0,\"line_color\":\"black\",\"line_dash\":[4,4],\"line_width\":2,\"right_units\":\"screen\",\"syncable\":false,\"top_units\":\"screen\"},\"id\":\"2517\",\"type\":\"BoxAnnotation\"},{\"attributes\":{\"background_fill_alpha\":0.9,\"background_fill_color\":\"#0f0f0f\",\"below\":[{\"id\":\"2503\"}],\"border_fill_alpha\":0.8,\"border_fill_color\":\"#111111\",\"center\":[{\"id\":\"2506\"},{\"id\":\"2510\"},{\"id\":\"2542\"}],\"height\":450,\"left\":[{\"id\":\"2507\"}],\"outline_line_alpha\":0.25,\"outline_line_color\":\"#E0E0E0\",\"outline_line_width\":3,\"renderers\":[{\"id\":\"2530\"}],\"title\":{\"id\":\"2493\"},\"toolbar\":{\"id\":\"2518\"},\"toolbar_location\":null,\"x_range\":{\"id\":\"2495\"},\"x_scale\":{\"id\":\"2499\"},\"y_range\":{\"id\":\"2497\"},\"y_scale\":{\"id\":\"2501\"}},\"id\":\"2492\",\"subtype\":\"Figure\",\"type\":\"Plot\"},{\"attributes\":{\"end\":5.0,\"margin\":[5,10,5,10],\"start\":0.0,\"step\":0.1,\"title\":\"Noise level\",\"value\":0.1},\"id\":\"2557\",\"type\":\"Slider\"},{\"attributes\":{},\"id\":\"2501\",\"type\":\"LinearScale\"},{\"attributes\":{},\"id\":\"2508\",\"type\":\"BasicTicker\"},{\"attributes\":{\"callback\":null,\"mode\":\"vline\",\"renderers\":[{\"id\":\"2530\"}],\"tooltips\":null},\"id\":\"2544\",\"type\":\"HoverTool\"},{\"attributes\":{\"source\":{\"id\":\"2525\"}},\"id\":\"2531\",\"type\":\"CDSView\"},{\"attributes\":{\"mode\":\"append\",\"overlay\":{\"id\":\"2574\"},\"renderers\":[{\"id\":\"2530\"}]},\"id\":\"2548\",\"type\":\"BoxSelectTool\"},{\"attributes\":{},\"id\":\"2534\",\"type\":\"BasicTickFormatter\"},{\"attributes\":{\"end\":5.0,\"margin\":[5,10,5,10],\"start\":-5.0,\"step\":0.1,\"title\":\"X 1\",\"value\":0.0},\"id\":\"2561\",\"type\":\"Slider\"},{\"attributes\":{\"background_fill_alpha\":0.25,\"background_fill_color\":\"#505050\",\"border_line_alpha\":0.25,\"coordinates\":null,\"group\":null,\"items\":[{\"id\":\"2543\"}],\"label_standoff\":8,\"label_text_color\":\"#E0E0E0\",\"label_text_font\":\"Josefin Sans\",\"label_text_font_size\":\"1.15em\",\"spacing\":8},\"id\":\"2542\",\"type\":\"Legend\"},{\"attributes\":{},\"id\":\"2497\",\"type\":\"DataRange1d\"},{\"attributes\":{\"axis\":{\"id\":\"2507\"},\"coordinates\":null,\"dimension\":1,\"grid_line_alpha\":0.15,\"grid_line_color\":\"#E0E0E0\",\"group\":null,\"ticker\":null},\"id\":\"2510\",\"type\":\"Grid\"},{\"attributes\":{\"axis\":{\"id\":\"2503\"},\"coordinates\":null,\"grid_line_alpha\":0.15,\"grid_line_color\":\"#E0E0E0\",\"group\":null,\"ticker\":null},\"id\":\"2506\",\"type\":\"Grid\"},{\"attributes\":{},\"id\":\"2516\",\"type\":\"HelpTool\"},{\"attributes\":{\"label\":{\"value\":\"Observations\"},\"renderers\":[{\"id\":\"2530\"}]},\"id\":\"2543\",\"type\":\"LegendItem\"}],\"root_ids\":[\"2550\",\"2623\"]},\"title\":\"Bokeh Application\",\"version\":\"2.4.3\"}};\n",
       "    var render_items = [{\"docid\":\"711cfe4b-2950-4936-a9c0-7c0509de1370\",\"root_ids\":[\"2550\"],\"roots\":{\"2550\":\"96b1ae07-874c-4461-9224-4291599b3606\"}}];\n",
       "    root.Bokeh.embed.embed_items_notebook(docs_json, render_items);\n",
       "    for (const render_item of render_items) {\n",
       "      for (const root_id of render_item.root_ids) {\n",
       "\tconst id_el = document.getElementById(root_id)\n",
       "\tif (id_el.children.length && (id_el.children[0].className === 'bk-root')) {\n",
       "\t  const root_el = id_el.children[0]\n",
       "\t  root_el.id = root_el.id + '-rendered'\n",
       "\t}\n",
       "      }\n",
       "    }\n",
       "  }\n",
       "  if (root.Bokeh !== undefined && root.Bokeh.Panel !== undefined) {\n",
       "    embed_document(root);\n",
       "  } else {\n",
       "    var attempts = 0;\n",
       "    var timer = setInterval(function(root) {\n",
       "      if (root.Bokeh !== undefined && root.Bokeh.Panel !== undefined) {\n",
       "        clearInterval(timer);\n",
       "        embed_document(root);\n",
       "      } else if (document.readyState == \"complete\") {\n",
       "        attempts++;\n",
       "        if (attempts > 200) {\n",
       "          clearInterval(timer);\n",
       "          console.log(\"Bokeh: ERROR: Unable to run BokehJS code because BokehJS library is missing\");\n",
       "        }\n",
       "      }\n",
       "    }, 25, root)\n",
       "  }\n",
       "})(window);</script>"
      ],
      "text/plain": [
       "Row\n",
       "    [0] HSpacer()\n",
       "    [1] Column\n",
       "        [0] Row\n",
       "            [0] Param(RegressionPolynomial, name='Problem parameters', widgets={})\n",
       "            [1] ParamMethod(method, _pane=Bokeh)\n",
       "        [1] Ace(height=150, language='python', sizing_mode='stretch_both', theme='chaos', value='def polynomial(\\n        ...)\n",
       "    [2] HSpacer()"
      ]
     },
     "execution_count": 11,
     "metadata": {
      "application/vnd.holoviews_exec.v0+json": {
       "id": "2550"
      }
     },
     "output_type": "execute_result"
    }
   ],
   "source": [
    "from cml.tasks import RegressionPolynomial\n",
    "explorer = RegressionPolynomial()\n",
    "explorer.render()"
   ]
  },
  {
   "cell_type": "markdown",
   "metadata": {},
   "source": [
    "## Using learning libraries (`scikit-learn`)"
   ]
  },
  {
   "cell_type": "markdown",
   "metadata": {},
   "source": [
    "To get a first grip on what machine learning does, we will rely on the `scikit-learn` library. This contains already coded models and learning procedure, that will allow us to _learn_ the parameters of this unknown function.\n",
    "\n",
    "Here we already know that we want to use a `PolynomialFeatures` model to perfom `LinearRegression` and that this polynomial should be of degree 2."
   ]
  },
  {
   "cell_type": "code",
   "execution_count": 12,
   "metadata": {
    "ExecuteTime": {
     "end_time": "2023-05-01T13:10:23.402063Z",
     "start_time": "2023-05-01T13:10:23.337497Z"
    }
   },
   "outputs": [],
   "source": [
    "from sklearn.linear_model import LinearRegression\n",
    "from sklearn.preprocessing import PolynomialFeatures\n",
    "from sklearn.pipeline import make_pipeline\n",
    "# Our data to fit\n",
    "X = x[:, np.newaxis]\n",
    "# Degree of our polynomial\n",
    "degree = 2;\n",
    "# Create our polynomial model for regression\n",
    "model = make_pipeline(PolynomialFeatures(degree), LinearRegression())\n",
    "# Fit the parameters of this model\n",
    "model.fit(X, y);"
   ]
  },
  {
   "cell_type": "markdown",
   "metadata": {},
   "source": [
    "Now that we have trained the model, we can perform _predictions_ from it, meaning that we can infer the output of the function at values that we did not observe originally."
   ]
  },
  {
   "cell_type": "code",
   "execution_count": 13,
   "metadata": {
    "ExecuteTime": {
     "end_time": "2023-05-01T13:10:26.204310Z",
     "start_time": "2023-05-01T13:10:26.139851Z"
    }
   },
   "outputs": [
    {
     "name": "stdout",
     "output_type": "stream",
     "text": [
      "Model error : 0.11997962385298984\n"
     ]
    },
    {
     "data": {},
     "metadata": {},
     "output_type": "display_data"
    },
    {
     "data": {
      "application/vnd.holoviews_exec.v0+json": "",
      "text/html": [
       "<div id='2757'>\n",
       "  <div class=\"bk-root\" id=\"920cd5ec-4da0-4104-b5c0-961db7f6e361\" data-root-id=\"2757\"></div>\n",
       "</div>\n",
       "<script type=\"application/javascript\">(function(root) {\n",
       "  function embed_document(root) {\n",
       "    var docs_json = {\"ebfdfaea-5a36-4768-88af-9a53a0a277f4\":{\"defs\":[{\"extends\":null,\"module\":null,\"name\":\"ReactiveHTML1\",\"overrides\":[],\"properties\":[]},{\"extends\":null,\"module\":null,\"name\":\"FlexBox1\",\"overrides\":[],\"properties\":[{\"default\":\"flex-start\",\"kind\":null,\"name\":\"align_content\"},{\"default\":\"flex-start\",\"kind\":null,\"name\":\"align_items\"},{\"default\":\"row\",\"kind\":null,\"name\":\"flex_direction\"},{\"default\":\"wrap\",\"kind\":null,\"name\":\"flex_wrap\"},{\"default\":\"flex-start\",\"kind\":null,\"name\":\"justify_content\"}]},{\"extends\":null,\"module\":null,\"name\":\"GridStack1\",\"overrides\":[],\"properties\":[{\"default\":\"warn\",\"kind\":null,\"name\":\"mode\"},{\"default\":null,\"kind\":null,\"name\":\"ncols\"},{\"default\":null,\"kind\":null,\"name\":\"nrows\"},{\"default\":true,\"kind\":null,\"name\":\"allow_resize\"},{\"default\":true,\"kind\":null,\"name\":\"allow_drag\"},{\"default\":[],\"kind\":null,\"name\":\"state\"}]},{\"extends\":null,\"module\":null,\"name\":\"click1\",\"overrides\":[],\"properties\":[{\"default\":\"\",\"kind\":null,\"name\":\"terminal_output\"},{\"default\":\"\",\"kind\":null,\"name\":\"debug_name\"},{\"default\":0,\"kind\":null,\"name\":\"clears\"}]},{\"extends\":null,\"module\":null,\"name\":\"NotificationAreaBase1\",\"overrides\":[],\"properties\":[{\"default\":\"bottom-right\",\"kind\":null,\"name\":\"position\"},{\"default\":0,\"kind\":null,\"name\":\"_clear\"}]},{\"extends\":null,\"module\":null,\"name\":\"NotificationArea1\",\"overrides\":[],\"properties\":[{\"default\":[],\"kind\":null,\"name\":\"notifications\"},{\"default\":\"bottom-right\",\"kind\":null,\"name\":\"position\"},{\"default\":0,\"kind\":null,\"name\":\"_clear\"},{\"default\":[{\"background\":\"#ffc107\",\"icon\":{\"className\":\"fas fa-exclamation-triangle\",\"color\":\"white\",\"tagName\":\"i\"},\"type\":\"warning\"},{\"background\":\"#007bff\",\"icon\":{\"className\":\"fas fa-info-circle\",\"color\":\"white\",\"tagName\":\"i\"},\"type\":\"info\"}],\"kind\":null,\"name\":\"types\"}]},{\"extends\":null,\"module\":null,\"name\":\"Notification\",\"overrides\":[],\"properties\":[{\"default\":null,\"kind\":null,\"name\":\"background\"},{\"default\":3000,\"kind\":null,\"name\":\"duration\"},{\"default\":null,\"kind\":null,\"name\":\"icon\"},{\"default\":\"\",\"kind\":null,\"name\":\"message\"},{\"default\":null,\"kind\":null,\"name\":\"notification_type\"},{\"default\":false,\"kind\":null,\"name\":\"_destroyed\"}]},{\"extends\":null,\"module\":null,\"name\":\"TemplateActions1\",\"overrides\":[],\"properties\":[{\"default\":0,\"kind\":null,\"name\":\"open_modal\"},{\"default\":0,\"kind\":null,\"name\":\"close_modal\"}]},{\"extends\":null,\"module\":null,\"name\":\"MaterialTemplateActions1\",\"overrides\":[],\"properties\":[{\"default\":0,\"kind\":null,\"name\":\"open_modal\"},{\"default\":0,\"kind\":null,\"name\":\"close_modal\"}]}],\"roots\":{\"references\":[{\"attributes\":{\"fill_alpha\":{\"value\":0.5},\"fill_color\":{\"value\":\"midnightblue\"},\"line_color\":{\"value\":\"white\"}},\"id\":\"2734\",\"type\":\"Circle\"},{\"attributes\":{\"axis_label\":\"y\",\"axis_label_standoff\":10,\"axis_label_text_color\":\"#FFFFFF\",\"axis_label_text_font\":\"Josefin Sans\",\"axis_label_text_font_size\":\"1.9em\",\"axis_label_text_font_style\":\"bold\",\"axis_line_alpha\":0.4,\"axis_line_color\":\"#E0E0E0\",\"coordinates\":null,\"formatter\":{\"id\":\"2721\"},\"group\":null,\"major_label_policy\":{\"id\":\"2722\"},\"major_label_text_color\":\"#E0E0E0\",\"major_label_text_font\":\"Josefin Sans\",\"major_label_text_font_size\":\"1.15em\",\"major_tick_line_alpha\":0.4,\"major_tick_line_color\":\"#E0E0E0\",\"minor_tick_line_alpha\":0.4,\"minor_tick_line_color\":\"#E0E0E0\",\"ticker\":{\"id\":\"2695\"}},\"id\":\"2694\",\"type\":\"LinearAxis\"},{\"attributes\":{\"coordinates\":null,\"data_source\":{\"id\":\"2712\"},\"glyph\":{\"id\":\"2713\"},\"group\":null,\"hover_glyph\":{\"id\":\"2715\"},\"muted_glyph\":{\"id\":\"2716\"},\"nonselection_glyph\":{\"id\":\"2734\"},\"selection_glyph\":{\"id\":\"2733\"},\"view\":{\"id\":\"2718\"}},\"id\":\"2717\",\"type\":\"GlyphRenderer\"},{\"attributes\":{\"data\":{\"x\":{\"__ndarray__\":\"W79SoNavlD8yb2dIzNu5P2WTTTbZZMM/UetXCtT6xT88Q2LezpDIPxPzdobEvM0/ejtDYt7O0D910UUXXXTRP2ApUOtXCtQ/W79SoNav1D9WVVVVVVXVP1HrVwrU+tU/TIFav1Kg1j9GF1100UXXPzxDYt7OkNg/N9lkk0022T8yb2dIzNvZPy0Fav1Kgdo/HcdxHMdx3D8YXXTRRRfdPxPzdobEvN0/CB988MEH3z998MEHH3zgP3o7Q2LezuA/d4bEvJ0h4T910UUXXXThP3BnSMzbGeI/aEjM2xkS4z9gKVDrVwrkP1gK1PqVAuU/U6DWrxSo5T9ONtlkk03mP0Ri3s6QmOc/OY7jOI7j6D832WSTTTbpPzJvZ0jM2+k/L7rooosu6j8tBWr9SoHqPypQ61cK1Oo/J5tssskm6z8iMW9nSMzrPx3HcRzHcew/Faj1KwVq7T8T83aGxLztPxA++OCDD+4/Dol5O0Ni7j8L1PqVArXuPwZq/UqBWu8/A7V+pUCt7z8AAAAAAADwPw==\",\"dtype\":\"float64\",\"order\":\"little\",\"shape\":[50]},\"y\":{\"__ndarray__\":\"gpYm6hDF8T8gFnU7zsjqP4EPBcvpdPI/n5//bYiX7j80gFT3MQnxP+f64sgAlPQ/6OnEaUep8D/34kmT2MLwP9AJgV3aBPI/ckc5yk8m9j+v+eH1Fbz1P6i27A/oCvM/lpC57Kyu9T+lKsW+9/H3P26D9jCjGfg/CUzNEG/k9j9xoZoPtB36PzIusQ2/Pfk/41vVolFh+D9+uQmsWj38PwYFj02rwPg/iG4uvcGH/D/KpPv2LXH6PwiRc7JhuP0//PR5JdDA+j/F4qwxGTL7P4xIz5JzgwBAKJe+fhYuAEBFHFGntPsCQLK5ntxl6gFAMv122C0rBEDvcnc+AfkDQGTg0EFGtANAD8o6FgI5B0AhgiG+JU4FQPl13BwSXwdACkmKEc0gCUDVZEtKW5UJQBZgnT8xEApAFFH/dKk+CkAQXBk+kq8IQER9zQ+1wAtAcn5Z76DpC0DNKC65A/YMQOSibCt+yw1ArzFqNiIUDUCR0AIS8HMPQHYQaM/tyQ5AW9DV2T2/D0BXTHhi+osOQA==\",\"dtype\":\"float64\",\"order\":\"little\",\"shape\":[50]}},\"selected\":{\"id\":\"2727\"},\"selection_policy\":{\"id\":\"2726\"}},\"id\":\"2712\",\"type\":\"ColumnDataSource\"},{\"attributes\":{\"fill_alpha\":{\"value\":0.5},\"fill_color\":{\"value\":\"red\"},\"hatch_alpha\":{\"value\":0.5},\"line_alpha\":{\"value\":0.5},\"line_color\":{\"value\":\"white\"},\"size\":{\"value\":10},\"x\":{\"field\":\"x\"},\"y\":{\"field\":\"y\"}},\"id\":\"2715\",\"type\":\"Circle\"},{\"attributes\":{\"source\":{\"id\":\"2737\"}},\"id\":\"2742\",\"type\":\"CDSView\"},{\"attributes\":{\"line_alpha\":0.2,\"line_color\":\"red\",\"line_width\":6,\"x\":{\"field\":\"x\"},\"y\":{\"field\":\"y\"}},\"id\":\"2740\",\"type\":\"Line\"},{\"attributes\":{\"line_alpha\":0.1,\"line_color\":\"red\",\"line_width\":6,\"x\":{\"field\":\"x\"},\"y\":{\"field\":\"y\"}},\"id\":\"2739\",\"type\":\"Line\"},{\"attributes\":{\"fill_alpha\":{\"value\":0.2},\"fill_color\":{\"value\":\"midnightblue\"},\"hatch_alpha\":{\"value\":0.2},\"line_alpha\":{\"value\":0.2},\"line_color\":{\"value\":\"white\"},\"size\":{\"value\":10},\"x\":{\"field\":\"x\"},\"y\":{\"field\":\"y\"}},\"id\":\"2716\",\"type\":\"Circle\"},{\"attributes\":{\"label\":{\"value\":\"Trained model\"},\"renderers\":[{\"id\":\"2741\"}]},\"id\":\"2756\",\"type\":\"LegendItem\"},{\"attributes\":{\"axis\":{\"id\":\"2694\"},\"coordinates\":null,\"dimension\":1,\"grid_line_alpha\":0.15,\"grid_line_color\":\"#E0E0E0\",\"group\":null,\"ticker\":null},\"id\":\"2697\",\"type\":\"Grid\"},{\"attributes\":{},\"id\":\"2699\",\"type\":\"WheelZoomTool\"},{\"attributes\":{},\"id\":\"2698\",\"type\":\"PanTool\"},{\"attributes\":{},\"id\":\"2688\",\"type\":\"LinearScale\"},{\"attributes\":{\"overlay\":{\"id\":\"2704\"}},\"id\":\"2700\",\"type\":\"BoxZoomTool\"},{\"attributes\":{},\"id\":\"2701\",\"type\":\"SaveTool\"},{\"attributes\":{},\"id\":\"2702\",\"type\":\"ResetTool\"},{\"attributes\":{\"bottom_units\":\"screen\",\"coordinates\":null,\"fill_alpha\":0.5,\"fill_color\":\"lightgrey\",\"group\":null,\"left_units\":\"screen\",\"level\":\"overlay\",\"line_alpha\":1.0,\"line_color\":\"black\",\"line_dash\":[4,4],\"line_width\":2,\"right_units\":\"screen\",\"syncable\":false,\"top_units\":\"screen\"},\"id\":\"2704\",\"type\":\"BoxAnnotation\"},{\"attributes\":{},\"id\":\"2727\",\"type\":\"Selection\"},{\"attributes\":{\"tools\":[{\"id\":\"2698\"},{\"id\":\"2699\"},{\"id\":\"2700\"},{\"id\":\"2701\"},{\"id\":\"2702\"},{\"id\":\"2703\"},{\"id\":\"2731\"},{\"id\":\"2735\"}]},\"id\":\"2705\",\"type\":\"Toolbar\"},{\"attributes\":{},\"id\":\"2752\",\"type\":\"UnionRenderers\"},{\"attributes\":{},\"id\":\"2753\",\"type\":\"Selection\"},{\"attributes\":{},\"id\":\"2682\",\"type\":\"DataRange1d\"},{\"attributes\":{},\"id\":\"2726\",\"type\":\"UnionRenderers\"},{\"attributes\":{\"source\":{\"id\":\"2712\"}},\"id\":\"2718\",\"type\":\"CDSView\"},{\"attributes\":{\"background_fill_alpha\":0.25,\"background_fill_color\":\"#505050\",\"border_line_alpha\":0.25,\"coordinates\":null,\"group\":null,\"items\":[{\"id\":\"2730\"},{\"id\":\"2756\"}],\"label_standoff\":8,\"label_text_color\":\"#E0E0E0\",\"label_text_font\":\"Josefin Sans\",\"label_text_font_size\":\"1.15em\",\"spacing\":8},\"id\":\"2729\",\"type\":\"Legend\"},{\"attributes\":{},\"id\":\"2695\",\"type\":\"BasicTicker\"},{\"attributes\":{\"client_comm_id\":\"375b046280234d02be6f72ef6af9ca84\",\"comm_id\":\"c1e5d058c37b425f9cff1e690c501baf\",\"plot_id\":\"2757\"},\"id\":\"2825\",\"type\":\"panel.models.comm_manager.CommManager\"},{\"attributes\":{},\"id\":\"2686\",\"type\":\"LinearScale\"},{\"attributes\":{\"data\":{\"x\":{\"__ndarray__\":\"AAAAAAAAAABbv1Kg1q+EP1u/UqDWr5Q/CB988MEHnz9bv1Kg1q+kPzJvZ0jM26k/CB988MEHrz9wZ0jM2xmyP1u/UqDWr7Q/RhdddNFFtz8yb2dIzNu5Px3HcRzHcbw/CB988MEHvz96O0Ni3s7AP3BnSMzbGcI/ZZNNNtlkwz9bv1Kg1q/EP1HrVwrU+sU/RhdddNFFxz88Q2LezpDIPzJvZ0jM28k/J5tssskmyz8dx3Ecx3HMPxPzdobEvM0/CB988MEHzz9/pUCtXynQP3o7Q2LeztA/ddFFF1100T9wZ0jM2xnSP2r9SoFav9I/ZZNNNtlk0z9gKVDrVwrUP1u/UqDWr9Q/VlVVVVVV1T9R61cK1PrVP0yBWr9SoNY/RhdddNFF1z9BrV8pUOvXPzxDYt7OkNg/N9lkk0022T8yb2dIzNvZPy0Fav1Kgdo/J5tssskm2z8iMW9nSMzbPx3HcRzHcdw/GF100UUX3T8T83aGxLzdPw6JeTtDYt4/CB988MEH3z8DtX6lQK3fP3+lQK1fKeA/ffDBBx984D96O0Ni3s7gP3eGxLydIeE/ddFFF1104T9yHMdxHMfhP3BnSMzbGeI/bbLJJpts4j9q/UqBWr/iP2hIzNsZEuM/ZZNNNtlk4z9j3s6QmLfjP2ApUOtXCuQ/XnTRRRdd5D9bv1Kg1q/kP1gK1PqVAuU/VlVVVVVV5T9ToNavFKjlP1HrVwrU+uU/TjbZZJNN5j9MgVq/UqDmP0nM2xkS8+Y/RhdddNFF5z9EYt7OkJjnP0GtXylQ6+c/P/jggw8+6D88Q2LezpDoPzmO4ziO4+g/N9lkk0026T80JObtDInpPzJvZ0jM2+k/L7rooosu6j8tBWr9SoHqPypQ61cK1Oo/J5tssskm6z8l5u0MiXnrPyIxb2dIzOs/IHzwwQcf7D8dx3Ecx3HsPxsS83aGxOw/GF100UUX7T8VqPUrBWrtPxPzdobEvO0/ED744IMP7j8OiXk7Q2LuPwvU+pUCte4/CB988MEH7z8Gav1KgVrvPwO1fqVAre8/AAAAAAAA8D8=\",\"dtype\":\"float64\",\"order\":\"little\",\"shape\":[100]},\"y\":{\"__ndarray__\":\"AAAAAAAA8D8MJLz1QAHwPy6Q8NYDBfA/aESdo0gL8D+6QMJbDxTwPyKFX/9XH/A/ohF1jiIt8D845gIJbz3wP+YCCW89UPA/q2eHwI1l8D+IFH79X33wP3sJ7SW0l/A/hkbUOYq08D+oyzM54tPwP+GYCyS89fA/Ma5b+hca8T+ZCyS89UDxPxixZGlVavE/rZ4dAjeW8T9b1E6GmsTxPx9S+PV/9fE/+hcaUeco8j/tJbSX0F7yP/d7xsk7l/I/GBpR5yjS8j9QAFTwlw/zP6Auz+SIT/M/B6XCxPuR8z+EYy6Q8NbzPxlqEkdnHvQ/xrhu6V9o9D+JT0N32rT0P2QukPDWA/U/VlVVVVVV9T9fxJKlVan1P397SOHX//U/tnp2CNxY9j8FwhwbYrT2P2tROxlqEvc/6CjSAvRy9z98SOHX/9X3PyiwaJiNO/g/6l9oRJ2j+D/EV+DbLg75P7SX0F5Ce/k/vR85zdfq+T/c7xkn71z6PxIIc2yI0fo/YGhEnaNI+z/FEI65QML7P0EBUMFfPvw/1jmKtAC9/D+AujyTIz79P0CDZ13Iwf0/GpQKE+9H/j8K7SW0l9D+PxKOuUDCW/8/MHfFuG7p/z8y1CSOzjwAQNoQo7UmhgBAi3Hd0r/QAEBJ9tPlmRwBQBKfhu60aQFA6Gv17BC4AUDIXCDhrQcCQLNxB8uLWAJAq6qqqqqqAkCuBwqACv4CQL6IJUurUgNA1y39C42oA0D+9pDCr/8DQDDk4G4TWARAbPXsELixBEC2KrWonQwFQAqEOTbEaAVAagF6uSvGBUDWonYy1CQGQExoL6G9hAZA0FGkBejlBkBeX9VfU0gHQPiQwq//qwdAneZr9ewQCEBPYNEwG3cIQAz+8mGK3ghA07/QiDpHCUCopWqlK7EJQIevwLddHApAc93Sv9CICkBpL6G9hPYKQGylK7F5ZQtAej9ymq/VC0CT/XR5JkcMQLjfM07euQxA6eWuGNctDUAlEObYEKMNQG1e2Y6LGQ5AwNCIOkeRDkAgZ/TbQwoPQIohHHOBhA9AAAAAAAAAEEA=\",\"dtype\":\"float64\",\"order\":\"little\",\"shape\":[100]}},\"selected\":{\"id\":\"2753\"},\"selection_policy\":{\"id\":\"2752\"}},\"id\":\"2737\",\"type\":\"ColumnDataSource\"},{\"attributes\":{\"axis\":{\"id\":\"2690\"},\"coordinates\":null,\"grid_line_alpha\":0.15,\"grid_line_color\":\"#E0E0E0\",\"group\":null,\"ticker\":null},\"id\":\"2693\",\"type\":\"Grid\"},{\"attributes\":{},\"id\":\"2703\",\"type\":\"HelpTool\"},{\"attributes\":{},\"id\":\"2721\",\"type\":\"BasicTickFormatter\"},{\"attributes\":{\"fill_alpha\":{\"value\":0.8},\"fill_color\":{\"value\":\"red\"},\"line_color\":{\"value\":\"white\"}},\"id\":\"2733\",\"type\":\"Circle\"},{\"attributes\":{},\"id\":\"2722\",\"type\":\"AllLabels\"},{\"attributes\":{\"label\":{\"value\":\"Observations\"},\"renderers\":[{\"id\":\"2717\"}]},\"id\":\"2730\",\"type\":\"LegendItem\"},{\"attributes\":{\"coordinates\":null,\"data_source\":{\"id\":\"2737\"},\"glyph\":{\"id\":\"2738\"},\"group\":null,\"hover_glyph\":null,\"muted_glyph\":{\"id\":\"2740\"},\"nonselection_glyph\":{\"id\":\"2739\"},\"view\":{\"id\":\"2742\"}},\"id\":\"2741\",\"type\":\"GlyphRenderer\"},{\"attributes\":{},\"id\":\"2691\",\"type\":\"BasicTicker\"},{\"attributes\":{\"background_fill_alpha\":0.9,\"background_fill_color\":\"#0f0f0f\",\"below\":[{\"id\":\"2690\"}],\"border_fill_alpha\":0.8,\"border_fill_color\":\"#111111\",\"center\":[{\"id\":\"2693\"},{\"id\":\"2697\"},{\"id\":\"2729\"}],\"height\":450,\"left\":[{\"id\":\"2694\"}],\"outline_line_alpha\":0.25,\"outline_line_color\":\"#E0E0E0\",\"outline_line_width\":3,\"renderers\":[{\"id\":\"2717\"},{\"id\":\"2741\"}],\"title\":{\"id\":\"2680\"},\"toolbar\":{\"id\":\"2705\"},\"toolbar_location\":null,\"x_range\":{\"id\":\"2682\"},\"x_scale\":{\"id\":\"2686\"},\"y_range\":{\"id\":\"2684\"},\"y_scale\":{\"id\":\"2688\"}},\"id\":\"2679\",\"subtype\":\"Figure\",\"type\":\"Plot\"},{\"attributes\":{\"mode\":\"append\",\"overlay\":{\"id\":\"2755\"},\"renderers\":[{\"id\":\"2717\"}]},\"id\":\"2735\",\"type\":\"BoxSelectTool\"},{\"attributes\":{\"axis_label\":\"x\",\"axis_label_standoff\":10,\"axis_label_text_color\":\"#FFFFFF\",\"axis_label_text_font\":\"Josefin Sans\",\"axis_label_text_font_size\":\"1.9em\",\"axis_label_text_font_style\":\"bold\",\"axis_line_alpha\":0.4,\"axis_line_color\":\"#E0E0E0\",\"coordinates\":null,\"formatter\":{\"id\":\"2724\"},\"group\":null,\"major_label_policy\":{\"id\":\"2725\"},\"major_label_text_color\":\"#E0E0E0\",\"major_label_text_font\":\"Josefin Sans\",\"major_label_text_font_size\":\"1.15em\",\"major_tick_line_alpha\":0.4,\"major_tick_line_color\":\"#E0E0E0\",\"minor_tick_line_alpha\":0.4,\"minor_tick_line_color\":\"#E0E0E0\",\"ticker\":{\"id\":\"2691\"}},\"id\":\"2690\",\"type\":\"LinearAxis\"},{\"attributes\":{\"children\":[{\"id\":\"2758\"},{\"id\":\"2679\"},{\"id\":\"2785\"}],\"margin\":[0,0,0,0],\"name\":\"Row00169\"},\"id\":\"2757\",\"type\":\"Row\"},{\"attributes\":{\"fill_alpha\":{\"value\":0.25},\"fill_color\":{\"value\":\"midnightblue\"},\"hatch_alpha\":{\"value\":0.25},\"line_alpha\":{\"value\":0.25},\"line_color\":{\"value\":\"white\"},\"size\":{\"value\":10},\"x\":{\"field\":\"x\"},\"y\":{\"field\":\"y\"}},\"id\":\"2713\",\"type\":\"Circle\"},{\"attributes\":{\"coordinates\":null,\"group\":null,\"text\":\"Training a scikit-learn model\",\"text_color\":\"#E0E0E0\",\"text_font\":\"Josefin Sans\",\"text_font_size\":\"2.1em\"},\"id\":\"2680\",\"type\":\"Title\"},{\"attributes\":{\"margin\":[5,5,5,5],\"name\":\"HSpacer00166\",\"sizing_mode\":\"stretch_width\"},\"id\":\"2785\",\"type\":\"Spacer\"},{\"attributes\":{},\"id\":\"2724\",\"type\":\"BasicTickFormatter\"},{\"attributes\":{\"margin\":[5,5,5,5],\"name\":\"HSpacer00165\",\"sizing_mode\":\"stretch_width\"},\"id\":\"2758\",\"type\":\"Spacer\"},{\"attributes\":{\"callback\":null,\"mode\":\"vline\",\"renderers\":[{\"id\":\"2717\"}],\"tooltips\":null},\"id\":\"2731\",\"type\":\"HoverTool\"},{\"attributes\":{},\"id\":\"2725\",\"type\":\"AllLabels\"},{\"attributes\":{},\"id\":\"2684\",\"type\":\"DataRange1d\"},{\"attributes\":{\"line_alpha\":0.6,\"line_color\":\"red\",\"line_width\":6,\"x\":{\"field\":\"x\"},\"y\":{\"field\":\"y\"}},\"id\":\"2738\",\"type\":\"Line\"},{\"attributes\":{\"bottom_units\":\"screen\",\"coordinates\":null,\"fill_alpha\":0.5,\"fill_color\":\"lightgrey\",\"group\":null,\"left_units\":\"screen\",\"level\":\"overlay\",\"line_alpha\":1.0,\"line_color\":\"black\",\"line_dash\":[4,4],\"line_width\":2,\"right_units\":\"screen\",\"syncable\":false,\"top_units\":\"screen\"},\"id\":\"2755\",\"type\":\"BoxAnnotation\"}],\"root_ids\":[\"2757\",\"2825\"]},\"title\":\"Bokeh Application\",\"version\":\"2.4.3\"}};\n",
       "    var render_items = [{\"docid\":\"ebfdfaea-5a36-4768-88af-9a53a0a277f4\",\"root_ids\":[\"2757\"],\"roots\":{\"2757\":\"920cd5ec-4da0-4104-b5c0-961db7f6e361\"}}];\n",
       "    root.Bokeh.embed.embed_items_notebook(docs_json, render_items);\n",
       "    for (const render_item of render_items) {\n",
       "      for (const root_id of render_item.root_ids) {\n",
       "\tconst id_el = document.getElementById(root_id)\n",
       "\tif (id_el.children.length && (id_el.children[0].className === 'bk-root')) {\n",
       "\t  const root_el = id_el.children[0]\n",
       "\t  root_el.id = root_el.id + '-rendered'\n",
       "\t}\n",
       "      }\n",
       "    }\n",
       "  }\n",
       "  if (root.Bokeh !== undefined && root.Bokeh.Panel !== undefined) {\n",
       "    embed_document(root);\n",
       "  } else {\n",
       "    var attempts = 0;\n",
       "    var timer = setInterval(function(root) {\n",
       "      if (root.Bokeh !== undefined && root.Bokeh.Panel !== undefined) {\n",
       "        clearInterval(timer);\n",
       "        embed_document(root);\n",
       "      } else if (document.readyState == \"complete\") {\n",
       "        attempts++;\n",
       "        if (attempts > 200) {\n",
       "          clearInterval(timer);\n",
       "          console.log(\"Bokeh: ERROR: Unable to run BokehJS code because BokehJS library is missing\");\n",
       "        }\n",
       "      }\n",
       "    }, 25, root)\n",
       "  }\n",
       "})(window);</script>"
      ],
      "text/plain": [
       "Row\n",
       "    [0] HSpacer()\n",
       "    [1] Bokeh(Figure)\n",
       "    [2] HSpacer()"
      ]
     },
     "execution_count": 13,
     "metadata": {
      "application/vnd.holoviews_exec.v0+json": {
       "id": "2757"
      }
     },
     "output_type": "execute_result"
    }
   ],
   "source": [
    "# Inference points (not observed)\n",
    "X_plot = x_plot[:, np.newaxis]\n",
    "# Predict the values\n",
    "y_plot = model.predict(X_plot)\n",
    "# Compute the error of our model at observed points\n",
    "Y_model_err = np.sqrt(np.mean(np.square(y-model.predict(X))))\n",
    "print(f'Model error : {Y_model_err}')\n",
    "# Plot the result\n",
    "p = scatter(x, y, title=\"Training a scikit-learn model\")\n",
    "p.line(x_plot, poly(x_plot), line_width=6, line_alpha=0.6, color=\"red\", legend_label=r\"Trained model\")\n",
    "plot = (center_plot(p))\n",
    "plot"
   ]
  },
  {
   "cell_type": "code",
   "execution_count": 14,
   "metadata": {},
   "outputs": [],
   "source": [
    "from cml.tasks import RegressionPolynomialSolver\n",
    "explorer = RegressionPolynomialSolver()"
   ]
  },
  {
   "cell_type": "code",
   "execution_count": 15,
   "metadata": {},
   "outputs": [
    {
     "data": {},
     "metadata": {},
     "output_type": "display_data"
    },
    {
     "data": {
      "application/vnd.holoviews_exec.v0+json": "",
      "text/html": [
       "<div id='2955'>\n",
       "  <div class=\"bk-root\" id=\"008f5fef-9de4-4a88-84ca-a036d134952b\" data-root-id=\"2955\"></div>\n",
       "</div>\n",
       "<script type=\"application/javascript\">(function(root) {\n",
       "  function embed_document(root) {\n",
       "    var docs_json = {\"429ba30b-8e8d-4bc6-8694-58e747df160d\":{\"defs\":[{\"extends\":null,\"module\":null,\"name\":\"ReactiveHTML1\",\"overrides\":[],\"properties\":[]},{\"extends\":null,\"module\":null,\"name\":\"FlexBox1\",\"overrides\":[],\"properties\":[{\"default\":\"flex-start\",\"kind\":null,\"name\":\"align_content\"},{\"default\":\"flex-start\",\"kind\":null,\"name\":\"align_items\"},{\"default\":\"row\",\"kind\":null,\"name\":\"flex_direction\"},{\"default\":\"wrap\",\"kind\":null,\"name\":\"flex_wrap\"},{\"default\":\"flex-start\",\"kind\":null,\"name\":\"justify_content\"}]},{\"extends\":null,\"module\":null,\"name\":\"GridStack1\",\"overrides\":[],\"properties\":[{\"default\":\"warn\",\"kind\":null,\"name\":\"mode\"},{\"default\":null,\"kind\":null,\"name\":\"ncols\"},{\"default\":null,\"kind\":null,\"name\":\"nrows\"},{\"default\":true,\"kind\":null,\"name\":\"allow_resize\"},{\"default\":true,\"kind\":null,\"name\":\"allow_drag\"},{\"default\":[],\"kind\":null,\"name\":\"state\"}]},{\"extends\":null,\"module\":null,\"name\":\"click1\",\"overrides\":[],\"properties\":[{\"default\":\"\",\"kind\":null,\"name\":\"terminal_output\"},{\"default\":\"\",\"kind\":null,\"name\":\"debug_name\"},{\"default\":0,\"kind\":null,\"name\":\"clears\"}]},{\"extends\":null,\"module\":null,\"name\":\"NotificationAreaBase1\",\"overrides\":[],\"properties\":[{\"default\":\"bottom-right\",\"kind\":null,\"name\":\"position\"},{\"default\":0,\"kind\":null,\"name\":\"_clear\"}]},{\"extends\":null,\"module\":null,\"name\":\"NotificationArea1\",\"overrides\":[],\"properties\":[{\"default\":[],\"kind\":null,\"name\":\"notifications\"},{\"default\":\"bottom-right\",\"kind\":null,\"name\":\"position\"},{\"default\":0,\"kind\":null,\"name\":\"_clear\"},{\"default\":[{\"background\":\"#ffc107\",\"icon\":{\"className\":\"fas fa-exclamation-triangle\",\"color\":\"white\",\"tagName\":\"i\"},\"type\":\"warning\"},{\"background\":\"#007bff\",\"icon\":{\"className\":\"fas fa-info-circle\",\"color\":\"white\",\"tagName\":\"i\"},\"type\":\"info\"}],\"kind\":null,\"name\":\"types\"}]},{\"extends\":null,\"module\":null,\"name\":\"Notification\",\"overrides\":[],\"properties\":[{\"default\":null,\"kind\":null,\"name\":\"background\"},{\"default\":3000,\"kind\":null,\"name\":\"duration\"},{\"default\":null,\"kind\":null,\"name\":\"icon\"},{\"default\":\"\",\"kind\":null,\"name\":\"message\"},{\"default\":null,\"kind\":null,\"name\":\"notification_type\"},{\"default\":false,\"kind\":null,\"name\":\"_destroyed\"}]},{\"extends\":null,\"module\":null,\"name\":\"TemplateActions1\",\"overrides\":[],\"properties\":[{\"default\":0,\"kind\":null,\"name\":\"open_modal\"},{\"default\":0,\"kind\":null,\"name\":\"close_modal\"}]},{\"extends\":null,\"module\":null,\"name\":\"MaterialTemplateActions1\",\"overrides\":[],\"properties\":[{\"default\":0,\"kind\":null,\"name\":\"open_modal\"},{\"default\":0,\"kind\":null,\"name\":\"close_modal\"}]}],\"roots\":{\"references\":[{\"attributes\":{},\"id\":\"2915\",\"type\":\"HelpTool\"},{\"attributes\":{\"line_alpha\":0.7,\"line_color\":\"red\",\"line_width\":4,\"x\":{\"field\":\"x\"},\"y\":{\"field\":\"y\"}},\"id\":\"2950\",\"type\":\"Line\"},{\"attributes\":{\"axis\":{\"id\":\"2902\"},\"coordinates\":null,\"grid_line_alpha\":0.15,\"grid_line_color\":\"#E0E0E0\",\"group\":null,\"ticker\":null},\"id\":\"2905\",\"type\":\"Grid\"},{\"attributes\":{\"axis_label\":\"$$\\\\color{white} -2.0x^2 + 0.0x^1 + 1.0x^0$$\",\"axis_label_standoff\":10,\"axis_label_text_color\":\"#FFFFFF\",\"axis_label_text_font\":\"Josefin Sans\",\"axis_label_text_font_size\":\"1.9em\",\"axis_label_text_font_style\":\"bold\",\"axis_line_alpha\":0.4,\"axis_line_color\":\"#E0E0E0\",\"coordinates\":null,\"formatter\":{\"id\":\"2933\"},\"group\":null,\"major_label_policy\":{\"id\":\"2934\"},\"major_label_text_color\":\"#E0E0E0\",\"major_label_text_font\":\"Josefin Sans\",\"major_label_text_font_size\":\"1.15em\",\"major_tick_line_alpha\":0.4,\"major_tick_line_color\":\"#E0E0E0\",\"minor_tick_line_alpha\":0.4,\"minor_tick_line_color\":\"#E0E0E0\",\"ticker\":{\"id\":\"2907\"}},\"id\":\"2906\",\"type\":\"LinearAxis\"},{\"attributes\":{},\"id\":\"2903\",\"type\":\"BasicTicker\"},{\"attributes\":{\"axis\":{\"id\":\"2906\"},\"coordinates\":null,\"dimension\":1,\"grid_line_alpha\":0.15,\"grid_line_color\":\"#E0E0E0\",\"group\":null,\"ticker\":null},\"id\":\"2909\",\"type\":\"Grid\"},{\"attributes\":{},\"id\":\"2907\",\"type\":\"BasicTicker\"},{\"attributes\":{\"fill_alpha\":{\"value\":0.5},\"fill_color\":{\"value\":\"red\"},\"hatch_alpha\":{\"value\":0.5},\"line_alpha\":{\"value\":0.5},\"line_color\":{\"value\":\"white\"},\"size\":{\"value\":10},\"x\":{\"field\":\"x\"},\"y\":{\"field\":\"y\"}},\"id\":\"2927\",\"type\":\"Circle\"},{\"attributes\":{},\"id\":\"2939\",\"type\":\"Selection\"},{\"attributes\":{},\"id\":\"2911\",\"type\":\"WheelZoomTool\"},{\"attributes\":{},\"id\":\"2910\",\"type\":\"PanTool\"},{\"attributes\":{\"overlay\":{\"id\":\"2916\"}},\"id\":\"2912\",\"type\":\"BoxZoomTool\"},{\"attributes\":{},\"id\":\"2979\",\"type\":\"UnionRenderers\"},{\"attributes\":{},\"id\":\"2913\",\"type\":\"SaveTool\"},{\"attributes\":{},\"id\":\"2938\",\"type\":\"UnionRenderers\"},{\"attributes\":{},\"id\":\"2914\",\"type\":\"ResetTool\"},{\"attributes\":{\"line_alpha\":0.1,\"line_color\":\"red\",\"line_width\":4,\"x\":{\"field\":\"x\"},\"y\":{\"field\":\"y\"}},\"id\":\"2951\",\"type\":\"Line\"},{\"attributes\":{},\"id\":\"2980\",\"type\":\"Selection\"},{\"attributes\":{\"coordinates\":null,\"data_source\":{\"id\":\"2949\"},\"glyph\":{\"id\":\"2950\"},\"group\":null,\"hover_glyph\":null,\"muted_glyph\":{\"id\":\"2952\"},\"nonselection_glyph\":{\"id\":\"2951\"},\"view\":{\"id\":\"2954\"}},\"id\":\"2953\",\"type\":\"GlyphRenderer\"},{\"attributes\":{\"line_alpha\":0.2,\"line_color\":\"red\",\"line_width\":4,\"x\":{\"field\":\"x\"},\"y\":{\"field\":\"y\"}},\"id\":\"2952\",\"type\":\"Line\"},{\"attributes\":{\"bottom_units\":\"screen\",\"coordinates\":null,\"fill_alpha\":0.5,\"fill_color\":\"lightgrey\",\"group\":null,\"left_units\":\"screen\",\"level\":\"overlay\",\"line_alpha\":1.0,\"line_color\":\"black\",\"line_dash\":[4,4],\"line_width\":2,\"right_units\":\"screen\",\"syncable\":false,\"top_units\":\"screen\"},\"id\":\"2916\",\"type\":\"BoxAnnotation\"},{\"attributes\":{\"fill_alpha\":{\"value\":0.2},\"fill_color\":{\"value\":\"midnightblue\"},\"hatch_alpha\":{\"value\":0.2},\"line_alpha\":{\"value\":0.2},\"line_color\":{\"value\":\"white\"},\"size\":{\"value\":10},\"x\":{\"field\":\"x\"},\"y\":{\"field\":\"y\"}},\"id\":\"2928\",\"type\":\"Circle\"},{\"attributes\":{\"args\":{\"bidirectional\":true,\"properties\":{\"readonly\":\"disabled\"},\"source\":{\"id\":\"2996\"},\"target\":{\"id\":\"2996\"}},\"code\":\"\\n    var value = source['readonly'];\\n    value = value;\\n    value = value;\\n    try {\\n      var property = target.properties['disabled'];\\n      if (property !== undefined) { property.validate(value); }\\n    } catch(err) {\\n      console.log('WARNING: Could not set disabled on target, raised error: ' + err);\\n      return;\\n    }\\n    try {\\n      target['disabled'] = value;\\n    } catch(err) {\\n      console.log(err)\\n    }\\n    \",\"tags\":[[139847024748496,[null,\"readonly\"],[null,\"disabled\"]]]},\"id\":\"3011\",\"type\":\"CustomJS\"},{\"attributes\":{\"tools\":[{\"id\":\"2910\"},{\"id\":\"2911\"},{\"id\":\"2912\"},{\"id\":\"2913\"},{\"id\":\"2914\"},{\"id\":\"2915\"},{\"id\":\"2943\"},{\"id\":\"2947\"}]},\"id\":\"2917\",\"type\":\"Toolbar\"},{\"attributes\":{\"background_fill_alpha\":0.25,\"background_fill_color\":\"#505050\",\"border_line_alpha\":0.25,\"coordinates\":null,\"group\":null,\"items\":[{\"id\":\"2942\"}],\"label_standoff\":8,\"label_text_color\":\"#E0E0E0\",\"label_text_font\":\"Josefin Sans\",\"label_text_font_size\":\"1.15em\",\"spacing\":8},\"id\":\"2941\",\"type\":\"Legend\"},{\"attributes\":{\"coordinates\":null,\"data_source\":{\"id\":\"2924\"},\"glyph\":{\"id\":\"2925\"},\"group\":null,\"hover_glyph\":{\"id\":\"2927\"},\"muted_glyph\":{\"id\":\"2928\"},\"nonselection_glyph\":{\"id\":\"2946\"},\"selection_glyph\":{\"id\":\"2945\"},\"view\":{\"id\":\"2930\"}},\"id\":\"2929\",\"type\":\"GlyphRenderer\"},{\"attributes\":{\"args\":{\"bidirectional\":true,\"properties\":{\"readonly\":\"disabled\"},\"source\":{\"id\":\"2996\"},\"target\":{\"id\":\"2996\"}},\"code\":\"\\n    var value = source['disabled'];\\n    value = value;\\n    value = value;\\n    try {\\n      var property = target.properties['readonly'];\\n      if (property !== undefined) { property.validate(value); }\\n    } catch(err) {\\n      console.log('WARNING: Could not set readonly on target, raised error: ' + err);\\n      return;\\n    }\\n    try {\\n      target['readonly'] = value;\\n    } catch(err) {\\n      console.log(err)\\n    }\\n    \",\"tags\":[[139847024748496,[null,\"readonly\"],[null,\"disabled\"]]]},\"id\":\"3012\",\"type\":\"CustomJS\"},{\"attributes\":{\"source\":{\"id\":\"2924\"}},\"id\":\"2930\",\"type\":\"CDSView\"},{\"attributes\":{\"bottom_units\":\"screen\",\"coordinates\":null,\"fill_alpha\":0.5,\"fill_color\":\"lightgrey\",\"group\":null,\"left_units\":\"screen\",\"level\":\"overlay\",\"line_alpha\":1.0,\"line_color\":\"black\",\"line_dash\":[4,4],\"line_width\":2,\"right_units\":\"screen\",\"syncable\":false,\"top_units\":\"screen\"},\"id\":\"2982\",\"type\":\"BoxAnnotation\"},{\"attributes\":{\"children\":[{\"id\":\"2956\"},{\"id\":\"2957\"},{\"id\":\"2997\"}],\"margin\":[0,0,0,0],\"name\":\"Row00206\"},\"id\":\"2955\",\"type\":\"Row\"},{\"attributes\":{\"data\":{\"x\":{\"__ndarray__\":\"AAAAALV+JTy1fqU8ED74PLV+JT1i3k49ED54Pd7OkD21fqU9jC66PWLezj05juM9ED74PfN2Bj7ezhA+yiYbPrV+JT6g1i8+jC46PneGRD5i3k4+TjZZPjmOYz4k5m0+ED54Pv1KgT7zdoY+6aKLPt7OkD7U+pU+yiabPr9SoD61fqU+q6qqPqDWrz6WArU+jC66PoFavz53hsQ+bbLJPmLezj5YCtQ+TjbZPkNi3j45juM+L7roPiTm7T4aEvM+ED74PgVq/T79SgE/+OADP/N2Bj/uDAk/6aILP+Q4Dj/ezhA/2WQTP9T6FT/PkBg/yiYbP8W8HT+/UiA/uugiP7V+JT+wFCg/q6oqP6VALT+g1i8/m2wyP5YCNT+RmDc/jC46P4bEPD+BWj8/fPBBP3eGRD9yHEc/bbJJP2dITD9i3k4/XXRRP1gKVD9ToFY/TjZZP0jMWz9DYl4/PvhgPzmOYz80JGY/L7poPylQaz8k5m0/H3xwPxoScz8VqHU/ED54PwrUej8Fan0/AACAPw==\",\"dtype\":\"float32\",\"order\":\"little\",\"shape\":[100]},\"y\":{\"__ndarray__\":\"IDeMP+jsbz+WJYM/l/uKP8uxfD8FqmU/PvZrP7IOgD8tbYY/x62CP2aJdT9BXoA/bD5kP4LkXj94Vns/cRZkP5Zjgj94L2w/oMl2P8LMcT9h1GM/rzt+Pwojdj8q3Gg/Lk9gPyZ6VT8ewVQ/3QpvP8PtRT8ANkw/lPFhPyK3ZT9bOEc/oQ83P3bXOT8nVjY/mm5HP60+Ij9kwEs/KNcrP1O0Kj84JRE/p8MdP54yEj8i2TE/Wd0MP7eLBz/fyxg/rf4XPxtK2j7sLuU+WWfCPtzztz7ISeA+TIP3PoRXuj7Osao+EkKcPguepD7g5ZQ+RuSKPk7ZNT5ElWI+rdgoPuQbaD6RKR0+wUcyPiLLGz765ws+fab3PfDJt7sxGIK9BsiEPL40s73X3S6+H1oSvpyODL7GUx6+q4WOvhqpnb4rA8K+6szHvjh6kL5ufKS+14T6vm8E/b4i+wG/WJUcv+11I7+2mS+/2JIcv2vUN7+t+jS/Fl03vz9pZr/lBFq/Md9Hv2DCbL9Wn4C/dJJ4vw==\",\"dtype\":\"float32\",\"order\":\"little\",\"shape\":[100]}},\"selected\":{\"id\":\"2939\"},\"selection_policy\":{\"id\":\"2938\"}},\"id\":\"2924\",\"type\":\"ColumnDataSource\"},{\"attributes\":{\"margin\":[5,5,5,5],\"name\":\"HSpacer00173\",\"sizing_mode\":\"stretch_width\"},\"id\":\"2956\",\"type\":\"Spacer\"},{\"attributes\":{},\"id\":\"2933\",\"type\":\"BasicTickFormatter\"},{\"attributes\":{\"background_fill_alpha\":0.9,\"background_fill_color\":\"#0f0f0f\",\"below\":[{\"id\":\"2902\"}],\"border_fill_alpha\":0.8,\"border_fill_color\":\"#111111\",\"center\":[{\"id\":\"2905\"},{\"id\":\"2909\"},{\"id\":\"2941\"}],\"height\":450,\"left\":[{\"id\":\"2906\"}],\"outline_line_alpha\":0.25,\"outline_line_color\":\"#E0E0E0\",\"outline_line_width\":3,\"renderers\":[{\"id\":\"2929\"},{\"id\":\"2953\"}],\"title\":{\"id\":\"2892\"},\"toolbar\":{\"id\":\"2917\"},\"toolbar_location\":null,\"x_range\":{\"id\":\"2894\"},\"x_scale\":{\"id\":\"2898\"},\"y_range\":{\"id\":\"2896\"},\"y_scale\":{\"id\":\"2900\"}},\"id\":\"2891\",\"subtype\":\"Figure\",\"type\":\"Plot\"},{\"attributes\":{\"client_comm_id\":\"d56b935daef84524a9410cad8e2e075e\",\"comm_id\":\"33a292b3775a47f1af95ddc3b12c769e\",\"plot_id\":\"2955\"},\"id\":\"3039\",\"type\":\"panel.models.comm_manager.CommManager\"},{\"attributes\":{\"children\":[{\"id\":\"2958\"},{\"id\":\"2996\"}],\"margin\":[0,0,0,0],\"name\":\"Column00204\"},\"id\":\"2957\",\"type\":\"Column\"},{\"attributes\":{},\"id\":\"2934\",\"type\":\"AllLabels\"},{\"attributes\":{},\"id\":\"2896\",\"type\":\"DataRange1d\"},{\"attributes\":{\"children\":[{\"id\":\"2960\"},{\"id\":\"2961\"},{\"id\":\"2962\"},{\"id\":\"2963\"},{\"id\":\"2964\"},{\"id\":\"2965\"},{\"id\":\"2966\"},{\"id\":\"2967\"},{\"id\":\"2968\"}],\"margin\":[5,5,5,5],\"min_width\":300,\"name\":\"Problem parameters\",\"width\":300},\"id\":\"2959\",\"type\":\"Column\"},{\"attributes\":{\"children\":[{\"id\":\"2959\"},{\"id\":\"2969\"}],\"margin\":[0,0,0,0],\"name\":\"Row00201\"},\"id\":\"2958\",\"type\":\"Row\"},{\"attributes\":{\"margin\":[5,10,5,10],\"name\":\"\",\"text\":\"<b>Problem parameters</b>\"},\"id\":\"2960\",\"type\":\"Div\"},{\"attributes\":{\"labels\":[\"Ground truth\"],\"margin\":[5,10,5,10]},\"id\":\"2963\",\"type\":\"CheckboxGroup\"},{\"attributes\":{\"labels\":[\"Error\"],\"margin\":[5,10,5,10]},\"id\":\"2964\",\"type\":\"CheckboxGroup\"},{\"attributes\":{\"end\":1000,\"margin\":[5,10,5,10],\"start\":10,\"title\":\"Number observations\",\"value\":100},\"id\":\"2961\",\"type\":\"Slider\"},{\"attributes\":{\"end\":5.0,\"margin\":[5,10,5,10],\"start\":-5.0,\"step\":0.1,\"title\":\"X 2\",\"value\":-2.0},\"id\":\"2965\",\"type\":\"Slider\"},{\"attributes\":{\"fill_alpha\":{\"value\":0.8},\"fill_color\":{\"value\":\"red\"},\"line_color\":{\"value\":\"white\"}},\"id\":\"2945\",\"type\":\"Circle\"},{\"attributes\":{\"end\":5.0,\"margin\":[5,10,5,10],\"start\":0.0,\"step\":0.1,\"title\":\"Noise level\",\"value\":0.1},\"id\":\"2962\",\"type\":\"Slider\"},{\"attributes\":{\"label\":{\"value\":\"Observations\"},\"renderers\":[{\"id\":\"2929\"}]},\"id\":\"2942\",\"type\":\"LegendItem\"},{\"attributes\":{\"end\":5.0,\"margin\":[5,10,5,10],\"start\":-5.0,\"step\":0.1,\"title\":\"X 0\",\"value\":1.0},\"id\":\"2967\",\"type\":\"Slider\"},{\"attributes\":{\"source\":{\"id\":\"2949\"}},\"id\":\"2954\",\"type\":\"CDSView\"},{\"attributes\":{},\"id\":\"2936\",\"type\":\"BasicTickFormatter\"},{\"attributes\":{\"mode\":\"append\",\"overlay\":{\"id\":\"2982\"},\"renderers\":[{\"id\":\"2929\"}]},\"id\":\"2947\",\"type\":\"BoxSelectTool\"},{\"attributes\":{\"code\":\"def polynomial(\\n        coefficients: jnp.ndarray,\\n        n_observations: int = 100) -> [jnp.ndarray, jnp.ndarray]:\\n    x = jnp.linspace(0, 1, n_observations)\\n    y = jnp.polyval(coefficients, x)\\n    return x, \",\"filename\":\"\",\"height\":150,\"js_property_callbacks\":{\"change:disabled\":[{\"id\":\"3012\"}],\"change:readonly\":[{\"id\":\"3011\"}]},\"language\":\"python\",\"margin\":[5,10,5,10],\"sizing_mode\":\"stretch_both\",\"theme\":\"chaos\"},\"id\":\"2996\",\"type\":\"panel.models.ace.AcePlot\"},{\"attributes\":{\"data\":{\"x\":{\"__ndarray__\":\"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\",\"dtype\":\"float64\",\"order\":\"little\",\"shape\":[200]},\"y\":{\"__ndarray__\":\"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\",\"dtype\":\"float64\",\"order\":\"little\",\"shape\":[200]}},\"selected\":{\"id\":\"2980\"},\"selection_policy\":{\"id\":\"2979\"}},\"id\":\"2949\",\"type\":\"ColumnDataSource\"},{\"attributes\":{\"callback\":null,\"mode\":\"vline\",\"renderers\":[{\"id\":\"2929\"}],\"tooltips\":null},\"id\":\"2943\",\"type\":\"HoverTool\"},{\"attributes\":{\"end\":30,\"margin\":[5,10,5,10],\"start\":1,\"title\":\"Degree\",\"value\":1},\"id\":\"2968\",\"type\":\"Slider\"},{\"attributes\":{\"axis_label\":\"$$\\\\color{white} x$$\",\"axis_label_standoff\":10,\"axis_label_text_color\":\"#FFFFFF\",\"axis_label_text_font\":\"Josefin Sans\",\"axis_label_text_font_size\":\"1.9em\",\"axis_label_text_font_style\":\"bold\",\"axis_line_alpha\":0.4,\"axis_line_color\":\"#E0E0E0\",\"coordinates\":null,\"formatter\":{\"id\":\"2936\"},\"group\":null,\"major_label_policy\":{\"id\":\"2937\"},\"major_label_text_color\":\"#E0E0E0\",\"major_label_text_font\":\"Josefin Sans\",\"major_label_text_font_size\":\"1.15em\",\"major_tick_line_alpha\":0.4,\"major_tick_line_color\":\"#E0E0E0\",\"minor_tick_line_alpha\":0.4,\"minor_tick_line_color\":\"#E0E0E0\",\"ticker\":{\"id\":\"2903\"}},\"id\":\"2902\",\"type\":\"LinearAxis\"},{\"attributes\":{},\"id\":\"2937\",\"type\":\"AllLabels\"},{\"attributes\":{\"end\":5.0,\"margin\":[5,10,5,10],\"start\":-5.0,\"step\":0.1,\"title\":\"X 1\",\"value\":0.0},\"id\":\"2966\",\"type\":\"Slider\"},{\"attributes\":{\"coordinates\":null,\"group\":null,\"text\":\"Polynomial regression problem\",\"text_color\":\"#E0E0E0\",\"text_font\":\"Josefin Sans\",\"text_font_size\":\"2.1em\"},\"id\":\"2892\",\"type\":\"Title\"},{\"attributes\":{\"fill_alpha\":{\"value\":0.5},\"fill_color\":{\"value\":\"midnightblue\"},\"line_color\":{\"value\":\"white\"}},\"id\":\"2946\",\"type\":\"Circle\"},{\"attributes\":{\"children\":[{\"id\":\"2891\"}],\"margin\":[0,0,0,0],\"name\":\"Row00198\"},\"id\":\"2969\",\"type\":\"Row\"},{\"attributes\":{},\"id\":\"2894\",\"type\":\"DataRange1d\"},{\"attributes\":{\"margin\":[5,5,5,5],\"name\":\"HSpacer00205\",\"sizing_mode\":\"stretch_width\"},\"id\":\"2997\",\"type\":\"Spacer\"},{\"attributes\":{\"fill_alpha\":{\"value\":0.25},\"fill_color\":{\"value\":\"midnightblue\"},\"hatch_alpha\":{\"value\":0.25},\"line_alpha\":{\"value\":0.25},\"line_color\":{\"value\":\"white\"},\"size\":{\"value\":10},\"x\":{\"field\":\"x\"},\"y\":{\"field\":\"y\"}},\"id\":\"2925\",\"type\":\"Circle\"},{\"attributes\":{},\"id\":\"2900\",\"type\":\"LinearScale\"},{\"attributes\":{},\"id\":\"2898\",\"type\":\"LinearScale\"}],\"root_ids\":[\"2955\",\"3039\"]},\"title\":\"Bokeh Application\",\"version\":\"2.4.3\"}};\n",
       "    var render_items = [{\"docid\":\"429ba30b-8e8d-4bc6-8694-58e747df160d\",\"root_ids\":[\"2955\"],\"roots\":{\"2955\":\"008f5fef-9de4-4a88-84ca-a036d134952b\"}}];\n",
       "    root.Bokeh.embed.embed_items_notebook(docs_json, render_items);\n",
       "    for (const render_item of render_items) {\n",
       "      for (const root_id of render_item.root_ids) {\n",
       "\tconst id_el = document.getElementById(root_id)\n",
       "\tif (id_el.children.length && (id_el.children[0].className === 'bk-root')) {\n",
       "\t  const root_el = id_el.children[0]\n",
       "\t  root_el.id = root_el.id + '-rendered'\n",
       "\t}\n",
       "      }\n",
       "    }\n",
       "  }\n",
       "  if (root.Bokeh !== undefined && root.Bokeh.Panel !== undefined) {\n",
       "    embed_document(root);\n",
       "  } else {\n",
       "    var attempts = 0;\n",
       "    var timer = setInterval(function(root) {\n",
       "      if (root.Bokeh !== undefined && root.Bokeh.Panel !== undefined) {\n",
       "        clearInterval(timer);\n",
       "        embed_document(root);\n",
       "      } else if (document.readyState == \"complete\") {\n",
       "        attempts++;\n",
       "        if (attempts > 200) {\n",
       "          clearInterval(timer);\n",
       "          console.log(\"Bokeh: ERROR: Unable to run BokehJS code because BokehJS library is missing\");\n",
       "        }\n",
       "      }\n",
       "    }, 25, root)\n",
       "  }\n",
       "})(window);</script>"
      ],
      "text/plain": [
       "Row\n",
       "    [0] HSpacer()\n",
       "    [1] Column\n",
       "        [0] Row\n",
       "            [0] Param(RegressionPolynomialSolver, name='Problem parameters', widgets={})\n",
       "            [1] ParamMethod(method, _pane=Bokeh)\n",
       "        [1] Ace(height=150, language='python', sizing_mode='stretch_both', theme='chaos', value='def polynomial(\\n        ...)\n",
       "    [2] HSpacer()"
      ]
     },
     "execution_count": 15,
     "metadata": {
      "application/vnd.holoviews_exec.v0+json": {
       "id": "2955"
      }
     },
     "output_type": "execute_result"
    }
   ],
   "source": [
    "def solve(x, y, degree):\n",
    "    X = x[:, np.newaxis]\n",
    "    # Create our polynomial model for regression\n",
    "    model = make_pipeline(PolynomialFeatures(degree), LinearRegression())\n",
    "    # Fit the parameters of this model\n",
    "    model.fit(X, y)\n",
    "    # Predict the values\n",
    "    x_predict = np.linspace(np.min(x), np.max(x), 200)[:, np.newaxis]\n",
    "    y_model = model.predict(x_predict)\n",
    "    return x_predict[:, 0], y_model #np.array(jnp.zeros(y_model.shape))\n",
    "\n",
    "explorer.solve = solve\n",
    "explorer.render()"
   ]
  },
  {
   "cell_type": "markdown",
   "metadata": {},
   "source": [
    "<a id=\"linear\"></a>\n",
    "# Simple linear regression \n",
    "\n",
    "As discussed previously, regression allows to model the relationships that exist between inputs $\\mathbf{x}\\in\\mathbb{R}^{n}$ and a continuous output $y\\in\\mathbb{R}$. In the case of **linear** regression, we assume that the data that we observe comes from a linear relationship in the input, so that\n",
    "$$y = w_0 + w_1x_1 + w_2x_2 + ... + w_nx_n + \\epsilon$$\n",
    "with $\\epsilon$ exhibiting the *observation noise* (also called *residual error*) that is always present in measurements.\n",
    "\n",
    "To understand how we could learn a model approximating this relationship, we start with the case of *simple* linear regression, where $\\mathbf{x}\\in\\mathbb{R}$. This implies that our model will follow\n",
    "$$\\bar{y} = w_0 + w_1 x$$\n",
    "\n",
    "We will measure the errors made by our model by using the Mean Squared Error (MSE) loss, defined as \n",
    "$$\\mathcal{L}_{MSE}\\left( \\bar{\\mathbf{y}},\\theta \\right) = \\sum_{i=1}^{n} \\left| y_{i} - \\bar{y}_{i} \\right|^{2} = \\sum_{i=1}^{n} \\left| y_{i} - (w_{0} + w_{1} x_{i}) \\right|^{2}$$\n",
    "\n",
    "Then our goal is to find the most adequate set of parameters $\\theta = \\{w_{0}, w_{1}\\}$, which are those that minimize the MSE loss defined previously. Therefore, we aim to obtain\n",
    "$$\\theta^{*}= \\underset{\\theta}{\\text{argmin }} \\mathcal{L}\\left( \\bar{\\mathbf{y}}, \\mathbf{y} \\mid f_{\\theta}, \\theta \\right)$$\n",
    "\n",
    "To do so, we will implement the **gradient descent** algorithm discussed in the course.\n",
    "\n",
    "## Manual implementation - `NumPy`\n",
    "\n",
    "We start by performing a *full manual implementation*, in the sense that we need to manually derive the gradient in order to apply the gradient descent updates. To do so, we will rely on [NumPy](https://numpy.org/), which is a fundamental library for numerical computing offering support for N-dimensional arrays and scientific computing tasks, such as linear algebra, statistical analysis, and matrix manipulation. We strongly encourage you to learn NumPy through the set of [tutorials](https://numpy.org/learn/). For the sake of this introductory tutorial, we will provide the explanation for all of the functions that we will use in this first exercise. After that exercise, we will assume for the rest of the course that knowledge of Numpy should be found online. \n",
    "\n",
    "We start by import libraries (`NumPy`) and set a random seed to ensure that the random number generator produces always a reproducible series of random numbers.\n",
    "\n",
    "**Used functions**\n",
    "- `np.random.seed`: sets the seed for the NumPy random number generator. [Documentation](https://numpy.org/doc/stable/reference/random/generated/numpy.random.seed.html)"
   ]
  },
  {
   "cell_type": "code",
   "execution_count": 16,
   "metadata": {},
   "outputs": [],
   "source": [
    "import numpy as np\n",
    "np.random.seed(42)"
   ]
  },
  {
   "cell_type": "markdown",
   "metadata": {},
   "source": [
    "### Generate a synthetic dataset.\n",
    "\n",
    "For the sake of this exercise, we will generate the data ourselves, so that we know the true values that we are looking for in advance. Hence, we define a linear relationship following\n",
    "$$y = w^{t}_0 + w^{t}_1 x + \\epsilon$$\n",
    "\n",
    "**Used functions**\n",
    "- `np.random.rand`: generates an array of random numbers uniformly distributed over [0, 1). [Documentation](https://numpy.org/doc/stable/reference/random/generated/numpy.random.rand.html)\n",
    "- `np.random.randn`: generates an array of random numbers from the standard normal distribution (mean 0, variance 1). [Documentation](https://numpy.org/doc/stable/reference/random/generated/numpy.random.randn.html)\n",
    "- `np.ones`: generates an array of ones with a specified shape. [Documentation](https://numpy.org/doc/stable/reference/generated/numpy.ones.html)\n",
    "- `np.c_`: concatenates arrays along the second axis. [Documentation](https://numpy.org/doc/stable/reference/generated/numpy.c_.html)"
   ]
  },
  {
   "cell_type": "code",
   "execution_count": 17,
   "metadata": {},
   "outputs": [],
   "source": [
    "true_w0 = 2\n",
    "true_w1 = 3\n",
    "x = np.random.rand(100)\n",
    "y = true_w0 + true_w1 * x + np.random.randn(100)"
   ]
  },
  {
   "cell_type": "markdown",
   "metadata": {},
   "source": [
    "### Computing the MSE loss\n",
    "\n",
    "We will measure the errors made by our model by using the Mean Squared Error (MSE) loss, defined as \n",
    "$$\\mathcal{L}_{MSE}\\left( \\bar{\\mathbf{y}},\\theta \\right) = \\sum_{i=1}^{n} \\left| y_{i} - \\bar{y}_{i} \\right|^{2} = \\sum_{i=1}^{n} \\left| y_{i} - (w_{0} + w_{1} x_{i}) \\right|^{2}$$\n",
    "\n",
    "This will allow us to evaluate the performances of our model, but is also the basis for the following gradient descent algorithm.\n",
    "\n",
    "**Used functions**\n",
    "- `np.sum`: computes the sum of the provided array (optionally across a provided `axis`). [Documentation](https://numpy.org/doc/stable/reference/generated/numpy.mean.html)"
   ]
  },
  {
   "cell_type": "code",
   "execution_count": 18,
   "metadata": {},
   "outputs": [],
   "source": [
    "def mse_loss(y, y_bar):\n",
    "    return np.sum((y - y_bar) ** 2)"
   ]
  },
  {
   "cell_type": "markdown",
   "metadata": {},
   "source": [
    "### Implement the gradient descent algorithm.\n",
    "\n",
    "As seen in the course Initialize the weight $w_1$ and bias $w_0$ to small random values\n",
    "1. Evaluate the predictions made by our model \n",
    "$$\\hat{y} = w_{1}x + w_0$$\n",
    "2. Compute the mean squared error (MSE) loss between the predicted values and the ground truth labels: \n",
    "$$\\mathcal{L}_{MSE} = \\frac{1}{n} \\sum_{i=1}^n (\\bar{y_i} - y_i)^2$$\n",
    "3. Compute the gradients of the loss with respect to the weight and bias (see derivation in the course)\n",
    "$$\\frac{\\partial \\mathcal{L}}{\\partial w_1} = \\sum_{i} 2 * (\\bar{y}_{i} - y_{i})*x_{i}$$\n",
    "$$\\frac{\\partial \\mathcal{L}}{\\partial w_0} = \\sum_{i} 2 * (\\bar{y}_{i} - y_{i})$$\n",
    "4. Update the weights and bias using the gradients and a learning rate $\\eta$: \n",
    "$$w_1 \\leftarrow w_1 - \\eta \\frac{\\partial \\mathcal{L}}{\\partial w_1}$$ \n",
    "$$w_0 \\leftarrow w_0 - \\eta \\frac{\\partial \\mathcal{L}}{\\partial w_0}$$"
   ]
  },
  {
   "cell_type": "code",
   "execution_count": 19,
   "metadata": {},
   "outputs": [],
   "source": [
    "# Parameters\n",
    "n_iter = 1000\n",
    "lr = 0.001\n",
    "def gradient_descent(x, y, n_iter, lr):\n",
    "    # Initialize the parameters\n",
    "    w_1 = np.random.randn()\n",
    "    w_0 = np.random.randn()\n",
    "    # Perform gradient descent\n",
    "    for i in range(n_iter):\n",
    "        # 1. Calculate the predictions\n",
    "        y_bar = w_1 * x + w_0\n",
    "        # 2. Compute the loss\n",
    "        loss = mse_loss(y, y_bar)\n",
    "        # 3. Calculate the gradients\n",
    "        dw_1 = 2 * np.sum((y_bar - y) * x)\n",
    "        dw_0 = 2 * np.sum((y_bar - y))\n",
    "        # 4. Update the parameters\n",
    "        w_1 -= lr * dw_1\n",
    "        w_0 -= lr * dw_0\n",
    "    return w_1, w_0\n",
    "w_1, w_0 = gradient_descent(x, y, n_iter, lr)"
   ]
  },
  {
   "cell_type": "markdown",
   "metadata": {},
   "source": [
    "### Visualize the results.\n",
    "\n",
    "We can see how well our model fits to the observed data by plotting it against the observed samples."
   ]
  },
  {
   "cell_type": "code",
   "execution_count": 20,
   "metadata": {},
   "outputs": [
    {
     "data": {},
     "metadata": {},
     "output_type": "display_data"
    },
    {
     "data": {
      "application/vnd.holoviews_exec.v0+json": "",
      "text/html": [
       "<div id='3183'>\n",
       "  <div class=\"bk-root\" id=\"d8c45279-5efe-41f2-9ab5-214a87a44656\" data-root-id=\"3183\"></div>\n",
       "</div>\n",
       "<script type=\"application/javascript\">(function(root) {\n",
       "  function embed_document(root) {\n",
       "    var docs_json = {\"27749377-c95a-4303-af60-e4d15afb608c\":{\"defs\":[{\"extends\":null,\"module\":null,\"name\":\"ReactiveHTML1\",\"overrides\":[],\"properties\":[]},{\"extends\":null,\"module\":null,\"name\":\"FlexBox1\",\"overrides\":[],\"properties\":[{\"default\":\"flex-start\",\"kind\":null,\"name\":\"align_content\"},{\"default\":\"flex-start\",\"kind\":null,\"name\":\"align_items\"},{\"default\":\"row\",\"kind\":null,\"name\":\"flex_direction\"},{\"default\":\"wrap\",\"kind\":null,\"name\":\"flex_wrap\"},{\"default\":\"flex-start\",\"kind\":null,\"name\":\"justify_content\"}]},{\"extends\":null,\"module\":null,\"name\":\"GridStack1\",\"overrides\":[],\"properties\":[{\"default\":\"warn\",\"kind\":null,\"name\":\"mode\"},{\"default\":null,\"kind\":null,\"name\":\"ncols\"},{\"default\":null,\"kind\":null,\"name\":\"nrows\"},{\"default\":true,\"kind\":null,\"name\":\"allow_resize\"},{\"default\":true,\"kind\":null,\"name\":\"allow_drag\"},{\"default\":[],\"kind\":null,\"name\":\"state\"}]},{\"extends\":null,\"module\":null,\"name\":\"click1\",\"overrides\":[],\"properties\":[{\"default\":\"\",\"kind\":null,\"name\":\"terminal_output\"},{\"default\":\"\",\"kind\":null,\"name\":\"debug_name\"},{\"default\":0,\"kind\":null,\"name\":\"clears\"}]},{\"extends\":null,\"module\":null,\"name\":\"NotificationAreaBase1\",\"overrides\":[],\"properties\":[{\"default\":\"bottom-right\",\"kind\":null,\"name\":\"position\"},{\"default\":0,\"kind\":null,\"name\":\"_clear\"}]},{\"extends\":null,\"module\":null,\"name\":\"NotificationArea1\",\"overrides\":[],\"properties\":[{\"default\":[],\"kind\":null,\"name\":\"notifications\"},{\"default\":\"bottom-right\",\"kind\":null,\"name\":\"position\"},{\"default\":0,\"kind\":null,\"name\":\"_clear\"},{\"default\":[{\"background\":\"#ffc107\",\"icon\":{\"className\":\"fas fa-exclamation-triangle\",\"color\":\"white\",\"tagName\":\"i\"},\"type\":\"warning\"},{\"background\":\"#007bff\",\"icon\":{\"className\":\"fas fa-info-circle\",\"color\":\"white\",\"tagName\":\"i\"},\"type\":\"info\"}],\"kind\":null,\"name\":\"types\"}]},{\"extends\":null,\"module\":null,\"name\":\"Notification\",\"overrides\":[],\"properties\":[{\"default\":null,\"kind\":null,\"name\":\"background\"},{\"default\":3000,\"kind\":null,\"name\":\"duration\"},{\"default\":null,\"kind\":null,\"name\":\"icon\"},{\"default\":\"\",\"kind\":null,\"name\":\"message\"},{\"default\":null,\"kind\":null,\"name\":\"notification_type\"},{\"default\":false,\"kind\":null,\"name\":\"_destroyed\"}]},{\"extends\":null,\"module\":null,\"name\":\"TemplateActions1\",\"overrides\":[],\"properties\":[{\"default\":0,\"kind\":null,\"name\":\"open_modal\"},{\"default\":0,\"kind\":null,\"name\":\"close_modal\"}]},{\"extends\":null,\"module\":null,\"name\":\"MaterialTemplateActions1\",\"overrides\":[],\"properties\":[{\"default\":0,\"kind\":null,\"name\":\"open_modal\"},{\"default\":0,\"kind\":null,\"name\":\"close_modal\"}]}],\"roots\":{\"references\":[{\"attributes\":{\"overlay\":{\"id\":\"3130\"}},\"id\":\"3126\",\"type\":\"BoxZoomTool\"},{\"attributes\":{\"margin\":[5,5,5,5],\"name\":\"HSpacer00209\",\"sizing_mode\":\"stretch_width\"},\"id\":\"3184\",\"type\":\"Spacer\"},{\"attributes\":{\"background_fill_alpha\":0.25,\"background_fill_color\":\"#505050\",\"border_line_alpha\":0.25,\"coordinates\":null,\"group\":null,\"items\":[{\"id\":\"3156\"},{\"id\":\"3182\"}],\"label_standoff\":8,\"label_text_color\":\"#E0E0E0\",\"label_text_font\":\"Josefin Sans\",\"label_text_font_size\":\"1.15em\",\"spacing\":8},\"id\":\"3155\",\"type\":\"Legend\"},{\"attributes\":{},\"id\":\"3124\",\"type\":\"PanTool\"},{\"attributes\":{},\"id\":\"3151\",\"type\":\"AllLabels\"},{\"attributes\":{\"bottom_units\":\"screen\",\"coordinates\":null,\"fill_alpha\":0.5,\"fill_color\":\"lightgrey\",\"group\":null,\"left_units\":\"screen\",\"level\":\"overlay\",\"line_alpha\":1.0,\"line_color\":\"black\",\"line_dash\":[4,4],\"line_width\":2,\"right_units\":\"screen\",\"syncable\":false,\"top_units\":\"screen\"},\"id\":\"3181\",\"type\":\"BoxAnnotation\"},{\"attributes\":{},\"id\":\"3152\",\"type\":\"UnionRenderers\"},{\"attributes\":{\"client_comm_id\":\"cb3e7d78680441029c6886ad0549c413\",\"comm_id\":\"90835fc587c04af28b197f83ebc22770\",\"plot_id\":\"3183\"},\"id\":\"3251\",\"type\":\"panel.models.comm_manager.CommManager\"},{\"attributes\":{},\"id\":\"3178\",\"type\":\"UnionRenderers\"},{\"attributes\":{\"mode\":\"append\",\"overlay\":{\"id\":\"3181\"},\"renderers\":[{\"id\":\"3143\"}]},\"id\":\"3161\",\"type\":\"BoxSelectTool\"},{\"attributes\":{},\"id\":\"3108\",\"type\":\"DataRange1d\"},{\"attributes\":{\"tools\":[{\"id\":\"3124\"},{\"id\":\"3125\"},{\"id\":\"3126\"},{\"id\":\"3127\"},{\"id\":\"3128\"},{\"id\":\"3129\"},{\"id\":\"3157\"},{\"id\":\"3161\"}]},\"id\":\"3131\",\"type\":\"Toolbar\"},{\"attributes\":{\"background_fill_alpha\":0.9,\"background_fill_color\":\"#0f0f0f\",\"below\":[{\"id\":\"3116\"}],\"border_fill_alpha\":0.8,\"border_fill_color\":\"#111111\",\"center\":[{\"id\":\"3119\"},{\"id\":\"3123\"},{\"id\":\"3155\"}],\"height\":450,\"left\":[{\"id\":\"3120\"}],\"outline_line_alpha\":0.25,\"outline_line_color\":\"#E0E0E0\",\"outline_line_width\":3,\"renderers\":[{\"id\":\"3143\"},{\"id\":\"3167\"}],\"title\":{\"id\":\"3106\"},\"toolbar\":{\"id\":\"3131\"},\"toolbar_location\":null,\"x_range\":{\"id\":\"3108\"},\"x_scale\":{\"id\":\"3112\"},\"y_range\":{\"id\":\"3110\"},\"y_scale\":{\"id\":\"3114\"}},\"id\":\"3105\",\"subtype\":\"Figure\",\"type\":\"Plot\"},{\"attributes\":{\"data\":{\"x\":{\"__ndarray__\":\"7FFfHnf41z9U1rtoQGzuP1FnHo9+bOc/sCxj1jUo4z+EISI3a/jDP0x/meGg98M/cFVknSK9rT+1t1UJt7frP61LkoxVPOM/goKa0oeo5j+AfjgHGhSVP6VT42KACe8/9hPBv16j6j+YMAOQ7S3LPzgZ4F8KRsc/SDThicx5xz9oquR0tHjTP2M8BwDOyuA/WjsvuPyk2z8OvTKMf6PSPyd1mYVMlOM/fCS/UO/awT9UQMp3f7LSPzi33PF4ctc/3I+5KEAw3T8uOnlWKSDpP3SQHhbpjsk/E9Tux5t04D8X991lD/XiP3BDCTdZyKc/iqK45gFx4z+0PjUHvNPFP6CqbKA4p7A/idDEM0Vd7j+gzkAmdebuP5+qih1k3uk/6rIgwMp+0z9we2MnCgG5P2HP9qg85eU/3FJ3XXUr3D+wF4XT5T2/Pxhiqn76sN8/AGgYS1+boT8xcpAZJxntPzA4denZj9A/dn0F72Ez5T8euGYDE/PTP6ju1LBlpOA/PFNFjqZ+4T9cQoCQT6nHP+Z/XlfWBu8/WIzMWePN6D9DopQVYBDuPw/mtPdsouw//bnoIv8h4z+0YE5l/n/tP7gTQdJxp7Y/TFZVaPcVyT+g14P9ByinP/aawU420tQ/9oL6tRbg2D8aSlFUyF3RP0zVWIYEheo/xte45wvV1j/ENNu81PrRP4efGi3EXeE/SIm9FM4Jwj+8O6kAmavpP+gXgEDAFbM/KJCx6ZOU7z/SW5SpOrboP6ggsvSDb8k/AHg1B1yedj9XncuQQhjqPwZq2EqTnuY/xiMp1wZU5z/FgGwmP67oP7hBpB2X9LI/3mc1PRrx1j+AWUc9mKm9P4NwZhOLnus/zDzM6Q7y4z9gZsPobi3VPzi+3StcRbA/cMlZZSLn0z8Yz1O1zc/UPyp9XQ7vWOc/q1AZ7d5m5D+Ytj76C2TsP/Y7EPPEON4/8EMYf7qdvj+qSWW75tLmPxAN4+JZWOg/B6bxmPv14T/GNgZdw6voP9jOUthYmt8/A7jXMjq64D+6GuMA1VzbP6AtPLh4B5o/0Ht0xsWeuz8=\",\"dtype\":\"float64\",\"order\":\"little\",\"shape\":[100]},\"y\":{\"__ndarray__\":\"knU51wRVCUA9yXelP4USQKuH+K1QTBBA53SC4vfiDUCuLybJL+QEQHNij6kP5ARAEkaV87DmAkCmK/FEWakRQET1KYO/7w1AjiFaUxcOEECmQeJBmyMCQOJbAQ4utxJA7ixf9plREUCA/C/xLwkGQPia1+dwagVAna5ajqhyBUBmcx1wTecHQFRCcWeAYgxAPIpGQKl/CkD69at1mqMHQDynn1ScJw5AbpTi6zeOBECbYR++XagHQKOu0O54KglATr4aHiv9CkDmVxnZptYQQJVZDCJMxwVAwnQnHMMrDEDAAkstfMINQON89L0rqgJAhO401jIRDkCuVL9Upi8FQIKSFvrwCgNAELcn3H2AEkA6PRZvDawSQEhgbRUOExFA5dJ+PTzpB0DzMclOpbQDQE+J+OYooA9ASf8SDFyqCkCyBeRYaDMEQHLqNBueyAtA77CZmGtrAkDlW+g9kxkSQEjj2FnK+gZAumZ8UjYvD0Bur96AKA4IQA7jOFUcSgxAZS4kwbbUDEBLzKSbM3oFQARtdnxVthJA2HGxEoe8EECYppxHE2gSQLzLVz/g8xFAFn4qswXfDUBbN6TmOjoSQC7Ba8/jhANAnnmfhxi0BUBDaxDGzqMCQD4EwsICVQhAYHMr3ZCeCUCSEIfvLTwHQJ1ubrL2RxFAft5GN3z4CEC6/S34C24HQCiPxZvUvwxAm1oL5aiVBEBqnIM67QIRQPoU9edbPANAs+LCLVfjEkBaCFPnA7UQQFmsCiBQwgVA45MFCT/VAUDJtewWbiURQCuCZxjuChBAbJ+wxYtEEECvi+IHe7IQQOJUYgW6OQNAyjU/z2QBCUAAc8gtUBMEQBQvSCFboRFA470KNCdjDkC91tve+XEIQAtu90IsAwNANmLv8F0KCEDogRz5PlQIQCsi+KcaRhBAf/9J8FWtDkC+woGkEeARQJwa2hspUQtAzqsza7EmBEB10HmGixsQQG5NudE0lxBAZAOWHn8gDUBzlowmsbEQQKp3g3VuwQtAD3rGWflXDECLis31v2gKQDIRhBHCPAJAu39Ffc/pA0A=\",\"dtype\":\"float64\",\"order\":\"little\",\"shape\":[100]}},\"selected\":{\"id\":\"3179\"},\"selection_policy\":{\"id\":\"3178\"}},\"id\":\"3163\",\"type\":\"ColumnDataSource\"},{\"attributes\":{},\"id\":\"3125\",\"type\":\"WheelZoomTool\"},{\"attributes\":{\"line_alpha\":0.1,\"line_color\":\"red\",\"line_width\":6,\"x\":{\"field\":\"x\"},\"y\":{\"field\":\"y\"}},\"id\":\"3165\",\"type\":\"Line\"},{\"attributes\":{\"fill_alpha\":{\"value\":0.25},\"fill_color\":{\"value\":\"midnightblue\"},\"hatch_alpha\":{\"value\":0.25},\"line_alpha\":{\"value\":0.25},\"line_color\":{\"value\":\"white\"},\"size\":{\"value\":10},\"x\":{\"field\":\"x\"},\"y\":{\"field\":\"y\"}},\"id\":\"3139\",\"type\":\"Circle\"},{\"attributes\":{\"line_alpha\":0.6,\"line_color\":\"red\",\"line_width\":6,\"x\":{\"field\":\"x\"},\"y\":{\"field\":\"y\"}},\"id\":\"3164\",\"type\":\"Line\"},{\"attributes\":{},\"id\":\"3150\",\"type\":\"BasicTickFormatter\"},{\"attributes\":{\"fill_alpha\":{\"value\":0.5},\"fill_color\":{\"value\":\"red\"},\"hatch_alpha\":{\"value\":0.5},\"line_alpha\":{\"value\":0.5},\"line_color\":{\"value\":\"white\"},\"size\":{\"value\":10},\"x\":{\"field\":\"x\"},\"y\":{\"field\":\"y\"}},\"id\":\"3141\",\"type\":\"Circle\"},{\"attributes\":{},\"id\":\"3110\",\"type\":\"DataRange1d\"},{\"attributes\":{},\"id\":\"3147\",\"type\":\"BasicTickFormatter\"},{\"attributes\":{},\"id\":\"3179\",\"type\":\"Selection\"},{\"attributes\":{},\"id\":\"3129\",\"type\":\"HelpTool\"},{\"attributes\":{\"coordinates\":null,\"data_source\":{\"id\":\"3163\"},\"glyph\":{\"id\":\"3164\"},\"group\":null,\"hover_glyph\":null,\"muted_glyph\":{\"id\":\"3166\"},\"nonselection_glyph\":{\"id\":\"3165\"},\"view\":{\"id\":\"3168\"}},\"id\":\"3167\",\"type\":\"GlyphRenderer\"},{\"attributes\":{},\"id\":\"3127\",\"type\":\"SaveTool\"},{\"attributes\":{},\"id\":\"3112\",\"type\":\"LinearScale\"},{\"attributes\":{},\"id\":\"3117\",\"type\":\"BasicTicker\"},{\"attributes\":{},\"id\":\"3128\",\"type\":\"ResetTool\"},{\"attributes\":{},\"id\":\"3148\",\"type\":\"AllLabels\"},{\"attributes\":{\"coordinates\":null,\"group\":null,\"text\":\"Simple linear regression\",\"text_color\":\"#E0E0E0\",\"text_font\":\"Josefin Sans\",\"text_font_size\":\"2.1em\"},\"id\":\"3106\",\"type\":\"Title\"},{\"attributes\":{\"data\":{\"x\":{\"__ndarray__\":\"7FFfHnf41z9U1rtoQGzuP1FnHo9+bOc/sCxj1jUo4z+EISI3a/jDP0x/meGg98M/cFVknSK9rT+1t1UJt7frP61LkoxVPOM/goKa0oeo5j+AfjgHGhSVP6VT42KACe8/9hPBv16j6j+YMAOQ7S3LPzgZ4F8KRsc/SDThicx5xz9oquR0tHjTP2M8BwDOyuA/WjsvuPyk2z8OvTKMf6PSPyd1mYVMlOM/fCS/UO/awT9UQMp3f7LSPzi33PF4ctc/3I+5KEAw3T8uOnlWKSDpP3SQHhbpjsk/E9Tux5t04D8X991lD/XiP3BDCTdZyKc/iqK45gFx4z+0PjUHvNPFP6CqbKA4p7A/idDEM0Vd7j+gzkAmdebuP5+qih1k3uk/6rIgwMp+0z9we2MnCgG5P2HP9qg85eU/3FJ3XXUr3D+wF4XT5T2/Pxhiqn76sN8/AGgYS1+boT8xcpAZJxntPzA4denZj9A/dn0F72Ez5T8euGYDE/PTP6ju1LBlpOA/PFNFjqZ+4T9cQoCQT6nHP+Z/XlfWBu8/WIzMWePN6D9DopQVYBDuPw/mtPdsouw//bnoIv8h4z+0YE5l/n/tP7gTQdJxp7Y/TFZVaPcVyT+g14P9ByinP/aawU420tQ/9oL6tRbg2D8aSlFUyF3RP0zVWIYEheo/xte45wvV1j/ENNu81PrRP4efGi3EXeE/SIm9FM4Jwj+8O6kAmavpP+gXgEDAFbM/KJCx6ZOU7z/SW5SpOrboP6ggsvSDb8k/AHg1B1yedj9XncuQQhjqPwZq2EqTnuY/xiMp1wZU5z/FgGwmP67oP7hBpB2X9LI/3mc1PRrx1j+AWUc9mKm9P4NwZhOLnus/zDzM6Q7y4z9gZsPobi3VPzi+3StcRbA/cMlZZSLn0z8Yz1O1zc/UPyp9XQ7vWOc/q1AZ7d5m5D+Ytj76C2TsP/Y7EPPEON4/8EMYf7qdvj+qSWW75tLmPxAN4+JZWOg/B6bxmPv14T/GNgZdw6voP9jOUthYmt8/A7jXMjq64D+6GuMA1VzbP6AtPLh4B5o/0Ht0xsWeuz8=\",\"dtype\":\"float64\",\"order\":\"little\",\"shape\":[100]},\"y\":{\"__ndarray__\":\"KRweZ3KvCUCEYagraTYSQOeAJP+lJhFAJqaosTvv/D99f6XEsPwBQBjZSQDMmQZAnKVJvJc3DUBePeg1L1IQQC8c8qp09QdAOgSOq8z6DECbFJ30NtEHQLZLl0Y09BRAO5jhJJS9D0AdMLt/yDMJQBQGF4ryIwVA42i4S58mDEDJraOoda8BQPc6JysN+QlAnyGgK9U6B0C6Ga8CEZD2P/E+gNnWhhBA+oanBLFvBUA9PHS5aA0HQM1/oyJ+6gZA4AX+U9Q+/z/U+la1o3oPQJX0YpjqDAJArxKmfWTsBUAVIp9ie+0MQK/ykzLjWARAe72kB9XVFkA7vr9OPH0FQHP/U+MjnwNA3qiTZr4WE0CC4Z4jM9MHQLY4BBc/mBFAe6/7AebKB0AlrsWdaAYTQBoDE/P44Q5AIOU4qt35DEBwHfeUtqYCQOLbhhDqiAJAjtwwwcj3CUC92jZlaesVQAYWQUb6iQxAmTo2hRygCECSM0WtCVoRQPFA+5NORAFAIDA/hm/oEEDtyzxC5voSQFJid3KCWA9AFd61aKMSDkBN8/8JL6wTQLjKsL1ZuRBAkUmSH73xAUDTbFfFNFYTQAY8nikzQPM/1LCZNwl+CEBwajGQynXzP4BI9i+MGhJA5GTlNu4PA0BRQaMilu8DQLKnrlrsMhVAw0a8JSpu/T8PZ3RK5o8IQIdePTKtvRNAiEVk4dkW6j8S/L8Ial0SQLi6PHRH3gNAksdopE34FkDyYh+VZaMIQDoOs146afQ/UcsgPd1OBECTJ1i2NfkSQPCfsW74exFA0Z114kUiEkAUK7SP/hENQBPaVP6VogNAuG51OKDyCkCI/NjK0CH6Pym5Mr8B0hlAGu24DPpfEUBfBBHtftL8P1gDxtEfxwZA6iVp/Q1V/z/+f0En4BkOQPiQh4bAYxVAiS2lTWW8CEBX7HrDA4AWQCvtUvGpog5AGHHewl1yCUBeG5VsZyUYQBfoYK/aJRBAyGk339VwB0CvKgDIGGMLQI63McYZUwVATJjeJcTtC0Avl0vDff0MQAE5w37W0gJAuDDuyvQ0CUA=\",\"dtype\":\"float64\",\"order\":\"little\",\"shape\":[100]}},\"selected\":{\"id\":\"3153\"},\"selection_policy\":{\"id\":\"3152\"}},\"id\":\"3138\",\"type\":\"ColumnDataSource\"},{\"attributes\":{\"line_alpha\":0.2,\"line_color\":\"red\",\"line_width\":6,\"x\":{\"field\":\"x\"},\"y\":{\"field\":\"y\"}},\"id\":\"3166\",\"type\":\"Line\"},{\"attributes\":{},\"id\":\"3114\",\"type\":\"LinearScale\"},{\"attributes\":{\"coordinates\":null,\"data_source\":{\"id\":\"3138\"},\"glyph\":{\"id\":\"3139\"},\"group\":null,\"hover_glyph\":{\"id\":\"3141\"},\"muted_glyph\":{\"id\":\"3142\"},\"nonselection_glyph\":{\"id\":\"3160\"},\"selection_glyph\":{\"id\":\"3159\"},\"view\":{\"id\":\"3144\"}},\"id\":\"3143\",\"type\":\"GlyphRenderer\"},{\"attributes\":{\"label\":{\"value\":\"Learned model\"},\"renderers\":[{\"id\":\"3167\"}]},\"id\":\"3182\",\"type\":\"LegendItem\"},{\"attributes\":{\"source\":{\"id\":\"3138\"}},\"id\":\"3144\",\"type\":\"CDSView\"},{\"attributes\":{\"axis_label\":\"y\",\"axis_label_standoff\":10,\"axis_label_text_color\":\"#FFFFFF\",\"axis_label_text_font\":\"Josefin Sans\",\"axis_label_text_font_size\":\"1.9em\",\"axis_label_text_font_style\":\"bold\",\"axis_line_alpha\":0.4,\"axis_line_color\":\"#E0E0E0\",\"coordinates\":null,\"formatter\":{\"id\":\"3147\"},\"group\":null,\"major_label_policy\":{\"id\":\"3148\"},\"major_label_text_color\":\"#E0E0E0\",\"major_label_text_font\":\"Josefin Sans\",\"major_label_text_font_size\":\"1.15em\",\"major_tick_line_alpha\":0.4,\"major_tick_line_color\":\"#E0E0E0\",\"minor_tick_line_alpha\":0.4,\"minor_tick_line_color\":\"#E0E0E0\",\"ticker\":{\"id\":\"3121\"}},\"id\":\"3120\",\"type\":\"LinearAxis\"},{\"attributes\":{\"margin\":[5,5,5,5],\"name\":\"HSpacer00210\",\"sizing_mode\":\"stretch_width\"},\"id\":\"3211\",\"type\":\"Spacer\"},{\"attributes\":{\"axis\":{\"id\":\"3116\"},\"coordinates\":null,\"grid_line_alpha\":0.15,\"grid_line_color\":\"#E0E0E0\",\"group\":null,\"ticker\":null},\"id\":\"3119\",\"type\":\"Grid\"},{\"attributes\":{\"bottom_units\":\"screen\",\"coordinates\":null,\"fill_alpha\":0.5,\"fill_color\":\"lightgrey\",\"group\":null,\"left_units\":\"screen\",\"level\":\"overlay\",\"line_alpha\":1.0,\"line_color\":\"black\",\"line_dash\":[4,4],\"line_width\":2,\"right_units\":\"screen\",\"syncable\":false,\"top_units\":\"screen\"},\"id\":\"3130\",\"type\":\"BoxAnnotation\"},{\"attributes\":{\"source\":{\"id\":\"3163\"}},\"id\":\"3168\",\"type\":\"CDSView\"},{\"attributes\":{\"axis\":{\"id\":\"3120\"},\"coordinates\":null,\"dimension\":1,\"grid_line_alpha\":0.15,\"grid_line_color\":\"#E0E0E0\",\"group\":null,\"ticker\":null},\"id\":\"3123\",\"type\":\"Grid\"},{\"attributes\":{\"fill_alpha\":{\"value\":0.8},\"fill_color\":{\"value\":\"red\"},\"line_color\":{\"value\":\"white\"}},\"id\":\"3159\",\"type\":\"Circle\"},{\"attributes\":{\"axis_label\":\"x\",\"axis_label_standoff\":10,\"axis_label_text_color\":\"#FFFFFF\",\"axis_label_text_font\":\"Josefin Sans\",\"axis_label_text_font_size\":\"1.9em\",\"axis_label_text_font_style\":\"bold\",\"axis_line_alpha\":0.4,\"axis_line_color\":\"#E0E0E0\",\"coordinates\":null,\"formatter\":{\"id\":\"3150\"},\"group\":null,\"major_label_policy\":{\"id\":\"3151\"},\"major_label_text_color\":\"#E0E0E0\",\"major_label_text_font\":\"Josefin Sans\",\"major_label_text_font_size\":\"1.15em\",\"major_tick_line_alpha\":0.4,\"major_tick_line_color\":\"#E0E0E0\",\"minor_tick_line_alpha\":0.4,\"minor_tick_line_color\":\"#E0E0E0\",\"ticker\":{\"id\":\"3117\"}},\"id\":\"3116\",\"type\":\"LinearAxis\"},{\"attributes\":{\"fill_alpha\":{\"value\":0.2},\"fill_color\":{\"value\":\"midnightblue\"},\"hatch_alpha\":{\"value\":0.2},\"line_alpha\":{\"value\":0.2},\"line_color\":{\"value\":\"white\"},\"size\":{\"value\":10},\"x\":{\"field\":\"x\"},\"y\":{\"field\":\"y\"}},\"id\":\"3142\",\"type\":\"Circle\"},{\"attributes\":{\"label\":{\"value\":\"Observations\"},\"renderers\":[{\"id\":\"3143\"}]},\"id\":\"3156\",\"type\":\"LegendItem\"},{\"attributes\":{\"callback\":null,\"mode\":\"vline\",\"renderers\":[{\"id\":\"3143\"}],\"tooltips\":null},\"id\":\"3157\",\"type\":\"HoverTool\"},{\"attributes\":{\"fill_alpha\":{\"value\":0.5},\"fill_color\":{\"value\":\"midnightblue\"},\"line_color\":{\"value\":\"white\"}},\"id\":\"3160\",\"type\":\"Circle\"},{\"attributes\":{},\"id\":\"3153\",\"type\":\"Selection\"},{\"attributes\":{\"children\":[{\"id\":\"3184\"},{\"id\":\"3105\"},{\"id\":\"3211\"}],\"margin\":[0,0,0,0],\"name\":\"Row00213\"},\"id\":\"3183\",\"type\":\"Row\"},{\"attributes\":{},\"id\":\"3121\",\"type\":\"BasicTicker\"}],\"root_ids\":[\"3183\",\"3251\"]},\"title\":\"Bokeh Application\",\"version\":\"2.4.3\"}};\n",
       "    var render_items = [{\"docid\":\"27749377-c95a-4303-af60-e4d15afb608c\",\"root_ids\":[\"3183\"],\"roots\":{\"3183\":\"d8c45279-5efe-41f2-9ab5-214a87a44656\"}}];\n",
       "    root.Bokeh.embed.embed_items_notebook(docs_json, render_items);\n",
       "    for (const render_item of render_items) {\n",
       "      for (const root_id of render_item.root_ids) {\n",
       "\tconst id_el = document.getElementById(root_id)\n",
       "\tif (id_el.children.length && (id_el.children[0].className === 'bk-root')) {\n",
       "\t  const root_el = id_el.children[0]\n",
       "\t  root_el.id = root_el.id + '-rendered'\n",
       "\t}\n",
       "      }\n",
       "    }\n",
       "  }\n",
       "  if (root.Bokeh !== undefined && root.Bokeh.Panel !== undefined) {\n",
       "    embed_document(root);\n",
       "  } else {\n",
       "    var attempts = 0;\n",
       "    var timer = setInterval(function(root) {\n",
       "      if (root.Bokeh !== undefined && root.Bokeh.Panel !== undefined) {\n",
       "        clearInterval(timer);\n",
       "        embed_document(root);\n",
       "      } else if (document.readyState == \"complete\") {\n",
       "        attempts++;\n",
       "        if (attempts > 200) {\n",
       "          clearInterval(timer);\n",
       "          console.log(\"Bokeh: ERROR: Unable to run BokehJS code because BokehJS library is missing\");\n",
       "        }\n",
       "      }\n",
       "    }, 25, root)\n",
       "  }\n",
       "})(window);</script>"
      ],
      "text/plain": [
       "Row\n",
       "    [0] HSpacer()\n",
       "    [1] Bokeh(Figure)\n",
       "    [2] HSpacer()"
      ]
     },
     "execution_count": 20,
     "metadata": {
      "application/vnd.holoviews_exec.v0+json": {
       "id": "3183"
      }
     },
     "output_type": "execute_result"
    }
   ],
   "source": [
    "p = scatter(x, y, title=\"Simple linear regression\")\n",
    "p.line(x, w_1 * x + w_0, line_width=6, line_alpha=0.6, color=\"red\", legend_label=r\"Learned model\")\n",
    "plot = (center_plot(p))\n",
    "plot"
   ]
  },
  {
   "cell_type": "markdown",
   "metadata": {},
   "source": [
    "### Observing our solution interactively\n",
    "\n",
    "In the following code, you can observe the behavior of the model by playing interactively with the properties of the original problem. \n",
    "\n",
    "<div class=\"alert alert-success\" markdown=\"1\" style=\"color:white; background-color: #192841; border-color: #779ecb\">\n",
    "\n",
    "> Note that each change in the properties of the original problem requires to run the gradient descent algorithm entirely each time.\n",
    "\n",
    "</div>"
   ]
  },
  {
   "cell_type": "code",
   "execution_count": 21,
   "metadata": {},
   "outputs": [
    {
     "data": {},
     "metadata": {},
     "output_type": "display_data"
    },
    {
     "data": {
      "application/vnd.holoviews_exec.v0+json": "",
      "text/html": [
       "<div id='3395'>\n",
       "  <div class=\"bk-root\" id=\"aebd2471-1d96-48ce-8fb2-5a66d3a57688\" data-root-id=\"3395\"></div>\n",
       "</div>\n",
       "<script type=\"application/javascript\">(function(root) {\n",
       "  function embed_document(root) {\n",
       "    var docs_json = {\"2453543a-0773-4caf-a737-c196b99b074b\":{\"defs\":[{\"extends\":null,\"module\":null,\"name\":\"ReactiveHTML1\",\"overrides\":[],\"properties\":[]},{\"extends\":null,\"module\":null,\"name\":\"FlexBox1\",\"overrides\":[],\"properties\":[{\"default\":\"flex-start\",\"kind\":null,\"name\":\"align_content\"},{\"default\":\"flex-start\",\"kind\":null,\"name\":\"align_items\"},{\"default\":\"row\",\"kind\":null,\"name\":\"flex_direction\"},{\"default\":\"wrap\",\"kind\":null,\"name\":\"flex_wrap\"},{\"default\":\"flex-start\",\"kind\":null,\"name\":\"justify_content\"}]},{\"extends\":null,\"module\":null,\"name\":\"GridStack1\",\"overrides\":[],\"properties\":[{\"default\":\"warn\",\"kind\":null,\"name\":\"mode\"},{\"default\":null,\"kind\":null,\"name\":\"ncols\"},{\"default\":null,\"kind\":null,\"name\":\"nrows\"},{\"default\":true,\"kind\":null,\"name\":\"allow_resize\"},{\"default\":true,\"kind\":null,\"name\":\"allow_drag\"},{\"default\":[],\"kind\":null,\"name\":\"state\"}]},{\"extends\":null,\"module\":null,\"name\":\"click1\",\"overrides\":[],\"properties\":[{\"default\":\"\",\"kind\":null,\"name\":\"terminal_output\"},{\"default\":\"\",\"kind\":null,\"name\":\"debug_name\"},{\"default\":0,\"kind\":null,\"name\":\"clears\"}]},{\"extends\":null,\"module\":null,\"name\":\"NotificationAreaBase1\",\"overrides\":[],\"properties\":[{\"default\":\"bottom-right\",\"kind\":null,\"name\":\"position\"},{\"default\":0,\"kind\":null,\"name\":\"_clear\"}]},{\"extends\":null,\"module\":null,\"name\":\"NotificationArea1\",\"overrides\":[],\"properties\":[{\"default\":[],\"kind\":null,\"name\":\"notifications\"},{\"default\":\"bottom-right\",\"kind\":null,\"name\":\"position\"},{\"default\":0,\"kind\":null,\"name\":\"_clear\"},{\"default\":[{\"background\":\"#ffc107\",\"icon\":{\"className\":\"fas fa-exclamation-triangle\",\"color\":\"white\",\"tagName\":\"i\"},\"type\":\"warning\"},{\"background\":\"#007bff\",\"icon\":{\"className\":\"fas fa-info-circle\",\"color\":\"white\",\"tagName\":\"i\"},\"type\":\"info\"}],\"kind\":null,\"name\":\"types\"}]},{\"extends\":null,\"module\":null,\"name\":\"Notification\",\"overrides\":[],\"properties\":[{\"default\":null,\"kind\":null,\"name\":\"background\"},{\"default\":3000,\"kind\":null,\"name\":\"duration\"},{\"default\":null,\"kind\":null,\"name\":\"icon\"},{\"default\":\"\",\"kind\":null,\"name\":\"message\"},{\"default\":null,\"kind\":null,\"name\":\"notification_type\"},{\"default\":false,\"kind\":null,\"name\":\"_destroyed\"}]},{\"extends\":null,\"module\":null,\"name\":\"TemplateActions1\",\"overrides\":[],\"properties\":[{\"default\":0,\"kind\":null,\"name\":\"open_modal\"},{\"default\":0,\"kind\":null,\"name\":\"close_modal\"}]},{\"extends\":null,\"module\":null,\"name\":\"MaterialTemplateActions1\",\"overrides\":[],\"properties\":[{\"default\":0,\"kind\":null,\"name\":\"open_modal\"},{\"default\":0,\"kind\":null,\"name\":\"close_modal\"}]}],\"roots\":{\"references\":[{\"attributes\":{\"args\":{\"bidirectional\":true,\"properties\":{\"readonly\":\"disabled\"},\"source\":{\"id\":\"3434\"},\"target\":{\"id\":\"3434\"}},\"code\":\"\\n    var value = source['disabled'];\\n    value = value;\\n    value = value;\\n    try {\\n      var property = target.properties['readonly'];\\n      if (property !== undefined) { property.validate(value); }\\n    } catch(err) {\\n      console.log('WARNING: Could not set readonly on target, raised error: ' + err);\\n      return;\\n    }\\n    try {\\n      target['readonly'] = value;\\n    } catch(err) {\\n      console.log(err)\\n    }\\n    \",\"tags\":[[139847023628672,[null,\"readonly\"],[null,\"disabled\"]]]},\"id\":\"3450\",\"type\":\"CustomJS\"},{\"attributes\":{\"children\":[{\"id\":\"3398\"},{\"id\":\"3434\"}],\"margin\":[0,0,0,0],\"name\":\"Column00244\"},\"id\":\"3397\",\"type\":\"Column\"},{\"attributes\":{\"coordinates\":null,\"data_source\":{\"id\":\"3350\"},\"glyph\":{\"id\":\"3351\"},\"group\":null,\"hover_glyph\":{\"id\":\"3353\"},\"muted_glyph\":{\"id\":\"3354\"},\"nonselection_glyph\":{\"id\":\"3372\"},\"selection_glyph\":{\"id\":\"3371\"},\"view\":{\"id\":\"3356\"}},\"id\":\"3355\",\"type\":\"GlyphRenderer\"},{\"attributes\":{\"children\":[{\"id\":\"3400\"},{\"id\":\"3401\"},{\"id\":\"3402\"},{\"id\":\"3403\"},{\"id\":\"3404\"},{\"id\":\"3405\"},{\"id\":\"3406\"}],\"margin\":[5,5,5,5],\"min_width\":300,\"name\":\"Problem parameters\",\"width\":300},\"id\":\"3399\",\"type\":\"Column\"},{\"attributes\":{\"children\":[{\"id\":\"3399\"},{\"id\":\"3407\"}],\"margin\":[0,0,0,0],\"name\":\"Row00241\"},\"id\":\"3398\",\"type\":\"Row\"},{\"attributes\":{\"fill_alpha\":{\"value\":0.25},\"fill_color\":{\"value\":\"midnightblue\"},\"hatch_alpha\":{\"value\":0.25},\"line_alpha\":{\"value\":0.25},\"line_color\":{\"value\":\"white\"},\"size\":{\"value\":10},\"x\":{\"field\":\"x\"},\"y\":{\"field\":\"y\"}},\"id\":\"3351\",\"type\":\"Circle\"},{\"attributes\":{\"margin\":[5,10,5,10],\"name\":\"\",\"text\":\"<b>Problem parameters</b>\"},\"id\":\"3400\",\"type\":\"Div\"},{\"attributes\":{\"background_fill_alpha\":0.25,\"background_fill_color\":\"#505050\",\"border_line_alpha\":0.25,\"coordinates\":null,\"group\":null,\"items\":[{\"id\":\"3368\"},{\"id\":\"3394\"}],\"label_standoff\":8,\"label_text_color\":\"#E0E0E0\",\"label_text_font\":\"Josefin Sans\",\"label_text_font_size\":\"1.15em\",\"spacing\":8},\"id\":\"3367\",\"type\":\"Legend\"},{\"attributes\":{\"labels\":[\"Ground truth\"],\"margin\":[5,10,5,10]},\"id\":\"3403\",\"type\":\"CheckboxGroup\"},{\"attributes\":{\"source\":{\"id\":\"3350\"}},\"id\":\"3356\",\"type\":\"CDSView\"},{\"attributes\":{\"labels\":[\"Error\"],\"margin\":[5,10,5,10]},\"id\":\"3404\",\"type\":\"CheckboxGroup\"},{\"attributes\":{\"end\":1000,\"margin\":[5,10,5,10],\"start\":10,\"title\":\"Number observations\",\"value\":100},\"id\":\"3401\",\"type\":\"Slider\"},{\"attributes\":{\"end\":5.0,\"margin\":[5,10,5,10],\"start\":-5.0,\"step\":0.1,\"title\":\"X 1\",\"value\":1.0},\"id\":\"3405\",\"type\":\"Slider\"},{\"attributes\":{\"end\":5.0,\"margin\":[5,10,5,10],\"start\":0.0,\"step\":0.1,\"title\":\"Noise level\",\"value\":0.1},\"id\":\"3402\",\"type\":\"Slider\"},{\"attributes\":{},\"id\":\"3320\",\"type\":\"DataRange1d\"},{\"attributes\":{},\"id\":\"3390\",\"type\":\"UnionRenderers\"},{\"attributes\":{\"background_fill_alpha\":0.9,\"background_fill_color\":\"#0f0f0f\",\"below\":[{\"id\":\"3328\"}],\"border_fill_alpha\":0.8,\"border_fill_color\":\"#111111\",\"center\":[{\"id\":\"3331\"},{\"id\":\"3335\"},{\"id\":\"3367\"}],\"height\":450,\"left\":[{\"id\":\"3332\"}],\"outline_line_alpha\":0.25,\"outline_line_color\":\"#E0E0E0\",\"outline_line_width\":3,\"renderers\":[{\"id\":\"3355\"},{\"id\":\"3379\"}],\"title\":{\"id\":\"3318\"},\"toolbar\":{\"id\":\"3343\"},\"toolbar_location\":null,\"x_range\":{\"id\":\"3320\"},\"x_scale\":{\"id\":\"3324\"},\"y_range\":{\"id\":\"3322\"},\"y_scale\":{\"id\":\"3326\"}},\"id\":\"3317\",\"subtype\":\"Figure\",\"type\":\"Plot\"},{\"attributes\":{\"code\":\"def linear(\\n        coefficients: jnp.ndarray,\\n        n_observations: int = 100) -> [jnp.ndarray, jnp.ndarray]:\\n    x = jnp.linspace(0, 1, n_observations)\\n    y = coefficients[0] * x + coefficients[1]\\n    return x, \",\"filename\":\"\",\"height\":150,\"js_property_callbacks\":{\"change:disabled\":[{\"id\":\"3450\"}],\"change:readonly\":[{\"id\":\"3449\"}]},\"language\":\"python\",\"margin\":[5,10,5,10],\"sizing_mode\":\"stretch_both\",\"theme\":\"chaos\"},\"id\":\"3434\",\"type\":\"panel.models.ace.AcePlot\"},{\"attributes\":{\"fill_alpha\":{\"value\":0.8},\"fill_color\":{\"value\":\"red\"},\"line_color\":{\"value\":\"white\"}},\"id\":\"3371\",\"type\":\"Circle\"},{\"attributes\":{\"end\":5.0,\"margin\":[5,10,5,10],\"start\":-5.0,\"step\":0.1,\"title\":\"X 0\",\"value\":0.0},\"id\":\"3406\",\"type\":\"Slider\"},{\"attributes\":{},\"id\":\"3391\",\"type\":\"Selection\"},{\"attributes\":{\"label\":{\"value\":\"Observations\"},\"renderers\":[{\"id\":\"3355\"}]},\"id\":\"3368\",\"type\":\"LegendItem\"},{\"attributes\":{\"children\":[{\"id\":\"3317\"}],\"margin\":[0,0,0,0],\"name\":\"Row00238\"},\"id\":\"3407\",\"type\":\"Row\"},{\"attributes\":{\"fill_alpha\":{\"value\":0.2},\"fill_color\":{\"value\":\"midnightblue\"},\"hatch_alpha\":{\"value\":0.2},\"line_alpha\":{\"value\":0.2},\"line_color\":{\"value\":\"white\"},\"size\":{\"value\":10},\"x\":{\"field\":\"x\"},\"y\":{\"field\":\"y\"}},\"id\":\"3354\",\"type\":\"Circle\"},{\"attributes\":{\"mode\":\"append\",\"overlay\":{\"id\":\"3393\"},\"renderers\":[{\"id\":\"3355\"}]},\"id\":\"3373\",\"type\":\"BoxSelectTool\"},{\"attributes\":{\"coordinates\":null,\"group\":null,\"text\":\"Linear regression problem\",\"text_color\":\"#E0E0E0\",\"text_font\":\"Josefin Sans\",\"text_font_size\":\"2.1em\"},\"id\":\"3318\",\"type\":\"Title\"},{\"attributes\":{\"callback\":null,\"mode\":\"vline\",\"renderers\":[{\"id\":\"3355\"}],\"tooltips\":null},\"id\":\"3369\",\"type\":\"HoverTool\"},{\"attributes\":{},\"id\":\"3326\",\"type\":\"LinearScale\"},{\"attributes\":{\"line_alpha\":0.7,\"line_color\":\"red\",\"line_width\":4,\"x\":{\"field\":\"x\"},\"y\":{\"field\":\"y\"}},\"id\":\"3376\",\"type\":\"Line\"},{\"attributes\":{\"axis_label\":\"$$\\\\color{white} x$$\",\"axis_label_standoff\":10,\"axis_label_text_color\":\"#FFFFFF\",\"axis_label_text_font\":\"Josefin Sans\",\"axis_label_text_font_size\":\"1.9em\",\"axis_label_text_font_style\":\"bold\",\"axis_line_alpha\":0.4,\"axis_line_color\":\"#E0E0E0\",\"coordinates\":null,\"formatter\":{\"id\":\"3362\"},\"group\":null,\"major_label_policy\":{\"id\":\"3363\"},\"major_label_text_color\":\"#E0E0E0\",\"major_label_text_font\":\"Josefin Sans\",\"major_label_text_font_size\":\"1.15em\",\"major_tick_line_alpha\":0.4,\"major_tick_line_color\":\"#E0E0E0\",\"minor_tick_line_alpha\":0.4,\"minor_tick_line_color\":\"#E0E0E0\",\"ticker\":{\"id\":\"3329\"}},\"id\":\"3328\",\"type\":\"LinearAxis\"},{\"attributes\":{\"fill_alpha\":{\"value\":0.5},\"fill_color\":{\"value\":\"midnightblue\"},\"line_color\":{\"value\":\"white\"}},\"id\":\"3372\",\"type\":\"Circle\"},{\"attributes\":{},\"id\":\"3329\",\"type\":\"BasicTicker\"},{\"attributes\":{\"margin\":[5,5,5,5],\"name\":\"HSpacer00245\",\"sizing_mode\":\"stretch_width\"},\"id\":\"3435\",\"type\":\"Spacer\"},{\"attributes\":{\"axis_label\":\"$$\\\\color{white} 1.0x^1 + 0.0$$\",\"axis_label_standoff\":10,\"axis_label_text_color\":\"#FFFFFF\",\"axis_label_text_font\":\"Josefin Sans\",\"axis_label_text_font_size\":\"1.9em\",\"axis_label_text_font_style\":\"bold\",\"axis_line_alpha\":0.4,\"axis_line_color\":\"#E0E0E0\",\"coordinates\":null,\"formatter\":{\"id\":\"3359\"},\"group\":null,\"major_label_policy\":{\"id\":\"3360\"},\"major_label_text_color\":\"#E0E0E0\",\"major_label_text_font\":\"Josefin Sans\",\"major_label_text_font_size\":\"1.15em\",\"major_tick_line_alpha\":0.4,\"major_tick_line_color\":\"#E0E0E0\",\"minor_tick_line_alpha\":0.4,\"minor_tick_line_color\":\"#E0E0E0\",\"ticker\":{\"id\":\"3333\"}},\"id\":\"3332\",\"type\":\"LinearAxis\"},{\"attributes\":{},\"id\":\"3341\",\"type\":\"HelpTool\"},{\"attributes\":{},\"id\":\"3322\",\"type\":\"DataRange1d\"},{\"attributes\":{},\"id\":\"3324\",\"type\":\"LinearScale\"},{\"attributes\":{},\"id\":\"3359\",\"type\":\"BasicTickFormatter\"},{\"attributes\":{\"axis\":{\"id\":\"3328\"},\"coordinates\":null,\"grid_line_alpha\":0.15,\"grid_line_color\":\"#E0E0E0\",\"group\":null,\"ticker\":null},\"id\":\"3331\",\"type\":\"Grid\"},{\"attributes\":{},\"id\":\"3360\",\"type\":\"AllLabels\"},{\"attributes\":{\"axis\":{\"id\":\"3332\"},\"coordinates\":null,\"dimension\":1,\"grid_line_alpha\":0.15,\"grid_line_color\":\"#E0E0E0\",\"group\":null,\"ticker\":null},\"id\":\"3335\",\"type\":\"Grid\"},{\"attributes\":{\"bottom_units\":\"screen\",\"coordinates\":null,\"fill_alpha\":0.5,\"fill_color\":\"lightgrey\",\"group\":null,\"left_units\":\"screen\",\"level\":\"overlay\",\"line_alpha\":1.0,\"line_color\":\"black\",\"line_dash\":[4,4],\"line_width\":2,\"right_units\":\"screen\",\"syncable\":false,\"top_units\":\"screen\"},\"id\":\"3393\",\"type\":\"BoxAnnotation\"},{\"attributes\":{},\"id\":\"3333\",\"type\":\"BasicTicker\"},{\"attributes\":{},\"id\":\"3337\",\"type\":\"WheelZoomTool\"},{\"attributes\":{},\"id\":\"3336\",\"type\":\"PanTool\"},{\"attributes\":{\"coordinates\":null,\"data_source\":{\"id\":\"3375\"},\"glyph\":{\"id\":\"3376\"},\"group\":null,\"hover_glyph\":null,\"muted_glyph\":{\"id\":\"3378\"},\"nonselection_glyph\":{\"id\":\"3377\"},\"view\":{\"id\":\"3380\"}},\"id\":\"3379\",\"type\":\"GlyphRenderer\"},{\"attributes\":{\"overlay\":{\"id\":\"3342\"}},\"id\":\"3338\",\"type\":\"BoxZoomTool\"},{\"attributes\":{},\"id\":\"3364\",\"type\":\"UnionRenderers\"},{\"attributes\":{},\"id\":\"3339\",\"type\":\"SaveTool\"},{\"attributes\":{},\"id\":\"3340\",\"type\":\"ResetTool\"},{\"attributes\":{},\"id\":\"3365\",\"type\":\"Selection\"},{\"attributes\":{\"line_alpha\":0.1,\"line_color\":\"red\",\"line_width\":4,\"x\":{\"field\":\"x\"},\"y\":{\"field\":\"y\"}},\"id\":\"3377\",\"type\":\"Line\"},{\"attributes\":{\"bottom_units\":\"screen\",\"coordinates\":null,\"fill_alpha\":0.5,\"fill_color\":\"lightgrey\",\"group\":null,\"left_units\":\"screen\",\"level\":\"overlay\",\"line_alpha\":1.0,\"line_color\":\"black\",\"line_dash\":[4,4],\"line_width\":2,\"right_units\":\"screen\",\"syncable\":false,\"top_units\":\"screen\"},\"id\":\"3342\",\"type\":\"BoxAnnotation\"},{\"attributes\":{\"data\":{\"x\":{\"__ndarray__\":\"AAAAALV+JTy1fqU8ED74PLV+JT1i3k49ED54Pd7OkD21fqU9jC66PWLezj05juM9ED74PfN2Bj7ezhA+yiYbPrV+JT6g1i8+jC46PneGRD5i3k4+TjZZPjmOYz4k5m0+ED54Pv1KgT7zdoY+6aKLPt7OkD7U+pU+yiabPr9SoD61fqU+q6qqPqDWrz6WArU+jC66PoFavz53hsQ+bbLJPmLezj5YCtQ+TjbZPkNi3j45juM+L7roPiTm7T4aEvM+ED74PgVq/T79SgE/+OADP/N2Bj/uDAk/6aILP+Q4Dj/ezhA/2WQTP9T6FT/PkBg/yiYbP8W8HT+/UiA/uugiP7V+JT+wFCg/q6oqP6VALT+g1i8/m2wyP5YCNT+RmDc/jC46P4bEPD+BWj8/fPBBP3eGRD9yHEc/bbJJP2dITD9i3k4/XXRRP1gKVD9ToFY/TjZZP0jMWz9DYl4/PvhgPzmOYz80JGY/L7poPylQaz8k5m0/H3xwPxoScz8VqHU/ED54PwrUej8Fan0/AACAPw==\",\"dtype\":\"float32\",\"order\":\"little\",\"shape\":[100]},\"y\":{\"__ndarray__\":\"UNy+vW3jfD3NFZ69MtBkvW6jfz0roPw9kOwWvHyk0byyUbE93J23Pd11YT2YWMw8MFHSPfPbVz4cv989qqvLPS0beT6Dm28+76MmPoc0TD7qdhg+1VXxPf/HjD5B55M+y699PvrXmT7RFLQ+QaK2PhX9hz5rG5o+gBHDPp5eij4VUcI+ul6YPhCkgD5HLso+CdOnPt1f8D5T+NU+pzLYPhPFtD4eZ7M+qNDYPu8Q1T7YTd8+TKrMPj4i3j589g4/qu/dPjxKBj9JW+4+d88EP5h0Cj9WIA8/wEznPvoDBz8c6w4/deENPxZ5Hj9H/SQ/MtoTP0Z/ND8TWx0/KcIhPyJEFD8yySk/J9USP5X5Kz8T1Ds/sz4gP02FIz8n4D4/j0RAPyWIKj/vBio/PIk5Pz0xRz8zwFk/y3ddP0dDWj8sTjo/5RNWP3sAQD//ekA/IClKP3vwSj9ti2w/P4poPy1QYz9wBX0/zSFiP1q7XT8A1Xc/8bNaP8cohj8gxGM/Wx6IP6Blcz9HQII/f/9pPw==\",\"dtype\":\"float32\",\"order\":\"little\",\"shape\":[100]}},\"selected\":{\"id\":\"3365\"},\"selection_policy\":{\"id\":\"3364\"}},\"id\":\"3350\",\"type\":\"ColumnDataSource\"},{\"attributes\":{\"fill_alpha\":{\"value\":0.5},\"fill_color\":{\"value\":\"red\"},\"hatch_alpha\":{\"value\":0.5},\"line_alpha\":{\"value\":0.5},\"line_color\":{\"value\":\"white\"},\"size\":{\"value\":10},\"x\":{\"field\":\"x\"},\"y\":{\"field\":\"y\"}},\"id\":\"3353\",\"type\":\"Circle\"},{\"attributes\":{},\"id\":\"3363\",\"type\":\"AllLabels\"},{\"attributes\":{},\"id\":\"3362\",\"type\":\"BasicTickFormatter\"},{\"attributes\":{\"tools\":[{\"id\":\"3336\"},{\"id\":\"3337\"},{\"id\":\"3338\"},{\"id\":\"3339\"},{\"id\":\"3340\"},{\"id\":\"3341\"},{\"id\":\"3369\"},{\"id\":\"3373\"}]},\"id\":\"3343\",\"type\":\"Toolbar\"},{\"attributes\":{\"line_alpha\":0.2,\"line_color\":\"red\",\"line_width\":4,\"x\":{\"field\":\"x\"},\"y\":{\"field\":\"y\"}},\"id\":\"3378\",\"type\":\"Line\"},{\"attributes\":{\"args\":{\"bidirectional\":true,\"properties\":{\"readonly\":\"disabled\"},\"source\":{\"id\":\"3434\"},\"target\":{\"id\":\"3434\"}},\"code\":\"\\n    var value = source['readonly'];\\n    value = value;\\n    value = value;\\n    try {\\n      var property = target.properties['disabled'];\\n      if (property !== undefined) { property.validate(value); }\\n    } catch(err) {\\n      console.log('WARNING: Could not set disabled on target, raised error: ' + err);\\n      return;\\n    }\\n    try {\\n      target['disabled'] = value;\\n    } catch(err) {\\n      console.log(err)\\n    }\\n    \",\"tags\":[[139847023628672,[null,\"readonly\"],[null,\"disabled\"]]]},\"id\":\"3449\",\"type\":\"CustomJS\"},{\"attributes\":{\"data\":{\"x\":{\"__ndarray__\":\"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\",\"dtype\":\"float64\",\"order\":\"little\",\"shape\":[200]},\"y\":{\"__ndarray__\":\"KSJsRC/FbEQ0aG1EOgtuRD+ubkRFUW9ESvRvRFCXcERVOnFEW91xRGCAckRmI3NEa8ZzRHFpdER2DHVEfK91RIFSdkSH9XZEjJh3RJI7eESY3nhEnYF5RKMkekSox3pErmp7RLMNfES5sHxEvlN9RMT2fUTJmX5Ezzx/RNTff0RtQYBE8JKARHLkgET1NYFEeIeBRPvYgUR+KoJEAHyCRIPNgkQGH4NEiXCDRAvCg0SOE4REEWWERJS2hEQWCIVEmVmFRByrhUSf/IVEIU6GRKSfhkQn8YZEqkKHRCyUh0Sv5YdEMjeIRLWIiEQ42ohEuiuJRD19iUTAzolEQiCKRMVxikRIw4pEyxSLRE5mi0TQt4tEUwmMRNZajERZrIxE2/2MRF5PjUThoI1EZPKNROZDjkRplY5E7OaORG84j0TyiY9EdNuPRPcskER6fpBE/c+QRH8hkUQCc5FEhcSRRAgWkkSKZ5JEDbmSRJAKk0QTXJNEla2TRBj/k0SbUJREHqKURKDzlEQjRZVEppaVRCnolUSsOZZELouWRLHclkQ0LpdEtn+XRDrRl0S8IphEP3SYRMLFmEREF5lEx2iZREq6mUTNC5pET12aRNKumkRVAJtE2FGbRFqjm0Td9JtEYEacROOXnERm6ZxE6DqdRGuMnUTu3Z1EcC+eRPOAnkR20p5E+SOfRHx1n0T+xp9EgRigRARqoESHu6BECQ2hRIxeoUQPsKFEkgGiRBRTokSXpKJEGvaiRJ1Ho0QgmaNEouqjRCU8pESojaREK9+kRK0wpUQwgqVEs9OlRDYlpkS4dqZEO8imRL4Zp0RBa6dEw7ynREYOqETJX6hETLGoRM4CqURSVKlE1KWpRFf3qUTaSKpEXJqqRN/rqkRiPatE5Y6rRGfgq0TqMaxEbYOsRPDUrERyJq1E9XetRHjJrUT7Gq5EfWyuRAC+rkSDD69EBmGvRIiyr0QLBLBEjlWwRBGnsESU+LBEFkqxRJmbsUQc7bFEnz6yRCGQskSk4bJEJzOzRKqEs0Qs1rNErye0RDJ5tES1yrREOBy1RLpttUQ=\",\"dtype\":\"float32\",\"order\":\"little\",\"shape\":[200]}},\"selected\":{\"id\":\"3391\"},\"selection_policy\":{\"id\":\"3390\"}},\"id\":\"3375\",\"type\":\"ColumnDataSource\"},{\"attributes\":{\"children\":[{\"id\":\"3396\"},{\"id\":\"3397\"},{\"id\":\"3435\"}],\"margin\":[0,0,0,0],\"name\":\"Row00246\"},\"id\":\"3395\",\"type\":\"Row\"},{\"attributes\":{\"source\":{\"id\":\"3375\"}},\"id\":\"3380\",\"type\":\"CDSView\"},{\"attributes\":{\"margin\":[5,5,5,5],\"name\":\"HSpacer00217\",\"sizing_mode\":\"stretch_width\"},\"id\":\"3396\",\"type\":\"Spacer\"},{\"attributes\":{\"client_comm_id\":\"d20400afa49d4429b468d73aa9e7b031\",\"comm_id\":\"4c85845ba4074aaea702a84e2f9d90af\",\"plot_id\":\"3395\"},\"id\":\"3477\",\"type\":\"panel.models.comm_manager.CommManager\"},{\"attributes\":{\"label\":{\"value\":\"Learned model\"},\"renderers\":[{\"id\":\"3379\"}]},\"id\":\"3394\",\"type\":\"LegendItem\"}],\"root_ids\":[\"3395\",\"3477\"]},\"title\":\"Bokeh Application\",\"version\":\"2.4.3\"}};\n",
       "    var render_items = [{\"docid\":\"2453543a-0773-4caf-a737-c196b99b074b\",\"root_ids\":[\"3395\"],\"roots\":{\"3395\":\"aebd2471-1d96-48ce-8fb2-5a66d3a57688\"}}];\n",
       "    root.Bokeh.embed.embed_items_notebook(docs_json, render_items);\n",
       "    for (const render_item of render_items) {\n",
       "      for (const root_id of render_item.root_ids) {\n",
       "\tconst id_el = document.getElementById(root_id)\n",
       "\tif (id_el.children.length && (id_el.children[0].className === 'bk-root')) {\n",
       "\t  const root_el = id_el.children[0]\n",
       "\t  root_el.id = root_el.id + '-rendered'\n",
       "\t}\n",
       "      }\n",
       "    }\n",
       "  }\n",
       "  if (root.Bokeh !== undefined && root.Bokeh.Panel !== undefined) {\n",
       "    embed_document(root);\n",
       "  } else {\n",
       "    var attempts = 0;\n",
       "    var timer = setInterval(function(root) {\n",
       "      if (root.Bokeh !== undefined && root.Bokeh.Panel !== undefined) {\n",
       "        clearInterval(timer);\n",
       "        embed_document(root);\n",
       "      } else if (document.readyState == \"complete\") {\n",
       "        attempts++;\n",
       "        if (attempts > 200) {\n",
       "          clearInterval(timer);\n",
       "          console.log(\"Bokeh: ERROR: Unable to run BokehJS code because BokehJS library is missing\");\n",
       "        }\n",
       "      }\n",
       "    }, 25, root)\n",
       "  }\n",
       "})(window);</script>"
      ],
      "text/plain": [
       "Row\n",
       "    [0] HSpacer()\n",
       "    [1] Column\n",
       "        [0] Row\n",
       "            [0] Param(RegressionLinearSolver, name='Problem parameters', widgets={})\n",
       "            [1] ParamMethod(method, _pane=Bokeh)\n",
       "        [1] Ace(height=150, language='python', sizing_mode='stretch_both', theme='chaos', value='def linear(\\n        coef...)\n",
       "    [2] HSpacer()"
      ]
     },
     "execution_count": 21,
     "metadata": {
      "application/vnd.holoviews_exec.v0+json": {
       "id": "3395"
      }
     },
     "output_type": "execute_result"
    }
   ],
   "source": [
    "\n",
    "from cml.tasks import RegressionLinearSolver\n",
    "explorer = RegressionLinearSolver()\n",
    "def solve(x, y):\n",
    "    w_1, w_0 = gradient_descent(x, y, 2, 0.1)\n",
    "    x_predict = np.linspace(np.min(x), np.max(x), 200)\n",
    "    y_model = w_1 * x_predict + w_0\n",
    "    return np.array(x_predict), np.array(y_model) #np.array(jnp.zeros(y_model.shape))\n",
    "\n",
    "explorer.solve = solve\n",
    "explorer.render()"
   ]
  },
  {
   "cell_type": "markdown",
   "metadata": {},
   "source": [
    "<div class=\"alert alert-success\" markdown=\"1\" style=\"color:white; background-color: #192841; border-color: #779ecb\">\n",
    "\n",
    "> ### Going further\n",
    "> **Exercise 1 \\[Learning rate\\]**: Experiment with different learning rates (e.g., 0.001, 0.01, 0.1, 1) and observe how they affect the convergence of the gradient descent algorithm. Plot the convergence history (cost function value vs. iteration) for each learning rate.\n",
    "\n",
    "> **Exercise 2 \\[Initialization\\]**: Experiment with different initializations of the coefficients (zeros, random values, etc.) and observe their impact on the convergence of the gradient descent algorithm.\n",
    "\n",
    "> **Exercise 3 \\[Variants\\]**: Implement and compare different variants of gradient descent, such as stochastic gradient descent (SGD) and mini-batch gradient descent. Analyze their convergence properties and computational efficiency.\n",
    "\n",
    "> **Exercise 4 \\[Regularization\\]**: Implement Lasso and Ridge regression with gradient descent by incorporating the regularization terms into the cost function and gradient calculations. Compare their performance with the standard linear regression implementation and analyze their impact on the learned coefficients.\n",
    "\n",
    "\n",
    "</div>"
   ]
  },
  {
   "cell_type": "markdown",
   "metadata": {
    "tags": []
   },
   "source": [
    "## Discovering automatic differentiation - `JAX`\n",
    "\n",
    "The previous implementation required us to perform manual differentiation of our loss function to understand how to update the parameters. However, large developments have been made in the field of **automatic differentiation**. \n",
    "\n",
    "The recent library [JAX](https://github.com/google/jax) extends NumPy with this automatic differentiation feature (*autograd*), while providing a functional approach to numerical computing, allowing for easy gradient computation and just-in-time (JIT) compilation. Its ability to handle complex and custom gradients makes JAX particularly well-suited for advanced research projects. Similar to NumPy, we strongly encourage you to learn JAX through the set of [tutorials](https://jax.readthedocs.io/en/latest/), but we will also provide here the explanation for all of the functions that we will use in this first exercise. After that, we will assume that knowledge of JAX should be found online. \n",
    "\n",
    "Note that `JAX` has been thought as an extension of `NumPy`, therefore an extremely large portion of its API simply mirrors the `NumPy` functions by adding automatic differentiation features to it.\n",
    "\n",
    "**Used functions**\n",
    "- `random.PRNGKey`: function to generate a key for the pseudorandom number generator. [Documentation](https://jax.readthedocs.io/en/latest/_autosummary/jax.random.PRNGKey.html)"
   ]
  },
  {
   "cell_type": "code",
   "execution_count": 22,
   "metadata": {},
   "outputs": [],
   "source": [
    "import jax.numpy as jnp\n",
    "from jax import grad, jit, random\n",
    "key = random.PRNGKey(42)"
   ]
  },
  {
   "cell_type": "markdown",
   "metadata": {},
   "source": [
    "### Dataset.\n",
    "\n",
    "We can simply keep our previous approach to generating the dataset but we will rely on `jnp.ndarray` instead of `np.ndarray`. We also provide the code for splitting the dataset between a `training` and `validation` dataset, as discussed in the course\n",
    "\n",
    "**Used functions**\n",
    "- `random.split`: function to split a PRNGKey into a list of subkeys [Documentation](https://jax.readthedocs.io/en/latest/_autosummary/jax.random.split.html)\n",
    "- `random.uniform`: function to generate an array of uniformly distributed random numbers [Documentation](https://jax.readthedocs.io/en/latest/_autosummary/jax.random.uniform.html)\n",
    "- `random.normal`: function to generate an array of normally distributed random numbers [Documentation](https://jax.readthedocs.io/en/latest/_autosummary/jax.random.normal.html)"
   ]
  },
  {
   "cell_type": "code",
   "execution_count": 23,
   "metadata": {},
   "outputs": [],
   "source": [
    "true_w0 = 2\n",
    "true_w1 = 3\n",
    "key_0, key_1, key = random.split(key, 3)\n",
    "x = random.uniform(key_0, (100,))\n",
    "y = true_w0 + true_w1 * x + (random.normal(key_1, (100,)) * 0.2)"
   ]
  },
  {
   "cell_type": "code",
   "execution_count": 24,
   "metadata": {},
   "outputs": [],
   "source": [
    "# Splitting our dataset\n",
    "train_size = int(0.8 * len(x))\n",
    "x_train, x_valid = x[:train_size], x[train_size:]\n",
    "y_train, y_valid = y[:train_size], y[train_size:]"
   ]
  },
  {
   "cell_type": "markdown",
   "metadata": {},
   "source": [
    "### Loss function\n",
    "\n",
    "Similarly Define the cost function and its gradient.\n",
    "\n",
    "**Used functions**\n",
    "- `jnp.mean`: function to compute the mean of an array [Documentation](https://jax.readthedocs.io/en/latest/_autosummary/jax.numpy.mean.html)"
   ]
  },
  {
   "cell_type": "code",
   "execution_count": 25,
   "metadata": {},
   "outputs": [],
   "source": [
    "def loss_function(x, y, w_1, w_0):\n",
    "    y_pred = x * w_1 + w_0\n",
    "    residuals = y_pred - y\n",
    "    return jnp.mean(residuals**2)"
   ]
  },
  {
   "cell_type": "markdown",
   "metadata": {},
   "source": [
    "\n",
    "**Used functions**\n",
    "- `jit`: function to compile a function for faster execution [Documentation](https://jax.readthedocs.io/en/latest/jit.html)\n",
    "- `grad`: function to compute the gradient of a function [Documentation](https://jax.readthedocs.io/en/latest/jax.html#jax.grad)"
   ]
  },
  {
   "cell_type": "code",
   "execution_count": 26,
   "metadata": {},
   "outputs": [],
   "source": [
    "grad_loss_function = jit(grad(loss_function, argnums=[2, 3]))"
   ]
  },
  {
   "cell_type": "markdown",
   "metadata": {},
   "source": [
    "### Implement the gradient descent algorithm.\n",
    "\n",
    "Note that nowhere in the code do we need to explicitly define the gradients of the different variables. Yet, the optimization will be performed adequately."
   ]
  },
  {
   "cell_type": "code",
   "execution_count": 27,
   "metadata": {},
   "outputs": [
    {
     "name": "stdout",
     "output_type": "stream",
     "text": [
      "Gradient Descent coefficients: [3.0639796] [1.9661585]\n"
     ]
    }
   ],
   "source": [
    "def gradient_descent(key, x, y, lr=0.05, n_iter=1000):\n",
    "    m = x.shape\n",
    "    k_0, k_1 = random.split(key, 2)\n",
    "    w_0 = random.normal(k_0, (1,))\n",
    "    w_1 = random.normal(k_1, (1,))\n",
    "    loss_history = []\n",
    "    for _ in range(n_iter):\n",
    "        gradients = grad_loss_function(x, y, w_1, w_0)\n",
    "        #print(gradients[0])\n",
    "        w_1 -= lr * gradients[0]\n",
    "        w_0 -= lr * gradients[1]\n",
    "        loss_history.append(loss_function(x, y, w_1, w_0))\n",
    "    return w_1, w_0, loss_history\n",
    "\n",
    "key_gd, key = random.split(key, 2)\n",
    "w_1, w_0, loss_history = gradient_descent(key_gd, x_train, y_train)\n",
    "print(\"Gradient Descent coefficients:\", w_1, w_0)"
   ]
  },
  {
   "cell_type": "markdown",
   "metadata": {},
   "source": [
    "### Evaluate our performances\n",
    "\n",
    "Thanks to our previous split of the dataset, we are now able to evaluate the performances of our model on *unseen data*, which is the overarching goal of building such machine learning models."
   ]
  },
  {
   "cell_type": "code",
   "execution_count": 28,
   "metadata": {},
   "outputs": [
    {
     "name": "stdout",
     "output_type": "stream",
     "text": [
      "MSE for Gradient Descent: 0.03851322\n"
     ]
    }
   ],
   "source": [
    "def mean_squared_error(y_true, y_pred):\n",
    "    return np.mean((y_true - y_pred)**2)\n",
    "\n",
    "y_valid_gd = w_1 * x_valid + w_0\n",
    "mse_gd = mean_squared_error(y_valid, y_valid_gd)\n",
    "print(\"MSE for Gradient Descent:\", mse_gd)"
   ]
  },
  {
   "cell_type": "markdown",
   "metadata": {},
   "source": [
    "### Visualize the results.\n",
    "\n",
    "As previously we can witness our results, and also evaluate our solution with our interactive solver."
   ]
  },
  {
   "cell_type": "code",
   "execution_count": 29,
   "metadata": {},
   "outputs": [
    {
     "data": {},
     "metadata": {},
     "output_type": "display_data"
    },
    {
     "data": {
      "application/vnd.holoviews_exec.v0+json": "",
      "text/html": [
       "<div id='3621'>\n",
       "  <div class=\"bk-root\" id=\"824187a1-804c-4513-a9b8-7769fc2ed635\" data-root-id=\"3621\"></div>\n",
       "</div>\n",
       "<script type=\"application/javascript\">(function(root) {\n",
       "  function embed_document(root) {\n",
       "    var docs_json = {\"d3230d95-f7bf-4990-b829-0a0abc1e4634\":{\"defs\":[{\"extends\":null,\"module\":null,\"name\":\"ReactiveHTML1\",\"overrides\":[],\"properties\":[]},{\"extends\":null,\"module\":null,\"name\":\"FlexBox1\",\"overrides\":[],\"properties\":[{\"default\":\"flex-start\",\"kind\":null,\"name\":\"align_content\"},{\"default\":\"flex-start\",\"kind\":null,\"name\":\"align_items\"},{\"default\":\"row\",\"kind\":null,\"name\":\"flex_direction\"},{\"default\":\"wrap\",\"kind\":null,\"name\":\"flex_wrap\"},{\"default\":\"flex-start\",\"kind\":null,\"name\":\"justify_content\"}]},{\"extends\":null,\"module\":null,\"name\":\"GridStack1\",\"overrides\":[],\"properties\":[{\"default\":\"warn\",\"kind\":null,\"name\":\"mode\"},{\"default\":null,\"kind\":null,\"name\":\"ncols\"},{\"default\":null,\"kind\":null,\"name\":\"nrows\"},{\"default\":true,\"kind\":null,\"name\":\"allow_resize\"},{\"default\":true,\"kind\":null,\"name\":\"allow_drag\"},{\"default\":[],\"kind\":null,\"name\":\"state\"}]},{\"extends\":null,\"module\":null,\"name\":\"click1\",\"overrides\":[],\"properties\":[{\"default\":\"\",\"kind\":null,\"name\":\"terminal_output\"},{\"default\":\"\",\"kind\":null,\"name\":\"debug_name\"},{\"default\":0,\"kind\":null,\"name\":\"clears\"}]},{\"extends\":null,\"module\":null,\"name\":\"NotificationAreaBase1\",\"overrides\":[],\"properties\":[{\"default\":\"bottom-right\",\"kind\":null,\"name\":\"position\"},{\"default\":0,\"kind\":null,\"name\":\"_clear\"}]},{\"extends\":null,\"module\":null,\"name\":\"NotificationArea1\",\"overrides\":[],\"properties\":[{\"default\":[],\"kind\":null,\"name\":\"notifications\"},{\"default\":\"bottom-right\",\"kind\":null,\"name\":\"position\"},{\"default\":0,\"kind\":null,\"name\":\"_clear\"},{\"default\":[{\"background\":\"#ffc107\",\"icon\":{\"className\":\"fas fa-exclamation-triangle\",\"color\":\"white\",\"tagName\":\"i\"},\"type\":\"warning\"},{\"background\":\"#007bff\",\"icon\":{\"className\":\"fas fa-info-circle\",\"color\":\"white\",\"tagName\":\"i\"},\"type\":\"info\"}],\"kind\":null,\"name\":\"types\"}]},{\"extends\":null,\"module\":null,\"name\":\"Notification\",\"overrides\":[],\"properties\":[{\"default\":null,\"kind\":null,\"name\":\"background\"},{\"default\":3000,\"kind\":null,\"name\":\"duration\"},{\"default\":null,\"kind\":null,\"name\":\"icon\"},{\"default\":\"\",\"kind\":null,\"name\":\"message\"},{\"default\":null,\"kind\":null,\"name\":\"notification_type\"},{\"default\":false,\"kind\":null,\"name\":\"_destroyed\"}]},{\"extends\":null,\"module\":null,\"name\":\"TemplateActions1\",\"overrides\":[],\"properties\":[{\"default\":0,\"kind\":null,\"name\":\"open_modal\"},{\"default\":0,\"kind\":null,\"name\":\"close_modal\"}]},{\"extends\":null,\"module\":null,\"name\":\"MaterialTemplateActions1\",\"overrides\":[],\"properties\":[{\"default\":0,\"kind\":null,\"name\":\"open_modal\"},{\"default\":0,\"kind\":null,\"name\":\"close_modal\"}]}],\"roots\":{\"references\":[{\"attributes\":{},\"id\":\"3586\",\"type\":\"AllLabels\"},{\"attributes\":{\"fill_alpha\":{\"value\":0.2},\"fill_color\":{\"value\":\"midnightblue\"},\"hatch_alpha\":{\"value\":0.2},\"line_alpha\":{\"value\":0.2},\"line_color\":{\"value\":\"white\"},\"size\":{\"value\":10},\"x\":{\"field\":\"x\"},\"y\":{\"field\":\"y\"}},\"id\":\"3580\",\"type\":\"Circle\"},{\"attributes\":{},\"id\":\"3548\",\"type\":\"DataRange1d\"},{\"attributes\":{},\"id\":\"3550\",\"type\":\"LinearScale\"},{\"attributes\":{\"axis_label\":\"y\",\"axis_label_standoff\":10,\"axis_label_text_color\":\"#FFFFFF\",\"axis_label_text_font\":\"Josefin Sans\",\"axis_label_text_font_size\":\"1.9em\",\"axis_label_text_font_style\":\"bold\",\"axis_line_alpha\":0.4,\"axis_line_color\":\"#E0E0E0\",\"coordinates\":null,\"formatter\":{\"id\":\"3585\"},\"group\":null,\"major_label_policy\":{\"id\":\"3586\"},\"major_label_text_color\":\"#E0E0E0\",\"major_label_text_font\":\"Josefin Sans\",\"major_label_text_font_size\":\"1.15em\",\"major_tick_line_alpha\":0.4,\"major_tick_line_color\":\"#E0E0E0\",\"minor_tick_line_alpha\":0.4,\"minor_tick_line_color\":\"#E0E0E0\",\"ticker\":{\"id\":\"3559\"}},\"id\":\"3558\",\"type\":\"LinearAxis\"},{\"attributes\":{},\"id\":\"3567\",\"type\":\"HelpTool\"},{\"attributes\":{},\"id\":\"3552\",\"type\":\"LinearScale\"},{\"attributes\":{\"data\":{\"x\":{\"__ndarray__\":\"7N0EP9Q2/z5g7bU++IQEPtBIGD7odLA+gJ3xPYCBGz7wBCQ+wCzBPFqjWz/kFmw/YGWPPUT3XT/EQYo+BPgjP/wkxj4gLeU+3D7nPiA43T3w0Qg/JmI8P+iTiD66Eis/rAqlPjgdYz6e7UI/hHlZP+gBXT5c2ME+DvAoP8DoaD7WWTI/rNGfPtJJAz/wCi0+cl4uP+DEBj9AQes+NKKAPrI1GD9OHUQ/cHTMPuwfEj+cmpw+mqxfP7iW9T50PCQ/EphXP5jmIj6WUR8/VO8xP7JYEz/8XpU+WGMPPqSE7z7exh4/CNE6PxIaTD8atGs/6oMGPyxhaD+cBjg/MI6tPvCl0T0A6A47RtlMPyYjIj+SbAc/IHYnPyg2cz9MZK8+mI4SP3RGNT/Oa2M/YLLhPlAHHD/iDwI/2BIpP7Aqbz4MGXw/VgtwP5agUD84HFc+2K94PtSOZD9YSTk/YJp7PdxJBT9klL4+qD1zPuRAzj78Cw4/cGG5PgAfxz0wOc4+6HeePtA+Uz4gIrw95GT5Pg==\",\"dtype\":\"float32\",\"order\":\"little\",\"shape\":[100]},\"y\":{\"__ndarray__\":\"CJxjQJ2UX0AGg0NAITYXQBX/GkCmakFA+fcUQAKdG0BePh1AT3UCQLQJk0C2VplAcZALQPDtk0BDyTJA9G57QBS5SUCqm1VAjmZWQAgEE0A7o2ZAQxGHQKEkMkAKcIBAcQs9QINTKUD2kolAljWSQCMoKECME0hAVD1/QJtvKkCbOYNAYAs7QH5mYkC7+B5ALrOBQAkRZUCo71dAuhkvQBBtckBGB4pAzCNMQNLDbUAk0DlAb5WUQN7kW0Bho3tAMX2RQIkHHUAY33dA0BCDQGezbkD6CjdA80oZQKiRWUDWdHdAo3eGQGoWjUDgMJlARt9kQPnql0AEZoVAME5AQGfoEUADhvw/pV+NQM4HekB+kWVA1ht+QAURnEA+AkFAmBhuQFNYhEDPBJZAg0ZUQOpZdUAEdmFA+ld/QGCiK0BMeJ9AetqaQB/SjkAJBydAFnUtQEV0lkCf4YVAK+EJQLbuY0Bf00ZAGmosQCbUTEArpGpAntVEQF3mEEAy0UxA8oY6QJBJJkAJ2Q9A+FldQA==\",\"dtype\":\"float32\",\"order\":\"little\",\"shape\":[100]}},\"selected\":{\"id\":\"3617\"},\"selection_policy\":{\"id\":\"3616\"}},\"id\":\"3601\",\"type\":\"ColumnDataSource\"},{\"attributes\":{\"bottom_units\":\"screen\",\"coordinates\":null,\"fill_alpha\":0.5,\"fill_color\":\"lightgrey\",\"group\":null,\"left_units\":\"screen\",\"level\":\"overlay\",\"line_alpha\":1.0,\"line_color\":\"black\",\"line_dash\":[4,4],\"line_width\":2,\"right_units\":\"screen\",\"syncable\":false,\"top_units\":\"screen\"},\"id\":\"3568\",\"type\":\"BoxAnnotation\"},{\"attributes\":{\"children\":[{\"id\":\"3622\"},{\"id\":\"3543\"},{\"id\":\"3649\"}],\"margin\":[0,0,0,0],\"name\":\"Row00253\"},\"id\":\"3621\",\"type\":\"Row\"},{\"attributes\":{\"bottom_units\":\"screen\",\"coordinates\":null,\"fill_alpha\":0.5,\"fill_color\":\"lightgrey\",\"group\":null,\"left_units\":\"screen\",\"level\":\"overlay\",\"line_alpha\":1.0,\"line_color\":\"black\",\"line_dash\":[4,4],\"line_width\":2,\"right_units\":\"screen\",\"syncable\":false,\"top_units\":\"screen\"},\"id\":\"3619\",\"type\":\"BoxAnnotation\"},{\"attributes\":{\"margin\":[5,5,5,5],\"name\":\"HSpacer00250\",\"sizing_mode\":\"stretch_width\"},\"id\":\"3649\",\"type\":\"Spacer\"},{\"attributes\":{},\"id\":\"3591\",\"type\":\"Selection\"},{\"attributes\":{\"margin\":[5,5,5,5],\"name\":\"HSpacer00249\",\"sizing_mode\":\"stretch_width\"},\"id\":\"3622\",\"type\":\"Spacer\"},{\"attributes\":{},\"id\":\"3566\",\"type\":\"ResetTool\"},{\"attributes\":{\"coordinates\":null,\"data_source\":{\"id\":\"3601\"},\"glyph\":{\"id\":\"3602\"},\"group\":null,\"hover_glyph\":null,\"muted_glyph\":{\"id\":\"3604\"},\"nonselection_glyph\":{\"id\":\"3603\"},\"view\":{\"id\":\"3606\"}},\"id\":\"3605\",\"type\":\"GlyphRenderer\"},{\"attributes\":{},\"id\":\"3565\",\"type\":\"SaveTool\"},{\"attributes\":{\"overlay\":{\"id\":\"3568\"}},\"id\":\"3564\",\"type\":\"BoxZoomTool\"},{\"attributes\":{},\"id\":\"3590\",\"type\":\"UnionRenderers\"},{\"attributes\":{},\"id\":\"3562\",\"type\":\"PanTool\"},{\"attributes\":{},\"id\":\"3585\",\"type\":\"BasicTickFormatter\"},{\"attributes\":{},\"id\":\"3563\",\"type\":\"WheelZoomTool\"},{\"attributes\":{\"client_comm_id\":\"f6e3af28274442228af7e70fa20c3dd0\",\"comm_id\":\"553f5dd9dd234c8e94fe1e6c43390859\",\"plot_id\":\"3621\"},\"id\":\"3689\",\"type\":\"panel.models.comm_manager.CommManager\"},{\"attributes\":{\"line_alpha\":0.1,\"line_color\":\"red\",\"line_width\":6,\"x\":{\"field\":\"x\"},\"y\":{\"field\":\"y\"}},\"id\":\"3603\",\"type\":\"Line\"},{\"attributes\":{},\"id\":\"3555\",\"type\":\"BasicTicker\"},{\"attributes\":{},\"id\":\"3559\",\"type\":\"BasicTicker\"},{\"attributes\":{\"coordinates\":null,\"group\":null,\"text\":\"Linear regression\",\"text_color\":\"#E0E0E0\",\"text_font\":\"Josefin Sans\",\"text_font_size\":\"2.1em\"},\"id\":\"3544\",\"type\":\"Title\"},{\"attributes\":{\"axis\":{\"id\":\"3558\"},\"coordinates\":null,\"dimension\":1,\"grid_line_alpha\":0.15,\"grid_line_color\":\"#E0E0E0\",\"group\":null,\"ticker\":null},\"id\":\"3561\",\"type\":\"Grid\"},{\"attributes\":{\"axis_label\":\"x\",\"axis_label_standoff\":10,\"axis_label_text_color\":\"#FFFFFF\",\"axis_label_text_font\":\"Josefin Sans\",\"axis_label_text_font_size\":\"1.9em\",\"axis_label_text_font_style\":\"bold\",\"axis_line_alpha\":0.4,\"axis_line_color\":\"#E0E0E0\",\"coordinates\":null,\"formatter\":{\"id\":\"3588\"},\"group\":null,\"major_label_policy\":{\"id\":\"3589\"},\"major_label_text_color\":\"#E0E0E0\",\"major_label_text_font\":\"Josefin Sans\",\"major_label_text_font_size\":\"1.15em\",\"major_tick_line_alpha\":0.4,\"major_tick_line_color\":\"#E0E0E0\",\"minor_tick_line_alpha\":0.4,\"minor_tick_line_color\":\"#E0E0E0\",\"ticker\":{\"id\":\"3555\"}},\"id\":\"3554\",\"type\":\"LinearAxis\"},{\"attributes\":{\"axis\":{\"id\":\"3554\"},\"coordinates\":null,\"grid_line_alpha\":0.15,\"grid_line_color\":\"#E0E0E0\",\"group\":null,\"ticker\":null},\"id\":\"3557\",\"type\":\"Grid\"},{\"attributes\":{\"coordinates\":null,\"data_source\":{\"id\":\"3576\"},\"glyph\":{\"id\":\"3577\"},\"group\":null,\"hover_glyph\":{\"id\":\"3579\"},\"muted_glyph\":{\"id\":\"3580\"},\"nonselection_glyph\":{\"id\":\"3598\"},\"selection_glyph\":{\"id\":\"3597\"},\"view\":{\"id\":\"3582\"}},\"id\":\"3581\",\"type\":\"GlyphRenderer\"},{\"attributes\":{\"background_fill_alpha\":0.9,\"background_fill_color\":\"#0f0f0f\",\"below\":[{\"id\":\"3554\"}],\"border_fill_alpha\":0.8,\"border_fill_color\":\"#111111\",\"center\":[{\"id\":\"3557\"},{\"id\":\"3561\"},{\"id\":\"3593\"}],\"height\":450,\"left\":[{\"id\":\"3558\"}],\"outline_line_alpha\":0.25,\"outline_line_color\":\"#E0E0E0\",\"outline_line_width\":3,\"renderers\":[{\"id\":\"3581\"},{\"id\":\"3605\"}],\"title\":{\"id\":\"3544\"},\"toolbar\":{\"id\":\"3569\"},\"toolbar_location\":null,\"x_range\":{\"id\":\"3546\"},\"x_scale\":{\"id\":\"3550\"},\"y_range\":{\"id\":\"3548\"},\"y_scale\":{\"id\":\"3552\"}},\"id\":\"3543\",\"subtype\":\"Figure\",\"type\":\"Plot\"},{\"attributes\":{\"fill_alpha\":{\"value\":0.8},\"fill_color\":{\"value\":\"red\"},\"line_color\":{\"value\":\"white\"}},\"id\":\"3597\",\"type\":\"Circle\"},{\"attributes\":{},\"id\":\"3616\",\"type\":\"UnionRenderers\"},{\"attributes\":{\"tools\":[{\"id\":\"3562\"},{\"id\":\"3563\"},{\"id\":\"3564\"},{\"id\":\"3565\"},{\"id\":\"3566\"},{\"id\":\"3567\"},{\"id\":\"3595\"},{\"id\":\"3599\"}]},\"id\":\"3569\",\"type\":\"Toolbar\"},{\"attributes\":{\"label\":{\"value\":\"Observations\"},\"renderers\":[{\"id\":\"3581\"}]},\"id\":\"3594\",\"type\":\"LegendItem\"},{\"attributes\":{\"mode\":\"append\",\"overlay\":{\"id\":\"3619\"},\"renderers\":[{\"id\":\"3581\"}]},\"id\":\"3599\",\"type\":\"BoxSelectTool\"},{\"attributes\":{},\"id\":\"3617\",\"type\":\"Selection\"},{\"attributes\":{\"data\":{\"x\":{\"__ndarray__\":\"7N0EP9Q2/z5g7bU++IQEPtBIGD7odLA+gJ3xPYCBGz7wBCQ+wCzBPFqjWz/kFmw/YGWPPUT3XT/EQYo+BPgjP/wkxj4gLeU+3D7nPiA43T3w0Qg/JmI8P+iTiD66Eis/rAqlPjgdYz6e7UI/hHlZP+gBXT5c2ME+DvAoP8DoaD7WWTI/rNGfPtJJAz/wCi0+cl4uP+DEBj9AQes+NKKAPrI1GD9OHUQ/cHTMPuwfEj+cmpw+mqxfP7iW9T50PCQ/EphXP5jmIj6WUR8/VO8xP7JYEz/8XpU+WGMPPqSE7z7exh4/CNE6PxIaTD8atGs/6oMGPyxhaD+cBjg/MI6tPvCl0T0A6A47RtlMPyYjIj+SbAc/IHYnPyg2cz9MZK8+mI4SP3RGNT/Oa2M/YLLhPlAHHD/iDwI/2BIpP7Aqbz4MGXw/VgtwP5agUD84HFc+2K94PtSOZD9YSTk/YJp7PdxJBT9klL4+qD1zPuRAzj78Cw4/cGG5PgAfxz0wOc4+6HeePtA+Uz4gIrw95GT5Pg==\",\"dtype\":\"float32\",\"order\":\"little\",\"shape\":[100]},\"y\":{\"__ndarray__\":\"jTtpQEHUQ0D0K0ZAA2QdQOYtDUAko1ZAgjIVQNlw+j99hSxAxcYDQK1ujED+wJRA+l7+P+r5kkA2QS9AHpR8QAn8RkBm9ldAKBVZQInyCECdtFRAqsmIQP70HkDJNYNA+fI+QG8hL0CgXIdAk1CHQHbqLUAw3ktAozOBQDyzI0DOxoZAkl06QOI3ZECT6zZACK5xQJ2VWkCbVVtARDMuQJlhgECBY4ZA8ftiQNhSZECXMzxAoIGSQChOakABt3JAAiWLQMNcKUDCI3tAQjWOQFMdd0CcdCdAOQEXQGiuSkA50IhAeIyRQEJIjEB6nJRApXdfQOofmEClpolA3jhGQAeWEkB0K/Q/69uNQH0GiUDOpGFAX79yQDM3pUBhiUpAQzloQMdniUDZ/JNAr+xMQOzockASOWZA/aODQGtvIUCw56JAx0ObQH4xkkCP6zhA9r4rQDbBnUBhFIVAsNYfQF6sX0CpQDlAojoqQOaFOUDbe29AFv5YQCCVLkCxf0hAqSk/QHnbKkACNxlADmheQA==\",\"dtype\":\"float32\",\"order\":\"little\",\"shape\":[100]}},\"selected\":{\"id\":\"3591\"},\"selection_policy\":{\"id\":\"3590\"}},\"id\":\"3576\",\"type\":\"ColumnDataSource\"},{\"attributes\":{\"fill_alpha\":{\"value\":0.5},\"fill_color\":{\"value\":\"red\"},\"hatch_alpha\":{\"value\":0.5},\"line_alpha\":{\"value\":0.5},\"line_color\":{\"value\":\"white\"},\"size\":{\"value\":10},\"x\":{\"field\":\"x\"},\"y\":{\"field\":\"y\"}},\"id\":\"3579\",\"type\":\"Circle\"},{\"attributes\":{\"label\":{\"value\":\"Learned model\"},\"renderers\":[{\"id\":\"3605\"}]},\"id\":\"3620\",\"type\":\"LegendItem\"},{\"attributes\":{},\"id\":\"3589\",\"type\":\"AllLabels\"},{\"attributes\":{\"source\":{\"id\":\"3576\"}},\"id\":\"3582\",\"type\":\"CDSView\"},{\"attributes\":{\"callback\":null,\"mode\":\"vline\",\"renderers\":[{\"id\":\"3581\"}],\"tooltips\":null},\"id\":\"3595\",\"type\":\"HoverTool\"},{\"attributes\":{\"background_fill_alpha\":0.25,\"background_fill_color\":\"#505050\",\"border_line_alpha\":0.25,\"coordinates\":null,\"group\":null,\"items\":[{\"id\":\"3594\"},{\"id\":\"3620\"}],\"label_standoff\":8,\"label_text_color\":\"#E0E0E0\",\"label_text_font\":\"Josefin Sans\",\"label_text_font_size\":\"1.15em\",\"spacing\":8},\"id\":\"3593\",\"type\":\"Legend\"},{\"attributes\":{},\"id\":\"3588\",\"type\":\"BasicTickFormatter\"},{\"attributes\":{\"source\":{\"id\":\"3601\"}},\"id\":\"3606\",\"type\":\"CDSView\"},{\"attributes\":{\"fill_alpha\":{\"value\":0.5},\"fill_color\":{\"value\":\"midnightblue\"},\"line_color\":{\"value\":\"white\"}},\"id\":\"3598\",\"type\":\"Circle\"},{\"attributes\":{\"fill_alpha\":{\"value\":0.25},\"fill_color\":{\"value\":\"midnightblue\"},\"hatch_alpha\":{\"value\":0.25},\"line_alpha\":{\"value\":0.25},\"line_color\":{\"value\":\"white\"},\"size\":{\"value\":10},\"x\":{\"field\":\"x\"},\"y\":{\"field\":\"y\"}},\"id\":\"3577\",\"type\":\"Circle\"},{\"attributes\":{\"line_alpha\":0.2,\"line_color\":\"red\",\"line_width\":6,\"x\":{\"field\":\"x\"},\"y\":{\"field\":\"y\"}},\"id\":\"3604\",\"type\":\"Line\"},{\"attributes\":{\"line_alpha\":0.6,\"line_color\":\"red\",\"line_width\":6,\"x\":{\"field\":\"x\"},\"y\":{\"field\":\"y\"}},\"id\":\"3602\",\"type\":\"Line\"},{\"attributes\":{},\"id\":\"3546\",\"type\":\"DataRange1d\"}],\"root_ids\":[\"3621\",\"3689\"]},\"title\":\"Bokeh Application\",\"version\":\"2.4.3\"}};\n",
       "    var render_items = [{\"docid\":\"d3230d95-f7bf-4990-b829-0a0abc1e4634\",\"root_ids\":[\"3621\"],\"roots\":{\"3621\":\"824187a1-804c-4513-a9b8-7769fc2ed635\"}}];\n",
       "    root.Bokeh.embed.embed_items_notebook(docs_json, render_items);\n",
       "    for (const render_item of render_items) {\n",
       "      for (const root_id of render_item.root_ids) {\n",
       "\tconst id_el = document.getElementById(root_id)\n",
       "\tif (id_el.children.length && (id_el.children[0].className === 'bk-root')) {\n",
       "\t  const root_el = id_el.children[0]\n",
       "\t  root_el.id = root_el.id + '-rendered'\n",
       "\t}\n",
       "      }\n",
       "    }\n",
       "  }\n",
       "  if (root.Bokeh !== undefined && root.Bokeh.Panel !== undefined) {\n",
       "    embed_document(root);\n",
       "  } else {\n",
       "    var attempts = 0;\n",
       "    var timer = setInterval(function(root) {\n",
       "      if (root.Bokeh !== undefined && root.Bokeh.Panel !== undefined) {\n",
       "        clearInterval(timer);\n",
       "        embed_document(root);\n",
       "      } else if (document.readyState == \"complete\") {\n",
       "        attempts++;\n",
       "        if (attempts > 200) {\n",
       "          clearInterval(timer);\n",
       "          console.log(\"Bokeh: ERROR: Unable to run BokehJS code because BokehJS library is missing\");\n",
       "        }\n",
       "      }\n",
       "    }, 25, root)\n",
       "  }\n",
       "})(window);</script>"
      ],
      "text/plain": [
       "Row\n",
       "    [0] HSpacer()\n",
       "    [1] Bokeh(Figure)\n",
       "    [2] HSpacer()"
      ]
     },
     "execution_count": 29,
     "metadata": {
      "application/vnd.holoviews_exec.v0+json": {
       "id": "3621"
      }
     },
     "output_type": "execute_result"
    }
   ],
   "source": [
    "p = scatter(np.array(x), np.array(y), title=\"Linear regression\")\n",
    "p.line(np.array(x), np.array(w_1 * x + w_0), line_width=6, line_alpha=0.6, color=\"red\", legend_label=r\"Learned model\")\n",
    "plot = (center_plot(p))\n",
    "plot"
   ]
  },
  {
   "cell_type": "code",
   "execution_count": 30,
   "metadata": {},
   "outputs": [
    {
     "data": {},
     "metadata": {},
     "output_type": "display_data"
    },
    {
     "data": {
      "application/vnd.holoviews_exec.v0+json": "",
      "text/html": [
       "<div id='3833'>\n",
       "  <div class=\"bk-root\" id=\"7b2f2aec-e109-4ff9-bf87-e81392a84af0\" data-root-id=\"3833\"></div>\n",
       "</div>\n",
       "<script type=\"application/javascript\">(function(root) {\n",
       "  function embed_document(root) {\n",
       "    var docs_json = {\"a48413ab-96f2-4484-9b9d-ce5492d748c2\":{\"defs\":[{\"extends\":null,\"module\":null,\"name\":\"ReactiveHTML1\",\"overrides\":[],\"properties\":[]},{\"extends\":null,\"module\":null,\"name\":\"FlexBox1\",\"overrides\":[],\"properties\":[{\"default\":\"flex-start\",\"kind\":null,\"name\":\"align_content\"},{\"default\":\"flex-start\",\"kind\":null,\"name\":\"align_items\"},{\"default\":\"row\",\"kind\":null,\"name\":\"flex_direction\"},{\"default\":\"wrap\",\"kind\":null,\"name\":\"flex_wrap\"},{\"default\":\"flex-start\",\"kind\":null,\"name\":\"justify_content\"}]},{\"extends\":null,\"module\":null,\"name\":\"GridStack1\",\"overrides\":[],\"properties\":[{\"default\":\"warn\",\"kind\":null,\"name\":\"mode\"},{\"default\":null,\"kind\":null,\"name\":\"ncols\"},{\"default\":null,\"kind\":null,\"name\":\"nrows\"},{\"default\":true,\"kind\":null,\"name\":\"allow_resize\"},{\"default\":true,\"kind\":null,\"name\":\"allow_drag\"},{\"default\":[],\"kind\":null,\"name\":\"state\"}]},{\"extends\":null,\"module\":null,\"name\":\"click1\",\"overrides\":[],\"properties\":[{\"default\":\"\",\"kind\":null,\"name\":\"terminal_output\"},{\"default\":\"\",\"kind\":null,\"name\":\"debug_name\"},{\"default\":0,\"kind\":null,\"name\":\"clears\"}]},{\"extends\":null,\"module\":null,\"name\":\"NotificationAreaBase1\",\"overrides\":[],\"properties\":[{\"default\":\"bottom-right\",\"kind\":null,\"name\":\"position\"},{\"default\":0,\"kind\":null,\"name\":\"_clear\"}]},{\"extends\":null,\"module\":null,\"name\":\"NotificationArea1\",\"overrides\":[],\"properties\":[{\"default\":[],\"kind\":null,\"name\":\"notifications\"},{\"default\":\"bottom-right\",\"kind\":null,\"name\":\"position\"},{\"default\":0,\"kind\":null,\"name\":\"_clear\"},{\"default\":[{\"background\":\"#ffc107\",\"icon\":{\"className\":\"fas fa-exclamation-triangle\",\"color\":\"white\",\"tagName\":\"i\"},\"type\":\"warning\"},{\"background\":\"#007bff\",\"icon\":{\"className\":\"fas fa-info-circle\",\"color\":\"white\",\"tagName\":\"i\"},\"type\":\"info\"}],\"kind\":null,\"name\":\"types\"}]},{\"extends\":null,\"module\":null,\"name\":\"Notification\",\"overrides\":[],\"properties\":[{\"default\":null,\"kind\":null,\"name\":\"background\"},{\"default\":3000,\"kind\":null,\"name\":\"duration\"},{\"default\":null,\"kind\":null,\"name\":\"icon\"},{\"default\":\"\",\"kind\":null,\"name\":\"message\"},{\"default\":null,\"kind\":null,\"name\":\"notification_type\"},{\"default\":false,\"kind\":null,\"name\":\"_destroyed\"}]},{\"extends\":null,\"module\":null,\"name\":\"TemplateActions1\",\"overrides\":[],\"properties\":[{\"default\":0,\"kind\":null,\"name\":\"open_modal\"},{\"default\":0,\"kind\":null,\"name\":\"close_modal\"}]},{\"extends\":null,\"module\":null,\"name\":\"MaterialTemplateActions1\",\"overrides\":[],\"properties\":[{\"default\":0,\"kind\":null,\"name\":\"open_modal\"},{\"default\":0,\"kind\":null,\"name\":\"close_modal\"}]}],\"roots\":{\"references\":[{\"attributes\":{},\"id\":\"3798\",\"type\":\"AllLabels\"},{\"attributes\":{\"axis_label\":\"$$\\\\color{white} x$$\",\"axis_label_standoff\":10,\"axis_label_text_color\":\"#FFFFFF\",\"axis_label_text_font\":\"Josefin Sans\",\"axis_label_text_font_size\":\"1.9em\",\"axis_label_text_font_style\":\"bold\",\"axis_line_alpha\":0.4,\"axis_line_color\":\"#E0E0E0\",\"coordinates\":null,\"formatter\":{\"id\":\"3800\"},\"group\":null,\"major_label_policy\":{\"id\":\"3801\"},\"major_label_text_color\":\"#E0E0E0\",\"major_label_text_font\":\"Josefin Sans\",\"major_label_text_font_size\":\"1.15em\",\"major_tick_line_alpha\":0.4,\"major_tick_line_color\":\"#E0E0E0\",\"minor_tick_line_alpha\":0.4,\"minor_tick_line_color\":\"#E0E0E0\",\"ticker\":{\"id\":\"3767\"}},\"id\":\"3766\",\"type\":\"LinearAxis\"},{\"attributes\":{},\"id\":\"3758\",\"type\":\"DataRange1d\"},{\"attributes\":{\"fill_alpha\":{\"value\":0.8},\"fill_color\":{\"value\":\"red\"},\"line_color\":{\"value\":\"white\"}},\"id\":\"3809\",\"type\":\"Circle\"},{\"attributes\":{},\"id\":\"3767\",\"type\":\"BasicTicker\"},{\"attributes\":{},\"id\":\"3800\",\"type\":\"BasicTickFormatter\"},{\"attributes\":{},\"id\":\"3764\",\"type\":\"LinearScale\"},{\"attributes\":{\"line_alpha\":0.2,\"line_color\":\"red\",\"line_width\":4,\"x\":{\"field\":\"x\"},\"y\":{\"field\":\"y\"}},\"id\":\"3816\",\"type\":\"Line\"},{\"attributes\":{\"coordinates\":null,\"data_source\":{\"id\":\"3813\"},\"glyph\":{\"id\":\"3814\"},\"group\":null,\"hover_glyph\":null,\"muted_glyph\":{\"id\":\"3816\"},\"nonselection_glyph\":{\"id\":\"3815\"},\"view\":{\"id\":\"3818\"}},\"id\":\"3817\",\"type\":\"GlyphRenderer\"},{\"attributes\":{\"mode\":\"append\",\"overlay\":{\"id\":\"3831\"},\"renderers\":[{\"id\":\"3793\"}]},\"id\":\"3811\",\"type\":\"BoxSelectTool\"},{\"attributes\":{\"coordinates\":null,\"group\":null,\"text\":\"Linear regression problem\",\"text_color\":\"#E0E0E0\",\"text_font\":\"Josefin Sans\",\"text_font_size\":\"2.1em\"},\"id\":\"3756\",\"type\":\"Title\"},{\"attributes\":{\"args\":{\"bidirectional\":true,\"properties\":{\"readonly\":\"disabled\"},\"source\":{\"id\":\"3872\"},\"target\":{\"id\":\"3872\"}},\"code\":\"\\n    var value = source['readonly'];\\n    value = value;\\n    value = value;\\n    try {\\n      var property = target.properties['disabled'];\\n      if (property !== undefined) { property.validate(value); }\\n    } catch(err) {\\n      console.log('WARNING: Could not set disabled on target, raised error: ' + err);\\n      return;\\n    }\\n    try {\\n      target['disabled'] = value;\\n    } catch(err) {\\n      console.log(err)\\n    }\\n    \",\"tags\":[[139847157383232,[null,\"readonly\"],[null,\"disabled\"]]]},\"id\":\"3887\",\"type\":\"CustomJS\"},{\"attributes\":{\"background_fill_alpha\":0.9,\"background_fill_color\":\"#0f0f0f\",\"below\":[{\"id\":\"3766\"}],\"border_fill_alpha\":0.8,\"border_fill_color\":\"#111111\",\"center\":[{\"id\":\"3769\"},{\"id\":\"3773\"},{\"id\":\"3805\"}],\"height\":450,\"left\":[{\"id\":\"3770\"}],\"outline_line_alpha\":0.25,\"outline_line_color\":\"#E0E0E0\",\"outline_line_width\":3,\"renderers\":[{\"id\":\"3793\"},{\"id\":\"3817\"}],\"title\":{\"id\":\"3756\"},\"toolbar\":{\"id\":\"3781\"},\"toolbar_location\":null,\"x_range\":{\"id\":\"3758\"},\"x_scale\":{\"id\":\"3762\"},\"y_range\":{\"id\":\"3760\"},\"y_scale\":{\"id\":\"3764\"}},\"id\":\"3755\",\"subtype\":\"Figure\",\"type\":\"Plot\"},{\"attributes\":{\"callback\":null,\"mode\":\"vline\",\"renderers\":[{\"id\":\"3793\"}],\"tooltips\":null},\"id\":\"3807\",\"type\":\"HoverTool\"},{\"attributes\":{},\"id\":\"3801\",\"type\":\"AllLabels\"},{\"attributes\":{\"children\":[{\"id\":\"3834\"},{\"id\":\"3835\"},{\"id\":\"3873\"}],\"margin\":[0,0,0,0],\"name\":\"Row00286\"},\"id\":\"3833\",\"type\":\"Row\"},{\"attributes\":{\"margin\":[5,5,5,5],\"name\":\"HSpacer00257\",\"sizing_mode\":\"stretch_width\"},\"id\":\"3834\",\"type\":\"Spacer\"},{\"attributes\":{\"fill_alpha\":{\"value\":0.5},\"fill_color\":{\"value\":\"midnightblue\"},\"line_color\":{\"value\":\"white\"}},\"id\":\"3810\",\"type\":\"Circle\"},{\"attributes\":{\"args\":{\"bidirectional\":true,\"properties\":{\"readonly\":\"disabled\"},\"source\":{\"id\":\"3872\"},\"target\":{\"id\":\"3872\"}},\"code\":\"\\n    var value = source['disabled'];\\n    value = value;\\n    value = value;\\n    try {\\n      var property = target.properties['readonly'];\\n      if (property !== undefined) { property.validate(value); }\\n    } catch(err) {\\n      console.log('WARNING: Could not set readonly on target, raised error: ' + err);\\n      return;\\n    }\\n    try {\\n      target['readonly'] = value;\\n    } catch(err) {\\n      console.log(err)\\n    }\\n    \",\"tags\":[[139847157383232,[null,\"readonly\"],[null,\"disabled\"]]]},\"id\":\"3888\",\"type\":\"CustomJS\"},{\"attributes\":{\"children\":[{\"id\":\"3836\"},{\"id\":\"3872\"}],\"margin\":[0,0,0,0],\"name\":\"Column00284\"},\"id\":\"3835\",\"type\":\"Column\"},{\"attributes\":{\"label\":{\"value\":\"Learned model\"},\"renderers\":[{\"id\":\"3817\"}]},\"id\":\"3832\",\"type\":\"LegendItem\"},{\"attributes\":{\"line_alpha\":0.1,\"line_color\":\"red\",\"line_width\":4,\"x\":{\"field\":\"x\"},\"y\":{\"field\":\"y\"}},\"id\":\"3815\",\"type\":\"Line\"},{\"attributes\":{\"children\":[{\"id\":\"3838\"},{\"id\":\"3839\"},{\"id\":\"3840\"},{\"id\":\"3841\"},{\"id\":\"3842\"},{\"id\":\"3843\"},{\"id\":\"3844\"}],\"margin\":[5,5,5,5],\"min_width\":300,\"name\":\"Problem parameters\",\"width\":300},\"id\":\"3837\",\"type\":\"Column\"},{\"attributes\":{},\"id\":\"3760\",\"type\":\"DataRange1d\"},{\"attributes\":{\"children\":[{\"id\":\"3837\"},{\"id\":\"3845\"}],\"margin\":[0,0,0,0],\"name\":\"Row00281\"},\"id\":\"3836\",\"type\":\"Row\"},{\"attributes\":{\"axis_label\":\"$$\\\\color{white} 1.0x^1 + 0.0$$\",\"axis_label_standoff\":10,\"axis_label_text_color\":\"#FFFFFF\",\"axis_label_text_font\":\"Josefin Sans\",\"axis_label_text_font_size\":\"1.9em\",\"axis_label_text_font_style\":\"bold\",\"axis_line_alpha\":0.4,\"axis_line_color\":\"#E0E0E0\",\"coordinates\":null,\"formatter\":{\"id\":\"3797\"},\"group\":null,\"major_label_policy\":{\"id\":\"3798\"},\"major_label_text_color\":\"#E0E0E0\",\"major_label_text_font\":\"Josefin Sans\",\"major_label_text_font_size\":\"1.15em\",\"major_tick_line_alpha\":0.4,\"major_tick_line_color\":\"#E0E0E0\",\"minor_tick_line_alpha\":0.4,\"minor_tick_line_color\":\"#E0E0E0\",\"ticker\":{\"id\":\"3771\"}},\"id\":\"3770\",\"type\":\"LinearAxis\"},{\"attributes\":{\"margin\":[5,10,5,10],\"name\":\"\",\"text\":\"<b>Problem parameters</b>\"},\"id\":\"3838\",\"type\":\"Div\"},{\"attributes\":{},\"id\":\"3779\",\"type\":\"HelpTool\"},{\"attributes\":{\"labels\":[\"Ground truth\"],\"margin\":[5,10,5,10]},\"id\":\"3841\",\"type\":\"CheckboxGroup\"},{\"attributes\":{},\"id\":\"3771\",\"type\":\"BasicTicker\"},{\"attributes\":{\"labels\":[\"Error\"],\"margin\":[5,10,5,10]},\"id\":\"3842\",\"type\":\"CheckboxGroup\"},{\"attributes\":{\"end\":1000,\"margin\":[5,10,5,10],\"start\":10,\"title\":\"Number observations\",\"value\":100},\"id\":\"3839\",\"type\":\"Slider\"},{\"attributes\":{\"axis\":{\"id\":\"3770\"},\"coordinates\":null,\"dimension\":1,\"grid_line_alpha\":0.15,\"grid_line_color\":\"#E0E0E0\",\"group\":null,\"ticker\":null},\"id\":\"3773\",\"type\":\"Grid\"},{\"attributes\":{\"end\":5.0,\"margin\":[5,10,5,10],\"start\":-5.0,\"step\":0.1,\"title\":\"X 1\",\"value\":1.0},\"id\":\"3843\",\"type\":\"Slider\"},{\"attributes\":{},\"id\":\"3762\",\"type\":\"LinearScale\"},{\"attributes\":{\"end\":5.0,\"margin\":[5,10,5,10],\"start\":0.0,\"step\":0.1,\"title\":\"Noise level\",\"value\":0.1},\"id\":\"3840\",\"type\":\"Slider\"},{\"attributes\":{\"source\":{\"id\":\"3813\"}},\"id\":\"3818\",\"type\":\"CDSView\"},{\"attributes\":{\"axis\":{\"id\":\"3766\"},\"coordinates\":null,\"grid_line_alpha\":0.15,\"grid_line_color\":\"#E0E0E0\",\"group\":null,\"ticker\":null},\"id\":\"3769\",\"type\":\"Grid\"},{\"attributes\":{},\"id\":\"3803\",\"type\":\"Selection\"},{\"attributes\":{},\"id\":\"3775\",\"type\":\"WheelZoomTool\"},{\"attributes\":{},\"id\":\"3774\",\"type\":\"PanTool\"},{\"attributes\":{},\"id\":\"3828\",\"type\":\"UnionRenderers\"},{\"attributes\":{\"code\":\"def linear(\\n        coefficients: jnp.ndarray,\\n        n_observations: int = 100) -> [jnp.ndarray, jnp.ndarray]:\\n    x = jnp.linspace(0, 1, n_observations)\\n    y = coefficients[0] * x + coefficients[1]\\n    return x, \",\"filename\":\"\",\"height\":150,\"js_property_callbacks\":{\"change:disabled\":[{\"id\":\"3888\"}],\"change:readonly\":[{\"id\":\"3887\"}]},\"language\":\"python\",\"margin\":[5,10,5,10],\"sizing_mode\":\"stretch_both\",\"theme\":\"chaos\"},\"id\":\"3872\",\"type\":\"panel.models.ace.AcePlot\"},{\"attributes\":{\"overlay\":{\"id\":\"3780\"}},\"id\":\"3776\",\"type\":\"BoxZoomTool\"},{\"attributes\":{\"end\":5.0,\"margin\":[5,10,5,10],\"start\":-5.0,\"step\":0.1,\"title\":\"X 0\",\"value\":0.0},\"id\":\"3844\",\"type\":\"Slider\"},{\"attributes\":{},\"id\":\"3777\",\"type\":\"SaveTool\"},{\"attributes\":{},\"id\":\"3802\",\"type\":\"UnionRenderers\"},{\"attributes\":{},\"id\":\"3778\",\"type\":\"ResetTool\"},{\"attributes\":{\"children\":[{\"id\":\"3755\"}],\"margin\":[0,0,0,0],\"name\":\"Row00278\"},\"id\":\"3845\",\"type\":\"Row\"},{\"attributes\":{},\"id\":\"3829\",\"type\":\"Selection\"},{\"attributes\":{\"bottom_units\":\"screen\",\"coordinates\":null,\"fill_alpha\":0.5,\"fill_color\":\"lightgrey\",\"group\":null,\"left_units\":\"screen\",\"level\":\"overlay\",\"line_alpha\":1.0,\"line_color\":\"black\",\"line_dash\":[4,4],\"line_width\":2,\"right_units\":\"screen\",\"syncable\":false,\"top_units\":\"screen\"},\"id\":\"3780\",\"type\":\"BoxAnnotation\"},{\"attributes\":{\"fill_alpha\":{\"value\":0.2},\"fill_color\":{\"value\":\"midnightblue\"},\"hatch_alpha\":{\"value\":0.2},\"line_alpha\":{\"value\":0.2},\"line_color\":{\"value\":\"white\"},\"size\":{\"value\":10},\"x\":{\"field\":\"x\"},\"y\":{\"field\":\"y\"}},\"id\":\"3792\",\"type\":\"Circle\"},{\"attributes\":{\"client_comm_id\":\"f2c62daa853c4c33a94da35b755b0e0c\",\"comm_id\":\"189d4c08a0c34fb5b7bab58cf4a0a258\",\"plot_id\":\"3833\"},\"id\":\"3915\",\"type\":\"panel.models.comm_manager.CommManager\"},{\"attributes\":{\"fill_alpha\":{\"value\":0.5},\"fill_color\":{\"value\":\"red\"},\"hatch_alpha\":{\"value\":0.5},\"line_alpha\":{\"value\":0.5},\"line_color\":{\"value\":\"white\"},\"size\":{\"value\":10},\"x\":{\"field\":\"x\"},\"y\":{\"field\":\"y\"}},\"id\":\"3791\",\"type\":\"Circle\"},{\"attributes\":{\"margin\":[5,5,5,5],\"name\":\"HSpacer00285\",\"sizing_mode\":\"stretch_width\"},\"id\":\"3873\",\"type\":\"Spacer\"},{\"attributes\":{\"tools\":[{\"id\":\"3774\"},{\"id\":\"3775\"},{\"id\":\"3776\"},{\"id\":\"3777\"},{\"id\":\"3778\"},{\"id\":\"3779\"},{\"id\":\"3807\"},{\"id\":\"3811\"}]},\"id\":\"3781\",\"type\":\"Toolbar\"},{\"attributes\":{\"background_fill_alpha\":0.25,\"background_fill_color\":\"#505050\",\"border_line_alpha\":0.25,\"coordinates\":null,\"group\":null,\"items\":[{\"id\":\"3806\"},{\"id\":\"3832\"}],\"label_standoff\":8,\"label_text_color\":\"#E0E0E0\",\"label_text_font\":\"Josefin Sans\",\"label_text_font_size\":\"1.15em\",\"spacing\":8},\"id\":\"3805\",\"type\":\"Legend\"},{\"attributes\":{\"data\":{\"x\":{\"__ndarray__\":\"AAAAALV+JTy1fqU8ED74PLV+JT1i3k49ED54Pd7OkD21fqU9jC66PWLezj05juM9ED74PfN2Bj7ezhA+yiYbPrV+JT6g1i8+jC46PneGRD5i3k4+TjZZPjmOYz4k5m0+ED54Pv1KgT7zdoY+6aKLPt7OkD7U+pU+yiabPr9SoD61fqU+q6qqPqDWrz6WArU+jC66PoFavz53hsQ+bbLJPmLezj5YCtQ+TjbZPkNi3j45juM+L7roPiTm7T4aEvM+ED74PgVq/T79SgE/+OADP/N2Bj/uDAk/6aILP+Q4Dj/ezhA/2WQTP9T6FT/PkBg/yiYbP8W8HT+/UiA/uugiP7V+JT+wFCg/q6oqP6VALT+g1i8/m2wyP5YCNT+RmDc/jC46P4bEPD+BWj8/fPBBP3eGRD9yHEc/bbJJP2dITD9i3k4/XXRRP1gKVD9ToFY/TjZZP0jMWz9DYl4/PvhgPzmOYz80JGY/L7poPylQaz8k5m0/H3xwPxoScz8VqHU/ED54PwrUej8Fan0/AACAPw==\",\"dtype\":\"float32\",\"order\":\"little\",\"shape\":[100]},\"y\":{\"__ndarray__\":\"R2wsvdqiGL16vzi9LliyPeC3VLvovuw9QBJhuzgZjTxE/Hw9uBMEPcfYAz6wd808Mm4APnbe4z2E1gE+Yo40PjjMED55tNg9EkL2PcQRYj50rwc+nSeCPr+zTT5JbUM+cME3PnVgfj7mm7E+rRi9PnrdeD5Ph5Y+WQqnPqUuuT7kUoA+2c92Pr090T7DecA+YaqZPjSm8T6iDeU+7d+wPnbwqD6mff4+rTC4PnpPrj4u2bw+QPLlPrJRvj6QJdk+e9T9PhhqzD5ebRk/1X8EP8YqAz+Ckv8+3sjmPtCpJz9uwv4+xKoWP25ZHj+fzSI/AwUrP9kHND+93DQ/tlk2Px09Ij+Lnj4/HNIcPyO8QT9S2kA/FKYgP45UHj95BEA/DbwgP/JQLj/RCkA/vi9aPwtjTT/ywDo/y0dHPwOCNj/ugEI/z19JP/I5YD9vqk4/lkxPP5djcD8ioW8/CXpqP93Pbj+zglw/vrlQP+QXej+i41U/cIiEPxHLXT8nW14/e2yGP/zMgT9OxnI/PPZ8Pw==\",\"dtype\":\"float32\",\"order\":\"little\",\"shape\":[100]}},\"selected\":{\"id\":\"3803\"},\"selection_policy\":{\"id\":\"3802\"}},\"id\":\"3788\",\"type\":\"ColumnDataSource\"},{\"attributes\":{\"coordinates\":null,\"data_source\":{\"id\":\"3788\"},\"glyph\":{\"id\":\"3789\"},\"group\":null,\"hover_glyph\":{\"id\":\"3791\"},\"muted_glyph\":{\"id\":\"3792\"},\"nonselection_glyph\":{\"id\":\"3810\"},\"selection_glyph\":{\"id\":\"3809\"},\"view\":{\"id\":\"3794\"}},\"id\":\"3793\",\"type\":\"GlyphRenderer\"},{\"attributes\":{\"source\":{\"id\":\"3788\"}},\"id\":\"3794\",\"type\":\"CDSView\"},{\"attributes\":{\"label\":{\"value\":\"Observations\"},\"renderers\":[{\"id\":\"3793\"}]},\"id\":\"3806\",\"type\":\"LegendItem\"},{\"attributes\":{\"bottom_units\":\"screen\",\"coordinates\":null,\"fill_alpha\":0.5,\"fill_color\":\"lightgrey\",\"group\":null,\"left_units\":\"screen\",\"level\":\"overlay\",\"line_alpha\":1.0,\"line_color\":\"black\",\"line_dash\":[4,4],\"line_width\":2,\"right_units\":\"screen\",\"syncable\":false,\"top_units\":\"screen\"},\"id\":\"3831\",\"type\":\"BoxAnnotation\"},{\"attributes\":{\"data\":{\"x\":{\"__ndarray__\":\"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\",\"dtype\":\"float64\",\"order\":\"little\",\"shape\":[200]},\"y\":{\"__ndarray__\":\"ylKPvFKRSrwi+uy7PKMJu8itRju0vwU89tNZPBz0ljw8/sA8XgjrPD+JCj1Qjh89YJM0PW+YST2BnV49kaJzPdBThD1Y1o494liZPWrboz3yXa49euC4PQJjwz2K5c09EmjYPZzq4j0ibe09rO/3PRo5AT5eegY+orsLPub8ED4qPhY+b38bPrLAID73ASY+O0MrPn6EMD7DxTU+Bgc7PktIQD6PiUU+08pKPhcMUD5cTVU+n45aPuTPXz4oEWU+bFJqPq+Tbz711HQ+ORZ6PntXfz5gTII+Au2EPqSNhz5GLoo+586MPopvjz4sEJI+zrCUPnBRlz4S8pk+tJKcPlYznz7406E+m3SkPj0Vpz7etak+gFasPiP3rj7Fl7E+Zzi0PgjZtj6qebk+TRq8Pu+6vj6RW8E+MvzDPtWcxj53Pck+Gd7LPrt+zj5eH9E+/7/TPqFg1j5DAdk+5qHbPohC3j4p4+A+y4PjPm0k5j4Qxeg+smXrPlQG7j71pvA+mEfzPjro9T7biPg+fSn7PiHK/T5hNQA/s4UBPwTWAj9UJgQ/pnYFP/fGBj9IFwg/mWcJP+m3Cj87CAw/jFgNP92oDj8u+Q8/fkkRP9CZEj8h6hM/cjoVP8OKFj8U2xc/ZSsZP7Z7Gj8HzBs/WBwdP6lsHj/6vB8/Sw0hP5xdIj/trSM/P/4kP49OJj/gnic/Mu8oP4I/Kj/Ujys/JOAsP3UwLj/HgC8/F9EwP2khMj+6cTM/CsI0P1wSNj+sYjc//rI4P08DOj+fUzs/8aM8P0H0PT+TRD8/5JRAPzTlQT+GNUM/14VEPyjWRT95Jkc/yXZIPxvHST9sF0s/vWdMPw64TT9gCE8/sFhQPwGpUT9S+VI/o0lUP/WZVT9F6lY/ljpYP+eKWT8421o/iitcP9p7XT8rzF4/fRxgP81sYT8fvWI/bw1kP8BdZT8SrmY/Yv5nP7ROaT8En2o/Ve9rP6c/bT/3j24/SeBvP5owcT/rgHI/PNFzP4whdT/ecXY/L8J3P4ASeT/RYno/IrN7P3IDfT/EU34/FKR/PzN6gD8=\",\"dtype\":\"float32\",\"order\":\"little\",\"shape\":[200]}},\"selected\":{\"id\":\"3829\"},\"selection_policy\":{\"id\":\"3828\"}},\"id\":\"3813\",\"type\":\"ColumnDataSource\"},{\"attributes\":{\"fill_alpha\":{\"value\":0.25},\"fill_color\":{\"value\":\"midnightblue\"},\"hatch_alpha\":{\"value\":0.25},\"line_alpha\":{\"value\":0.25},\"line_color\":{\"value\":\"white\"},\"size\":{\"value\":10},\"x\":{\"field\":\"x\"},\"y\":{\"field\":\"y\"}},\"id\":\"3789\",\"type\":\"Circle\"},{\"attributes\":{\"line_alpha\":0.7,\"line_color\":\"red\",\"line_width\":4,\"x\":{\"field\":\"x\"},\"y\":{\"field\":\"y\"}},\"id\":\"3814\",\"type\":\"Line\"},{\"attributes\":{},\"id\":\"3797\",\"type\":\"BasicTickFormatter\"}],\"root_ids\":[\"3833\",\"3915\"]},\"title\":\"Bokeh Application\",\"version\":\"2.4.3\"}};\n",
       "    var render_items = [{\"docid\":\"a48413ab-96f2-4484-9b9d-ce5492d748c2\",\"root_ids\":[\"3833\"],\"roots\":{\"3833\":\"7b2f2aec-e109-4ff9-bf87-e81392a84af0\"}}];\n",
       "    root.Bokeh.embed.embed_items_notebook(docs_json, render_items);\n",
       "    for (const render_item of render_items) {\n",
       "      for (const root_id of render_item.root_ids) {\n",
       "\tconst id_el = document.getElementById(root_id)\n",
       "\tif (id_el.children.length && (id_el.children[0].className === 'bk-root')) {\n",
       "\t  const root_el = id_el.children[0]\n",
       "\t  root_el.id = root_el.id + '-rendered'\n",
       "\t}\n",
       "      }\n",
       "    }\n",
       "  }\n",
       "  if (root.Bokeh !== undefined && root.Bokeh.Panel !== undefined) {\n",
       "    embed_document(root);\n",
       "  } else {\n",
       "    var attempts = 0;\n",
       "    var timer = setInterval(function(root) {\n",
       "      if (root.Bokeh !== undefined && root.Bokeh.Panel !== undefined) {\n",
       "        clearInterval(timer);\n",
       "        embed_document(root);\n",
       "      } else if (document.readyState == \"complete\") {\n",
       "        attempts++;\n",
       "        if (attempts > 200) {\n",
       "          clearInterval(timer);\n",
       "          console.log(\"Bokeh: ERROR: Unable to run BokehJS code because BokehJS library is missing\");\n",
       "        }\n",
       "      }\n",
       "    }, 25, root)\n",
       "  }\n",
       "})(window);</script>"
      ],
      "text/plain": [
       "Row\n",
       "    [0] HSpacer()\n",
       "    [1] Column\n",
       "        [0] Row\n",
       "            [0] Param(RegressionLinearSolver, name='Problem parameters', widgets={})\n",
       "            [1] ParamMethod(method, _pane=Bokeh)\n",
       "        [1] Ace(height=150, language='python', sizing_mode='stretch_both', theme='chaos', value='def linear(\\n        coef...)\n",
       "    [2] HSpacer()"
      ]
     },
     "execution_count": 30,
     "metadata": {
      "application/vnd.holoviews_exec.v0+json": {
       "id": "3833"
      }
     },
     "output_type": "execute_result"
    }
   ],
   "source": [
    "from cml.tasks import RegressionLinearSolver\n",
    "explorer = RegressionLinearSolver()\n",
    "global key\n",
    "key = random.PRNGKey(23)\n",
    "def solve(x, y):\n",
    "    global key\n",
    "    key_gd, key = random.split(key, 2)\n",
    "    w_1, w_0, loss_history = gradient_descent(key_gd, x, y)\n",
    "    x_predict = np.linspace(np.min(x), np.max(x), 200)\n",
    "    y_model = w_1 * x_predict + w_0\n",
    "    return np.array(x_predict), np.array(y_model) #np.array(jnp.zeros(y_model.shape))\n",
    "\n",
    "explorer.solve = solve\n",
    "explorer.render()"
   ]
  },
  {
   "cell_type": "markdown",
   "metadata": {},
   "source": [
    "<div class=\"alert alert-success\" markdown=\"1\" style=\"color:white; background-color: #192841; border-color: #779ecb\">\n",
    "\n",
    "> ### Going further\n",
    "\n",
    "> You are encouraged to experiment in a similar way as outlined for NumPy with different learning rates, maximum number of iterations, and regularization techniques, as well as compare the performance (both accuracy and speed) of the implemented algorithms with `scikit-learn` built-in linear regression functions.\n",
    "\n",
    "</div>"
   ]
  },
  {
   "cell_type": "markdown",
   "metadata": {},
   "source": [
    "<a id=\"capacity\"></a>\n",
    "## Understanding model capacity and selection\n",
    "\n",
    "\n",
    "In real-life problem, we are aiming to find the parameters of a model, but we do not really know what is the _real_ function underlying this process. So what we can decide to select _any_ function of _any_ **capacity** (complexity of the function). One of the problem with that, is that if we have a too simple function, it will _underfit_ (it is not complex enough for our observations). On the opposite end, if we have a function which is too complex, it might be able to _fit through all training points exactly_ ... even though there is noise in our observations ! This is examplified in the following\n",
    "\n",
    "<img src=\"images/01_soa_function_families.png\" align=\"center\"/>\n",
    "\n",
    "We can observe this idea and play with it directly by trying to find a function approximating our previous observations with a polynomial function chosen to have a degree inside \\([1,2,8]\\).\n"
   ]
  },
  {
   "cell_type": "markdown",
   "metadata": {},
   "source": [
    "\n",
    "Depending on the _capacity_ of the model, what we can observe is that\n",
    "\n",
    "- `capacity too low   -> underfitting   : prediction variance >  noise variance`\n",
    "- `adequate capacity  -> good fit       : prediction variance == noise variance`\n",
    "- `capacity too high  -> overfitting    : prediction variance <  noise variance`\n"
   ]
  },
  {
   "cell_type": "markdown",
   "metadata": {},
   "source": [
    "A similar example can be given for a classification problem in two dimensions as follows\n",
    "\n",
    "<img src=\"images/01_underfit.png\" align=\"center\"/>\n"
   ]
  },
  {
   "cell_type": "markdown",
   "metadata": {},
   "source": [
    "# Exercises\n",
    "\n",
    "In the following, we define the exercises that you should fill for this session. These go further than what we have seen together in the course, but they are based on the exact same principles, simply with slightly more complex definitions. We provide an overall guideline for successfully implementing each of the exercise."
   ]
  },
  {
   "cell_type": "markdown",
   "metadata": {},
   "source": [
    "## Exercise 1 - Linear classification"
   ]
  },
  {
   "cell_type": "markdown",
   "metadata": {},
   "source": [
    "<div class=\"alert alert-success\" markdown=\"1\" style=\"color:white; background-color: #013220; border-color: #03C03C\">\n",
    "\n",
    "> In this exercise, we will implement linear classification using NumPy and JAX. The goal of this exercise is to gain a better understanding of how linear classification works and how to implement it ourselves using our two first libraries of choice, namely NumPy and JAX. To complete this exercise, you will need to have a basic understanding of NumPy and JAX. You can use the resources provided in the previous exercises to learn more about these libraries.\n",
    "\n",
    "We help you out by first defining a simple linear classification problem to solve\n",
    "\n",
    "</div>"
   ]
  },
  {
   "cell_type": "code",
   "execution_count": 46,
   "metadata": {
    "ExecuteTime": {
     "end_time": "2023-05-01T13:11:16.620731Z",
     "start_time": "2023-05-01T13:11:16.574097Z"
    }
   },
   "outputs": [],
   "source": [
    "import numpy as np\n",
    "from sklearn.datasets import make_blobs\n",
    "from cml.plot import scatter_classes\n",
    "# Properties of the problem\n",
    "n_observations = 200\n",
    "noise = 0.2\n",
    "c1_center = [-2, -1]\n",
    "c2_center = [2, 1]\n",
    "# Create points\n",
    "x_coords, y_class = make_blobs(n_samples=n_observations, centers=[c1_center, c2_center], n_features=2, cluster_std=0.55)\n",
    "x_data = x_coords + (noise * np.random.randn(n_observations, 2))\n",
    "x_data = x_coords\n",
    "y_classes = y_class\n",
    "y_classes[y_classes == 0] = -1\n"
   ]
  },
  {
   "cell_type": "markdown",
   "metadata": {},
   "source": [
    "<div class=\"alert alert-success\" markdown=\"1\" style=\"color:white; background-color: #013220; border-color: #03C03C\">\n",
    "\n",
    "> ### Question 1.1 - Implement linear classification with NumPy\n",
    "\n",
    "> 1. Check the training data with two classes that are linearly separable.\n",
    "> 2. Initialize weights and bias.\n",
    "> 3. Implement the forward pass of the linear classifier.\n",
    "> 4. Implement the hinge loss for classification.\n",
    "> 5. Derive the gradients (backward pass) of the linear classifier.\n",
    "> 6. Implement gradient descent to optimize the weights and bias.\n",
    "\n",
    "</div>"
   ]
  },
  {
   "cell_type": "code",
   "execution_count": 207,
   "metadata": {
    "ExecuteTime": {
     "end_time": "2023-05-01T13:12:07.725854Z",
     "start_time": "2023-05-01T13:12:07.663250Z"
    }
   },
   "outputs": [
    {
     "data": {},
     "metadata": {},
     "output_type": "display_data"
    },
    {
     "data": {
      "application/vnd.holoviews_exec.v0+json": "",
      "text/html": [
       "<div id='29661'>\n",
       "  <div class=\"bk-root\" id=\"2ca76b2b-2f96-437f-9c60-09e6d3f1ca98\" data-root-id=\"29661\"></div>\n",
       "</div>\n",
       "<script type=\"application/javascript\">(function(root) {\n",
       "  function embed_document(root) {\n",
       "    var docs_json = {\"b52acee5-6edb-48c4-a854-6dbeef6bdbc4\":{\"defs\":[{\"extends\":null,\"module\":null,\"name\":\"ReactiveHTML1\",\"overrides\":[],\"properties\":[]},{\"extends\":null,\"module\":null,\"name\":\"FlexBox1\",\"overrides\":[],\"properties\":[{\"default\":\"flex-start\",\"kind\":null,\"name\":\"align_content\"},{\"default\":\"flex-start\",\"kind\":null,\"name\":\"align_items\"},{\"default\":\"row\",\"kind\":null,\"name\":\"flex_direction\"},{\"default\":\"wrap\",\"kind\":null,\"name\":\"flex_wrap\"},{\"default\":\"flex-start\",\"kind\":null,\"name\":\"justify_content\"}]},{\"extends\":null,\"module\":null,\"name\":\"GridStack1\",\"overrides\":[],\"properties\":[{\"default\":\"warn\",\"kind\":null,\"name\":\"mode\"},{\"default\":null,\"kind\":null,\"name\":\"ncols\"},{\"default\":null,\"kind\":null,\"name\":\"nrows\"},{\"default\":true,\"kind\":null,\"name\":\"allow_resize\"},{\"default\":true,\"kind\":null,\"name\":\"allow_drag\"},{\"default\":[],\"kind\":null,\"name\":\"state\"}]},{\"extends\":null,\"module\":null,\"name\":\"click1\",\"overrides\":[],\"properties\":[{\"default\":\"\",\"kind\":null,\"name\":\"terminal_output\"},{\"default\":\"\",\"kind\":null,\"name\":\"debug_name\"},{\"default\":0,\"kind\":null,\"name\":\"clears\"}]},{\"extends\":null,\"module\":null,\"name\":\"NotificationAreaBase1\",\"overrides\":[],\"properties\":[{\"default\":\"bottom-right\",\"kind\":null,\"name\":\"position\"},{\"default\":0,\"kind\":null,\"name\":\"_clear\"}]},{\"extends\":null,\"module\":null,\"name\":\"NotificationArea1\",\"overrides\":[],\"properties\":[{\"default\":[],\"kind\":null,\"name\":\"notifications\"},{\"default\":\"bottom-right\",\"kind\":null,\"name\":\"position\"},{\"default\":0,\"kind\":null,\"name\":\"_clear\"},{\"default\":[{\"background\":\"#ffc107\",\"icon\":{\"className\":\"fas fa-exclamation-triangle\",\"color\":\"white\",\"tagName\":\"i\"},\"type\":\"warning\"},{\"background\":\"#007bff\",\"icon\":{\"className\":\"fas fa-info-circle\",\"color\":\"white\",\"tagName\":\"i\"},\"type\":\"info\"}],\"kind\":null,\"name\":\"types\"}]},{\"extends\":null,\"module\":null,\"name\":\"Notification\",\"overrides\":[],\"properties\":[{\"default\":null,\"kind\":null,\"name\":\"background\"},{\"default\":3000,\"kind\":null,\"name\":\"duration\"},{\"default\":null,\"kind\":null,\"name\":\"icon\"},{\"default\":\"\",\"kind\":null,\"name\":\"message\"},{\"default\":null,\"kind\":null,\"name\":\"notification_type\"},{\"default\":false,\"kind\":null,\"name\":\"_destroyed\"}]},{\"extends\":null,\"module\":null,\"name\":\"TemplateActions1\",\"overrides\":[],\"properties\":[{\"default\":0,\"kind\":null,\"name\":\"open_modal\"},{\"default\":0,\"kind\":null,\"name\":\"close_modal\"}]},{\"extends\":null,\"module\":null,\"name\":\"MaterialTemplateActions1\",\"overrides\":[],\"properties\":[{\"default\":0,\"kind\":null,\"name\":\"open_modal\"},{\"default\":0,\"kind\":null,\"name\":\"close_modal\"}]}],\"roots\":{\"references\":[{\"attributes\":{},\"id\":\"29633\",\"type\":\"AllLabels\"},{\"attributes\":{},\"id\":\"29593\",\"type\":\"DataRange1d\"},{\"attributes\":{\"coordinates\":null,\"group\":null,\"text\":\"Linear classification problem\",\"text_color\":\"#E0E0E0\",\"text_font\":\"Josefin Sans\",\"text_font_size\":\"2.1em\"},\"id\":\"29591\",\"type\":\"Title\"},{\"attributes\":{},\"id\":\"29609\",\"type\":\"PanTool\"},{\"attributes\":{},\"id\":\"29632\",\"type\":\"BasicTickFormatter\"},{\"attributes\":{\"source\":{\"id\":\"29623\"}},\"id\":\"29629\",\"type\":\"CDSView\"},{\"attributes\":{},\"id\":\"29610\",\"type\":\"WheelZoomTool\"},{\"attributes\":{\"line_alpha\":0.1,\"line_color\":\"red\",\"line_width\":6,\"x\":{\"field\":\"x\"},\"y\":{\"field\":\"y\"}},\"id\":\"29644\",\"type\":\"Line\"},{\"attributes\":{},\"id\":\"29602\",\"type\":\"BasicTicker\"},{\"attributes\":{\"label\":{\"value\":\"Learned model\"},\"renderers\":[{\"id\":\"29646\"}]},\"id\":\"29660\",\"type\":\"LegendItem\"},{\"attributes\":{\"axis_label\":\"y\",\"axis_label_standoff\":10,\"axis_label_text_color\":\"#FFFFFF\",\"axis_label_text_font\":\"Josefin Sans\",\"axis_label_text_font_size\":\"1.9em\",\"axis_label_text_font_style\":\"bold\",\"axis_line_alpha\":0.4,\"axis_line_color\":\"#E0E0E0\",\"coordinates\":null,\"formatter\":{\"id\":\"29632\"},\"group\":null,\"major_label_policy\":{\"id\":\"29633\"},\"major_label_text_color\":\"#E0E0E0\",\"major_label_text_font\":\"Josefin Sans\",\"major_label_text_font_size\":\"1.15em\",\"major_tick_line_alpha\":0.4,\"major_tick_line_color\":\"#E0E0E0\",\"minor_tick_line_alpha\":0.4,\"minor_tick_line_color\":\"#E0E0E0\",\"ticker\":{\"id\":\"29606\"}},\"id\":\"29605\",\"type\":\"LinearAxis\"},{\"attributes\":{\"overlay\":{\"id\":\"29615\"}},\"id\":\"29611\",\"type\":\"BoxZoomTool\"},{\"attributes\":{},\"id\":\"29636\",\"type\":\"AllLabels\"},{\"attributes\":{},\"id\":\"29638\",\"type\":\"Selection\"},{\"attributes\":{\"axis_label\":\"x\",\"axis_label_standoff\":10,\"axis_label_text_color\":\"#FFFFFF\",\"axis_label_text_font\":\"Josefin Sans\",\"axis_label_text_font_size\":\"1.9em\",\"axis_label_text_font_style\":\"bold\",\"axis_line_alpha\":0.4,\"axis_line_color\":\"#E0E0E0\",\"coordinates\":null,\"formatter\":{\"id\":\"29635\"},\"group\":null,\"major_label_policy\":{\"id\":\"29636\"},\"major_label_text_color\":\"#E0E0E0\",\"major_label_text_font\":\"Josefin Sans\",\"major_label_text_font_size\":\"1.15em\",\"major_tick_line_alpha\":0.4,\"major_tick_line_color\":\"#E0E0E0\",\"minor_tick_line_alpha\":0.4,\"minor_tick_line_color\":\"#E0E0E0\",\"ticker\":{\"id\":\"29602\"}},\"id\":\"29601\",\"type\":\"LinearAxis\"},{\"attributes\":{},\"id\":\"29612\",\"type\":\"SaveTool\"},{\"attributes\":{\"fill_alpha\":{\"value\":0.1},\"fill_color\":{\"field\":\"color\"},\"hatch_alpha\":{\"value\":0.1},\"hatch_color\":{\"field\":\"color\"},\"line_alpha\":{\"value\":0.1},\"line_color\":{\"value\":\"white\"},\"size\":{\"value\":10},\"x\":{\"field\":\"x\"},\"y\":{\"field\":\"y\"}},\"id\":\"29626\",\"type\":\"Circle\"},{\"attributes\":{},\"id\":\"29597\",\"type\":\"LinearScale\"},{\"attributes\":{},\"id\":\"29614\",\"type\":\"HelpTool\"},{\"attributes\":{\"data\":{\"color\":[\"firebrick\",\"chocolate\",\"firebrick\",\"firebrick\",\"chocolate\",\"chocolate\",\"firebrick\",\"firebrick\",\"chocolate\",\"chocolate\",\"firebrick\",\"firebrick\",\"firebrick\",\"firebrick\",\"chocolate\",\"firebrick\",\"chocolate\",\"chocolate\",\"chocolate\",\"firebrick\",\"firebrick\",\"firebrick\",\"chocolate\",\"chocolate\",\"chocolate\",\"firebrick\",\"chocolate\",\"firebrick\",\"firebrick\",\"chocolate\",\"firebrick\",\"chocolate\",\"chocolate\",\"chocolate\",\"firebrick\",\"chocolate\",\"firebrick\",\"firebrick\",\"chocolate\",\"chocolate\",\"firebrick\",\"firebrick\",\"firebrick\",\"chocolate\",\"firebrick\",\"firebrick\",\"chocolate\",\"chocolate\",\"firebrick\",\"firebrick\",\"firebrick\",\"chocolate\",\"firebrick\",\"chocolate\",\"chocolate\",\"chocolate\",\"chocolate\",\"chocolate\",\"chocolate\",\"firebrick\",\"firebrick\",\"chocolate\",\"chocolate\",\"chocolate\",\"firebrick\",\"chocolate\",\"chocolate\",\"chocolate\",\"chocolate\",\"chocolate\",\"chocolate\",\"chocolate\",\"chocolate\",\"chocolate\",\"chocolate\",\"firebrick\",\"firebrick\",\"chocolate\",\"chocolate\",\"chocolate\",\"chocolate\",\"firebrick\",\"chocolate\",\"chocolate\",\"chocolate\",\"firebrick\",\"firebrick\",\"firebrick\",\"chocolate\",\"firebrick\",\"firebrick\",\"chocolate\",\"chocolate\",\"chocolate\",\"chocolate\",\"chocolate\",\"chocolate\",\"chocolate\",\"firebrick\",\"chocolate\",\"firebrick\",\"firebrick\",\"firebrick\",\"firebrick\",\"firebrick\",\"chocolate\",\"firebrick\",\"firebrick\",\"chocolate\",\"firebrick\",\"chocolate\",\"chocolate\",\"firebrick\",\"firebrick\",\"firebrick\",\"firebrick\",\"firebrick\",\"chocolate\",\"firebrick\",\"firebrick\",\"firebrick\",\"chocolate\",\"firebrick\",\"firebrick\",\"chocolate\",\"chocolate\",\"chocolate\",\"chocolate\",\"firebrick\",\"chocolate\",\"chocolate\",\"chocolate\",\"chocolate\",\"firebrick\",\"chocolate\",\"chocolate\",\"firebrick\",\"firebrick\",\"chocolate\",\"chocolate\",\"firebrick\",\"firebrick\",\"firebrick\",\"chocolate\",\"chocolate\",\"firebrick\",\"firebrick\",\"chocolate\",\"firebrick\",\"firebrick\",\"firebrick\",\"firebrick\",\"chocolate\",\"chocolate\",\"firebrick\",\"firebrick\",\"chocolate\",\"chocolate\",\"chocolate\",\"firebrick\",\"chocolate\",\"chocolate\",\"chocolate\",\"firebrick\",\"firebrick\",\"chocolate\",\"chocolate\",\"chocolate\",\"chocolate\",\"chocolate\",\"firebrick\",\"firebrick\",\"firebrick\",\"firebrick\",\"chocolate\",\"firebrick\",\"firebrick\",\"firebrick\",\"firebrick\",\"firebrick\",\"firebrick\",\"firebrick\",\"chocolate\",\"firebrick\",\"firebrick\",\"firebrick\",\"firebrick\",\"firebrick\",\"chocolate\",\"firebrick\",\"chocolate\",\"firebrick\",\"chocolate\",\"firebrick\",\"firebrick\",\"firebrick\",\"firebrick\",\"firebrick\",\"chocolate\",\"chocolate\"],\"label\":[\"$$c_2$$\",\"$$c_5$$\",\"$$c_2$$\",\"$$c_2$$\",\"$$c_5$$\",\"$$c_5$$\",\"$$c_2$$\",\"$$c_2$$\",\"$$c_5$$\",\"$$c_5$$\",\"$$c_2$$\",\"$$c_2$$\",\"$$c_2$$\",\"$$c_2$$\",\"$$c_5$$\",\"$$c_2$$\",\"$$c_5$$\",\"$$c_5$$\",\"$$c_5$$\",\"$$c_2$$\",\"$$c_2$$\",\"$$c_2$$\",\"$$c_5$$\",\"$$c_5$$\",\"$$c_5$$\",\"$$c_2$$\",\"$$c_5$$\",\"$$c_2$$\",\"$$c_2$$\",\"$$c_5$$\",\"$$c_2$$\",\"$$c_5$$\",\"$$c_5$$\",\"$$c_5$$\",\"$$c_2$$\",\"$$c_5$$\",\"$$c_2$$\",\"$$c_2$$\",\"$$c_5$$\",\"$$c_5$$\",\"$$c_2$$\",\"$$c_2$$\",\"$$c_2$$\",\"$$c_5$$\",\"$$c_2$$\",\"$$c_2$$\",\"$$c_5$$\",\"$$c_5$$\",\"$$c_2$$\",\"$$c_2$$\",\"$$c_2$$\",\"$$c_5$$\",\"$$c_2$$\",\"$$c_5$$\",\"$$c_5$$\",\"$$c_5$$\",\"$$c_5$$\",\"$$c_5$$\",\"$$c_5$$\",\"$$c_2$$\",\"$$c_2$$\",\"$$c_5$$\",\"$$c_5$$\",\"$$c_5$$\",\"$$c_2$$\",\"$$c_5$$\",\"$$c_5$$\",\"$$c_5$$\",\"$$c_5$$\",\"$$c_5$$\",\"$$c_5$$\",\"$$c_5$$\",\"$$c_5$$\",\"$$c_5$$\",\"$$c_5$$\",\"$$c_2$$\",\"$$c_2$$\",\"$$c_5$$\",\"$$c_5$$\",\"$$c_5$$\",\"$$c_5$$\",\"$$c_2$$\",\"$$c_5$$\",\"$$c_5$$\",\"$$c_5$$\",\"$$c_2$$\",\"$$c_2$$\",\"$$c_2$$\",\"$$c_5$$\",\"$$c_2$$\",\"$$c_2$$\",\"$$c_5$$\",\"$$c_5$$\",\"$$c_5$$\",\"$$c_5$$\",\"$$c_5$$\",\"$$c_5$$\",\"$$c_5$$\",\"$$c_2$$\",\"$$c_5$$\",\"$$c_2$$\",\"$$c_2$$\",\"$$c_2$$\",\"$$c_2$$\",\"$$c_2$$\",\"$$c_5$$\",\"$$c_2$$\",\"$$c_2$$\",\"$$c_5$$\",\"$$c_2$$\",\"$$c_5$$\",\"$$c_5$$\",\"$$c_2$$\",\"$$c_2$$\",\"$$c_2$$\",\"$$c_2$$\",\"$$c_2$$\",\"$$c_5$$\",\"$$c_2$$\",\"$$c_2$$\",\"$$c_2$$\",\"$$c_5$$\",\"$$c_2$$\",\"$$c_2$$\",\"$$c_5$$\",\"$$c_5$$\",\"$$c_5$$\",\"$$c_5$$\",\"$$c_2$$\",\"$$c_5$$\",\"$$c_5$$\",\"$$c_5$$\",\"$$c_5$$\",\"$$c_2$$\",\"$$c_5$$\",\"$$c_5$$\",\"$$c_2$$\",\"$$c_2$$\",\"$$c_5$$\",\"$$c_5$$\",\"$$c_2$$\",\"$$c_2$$\",\"$$c_2$$\",\"$$c_5$$\",\"$$c_5$$\",\"$$c_2$$\",\"$$c_2$$\",\"$$c_5$$\",\"$$c_2$$\",\"$$c_2$$\",\"$$c_2$$\",\"$$c_2$$\",\"$$c_5$$\",\"$$c_5$$\",\"$$c_2$$\",\"$$c_2$$\",\"$$c_5$$\",\"$$c_5$$\",\"$$c_5$$\",\"$$c_2$$\",\"$$c_5$$\",\"$$c_5$$\",\"$$c_5$$\",\"$$c_2$$\",\"$$c_2$$\",\"$$c_5$$\",\"$$c_5$$\",\"$$c_5$$\",\"$$c_5$$\",\"$$c_5$$\",\"$$c_2$$\",\"$$c_2$$\",\"$$c_2$$\",\"$$c_2$$\",\"$$c_5$$\",\"$$c_2$$\",\"$$c_2$$\",\"$$c_2$$\",\"$$c_2$$\",\"$$c_2$$\",\"$$c_2$$\",\"$$c_2$$\",\"$$c_5$$\",\"$$c_2$$\",\"$$c_2$$\",\"$$c_2$$\",\"$$c_2$$\",\"$$c_2$$\",\"$$c_5$$\",\"$$c_2$$\",\"$$c_5$$\",\"$$c_2$$\",\"$$c_5$$\",\"$$c_2$$\",\"$$c_2$$\",\"$$c_2$$\",\"$$c_2$$\",\"$$c_2$$\",\"$$c_5$$\",\"$$c_5$$\"],\"x\":{\"__ndarray__\":\"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\",\"dtype\":\"float64\",\"order\":\"little\",\"shape\":[200]},\"y\":{\"__ndarray__\":\"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\",\"dtype\":\"float64\",\"order\":\"little\",\"shape\":[200]}},\"selected\":{\"id\":\"29638\"},\"selection_policy\":{\"id\":\"29637\"}},\"id\":\"29623\",\"type\":\"ColumnDataSource\"},{\"attributes\":{\"axis\":{\"id\":\"29605\"},\"coordinates\":null,\"dimension\":1,\"grid_line_alpha\":0.15,\"grid_line_color\":\"#E0E0E0\",\"group\":null,\"ticker\":null},\"id\":\"29608\",\"type\":\"Grid\"},{\"attributes\":{\"data\":{\"x\":{\"__ndarray__\":\"AAAAAAAAEMAFav1KgVoPwArU+pUCtQ7AED744IMPDsAVqPUrBWoNwBoS83aGxAzAH3zwwQcfDMAk5u0MiXkLwClQ61cK1ArALrrooosuCsA0JObtDIkJwDmO4ziO4wjAPvjggw8+CMBDYt7OkJgHwEjM2xkS8wbATjbZZJNNBsBSoNavFKgFwFgK1PqVAgXAXXTRRRddBMBi3s6QmLcDwGdIzNsZEgPAbLLJJptsAsByHMdxHMcBwHaGxLydIQHAfPDBBx98AMACtX6lQK3/vwyJeTtDYv6/Fl100UUX/b8gMW9nSMz7vywFav1Kgfq/Ntlkk002+b9ArV8pUOv3v0qBWr9SoPa/VFVVVVVV9b9eKVDrVwr0v2j9SoFav/K/dNFFF1108b9+pUCtXynwvxDzdobEvO2/JJtssskm6784Q2LezpDov0zrVwrU+uW/ZJNNNtlk4794O0Ni3s7gvxjHcRzHcdy/QBdddNFF179oZ0jM2xnSvyBvZ0jM28m/AB988MEHv79Av1Kg1q+kv4C/UqDWr6Q/QB988MEHvz9Ab2dIzNvJP3BnSMzbGdI/UBdddNFF1z8gx3Ecx3HcP4A7Q2LezuA/aJNNNtlk4z9Q61cK1PrlP0BDYt7OkOg/KJtssskm6z8Y83aGxLztP4ClQK1fKfA/eNFFF1108T9s/UqBWr/yP2ApUOtXCvQ/WFVVVVVV9T9MgVq/UqD2P0StXylQ6/c/ONlkk002+T8wBWr9SoH6PyQxb2dIzPs/GF100UUX/T8QiXk7Q2L+PwS1fqVArf8/fvDBBx98AEB4hsS8nSEBQHIcx3EcxwFAbrLJJptsAkBoSMzbGRIDQGTezpCYtwNAXnTRRRddBEBaCtT6lQIFQFSg1q8UqAVATjbZZJNNBkBKzNsZEvMGQERi3s6QmAdAQPjggw8+CEA6juM4juMIQDYk5u0MiQlAMLrooosuCkAqUOtXCtQKQCbm7QyJeQtAIHzwwQcfDEAcEvN2hsQMQBao9SsFag1AED744IMPDkAM1PqVArUOQAZq/UqBWg9AAAAAAAAAEEA=\",\"dtype\":\"float64\",\"order\":\"little\",\"shape\":[100]},\"y\":{\"__ndarray__\":\"MzMzMzMz47/LCAHiZXXjv2LezpCYt+O/+rOcP8v547+SiWru/TvkvylfOJ0wfuS/wDQGTGPA5L9YCtT6lQLlv/DfoanIROW/h7VvWPuG5b8eiz0HLsnlv7ZgC7ZgC+a/TjbZZJNN5r/lC6cTxo/mv33hdML40ea/FLdCcSsU57+sjBAgXlbnv0Ni3s6QmOe/2zesfcPa579yDXos9hzovwrjR9soX+i/orgViluh6L85juM4juPov9FjsefAJem/aDl/lvNn6b8AD01FJqrpv5bkGvRY7Om/Lrrooosu6r/Gj7ZRvnDqv11lhADxsuq/9TpSryP16r+NECBeVjfrvyXm7QyJeeu/vbu7u7u7679TkYlq7v3rv+tmVxkhQOy/gzwlyFOC7L8aEvN2hsTsv7LnwCW5Bu2/Sr2O1OtI7b/gklyDHovtv3hoKjJRze2/ED744IMP7r+mE8aPtlHuvz7pkz7pk+6/1r5h7RvW7r9ulC+cThjvvwZq/UqBWu+/nT/L+bOc7781FZmo5t7vv2Z1s6uMEPC/MmAaA6Yx8L/+SoFav1Lwv8o16LHYc/C/lSBPCfKU8L9hC7ZgC7bwvy32HLgk1/C/+OCDDz748L/Ey+pmVxnxv5C2Ub5wOvG/W6G4FYpb8b8ojB9to3zxv/N2hsS8nfG/v2HtG9a+8b+LTFRz79/xv1Y3u8oIAfK/IiIiIiIi8r/uDIl5O0Pyv7r379BUZPK/huJWKG6F8r9Szb1/h6byvx24JNegx/K/6aKLLrro8r+1jfKF0wnzv4B4Wd3sKvO/TWPANAZM878YTieMH23zv+M4juM4jvO/sCP1OlKv8797DlySa9Dzv0f5wumE8fO/E+QpQZ4S9L/ezpCYtzP0v6q59+/QVPS/dqReR+p19L9Cj8WeA5f0vw56LPYcuPS/2mSTTTbZ9L+lT/qkT/r0v3I6YfxoG/W/PSXIU4I89b8IEC+rm131v9X6lQK1fvW/oOX8Wc6f9b9s0GOx58D1vzi7yggB4vW/A6YxYBoD9r/PkJi3MyT2v5t7/w5NRfa/ZmZmZmZm9r8=\",\"dtype\":\"float64\",\"order\":\"little\",\"shape\":[100]}},\"selected\":{\"id\":\"29658\"},\"selection_policy\":{\"id\":\"29657\"}},\"id\":\"29642\",\"type\":\"ColumnDataSource\"},{\"attributes\":{\"bottom_units\":\"screen\",\"coordinates\":null,\"fill_alpha\":0.5,\"fill_color\":\"lightgrey\",\"group\":null,\"left_units\":\"screen\",\"level\":\"overlay\",\"line_alpha\":1.0,\"line_color\":\"black\",\"line_dash\":[4,4],\"line_width\":2,\"right_units\":\"screen\",\"syncable\":false,\"top_units\":\"screen\"},\"id\":\"29615\",\"type\":\"BoxAnnotation\"},{\"attributes\":{},\"id\":\"29599\",\"type\":\"LinearScale\"},{\"attributes\":{\"coordinates\":null,\"data_source\":{\"id\":\"29623\"},\"glyph\":{\"id\":\"29625\"},\"group\":null,\"hover_glyph\":null,\"muted_glyph\":{\"id\":\"29627\"},\"nonselection_glyph\":{\"id\":\"29626\"},\"view\":{\"id\":\"29629\"}},\"id\":\"29628\",\"type\":\"GlyphRenderer\"},{\"attributes\":{\"background_fill_alpha\":0.9,\"background_fill_color\":\"#0f0f0f\",\"below\":[{\"id\":\"29601\"}],\"border_fill_alpha\":0.8,\"border_fill_color\":\"#111111\",\"center\":[{\"id\":\"29604\"},{\"id\":\"29608\"},{\"id\":\"29640\"}],\"height\":450,\"left\":[{\"id\":\"29605\"}],\"outline_line_alpha\":0.25,\"outline_line_color\":\"#E0E0E0\",\"outline_line_width\":3,\"renderers\":[{\"id\":\"29628\"},{\"id\":\"29646\"}],\"title\":{\"id\":\"29591\"},\"toolbar\":{\"id\":\"29616\"},\"x_range\":{\"id\":\"29593\"},\"x_scale\":{\"id\":\"29597\"},\"y_range\":{\"id\":\"29595\"},\"y_scale\":{\"id\":\"29599\"}},\"id\":\"29590\",\"subtype\":\"Figure\",\"type\":\"Plot\"},{\"attributes\":{},\"id\":\"29637\",\"type\":\"UnionRenderers\"},{\"attributes\":{\"children\":[{\"id\":\"29662\"},{\"id\":\"29590\"},{\"id\":\"29687\"}],\"margin\":[0,0,0,0],\"name\":\"Row01217\"},\"id\":\"29661\",\"type\":\"Row\"},{\"attributes\":{},\"id\":\"29613\",\"type\":\"ResetTool\"},{\"attributes\":{\"margin\":[5,5,5,5],\"name\":\"HSpacer01214\",\"sizing_mode\":\"stretch_width\"},\"id\":\"29687\",\"type\":\"Spacer\"},{\"attributes\":{\"client_comm_id\":\"69d21e12595e44bc8896e9f9ed841604\",\"comm_id\":\"cbd9223c4f9642a68368cc5408fd805c\",\"plot_id\":\"29661\"},\"id\":\"29724\",\"type\":\"panel.models.comm_manager.CommManager\"},{\"attributes\":{\"source\":{\"id\":\"29642\"}},\"id\":\"29647\",\"type\":\"CDSView\"},{\"attributes\":{\"label\":{\"field\":\"label\"},\"renderers\":[{\"id\":\"29628\"}]},\"id\":\"29641\",\"type\":\"LegendItem\"},{\"attributes\":{},\"id\":\"29635\",\"type\":\"BasicTickFormatter\"},{\"attributes\":{},\"id\":\"29658\",\"type\":\"Selection\"},{\"attributes\":{},\"id\":\"29595\",\"type\":\"DataRange1d\"},{\"attributes\":{\"tools\":[{\"id\":\"29609\"},{\"id\":\"29610\"},{\"id\":\"29611\"},{\"id\":\"29612\"},{\"id\":\"29613\"},{\"id\":\"29614\"}]},\"id\":\"29616\",\"type\":\"Toolbar\"},{\"attributes\":{\"fill_alpha\":{\"value\":0.6},\"fill_color\":{\"field\":\"color\"},\"hatch_alpha\":{\"value\":0.6},\"hatch_color\":{\"field\":\"color\"},\"line_alpha\":{\"value\":0.6},\"line_color\":{\"value\":\"white\"},\"size\":{\"value\":10},\"x\":{\"field\":\"x\"},\"y\":{\"field\":\"y\"}},\"id\":\"29625\",\"type\":\"Circle\"},{\"attributes\":{\"line_alpha\":0.6,\"line_color\":\"red\",\"line_width\":6,\"x\":{\"field\":\"x\"},\"y\":{\"field\":\"y\"}},\"id\":\"29643\",\"type\":\"Line\"},{\"attributes\":{\"margin\":[5,5,5,5],\"name\":\"HSpacer01213\",\"sizing_mode\":\"stretch_width\"},\"id\":\"29662\",\"type\":\"Spacer\"},{\"attributes\":{},\"id\":\"29606\",\"type\":\"BasicTicker\"},{\"attributes\":{},\"id\":\"29657\",\"type\":\"UnionRenderers\"},{\"attributes\":{\"coordinates\":null,\"group\":null,\"items\":[{\"id\":\"29641\"},{\"id\":\"29660\"}]},\"id\":\"29640\",\"type\":\"Legend\"},{\"attributes\":{\"line_alpha\":0.2,\"line_color\":\"red\",\"line_width\":6,\"x\":{\"field\":\"x\"},\"y\":{\"field\":\"y\"}},\"id\":\"29645\",\"type\":\"Line\"},{\"attributes\":{\"coordinates\":null,\"data_source\":{\"id\":\"29642\"},\"glyph\":{\"id\":\"29643\"},\"group\":null,\"hover_glyph\":null,\"muted_glyph\":{\"id\":\"29645\"},\"nonselection_glyph\":{\"id\":\"29644\"},\"view\":{\"id\":\"29647\"}},\"id\":\"29646\",\"type\":\"GlyphRenderer\"},{\"attributes\":{\"axis\":{\"id\":\"29601\"},\"coordinates\":null,\"grid_line_alpha\":0.15,\"grid_line_color\":\"#E0E0E0\",\"group\":null,\"ticker\":null},\"id\":\"29604\",\"type\":\"Grid\"},{\"attributes\":{\"fill_alpha\":{\"value\":0.2},\"fill_color\":{\"field\":\"color\"},\"hatch_alpha\":{\"value\":0.2},\"hatch_color\":{\"field\":\"color\"},\"line_alpha\":{\"value\":0.2},\"line_color\":{\"value\":\"white\"},\"size\":{\"value\":10},\"x\":{\"field\":\"x\"},\"y\":{\"field\":\"y\"}},\"id\":\"29627\",\"type\":\"Circle\"}],\"root_ids\":[\"29661\",\"29724\"]},\"title\":\"Bokeh Application\",\"version\":\"2.4.3\"}};\n",
       "    var render_items = [{\"docid\":\"b52acee5-6edb-48c4-a854-6dbeef6bdbc4\",\"root_ids\":[\"29661\"],\"roots\":{\"29661\":\"2ca76b2b-2f96-437f-9c60-09e6d3f1ca98\"}}];\n",
       "    root.Bokeh.embed.embed_items_notebook(docs_json, render_items);\n",
       "    for (const render_item of render_items) {\n",
       "      for (const root_id of render_item.root_ids) {\n",
       "\tconst id_el = document.getElementById(root_id)\n",
       "\tif (id_el.children.length && (id_el.children[0].className === 'bk-root')) {\n",
       "\t  const root_el = id_el.children[0]\n",
       "\t  root_el.id = root_el.id + '-rendered'\n",
       "\t}\n",
       "      }\n",
       "    }\n",
       "  }\n",
       "  if (root.Bokeh !== undefined && root.Bokeh.Panel !== undefined) {\n",
       "    embed_document(root);\n",
       "  } else {\n",
       "    var attempts = 0;\n",
       "    var timer = setInterval(function(root) {\n",
       "      if (root.Bokeh !== undefined && root.Bokeh.Panel !== undefined) {\n",
       "        clearInterval(timer);\n",
       "        embed_document(root);\n",
       "      } else if (document.readyState == \"complete\") {\n",
       "        attempts++;\n",
       "        if (attempts > 200) {\n",
       "          clearInterval(timer);\n",
       "          console.log(\"Bokeh: ERROR: Unable to run BokehJS code because BokehJS library is missing\");\n",
       "        }\n",
       "      }\n",
       "    }, 25, root)\n",
       "  }\n",
       "})(window);</script>"
      ],
      "text/plain": [
       "Row\n",
       "    [0] HSpacer()\n",
       "    [1] Bokeh(Figure)\n",
       "    [2] HSpacer()"
      ]
     },
     "execution_count": 207,
     "metadata": {
      "application/vnd.holoviews_exec.v0+json": {
       "id": "29661"
      }
     },
     "output_type": "execute_result"
    }
   ],
   "source": [
    "import numpy as np\n",
    "from sklearn.datasets import make_blobs\n",
    "from cml.plot import scatter_classes\n",
    "import time\n",
    "# Properties of the problem\n",
    "n_observations = 200\n",
    "noise = 0.2\n",
    "c1_center = [-2, -1]\n",
    "c2_center = [2, 1]\n",
    "weight= [1.,10.]\n",
    "bias=10.\n",
    "# Create points\n",
    "x_coords, y_class = make_blobs(n_samples=n_observations, centers=[c1_center, c2_center], n_features=2, cluster_std=0.55)\n",
    "x_data = x_coords + (noise * np.random.randn(n_observations, 2))\n",
    "x_data = x_coords\n",
    "y_class[y_class == 0] = -1\n",
    "\n",
    "\n",
    "x =np.linspace(-4,4,100)\n",
    "lr=0.01\n",
    "p = scatter_classes(x_data,y_class, title=\"Simple quadratic problem\", toolbar_location=\"left\")\n",
    "p.line(x,(-bias-weight[0]*x)/weight[1], line_width=6, line_alpha=0.6, color=\"red\", legend_label=r\"Learned model\")\n",
    "plot = (center_plot(p))\n",
    "plot"
   ]
  },
  {
   "cell_type": "code",
   "execution_count": 208,
   "metadata": {
    "ExecuteTime": {
     "end_time": "2023-05-01T13:12:18.738157Z",
     "start_time": "2023-05-01T13:12:18.230063Z"
    }
   },
   "outputs": [
    {
     "name": "stdout",
     "output_type": "stream",
     "text": [
      "loss before training: 187.1550948120174\n",
      "loss after training: 0.0\n",
      "elapsed time: 0.014714956283569336\n"
     ]
    },
    {
     "data": {},
     "metadata": {},
     "output_type": "display_data"
    },
    {
     "data": {
      "application/vnd.holoviews_exec.v0+json": "",
      "text/html": [
       "<div id='29856'>\n",
       "  <div class=\"bk-root\" id=\"cab72625-c460-453c-b577-6ea6e8834bd1\" data-root-id=\"29856\"></div>\n",
       "</div>\n",
       "<script type=\"application/javascript\">(function(root) {\n",
       "  function embed_document(root) {\n",
       "    var docs_json = {\"f1c3dab8-cd8c-461a-8854-e176e3b65ea2\":{\"defs\":[{\"extends\":null,\"module\":null,\"name\":\"ReactiveHTML1\",\"overrides\":[],\"properties\":[]},{\"extends\":null,\"module\":null,\"name\":\"FlexBox1\",\"overrides\":[],\"properties\":[{\"default\":\"flex-start\",\"kind\":null,\"name\":\"align_content\"},{\"default\":\"flex-start\",\"kind\":null,\"name\":\"align_items\"},{\"default\":\"row\",\"kind\":null,\"name\":\"flex_direction\"},{\"default\":\"wrap\",\"kind\":null,\"name\":\"flex_wrap\"},{\"default\":\"flex-start\",\"kind\":null,\"name\":\"justify_content\"}]},{\"extends\":null,\"module\":null,\"name\":\"GridStack1\",\"overrides\":[],\"properties\":[{\"default\":\"warn\",\"kind\":null,\"name\":\"mode\"},{\"default\":null,\"kind\":null,\"name\":\"ncols\"},{\"default\":null,\"kind\":null,\"name\":\"nrows\"},{\"default\":true,\"kind\":null,\"name\":\"allow_resize\"},{\"default\":true,\"kind\":null,\"name\":\"allow_drag\"},{\"default\":[],\"kind\":null,\"name\":\"state\"}]},{\"extends\":null,\"module\":null,\"name\":\"click1\",\"overrides\":[],\"properties\":[{\"default\":\"\",\"kind\":null,\"name\":\"terminal_output\"},{\"default\":\"\",\"kind\":null,\"name\":\"debug_name\"},{\"default\":0,\"kind\":null,\"name\":\"clears\"}]},{\"extends\":null,\"module\":null,\"name\":\"NotificationAreaBase1\",\"overrides\":[],\"properties\":[{\"default\":\"bottom-right\",\"kind\":null,\"name\":\"position\"},{\"default\":0,\"kind\":null,\"name\":\"_clear\"}]},{\"extends\":null,\"module\":null,\"name\":\"NotificationArea1\",\"overrides\":[],\"properties\":[{\"default\":[],\"kind\":null,\"name\":\"notifications\"},{\"default\":\"bottom-right\",\"kind\":null,\"name\":\"position\"},{\"default\":0,\"kind\":null,\"name\":\"_clear\"},{\"default\":[{\"background\":\"#ffc107\",\"icon\":{\"className\":\"fas fa-exclamation-triangle\",\"color\":\"white\",\"tagName\":\"i\"},\"type\":\"warning\"},{\"background\":\"#007bff\",\"icon\":{\"className\":\"fas fa-info-circle\",\"color\":\"white\",\"tagName\":\"i\"},\"type\":\"info\"}],\"kind\":null,\"name\":\"types\"}]},{\"extends\":null,\"module\":null,\"name\":\"Notification\",\"overrides\":[],\"properties\":[{\"default\":null,\"kind\":null,\"name\":\"background\"},{\"default\":3000,\"kind\":null,\"name\":\"duration\"},{\"default\":null,\"kind\":null,\"name\":\"icon\"},{\"default\":\"\",\"kind\":null,\"name\":\"message\"},{\"default\":null,\"kind\":null,\"name\":\"notification_type\"},{\"default\":false,\"kind\":null,\"name\":\"_destroyed\"}]},{\"extends\":null,\"module\":null,\"name\":\"TemplateActions1\",\"overrides\":[],\"properties\":[{\"default\":0,\"kind\":null,\"name\":\"open_modal\"},{\"default\":0,\"kind\":null,\"name\":\"close_modal\"}]},{\"extends\":null,\"module\":null,\"name\":\"MaterialTemplateActions1\",\"overrides\":[],\"properties\":[{\"default\":0,\"kind\":null,\"name\":\"open_modal\"},{\"default\":0,\"kind\":null,\"name\":\"close_modal\"}]}],\"roots\":{\"references\":[{\"attributes\":{\"source\":{\"id\":\"29818\"}},\"id\":\"29824\",\"type\":\"CDSView\"},{\"attributes\":{},\"id\":\"29828\",\"type\":\"AllLabels\"},{\"attributes\":{},\"id\":\"29831\",\"type\":\"AllLabels\"},{\"attributes\":{\"coordinates\":null,\"group\":null,\"items\":[{\"id\":\"29836\"},{\"id\":\"29855\"}]},\"id\":\"29835\",\"type\":\"Legend\"},{\"attributes\":{\"fill_alpha\":{\"value\":0.2},\"fill_color\":{\"field\":\"color\"},\"hatch_alpha\":{\"value\":0.2},\"hatch_color\":{\"field\":\"color\"},\"line_alpha\":{\"value\":0.2},\"line_color\":{\"value\":\"white\"},\"size\":{\"value\":10},\"x\":{\"field\":\"x\"},\"y\":{\"field\":\"y\"}},\"id\":\"29822\",\"type\":\"Circle\"},{\"attributes\":{\"children\":[{\"id\":\"29857\"},{\"id\":\"29785\"},{\"id\":\"29882\"}],\"margin\":[0,0,0,0],\"name\":\"Row01224\"},\"id\":\"29856\",\"type\":\"Row\"},{\"attributes\":{\"data\":{\"color\":[\"firebrick\",\"chocolate\",\"firebrick\",\"firebrick\",\"chocolate\",\"chocolate\",\"firebrick\",\"firebrick\",\"chocolate\",\"chocolate\",\"firebrick\",\"firebrick\",\"firebrick\",\"firebrick\",\"chocolate\",\"firebrick\",\"chocolate\",\"chocolate\",\"chocolate\",\"firebrick\",\"firebrick\",\"firebrick\",\"chocolate\",\"chocolate\",\"chocolate\",\"firebrick\",\"chocolate\",\"firebrick\",\"firebrick\",\"chocolate\",\"firebrick\",\"chocolate\",\"chocolate\",\"chocolate\",\"firebrick\",\"chocolate\",\"firebrick\",\"firebrick\",\"chocolate\",\"chocolate\",\"firebrick\",\"firebrick\",\"firebrick\",\"chocolate\",\"firebrick\",\"firebrick\",\"chocolate\",\"chocolate\",\"firebrick\",\"firebrick\",\"firebrick\",\"chocolate\",\"firebrick\",\"chocolate\",\"chocolate\",\"chocolate\",\"chocolate\",\"chocolate\",\"chocolate\",\"firebrick\",\"firebrick\",\"chocolate\",\"chocolate\",\"chocolate\",\"firebrick\",\"chocolate\",\"chocolate\",\"chocolate\",\"chocolate\",\"chocolate\",\"chocolate\",\"chocolate\",\"chocolate\",\"chocolate\",\"chocolate\",\"firebrick\",\"firebrick\",\"chocolate\",\"chocolate\",\"chocolate\",\"chocolate\",\"firebrick\",\"chocolate\",\"chocolate\",\"chocolate\",\"firebrick\",\"firebrick\",\"firebrick\",\"chocolate\",\"firebrick\",\"firebrick\",\"chocolate\",\"chocolate\",\"chocolate\",\"chocolate\",\"chocolate\",\"chocolate\",\"chocolate\",\"firebrick\",\"chocolate\",\"firebrick\",\"firebrick\",\"firebrick\",\"firebrick\",\"firebrick\",\"chocolate\",\"firebrick\",\"firebrick\",\"chocolate\",\"firebrick\",\"chocolate\",\"chocolate\",\"firebrick\",\"firebrick\",\"firebrick\",\"firebrick\",\"firebrick\",\"chocolate\",\"firebrick\",\"firebrick\",\"firebrick\",\"chocolate\",\"firebrick\",\"firebrick\",\"chocolate\",\"chocolate\",\"chocolate\",\"chocolate\",\"firebrick\",\"chocolate\",\"chocolate\",\"chocolate\",\"chocolate\",\"firebrick\",\"chocolate\",\"chocolate\",\"firebrick\",\"firebrick\",\"chocolate\",\"chocolate\",\"firebrick\",\"firebrick\",\"firebrick\",\"chocolate\",\"chocolate\",\"firebrick\",\"firebrick\",\"chocolate\",\"firebrick\",\"firebrick\",\"firebrick\",\"firebrick\",\"chocolate\",\"chocolate\",\"firebrick\",\"firebrick\",\"chocolate\",\"chocolate\",\"chocolate\",\"firebrick\",\"chocolate\",\"chocolate\",\"chocolate\",\"firebrick\",\"firebrick\",\"chocolate\",\"chocolate\",\"chocolate\",\"chocolate\",\"chocolate\",\"firebrick\",\"firebrick\",\"firebrick\",\"firebrick\",\"chocolate\",\"firebrick\",\"firebrick\",\"firebrick\",\"firebrick\",\"firebrick\",\"firebrick\",\"firebrick\",\"chocolate\",\"firebrick\",\"firebrick\",\"firebrick\",\"firebrick\",\"firebrick\",\"chocolate\",\"firebrick\",\"chocolate\",\"firebrick\",\"chocolate\",\"firebrick\",\"firebrick\",\"firebrick\",\"firebrick\",\"firebrick\",\"chocolate\",\"chocolate\"],\"label\":[\"$$c_2$$\",\"$$c_5$$\",\"$$c_2$$\",\"$$c_2$$\",\"$$c_5$$\",\"$$c_5$$\",\"$$c_2$$\",\"$$c_2$$\",\"$$c_5$$\",\"$$c_5$$\",\"$$c_2$$\",\"$$c_2$$\",\"$$c_2$$\",\"$$c_2$$\",\"$$c_5$$\",\"$$c_2$$\",\"$$c_5$$\",\"$$c_5$$\",\"$$c_5$$\",\"$$c_2$$\",\"$$c_2$$\",\"$$c_2$$\",\"$$c_5$$\",\"$$c_5$$\",\"$$c_5$$\",\"$$c_2$$\",\"$$c_5$$\",\"$$c_2$$\",\"$$c_2$$\",\"$$c_5$$\",\"$$c_2$$\",\"$$c_5$$\",\"$$c_5$$\",\"$$c_5$$\",\"$$c_2$$\",\"$$c_5$$\",\"$$c_2$$\",\"$$c_2$$\",\"$$c_5$$\",\"$$c_5$$\",\"$$c_2$$\",\"$$c_2$$\",\"$$c_2$$\",\"$$c_5$$\",\"$$c_2$$\",\"$$c_2$$\",\"$$c_5$$\",\"$$c_5$$\",\"$$c_2$$\",\"$$c_2$$\",\"$$c_2$$\",\"$$c_5$$\",\"$$c_2$$\",\"$$c_5$$\",\"$$c_5$$\",\"$$c_5$$\",\"$$c_5$$\",\"$$c_5$$\",\"$$c_5$$\",\"$$c_2$$\",\"$$c_2$$\",\"$$c_5$$\",\"$$c_5$$\",\"$$c_5$$\",\"$$c_2$$\",\"$$c_5$$\",\"$$c_5$$\",\"$$c_5$$\",\"$$c_5$$\",\"$$c_5$$\",\"$$c_5$$\",\"$$c_5$$\",\"$$c_5$$\",\"$$c_5$$\",\"$$c_5$$\",\"$$c_2$$\",\"$$c_2$$\",\"$$c_5$$\",\"$$c_5$$\",\"$$c_5$$\",\"$$c_5$$\",\"$$c_2$$\",\"$$c_5$$\",\"$$c_5$$\",\"$$c_5$$\",\"$$c_2$$\",\"$$c_2$$\",\"$$c_2$$\",\"$$c_5$$\",\"$$c_2$$\",\"$$c_2$$\",\"$$c_5$$\",\"$$c_5$$\",\"$$c_5$$\",\"$$c_5$$\",\"$$c_5$$\",\"$$c_5$$\",\"$$c_5$$\",\"$$c_2$$\",\"$$c_5$$\",\"$$c_2$$\",\"$$c_2$$\",\"$$c_2$$\",\"$$c_2$$\",\"$$c_2$$\",\"$$c_5$$\",\"$$c_2$$\",\"$$c_2$$\",\"$$c_5$$\",\"$$c_2$$\",\"$$c_5$$\",\"$$c_5$$\",\"$$c_2$$\",\"$$c_2$$\",\"$$c_2$$\",\"$$c_2$$\",\"$$c_2$$\",\"$$c_5$$\",\"$$c_2$$\",\"$$c_2$$\",\"$$c_2$$\",\"$$c_5$$\",\"$$c_2$$\",\"$$c_2$$\",\"$$c_5$$\",\"$$c_5$$\",\"$$c_5$$\",\"$$c_5$$\",\"$$c_2$$\",\"$$c_5$$\",\"$$c_5$$\",\"$$c_5$$\",\"$$c_5$$\",\"$$c_2$$\",\"$$c_5$$\",\"$$c_5$$\",\"$$c_2$$\",\"$$c_2$$\",\"$$c_5$$\",\"$$c_5$$\",\"$$c_2$$\",\"$$c_2$$\",\"$$c_2$$\",\"$$c_5$$\",\"$$c_5$$\",\"$$c_2$$\",\"$$c_2$$\",\"$$c_5$$\",\"$$c_2$$\",\"$$c_2$$\",\"$$c_2$$\",\"$$c_2$$\",\"$$c_5$$\",\"$$c_5$$\",\"$$c_2$$\",\"$$c_2$$\",\"$$c_5$$\",\"$$c_5$$\",\"$$c_5$$\",\"$$c_2$$\",\"$$c_5$$\",\"$$c_5$$\",\"$$c_5$$\",\"$$c_2$$\",\"$$c_2$$\",\"$$c_5$$\",\"$$c_5$$\",\"$$c_5$$\",\"$$c_5$$\",\"$$c_5$$\",\"$$c_2$$\",\"$$c_2$$\",\"$$c_2$$\",\"$$c_2$$\",\"$$c_5$$\",\"$$c_2$$\",\"$$c_2$$\",\"$$c_2$$\",\"$$c_2$$\",\"$$c_2$$\",\"$$c_2$$\",\"$$c_2$$\",\"$$c_5$$\",\"$$c_2$$\",\"$$c_2$$\",\"$$c_2$$\",\"$$c_2$$\",\"$$c_2$$\",\"$$c_5$$\",\"$$c_2$$\",\"$$c_5$$\",\"$$c_2$$\",\"$$c_5$$\",\"$$c_2$$\",\"$$c_2$$\",\"$$c_2$$\",\"$$c_2$$\",\"$$c_2$$\",\"$$c_5$$\",\"$$c_5$$\"],\"x\":{\"__ndarray__\":\"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\",\"dtype\":\"float64\",\"order\":\"little\",\"shape\":[200]},\"y\":{\"__ndarray__\":\"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\",\"dtype\":\"float64\",\"order\":\"little\",\"shape\":[200]}},\"selected\":{\"id\":\"29833\"},\"selection_policy\":{\"id\":\"29832\"}},\"id\":\"29818\",\"type\":\"ColumnDataSource\"},{\"attributes\":{\"source\":{\"id\":\"29837\"}},\"id\":\"29842\",\"type\":\"CDSView\"},{\"attributes\":{\"data\":{\"x\":{\"__ndarray__\":\"AAAAAAAAEMAFav1KgVoPwArU+pUCtQ7AED744IMPDsAVqPUrBWoNwBoS83aGxAzAH3zwwQcfDMAk5u0MiXkLwClQ61cK1ArALrrooosuCsA0JObtDIkJwDmO4ziO4wjAPvjggw8+CMBDYt7OkJgHwEjM2xkS8wbATjbZZJNNBsBSoNavFKgFwFgK1PqVAgXAXXTRRRddBMBi3s6QmLcDwGdIzNsZEgPAbLLJJptsAsByHMdxHMcBwHaGxLydIQHAfPDBBx98AMACtX6lQK3/vwyJeTtDYv6/Fl100UUX/b8gMW9nSMz7vywFav1Kgfq/Ntlkk002+b9ArV8pUOv3v0qBWr9SoPa/VFVVVVVV9b9eKVDrVwr0v2j9SoFav/K/dNFFF1108b9+pUCtXynwvxDzdobEvO2/JJtssskm6784Q2LezpDov0zrVwrU+uW/ZJNNNtlk4794O0Ni3s7gvxjHcRzHcdy/QBdddNFF179oZ0jM2xnSvyBvZ0jM28m/AB988MEHv79Av1Kg1q+kv4C/UqDWr6Q/QB988MEHvz9Ab2dIzNvJP3BnSMzbGdI/UBdddNFF1z8gx3Ecx3HcP4A7Q2LezuA/aJNNNtlk4z9Q61cK1PrlP0BDYt7OkOg/KJtssskm6z8Y83aGxLztP4ClQK1fKfA/eNFFF1108T9s/UqBWr/yP2ApUOtXCvQ/WFVVVVVV9T9MgVq/UqD2P0StXylQ6/c/ONlkk002+T8wBWr9SoH6PyQxb2dIzPs/GF100UUX/T8QiXk7Q2L+PwS1fqVArf8/fvDBBx98AEB4hsS8nSEBQHIcx3EcxwFAbrLJJptsAkBoSMzbGRIDQGTezpCYtwNAXnTRRRddBEBaCtT6lQIFQFSg1q8UqAVATjbZZJNNBkBKzNsZEvMGQERi3s6QmAdAQPjggw8+CEA6juM4juMIQDYk5u0MiQlAMLrooosuCkAqUOtXCtQKQCbm7QyJeQtAIHzwwQcfDEAcEvN2hsQMQBao9SsFag1AED744IMPDkAM1PqVArUOQAZq/UqBWg9AAAAAAAAAEEA=\",\"dtype\":\"float64\",\"order\":\"little\",\"shape\":[100]},\"y\":{\"__ndarray__\":\"O6cmRf1D9z84Kj7f24z2PzStVXm61fU/MTBtE5ke9T8us4Std2f0Pyo2nEdWsPM/J7mz4TT58j8kPMt7E0LyPx+/4hXyivE/G0L6r9DT8D8axRFKrxzwPyyQUsgby+4/I5aB/Nhc7T8cnLAwlu7rPxWi32RTgOo/EKgOmRAS6T8Grj3NzaPnPwG0bAGLNeY/+7mbNUjH5D/0v8ppBVnjP+zF+Z3C6uE/5cso0n984D/Ao68MehzeP6yvDXX0P9s/ortr3W5j2D+Vx8lF6YbVP4jTJ65jqtI/7r4LLbybzz/U1sf9sOLJP7/ug86lKcQ/Sg2APjXhvD8IPfjfHm+xP0qzwQUi9Jc/pI1ddDfUlb+eM587JOewv9oDJ5o6Wby/AWpXfKjlw78cUpurs57Jvzo639q+V8+/LJERBWWI0r87hbOc6mTVv0h5VTRwQdi/Um33y/Ud279hYZlje/rdv7eqnX2Aa+C/v6RuScPZ4b/Gnj8VBkjjv82YEOFItuS/0pLhrIsk5r/ZjLJ4zpLnv+GGg0QRAem/6oBUEFRv6r/weiXclt3rv/N09qfZS+2//W7Hcxy67r+BNMyfLxTwv4axtAVRy/C/iC6da3KC8b+Lq4XRkznyv48obje18PK/kqVWndan87+XIj8D+F70v5mfJ2kZFvW/nhwQzzrN9b+hmfg0XIT2v6MW4Zp9O/e/qJPJAJ/y97+qELJmwKn4v6+NmszhYPm/sAqDMgMY+r+1h2uYJM/6v7kEVP5Fhvu/vIE8ZGc9/L/B/iTKiPT8v8N7DTCqq/2/yPj1lcti/r/Jdd777Bn/v8vyxmEO0f+/6LfX4xdEAMBq9suWqJ8AwOw0wEk5+wDAbXO0/MlWAcDvsaivWrIBwHHwnGLrDQLA8i6RFXxpAsB0bYXIDMUCwPWreXudIAPAeOptLi58A8D5KGLhvtcDwHtnVpRPMwTA/qVKR+COBMB+5D76cOoEwAEjM60BRgXAgmEnYJKhBcAEoBsTI/0FwIXeD8azWAbABh0EeUS0BsCIW/gr1Q8HwAua7N5lawfAjNjgkfbGB8A=\",\"dtype\":\"float64\",\"order\":\"little\",\"shape\":[100]}},\"selected\":{\"id\":\"29853\"},\"selection_policy\":{\"id\":\"29852\"}},\"id\":\"29837\",\"type\":\"ColumnDataSource\"},{\"attributes\":{\"line_alpha\":0.6,\"line_color\":\"red\",\"line_width\":6,\"x\":{\"field\":\"x\"},\"y\":{\"field\":\"y\"}},\"id\":\"29838\",\"type\":\"Line\"},{\"attributes\":{\"margin\":[5,5,5,5],\"name\":\"HSpacer01220\",\"sizing_mode\":\"stretch_width\"},\"id\":\"29857\",\"type\":\"Spacer\"},{\"attributes\":{},\"id\":\"29853\",\"type\":\"Selection\"},{\"attributes\":{\"fill_alpha\":{\"value\":0.6},\"fill_color\":{\"field\":\"color\"},\"hatch_alpha\":{\"value\":0.6},\"hatch_color\":{\"field\":\"color\"},\"line_alpha\":{\"value\":0.6},\"line_color\":{\"value\":\"white\"},\"size\":{\"value\":10},\"x\":{\"field\":\"x\"},\"y\":{\"field\":\"y\"}},\"id\":\"29820\",\"type\":\"Circle\"},{\"attributes\":{},\"id\":\"29801\",\"type\":\"BasicTicker\"},{\"attributes\":{},\"id\":\"29808\",\"type\":\"ResetTool\"},{\"attributes\":{\"axis\":{\"id\":\"29800\"},\"coordinates\":null,\"dimension\":1,\"grid_line_alpha\":0.15,\"grid_line_color\":\"#E0E0E0\",\"group\":null,\"ticker\":null},\"id\":\"29803\",\"type\":\"Grid\"},{\"attributes\":{\"label\":{\"value\":\"Learned model\"},\"renderers\":[{\"id\":\"29841\"}]},\"id\":\"29855\",\"type\":\"LegendItem\"},{\"attributes\":{\"margin\":[5,5,5,5],\"name\":\"HSpacer01221\",\"sizing_mode\":\"stretch_width\"},\"id\":\"29882\",\"type\":\"Spacer\"},{\"attributes\":{},\"id\":\"29790\",\"type\":\"DataRange1d\"},{\"attributes\":{},\"id\":\"29809\",\"type\":\"HelpTool\"},{\"attributes\":{},\"id\":\"29794\",\"type\":\"LinearScale\"},{\"attributes\":{},\"id\":\"29805\",\"type\":\"WheelZoomTool\"},{\"attributes\":{\"label\":{\"field\":\"label\"},\"renderers\":[{\"id\":\"29823\"}]},\"id\":\"29836\",\"type\":\"LegendItem\"},{\"attributes\":{\"client_comm_id\":\"0a723b37de1648a1b1968aa0de3f797d\",\"comm_id\":\"72d42240f25c488eb6517066192f78fd\",\"plot_id\":\"29856\"},\"id\":\"29919\",\"type\":\"panel.models.comm_manager.CommManager\"},{\"attributes\":{\"axis\":{\"id\":\"29796\"},\"coordinates\":null,\"grid_line_alpha\":0.15,\"grid_line_color\":\"#E0E0E0\",\"group\":null,\"ticker\":null},\"id\":\"29799\",\"type\":\"Grid\"},{\"attributes\":{\"coordinates\":null,\"data_source\":{\"id\":\"29837\"},\"glyph\":{\"id\":\"29838\"},\"group\":null,\"hover_glyph\":null,\"muted_glyph\":{\"id\":\"29840\"},\"nonselection_glyph\":{\"id\":\"29839\"},\"view\":{\"id\":\"29842\"}},\"id\":\"29841\",\"type\":\"GlyphRenderer\"},{\"attributes\":{\"line_alpha\":0.1,\"line_color\":\"red\",\"line_width\":6,\"x\":{\"field\":\"x\"},\"y\":{\"field\":\"y\"}},\"id\":\"29839\",\"type\":\"Line\"},{\"attributes\":{\"overlay\":{\"id\":\"29810\"}},\"id\":\"29806\",\"type\":\"BoxZoomTool\"},{\"attributes\":{},\"id\":\"29797\",\"type\":\"BasicTicker\"},{\"attributes\":{},\"id\":\"29827\",\"type\":\"BasicTickFormatter\"},{\"attributes\":{\"axis_label\":\"y\",\"axis_label_standoff\":10,\"axis_label_text_color\":\"#FFFFFF\",\"axis_label_text_font\":\"Josefin Sans\",\"axis_label_text_font_size\":\"1.9em\",\"axis_label_text_font_style\":\"bold\",\"axis_line_alpha\":0.4,\"axis_line_color\":\"#E0E0E0\",\"coordinates\":null,\"formatter\":{\"id\":\"29827\"},\"group\":null,\"major_label_policy\":{\"id\":\"29828\"},\"major_label_text_color\":\"#E0E0E0\",\"major_label_text_font\":\"Josefin Sans\",\"major_label_text_font_size\":\"1.15em\",\"major_tick_line_alpha\":0.4,\"major_tick_line_color\":\"#E0E0E0\",\"minor_tick_line_alpha\":0.4,\"minor_tick_line_color\":\"#E0E0E0\",\"ticker\":{\"id\":\"29801\"}},\"id\":\"29800\",\"type\":\"LinearAxis\"},{\"attributes\":{},\"id\":\"29852\",\"type\":\"UnionRenderers\"},{\"attributes\":{},\"id\":\"29830\",\"type\":\"BasicTickFormatter\"},{\"attributes\":{\"coordinates\":null,\"group\":null,\"text\":\"Linear classification problem\",\"text_color\":\"#E0E0E0\",\"text_font\":\"Josefin Sans\",\"text_font_size\":\"2.1em\"},\"id\":\"29786\",\"type\":\"Title\"},{\"attributes\":{},\"id\":\"29807\",\"type\":\"SaveTool\"},{\"attributes\":{\"axis_label\":\"x\",\"axis_label_standoff\":10,\"axis_label_text_color\":\"#FFFFFF\",\"axis_label_text_font\":\"Josefin Sans\",\"axis_label_text_font_size\":\"1.9em\",\"axis_label_text_font_style\":\"bold\",\"axis_line_alpha\":0.4,\"axis_line_color\":\"#E0E0E0\",\"coordinates\":null,\"formatter\":{\"id\":\"29830\"},\"group\":null,\"major_label_policy\":{\"id\":\"29831\"},\"major_label_text_color\":\"#E0E0E0\",\"major_label_text_font\":\"Josefin Sans\",\"major_label_text_font_size\":\"1.15em\",\"major_tick_line_alpha\":0.4,\"major_tick_line_color\":\"#E0E0E0\",\"minor_tick_line_alpha\":0.4,\"minor_tick_line_color\":\"#E0E0E0\",\"ticker\":{\"id\":\"29797\"}},\"id\":\"29796\",\"type\":\"LinearAxis\"},{\"attributes\":{},\"id\":\"29832\",\"type\":\"UnionRenderers\"},{\"attributes\":{},\"id\":\"29833\",\"type\":\"Selection\"},{\"attributes\":{\"background_fill_alpha\":0.9,\"background_fill_color\":\"#0f0f0f\",\"below\":[{\"id\":\"29796\"}],\"border_fill_alpha\":0.8,\"border_fill_color\":\"#111111\",\"center\":[{\"id\":\"29799\"},{\"id\":\"29803\"},{\"id\":\"29835\"}],\"height\":450,\"left\":[{\"id\":\"29800\"}],\"outline_line_alpha\":0.25,\"outline_line_color\":\"#E0E0E0\",\"outline_line_width\":3,\"renderers\":[{\"id\":\"29823\"},{\"id\":\"29841\"}],\"title\":{\"id\":\"29786\"},\"toolbar\":{\"id\":\"29811\"},\"x_range\":{\"id\":\"29788\"},\"x_scale\":{\"id\":\"29792\"},\"y_range\":{\"id\":\"29790\"},\"y_scale\":{\"id\":\"29794\"}},\"id\":\"29785\",\"subtype\":\"Figure\",\"type\":\"Plot\"},{\"attributes\":{\"coordinates\":null,\"data_source\":{\"id\":\"29818\"},\"glyph\":{\"id\":\"29820\"},\"group\":null,\"hover_glyph\":null,\"muted_glyph\":{\"id\":\"29822\"},\"nonselection_glyph\":{\"id\":\"29821\"},\"view\":{\"id\":\"29824\"}},\"id\":\"29823\",\"type\":\"GlyphRenderer\"},{\"attributes\":{},\"id\":\"29788\",\"type\":\"DataRange1d\"},{\"attributes\":{\"fill_alpha\":{\"value\":0.1},\"fill_color\":{\"field\":\"color\"},\"hatch_alpha\":{\"value\":0.1},\"hatch_color\":{\"field\":\"color\"},\"line_alpha\":{\"value\":0.1},\"line_color\":{\"value\":\"white\"},\"size\":{\"value\":10},\"x\":{\"field\":\"x\"},\"y\":{\"field\":\"y\"}},\"id\":\"29821\",\"type\":\"Circle\"},{\"attributes\":{\"line_alpha\":0.2,\"line_color\":\"red\",\"line_width\":6,\"x\":{\"field\":\"x\"},\"y\":{\"field\":\"y\"}},\"id\":\"29840\",\"type\":\"Line\"},{\"attributes\":{},\"id\":\"29804\",\"type\":\"PanTool\"},{\"attributes\":{},\"id\":\"29792\",\"type\":\"LinearScale\"},{\"attributes\":{\"tools\":[{\"id\":\"29804\"},{\"id\":\"29805\"},{\"id\":\"29806\"},{\"id\":\"29807\"},{\"id\":\"29808\"},{\"id\":\"29809\"}]},\"id\":\"29811\",\"type\":\"Toolbar\"},{\"attributes\":{\"bottom_units\":\"screen\",\"coordinates\":null,\"fill_alpha\":0.5,\"fill_color\":\"lightgrey\",\"group\":null,\"left_units\":\"screen\",\"level\":\"overlay\",\"line_alpha\":1.0,\"line_color\":\"black\",\"line_dash\":[4,4],\"line_width\":2,\"right_units\":\"screen\",\"syncable\":false,\"top_units\":\"screen\"},\"id\":\"29810\",\"type\":\"BoxAnnotation\"}],\"root_ids\":[\"29856\",\"29919\"]},\"title\":\"Bokeh Application\",\"version\":\"2.4.3\"}};\n",
       "    var render_items = [{\"docid\":\"f1c3dab8-cd8c-461a-8854-e176e3b65ea2\",\"root_ids\":[\"29856\"],\"roots\":{\"29856\":\"cab72625-c460-453c-b577-6ea6e8834bd1\"}}];\n",
       "    root.Bokeh.embed.embed_items_notebook(docs_json, render_items);\n",
       "    for (const render_item of render_items) {\n",
       "      for (const root_id of render_item.root_ids) {\n",
       "\tconst id_el = document.getElementById(root_id)\n",
       "\tif (id_el.children.length && (id_el.children[0].className === 'bk-root')) {\n",
       "\t  const root_el = id_el.children[0]\n",
       "\t  root_el.id = root_el.id + '-rendered'\n",
       "\t}\n",
       "      }\n",
       "    }\n",
       "  }\n",
       "  if (root.Bokeh !== undefined && root.Bokeh.Panel !== undefined) {\n",
       "    embed_document(root);\n",
       "  } else {\n",
       "    var attempts = 0;\n",
       "    var timer = setInterval(function(root) {\n",
       "      if (root.Bokeh !== undefined && root.Bokeh.Panel !== undefined) {\n",
       "        clearInterval(timer);\n",
       "        embed_document(root);\n",
       "      } else if (document.readyState == \"complete\") {\n",
       "        attempts++;\n",
       "        if (attempts > 200) {\n",
       "          clearInterval(timer);\n",
       "          console.log(\"Bokeh: ERROR: Unable to run BokehJS code because BokehJS library is missing\");\n",
       "        }\n",
       "      }\n",
       "    }, 25, root)\n",
       "  }\n",
       "})(window);</script>"
      ],
      "text/plain": [
       "Row\n",
       "    [0] HSpacer()\n",
       "    [1] Bokeh(Figure)\n",
       "    [2] HSpacer()"
      ]
     },
     "execution_count": 208,
     "metadata": {
      "application/vnd.holoviews_exec.v0+json": {
       "id": "29856"
      }
     },
     "output_type": "execute_result"
    }
   ],
   "source": [
    "def hinge_loss(target,predicted):\n",
    "    return np.sum(np.maximum(1-target*predicted,0))\n",
    "def forward(x_data,weight,bias):\n",
    "    return np.dot(x_data,weight)+bias\n",
    "\n",
    "start = time.time()\n",
    "print(\"loss before training:\", hinge_loss(y_class,forward(x_data,weight,bias)))\n",
    "for i in range(500):\n",
    "    y_bar=forward(x_data,weight,bias)\n",
    "    gradient = np.zeros_like(y_bar)\n",
    "    idx = y_class *y_bar <1\n",
    "    gradient[idx] = -y_class[idx]\n",
    "    weight-=  lr * np.sum(x_data * gradient[:,None],0) \n",
    "    bias-= lr * np.sum(gradient)\n",
    "print(\"loss after training:\", hinge_loss(y_class,forward(x_data,weight,bias)))\n",
    "print(\"elapsed time:\", time.time() - start)\n",
    "p = scatter_classes(x_data,y_class, title=\"Simple quadratic problem\", toolbar_location=\"left\")\n",
    "p.line(x,(-bias-weight[0]*x)/weight[1], line_width=6, line_alpha=0.6, color=\"red\", legend_label=r\"Learned model\")\n",
    "plot = (center_plot(p))\n",
    "plot"
   ]
  },
  {
   "cell_type": "markdown",
   "metadata": {},
   "source": [
    "<div class=\"alert alert-success\" markdown=\"1\" style=\"color:white; background-color: #192841; border-color: #779ecb\">\n",
    "\n",
    "> ### Going further (optional)\n",
    "> Try to replace the Hinge loss by the cross-entropy loss in your implementation\n",
    "\n",
    "</div>"
   ]
  },
  {
   "cell_type": "code",
   "execution_count": 44,
   "metadata": {},
   "outputs": [
    {
     "data": {},
     "metadata": {},
     "output_type": "display_data"
    },
    {
     "data": {
      "application/vnd.holoviews_exec.v0+json": "",
      "text/html": [
       "<div id='5222'>\n",
       "  <div class=\"bk-root\" id=\"f88ede2c-b1c6-488d-ad7f-e136070505ae\" data-root-id=\"5222\"></div>\n",
       "</div>\n",
       "<script type=\"application/javascript\">(function(root) {\n",
       "  function embed_document(root) {\n",
       "    var docs_json = {\"d5c63651-5986-42d0-9b63-2379eb4688c0\":{\"defs\":[{\"extends\":null,\"module\":null,\"name\":\"ReactiveHTML1\",\"overrides\":[],\"properties\":[]},{\"extends\":null,\"module\":null,\"name\":\"FlexBox1\",\"overrides\":[],\"properties\":[{\"default\":\"flex-start\",\"kind\":null,\"name\":\"align_content\"},{\"default\":\"flex-start\",\"kind\":null,\"name\":\"align_items\"},{\"default\":\"row\",\"kind\":null,\"name\":\"flex_direction\"},{\"default\":\"wrap\",\"kind\":null,\"name\":\"flex_wrap\"},{\"default\":\"flex-start\",\"kind\":null,\"name\":\"justify_content\"}]},{\"extends\":null,\"module\":null,\"name\":\"GridStack1\",\"overrides\":[],\"properties\":[{\"default\":\"warn\",\"kind\":null,\"name\":\"mode\"},{\"default\":null,\"kind\":null,\"name\":\"ncols\"},{\"default\":null,\"kind\":null,\"name\":\"nrows\"},{\"default\":true,\"kind\":null,\"name\":\"allow_resize\"},{\"default\":true,\"kind\":null,\"name\":\"allow_drag\"},{\"default\":[],\"kind\":null,\"name\":\"state\"}]},{\"extends\":null,\"module\":null,\"name\":\"click1\",\"overrides\":[],\"properties\":[{\"default\":\"\",\"kind\":null,\"name\":\"terminal_output\"},{\"default\":\"\",\"kind\":null,\"name\":\"debug_name\"},{\"default\":0,\"kind\":null,\"name\":\"clears\"}]},{\"extends\":null,\"module\":null,\"name\":\"NotificationAreaBase1\",\"overrides\":[],\"properties\":[{\"default\":\"bottom-right\",\"kind\":null,\"name\":\"position\"},{\"default\":0,\"kind\":null,\"name\":\"_clear\"}]},{\"extends\":null,\"module\":null,\"name\":\"NotificationArea1\",\"overrides\":[],\"properties\":[{\"default\":[],\"kind\":null,\"name\":\"notifications\"},{\"default\":\"bottom-right\",\"kind\":null,\"name\":\"position\"},{\"default\":0,\"kind\":null,\"name\":\"_clear\"},{\"default\":[{\"background\":\"#ffc107\",\"icon\":{\"className\":\"fas fa-exclamation-triangle\",\"color\":\"white\",\"tagName\":\"i\"},\"type\":\"warning\"},{\"background\":\"#007bff\",\"icon\":{\"className\":\"fas fa-info-circle\",\"color\":\"white\",\"tagName\":\"i\"},\"type\":\"info\"}],\"kind\":null,\"name\":\"types\"}]},{\"extends\":null,\"module\":null,\"name\":\"Notification\",\"overrides\":[],\"properties\":[{\"default\":null,\"kind\":null,\"name\":\"background\"},{\"default\":3000,\"kind\":null,\"name\":\"duration\"},{\"default\":null,\"kind\":null,\"name\":\"icon\"},{\"default\":\"\",\"kind\":null,\"name\":\"message\"},{\"default\":null,\"kind\":null,\"name\":\"notification_type\"},{\"default\":false,\"kind\":null,\"name\":\"_destroyed\"}]},{\"extends\":null,\"module\":null,\"name\":\"TemplateActions1\",\"overrides\":[],\"properties\":[{\"default\":0,\"kind\":null,\"name\":\"open_modal\"},{\"default\":0,\"kind\":null,\"name\":\"close_modal\"}]},{\"extends\":null,\"module\":null,\"name\":\"MaterialTemplateActions1\",\"overrides\":[],\"properties\":[{\"default\":0,\"kind\":null,\"name\":\"open_modal\"},{\"default\":0,\"kind\":null,\"name\":\"close_modal\"}]}],\"roots\":{\"references\":[{\"attributes\":{\"data\":{\"color\":[\"firebrick\",\"firebrick\",\"midnightblue\",\"midnightblue\",\"firebrick\",\"firebrick\",\"firebrick\",\"firebrick\",\"midnightblue\",\"midnightblue\",\"midnightblue\",\"firebrick\",\"midnightblue\",\"firebrick\",\"midnightblue\",\"midnightblue\",\"midnightblue\",\"firebrick\",\"midnightblue\",\"firebrick\",\"firebrick\",\"firebrick\",\"firebrick\",\"firebrick\",\"midnightblue\",\"midnightblue\",\"midnightblue\",\"firebrick\",\"midnightblue\",\"firebrick\",\"firebrick\",\"midnightblue\",\"firebrick\",\"firebrick\",\"midnightblue\",\"firebrick\",\"midnightblue\",\"firebrick\",\"midnightblue\",\"firebrick\",\"midnightblue\",\"midnightblue\",\"firebrick\",\"midnightblue\",\"firebrick\",\"firebrick\",\"midnightblue\",\"midnightblue\",\"firebrick\",\"firebrick\",\"firebrick\",\"midnightblue\",\"midnightblue\",\"midnightblue\",\"midnightblue\",\"firebrick\",\"midnightblue\",\"firebrick\",\"midnightblue\",\"firebrick\",\"midnightblue\",\"midnightblue\",\"firebrick\",\"midnightblue\",\"firebrick\",\"firebrick\",\"midnightblue\",\"midnightblue\",\"firebrick\",\"firebrick\",\"midnightblue\",\"firebrick\",\"midnightblue\",\"midnightblue\",\"midnightblue\",\"firebrick\",\"midnightblue\",\"midnightblue\",\"midnightblue\",\"midnightblue\",\"midnightblue\",\"firebrick\",\"midnightblue\",\"midnightblue\",\"firebrick\",\"firebrick\",\"firebrick\",\"firebrick\",\"firebrick\",\"firebrick\",\"firebrick\",\"midnightblue\",\"firebrick\",\"firebrick\",\"firebrick\",\"firebrick\",\"firebrick\",\"midnightblue\",\"midnightblue\",\"midnightblue\",\"midnightblue\",\"firebrick\",\"midnightblue\",\"firebrick\",\"midnightblue\",\"midnightblue\",\"midnightblue\",\"firebrick\",\"firebrick\",\"firebrick\",\"midnightblue\",\"midnightblue\",\"midnightblue\",\"firebrick\",\"firebrick\",\"firebrick\",\"midnightblue\",\"midnightblue\",\"midnightblue\",\"firebrick\",\"firebrick\",\"firebrick\",\"firebrick\",\"firebrick\",\"firebrick\",\"firebrick\",\"midnightblue\",\"firebrick\",\"midnightblue\",\"midnightblue\",\"midnightblue\",\"midnightblue\",\"firebrick\",\"firebrick\",\"midnightblue\",\"firebrick\",\"midnightblue\",\"firebrick\",\"firebrick\",\"midnightblue\",\"midnightblue\",\"midnightblue\",\"firebrick\",\"firebrick\",\"midnightblue\",\"midnightblue\",\"midnightblue\",\"midnightblue\",\"midnightblue\",\"firebrick\",\"midnightblue\",\"firebrick\",\"midnightblue\",\"firebrick\",\"midnightblue\",\"midnightblue\",\"midnightblue\",\"firebrick\",\"midnightblue\",\"firebrick\",\"firebrick\",\"midnightblue\",\"midnightblue\",\"midnightblue\",\"midnightblue\",\"firebrick\",\"firebrick\",\"firebrick\",\"firebrick\",\"firebrick\",\"firebrick\",\"firebrick\",\"firebrick\",\"firebrick\",\"midnightblue\",\"midnightblue\",\"firebrick\",\"midnightblue\",\"firebrick\",\"midnightblue\",\"midnightblue\",\"midnightblue\",\"firebrick\",\"firebrick\",\"firebrick\",\"midnightblue\",\"firebrick\",\"midnightblue\",\"firebrick\",\"firebrick\",\"midnightblue\",\"midnightblue\",\"firebrick\",\"firebrick\",\"firebrick\",\"midnightblue\",\"midnightblue\",\"midnightblue\",\"midnightblue\",\"midnightblue\"],\"label\":[\"$$c_2$$\",\"$$c_2$$\",\"$$c_1$$\",\"$$c_1$$\",\"$$c_2$$\",\"$$c_2$$\",\"$$c_2$$\",\"$$c_2$$\",\"$$c_1$$\",\"$$c_1$$\",\"$$c_1$$\",\"$$c_2$$\",\"$$c_1$$\",\"$$c_2$$\",\"$$c_1$$\",\"$$c_1$$\",\"$$c_1$$\",\"$$c_2$$\",\"$$c_1$$\",\"$$c_2$$\",\"$$c_2$$\",\"$$c_2$$\",\"$$c_2$$\",\"$$c_2$$\",\"$$c_1$$\",\"$$c_1$$\",\"$$c_1$$\",\"$$c_2$$\",\"$$c_1$$\",\"$$c_2$$\",\"$$c_2$$\",\"$$c_1$$\",\"$$c_2$$\",\"$$c_2$$\",\"$$c_1$$\",\"$$c_2$$\",\"$$c_1$$\",\"$$c_2$$\",\"$$c_1$$\",\"$$c_2$$\",\"$$c_1$$\",\"$$c_1$$\",\"$$c_2$$\",\"$$c_1$$\",\"$$c_2$$\",\"$$c_2$$\",\"$$c_1$$\",\"$$c_1$$\",\"$$c_2$$\",\"$$c_2$$\",\"$$c_2$$\",\"$$c_1$$\",\"$$c_1$$\",\"$$c_1$$\",\"$$c_1$$\",\"$$c_2$$\",\"$$c_1$$\",\"$$c_2$$\",\"$$c_1$$\",\"$$c_2$$\",\"$$c_1$$\",\"$$c_1$$\",\"$$c_2$$\",\"$$c_1$$\",\"$$c_2$$\",\"$$c_2$$\",\"$$c_1$$\",\"$$c_1$$\",\"$$c_2$$\",\"$$c_2$$\",\"$$c_1$$\",\"$$c_2$$\",\"$$c_1$$\",\"$$c_1$$\",\"$$c_1$$\",\"$$c_2$$\",\"$$c_1$$\",\"$$c_1$$\",\"$$c_1$$\",\"$$c_1$$\",\"$$c_1$$\",\"$$c_2$$\",\"$$c_1$$\",\"$$c_1$$\",\"$$c_2$$\",\"$$c_2$$\",\"$$c_2$$\",\"$$c_2$$\",\"$$c_2$$\",\"$$c_2$$\",\"$$c_2$$\",\"$$c_1$$\",\"$$c_2$$\",\"$$c_2$$\",\"$$c_2$$\",\"$$c_2$$\",\"$$c_2$$\",\"$$c_1$$\",\"$$c_1$$\",\"$$c_1$$\",\"$$c_1$$\",\"$$c_2$$\",\"$$c_1$$\",\"$$c_2$$\",\"$$c_1$$\",\"$$c_1$$\",\"$$c_1$$\",\"$$c_2$$\",\"$$c_2$$\",\"$$c_2$$\",\"$$c_1$$\",\"$$c_1$$\",\"$$c_1$$\",\"$$c_2$$\",\"$$c_2$$\",\"$$c_2$$\",\"$$c_1$$\",\"$$c_1$$\",\"$$c_1$$\",\"$$c_2$$\",\"$$c_2$$\",\"$$c_2$$\",\"$$c_2$$\",\"$$c_2$$\",\"$$c_2$$\",\"$$c_2$$\",\"$$c_1$$\",\"$$c_2$$\",\"$$c_1$$\",\"$$c_1$$\",\"$$c_1$$\",\"$$c_1$$\",\"$$c_2$$\",\"$$c_2$$\",\"$$c_1$$\",\"$$c_2$$\",\"$$c_1$$\",\"$$c_2$$\",\"$$c_2$$\",\"$$c_1$$\",\"$$c_1$$\",\"$$c_1$$\",\"$$c_2$$\",\"$$c_2$$\",\"$$c_1$$\",\"$$c_1$$\",\"$$c_1$$\",\"$$c_1$$\",\"$$c_1$$\",\"$$c_2$$\",\"$$c_1$$\",\"$$c_2$$\",\"$$c_1$$\",\"$$c_2$$\",\"$$c_1$$\",\"$$c_1$$\",\"$$c_1$$\",\"$$c_2$$\",\"$$c_1$$\",\"$$c_2$$\",\"$$c_2$$\",\"$$c_1$$\",\"$$c_1$$\",\"$$c_1$$\",\"$$c_1$$\",\"$$c_2$$\",\"$$c_2$$\",\"$$c_2$$\",\"$$c_2$$\",\"$$c_2$$\",\"$$c_2$$\",\"$$c_2$$\",\"$$c_2$$\",\"$$c_2$$\",\"$$c_1$$\",\"$$c_1$$\",\"$$c_2$$\",\"$$c_1$$\",\"$$c_2$$\",\"$$c_1$$\",\"$$c_1$$\",\"$$c_1$$\",\"$$c_2$$\",\"$$c_2$$\",\"$$c_2$$\",\"$$c_1$$\",\"$$c_2$$\",\"$$c_1$$\",\"$$c_2$$\",\"$$c_2$$\",\"$$c_1$$\",\"$$c_1$$\",\"$$c_2$$\",\"$$c_2$$\",\"$$c_2$$\",\"$$c_1$$\",\"$$c_1$$\",\"$$c_1$$\",\"$$c_1$$\",\"$$c_1$$\"],\"x\":{\"__ndarray__\":\"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\",\"dtype\":\"float64\",\"order\":\"little\",\"shape\":[200]},\"y\":{\"__ndarray__\":\"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\",\"dtype\":\"float64\",\"order\":\"little\",\"shape\":[200]}},\"selected\":{\"id\":\"5199\"},\"selection_policy\":{\"id\":\"5198\"}},\"id\":\"5184\",\"type\":\"ColumnDataSource\"},{\"attributes\":{},\"id\":\"5194\",\"type\":\"AllLabels\"},{\"attributes\":{\"background_fill_alpha\":0.9,\"background_fill_color\":\"#0f0f0f\",\"below\":[{\"id\":\"5162\"}],\"border_fill_alpha\":0.8,\"border_fill_color\":\"#111111\",\"center\":[{\"id\":\"5165\"},{\"id\":\"5169\"},{\"id\":\"5201\"}],\"height\":450,\"left\":[{\"id\":\"5166\"}],\"outline_line_alpha\":0.25,\"outline_line_color\":\"#E0E0E0\",\"outline_line_width\":3,\"renderers\":[{\"id\":\"5189\"},{\"id\":\"5207\"}],\"title\":{\"id\":\"5152\"},\"toolbar\":{\"id\":\"5177\"},\"x_range\":{\"id\":\"5154\"},\"x_scale\":{\"id\":\"5158\"},\"y_range\":{\"id\":\"5156\"},\"y_scale\":{\"id\":\"5160\"}},\"id\":\"5151\",\"subtype\":\"Figure\",\"type\":\"Plot\"},{\"attributes\":{\"source\":{\"id\":\"5184\"}},\"id\":\"5190\",\"type\":\"CDSView\"},{\"attributes\":{},\"id\":\"5156\",\"type\":\"DataRange1d\"},{\"attributes\":{},\"id\":\"5219\",\"type\":\"Selection\"},{\"attributes\":{},\"id\":\"5174\",\"type\":\"ResetTool\"},{\"attributes\":{},\"id\":\"5167\",\"type\":\"BasicTicker\"},{\"attributes\":{\"data\":{\"x\":{\"__ndarray__\":\"AAAAAAAAEMAFav1KgVoPwArU+pUCtQ7AED744IMPDsAVqPUrBWoNwBoS83aGxAzAH3zwwQcfDMAk5u0MiXkLwClQ61cK1ArALrrooosuCsA0JObtDIkJwDmO4ziO4wjAPvjggw8+CMBDYt7OkJgHwEjM2xkS8wbATjbZZJNNBsBSoNavFKgFwFgK1PqVAgXAXXTRRRddBMBi3s6QmLcDwGdIzNsZEgPAbLLJJptsAsByHMdxHMcBwHaGxLydIQHAfPDBBx98AMACtX6lQK3/vwyJeTtDYv6/Fl100UUX/b8gMW9nSMz7vywFav1Kgfq/Ntlkk002+b9ArV8pUOv3v0qBWr9SoPa/VFVVVVVV9b9eKVDrVwr0v2j9SoFav/K/dNFFF1108b9+pUCtXynwvxDzdobEvO2/JJtssskm6784Q2LezpDov0zrVwrU+uW/ZJNNNtlk4794O0Ni3s7gvxjHcRzHcdy/QBdddNFF179oZ0jM2xnSvyBvZ0jM28m/AB988MEHv79Av1Kg1q+kv4C/UqDWr6Q/QB988MEHvz9Ab2dIzNvJP3BnSMzbGdI/UBdddNFF1z8gx3Ecx3HcP4A7Q2LezuA/aJNNNtlk4z9Q61cK1PrlP0BDYt7OkOg/KJtssskm6z8Y83aGxLztP4ClQK1fKfA/eNFFF1108T9s/UqBWr/yP2ApUOtXCvQ/WFVVVVVV9T9MgVq/UqD2P0StXylQ6/c/ONlkk002+T8wBWr9SoH6PyQxb2dIzPs/GF100UUX/T8QiXk7Q2L+PwS1fqVArf8/fvDBBx98AEB4hsS8nSEBQHIcx3EcxwFAbrLJJptsAkBoSMzbGRIDQGTezpCYtwNAXnTRRRddBEBaCtT6lQIFQFSg1q8UqAVATjbZZJNNBkBKzNsZEvMGQERi3s6QmAdAQPjggw8+CEA6juM4juMIQDYk5u0MiQlAMLrooosuCkAqUOtXCtQKQCbm7QyJeQtAIHzwwQcfDEAcEvN2hsQMQBao9SsFag1AED744IMPDkAM1PqVArUOQAZq/UqBWg9AAAAAAAAAEEA=\",\"dtype\":\"float64\",\"order\":\"little\",\"shape\":[100]},\"y\":{\"__ndarray__\":\"MzMzMzMz47/LCAHiZXXjv2LezpCYt+O/+rOcP8v547+SiWru/TvkvylfOJ0wfuS/wDQGTGPA5L9YCtT6lQLlv/DfoanIROW/h7VvWPuG5b8eiz0HLsnlv7ZgC7ZgC+a/TjbZZJNN5r/lC6cTxo/mv33hdML40ea/FLdCcSsU57+sjBAgXlbnv0Ni3s6QmOe/2zesfcPa579yDXos9hzovwrjR9soX+i/orgViluh6L85juM4juPov9FjsefAJem/aDl/lvNn6b8AD01FJqrpv5bkGvRY7Om/Lrrooosu6r/Gj7ZRvnDqv11lhADxsuq/9TpSryP16r+NECBeVjfrvyXm7QyJeeu/vbu7u7u7679TkYlq7v3rv+tmVxkhQOy/gzwlyFOC7L8aEvN2hsTsv7LnwCW5Bu2/Sr2O1OtI7b/gklyDHovtv3hoKjJRze2/ED744IMP7r+mE8aPtlHuvz7pkz7pk+6/1r5h7RvW7r9ulC+cThjvvwZq/UqBWu+/nT/L+bOc7781FZmo5t7vv2Z1s6uMEPC/MmAaA6Yx8L/+SoFav1Lwv8o16LHYc/C/lSBPCfKU8L9hC7ZgC7bwvy32HLgk1/C/+OCDDz748L/Ey+pmVxnxv5C2Ub5wOvG/W6G4FYpb8b8ojB9to3zxv/N2hsS8nfG/v2HtG9a+8b+LTFRz79/xv1Y3u8oIAfK/IiIiIiIi8r/uDIl5O0Pyv7r379BUZPK/huJWKG6F8r9Szb1/h6byvx24JNegx/K/6aKLLrro8r+1jfKF0wnzv4B4Wd3sKvO/TWPANAZM878YTieMH23zv+M4juM4jvO/sCP1OlKv8797DlySa9Dzv0f5wumE8fO/E+QpQZ4S9L/ezpCYtzP0v6q59+/QVPS/dqReR+p19L9Cj8WeA5f0vw56LPYcuPS/2mSTTTbZ9L+lT/qkT/r0v3I6YfxoG/W/PSXIU4I89b8IEC+rm131v9X6lQK1fvW/oOX8Wc6f9b9s0GOx58D1vzi7yggB4vW/A6YxYBoD9r/PkJi3MyT2v5t7/w5NRfa/ZmZmZmZm9r8=\",\"dtype\":\"float64\",\"order\":\"little\",\"shape\":[100]}},\"selected\":{\"id\":\"5219\"},\"selection_policy\":{\"id\":\"5218\"}},\"id\":\"5203\",\"type\":\"ColumnDataSource\"},{\"attributes\":{},\"id\":\"5218\",\"type\":\"UnionRenderers\"},{\"attributes\":{\"source\":{\"id\":\"5203\"}},\"id\":\"5208\",\"type\":\"CDSView\"},{\"attributes\":{},\"id\":\"5163\",\"type\":\"BasicTicker\"},{\"attributes\":{},\"id\":\"5173\",\"type\":\"SaveTool\"},{\"attributes\":{\"axis\":{\"id\":\"5162\"},\"coordinates\":null,\"grid_line_alpha\":0.15,\"grid_line_color\":\"#E0E0E0\",\"group\":null,\"ticker\":null},\"id\":\"5165\",\"type\":\"Grid\"},{\"attributes\":{},\"id\":\"5170\",\"type\":\"PanTool\"},{\"attributes\":{\"label\":{\"value\":\"Learned model\"},\"renderers\":[{\"id\":\"5207\"}]},\"id\":\"5221\",\"type\":\"LegendItem\"},{\"attributes\":{\"label\":{\"field\":\"label\"},\"renderers\":[{\"id\":\"5189\"}]},\"id\":\"5202\",\"type\":\"LegendItem\"},{\"attributes\":{\"children\":[{\"id\":\"5223\"},{\"id\":\"5151\"},{\"id\":\"5248\"}],\"margin\":[0,0,0,0],\"name\":\"Row00335\"},\"id\":\"5222\",\"type\":\"Row\"},{\"attributes\":{},\"id\":\"5158\",\"type\":\"LinearScale\"},{\"attributes\":{\"coordinates\":null,\"group\":null,\"text\":\"Linear classification problem\",\"text_color\":\"#E0E0E0\",\"text_font\":\"Josefin Sans\",\"text_font_size\":\"2.1em\"},\"id\":\"5152\",\"type\":\"Title\"},{\"attributes\":{\"coordinates\":null,\"data_source\":{\"id\":\"5203\"},\"glyph\":{\"id\":\"5204\"},\"group\":null,\"hover_glyph\":null,\"muted_glyph\":{\"id\":\"5206\"},\"nonselection_glyph\":{\"id\":\"5205\"},\"view\":{\"id\":\"5208\"}},\"id\":\"5207\",\"type\":\"GlyphRenderer\"},{\"attributes\":{\"fill_alpha\":{\"value\":0.6},\"fill_color\":{\"field\":\"color\"},\"hatch_alpha\":{\"value\":0.6},\"hatch_color\":{\"field\":\"color\"},\"line_alpha\":{\"value\":0.6},\"line_color\":{\"value\":\"white\"},\"size\":{\"value\":10},\"x\":{\"field\":\"x\"},\"y\":{\"field\":\"y\"}},\"id\":\"5186\",\"type\":\"Circle\"},{\"attributes\":{\"margin\":[5,5,5,5],\"name\":\"HSpacer00331\",\"sizing_mode\":\"stretch_width\"},\"id\":\"5223\",\"type\":\"Spacer\"},{\"attributes\":{},\"id\":\"5199\",\"type\":\"Selection\"},{\"attributes\":{\"axis_label\":\"y\",\"axis_label_standoff\":10,\"axis_label_text_color\":\"#FFFFFF\",\"axis_label_text_font\":\"Josefin Sans\",\"axis_label_text_font_size\":\"1.9em\",\"axis_label_text_font_style\":\"bold\",\"axis_line_alpha\":0.4,\"axis_line_color\":\"#E0E0E0\",\"coordinates\":null,\"formatter\":{\"id\":\"5193\"},\"group\":null,\"major_label_policy\":{\"id\":\"5194\"},\"major_label_text_color\":\"#E0E0E0\",\"major_label_text_font\":\"Josefin Sans\",\"major_label_text_font_size\":\"1.15em\",\"major_tick_line_alpha\":0.4,\"major_tick_line_color\":\"#E0E0E0\",\"minor_tick_line_alpha\":0.4,\"minor_tick_line_color\":\"#E0E0E0\",\"ticker\":{\"id\":\"5167\"}},\"id\":\"5166\",\"type\":\"LinearAxis\"},{\"attributes\":{\"overlay\":{\"id\":\"5176\"}},\"id\":\"5172\",\"type\":\"BoxZoomTool\"},{\"attributes\":{\"line_alpha\":0.1,\"line_color\":\"red\",\"line_width\":6,\"x\":{\"field\":\"x\"},\"y\":{\"field\":\"y\"}},\"id\":\"5205\",\"type\":\"Line\"},{\"attributes\":{\"coordinates\":null,\"data_source\":{\"id\":\"5184\"},\"glyph\":{\"id\":\"5186\"},\"group\":null,\"hover_glyph\":null,\"muted_glyph\":{\"id\":\"5188\"},\"nonselection_glyph\":{\"id\":\"5187\"},\"view\":{\"id\":\"5190\"}},\"id\":\"5189\",\"type\":\"GlyphRenderer\"},{\"attributes\":{},\"id\":\"5171\",\"type\":\"WheelZoomTool\"},{\"attributes\":{},\"id\":\"5196\",\"type\":\"BasicTickFormatter\"},{\"attributes\":{},\"id\":\"5197\",\"type\":\"AllLabels\"},{\"attributes\":{\"margin\":[5,5,5,5],\"name\":\"HSpacer00332\",\"sizing_mode\":\"stretch_width\"},\"id\":\"5248\",\"type\":\"Spacer\"},{\"attributes\":{},\"id\":\"5154\",\"type\":\"DataRange1d\"},{\"attributes\":{},\"id\":\"5198\",\"type\":\"UnionRenderers\"},{\"attributes\":{\"axis_label\":\"x\",\"axis_label_standoff\":10,\"axis_label_text_color\":\"#FFFFFF\",\"axis_label_text_font\":\"Josefin Sans\",\"axis_label_text_font_size\":\"1.9em\",\"axis_label_text_font_style\":\"bold\",\"axis_line_alpha\":0.4,\"axis_line_color\":\"#E0E0E0\",\"coordinates\":null,\"formatter\":{\"id\":\"5196\"},\"group\":null,\"major_label_policy\":{\"id\":\"5197\"},\"major_label_text_color\":\"#E0E0E0\",\"major_label_text_font\":\"Josefin Sans\",\"major_label_text_font_size\":\"1.15em\",\"major_tick_line_alpha\":0.4,\"major_tick_line_color\":\"#E0E0E0\",\"minor_tick_line_alpha\":0.4,\"minor_tick_line_color\":\"#E0E0E0\",\"ticker\":{\"id\":\"5163\"}},\"id\":\"5162\",\"type\":\"LinearAxis\"},{\"attributes\":{\"client_comm_id\":\"4eab566fc6e0468d82e2f8cd7f64c37a\",\"comm_id\":\"f46c315b0f664361a3d9ed01583718d9\",\"plot_id\":\"5222\"},\"id\":\"5285\",\"type\":\"panel.models.comm_manager.CommManager\"},{\"attributes\":{},\"id\":\"5160\",\"type\":\"LinearScale\"},{\"attributes\":{},\"id\":\"5175\",\"type\":\"HelpTool\"},{\"attributes\":{\"line_alpha\":0.6,\"line_color\":\"red\",\"line_width\":6,\"x\":{\"field\":\"x\"},\"y\":{\"field\":\"y\"}},\"id\":\"5204\",\"type\":\"Line\"},{\"attributes\":{\"coordinates\":null,\"group\":null,\"items\":[{\"id\":\"5202\"},{\"id\":\"5221\"}]},\"id\":\"5201\",\"type\":\"Legend\"},{\"attributes\":{\"line_alpha\":0.2,\"line_color\":\"red\",\"line_width\":6,\"x\":{\"field\":\"x\"},\"y\":{\"field\":\"y\"}},\"id\":\"5206\",\"type\":\"Line\"},{\"attributes\":{\"bottom_units\":\"screen\",\"coordinates\":null,\"fill_alpha\":0.5,\"fill_color\":\"lightgrey\",\"group\":null,\"left_units\":\"screen\",\"level\":\"overlay\",\"line_alpha\":1.0,\"line_color\":\"black\",\"line_dash\":[4,4],\"line_width\":2,\"right_units\":\"screen\",\"syncable\":false,\"top_units\":\"screen\"},\"id\":\"5176\",\"type\":\"BoxAnnotation\"},{\"attributes\":{},\"id\":\"5193\",\"type\":\"BasicTickFormatter\"},{\"attributes\":{\"fill_alpha\":{\"value\":0.2},\"fill_color\":{\"field\":\"color\"},\"hatch_alpha\":{\"value\":0.2},\"hatch_color\":{\"field\":\"color\"},\"line_alpha\":{\"value\":0.2},\"line_color\":{\"value\":\"white\"},\"size\":{\"value\":10},\"x\":{\"field\":\"x\"},\"y\":{\"field\":\"y\"}},\"id\":\"5188\",\"type\":\"Circle\"},{\"attributes\":{\"tools\":[{\"id\":\"5170\"},{\"id\":\"5171\"},{\"id\":\"5172\"},{\"id\":\"5173\"},{\"id\":\"5174\"},{\"id\":\"5175\"}]},\"id\":\"5177\",\"type\":\"Toolbar\"},{\"attributes\":{\"fill_alpha\":{\"value\":0.1},\"fill_color\":{\"field\":\"color\"},\"hatch_alpha\":{\"value\":0.1},\"hatch_color\":{\"field\":\"color\"},\"line_alpha\":{\"value\":0.1},\"line_color\":{\"value\":\"white\"},\"size\":{\"value\":10},\"x\":{\"field\":\"x\"},\"y\":{\"field\":\"y\"}},\"id\":\"5187\",\"type\":\"Circle\"},{\"attributes\":{\"axis\":{\"id\":\"5166\"},\"coordinates\":null,\"dimension\":1,\"grid_line_alpha\":0.15,\"grid_line_color\":\"#E0E0E0\",\"group\":null,\"ticker\":null},\"id\":\"5169\",\"type\":\"Grid\"}],\"root_ids\":[\"5222\",\"5285\"]},\"title\":\"Bokeh Application\",\"version\":\"2.4.3\"}};\n",
       "    var render_items = [{\"docid\":\"d5c63651-5986-42d0-9b63-2379eb4688c0\",\"root_ids\":[\"5222\"],\"roots\":{\"5222\":\"f88ede2c-b1c6-488d-ad7f-e136070505ae\"}}];\n",
       "    root.Bokeh.embed.embed_items_notebook(docs_json, render_items);\n",
       "    for (const render_item of render_items) {\n",
       "      for (const root_id of render_item.root_ids) {\n",
       "\tconst id_el = document.getElementById(root_id)\n",
       "\tif (id_el.children.length && (id_el.children[0].className === 'bk-root')) {\n",
       "\t  const root_el = id_el.children[0]\n",
       "\t  root_el.id = root_el.id + '-rendered'\n",
       "\t}\n",
       "      }\n",
       "    }\n",
       "  }\n",
       "  if (root.Bokeh !== undefined && root.Bokeh.Panel !== undefined) {\n",
       "    embed_document(root);\n",
       "  } else {\n",
       "    var attempts = 0;\n",
       "    var timer = setInterval(function(root) {\n",
       "      if (root.Bokeh !== undefined && root.Bokeh.Panel !== undefined) {\n",
       "        clearInterval(timer);\n",
       "        embed_document(root);\n",
       "      } else if (document.readyState == \"complete\") {\n",
       "        attempts++;\n",
       "        if (attempts > 200) {\n",
       "          clearInterval(timer);\n",
       "          console.log(\"Bokeh: ERROR: Unable to run BokehJS code because BokehJS library is missing\");\n",
       "        }\n",
       "      }\n",
       "    }, 25, root)\n",
       "  }\n",
       "})(window);</script>"
      ],
      "text/plain": [
       "Row\n",
       "    [0] HSpacer()\n",
       "    [1] Bokeh(Figure)\n",
       "    [2] HSpacer()"
      ]
     },
     "execution_count": 44,
     "metadata": {
      "application/vnd.holoviews_exec.v0+json": {
       "id": "5222"
      }
     },
     "output_type": "execute_result"
    }
   ],
   "source": [
    "n_observations = 200\n",
    "noise = 0.2\n",
    "c1_center = [-2, -1]\n",
    "c2_center = [2, 1]\n",
    "# Create points\n",
    "x_coords, y_class = make_blobs(n_samples=n_observations, centers=[c1_center, c2_center], n_features=2, cluster_std=0.55)\n",
    "x_data = x_coords + (noise * np.random.randn(n_observations, 2))\n",
    "x_data = x_coords\n",
    "y_classes = y_class\n",
    "\n",
    "\n",
    "weight=[1,10]\n",
    "bias=10\n",
    "x =np.linspace(-4,4,100)\n",
    "lr=0.001\n",
    "epoch=100\n",
    "\n",
    "p = scatter_classes(x_data,y_classes, title=\"Simple quadratic problem\", toolbar_location=\"left\")\n",
    "p.line(x,(-bias-weight[0]*x)/weight[1], line_width=6, line_alpha=0.6, color=\"red\", legend_label=r\"Learned model\")\n",
    "plot = (center_plot(p))\n",
    "plot"
   ]
  },
  {
   "cell_type": "code",
   "execution_count": 45,
   "metadata": {},
   "outputs": [
    {
     "name": "stdout",
     "output_type": "stream",
     "text": [
      "loss before training: 0.735595194258014\n",
      "loss after training: 3.174186620112116e-05\n"
     ]
    },
    {
     "data": {},
     "metadata": {},
     "output_type": "display_data"
    },
    {
     "data": {
      "application/vnd.holoviews_exec.v0+json": "",
      "text/html": [
       "<div id='5417'>\n",
       "  <div class=\"bk-root\" id=\"a53b4326-0019-49e4-b8ac-072845284d8a\" data-root-id=\"5417\"></div>\n",
       "</div>\n",
       "<script type=\"application/javascript\">(function(root) {\n",
       "  function embed_document(root) {\n",
       "    var docs_json = {\"003fa999-bdde-4bd4-b738-570d9252ed38\":{\"defs\":[{\"extends\":null,\"module\":null,\"name\":\"ReactiveHTML1\",\"overrides\":[],\"properties\":[]},{\"extends\":null,\"module\":null,\"name\":\"FlexBox1\",\"overrides\":[],\"properties\":[{\"default\":\"flex-start\",\"kind\":null,\"name\":\"align_content\"},{\"default\":\"flex-start\",\"kind\":null,\"name\":\"align_items\"},{\"default\":\"row\",\"kind\":null,\"name\":\"flex_direction\"},{\"default\":\"wrap\",\"kind\":null,\"name\":\"flex_wrap\"},{\"default\":\"flex-start\",\"kind\":null,\"name\":\"justify_content\"}]},{\"extends\":null,\"module\":null,\"name\":\"GridStack1\",\"overrides\":[],\"properties\":[{\"default\":\"warn\",\"kind\":null,\"name\":\"mode\"},{\"default\":null,\"kind\":null,\"name\":\"ncols\"},{\"default\":null,\"kind\":null,\"name\":\"nrows\"},{\"default\":true,\"kind\":null,\"name\":\"allow_resize\"},{\"default\":true,\"kind\":null,\"name\":\"allow_drag\"},{\"default\":[],\"kind\":null,\"name\":\"state\"}]},{\"extends\":null,\"module\":null,\"name\":\"click1\",\"overrides\":[],\"properties\":[{\"default\":\"\",\"kind\":null,\"name\":\"terminal_output\"},{\"default\":\"\",\"kind\":null,\"name\":\"debug_name\"},{\"default\":0,\"kind\":null,\"name\":\"clears\"}]},{\"extends\":null,\"module\":null,\"name\":\"NotificationAreaBase1\",\"overrides\":[],\"properties\":[{\"default\":\"bottom-right\",\"kind\":null,\"name\":\"position\"},{\"default\":0,\"kind\":null,\"name\":\"_clear\"}]},{\"extends\":null,\"module\":null,\"name\":\"NotificationArea1\",\"overrides\":[],\"properties\":[{\"default\":[],\"kind\":null,\"name\":\"notifications\"},{\"default\":\"bottom-right\",\"kind\":null,\"name\":\"position\"},{\"default\":0,\"kind\":null,\"name\":\"_clear\"},{\"default\":[{\"background\":\"#ffc107\",\"icon\":{\"className\":\"fas fa-exclamation-triangle\",\"color\":\"white\",\"tagName\":\"i\"},\"type\":\"warning\"},{\"background\":\"#007bff\",\"icon\":{\"className\":\"fas fa-info-circle\",\"color\":\"white\",\"tagName\":\"i\"},\"type\":\"info\"}],\"kind\":null,\"name\":\"types\"}]},{\"extends\":null,\"module\":null,\"name\":\"Notification\",\"overrides\":[],\"properties\":[{\"default\":null,\"kind\":null,\"name\":\"background\"},{\"default\":3000,\"kind\":null,\"name\":\"duration\"},{\"default\":null,\"kind\":null,\"name\":\"icon\"},{\"default\":\"\",\"kind\":null,\"name\":\"message\"},{\"default\":null,\"kind\":null,\"name\":\"notification_type\"},{\"default\":false,\"kind\":null,\"name\":\"_destroyed\"}]},{\"extends\":null,\"module\":null,\"name\":\"TemplateActions1\",\"overrides\":[],\"properties\":[{\"default\":0,\"kind\":null,\"name\":\"open_modal\"},{\"default\":0,\"kind\":null,\"name\":\"close_modal\"}]},{\"extends\":null,\"module\":null,\"name\":\"MaterialTemplateActions1\",\"overrides\":[],\"properties\":[{\"default\":0,\"kind\":null,\"name\":\"open_modal\"},{\"default\":0,\"kind\":null,\"name\":\"close_modal\"}]}],\"roots\":{\"references\":[{\"attributes\":{\"axis\":{\"id\":\"5361\"},\"coordinates\":null,\"dimension\":1,\"grid_line_alpha\":0.15,\"grid_line_color\":\"#E0E0E0\",\"group\":null,\"ticker\":null},\"id\":\"5364\",\"type\":\"Grid\"},{\"attributes\":{\"axis\":{\"id\":\"5357\"},\"coordinates\":null,\"grid_line_alpha\":0.15,\"grid_line_color\":\"#E0E0E0\",\"group\":null,\"ticker\":null},\"id\":\"5360\",\"type\":\"Grid\"},{\"attributes\":{},\"id\":\"5362\",\"type\":\"BasicTicker\"},{\"attributes\":{\"source\":{\"id\":\"5379\"}},\"id\":\"5385\",\"type\":\"CDSView\"},{\"attributes\":{},\"id\":\"5413\",\"type\":\"UnionRenderers\"},{\"attributes\":{},\"id\":\"5392\",\"type\":\"AllLabels\"},{\"attributes\":{},\"id\":\"5366\",\"type\":\"WheelZoomTool\"},{\"attributes\":{\"fill_alpha\":{\"value\":0.2},\"fill_color\":{\"field\":\"color\"},\"hatch_alpha\":{\"value\":0.2},\"hatch_color\":{\"field\":\"color\"},\"line_alpha\":{\"value\":0.2},\"line_color\":{\"value\":\"white\"},\"size\":{\"value\":10},\"x\":{\"field\":\"x\"},\"y\":{\"field\":\"y\"}},\"id\":\"5383\",\"type\":\"Circle\"},{\"attributes\":{\"axis_label\":\"x\",\"axis_label_standoff\":10,\"axis_label_text_color\":\"#FFFFFF\",\"axis_label_text_font\":\"Josefin Sans\",\"axis_label_text_font_size\":\"1.9em\",\"axis_label_text_font_style\":\"bold\",\"axis_line_alpha\":0.4,\"axis_line_color\":\"#E0E0E0\",\"coordinates\":null,\"formatter\":{\"id\":\"5391\"},\"group\":null,\"major_label_policy\":{\"id\":\"5392\"},\"major_label_text_color\":\"#E0E0E0\",\"major_label_text_font\":\"Josefin Sans\",\"major_label_text_font_size\":\"1.15em\",\"major_tick_line_alpha\":0.4,\"major_tick_line_color\":\"#E0E0E0\",\"minor_tick_line_alpha\":0.4,\"minor_tick_line_color\":\"#E0E0E0\",\"ticker\":{\"id\":\"5358\"}},\"id\":\"5357\",\"type\":\"LinearAxis\"},{\"attributes\":{\"source\":{\"id\":\"5398\"}},\"id\":\"5403\",\"type\":\"CDSView\"},{\"attributes\":{},\"id\":\"5365\",\"type\":\"PanTool\"},{\"attributes\":{\"overlay\":{\"id\":\"5371\"}},\"id\":\"5367\",\"type\":\"BoxZoomTool\"},{\"attributes\":{},\"id\":\"5368\",\"type\":\"SaveTool\"},{\"attributes\":{},\"id\":\"5369\",\"type\":\"ResetTool\"},{\"attributes\":{},\"id\":\"5389\",\"type\":\"AllLabels\"},{\"attributes\":{\"fill_alpha\":{\"value\":0.6},\"fill_color\":{\"field\":\"color\"},\"hatch_alpha\":{\"value\":0.6},\"hatch_color\":{\"field\":\"color\"},\"line_alpha\":{\"value\":0.6},\"line_color\":{\"value\":\"white\"},\"size\":{\"value\":10},\"x\":{\"field\":\"x\"},\"y\":{\"field\":\"y\"}},\"id\":\"5381\",\"type\":\"Circle\"},{\"attributes\":{\"line_alpha\":0.2,\"line_color\":\"red\",\"line_width\":6,\"x\":{\"field\":\"x\"},\"y\":{\"field\":\"y\"}},\"id\":\"5401\",\"type\":\"Line\"},{\"attributes\":{},\"id\":\"5388\",\"type\":\"BasicTickFormatter\"},{\"attributes\":{\"coordinates\":null,\"data_source\":{\"id\":\"5398\"},\"glyph\":{\"id\":\"5399\"},\"group\":null,\"hover_glyph\":null,\"muted_glyph\":{\"id\":\"5401\"},\"nonselection_glyph\":{\"id\":\"5400\"},\"view\":{\"id\":\"5403\"}},\"id\":\"5402\",\"type\":\"GlyphRenderer\"},{\"attributes\":{\"bottom_units\":\"screen\",\"coordinates\":null,\"fill_alpha\":0.5,\"fill_color\":\"lightgrey\",\"group\":null,\"left_units\":\"screen\",\"level\":\"overlay\",\"line_alpha\":1.0,\"line_color\":\"black\",\"line_dash\":[4,4],\"line_width\":2,\"right_units\":\"screen\",\"syncable\":false,\"top_units\":\"screen\"},\"id\":\"5371\",\"type\":\"BoxAnnotation\"},{\"attributes\":{},\"id\":\"5391\",\"type\":\"BasicTickFormatter\"},{\"attributes\":{\"coordinates\":null,\"data_source\":{\"id\":\"5379\"},\"glyph\":{\"id\":\"5381\"},\"group\":null,\"hover_glyph\":null,\"muted_glyph\":{\"id\":\"5383\"},\"nonselection_glyph\":{\"id\":\"5382\"},\"view\":{\"id\":\"5385\"}},\"id\":\"5384\",\"type\":\"GlyphRenderer\"},{\"attributes\":{},\"id\":\"5349\",\"type\":\"DataRange1d\"},{\"attributes\":{\"tools\":[{\"id\":\"5365\"},{\"id\":\"5366\"},{\"id\":\"5367\"},{\"id\":\"5368\"},{\"id\":\"5369\"},{\"id\":\"5370\"}]},\"id\":\"5372\",\"type\":\"Toolbar\"},{\"attributes\":{},\"id\":\"5351\",\"type\":\"DataRange1d\"},{\"attributes\":{\"background_fill_alpha\":0.9,\"background_fill_color\":\"#0f0f0f\",\"below\":[{\"id\":\"5357\"}],\"border_fill_alpha\":0.8,\"border_fill_color\":\"#111111\",\"center\":[{\"id\":\"5360\"},{\"id\":\"5364\"},{\"id\":\"5396\"}],\"height\":450,\"left\":[{\"id\":\"5361\"}],\"outline_line_alpha\":0.25,\"outline_line_color\":\"#E0E0E0\",\"outline_line_width\":3,\"renderers\":[{\"id\":\"5384\"},{\"id\":\"5402\"}],\"title\":{\"id\":\"5347\"},\"toolbar\":{\"id\":\"5372\"},\"x_range\":{\"id\":\"5349\"},\"x_scale\":{\"id\":\"5353\"},\"y_range\":{\"id\":\"5351\"},\"y_scale\":{\"id\":\"5355\"}},\"id\":\"5346\",\"subtype\":\"Figure\",\"type\":\"Plot\"},{\"attributes\":{},\"id\":\"5414\",\"type\":\"Selection\"},{\"attributes\":{},\"id\":\"5353\",\"type\":\"LinearScale\"},{\"attributes\":{\"data\":{\"color\":[\"firebrick\",\"firebrick\",\"midnightblue\",\"midnightblue\",\"firebrick\",\"firebrick\",\"firebrick\",\"firebrick\",\"midnightblue\",\"midnightblue\",\"midnightblue\",\"firebrick\",\"midnightblue\",\"firebrick\",\"midnightblue\",\"midnightblue\",\"midnightblue\",\"firebrick\",\"midnightblue\",\"firebrick\",\"firebrick\",\"firebrick\",\"firebrick\",\"firebrick\",\"midnightblue\",\"midnightblue\",\"midnightblue\",\"firebrick\",\"midnightblue\",\"firebrick\",\"firebrick\",\"midnightblue\",\"firebrick\",\"firebrick\",\"midnightblue\",\"firebrick\",\"midnightblue\",\"firebrick\",\"midnightblue\",\"firebrick\",\"midnightblue\",\"midnightblue\",\"firebrick\",\"midnightblue\",\"firebrick\",\"firebrick\",\"midnightblue\",\"midnightblue\",\"firebrick\",\"firebrick\",\"firebrick\",\"midnightblue\",\"midnightblue\",\"midnightblue\",\"midnightblue\",\"firebrick\",\"midnightblue\",\"firebrick\",\"midnightblue\",\"firebrick\",\"midnightblue\",\"midnightblue\",\"firebrick\",\"midnightblue\",\"firebrick\",\"firebrick\",\"midnightblue\",\"midnightblue\",\"firebrick\",\"firebrick\",\"midnightblue\",\"firebrick\",\"midnightblue\",\"midnightblue\",\"midnightblue\",\"firebrick\",\"midnightblue\",\"midnightblue\",\"midnightblue\",\"midnightblue\",\"midnightblue\",\"firebrick\",\"midnightblue\",\"midnightblue\",\"firebrick\",\"firebrick\",\"firebrick\",\"firebrick\",\"firebrick\",\"firebrick\",\"firebrick\",\"midnightblue\",\"firebrick\",\"firebrick\",\"firebrick\",\"firebrick\",\"firebrick\",\"midnightblue\",\"midnightblue\",\"midnightblue\",\"midnightblue\",\"firebrick\",\"midnightblue\",\"firebrick\",\"midnightblue\",\"midnightblue\",\"midnightblue\",\"firebrick\",\"firebrick\",\"firebrick\",\"midnightblue\",\"midnightblue\",\"midnightblue\",\"firebrick\",\"firebrick\",\"firebrick\",\"midnightblue\",\"midnightblue\",\"midnightblue\",\"firebrick\",\"firebrick\",\"firebrick\",\"firebrick\",\"firebrick\",\"firebrick\",\"firebrick\",\"midnightblue\",\"firebrick\",\"midnightblue\",\"midnightblue\",\"midnightblue\",\"midnightblue\",\"firebrick\",\"firebrick\",\"midnightblue\",\"firebrick\",\"midnightblue\",\"firebrick\",\"firebrick\",\"midnightblue\",\"midnightblue\",\"midnightblue\",\"firebrick\",\"firebrick\",\"midnightblue\",\"midnightblue\",\"midnightblue\",\"midnightblue\",\"midnightblue\",\"firebrick\",\"midnightblue\",\"firebrick\",\"midnightblue\",\"firebrick\",\"midnightblue\",\"midnightblue\",\"midnightblue\",\"firebrick\",\"midnightblue\",\"firebrick\",\"firebrick\",\"midnightblue\",\"midnightblue\",\"midnightblue\",\"midnightblue\",\"firebrick\",\"firebrick\",\"firebrick\",\"firebrick\",\"firebrick\",\"firebrick\",\"firebrick\",\"firebrick\",\"firebrick\",\"midnightblue\",\"midnightblue\",\"firebrick\",\"midnightblue\",\"firebrick\",\"midnightblue\",\"midnightblue\",\"midnightblue\",\"firebrick\",\"firebrick\",\"firebrick\",\"midnightblue\",\"firebrick\",\"midnightblue\",\"firebrick\",\"firebrick\",\"midnightblue\",\"midnightblue\",\"firebrick\",\"firebrick\",\"firebrick\",\"midnightblue\",\"midnightblue\",\"midnightblue\",\"midnightblue\",\"midnightblue\"],\"label\":[\"$$c_2$$\",\"$$c_2$$\",\"$$c_1$$\",\"$$c_1$$\",\"$$c_2$$\",\"$$c_2$$\",\"$$c_2$$\",\"$$c_2$$\",\"$$c_1$$\",\"$$c_1$$\",\"$$c_1$$\",\"$$c_2$$\",\"$$c_1$$\",\"$$c_2$$\",\"$$c_1$$\",\"$$c_1$$\",\"$$c_1$$\",\"$$c_2$$\",\"$$c_1$$\",\"$$c_2$$\",\"$$c_2$$\",\"$$c_2$$\",\"$$c_2$$\",\"$$c_2$$\",\"$$c_1$$\",\"$$c_1$$\",\"$$c_1$$\",\"$$c_2$$\",\"$$c_1$$\",\"$$c_2$$\",\"$$c_2$$\",\"$$c_1$$\",\"$$c_2$$\",\"$$c_2$$\",\"$$c_1$$\",\"$$c_2$$\",\"$$c_1$$\",\"$$c_2$$\",\"$$c_1$$\",\"$$c_2$$\",\"$$c_1$$\",\"$$c_1$$\",\"$$c_2$$\",\"$$c_1$$\",\"$$c_2$$\",\"$$c_2$$\",\"$$c_1$$\",\"$$c_1$$\",\"$$c_2$$\",\"$$c_2$$\",\"$$c_2$$\",\"$$c_1$$\",\"$$c_1$$\",\"$$c_1$$\",\"$$c_1$$\",\"$$c_2$$\",\"$$c_1$$\",\"$$c_2$$\",\"$$c_1$$\",\"$$c_2$$\",\"$$c_1$$\",\"$$c_1$$\",\"$$c_2$$\",\"$$c_1$$\",\"$$c_2$$\",\"$$c_2$$\",\"$$c_1$$\",\"$$c_1$$\",\"$$c_2$$\",\"$$c_2$$\",\"$$c_1$$\",\"$$c_2$$\",\"$$c_1$$\",\"$$c_1$$\",\"$$c_1$$\",\"$$c_2$$\",\"$$c_1$$\",\"$$c_1$$\",\"$$c_1$$\",\"$$c_1$$\",\"$$c_1$$\",\"$$c_2$$\",\"$$c_1$$\",\"$$c_1$$\",\"$$c_2$$\",\"$$c_2$$\",\"$$c_2$$\",\"$$c_2$$\",\"$$c_2$$\",\"$$c_2$$\",\"$$c_2$$\",\"$$c_1$$\",\"$$c_2$$\",\"$$c_2$$\",\"$$c_2$$\",\"$$c_2$$\",\"$$c_2$$\",\"$$c_1$$\",\"$$c_1$$\",\"$$c_1$$\",\"$$c_1$$\",\"$$c_2$$\",\"$$c_1$$\",\"$$c_2$$\",\"$$c_1$$\",\"$$c_1$$\",\"$$c_1$$\",\"$$c_2$$\",\"$$c_2$$\",\"$$c_2$$\",\"$$c_1$$\",\"$$c_1$$\",\"$$c_1$$\",\"$$c_2$$\",\"$$c_2$$\",\"$$c_2$$\",\"$$c_1$$\",\"$$c_1$$\",\"$$c_1$$\",\"$$c_2$$\",\"$$c_2$$\",\"$$c_2$$\",\"$$c_2$$\",\"$$c_2$$\",\"$$c_2$$\",\"$$c_2$$\",\"$$c_1$$\",\"$$c_2$$\",\"$$c_1$$\",\"$$c_1$$\",\"$$c_1$$\",\"$$c_1$$\",\"$$c_2$$\",\"$$c_2$$\",\"$$c_1$$\",\"$$c_2$$\",\"$$c_1$$\",\"$$c_2$$\",\"$$c_2$$\",\"$$c_1$$\",\"$$c_1$$\",\"$$c_1$$\",\"$$c_2$$\",\"$$c_2$$\",\"$$c_1$$\",\"$$c_1$$\",\"$$c_1$$\",\"$$c_1$$\",\"$$c_1$$\",\"$$c_2$$\",\"$$c_1$$\",\"$$c_2$$\",\"$$c_1$$\",\"$$c_2$$\",\"$$c_1$$\",\"$$c_1$$\",\"$$c_1$$\",\"$$c_2$$\",\"$$c_1$$\",\"$$c_2$$\",\"$$c_2$$\",\"$$c_1$$\",\"$$c_1$$\",\"$$c_1$$\",\"$$c_1$$\",\"$$c_2$$\",\"$$c_2$$\",\"$$c_2$$\",\"$$c_2$$\",\"$$c_2$$\",\"$$c_2$$\",\"$$c_2$$\",\"$$c_2$$\",\"$$c_2$$\",\"$$c_1$$\",\"$$c_1$$\",\"$$c_2$$\",\"$$c_1$$\",\"$$c_2$$\",\"$$c_1$$\",\"$$c_1$$\",\"$$c_1$$\",\"$$c_2$$\",\"$$c_2$$\",\"$$c_2$$\",\"$$c_1$$\",\"$$c_2$$\",\"$$c_1$$\",\"$$c_2$$\",\"$$c_2$$\",\"$$c_1$$\",\"$$c_1$$\",\"$$c_2$$\",\"$$c_2$$\",\"$$c_2$$\",\"$$c_1$$\",\"$$c_1$$\",\"$$c_1$$\",\"$$c_1$$\",\"$$c_1$$\"],\"x\":{\"__ndarray__\":\"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\",\"dtype\":\"float64\",\"order\":\"little\",\"shape\":[200]},\"y\":{\"__ndarray__\":\"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\",\"dtype\":\"float64\",\"order\":\"little\",\"shape\":[200]}},\"selected\":{\"id\":\"5394\"},\"selection_policy\":{\"id\":\"5393\"}},\"id\":\"5379\",\"type\":\"ColumnDataSource\"},{\"attributes\":{\"fill_alpha\":{\"value\":0.1},\"fill_color\":{\"field\":\"color\"},\"hatch_alpha\":{\"value\":0.1},\"hatch_color\":{\"field\":\"color\"},\"line_alpha\":{\"value\":0.1},\"line_color\":{\"value\":\"white\"},\"size\":{\"value\":10},\"x\":{\"field\":\"x\"},\"y\":{\"field\":\"y\"}},\"id\":\"5382\",\"type\":\"Circle\"},{\"attributes\":{},\"id\":\"5355\",\"type\":\"LinearScale\"},{\"attributes\":{\"margin\":[5,5,5,5],\"name\":\"HSpacer00339\",\"sizing_mode\":\"stretch_width\"},\"id\":\"5443\",\"type\":\"Spacer\"},{\"attributes\":{\"line_alpha\":0.1,\"line_color\":\"red\",\"line_width\":6,\"x\":{\"field\":\"x\"},\"y\":{\"field\":\"y\"}},\"id\":\"5400\",\"type\":\"Line\"},{\"attributes\":{\"coordinates\":null,\"group\":null,\"text\":\"Linear classification problem\",\"text_color\":\"#E0E0E0\",\"text_font\":\"Josefin Sans\",\"text_font_size\":\"2.1em\"},\"id\":\"5347\",\"type\":\"Title\"},{\"attributes\":{\"axis_label\":\"y\",\"axis_label_standoff\":10,\"axis_label_text_color\":\"#FFFFFF\",\"axis_label_text_font\":\"Josefin Sans\",\"axis_label_text_font_size\":\"1.9em\",\"axis_label_text_font_style\":\"bold\",\"axis_line_alpha\":0.4,\"axis_line_color\":\"#E0E0E0\",\"coordinates\":null,\"formatter\":{\"id\":\"5388\"},\"group\":null,\"major_label_policy\":{\"id\":\"5389\"},\"major_label_text_color\":\"#E0E0E0\",\"major_label_text_font\":\"Josefin Sans\",\"major_label_text_font_size\":\"1.15em\",\"major_tick_line_alpha\":0.4,\"major_tick_line_color\":\"#E0E0E0\",\"minor_tick_line_alpha\":0.4,\"minor_tick_line_color\":\"#E0E0E0\",\"ticker\":{\"id\":\"5362\"}},\"id\":\"5361\",\"type\":\"LinearAxis\"},{\"attributes\":{\"coordinates\":null,\"group\":null,\"items\":[{\"id\":\"5397\"},{\"id\":\"5416\"}]},\"id\":\"5396\",\"type\":\"Legend\"},{\"attributes\":{\"children\":[{\"id\":\"5418\"},{\"id\":\"5346\"},{\"id\":\"5443\"}],\"margin\":[0,0,0,0],\"name\":\"Row00342\"},\"id\":\"5417\",\"type\":\"Row\"},{\"attributes\":{\"line_alpha\":0.6,\"line_color\":\"red\",\"line_width\":6,\"x\":{\"field\":\"x\"},\"y\":{\"field\":\"y\"}},\"id\":\"5399\",\"type\":\"Line\"},{\"attributes\":{\"data\":{\"x\":{\"__ndarray__\":\"AAAAAAAAEMAFav1KgVoPwArU+pUCtQ7AED744IMPDsAVqPUrBWoNwBoS83aGxAzAH3zwwQcfDMAk5u0MiXkLwClQ61cK1ArALrrooosuCsA0JObtDIkJwDmO4ziO4wjAPvjggw8+CMBDYt7OkJgHwEjM2xkS8wbATjbZZJNNBsBSoNavFKgFwFgK1PqVAgXAXXTRRRddBMBi3s6QmLcDwGdIzNsZEgPAbLLJJptsAsByHMdxHMcBwHaGxLydIQHAfPDBBx98AMACtX6lQK3/vwyJeTtDYv6/Fl100UUX/b8gMW9nSMz7vywFav1Kgfq/Ntlkk002+b9ArV8pUOv3v0qBWr9SoPa/VFVVVVVV9b9eKVDrVwr0v2j9SoFav/K/dNFFF1108b9+pUCtXynwvxDzdobEvO2/JJtssskm6784Q2LezpDov0zrVwrU+uW/ZJNNNtlk4794O0Ni3s7gvxjHcRzHcdy/QBdddNFF179oZ0jM2xnSvyBvZ0jM28m/AB988MEHv79Av1Kg1q+kv4C/UqDWr6Q/QB988MEHvz9Ab2dIzNvJP3BnSMzbGdI/UBdddNFF1z8gx3Ecx3HcP4A7Q2LezuA/aJNNNtlk4z9Q61cK1PrlP0BDYt7OkOg/KJtssskm6z8Y83aGxLztP4ClQK1fKfA/eNFFF1108T9s/UqBWr/yP2ApUOtXCvQ/WFVVVVVV9T9MgVq/UqD2P0StXylQ6/c/ONlkk002+T8wBWr9SoH6PyQxb2dIzPs/GF100UUX/T8QiXk7Q2L+PwS1fqVArf8/fvDBBx98AEB4hsS8nSEBQHIcx3EcxwFAbrLJJptsAkBoSMzbGRIDQGTezpCYtwNAXnTRRRddBEBaCtT6lQIFQFSg1q8UqAVATjbZZJNNBkBKzNsZEvMGQERi3s6QmAdAQPjggw8+CEA6juM4juMIQDYk5u0MiQlAMLrooosuCkAqUOtXCtQKQCbm7QyJeQtAIHzwwQcfDEAcEvN2hsQMQBao9SsFag1AED744IMPDkAM1PqVArUOQAZq/UqBWg9AAAAAAAAAEEA=\",\"dtype\":\"float64\",\"order\":\"little\",\"shape\":[100]},\"y\":{\"__ndarray__\":\"DIuEfN4rCEBKTpEzibgHQIkRnuozRQdAydSqod7RBkAImLdYiV4GQEdbxA806wVAhh7Rxt53BUDF4d19iQQFQAOl6jQ0kQRAQmj3694dBECCKwSjiaoDQMDuEFo0NwNAALIdEd/DAkA/dSrIiVACQH44N3803QFAvPtDNt9pAUD7vlDtifYAQDqCXaQ0gwBAeUVqW98PAEBvEe4kFDn/P++XB5NpUv4/bR4hAb9r/T/rpDpvFIX8P2grVN1pnvs/5rFtS7+3+j9kOIe5FNH5P+G+oCdq6vg/X0W6lb8D+D/dy9MDFR33P1xS7XFqNvY/2tgG4L9P9T9YXyBOFWn0P9XlObxqgvM/U2xTKsCb8j/R8myYFbXxP1B5hgZrzvA/nf8/6YDP7z+ZDHPFKwLuP5QZpqHWNOw/kCbZfYFn6j+LMwxaLJroP4ZAPzbXzOY/hU1yEoL/5D+AWqXuLDLjP3xn2MrXZOE/7+gWTgUv3z/mAn0GW5TbP90c476w+dc/2jZJdwZf1D/RUK8vXMTQP4/VKtBjU8o/cgn3QA8ewz/YeoZjddG3P5HFPYqYzaI/xNUiZXMPlL+ATbD3hW6zv9zyC4uX7MC/474/GuwhyL/pinOpQFfPv4OrU5xKRtO/hpHt4/Tg1r+Wd4crn3vav5ldIXNJFt6/06Fd3XnY4L/WlCoBz6Xiv9eH9yQkc+S/3nrESHlA5r/gbZFszg3ov+dgXpAj2+m/6VMrtHio67/vRvjXzXXtv/I5xfsiQ++/ehbJDzyI8L/+j6+h5m7xv30JljORVfK/AoN8xTs887+C/GJX5iL0vwR2SemQCfW/h+8vezvw9b8JaRYN5tb2v4vi/J6Qvfe/DlzjMDuk+L+Q1cnC5Yr5vxBPsFSQcfq/ksiW5jpY+78VQn145T78v5e7YwqQJf2/GTVKnDoM/r+crjAu5fL+vx4oF8CP2f+/z9D+KB1gAMCQDfJxctMAwFFK5brHRgHAE4fYAx26AcDUw8tMci0CwJQAv5XHoALAVT2y3hwUA8AWeqUncocDwNe2mHDH+gPAl/OLuRxuBMA=\",\"dtype\":\"float64\",\"order\":\"little\",\"shape\":[100]}},\"selected\":{\"id\":\"5414\"},\"selection_policy\":{\"id\":\"5413\"}},\"id\":\"5398\",\"type\":\"ColumnDataSource\"},{\"attributes\":{\"label\":{\"value\":\"Learned model\"},\"renderers\":[{\"id\":\"5402\"}]},\"id\":\"5416\",\"type\":\"LegendItem\"},{\"attributes\":{\"client_comm_id\":\"6888365d5a1b45a9a5bc2bb84f14bf7e\",\"comm_id\":\"f5aa15839b01499a9e2bdd456cec0e72\",\"plot_id\":\"5417\"},\"id\":\"5480\",\"type\":\"panel.models.comm_manager.CommManager\"},{\"attributes\":{},\"id\":\"5394\",\"type\":\"Selection\"},{\"attributes\":{\"margin\":[5,5,5,5],\"name\":\"HSpacer00338\",\"sizing_mode\":\"stretch_width\"},\"id\":\"5418\",\"type\":\"Spacer\"},{\"attributes\":{},\"id\":\"5358\",\"type\":\"BasicTicker\"},{\"attributes\":{},\"id\":\"5393\",\"type\":\"UnionRenderers\"},{\"attributes\":{},\"id\":\"5370\",\"type\":\"HelpTool\"},{\"attributes\":{\"label\":{\"field\":\"label\"},\"renderers\":[{\"id\":\"5384\"}]},\"id\":\"5397\",\"type\":\"LegendItem\"}],\"root_ids\":[\"5417\",\"5480\"]},\"title\":\"Bokeh Application\",\"version\":\"2.4.3\"}};\n",
       "    var render_items = [{\"docid\":\"003fa999-bdde-4bd4-b738-570d9252ed38\",\"root_ids\":[\"5417\"],\"roots\":{\"5417\":\"a53b4326-0019-49e4-b8ac-072845284d8a\"}}];\n",
       "    root.Bokeh.embed.embed_items_notebook(docs_json, render_items);\n",
       "    for (const render_item of render_items) {\n",
       "      for (const root_id of render_item.root_ids) {\n",
       "\tconst id_el = document.getElementById(root_id)\n",
       "\tif (id_el.children.length && (id_el.children[0].className === 'bk-root')) {\n",
       "\t  const root_el = id_el.children[0]\n",
       "\t  root_el.id = root_el.id + '-rendered'\n",
       "\t}\n",
       "      }\n",
       "    }\n",
       "  }\n",
       "  if (root.Bokeh !== undefined && root.Bokeh.Panel !== undefined) {\n",
       "    embed_document(root);\n",
       "  } else {\n",
       "    var attempts = 0;\n",
       "    var timer = setInterval(function(root) {\n",
       "      if (root.Bokeh !== undefined && root.Bokeh.Panel !== undefined) {\n",
       "        clearInterval(timer);\n",
       "        embed_document(root);\n",
       "      } else if (document.readyState == \"complete\") {\n",
       "        attempts++;\n",
       "        if (attempts > 200) {\n",
       "          clearInterval(timer);\n",
       "          console.log(\"Bokeh: ERROR: Unable to run BokehJS code because BokehJS library is missing\");\n",
       "        }\n",
       "      }\n",
       "    }, 25, root)\n",
       "  }\n",
       "})(window);</script>"
      ],
      "text/plain": [
       "Row\n",
       "    [0] HSpacer()\n",
       "    [1] Bokeh(Figure)\n",
       "    [2] HSpacer()"
      ]
     },
     "execution_count": 45,
     "metadata": {
      "application/vnd.holoviews_exec.v0+json": {
       "id": "5417"
      }
     },
     "output_type": "execute_result"
    }
   ],
   "source": [
    "def cross_entropy_loss(target,predicted):\n",
    "    return np.mean(-target * np.log2(predicted) - (1-target)*np.log2(1-predicted+1e-12))\n",
    "def forward(x_data,weight,bias):\n",
    "    return 1/(1+np.exp(-(np.dot(x_data,weight)+bias)))\n",
    "\n",
    "\n",
    "print(\"loss before training:\", cross_entropy_loss(y_class,forward(x_data,weight,bias)))\n",
    "for i in range(epoch):\n",
    "    y_bar = forward(x_data,weight,bias)\n",
    "    for j in range(len(x_data)):\n",
    "        weight_gradient = (y_bar[j]- y_class[j])*x_data[j]\n",
    "        weight -= lr*weight_gradient\n",
    "        bias-=(y_bar[j]- y_class[j])\n",
    "\n",
    "print(\"loss after training:\", cross_entropy_loss(y_class,forward(x_data,weight,bias)))\n",
    "\n",
    "p = scatter_classes(x_data,y_classes, title=\"Simple quadratic problem\", toolbar_location=\"left\")\n",
    "p.line(x,(-bias-weight[0]*x)/weight[1], line_width=6, line_alpha=0.6, color=\"red\", legend_label=r\"Learned model\")\n",
    "plot = (center_plot(p))\n",
    "plot"
   ]
  },
  {
   "cell_type": "markdown",
   "metadata": {},
   "source": [
    "<div class=\"alert alert-success\" markdown=\"1\" style=\"color:white; background-color: #013220; border-color: #03C03C\">\n",
    "\n",
    "> ### Question 1.2 - Implement linear classification with JAX\n",
    "\n",
    "> 1. Initialize weights and bias.\n",
    "> 2. Define the hinge loss using Jax.\n",
    "> 3. Implement gradient descent to optimize the weights and bias.\n",
    "\n",
    "</div>"
   ]
  },
  {
   "cell_type": "code",
   "execution_count": 209,
   "metadata": {},
   "outputs": [
    {
     "data": {},
     "metadata": {},
     "output_type": "display_data"
    },
    {
     "data": {
      "application/vnd.holoviews_exec.v0+json": "",
      "text/html": [
       "<div id='30051'>\n",
       "  <div class=\"bk-root\" id=\"86f89c62-506a-4efc-ad74-50fbb767ee95\" data-root-id=\"30051\"></div>\n",
       "</div>\n",
       "<script type=\"application/javascript\">(function(root) {\n",
       "  function embed_document(root) {\n",
       "    var docs_json = {\"6f7b3a95-e0bc-47fb-9245-b4ed4a84a1f2\":{\"defs\":[{\"extends\":null,\"module\":null,\"name\":\"ReactiveHTML1\",\"overrides\":[],\"properties\":[]},{\"extends\":null,\"module\":null,\"name\":\"FlexBox1\",\"overrides\":[],\"properties\":[{\"default\":\"flex-start\",\"kind\":null,\"name\":\"align_content\"},{\"default\":\"flex-start\",\"kind\":null,\"name\":\"align_items\"},{\"default\":\"row\",\"kind\":null,\"name\":\"flex_direction\"},{\"default\":\"wrap\",\"kind\":null,\"name\":\"flex_wrap\"},{\"default\":\"flex-start\",\"kind\":null,\"name\":\"justify_content\"}]},{\"extends\":null,\"module\":null,\"name\":\"GridStack1\",\"overrides\":[],\"properties\":[{\"default\":\"warn\",\"kind\":null,\"name\":\"mode\"},{\"default\":null,\"kind\":null,\"name\":\"ncols\"},{\"default\":null,\"kind\":null,\"name\":\"nrows\"},{\"default\":true,\"kind\":null,\"name\":\"allow_resize\"},{\"default\":true,\"kind\":null,\"name\":\"allow_drag\"},{\"default\":[],\"kind\":null,\"name\":\"state\"}]},{\"extends\":null,\"module\":null,\"name\":\"click1\",\"overrides\":[],\"properties\":[{\"default\":\"\",\"kind\":null,\"name\":\"terminal_output\"},{\"default\":\"\",\"kind\":null,\"name\":\"debug_name\"},{\"default\":0,\"kind\":null,\"name\":\"clears\"}]},{\"extends\":null,\"module\":null,\"name\":\"NotificationAreaBase1\",\"overrides\":[],\"properties\":[{\"default\":\"bottom-right\",\"kind\":null,\"name\":\"position\"},{\"default\":0,\"kind\":null,\"name\":\"_clear\"}]},{\"extends\":null,\"module\":null,\"name\":\"NotificationArea1\",\"overrides\":[],\"properties\":[{\"default\":[],\"kind\":null,\"name\":\"notifications\"},{\"default\":\"bottom-right\",\"kind\":null,\"name\":\"position\"},{\"default\":0,\"kind\":null,\"name\":\"_clear\"},{\"default\":[{\"background\":\"#ffc107\",\"icon\":{\"className\":\"fas fa-exclamation-triangle\",\"color\":\"white\",\"tagName\":\"i\"},\"type\":\"warning\"},{\"background\":\"#007bff\",\"icon\":{\"className\":\"fas fa-info-circle\",\"color\":\"white\",\"tagName\":\"i\"},\"type\":\"info\"}],\"kind\":null,\"name\":\"types\"}]},{\"extends\":null,\"module\":null,\"name\":\"Notification\",\"overrides\":[],\"properties\":[{\"default\":null,\"kind\":null,\"name\":\"background\"},{\"default\":3000,\"kind\":null,\"name\":\"duration\"},{\"default\":null,\"kind\":null,\"name\":\"icon\"},{\"default\":\"\",\"kind\":null,\"name\":\"message\"},{\"default\":null,\"kind\":null,\"name\":\"notification_type\"},{\"default\":false,\"kind\":null,\"name\":\"_destroyed\"}]},{\"extends\":null,\"module\":null,\"name\":\"TemplateActions1\",\"overrides\":[],\"properties\":[{\"default\":0,\"kind\":null,\"name\":\"open_modal\"},{\"default\":0,\"kind\":null,\"name\":\"close_modal\"}]},{\"extends\":null,\"module\":null,\"name\":\"MaterialTemplateActions1\",\"overrides\":[],\"properties\":[{\"default\":0,\"kind\":null,\"name\":\"open_modal\"},{\"default\":0,\"kind\":null,\"name\":\"close_modal\"}]}],\"roots\":{\"references\":[{\"attributes\":{\"bottom_units\":\"screen\",\"coordinates\":null,\"fill_alpha\":0.5,\"fill_color\":\"lightgrey\",\"group\":null,\"left_units\":\"screen\",\"level\":\"overlay\",\"line_alpha\":1.0,\"line_color\":\"black\",\"line_dash\":[4,4],\"line_width\":2,\"right_units\":\"screen\",\"syncable\":false,\"top_units\":\"screen\"},\"id\":\"30005\",\"type\":\"BoxAnnotation\"},{\"attributes\":{\"fill_alpha\":{\"value\":0.1},\"fill_color\":{\"field\":\"color\"},\"hatch_alpha\":{\"value\":0.1},\"hatch_color\":{\"field\":\"color\"},\"line_alpha\":{\"value\":0.1},\"line_color\":{\"value\":\"white\"},\"size\":{\"value\":10},\"x\":{\"field\":\"x\"},\"y\":{\"field\":\"y\"}},\"id\":\"30016\",\"type\":\"Circle\"},{\"attributes\":{},\"id\":\"30028\",\"type\":\"Selection\"},{\"attributes\":{\"axis\":{\"id\":\"29991\"},\"coordinates\":null,\"grid_line_alpha\":0.15,\"grid_line_color\":\"#E0E0E0\",\"group\":null,\"ticker\":null},\"id\":\"29994\",\"type\":\"Grid\"},{\"attributes\":{},\"id\":\"30047\",\"type\":\"UnionRenderers\"},{\"attributes\":{},\"id\":\"29989\",\"type\":\"LinearScale\"},{\"attributes\":{},\"id\":\"29985\",\"type\":\"DataRange1d\"},{\"attributes\":{},\"id\":\"30004\",\"type\":\"HelpTool\"},{\"attributes\":{},\"id\":\"29983\",\"type\":\"DataRange1d\"},{\"attributes\":{\"axis_label\":\"y\",\"axis_label_standoff\":10,\"axis_label_text_color\":\"#FFFFFF\",\"axis_label_text_font\":\"Josefin Sans\",\"axis_label_text_font_size\":\"1.9em\",\"axis_label_text_font_style\":\"bold\",\"axis_line_alpha\":0.4,\"axis_line_color\":\"#E0E0E0\",\"coordinates\":null,\"formatter\":{\"id\":\"30022\"},\"group\":null,\"major_label_policy\":{\"id\":\"30023\"},\"major_label_text_color\":\"#E0E0E0\",\"major_label_text_font\":\"Josefin Sans\",\"major_label_text_font_size\":\"1.15em\",\"major_tick_line_alpha\":0.4,\"major_tick_line_color\":\"#E0E0E0\",\"minor_tick_line_alpha\":0.4,\"minor_tick_line_color\":\"#E0E0E0\",\"ticker\":{\"id\":\"29996\"}},\"id\":\"29995\",\"type\":\"LinearAxis\"},{\"attributes\":{\"background_fill_alpha\":0.9,\"background_fill_color\":\"#0f0f0f\",\"below\":[{\"id\":\"29991\"}],\"border_fill_alpha\":0.8,\"border_fill_color\":\"#111111\",\"center\":[{\"id\":\"29994\"},{\"id\":\"29998\"},{\"id\":\"30030\"}],\"height\":450,\"left\":[{\"id\":\"29995\"}],\"outline_line_alpha\":0.25,\"outline_line_color\":\"#E0E0E0\",\"outline_line_width\":3,\"renderers\":[{\"id\":\"30018\"},{\"id\":\"30036\"}],\"title\":{\"id\":\"29981\"},\"toolbar\":{\"id\":\"30006\"},\"x_range\":{\"id\":\"29983\"},\"x_scale\":{\"id\":\"29987\"},\"y_range\":{\"id\":\"29985\"},\"y_scale\":{\"id\":\"29989\"}},\"id\":\"29980\",\"subtype\":\"Figure\",\"type\":\"Plot\"},{\"attributes\":{\"coordinates\":null,\"data_source\":{\"id\":\"30032\"},\"glyph\":{\"id\":\"30033\"},\"group\":null,\"hover_glyph\":null,\"muted_glyph\":{\"id\":\"30035\"},\"nonselection_glyph\":{\"id\":\"30034\"},\"view\":{\"id\":\"30037\"}},\"id\":\"30036\",\"type\":\"GlyphRenderer\"},{\"attributes\":{\"source\":{\"id\":\"30013\"}},\"id\":\"30019\",\"type\":\"CDSView\"},{\"attributes\":{\"coordinates\":null,\"group\":null,\"text\":\"Linear classification problem\",\"text_color\":\"#E0E0E0\",\"text_font\":\"Josefin Sans\",\"text_font_size\":\"2.1em\"},\"id\":\"29981\",\"type\":\"Title\"},{\"attributes\":{},\"id\":\"30023\",\"type\":\"AllLabels\"},{\"attributes\":{},\"id\":\"29992\",\"type\":\"BasicTicker\"},{\"attributes\":{\"label\":{\"value\":\"Learned model\"},\"renderers\":[{\"id\":\"30036\"}]},\"id\":\"30050\",\"type\":\"LegendItem\"},{\"attributes\":{\"data\":{\"color\":[\"chocolate\",\"chocolate\",\"chocolate\",\"firebrick\",\"firebrick\",\"firebrick\",\"chocolate\",\"firebrick\",\"chocolate\",\"firebrick\",\"firebrick\",\"firebrick\",\"firebrick\",\"chocolate\",\"chocolate\",\"chocolate\",\"chocolate\",\"chocolate\",\"chocolate\",\"firebrick\",\"chocolate\",\"chocolate\",\"chocolate\",\"chocolate\",\"firebrick\",\"chocolate\",\"firebrick\",\"chocolate\",\"chocolate\",\"firebrick\",\"firebrick\",\"chocolate\",\"firebrick\",\"firebrick\",\"chocolate\",\"firebrick\",\"firebrick\",\"chocolate\",\"chocolate\",\"chocolate\",\"chocolate\",\"chocolate\",\"firebrick\",\"firebrick\",\"firebrick\",\"firebrick\",\"firebrick\",\"firebrick\",\"firebrick\",\"chocolate\",\"firebrick\",\"chocolate\",\"firebrick\",\"firebrick\",\"firebrick\",\"chocolate\",\"firebrick\",\"chocolate\",\"chocolate\",\"firebrick\",\"chocolate\",\"chocolate\",\"firebrick\",\"chocolate\",\"chocolate\",\"chocolate\",\"firebrick\",\"chocolate\",\"chocolate\",\"chocolate\",\"chocolate\",\"firebrick\",\"firebrick\",\"chocolate\",\"firebrick\",\"chocolate\",\"chocolate\",\"chocolate\",\"chocolate\",\"chocolate\",\"firebrick\",\"firebrick\",\"firebrick\",\"chocolate\",\"chocolate\",\"firebrick\",\"chocolate\",\"firebrick\",\"firebrick\",\"firebrick\",\"chocolate\",\"chocolate\",\"firebrick\",\"chocolate\",\"firebrick\",\"firebrick\",\"chocolate\",\"chocolate\",\"firebrick\",\"firebrick\",\"firebrick\",\"firebrick\",\"chocolate\",\"chocolate\",\"firebrick\",\"chocolate\",\"chocolate\",\"chocolate\",\"firebrick\",\"firebrick\",\"chocolate\",\"firebrick\",\"chocolate\",\"chocolate\",\"chocolate\",\"firebrick\",\"firebrick\",\"firebrick\",\"firebrick\",\"firebrick\",\"firebrick\",\"chocolate\",\"firebrick\",\"chocolate\",\"firebrick\",\"firebrick\",\"chocolate\",\"firebrick\",\"firebrick\",\"firebrick\",\"firebrick\",\"chocolate\",\"chocolate\",\"chocolate\",\"chocolate\",\"chocolate\",\"firebrick\",\"firebrick\",\"firebrick\",\"firebrick\",\"firebrick\",\"chocolate\",\"firebrick\",\"chocolate\",\"firebrick\",\"firebrick\",\"chocolate\",\"chocolate\",\"chocolate\",\"chocolate\",\"chocolate\",\"chocolate\",\"firebrick\",\"chocolate\",\"chocolate\",\"firebrick\",\"chocolate\",\"firebrick\",\"chocolate\",\"firebrick\",\"chocolate\",\"firebrick\",\"firebrick\",\"chocolate\",\"firebrick\",\"firebrick\",\"chocolate\",\"firebrick\",\"chocolate\",\"firebrick\",\"chocolate\",\"firebrick\",\"firebrick\",\"firebrick\",\"chocolate\",\"firebrick\",\"chocolate\",\"firebrick\",\"firebrick\",\"firebrick\",\"firebrick\",\"chocolate\",\"firebrick\",\"firebrick\",\"chocolate\",\"chocolate\",\"firebrick\",\"chocolate\",\"chocolate\",\"chocolate\",\"chocolate\",\"chocolate\",\"firebrick\",\"chocolate\",\"chocolate\",\"firebrick\",\"firebrick\",\"firebrick\",\"chocolate\",\"firebrick\"],\"label\":[\"$$c_5$$\",\"$$c_5$$\",\"$$c_5$$\",\"$$c_2$$\",\"$$c_2$$\",\"$$c_2$$\",\"$$c_5$$\",\"$$c_2$$\",\"$$c_5$$\",\"$$c_2$$\",\"$$c_2$$\",\"$$c_2$$\",\"$$c_2$$\",\"$$c_5$$\",\"$$c_5$$\",\"$$c_5$$\",\"$$c_5$$\",\"$$c_5$$\",\"$$c_5$$\",\"$$c_2$$\",\"$$c_5$$\",\"$$c_5$$\",\"$$c_5$$\",\"$$c_5$$\",\"$$c_2$$\",\"$$c_5$$\",\"$$c_2$$\",\"$$c_5$$\",\"$$c_5$$\",\"$$c_2$$\",\"$$c_2$$\",\"$$c_5$$\",\"$$c_2$$\",\"$$c_2$$\",\"$$c_5$$\",\"$$c_2$$\",\"$$c_2$$\",\"$$c_5$$\",\"$$c_5$$\",\"$$c_5$$\",\"$$c_5$$\",\"$$c_5$$\",\"$$c_2$$\",\"$$c_2$$\",\"$$c_2$$\",\"$$c_2$$\",\"$$c_2$$\",\"$$c_2$$\",\"$$c_2$$\",\"$$c_5$$\",\"$$c_2$$\",\"$$c_5$$\",\"$$c_2$$\",\"$$c_2$$\",\"$$c_2$$\",\"$$c_5$$\",\"$$c_2$$\",\"$$c_5$$\",\"$$c_5$$\",\"$$c_2$$\",\"$$c_5$$\",\"$$c_5$$\",\"$$c_2$$\",\"$$c_5$$\",\"$$c_5$$\",\"$$c_5$$\",\"$$c_2$$\",\"$$c_5$$\",\"$$c_5$$\",\"$$c_5$$\",\"$$c_5$$\",\"$$c_2$$\",\"$$c_2$$\",\"$$c_5$$\",\"$$c_2$$\",\"$$c_5$$\",\"$$c_5$$\",\"$$c_5$$\",\"$$c_5$$\",\"$$c_5$$\",\"$$c_2$$\",\"$$c_2$$\",\"$$c_2$$\",\"$$c_5$$\",\"$$c_5$$\",\"$$c_2$$\",\"$$c_5$$\",\"$$c_2$$\",\"$$c_2$$\",\"$$c_2$$\",\"$$c_5$$\",\"$$c_5$$\",\"$$c_2$$\",\"$$c_5$$\",\"$$c_2$$\",\"$$c_2$$\",\"$$c_5$$\",\"$$c_5$$\",\"$$c_2$$\",\"$$c_2$$\",\"$$c_2$$\",\"$$c_2$$\",\"$$c_5$$\",\"$$c_5$$\",\"$$c_2$$\",\"$$c_5$$\",\"$$c_5$$\",\"$$c_5$$\",\"$$c_2$$\",\"$$c_2$$\",\"$$c_5$$\",\"$$c_2$$\",\"$$c_5$$\",\"$$c_5$$\",\"$$c_5$$\",\"$$c_2$$\",\"$$c_2$$\",\"$$c_2$$\",\"$$c_2$$\",\"$$c_2$$\",\"$$c_2$$\",\"$$c_5$$\",\"$$c_2$$\",\"$$c_5$$\",\"$$c_2$$\",\"$$c_2$$\",\"$$c_5$$\",\"$$c_2$$\",\"$$c_2$$\",\"$$c_2$$\",\"$$c_2$$\",\"$$c_5$$\",\"$$c_5$$\",\"$$c_5$$\",\"$$c_5$$\",\"$$c_5$$\",\"$$c_2$$\",\"$$c_2$$\",\"$$c_2$$\",\"$$c_2$$\",\"$$c_2$$\",\"$$c_5$$\",\"$$c_2$$\",\"$$c_5$$\",\"$$c_2$$\",\"$$c_2$$\",\"$$c_5$$\",\"$$c_5$$\",\"$$c_5$$\",\"$$c_5$$\",\"$$c_5$$\",\"$$c_5$$\",\"$$c_2$$\",\"$$c_5$$\",\"$$c_5$$\",\"$$c_2$$\",\"$$c_5$$\",\"$$c_2$$\",\"$$c_5$$\",\"$$c_2$$\",\"$$c_5$$\",\"$$c_2$$\",\"$$c_2$$\",\"$$c_5$$\",\"$$c_2$$\",\"$$c_2$$\",\"$$c_5$$\",\"$$c_2$$\",\"$$c_5$$\",\"$$c_2$$\",\"$$c_5$$\",\"$$c_2$$\",\"$$c_2$$\",\"$$c_2$$\",\"$$c_5$$\",\"$$c_2$$\",\"$$c_5$$\",\"$$c_2$$\",\"$$c_2$$\",\"$$c_2$$\",\"$$c_2$$\",\"$$c_5$$\",\"$$c_2$$\",\"$$c_2$$\",\"$$c_5$$\",\"$$c_5$$\",\"$$c_2$$\",\"$$c_5$$\",\"$$c_5$$\",\"$$c_5$$\",\"$$c_5$$\",\"$$c_5$$\",\"$$c_2$$\",\"$$c_5$$\",\"$$c_5$$\",\"$$c_2$$\",\"$$c_2$$\",\"$$c_2$$\",\"$$c_5$$\",\"$$c_2$$\"],\"x\":{\"__ndarray__\":\"XgzFv9EN278fdQjApprzP6Euuz+QrxRAjzDovyGmvz/7wC/AKYy5P2shAUCvPgdAv0kAQH5Uvr+maNi/55oqwNV0BsBnjcu/C5cVwOf22j/PpQXA1kAOwEKHFMB4Q+G/SkgoQLSBC8Ai5+E/30jgv9fCOcDejFg/j7kmQLBfIMAoRyxAiu3UP7k3AMBsJgtAriCyP6THqr+9N+e/HKnpv17THMDr33S/gbQHQMaE/z8QQxZAcPIUQJUd6T/MPdg/KznlP3Behr9XsxtAvdPqv3iBHECJIARAnlmxP7PR67/eX9I/aQj6v1vM2L+0twFA2Qnkvyv45b9LHZc/FoU/wCdnmL+W7yvAWjgCQJ7yO8Br6fS/wPbdv3FIzr/GOQRABjz6PwBJ6b9JCgJAccwEwFIgz78BwNK/J16lvy2aj79GFRdALrbZP8Pc+j/FRM2/ObsJwNKP1z/I28y/ko/EPyCVAEDBdJ8/mOzEvwWsCMCOEPY/wQwBwJglHEDBbDlAvrDov5Kc7b9XoOo/zjYGQEJ7GEB3Zeg/w8sCwJ7OIsDlC8k/257Fv0fRnb+HdxvAtkwlQKXV7D9VcAPAwEpaQDPler+tdrq/RlG9v1BG4T8k+CFAvd+nP3z+EUAMMBdAbnzZP5hhQ8Cjvug/JmUIwL9+EED8rgRAObajv0qqEECrmcQ/jEIdQLqsS0C4lHG/4DnCv478OsDo+ADAj1jSvznzqT8JnyZAG/k2QB+JA0AInac/OYEBwB1nEkCkIvS/XBnvP/fX8j9tMem/7Zqsv6O27L+bHd2/mAzNv140CsCZAHk/5+6gv7RRMMDKbb4/gm4HwLySzz8N6B7A7j8FQHMyLr9x/QpAtwfkPwTvDcCF6Ig/YTgAQMPxx7/ZYvA/0p4ZwDY5pz9UPpq/bMjZP79CFkBBTto//wa/v1tDhT8Wmtq/SukqQNnb6D/kweo/3kLvP/L4AMCFgwxAr/vWP1AP87/hYSbARukTQIOet7/irve/fKzhv3ACEMCX0J+/I0HvP3uP/r9XPhrAriWwP9CIvT8mTyFAg1UvwGXFA0A=\",\"dtype\":\"float32\",\"order\":\"little\",\"shape\":[200]},\"y\":{\"__ndarray__\":\"Mzmav7bmhr9T2cS/0M2gPzorYD+y0Jo/vkYuv0LZpz/3PI6/LyMeP4z2iD/uJVg/CcGyP9RMqr84M0i+n6ScPZuXsj7Yyni/gJnZuzjtsj9Ds0o+JfSJv45BVL/oCLa/5fygP9Yg8L6EQIg/N+niv4kgWL85ApA/JSOEPgiOVb54uLA/Wxo5P0Jqgb6wqao++tXzP2w6gL8TXzC/xjJdv8oQub/coai/+eSVPwJkZj+nRcI/CCCTPxFSmD9zkY0/uS1SP3Knlz5w8XE/Gggvv3T3mz+OV0g+4YkzP8P5Wb8xtPA+KoJBPaDqtr9AVKi72EfXPChFSr8A1eU/8vJYv6EYGz684dO+zGfIPsLELb/9ol6/YOjVvi8ibr9xFbI/w0P/P7WWtr9i7Xc/e2srv56Z8b6z1oS/IvWcvnopjr+4VLM+iIpnP/XDvz8akPq+X+9evzbtaL2eO4C//ZaPPxcqgD+2p8U+v5NXvsM5Or7nZzk/3ygJv/trQD+CGO4/g/chv9Oohr8+eIg/1aT2P3QKPT+6CTs/EI0Jv+zGnr/pCjJA75euv15nYr8SgZW/s1OZPwAA9j64Ckq/Az7EP1mMx79CXSe/c+N9v2oVsT/P650/+isXP1AvsT/SfLQ/Va+PP+7x4r8Me18/xFP5vgx6aD+4kHc/WZZDPVh2dz9FcOU+jnCVP+Im1T8oxma/Xrszv+SgIr+zRJO/RCQkvrNZXz8wyzQ/NpARQMkOlz9rwZ4/lTQdvpQk2D88FO6/S0YhPxJKPz+NGh6/Zf6Ev6VZjL+z4Q+/Vh9GPUe5Wr9H7T0/phoovXLmsb+DiBI/gw0gvxpLkz8wztS8DqwqP5ZGgr/VT/c/cQnkP8ujKr+8tLY/UOncP8vs+77uXUw/pVmiv/1/Lz9uYGO/2m+1P2m+pj9E348/qg+Cv3DGmj9NjwW/wn4TQMdr0D+8oCE9Ec6oPyNxw74qLy4/+4soP0deHL/wMUO/jo9UP+Ip0r8aM4i/tupTv/Uknr9cBJW/e1FvPtb+Azzv7Um/A6aOP2RWJT3YT4A834FWv5duI0A=\",\"dtype\":\"float32\",\"order\":\"little\",\"shape\":[200]}},\"selected\":{\"id\":\"30028\"},\"selection_policy\":{\"id\":\"30027\"}},\"id\":\"30013\",\"type\":\"ColumnDataSource\"},{\"attributes\":{\"line_alpha\":0.1,\"line_color\":\"red\",\"line_width\":6,\"x\":{\"field\":\"x\"},\"y\":{\"field\":\"y\"}},\"id\":\"30034\",\"type\":\"Line\"},{\"attributes\":{\"line_alpha\":0.2,\"line_color\":\"red\",\"line_width\":6,\"x\":{\"field\":\"x\"},\"y\":{\"field\":\"y\"}},\"id\":\"30035\",\"type\":\"Line\"},{\"attributes\":{},\"id\":\"30026\",\"type\":\"AllLabels\"},{\"attributes\":{},\"id\":\"30025\",\"type\":\"BasicTickFormatter\"},{\"attributes\":{\"fill_alpha\":{\"value\":0.6},\"fill_color\":{\"field\":\"color\"},\"hatch_alpha\":{\"value\":0.6},\"hatch_color\":{\"field\":\"color\"},\"line_alpha\":{\"value\":0.6},\"line_color\":{\"value\":\"white\"},\"size\":{\"value\":10},\"x\":{\"field\":\"x\"},\"y\":{\"field\":\"y\"}},\"id\":\"30015\",\"type\":\"Circle\"},{\"attributes\":{\"line_alpha\":0.6,\"line_color\":\"red\",\"line_width\":6,\"x\":{\"field\":\"x\"},\"y\":{\"field\":\"y\"}},\"id\":\"30033\",\"type\":\"Line\"},{\"attributes\":{\"source\":{\"id\":\"30032\"}},\"id\":\"30037\",\"type\":\"CDSView\"},{\"attributes\":{\"axis_label\":\"x\",\"axis_label_standoff\":10,\"axis_label_text_color\":\"#FFFFFF\",\"axis_label_text_font\":\"Josefin Sans\",\"axis_label_text_font_size\":\"1.9em\",\"axis_label_text_font_style\":\"bold\",\"axis_line_alpha\":0.4,\"axis_line_color\":\"#E0E0E0\",\"coordinates\":null,\"formatter\":{\"id\":\"30025\"},\"group\":null,\"major_label_policy\":{\"id\":\"30026\"},\"major_label_text_color\":\"#E0E0E0\",\"major_label_text_font\":\"Josefin Sans\",\"major_label_text_font_size\":\"1.15em\",\"major_tick_line_alpha\":0.4,\"major_tick_line_color\":\"#E0E0E0\",\"minor_tick_line_alpha\":0.4,\"minor_tick_line_color\":\"#E0E0E0\",\"ticker\":{\"id\":\"29992\"}},\"id\":\"29991\",\"type\":\"LinearAxis\"},{\"attributes\":{},\"id\":\"30000\",\"type\":\"WheelZoomTool\"},{\"attributes\":{},\"id\":\"30022\",\"type\":\"BasicTickFormatter\"},{\"attributes\":{},\"id\":\"29999\",\"type\":\"PanTool\"},{\"attributes\":{},\"id\":\"29987\",\"type\":\"LinearScale\"},{\"attributes\":{\"client_comm_id\":\"e0480f7a2986482ea096a2c14b30babd\",\"comm_id\":\"148c54d39b6848babc2429a583c83636\",\"plot_id\":\"30051\"},\"id\":\"30114\",\"type\":\"panel.models.comm_manager.CommManager\"},{\"attributes\":{\"overlay\":{\"id\":\"30005\"}},\"id\":\"30001\",\"type\":\"BoxZoomTool\"},{\"attributes\":{\"coordinates\":null,\"group\":null,\"items\":[{\"id\":\"30031\"},{\"id\":\"30050\"}]},\"id\":\"30030\",\"type\":\"Legend\"},{\"attributes\":{},\"id\":\"30002\",\"type\":\"SaveTool\"},{\"attributes\":{\"label\":{\"field\":\"label\"},\"renderers\":[{\"id\":\"30018\"}]},\"id\":\"30031\",\"type\":\"LegendItem\"},{\"attributes\":{},\"id\":\"30003\",\"type\":\"ResetTool\"},{\"attributes\":{},\"id\":\"29996\",\"type\":\"BasicTicker\"},{\"attributes\":{\"margin\":[5,5,5,5],\"name\":\"HSpacer01227\",\"sizing_mode\":\"stretch_width\"},\"id\":\"30052\",\"type\":\"Spacer\"},{\"attributes\":{\"fill_alpha\":{\"value\":0.2},\"fill_color\":{\"field\":\"color\"},\"hatch_alpha\":{\"value\":0.2},\"hatch_color\":{\"field\":\"color\"},\"line_alpha\":{\"value\":0.2},\"line_color\":{\"value\":\"white\"},\"size\":{\"value\":10},\"x\":{\"field\":\"x\"},\"y\":{\"field\":\"y\"}},\"id\":\"30017\",\"type\":\"Circle\"},{\"attributes\":{\"data\":{\"x\":{\"__ndarray__\":\"AACAwArUesAUqHXAIHxwwCpQa8A0JGbAPvhgwEjMW8BSoFbAXnRRwGhITMByHEfAfPBBwIbEPMCQmDfAnGwywKZALcCwFCjAuugiwMS8HcDOkBjA2mQTwOQ4DsDuDAnA+OADwAVq/b8ZEvO/L7rov0Ri3r9YCtS/bLLJv4Fav7+XArW/q6qqv8BSoL/U+pW/6KKLv/1Kgb8m5m2/TjZZv3iGRL+g1i+/yCYbv/J2Br88juO+jC66vuDOkL5g3k6+AD74vaB+Jb2gfiU9AD74PWDeTj7gzpA+jC66PjyO4z7ydgY/yCYbP6DWLz94hkQ/TjZZPybmbT/9SoE/6KKLP9T6lT/AUqA/q6qqP5UCtT+BWr8/bLLJP1gK1D9EYt4/L7roPxkS8z8Fav0/+OADQO4MCUDkOA5A2mQTQM6QGEDEvB1AuugiQLAUKECmQC1AnGwyQJCYN0CGxDxAfPBBQHIcR0BoSExAXnRRQFKgVkBIzFtAPvhgQDQkZkAqUGtAIHxwQBSodUAK1HpAAACAQA==\",\"dtype\":\"float32\",\"order\":\"little\",\"shape\":[100]},\"y\":{\"__ndarray__\":\"mpkZvy+rG7/FvB2/Ws4fv+/fIb+F8SO/GgMmv7AUKL9GJiq/2jcsv3BJLr8GWzC/m2wyvzF+NL/Gjza/W6E4v/GyOr+GxDy/HNY+v7LnQL9H+UK/3ApFv3IcR78HLkm/nT9LvzJRTb/IYk+/XXRRv/OFU7+Il1W/HalXv7O6Wb9IzFu/3t1dv3PvX78KAWK/nhJkvzMkZr/KNWi/Xkdqv/NYbL+Kam6/IHxwv7WNcr9Kn3S/4LB2v3XCeL8K1Hq/oOV8vzX3fr9mhIC/MI2Bv/uVgr/GnoO/kKeEv1uwhb8muYa/8MGHv7vKiL+G04m/UdyKvxvli7/m7Yy/sfaNv3v/jr9GCJC/ERGRv9wZkr+mIpO/ciuUvzw0lb8GPZa/0kWXv5xOmL9nV5m/MmCav/1om7/HcZy/knqdv12Dnr8njJ+/8pSgv72dob+IpqK/Uq+jvx24pL/owKW/ssmmv33Sp79I26i/E+Spv93sqr+o9au/c/6svz4Hrr8IEK+/0xiwv54hsb9oKrK/MzOzvw==\",\"dtype\":\"float32\",\"order\":\"little\",\"shape\":[100]}},\"selected\":{\"id\":\"30048\"},\"selection_policy\":{\"id\":\"30047\"}},\"id\":\"30032\",\"type\":\"ColumnDataSource\"},{\"attributes\":{\"coordinates\":null,\"data_source\":{\"id\":\"30013\"},\"glyph\":{\"id\":\"30015\"},\"group\":null,\"hover_glyph\":null,\"muted_glyph\":{\"id\":\"30017\"},\"nonselection_glyph\":{\"id\":\"30016\"},\"view\":{\"id\":\"30019\"}},\"id\":\"30018\",\"type\":\"GlyphRenderer\"},{\"attributes\":{\"children\":[{\"id\":\"30052\"},{\"id\":\"29980\"},{\"id\":\"30077\"}],\"margin\":[0,0,0,0],\"name\":\"Row01231\"},\"id\":\"30051\",\"type\":\"Row\"},{\"attributes\":{\"tools\":[{\"id\":\"29999\"},{\"id\":\"30000\"},{\"id\":\"30001\"},{\"id\":\"30002\"},{\"id\":\"30003\"},{\"id\":\"30004\"}]},\"id\":\"30006\",\"type\":\"Toolbar\"},{\"attributes\":{\"axis\":{\"id\":\"29995\"},\"coordinates\":null,\"dimension\":1,\"grid_line_alpha\":0.15,\"grid_line_color\":\"#E0E0E0\",\"group\":null,\"ticker\":null},\"id\":\"29998\",\"type\":\"Grid\"},{\"attributes\":{\"margin\":[5,5,5,5],\"name\":\"HSpacer01228\",\"sizing_mode\":\"stretch_width\"},\"id\":\"30077\",\"type\":\"Spacer\"},{\"attributes\":{},\"id\":\"30048\",\"type\":\"Selection\"},{\"attributes\":{},\"id\":\"30027\",\"type\":\"UnionRenderers\"}],\"root_ids\":[\"30051\",\"30114\"]},\"title\":\"Bokeh Application\",\"version\":\"2.4.3\"}};\n",
       "    var render_items = [{\"docid\":\"6f7b3a95-e0bc-47fb-9245-b4ed4a84a1f2\",\"root_ids\":[\"30051\"],\"roots\":{\"30051\":\"86f89c62-506a-4efc-ad74-50fbb767ee95\"}}];\n",
       "    root.Bokeh.embed.embed_items_notebook(docs_json, render_items);\n",
       "    for (const render_item of render_items) {\n",
       "      for (const root_id of render_item.root_ids) {\n",
       "\tconst id_el = document.getElementById(root_id)\n",
       "\tif (id_el.children.length && (id_el.children[0].className === 'bk-root')) {\n",
       "\t  const root_el = id_el.children[0]\n",
       "\t  root_el.id = root_el.id + '-rendered'\n",
       "\t}\n",
       "      }\n",
       "    }\n",
       "  }\n",
       "  if (root.Bokeh !== undefined && root.Bokeh.Panel !== undefined) {\n",
       "    embed_document(root);\n",
       "  } else {\n",
       "    var attempts = 0;\n",
       "    var timer = setInterval(function(root) {\n",
       "      if (root.Bokeh !== undefined && root.Bokeh.Panel !== undefined) {\n",
       "        clearInterval(timer);\n",
       "        embed_document(root);\n",
       "      } else if (document.readyState == \"complete\") {\n",
       "        attempts++;\n",
       "        if (attempts > 200) {\n",
       "          clearInterval(timer);\n",
       "          console.log(\"Bokeh: ERROR: Unable to run BokehJS code because BokehJS library is missing\");\n",
       "        }\n",
       "      }\n",
       "    }, 25, root)\n",
       "  }\n",
       "})(window);</script>"
      ],
      "text/plain": [
       "Row\n",
       "    [0] HSpacer()\n",
       "    [1] Bokeh(Figure)\n",
       "    [2] HSpacer()"
      ]
     },
     "execution_count": 209,
     "metadata": {
      "application/vnd.holoviews_exec.v0+json": {
       "id": "30051"
      }
     },
     "output_type": "execute_result"
    }
   ],
   "source": [
    "import numpy as np\n",
    "from sklearn.datasets import make_blobs\n",
    "from cml.plot import scatter_classes\n",
    "import jax\n",
    "import jax.numpy as jnp\n",
    "from jax import grad,jit,random\n",
    "# Properties of the problem\n",
    "n_observations = 200\n",
    "noise = 0.2\n",
    "c1_center = [-2, -1]\n",
    "c2_center = [2, 1]\n",
    "# Create points\n",
    "key = random.PRNGKey(758493)\n",
    "x_coords, y_class = make_blobs(n_samples=n_observations, centers=[c1_center, c2_center], n_features=2, cluster_std=0.55)\n",
    "x_data = x_coords + (noise * random.uniform(key,shape=(n_observations, 2)))\n",
    "\n",
    "y_class[y_class == 0] = -1\n",
    "\n",
    "weight= [1.,10.]\n",
    "bias=10.\n",
    "x =jnp.linspace(-4,4,100)\n",
    "lr=0.01\n",
    "epoch=1000\n",
    "p = scatter_classes(x_data,y_class, title=\"Simple quadratic problem\", toolbar_location=\"left\")\n",
    "a = (-bias-weight[0]*x)/weight[1]\n",
    "\n",
    "p.line(np.array(x),np.array((-bias-weight[0]*x)/weight[1]), line_width=6, line_alpha=0.6, color=\"red\", legend_label=r\"Learned model\")\n",
    "weight = jnp.array(weight)\n",
    "plot = (center_plot(p))\n",
    "plot\n"
   ]
  },
  {
   "cell_type": "code",
   "execution_count": 210,
   "metadata": {},
   "outputs": [
    {
     "name": "stdout",
     "output_type": "stream",
     "text": [
      "loss before training: 280.21994\n",
      "loss after training: 0.0\n",
      "elpased time:  0.059235572814941406\n"
     ]
    },
    {
     "data": {},
     "metadata": {},
     "output_type": "display_data"
    },
    {
     "data": {
      "application/vnd.holoviews_exec.v0+json": "",
      "text/html": [
       "<div id='30246'>\n",
       "  <div class=\"bk-root\" id=\"b94c1a9e-0f54-43d9-971c-1cb84d034901\" data-root-id=\"30246\"></div>\n",
       "</div>\n",
       "<script type=\"application/javascript\">(function(root) {\n",
       "  function embed_document(root) {\n",
       "    var docs_json = {\"b6a7f2f5-d66d-4c7e-a789-b8e986c732b3\":{\"defs\":[{\"extends\":null,\"module\":null,\"name\":\"ReactiveHTML1\",\"overrides\":[],\"properties\":[]},{\"extends\":null,\"module\":null,\"name\":\"FlexBox1\",\"overrides\":[],\"properties\":[{\"default\":\"flex-start\",\"kind\":null,\"name\":\"align_content\"},{\"default\":\"flex-start\",\"kind\":null,\"name\":\"align_items\"},{\"default\":\"row\",\"kind\":null,\"name\":\"flex_direction\"},{\"default\":\"wrap\",\"kind\":null,\"name\":\"flex_wrap\"},{\"default\":\"flex-start\",\"kind\":null,\"name\":\"justify_content\"}]},{\"extends\":null,\"module\":null,\"name\":\"GridStack1\",\"overrides\":[],\"properties\":[{\"default\":\"warn\",\"kind\":null,\"name\":\"mode\"},{\"default\":null,\"kind\":null,\"name\":\"ncols\"},{\"default\":null,\"kind\":null,\"name\":\"nrows\"},{\"default\":true,\"kind\":null,\"name\":\"allow_resize\"},{\"default\":true,\"kind\":null,\"name\":\"allow_drag\"},{\"default\":[],\"kind\":null,\"name\":\"state\"}]},{\"extends\":null,\"module\":null,\"name\":\"click1\",\"overrides\":[],\"properties\":[{\"default\":\"\",\"kind\":null,\"name\":\"terminal_output\"},{\"default\":\"\",\"kind\":null,\"name\":\"debug_name\"},{\"default\":0,\"kind\":null,\"name\":\"clears\"}]},{\"extends\":null,\"module\":null,\"name\":\"NotificationAreaBase1\",\"overrides\":[],\"properties\":[{\"default\":\"bottom-right\",\"kind\":null,\"name\":\"position\"},{\"default\":0,\"kind\":null,\"name\":\"_clear\"}]},{\"extends\":null,\"module\":null,\"name\":\"NotificationArea1\",\"overrides\":[],\"properties\":[{\"default\":[],\"kind\":null,\"name\":\"notifications\"},{\"default\":\"bottom-right\",\"kind\":null,\"name\":\"position\"},{\"default\":0,\"kind\":null,\"name\":\"_clear\"},{\"default\":[{\"background\":\"#ffc107\",\"icon\":{\"className\":\"fas fa-exclamation-triangle\",\"color\":\"white\",\"tagName\":\"i\"},\"type\":\"warning\"},{\"background\":\"#007bff\",\"icon\":{\"className\":\"fas fa-info-circle\",\"color\":\"white\",\"tagName\":\"i\"},\"type\":\"info\"}],\"kind\":null,\"name\":\"types\"}]},{\"extends\":null,\"module\":null,\"name\":\"Notification\",\"overrides\":[],\"properties\":[{\"default\":null,\"kind\":null,\"name\":\"background\"},{\"default\":3000,\"kind\":null,\"name\":\"duration\"},{\"default\":null,\"kind\":null,\"name\":\"icon\"},{\"default\":\"\",\"kind\":null,\"name\":\"message\"},{\"default\":null,\"kind\":null,\"name\":\"notification_type\"},{\"default\":false,\"kind\":null,\"name\":\"_destroyed\"}]},{\"extends\":null,\"module\":null,\"name\":\"TemplateActions1\",\"overrides\":[],\"properties\":[{\"default\":0,\"kind\":null,\"name\":\"open_modal\"},{\"default\":0,\"kind\":null,\"name\":\"close_modal\"}]},{\"extends\":null,\"module\":null,\"name\":\"MaterialTemplateActions1\",\"overrides\":[],\"properties\":[{\"default\":0,\"kind\":null,\"name\":\"open_modal\"},{\"default\":0,\"kind\":null,\"name\":\"close_modal\"}]}],\"roots\":{\"references\":[{\"attributes\":{},\"id\":\"30221\",\"type\":\"AllLabels\"},{\"attributes\":{},\"id\":\"30199\",\"type\":\"HelpTool\"},{\"attributes\":{\"children\":[{\"id\":\"30247\"},{\"id\":\"30175\"},{\"id\":\"30272\"}],\"margin\":[0,0,0,0],\"name\":\"Row01238\"},\"id\":\"30246\",\"type\":\"Row\"},{\"attributes\":{\"margin\":[5,5,5,5],\"name\":\"HSpacer01235\",\"sizing_mode\":\"stretch_width\"},\"id\":\"30272\",\"type\":\"Spacer\"},{\"attributes\":{\"margin\":[5,5,5,5],\"name\":\"HSpacer01234\",\"sizing_mode\":\"stretch_width\"},\"id\":\"30247\",\"type\":\"Spacer\"},{\"attributes\":{\"label\":{\"field\":\"label\"},\"renderers\":[{\"id\":\"30213\"}]},\"id\":\"30226\",\"type\":\"LegendItem\"},{\"attributes\":{\"client_comm_id\":\"b75e7cb804464bd1af3033ca894f9d91\",\"comm_id\":\"e8362d0009d1472da1371936cba7dbac\",\"plot_id\":\"30246\"},\"id\":\"30309\",\"type\":\"panel.models.comm_manager.CommManager\"},{\"attributes\":{\"source\":{\"id\":\"30208\"}},\"id\":\"30214\",\"type\":\"CDSView\"},{\"attributes\":{},\"id\":\"30218\",\"type\":\"AllLabels\"},{\"attributes\":{\"axis\":{\"id\":\"30186\"},\"coordinates\":null,\"grid_line_alpha\":0.15,\"grid_line_color\":\"#E0E0E0\",\"group\":null,\"ticker\":null},\"id\":\"30189\",\"type\":\"Grid\"},{\"attributes\":{},\"id\":\"30191\",\"type\":\"BasicTicker\"},{\"attributes\":{\"data\":{\"color\":[\"chocolate\",\"chocolate\",\"chocolate\",\"firebrick\",\"firebrick\",\"firebrick\",\"chocolate\",\"firebrick\",\"chocolate\",\"firebrick\",\"firebrick\",\"firebrick\",\"firebrick\",\"chocolate\",\"chocolate\",\"chocolate\",\"chocolate\",\"chocolate\",\"chocolate\",\"firebrick\",\"chocolate\",\"chocolate\",\"chocolate\",\"chocolate\",\"firebrick\",\"chocolate\",\"firebrick\",\"chocolate\",\"chocolate\",\"firebrick\",\"firebrick\",\"chocolate\",\"firebrick\",\"firebrick\",\"chocolate\",\"firebrick\",\"firebrick\",\"chocolate\",\"chocolate\",\"chocolate\",\"chocolate\",\"chocolate\",\"firebrick\",\"firebrick\",\"firebrick\",\"firebrick\",\"firebrick\",\"firebrick\",\"firebrick\",\"chocolate\",\"firebrick\",\"chocolate\",\"firebrick\",\"firebrick\",\"firebrick\",\"chocolate\",\"firebrick\",\"chocolate\",\"chocolate\",\"firebrick\",\"chocolate\",\"chocolate\",\"firebrick\",\"chocolate\",\"chocolate\",\"chocolate\",\"firebrick\",\"chocolate\",\"chocolate\",\"chocolate\",\"chocolate\",\"firebrick\",\"firebrick\",\"chocolate\",\"firebrick\",\"chocolate\",\"chocolate\",\"chocolate\",\"chocolate\",\"chocolate\",\"firebrick\",\"firebrick\",\"firebrick\",\"chocolate\",\"chocolate\",\"firebrick\",\"chocolate\",\"firebrick\",\"firebrick\",\"firebrick\",\"chocolate\",\"chocolate\",\"firebrick\",\"chocolate\",\"firebrick\",\"firebrick\",\"chocolate\",\"chocolate\",\"firebrick\",\"firebrick\",\"firebrick\",\"firebrick\",\"chocolate\",\"chocolate\",\"firebrick\",\"chocolate\",\"chocolate\",\"chocolate\",\"firebrick\",\"firebrick\",\"chocolate\",\"firebrick\",\"chocolate\",\"chocolate\",\"chocolate\",\"firebrick\",\"firebrick\",\"firebrick\",\"firebrick\",\"firebrick\",\"firebrick\",\"chocolate\",\"firebrick\",\"chocolate\",\"firebrick\",\"firebrick\",\"chocolate\",\"firebrick\",\"firebrick\",\"firebrick\",\"firebrick\",\"chocolate\",\"chocolate\",\"chocolate\",\"chocolate\",\"chocolate\",\"firebrick\",\"firebrick\",\"firebrick\",\"firebrick\",\"firebrick\",\"chocolate\",\"firebrick\",\"chocolate\",\"firebrick\",\"firebrick\",\"chocolate\",\"chocolate\",\"chocolate\",\"chocolate\",\"chocolate\",\"chocolate\",\"firebrick\",\"chocolate\",\"chocolate\",\"firebrick\",\"chocolate\",\"firebrick\",\"chocolate\",\"firebrick\",\"chocolate\",\"firebrick\",\"firebrick\",\"chocolate\",\"firebrick\",\"firebrick\",\"chocolate\",\"firebrick\",\"chocolate\",\"firebrick\",\"chocolate\",\"firebrick\",\"firebrick\",\"firebrick\",\"chocolate\",\"firebrick\",\"chocolate\",\"firebrick\",\"firebrick\",\"firebrick\",\"firebrick\",\"chocolate\",\"firebrick\",\"firebrick\",\"chocolate\",\"chocolate\",\"firebrick\",\"chocolate\",\"chocolate\",\"chocolate\",\"chocolate\",\"chocolate\",\"firebrick\",\"chocolate\",\"chocolate\",\"firebrick\",\"firebrick\",\"firebrick\",\"chocolate\",\"firebrick\"],\"label\":[\"$$c_5$$\",\"$$c_5$$\",\"$$c_5$$\",\"$$c_2$$\",\"$$c_2$$\",\"$$c_2$$\",\"$$c_5$$\",\"$$c_2$$\",\"$$c_5$$\",\"$$c_2$$\",\"$$c_2$$\",\"$$c_2$$\",\"$$c_2$$\",\"$$c_5$$\",\"$$c_5$$\",\"$$c_5$$\",\"$$c_5$$\",\"$$c_5$$\",\"$$c_5$$\",\"$$c_2$$\",\"$$c_5$$\",\"$$c_5$$\",\"$$c_5$$\",\"$$c_5$$\",\"$$c_2$$\",\"$$c_5$$\",\"$$c_2$$\",\"$$c_5$$\",\"$$c_5$$\",\"$$c_2$$\",\"$$c_2$$\",\"$$c_5$$\",\"$$c_2$$\",\"$$c_2$$\",\"$$c_5$$\",\"$$c_2$$\",\"$$c_2$$\",\"$$c_5$$\",\"$$c_5$$\",\"$$c_5$$\",\"$$c_5$$\",\"$$c_5$$\",\"$$c_2$$\",\"$$c_2$$\",\"$$c_2$$\",\"$$c_2$$\",\"$$c_2$$\",\"$$c_2$$\",\"$$c_2$$\",\"$$c_5$$\",\"$$c_2$$\",\"$$c_5$$\",\"$$c_2$$\",\"$$c_2$$\",\"$$c_2$$\",\"$$c_5$$\",\"$$c_2$$\",\"$$c_5$$\",\"$$c_5$$\",\"$$c_2$$\",\"$$c_5$$\",\"$$c_5$$\",\"$$c_2$$\",\"$$c_5$$\",\"$$c_5$$\",\"$$c_5$$\",\"$$c_2$$\",\"$$c_5$$\",\"$$c_5$$\",\"$$c_5$$\",\"$$c_5$$\",\"$$c_2$$\",\"$$c_2$$\",\"$$c_5$$\",\"$$c_2$$\",\"$$c_5$$\",\"$$c_5$$\",\"$$c_5$$\",\"$$c_5$$\",\"$$c_5$$\",\"$$c_2$$\",\"$$c_2$$\",\"$$c_2$$\",\"$$c_5$$\",\"$$c_5$$\",\"$$c_2$$\",\"$$c_5$$\",\"$$c_2$$\",\"$$c_2$$\",\"$$c_2$$\",\"$$c_5$$\",\"$$c_5$$\",\"$$c_2$$\",\"$$c_5$$\",\"$$c_2$$\",\"$$c_2$$\",\"$$c_5$$\",\"$$c_5$$\",\"$$c_2$$\",\"$$c_2$$\",\"$$c_2$$\",\"$$c_2$$\",\"$$c_5$$\",\"$$c_5$$\",\"$$c_2$$\",\"$$c_5$$\",\"$$c_5$$\",\"$$c_5$$\",\"$$c_2$$\",\"$$c_2$$\",\"$$c_5$$\",\"$$c_2$$\",\"$$c_5$$\",\"$$c_5$$\",\"$$c_5$$\",\"$$c_2$$\",\"$$c_2$$\",\"$$c_2$$\",\"$$c_2$$\",\"$$c_2$$\",\"$$c_2$$\",\"$$c_5$$\",\"$$c_2$$\",\"$$c_5$$\",\"$$c_2$$\",\"$$c_2$$\",\"$$c_5$$\",\"$$c_2$$\",\"$$c_2$$\",\"$$c_2$$\",\"$$c_2$$\",\"$$c_5$$\",\"$$c_5$$\",\"$$c_5$$\",\"$$c_5$$\",\"$$c_5$$\",\"$$c_2$$\",\"$$c_2$$\",\"$$c_2$$\",\"$$c_2$$\",\"$$c_2$$\",\"$$c_5$$\",\"$$c_2$$\",\"$$c_5$$\",\"$$c_2$$\",\"$$c_2$$\",\"$$c_5$$\",\"$$c_5$$\",\"$$c_5$$\",\"$$c_5$$\",\"$$c_5$$\",\"$$c_5$$\",\"$$c_2$$\",\"$$c_5$$\",\"$$c_5$$\",\"$$c_2$$\",\"$$c_5$$\",\"$$c_2$$\",\"$$c_5$$\",\"$$c_2$$\",\"$$c_5$$\",\"$$c_2$$\",\"$$c_2$$\",\"$$c_5$$\",\"$$c_2$$\",\"$$c_2$$\",\"$$c_5$$\",\"$$c_2$$\",\"$$c_5$$\",\"$$c_2$$\",\"$$c_5$$\",\"$$c_2$$\",\"$$c_2$$\",\"$$c_2$$\",\"$$c_5$$\",\"$$c_2$$\",\"$$c_5$$\",\"$$c_2$$\",\"$$c_2$$\",\"$$c_2$$\",\"$$c_2$$\",\"$$c_5$$\",\"$$c_2$$\",\"$$c_2$$\",\"$$c_5$$\",\"$$c_5$$\",\"$$c_2$$\",\"$$c_5$$\",\"$$c_5$$\",\"$$c_5$$\",\"$$c_5$$\",\"$$c_5$$\",\"$$c_2$$\",\"$$c_5$$\",\"$$c_5$$\",\"$$c_2$$\",\"$$c_2$$\",\"$$c_2$$\",\"$$c_5$$\",\"$$c_2$$\"],\"x\":{\"__ndarray__\":\"XgzFv9EN278fdQjApprzP6Euuz+QrxRAjzDovyGmvz/7wC/AKYy5P2shAUCvPgdAv0kAQH5Uvr+maNi/55oqwNV0BsBnjcu/C5cVwOf22j/PpQXA1kAOwEKHFMB4Q+G/SkgoQLSBC8Ai5+E/30jgv9fCOcDejFg/j7kmQLBfIMAoRyxAiu3UP7k3AMBsJgtAriCyP6THqr+9N+e/HKnpv17THMDr33S/gbQHQMaE/z8QQxZAcPIUQJUd6T/MPdg/KznlP3Behr9XsxtAvdPqv3iBHECJIARAnlmxP7PR67/eX9I/aQj6v1vM2L+0twFA2Qnkvyv45b9LHZc/FoU/wCdnmL+W7yvAWjgCQJ7yO8Br6fS/wPbdv3FIzr/GOQRABjz6PwBJ6b9JCgJAccwEwFIgz78BwNK/J16lvy2aj79GFRdALrbZP8Pc+j/FRM2/ObsJwNKP1z/I28y/ko/EPyCVAEDBdJ8/mOzEvwWsCMCOEPY/wQwBwJglHEDBbDlAvrDov5Kc7b9XoOo/zjYGQEJ7GEB3Zeg/w8sCwJ7OIsDlC8k/257Fv0fRnb+HdxvAtkwlQKXV7D9VcAPAwEpaQDPler+tdrq/RlG9v1BG4T8k+CFAvd+nP3z+EUAMMBdAbnzZP5hhQ8Cjvug/JmUIwL9+EED8rgRAObajv0qqEECrmcQ/jEIdQLqsS0C4lHG/4DnCv478OsDo+ADAj1jSvznzqT8JnyZAG/k2QB+JA0AInac/OYEBwB1nEkCkIvS/XBnvP/fX8j9tMem/7Zqsv6O27L+bHd2/mAzNv140CsCZAHk/5+6gv7RRMMDKbb4/gm4HwLySzz8N6B7A7j8FQHMyLr9x/QpAtwfkPwTvDcCF6Ig/YTgAQMPxx7/ZYvA/0p4ZwDY5pz9UPpq/bMjZP79CFkBBTto//wa/v1tDhT8Wmtq/SukqQNnb6D/kweo/3kLvP/L4AMCFgwxAr/vWP1AP87/hYSbARukTQIOet7/irve/fKzhv3ACEMCX0J+/I0HvP3uP/r9XPhrAriWwP9CIvT8mTyFAg1UvwGXFA0A=\",\"dtype\":\"float32\",\"order\":\"little\",\"shape\":[200]},\"y\":{\"__ndarray__\":\"Mzmav7bmhr9T2cS/0M2gPzorYD+y0Jo/vkYuv0LZpz/3PI6/LyMeP4z2iD/uJVg/CcGyP9RMqr84M0i+n6ScPZuXsj7Yyni/gJnZuzjtsj9Ds0o+JfSJv45BVL/oCLa/5fygP9Yg8L6EQIg/N+niv4kgWL85ApA/JSOEPgiOVb54uLA/Wxo5P0Jqgb6wqao++tXzP2w6gL8TXzC/xjJdv8oQub/coai/+eSVPwJkZj+nRcI/CCCTPxFSmD9zkY0/uS1SP3Knlz5w8XE/Gggvv3T3mz+OV0g+4YkzP8P5Wb8xtPA+KoJBPaDqtr9AVKi72EfXPChFSr8A1eU/8vJYv6EYGz684dO+zGfIPsLELb/9ol6/YOjVvi8ibr9xFbI/w0P/P7WWtr9i7Xc/e2srv56Z8b6z1oS/IvWcvnopjr+4VLM+iIpnP/XDvz8akPq+X+9evzbtaL2eO4C//ZaPPxcqgD+2p8U+v5NXvsM5Or7nZzk/3ygJv/trQD+CGO4/g/chv9Oohr8+eIg/1aT2P3QKPT+6CTs/EI0Jv+zGnr/pCjJA75euv15nYr8SgZW/s1OZPwAA9j64Ckq/Az7EP1mMx79CXSe/c+N9v2oVsT/P650/+isXP1AvsT/SfLQ/Va+PP+7x4r8Me18/xFP5vgx6aD+4kHc/WZZDPVh2dz9FcOU+jnCVP+Im1T8oxma/Xrszv+SgIr+zRJO/RCQkvrNZXz8wyzQ/NpARQMkOlz9rwZ4/lTQdvpQk2D88FO6/S0YhPxJKPz+NGh6/Zf6Ev6VZjL+z4Q+/Vh9GPUe5Wr9H7T0/phoovXLmsb+DiBI/gw0gvxpLkz8wztS8DqwqP5ZGgr/VT/c/cQnkP8ujKr+8tLY/UOncP8vs+77uXUw/pVmiv/1/Lz9uYGO/2m+1P2m+pj9E348/qg+Cv3DGmj9NjwW/wn4TQMdr0D+8oCE9Ec6oPyNxw74qLy4/+4soP0deHL/wMUO/jo9UP+Ip0r8aM4i/tupTv/Uknr9cBJW/e1FvPtb+Azzv7Um/A6aOP2RWJT3YT4A834FWv5duI0A=\",\"dtype\":\"float32\",\"order\":\"little\",\"shape\":[200]}},\"selected\":{\"id\":\"30223\"},\"selection_policy\":{\"id\":\"30222\"}},\"id\":\"30208\",\"type\":\"ColumnDataSource\"},{\"attributes\":{},\"id\":\"30194\",\"type\":\"PanTool\"},{\"attributes\":{},\"id\":\"30222\",\"type\":\"UnionRenderers\"},{\"attributes\":{\"bottom_units\":\"screen\",\"coordinates\":null,\"fill_alpha\":0.5,\"fill_color\":\"lightgrey\",\"group\":null,\"left_units\":\"screen\",\"level\":\"overlay\",\"line_alpha\":1.0,\"line_color\":\"black\",\"line_dash\":[4,4],\"line_width\":2,\"right_units\":\"screen\",\"syncable\":false,\"top_units\":\"screen\"},\"id\":\"30200\",\"type\":\"BoxAnnotation\"},{\"attributes\":{\"coordinates\":null,\"group\":null,\"text\":\"Linear classification problem\",\"text_color\":\"#E0E0E0\",\"text_font\":\"Josefin Sans\",\"text_font_size\":\"2.1em\"},\"id\":\"30176\",\"type\":\"Title\"},{\"attributes\":{},\"id\":\"30195\",\"type\":\"WheelZoomTool\"},{\"attributes\":{},\"id\":\"30223\",\"type\":\"Selection\"},{\"attributes\":{},\"id\":\"30187\",\"type\":\"BasicTicker\"},{\"attributes\":{\"axis_label\":\"x\",\"axis_label_standoff\":10,\"axis_label_text_color\":\"#FFFFFF\",\"axis_label_text_font\":\"Josefin Sans\",\"axis_label_text_font_size\":\"1.9em\",\"axis_label_text_font_style\":\"bold\",\"axis_line_alpha\":0.4,\"axis_line_color\":\"#E0E0E0\",\"coordinates\":null,\"formatter\":{\"id\":\"30220\"},\"group\":null,\"major_label_policy\":{\"id\":\"30221\"},\"major_label_text_color\":\"#E0E0E0\",\"major_label_text_font\":\"Josefin Sans\",\"major_label_text_font_size\":\"1.15em\",\"major_tick_line_alpha\":0.4,\"major_tick_line_color\":\"#E0E0E0\",\"minor_tick_line_alpha\":0.4,\"minor_tick_line_color\":\"#E0E0E0\",\"ticker\":{\"id\":\"30187\"}},\"id\":\"30186\",\"type\":\"LinearAxis\"},{\"attributes\":{},\"id\":\"30220\",\"type\":\"BasicTickFormatter\"},{\"attributes\":{},\"id\":\"30182\",\"type\":\"LinearScale\"},{\"attributes\":{},\"id\":\"30197\",\"type\":\"SaveTool\"},{\"attributes\":{\"line_alpha\":0.6,\"line_color\":\"red\",\"line_width\":6,\"x\":{\"field\":\"x\"},\"y\":{\"field\":\"y\"}},\"id\":\"30228\",\"type\":\"Line\"},{\"attributes\":{\"fill_alpha\":{\"value\":0.6},\"fill_color\":{\"field\":\"color\"},\"hatch_alpha\":{\"value\":0.6},\"hatch_color\":{\"field\":\"color\"},\"line_alpha\":{\"value\":0.6},\"line_color\":{\"value\":\"white\"},\"size\":{\"value\":10},\"x\":{\"field\":\"x\"},\"y\":{\"field\":\"y\"}},\"id\":\"30210\",\"type\":\"Circle\"},{\"attributes\":{\"label\":{\"value\":\"Learned model\"},\"renderers\":[{\"id\":\"30231\"}]},\"id\":\"30245\",\"type\":\"LegendItem\"},{\"attributes\":{\"fill_alpha\":{\"value\":0.2},\"fill_color\":{\"field\":\"color\"},\"hatch_alpha\":{\"value\":0.2},\"hatch_color\":{\"field\":\"color\"},\"line_alpha\":{\"value\":0.2},\"line_color\":{\"value\":\"white\"},\"size\":{\"value\":10},\"x\":{\"field\":\"x\"},\"y\":{\"field\":\"y\"}},\"id\":\"30212\",\"type\":\"Circle\"},{\"attributes\":{\"source\":{\"id\":\"30227\"}},\"id\":\"30232\",\"type\":\"CDSView\"},{\"attributes\":{\"background_fill_alpha\":0.9,\"background_fill_color\":\"#0f0f0f\",\"below\":[{\"id\":\"30186\"}],\"border_fill_alpha\":0.8,\"border_fill_color\":\"#111111\",\"center\":[{\"id\":\"30189\"},{\"id\":\"30193\"},{\"id\":\"30225\"}],\"height\":450,\"left\":[{\"id\":\"30190\"}],\"outline_line_alpha\":0.25,\"outline_line_color\":\"#E0E0E0\",\"outline_line_width\":3,\"renderers\":[{\"id\":\"30213\"},{\"id\":\"30231\"}],\"title\":{\"id\":\"30176\"},\"toolbar\":{\"id\":\"30201\"},\"x_range\":{\"id\":\"30178\"},\"x_scale\":{\"id\":\"30182\"},\"y_range\":{\"id\":\"30180\"},\"y_scale\":{\"id\":\"30184\"}},\"id\":\"30175\",\"subtype\":\"Figure\",\"type\":\"Plot\"},{\"attributes\":{\"coordinates\":null,\"data_source\":{\"id\":\"30208\"},\"glyph\":{\"id\":\"30210\"},\"group\":null,\"hover_glyph\":null,\"muted_glyph\":{\"id\":\"30212\"},\"nonselection_glyph\":{\"id\":\"30211\"},\"view\":{\"id\":\"30214\"}},\"id\":\"30213\",\"type\":\"GlyphRenderer\"},{\"attributes\":{},\"id\":\"30178\",\"type\":\"DataRange1d\"},{\"attributes\":{},\"id\":\"30198\",\"type\":\"ResetTool\"},{\"attributes\":{\"line_alpha\":0.2,\"line_color\":\"red\",\"line_width\":6,\"x\":{\"field\":\"x\"},\"y\":{\"field\":\"y\"}},\"id\":\"30230\",\"type\":\"Line\"},{\"attributes\":{},\"id\":\"30180\",\"type\":\"DataRange1d\"},{\"attributes\":{\"tools\":[{\"id\":\"30194\"},{\"id\":\"30195\"},{\"id\":\"30196\"},{\"id\":\"30197\"},{\"id\":\"30198\"},{\"id\":\"30199\"}]},\"id\":\"30201\",\"type\":\"Toolbar\"},{\"attributes\":{\"coordinates\":null,\"group\":null,\"items\":[{\"id\":\"30226\"},{\"id\":\"30245\"}]},\"id\":\"30225\",\"type\":\"Legend\"},{\"attributes\":{\"overlay\":{\"id\":\"30200\"}},\"id\":\"30196\",\"type\":\"BoxZoomTool\"},{\"attributes\":{\"coordinates\":null,\"data_source\":{\"id\":\"30227\"},\"glyph\":{\"id\":\"30228\"},\"group\":null,\"hover_glyph\":null,\"muted_glyph\":{\"id\":\"30230\"},\"nonselection_glyph\":{\"id\":\"30229\"},\"view\":{\"id\":\"30232\"}},\"id\":\"30231\",\"type\":\"GlyphRenderer\"},{\"attributes\":{\"fill_alpha\":{\"value\":0.1},\"fill_color\":{\"field\":\"color\"},\"hatch_alpha\":{\"value\":0.1},\"hatch_color\":{\"field\":\"color\"},\"line_alpha\":{\"value\":0.1},\"line_color\":{\"value\":\"white\"},\"size\":{\"value\":10},\"x\":{\"field\":\"x\"},\"y\":{\"field\":\"y\"}},\"id\":\"30211\",\"type\":\"Circle\"},{\"attributes\":{\"axis_label\":\"y\",\"axis_label_standoff\":10,\"axis_label_text_color\":\"#FFFFFF\",\"axis_label_text_font\":\"Josefin Sans\",\"axis_label_text_font_size\":\"1.9em\",\"axis_label_text_font_style\":\"bold\",\"axis_line_alpha\":0.4,\"axis_line_color\":\"#E0E0E0\",\"coordinates\":null,\"formatter\":{\"id\":\"30217\"},\"group\":null,\"major_label_policy\":{\"id\":\"30218\"},\"major_label_text_color\":\"#E0E0E0\",\"major_label_text_font\":\"Josefin Sans\",\"major_label_text_font_size\":\"1.15em\",\"major_tick_line_alpha\":0.4,\"major_tick_line_color\":\"#E0E0E0\",\"minor_tick_line_alpha\":0.4,\"minor_tick_line_color\":\"#E0E0E0\",\"ticker\":{\"id\":\"30191\"}},\"id\":\"30190\",\"type\":\"LinearAxis\"},{\"attributes\":{\"data\":{\"x\":{\"__ndarray__\":\"AACAwArUesAUqHXAIHxwwCpQa8A0JGbAPvhgwEjMW8BSoFbAXnRRwGhITMByHEfAfPBBwIbEPMCQmDfAnGwywKZALcCwFCjAuugiwMS8HcDOkBjA2mQTwOQ4DsDuDAnA+OADwAVq/b8ZEvO/L7rov0Ri3r9YCtS/bLLJv4Fav7+XArW/q6qqv8BSoL/U+pW/6KKLv/1Kgb8m5m2/TjZZv3iGRL+g1i+/yCYbv/J2Br88juO+jC66vuDOkL5g3k6+AD74vaB+Jb2gfiU9AD74PWDeTj7gzpA+jC66PjyO4z7ydgY/yCYbP6DWLz94hkQ/TjZZPybmbT/9SoE/6KKLP9T6lT/AUqA/q6qqP5UCtT+BWr8/bLLJP1gK1D9EYt4/L7roPxkS8z8Fav0/+OADQO4MCUDkOA5A2mQTQM6QGEDEvB1AuugiQLAUKECmQC1AnGwyQJCYN0CGxDxAfPBBQHIcR0BoSExAXnRRQFKgVkBIzFtAPvhgQDQkZkAqUGtAIHxwQBSodUAK1HpAAACAQA==\",\"dtype\":\"float32\",\"order\":\"little\",\"shape\":[100]},\"y\":{\"__ndarray__\":\"vI07QNkdN0D1rTJAEz4uQC/OKUBMXiVAaO4gQIR+HECgDhhAv54TQNsuD0D3vgpAFE8GQDDfAUCZ3vo/1v7xPw8f6T9HP+A/gV/XP7l/zj/xn8U/L8C8P2fgsz+fAKs/2SCiPxFBmT9KYZA/hYGHP35DfT/vg2s/YcRZP9MESD9JRTY/u4UkPy3GEj+fBgE/I47ePgcPuz7yj5c+qiFoPnYjIT53SrQ9IjiZPL9cT726qvW9ltNBvuVohL4B6Ke+H2fLvjnm7r6nMgm/NPIav8KxLL9RcT6/3TBQv2vwYb/3r3O/wreCv4mXi79Qd5S/F1edv942pr+jFq+/ava3vzHWwL/4tcm/v5XSv4N1279LVeS/EzXtv9kU9r+h9P6/M+oDwBZaCMD5yQzA3TkRwMCpFcCkGRrAiIkewGn5IsBNaSfAMdkrwBRJMMD4uDTA3Cg5wL2YPcChCELAhXhGwGjoSsBMWE/AMMhTwBE4WMD2p1zA2RdhwLyHZcCh92nAhGduwGfXcsBKR3fALbd7wA==\",\"dtype\":\"float32\",\"order\":\"little\",\"shape\":[100]}},\"selected\":{\"id\":\"30243\"},\"selection_policy\":{\"id\":\"30242\"}},\"id\":\"30227\",\"type\":\"ColumnDataSource\"},{\"attributes\":{},\"id\":\"30243\",\"type\":\"Selection\"},{\"attributes\":{},\"id\":\"30184\",\"type\":\"LinearScale\"},{\"attributes\":{\"line_alpha\":0.1,\"line_color\":\"red\",\"line_width\":6,\"x\":{\"field\":\"x\"},\"y\":{\"field\":\"y\"}},\"id\":\"30229\",\"type\":\"Line\"},{\"attributes\":{},\"id\":\"30217\",\"type\":\"BasicTickFormatter\"},{\"attributes\":{},\"id\":\"30242\",\"type\":\"UnionRenderers\"},{\"attributes\":{\"axis\":{\"id\":\"30190\"},\"coordinates\":null,\"dimension\":1,\"grid_line_alpha\":0.15,\"grid_line_color\":\"#E0E0E0\",\"group\":null,\"ticker\":null},\"id\":\"30193\",\"type\":\"Grid\"}],\"root_ids\":[\"30246\",\"30309\"]},\"title\":\"Bokeh Application\",\"version\":\"2.4.3\"}};\n",
       "    var render_items = [{\"docid\":\"b6a7f2f5-d66d-4c7e-a789-b8e986c732b3\",\"root_ids\":[\"30246\"],\"roots\":{\"30246\":\"b94c1a9e-0f54-43d9-971c-1cb84d034901\"}}];\n",
       "    root.Bokeh.embed.embed_items_notebook(docs_json, render_items);\n",
       "    for (const render_item of render_items) {\n",
       "      for (const root_id of render_item.root_ids) {\n",
       "\tconst id_el = document.getElementById(root_id)\n",
       "\tif (id_el.children.length && (id_el.children[0].className === 'bk-root')) {\n",
       "\t  const root_el = id_el.children[0]\n",
       "\t  root_el.id = root_el.id + '-rendered'\n",
       "\t}\n",
       "      }\n",
       "    }\n",
       "  }\n",
       "  if (root.Bokeh !== undefined && root.Bokeh.Panel !== undefined) {\n",
       "    embed_document(root);\n",
       "  } else {\n",
       "    var attempts = 0;\n",
       "    var timer = setInterval(function(root) {\n",
       "      if (root.Bokeh !== undefined && root.Bokeh.Panel !== undefined) {\n",
       "        clearInterval(timer);\n",
       "        embed_document(root);\n",
       "      } else if (document.readyState == \"complete\") {\n",
       "        attempts++;\n",
       "        if (attempts > 200) {\n",
       "          clearInterval(timer);\n",
       "          console.log(\"Bokeh: ERROR: Unable to run BokehJS code because BokehJS library is missing\");\n",
       "        }\n",
       "      }\n",
       "    }, 25, root)\n",
       "  }\n",
       "})(window);</script>"
      ],
      "text/plain": [
       "Row\n",
       "    [0] HSpacer()\n",
       "    [1] Bokeh(Figure)\n",
       "    [2] HSpacer()"
      ]
     },
     "execution_count": 210,
     "metadata": {
      "application/vnd.holoviews_exec.v0+json": {
       "id": "30246"
      }
     },
     "output_type": "execute_result"
    }
   ],
   "source": [
    "def hinge_loss(x,y,weight,bias):\n",
    "    predicted = jnp.dot(x,weight)+bias\n",
    "    return jnp.sum(jnp.maximum(1-y*predicted,0))\n",
    "\n",
    "grad_loss_function = jit(grad(hinge_loss,argnums=[2,3]))\n",
    "\n",
    "\n",
    "\n",
    "print(\"loss before training:\", hinge_loss(x_data,y_class,weight,bias))\n",
    "start=time.time()\n",
    "for i in range(500):\n",
    "    gradients = grad_loss_function(x_data,y_class,weight,bias)\n",
    "    weight-= lr* gradients[0]\n",
    "    bias-= lr *gradients[1]\n",
    "\n",
    "print(\"loss after training:\",  hinge_loss(x_data,y_class,weight,bias))\n",
    "print(\"elpased time: \", time.time() - start)\n",
    "p = scatter_classes(x_data,y_class, title=\"Simple quadratic problem\", toolbar_location=\"left\")\n",
    "p.line(np.array(x),np.array((-bias-weight[0]*x)/weight[1]), line_width=6, line_alpha=0.6, color=\"red\", legend_label=r\"Learned model\")\n",
    "plot = (center_plot(p))\n",
    "plot"
   ]
  },
  {
   "cell_type": "code",
   "execution_count": 302,
   "metadata": {},
   "outputs": [],
   "source": [
    "y_class_one_hot=jax.nn.one_hot(y_class,2)\n"
   ]
  },
  {
   "cell_type": "markdown",
   "metadata": {},
   "source": [
    "<div class=\"alert alert-success\" markdown=\"1\" style=\"color:white; background-color: #013220; border-color: #03C03C\">\n",
    "\n",
    "> ### Question 1.3 - Compare the results of the NumPy and JAX implementations.\n",
    "> 1. Plot the decision boundary for each implementation.\n",
    "> 2. Compare the training time and accuracy of each implementation.\n",
    "\n",
    "</div>"
   ]
  },
  {
   "cell_type": "markdown",
   "metadata": {},
   "source": [
    "The decision boudnary is plotted in previous sections.\n",
    "\n",
    "The training accuracy are 100 precent for both implementaion method.\n",
    "\n",
    "Training Time\n",
    "\n",
    "Using Numpy: 0.014714956283569336 ms\n",
    "\n",
    "Using Jax  : 0.059235572814941406 ms\n",
    "\n",
    "Jax needs more training time"
   ]
  },
  {
   "cell_type": "markdown",
   "metadata": {},
   "source": [
    "<div class=\"alert alert-success\" markdown=\"1\" style=\"color:white; background-color: #192841; border-color: #779ecb\">\n",
    "\n",
    "> ### Going further (optional)\n",
    "> Implement a more complex dataset and compare the results of the NumPy and JAX implementations.\n",
    "\n",
    "</div>"
   ]
  },
  {
   "cell_type": "code",
   "execution_count": null,
   "metadata": {},
   "outputs": [],
   "source": []
  },
  {
   "cell_type": "markdown",
   "metadata": {},
   "source": [
    "## Exercise 2 - Polynomial regression"
   ]
  },
  {
   "cell_type": "markdown",
   "metadata": {},
   "source": [
    "<div class=\"alert alert-success\" markdown=\"1\" style=\"color:white; background-color: #013220; border-color: #03C03C\">\n",
    "\n",
    "> In this exercise, you will implement polynomial regression using NumPy and JAX. This should be a quite straightforward extension of what we have seen until now. We deliberately removed details of the implementation (list of points to adress) so that you can start defining your first entire machine learning setup by yourself.\n",
    "\n",
    "</div>"
   ]
  },
  {
   "cell_type": "markdown",
   "metadata": {},
   "source": [
    "<div class=\"alert alert-success\" markdown=\"1\" style=\"color:white; background-color: #013220; border-color: #03C03C\">\n",
    "\n",
    "> ### Question 2.1 - Implement polynomial regression using NumPy with gradient descent.\n",
    "\n",
    "</div>"
   ]
  },
  {
   "cell_type": "code",
   "execution_count": 305,
   "metadata": {},
   "outputs": [
    {
     "name": "stdout",
     "output_type": "stream",
     "text": [
      "ture w:  [-1, 1, -3, -1]\n"
     ]
    },
    {
     "data": {},
     "metadata": {},
     "output_type": "display_data"
    },
    {
     "data": {
      "application/vnd.holoviews_exec.v0+json": "",
      "text/html": [
       "<div id='48102'>\n",
       "  <div class=\"bk-root\" id=\"306b6229-ad0f-4328-9719-7207f14ad538\" data-root-id=\"48102\"></div>\n",
       "</div>\n",
       "<script type=\"application/javascript\">(function(root) {\n",
       "  function embed_document(root) {\n",
       "    var docs_json = {\"c4265e1a-c3ec-4f84-a7bd-7bd85987df7c\":{\"defs\":[{\"extends\":null,\"module\":null,\"name\":\"ReactiveHTML1\",\"overrides\":[],\"properties\":[]},{\"extends\":null,\"module\":null,\"name\":\"FlexBox1\",\"overrides\":[],\"properties\":[{\"default\":\"flex-start\",\"kind\":null,\"name\":\"align_content\"},{\"default\":\"flex-start\",\"kind\":null,\"name\":\"align_items\"},{\"default\":\"row\",\"kind\":null,\"name\":\"flex_direction\"},{\"default\":\"wrap\",\"kind\":null,\"name\":\"flex_wrap\"},{\"default\":\"flex-start\",\"kind\":null,\"name\":\"justify_content\"}]},{\"extends\":null,\"module\":null,\"name\":\"GridStack1\",\"overrides\":[],\"properties\":[{\"default\":\"warn\",\"kind\":null,\"name\":\"mode\"},{\"default\":null,\"kind\":null,\"name\":\"ncols\"},{\"default\":null,\"kind\":null,\"name\":\"nrows\"},{\"default\":true,\"kind\":null,\"name\":\"allow_resize\"},{\"default\":true,\"kind\":null,\"name\":\"allow_drag\"},{\"default\":[],\"kind\":null,\"name\":\"state\"}]},{\"extends\":null,\"module\":null,\"name\":\"click1\",\"overrides\":[],\"properties\":[{\"default\":\"\",\"kind\":null,\"name\":\"terminal_output\"},{\"default\":\"\",\"kind\":null,\"name\":\"debug_name\"},{\"default\":0,\"kind\":null,\"name\":\"clears\"}]},{\"extends\":null,\"module\":null,\"name\":\"NotificationAreaBase1\",\"overrides\":[],\"properties\":[{\"default\":\"bottom-right\",\"kind\":null,\"name\":\"position\"},{\"default\":0,\"kind\":null,\"name\":\"_clear\"}]},{\"extends\":null,\"module\":null,\"name\":\"NotificationArea1\",\"overrides\":[],\"properties\":[{\"default\":[],\"kind\":null,\"name\":\"notifications\"},{\"default\":\"bottom-right\",\"kind\":null,\"name\":\"position\"},{\"default\":0,\"kind\":null,\"name\":\"_clear\"},{\"default\":[{\"background\":\"#ffc107\",\"icon\":{\"className\":\"fas fa-exclamation-triangle\",\"color\":\"white\",\"tagName\":\"i\"},\"type\":\"warning\"},{\"background\":\"#007bff\",\"icon\":{\"className\":\"fas fa-info-circle\",\"color\":\"white\",\"tagName\":\"i\"},\"type\":\"info\"}],\"kind\":null,\"name\":\"types\"}]},{\"extends\":null,\"module\":null,\"name\":\"Notification\",\"overrides\":[],\"properties\":[{\"default\":null,\"kind\":null,\"name\":\"background\"},{\"default\":3000,\"kind\":null,\"name\":\"duration\"},{\"default\":null,\"kind\":null,\"name\":\"icon\"},{\"default\":\"\",\"kind\":null,\"name\":\"message\"},{\"default\":null,\"kind\":null,\"name\":\"notification_type\"},{\"default\":false,\"kind\":null,\"name\":\"_destroyed\"}]},{\"extends\":null,\"module\":null,\"name\":\"TemplateActions1\",\"overrides\":[],\"properties\":[{\"default\":0,\"kind\":null,\"name\":\"open_modal\"},{\"default\":0,\"kind\":null,\"name\":\"close_modal\"}]},{\"extends\":null,\"module\":null,\"name\":\"MaterialTemplateActions1\",\"overrides\":[],\"properties\":[{\"default\":0,\"kind\":null,\"name\":\"open_modal\"},{\"default\":0,\"kind\":null,\"name\":\"close_modal\"}]}],\"roots\":{\"references\":[{\"attributes\":{\"bottom_units\":\"screen\",\"coordinates\":null,\"fill_alpha\":0.5,\"fill_color\":\"lightgrey\",\"group\":null,\"left_units\":\"screen\",\"level\":\"overlay\",\"line_alpha\":1.0,\"line_color\":\"black\",\"line_dash\":[4,4],\"line_width\":2,\"right_units\":\"screen\",\"syncable\":false,\"top_units\":\"screen\"},\"id\":\"48100\",\"type\":\"BoxAnnotation\"},{\"attributes\":{\"margin\":[5,5,5,5],\"name\":\"HSpacer01823\",\"sizing_mode\":\"stretch_width\"},\"id\":\"48130\",\"type\":\"Spacer\"},{\"attributes\":{\"data\":{\"x\":{\"__ndarray__\":\"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\",\"dtype\":\"float64\",\"order\":\"little\",\"shape\":[200]},\"y\":{\"__ndarray__\":\"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\",\"dtype\":\"float64\",\"order\":\"little\",\"shape\":[200]}},\"selected\":{\"id\":\"48072\"},\"selection_policy\":{\"id\":\"48071\"}},\"id\":\"48057\",\"type\":\"ColumnDataSource\"},{\"attributes\":{\"margin\":[5,5,5,5],\"name\":\"HSpacer01822\",\"sizing_mode\":\"stretch_width\"},\"id\":\"48103\",\"type\":\"Spacer\"},{\"attributes\":{\"axis\":{\"id\":\"48035\"},\"coordinates\":null,\"grid_line_alpha\":0.15,\"grid_line_color\":\"#E0E0E0\",\"group\":null,\"ticker\":null},\"id\":\"48038\",\"type\":\"Grid\"},{\"attributes\":{},\"id\":\"48043\",\"type\":\"PanTool\"},{\"attributes\":{\"line_alpha\":0.6,\"line_color\":\"red\",\"line_width\":6,\"x\":{\"field\":\"x\"},\"y\":{\"field\":\"y\"}},\"id\":\"48083\",\"type\":\"Line\"},{\"attributes\":{\"client_comm_id\":\"f0d5595a22a542b0a4172efa76d14760\",\"comm_id\":\"55094182a0a640daab00f5e2688451ce\",\"plot_id\":\"48102\"},\"id\":\"48170\",\"type\":\"panel.models.comm_manager.CommManager\"},{\"attributes\":{\"axis\":{\"id\":\"48039\"},\"coordinates\":null,\"dimension\":1,\"grid_line_alpha\":0.15,\"grid_line_color\":\"#E0E0E0\",\"group\":null,\"ticker\":null},\"id\":\"48042\",\"type\":\"Grid\"},{\"attributes\":{\"fill_alpha\":{\"value\":0.2},\"fill_color\":{\"value\":\"midnightblue\"},\"hatch_alpha\":{\"value\":0.2},\"line_alpha\":{\"value\":0.2},\"line_color\":{\"value\":\"white\"},\"size\":{\"value\":10},\"x\":{\"field\":\"x\"},\"y\":{\"field\":\"y\"}},\"id\":\"48061\",\"type\":\"Circle\"},{\"attributes\":{},\"id\":\"48072\",\"type\":\"Selection\"},{\"attributes\":{\"coordinates\":null,\"data_source\":{\"id\":\"48057\"},\"glyph\":{\"id\":\"48058\"},\"group\":null,\"hover_glyph\":{\"id\":\"48060\"},\"muted_glyph\":{\"id\":\"48061\"},\"nonselection_glyph\":{\"id\":\"48079\"},\"selection_glyph\":{\"id\":\"48078\"},\"view\":{\"id\":\"48063\"}},\"id\":\"48062\",\"type\":\"GlyphRenderer\"},{\"attributes\":{\"fill_alpha\":{\"value\":0.25},\"fill_color\":{\"value\":\"midnightblue\"},\"hatch_alpha\":{\"value\":0.25},\"line_alpha\":{\"value\":0.25},\"line_color\":{\"value\":\"white\"},\"size\":{\"value\":10},\"x\":{\"field\":\"x\"},\"y\":{\"field\":\"y\"}},\"id\":\"48058\",\"type\":\"Circle\"},{\"attributes\":{},\"id\":\"48036\",\"type\":\"BasicTicker\"},{\"attributes\":{\"line_alpha\":0.2,\"line_color\":\"red\",\"line_width\":6,\"x\":{\"field\":\"x\"},\"y\":{\"field\":\"y\"}},\"id\":\"48085\",\"type\":\"Line\"},{\"attributes\":{\"background_fill_alpha\":0.9,\"background_fill_color\":\"#0f0f0f\",\"below\":[{\"id\":\"48035\"}],\"border_fill_alpha\":0.8,\"border_fill_color\":\"#111111\",\"center\":[{\"id\":\"48038\"},{\"id\":\"48042\"},{\"id\":\"48074\"}],\"height\":450,\"left\":[{\"id\":\"48039\"}],\"outline_line_alpha\":0.25,\"outline_line_color\":\"#E0E0E0\",\"outline_line_width\":3,\"renderers\":[{\"id\":\"48062\"},{\"id\":\"48086\"}],\"title\":{\"id\":\"48025\"},\"toolbar\":{\"id\":\"48050\"},\"toolbar_location\":null,\"x_range\":{\"id\":\"48027\"},\"x_scale\":{\"id\":\"48031\"},\"y_range\":{\"id\":\"48029\"},\"y_scale\":{\"id\":\"48033\"}},\"id\":\"48024\",\"subtype\":\"Figure\",\"type\":\"Plot\"},{\"attributes\":{\"coordinates\":null,\"group\":null,\"text\":\"Linear regression\",\"text_color\":\"#E0E0E0\",\"text_font\":\"Josefin Sans\",\"text_font_size\":\"2.1em\"},\"id\":\"48025\",\"type\":\"Title\"},{\"attributes\":{},\"id\":\"48027\",\"type\":\"DataRange1d\"},{\"attributes\":{},\"id\":\"48071\",\"type\":\"UnionRenderers\"},{\"attributes\":{},\"id\":\"48070\",\"type\":\"AllLabels\"},{\"attributes\":{\"line_alpha\":0.1,\"line_color\":\"red\",\"line_width\":6,\"x\":{\"field\":\"x\"},\"y\":{\"field\":\"y\"}},\"id\":\"48084\",\"type\":\"Line\"},{\"attributes\":{},\"id\":\"48097\",\"type\":\"UnionRenderers\"},{\"attributes\":{\"coordinates\":null,\"data_source\":{\"id\":\"48082\"},\"glyph\":{\"id\":\"48083\"},\"group\":null,\"hover_glyph\":null,\"muted_glyph\":{\"id\":\"48085\"},\"nonselection_glyph\":{\"id\":\"48084\"},\"view\":{\"id\":\"48087\"}},\"id\":\"48086\",\"type\":\"GlyphRenderer\"},{\"attributes\":{},\"id\":\"48033\",\"type\":\"LinearScale\"},{\"attributes\":{\"label\":{\"value\":\"Learned model\"},\"renderers\":[{\"id\":\"48086\"}]},\"id\":\"48101\",\"type\":\"LegendItem\"},{\"attributes\":{},\"id\":\"48067\",\"type\":\"AllLabels\"},{\"attributes\":{},\"id\":\"48098\",\"type\":\"Selection\"},{\"attributes\":{\"source\":{\"id\":\"48082\"}},\"id\":\"48087\",\"type\":\"CDSView\"},{\"attributes\":{\"fill_alpha\":{\"value\":0.5},\"fill_color\":{\"value\":\"midnightblue\"},\"line_color\":{\"value\":\"white\"}},\"id\":\"48079\",\"type\":\"Circle\"},{\"attributes\":{},\"id\":\"48040\",\"type\":\"BasicTicker\"},{\"attributes\":{\"tools\":[{\"id\":\"48043\"},{\"id\":\"48044\"},{\"id\":\"48045\"},{\"id\":\"48046\"},{\"id\":\"48047\"},{\"id\":\"48048\"},{\"id\":\"48076\"},{\"id\":\"48080\"}]},\"id\":\"48050\",\"type\":\"Toolbar\"},{\"attributes\":{},\"id\":\"48069\",\"type\":\"BasicTickFormatter\"},{\"attributes\":{\"fill_alpha\":{\"value\":0.8},\"fill_color\":{\"value\":\"red\"},\"line_color\":{\"value\":\"white\"}},\"id\":\"48078\",\"type\":\"Circle\"},{\"attributes\":{\"source\":{\"id\":\"48057\"}},\"id\":\"48063\",\"type\":\"CDSView\"},{\"attributes\":{\"callback\":null,\"mode\":\"vline\",\"renderers\":[{\"id\":\"48062\"}],\"tooltips\":null},\"id\":\"48076\",\"type\":\"HoverTool\"},{\"attributes\":{},\"id\":\"48031\",\"type\":\"LinearScale\"},{\"attributes\":{},\"id\":\"48066\",\"type\":\"BasicTickFormatter\"},{\"attributes\":{\"label\":{\"value\":\"Observations\"},\"renderers\":[{\"id\":\"48062\"}]},\"id\":\"48075\",\"type\":\"LegendItem\"},{\"attributes\":{\"axis_label\":\"y\",\"axis_label_standoff\":10,\"axis_label_text_color\":\"#FFFFFF\",\"axis_label_text_font\":\"Josefin Sans\",\"axis_label_text_font_size\":\"1.9em\",\"axis_label_text_font_style\":\"bold\",\"axis_line_alpha\":0.4,\"axis_line_color\":\"#E0E0E0\",\"coordinates\":null,\"formatter\":{\"id\":\"48066\"},\"group\":null,\"major_label_policy\":{\"id\":\"48067\"},\"major_label_text_color\":\"#E0E0E0\",\"major_label_text_font\":\"Josefin Sans\",\"major_label_text_font_size\":\"1.15em\",\"major_tick_line_alpha\":0.4,\"major_tick_line_color\":\"#E0E0E0\",\"minor_tick_line_alpha\":0.4,\"minor_tick_line_color\":\"#E0E0E0\",\"ticker\":{\"id\":\"48040\"}},\"id\":\"48039\",\"type\":\"LinearAxis\"},{\"attributes\":{},\"id\":\"48048\",\"type\":\"HelpTool\"},{\"attributes\":{\"mode\":\"append\",\"overlay\":{\"id\":\"48100\"},\"renderers\":[{\"id\":\"48062\"}]},\"id\":\"48080\",\"type\":\"BoxSelectTool\"},{\"attributes\":{\"background_fill_alpha\":0.25,\"background_fill_color\":\"#505050\",\"border_line_alpha\":0.25,\"coordinates\":null,\"group\":null,\"items\":[{\"id\":\"48075\"},{\"id\":\"48101\"}],\"label_standoff\":8,\"label_text_color\":\"#E0E0E0\",\"label_text_font\":\"Josefin Sans\",\"label_text_font_size\":\"1.15em\",\"spacing\":8},\"id\":\"48074\",\"type\":\"Legend\"},{\"attributes\":{},\"id\":\"48047\",\"type\":\"ResetTool\"},{\"attributes\":{},\"id\":\"48044\",\"type\":\"WheelZoomTool\"},{\"attributes\":{\"axis_label\":\"x\",\"axis_label_standoff\":10,\"axis_label_text_color\":\"#FFFFFF\",\"axis_label_text_font\":\"Josefin Sans\",\"axis_label_text_font_size\":\"1.9em\",\"axis_label_text_font_style\":\"bold\",\"axis_line_alpha\":0.4,\"axis_line_color\":\"#E0E0E0\",\"coordinates\":null,\"formatter\":{\"id\":\"48069\"},\"group\":null,\"major_label_policy\":{\"id\":\"48070\"},\"major_label_text_color\":\"#E0E0E0\",\"major_label_text_font\":\"Josefin Sans\",\"major_label_text_font_size\":\"1.15em\",\"major_tick_line_alpha\":0.4,\"major_tick_line_color\":\"#E0E0E0\",\"minor_tick_line_alpha\":0.4,\"minor_tick_line_color\":\"#E0E0E0\",\"ticker\":{\"id\":\"48036\"}},\"id\":\"48035\",\"type\":\"LinearAxis\"},{\"attributes\":{\"fill_alpha\":{\"value\":0.5},\"fill_color\":{\"value\":\"red\"},\"hatch_alpha\":{\"value\":0.5},\"line_alpha\":{\"value\":0.5},\"line_color\":{\"value\":\"white\"},\"size\":{\"value\":10},\"x\":{\"field\":\"x\"},\"y\":{\"field\":\"y\"}},\"id\":\"48060\",\"type\":\"Circle\"},{\"attributes\":{\"overlay\":{\"id\":\"48049\"}},\"id\":\"48045\",\"type\":\"BoxZoomTool\"},{\"attributes\":{\"data\":{\"x\":{\"__ndarray__\":\"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\",\"dtype\":\"float64\",\"order\":\"little\",\"shape\":[200]},\"y\":{\"__ndarray__\":\"AAAAAAAAAAAAAAAAAAAAAAAAAAAAAAAAAAAAAAAAAAAAAAAAAAAAAAAAAAAAAAAAAAAAAAAAAAAAAAAAAAAAAAAAAAAAAAAAAAAAAAAAAAAAAAAAAAAAAAAAAAAAAAAAAAAAAAAAAAAAAAAAAAAAAAAAAAAAAAAAAAAAAAAAAAAAAAAAAAAAAAAAAAAAAAAAAAAAAAAAAAAAAAAAAAAAAAAAAAAAAAAAAAAAAAAAAAAAAAAAAAAAAAAAAAAAAAAAAAAAAAAAAAAAAAAAAAAAAAAAAAAAAAAAAAAAAAAAAAAAAAAAAAAAAAAAAAAAAAAAAAAAAAAAAAAAAAAAAAAAAAAAAAAAAAAAAAAAAAAAAAAAAAAAAAAAAAAAAAAAAAAAAAAAAAAAAAAAAAAAAAAAAAAAAAAAAAAAAAAAAAAAAAAAAAAAAAAAAAAAAAAAAAAAAAAAAAAAAAAAAAAAAAAAAAAAAAAAAAAAAAAAAAAAAAAAAAAAAAAAAAAAAAAAAAAAAAAAAAAAAAAAAAAAAAAAAAAAAAAAAAAAAAAAAAAAAAAAAAAAAAAAAAAAAAAAAAAAAAAAAAAAAAAAAAAAAAAAAAAAAAAAAAAAAAAAAAAAAAAAAAAAAAAAAAAAAAAAAAAAAAAAAAAAAAAAAAAAAAAAAAAAAAAAAAAAAAAAAAAAAAAAAAAAAAAAAAAAAAAAAAAAAAAAAAAAAAAAAAAAAAAAAAAAAAAAAAAAAAAAAAAAAAAAAAAAAAAAAAAAAAAAAAAAAAAAAAAAAAAAAAAAAAAAAAAAAAAAAAAAAAAAAAAAAAAAAAAAAAAAAAAAAAAAAAAAAAAAAAAAAAAAAAAAAAAAAAAAAAAAAAAAAAAAAAAAAAAAAAAAAAAAAAAAAAAAAAAAAAAAAAAAAAAAAAAAAAAAAAAAAAAAAAAAAAAAAAAAAAAAAAAAAAAAAAAAAAAAAAAAAAAAAAAAAAAAAAAAAAAAAAAAAAAAAAAAAAAAAAAAAAAAAAAAAAAAAAAAAAAAAAAAAAAAAAAAAAAAAAAAAAAAAAAAAAAAAAAAAAAAAAAAAAAAAAAAAAAAAAAAAAAAAAAAAAAAAAAAAAAAAAAAAAAAAAAAAAAAAAAAAAAAAAAAAAAAAAAAAAAAAAAAAAAAAAAAAAAAAAAAAAAAAAAAAAAAAAAAAAAAAAAAAAAAAAAAAAAAAAAAAAAAAAAAAAAAAAAAAAAAAAAAAAAAAAAAAAAAAAAAAAAAAAAAAAAAAAAAAAAAAAAAAAAAAAAAAAAAAAAAAAAAAAAAAAAAAAAAAAAAAAAAAAAAAAAAAAAAAAAAAAAAAAAAAAAAAAAAAAAAAAAAAAAAAAAAAAAAAAAAAAAAAAAAAAAAAAAAAAAAAAAAAAAAAAAAAAAAAAAAAAAAAAAAAAAAAAAAAAAAAAAAAAAAAAAAAAAAAAAAAAAAAAAAAAAAAAAAAAAAAAAAAAAAAAAAAAAAAAAAAAAAAAAAAAAAAAAAAAAAAAAAAAAAAAAAAAAAAAAAAAAAAAAAAAAAAAAAAAAAAAAAAAAAAAAAAAAAAAAAAAAAAAAAAAAAAAAAAAAAAAAAAAAAAAAAAAAAAAAAAAAAAAAAAAAAAAAAAAAAAAAAAAAAAAAAAAAAAAAAAAAAAAAAAAAAAAAAAAAAAAAAAAAAAAAAAAAAAAAAAAAAAAAAAAAAAAAAAAAAAAAAAAAAAAAAAAAAAAAAAAAAAAAAAAAAAAAAAAAAAAAAAAAAAAAAAAAAAAAAAAAAAAAAAAAAAAAAAAAAAAAAAAAAAAAAAAAAAAAAAAAAAAAAAAAAAAAAAAAAAAAAAAAAAAAAAAAAAAAAAAAAAAAAAAAAAAAAAAAAAAAAAAAAAAAAAAAAAAAAAAAAAAAAAAAAAAAAAAAAAAAAAAAAAAAAAAAAAAAAAAAAAAAAAAAAAAAAAAAAAAAAAAAAAAAAAAAAAAAAAAAAAAAAAAAAAAAAAAAAAAAAAAAAAAAAAAAAAAAAAAAAAAAAAAAAAAAAAAAAAAAAAAAAAAAAAAAAAAAAAAAAAAAAAAAAAAAAAAAAAAAAAAAAAAAAAAAAAAAAAAAAAAAAAAAAAAAAAAAAAAAAAAAAAAAAAAAAAAAAAAAAAAAAAAAAAA==\",\"dtype\":\"float64\",\"order\":\"little\",\"shape\":[200]}},\"selected\":{\"id\":\"48098\"},\"selection_policy\":{\"id\":\"48097\"}},\"id\":\"48082\",\"type\":\"ColumnDataSource\"},{\"attributes\":{},\"id\":\"48046\",\"type\":\"SaveTool\"},{\"attributes\":{\"bottom_units\":\"screen\",\"coordinates\":null,\"fill_alpha\":0.5,\"fill_color\":\"lightgrey\",\"group\":null,\"left_units\":\"screen\",\"level\":\"overlay\",\"line_alpha\":1.0,\"line_color\":\"black\",\"line_dash\":[4,4],\"line_width\":2,\"right_units\":\"screen\",\"syncable\":false,\"top_units\":\"screen\"},\"id\":\"48049\",\"type\":\"BoxAnnotation\"},{\"attributes\":{},\"id\":\"48029\",\"type\":\"DataRange1d\"},{\"attributes\":{\"children\":[{\"id\":\"48103\"},{\"id\":\"48024\"},{\"id\":\"48130\"}],\"margin\":[0,0,0,0],\"name\":\"Row01826\"},\"id\":\"48102\",\"type\":\"Row\"}],\"root_ids\":[\"48102\",\"48170\"]},\"title\":\"Bokeh Application\",\"version\":\"2.4.3\"}};\n",
       "    var render_items = [{\"docid\":\"c4265e1a-c3ec-4f84-a7bd-7bd85987df7c\",\"root_ids\":[\"48102\"],\"roots\":{\"48102\":\"306b6229-ad0f-4328-9719-7207f14ad538\"}}];\n",
       "    root.Bokeh.embed.embed_items_notebook(docs_json, render_items);\n",
       "    for (const render_item of render_items) {\n",
       "      for (const root_id of render_item.root_ids) {\n",
       "\tconst id_el = document.getElementById(root_id)\n",
       "\tif (id_el.children.length && (id_el.children[0].className === 'bk-root')) {\n",
       "\t  const root_el = id_el.children[0]\n",
       "\t  root_el.id = root_el.id + '-rendered'\n",
       "\t}\n",
       "      }\n",
       "    }\n",
       "  }\n",
       "  if (root.Bokeh !== undefined && root.Bokeh.Panel !== undefined) {\n",
       "    embed_document(root);\n",
       "  } else {\n",
       "    var attempts = 0;\n",
       "    var timer = setInterval(function(root) {\n",
       "      if (root.Bokeh !== undefined && root.Bokeh.Panel !== undefined) {\n",
       "        clearInterval(timer);\n",
       "        embed_document(root);\n",
       "      } else if (document.readyState == \"complete\") {\n",
       "        attempts++;\n",
       "        if (attempts > 200) {\n",
       "          clearInterval(timer);\n",
       "          console.log(\"Bokeh: ERROR: Unable to run BokehJS code because BokehJS library is missing\");\n",
       "        }\n",
       "      }\n",
       "    }, 25, root)\n",
       "  }\n",
       "})(window);</script>"
      ],
      "text/plain": [
       "Row\n",
       "    [0] HSpacer()\n",
       "    [1] Bokeh(Figure)\n",
       "    [2] HSpacer()"
      ]
     },
     "execution_count": 305,
     "metadata": {
      "application/vnd.holoviews_exec.v0+json": {
       "id": "48102"
      }
     },
     "output_type": "execute_result"
    }
   ],
   "source": [
    "def get_x_feature(x,order):\n",
    "    return np.array([ list(np.power(x,i)) for i in range(order+1)]).T\n",
    "order =3\n",
    "x = np.linspace(-2.5,2.5,200)\n",
    "# true_w = np.random.randint(-3,3,order+1)\n",
    "true_w = [-1 , 1, -3, -1]\n",
    "print(\"ture w: \",true_w)\n",
    "x_feature = get_x_feature(x,order)\n",
    "# print(x_feature)\n",
    "y = x_feature@true_w\n",
    "# print(y)\n",
    "eps=1\n",
    "y = y+ np.random.uniform(-eps, eps, x.shape)\n",
    "lr = 0.001\n",
    "weight=[0,0,0,0]\n",
    "p = scatter(np.array(x), np.array(y), title=\"Linear regression\")\n",
    "p.line(x, x_feature@weight, line_width=6, line_alpha=0.6, color=\"red\", legend_label=r\"Learned model\")\n",
    "plot = (center_plot(p))\n",
    "plot"
   ]
  },
  {
   "cell_type": "code",
   "execution_count": 308,
   "metadata": {},
   "outputs": [
    {
     "name": "stdout",
     "output_type": "stream",
     "text": [
      "before training loss: 107.194174052987\n",
      "after training loss: 0.5682227776611916\n",
      "elapsed time:  0.016659259796142578\n"
     ]
    },
    {
     "data": {},
     "metadata": {},
     "output_type": "display_data"
    },
    {
     "data": {
      "application/vnd.holoviews_exec.v0+json": "",
      "text/html": [
       "<div id='48314'>\n",
       "  <div class=\"bk-root\" id=\"c5fca19d-9ea5-43bf-9807-c9c1646cec4a\" data-root-id=\"48314\"></div>\n",
       "</div>\n",
       "<script type=\"application/javascript\">(function(root) {\n",
       "  function embed_document(root) {\n",
       "    var docs_json = {\"bd528d53-ca7d-436c-afc1-dc77abbc7108\":{\"defs\":[{\"extends\":null,\"module\":null,\"name\":\"ReactiveHTML1\",\"overrides\":[],\"properties\":[]},{\"extends\":null,\"module\":null,\"name\":\"FlexBox1\",\"overrides\":[],\"properties\":[{\"default\":\"flex-start\",\"kind\":null,\"name\":\"align_content\"},{\"default\":\"flex-start\",\"kind\":null,\"name\":\"align_items\"},{\"default\":\"row\",\"kind\":null,\"name\":\"flex_direction\"},{\"default\":\"wrap\",\"kind\":null,\"name\":\"flex_wrap\"},{\"default\":\"flex-start\",\"kind\":null,\"name\":\"justify_content\"}]},{\"extends\":null,\"module\":null,\"name\":\"GridStack1\",\"overrides\":[],\"properties\":[{\"default\":\"warn\",\"kind\":null,\"name\":\"mode\"},{\"default\":null,\"kind\":null,\"name\":\"ncols\"},{\"default\":null,\"kind\":null,\"name\":\"nrows\"},{\"default\":true,\"kind\":null,\"name\":\"allow_resize\"},{\"default\":true,\"kind\":null,\"name\":\"allow_drag\"},{\"default\":[],\"kind\":null,\"name\":\"state\"}]},{\"extends\":null,\"module\":null,\"name\":\"click1\",\"overrides\":[],\"properties\":[{\"default\":\"\",\"kind\":null,\"name\":\"terminal_output\"},{\"default\":\"\",\"kind\":null,\"name\":\"debug_name\"},{\"default\":0,\"kind\":null,\"name\":\"clears\"}]},{\"extends\":null,\"module\":null,\"name\":\"NotificationAreaBase1\",\"overrides\":[],\"properties\":[{\"default\":\"bottom-right\",\"kind\":null,\"name\":\"position\"},{\"default\":0,\"kind\":null,\"name\":\"_clear\"}]},{\"extends\":null,\"module\":null,\"name\":\"NotificationArea1\",\"overrides\":[],\"properties\":[{\"default\":[],\"kind\":null,\"name\":\"notifications\"},{\"default\":\"bottom-right\",\"kind\":null,\"name\":\"position\"},{\"default\":0,\"kind\":null,\"name\":\"_clear\"},{\"default\":[{\"background\":\"#ffc107\",\"icon\":{\"className\":\"fas fa-exclamation-triangle\",\"color\":\"white\",\"tagName\":\"i\"},\"type\":\"warning\"},{\"background\":\"#007bff\",\"icon\":{\"className\":\"fas fa-info-circle\",\"color\":\"white\",\"tagName\":\"i\"},\"type\":\"info\"}],\"kind\":null,\"name\":\"types\"}]},{\"extends\":null,\"module\":null,\"name\":\"Notification\",\"overrides\":[],\"properties\":[{\"default\":null,\"kind\":null,\"name\":\"background\"},{\"default\":3000,\"kind\":null,\"name\":\"duration\"},{\"default\":null,\"kind\":null,\"name\":\"icon\"},{\"default\":\"\",\"kind\":null,\"name\":\"message\"},{\"default\":null,\"kind\":null,\"name\":\"notification_type\"},{\"default\":false,\"kind\":null,\"name\":\"_destroyed\"}]},{\"extends\":null,\"module\":null,\"name\":\"TemplateActions1\",\"overrides\":[],\"properties\":[{\"default\":0,\"kind\":null,\"name\":\"open_modal\"},{\"default\":0,\"kind\":null,\"name\":\"close_modal\"}]},{\"extends\":null,\"module\":null,\"name\":\"MaterialTemplateActions1\",\"overrides\":[],\"properties\":[{\"default\":0,\"kind\":null,\"name\":\"open_modal\"},{\"default\":0,\"kind\":null,\"name\":\"close_modal\"}]}],\"roots\":{\"references\":[{\"attributes\":{\"fill_alpha\":{\"value\":0.25},\"fill_color\":{\"value\":\"midnightblue\"},\"hatch_alpha\":{\"value\":0.25},\"line_alpha\":{\"value\":0.25},\"line_color\":{\"value\":\"white\"},\"size\":{\"value\":10},\"x\":{\"field\":\"x\"},\"y\":{\"field\":\"y\"}},\"id\":\"48270\",\"type\":\"Circle\"},{\"attributes\":{},\"id\":\"48283\",\"type\":\"UnionRenderers\"},{\"attributes\":{\"axis\":{\"id\":\"48247\"},\"coordinates\":null,\"grid_line_alpha\":0.15,\"grid_line_color\":\"#E0E0E0\",\"group\":null,\"ticker\":null},\"id\":\"48250\",\"type\":\"Grid\"},{\"attributes\":{\"label\":{\"value\":\"Observations\"},\"renderers\":[{\"id\":\"48274\"}]},\"id\":\"48287\",\"type\":\"LegendItem\"},{\"attributes\":{\"line_alpha\":0.6,\"line_color\":\"red\",\"line_width\":6,\"x\":{\"field\":\"x\"},\"y\":{\"field\":\"y\"}},\"id\":\"48295\",\"type\":\"Line\"},{\"attributes\":{},\"id\":\"48309\",\"type\":\"UnionRenderers\"},{\"attributes\":{},\"id\":\"48284\",\"type\":\"Selection\"},{\"attributes\":{},\"id\":\"48310\",\"type\":\"Selection\"},{\"attributes\":{},\"id\":\"48248\",\"type\":\"BasicTicker\"},{\"attributes\":{\"coordinates\":null,\"group\":null,\"text\":\"Linear regression\",\"text_color\":\"#E0E0E0\",\"text_font\":\"Josefin Sans\",\"text_font_size\":\"2.1em\"},\"id\":\"48237\",\"type\":\"Title\"},{\"attributes\":{\"data\":{\"x\":{\"__ndarray__\":\"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\",\"dtype\":\"float64\",\"order\":\"little\",\"shape\":[200]},\"y\":{\"__ndarray__\":\"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\",\"dtype\":\"float64\",\"order\":\"little\",\"shape\":[200]}},\"selected\":{\"id\":\"48310\"},\"selection_policy\":{\"id\":\"48309\"}},\"id\":\"48294\",\"type\":\"ColumnDataSource\"},{\"attributes\":{\"background_fill_alpha\":0.9,\"background_fill_color\":\"#0f0f0f\",\"below\":[{\"id\":\"48247\"}],\"border_fill_alpha\":0.8,\"border_fill_color\":\"#111111\",\"center\":[{\"id\":\"48250\"},{\"id\":\"48254\"},{\"id\":\"48286\"}],\"height\":450,\"left\":[{\"id\":\"48251\"}],\"outline_line_alpha\":0.25,\"outline_line_color\":\"#E0E0E0\",\"outline_line_width\":3,\"renderers\":[{\"id\":\"48274\"},{\"id\":\"48298\"}],\"title\":{\"id\":\"48237\"},\"toolbar\":{\"id\":\"48262\"},\"toolbar_location\":null,\"x_range\":{\"id\":\"48239\"},\"x_scale\":{\"id\":\"48243\"},\"y_range\":{\"id\":\"48241\"},\"y_scale\":{\"id\":\"48245\"}},\"id\":\"48236\",\"subtype\":\"Figure\",\"type\":\"Plot\"},{\"attributes\":{\"bottom_units\":\"screen\",\"coordinates\":null,\"fill_alpha\":0.5,\"fill_color\":\"lightgrey\",\"group\":null,\"left_units\":\"screen\",\"level\":\"overlay\",\"line_alpha\":1.0,\"line_color\":\"black\",\"line_dash\":[4,4],\"line_width\":2,\"right_units\":\"screen\",\"syncable\":false,\"top_units\":\"screen\"},\"id\":\"48312\",\"type\":\"BoxAnnotation\"},{\"attributes\":{\"fill_alpha\":{\"value\":0.8},\"fill_color\":{\"value\":\"red\"},\"line_color\":{\"value\":\"white\"}},\"id\":\"48290\",\"type\":\"Circle\"},{\"attributes\":{\"bottom_units\":\"screen\",\"coordinates\":null,\"fill_alpha\":0.5,\"fill_color\":\"lightgrey\",\"group\":null,\"left_units\":\"screen\",\"level\":\"overlay\",\"line_alpha\":1.0,\"line_color\":\"black\",\"line_dash\":[4,4],\"line_width\":2,\"right_units\":\"screen\",\"syncable\":false,\"top_units\":\"screen\"},\"id\":\"48261\",\"type\":\"BoxAnnotation\"},{\"attributes\":{\"mode\":\"append\",\"overlay\":{\"id\":\"48312\"},\"renderers\":[{\"id\":\"48274\"}]},\"id\":\"48292\",\"type\":\"BoxSelectTool\"},{\"attributes\":{\"children\":[{\"id\":\"48315\"},{\"id\":\"48236\"},{\"id\":\"48342\"}],\"margin\":[0,0,0,0],\"name\":\"Row01833\"},\"id\":\"48314\",\"type\":\"Row\"},{\"attributes\":{\"fill_alpha\":{\"value\":0.5},\"fill_color\":{\"value\":\"red\"},\"hatch_alpha\":{\"value\":0.5},\"line_alpha\":{\"value\":0.5},\"line_color\":{\"value\":\"white\"},\"size\":{\"value\":10},\"x\":{\"field\":\"x\"},\"y\":{\"field\":\"y\"}},\"id\":\"48272\",\"type\":\"Circle\"},{\"attributes\":{\"margin\":[5,5,5,5],\"name\":\"HSpacer01829\",\"sizing_mode\":\"stretch_width\"},\"id\":\"48315\",\"type\":\"Spacer\"},{\"attributes\":{\"callback\":null,\"mode\":\"vline\",\"renderers\":[{\"id\":\"48274\"}],\"tooltips\":null},\"id\":\"48288\",\"type\":\"HoverTool\"},{\"attributes\":{},\"id\":\"48256\",\"type\":\"WheelZoomTool\"},{\"attributes\":{\"axis_label\":\"x\",\"axis_label_standoff\":10,\"axis_label_text_color\":\"#FFFFFF\",\"axis_label_text_font\":\"Josefin Sans\",\"axis_label_text_font_size\":\"1.9em\",\"axis_label_text_font_style\":\"bold\",\"axis_line_alpha\":0.4,\"axis_line_color\":\"#E0E0E0\",\"coordinates\":null,\"formatter\":{\"id\":\"48281\"},\"group\":null,\"major_label_policy\":{\"id\":\"48282\"},\"major_label_text_color\":\"#E0E0E0\",\"major_label_text_font\":\"Josefin Sans\",\"major_label_text_font_size\":\"1.15em\",\"major_tick_line_alpha\":0.4,\"major_tick_line_color\":\"#E0E0E0\",\"minor_tick_line_alpha\":0.4,\"minor_tick_line_color\":\"#E0E0E0\",\"ticker\":{\"id\":\"48248\"}},\"id\":\"48247\",\"type\":\"LinearAxis\"},{\"attributes\":{\"fill_alpha\":{\"value\":0.2},\"fill_color\":{\"value\":\"midnightblue\"},\"hatch_alpha\":{\"value\":0.2},\"line_alpha\":{\"value\":0.2},\"line_color\":{\"value\":\"white\"},\"size\":{\"value\":10},\"x\":{\"field\":\"x\"},\"y\":{\"field\":\"y\"}},\"id\":\"48273\",\"type\":\"Circle\"},{\"attributes\":{},\"id\":\"48278\",\"type\":\"BasicTickFormatter\"},{\"attributes\":{\"source\":{\"id\":\"48269\"}},\"id\":\"48275\",\"type\":\"CDSView\"},{\"attributes\":{},\"id\":\"48243\",\"type\":\"LinearScale\"},{\"attributes\":{\"source\":{\"id\":\"48294\"}},\"id\":\"48299\",\"type\":\"CDSView\"},{\"attributes\":{},\"id\":\"48279\",\"type\":\"AllLabels\"},{\"attributes\":{},\"id\":\"48258\",\"type\":\"SaveTool\"},{\"attributes\":{\"fill_alpha\":{\"value\":0.5},\"fill_color\":{\"value\":\"midnightblue\"},\"line_color\":{\"value\":\"white\"}},\"id\":\"48291\",\"type\":\"Circle\"},{\"attributes\":{\"data\":{\"x\":{\"__ndarray__\":\"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\",\"dtype\":\"float64\",\"order\":\"little\",\"shape\":[200]},\"y\":{\"__ndarray__\":\"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\",\"dtype\":\"float64\",\"order\":\"little\",\"shape\":[200]}},\"selected\":{\"id\":\"48284\"},\"selection_policy\":{\"id\":\"48283\"}},\"id\":\"48269\",\"type\":\"ColumnDataSource\"},{\"attributes\":{\"background_fill_alpha\":0.25,\"background_fill_color\":\"#505050\",\"border_line_alpha\":0.25,\"coordinates\":null,\"group\":null,\"items\":[{\"id\":\"48287\"},{\"id\":\"48313\"}],\"label_standoff\":8,\"label_text_color\":\"#E0E0E0\",\"label_text_font\":\"Josefin Sans\",\"label_text_font_size\":\"1.15em\",\"spacing\":8},\"id\":\"48286\",\"type\":\"Legend\"},{\"attributes\":{\"coordinates\":null,\"data_source\":{\"id\":\"48294\"},\"glyph\":{\"id\":\"48295\"},\"group\":null,\"hover_glyph\":null,\"muted_glyph\":{\"id\":\"48297\"},\"nonselection_glyph\":{\"id\":\"48296\"},\"view\":{\"id\":\"48299\"}},\"id\":\"48298\",\"type\":\"GlyphRenderer\"},{\"attributes\":{},\"id\":\"48252\",\"type\":\"BasicTicker\"},{\"attributes\":{},\"id\":\"48281\",\"type\":\"BasicTickFormatter\"},{\"attributes\":{\"client_comm_id\":\"3d4abc976c054b31b4e5c46e3ebbdcec\",\"comm_id\":\"f7323932c5fc4187a009ba05ba9e1a92\",\"plot_id\":\"48314\"},\"id\":\"48382\",\"type\":\"panel.models.comm_manager.CommManager\"},{\"attributes\":{\"line_alpha\":0.2,\"line_color\":\"red\",\"line_width\":6,\"x\":{\"field\":\"x\"},\"y\":{\"field\":\"y\"}},\"id\":\"48297\",\"type\":\"Line\"},{\"attributes\":{},\"id\":\"48282\",\"type\":\"AllLabels\"},{\"attributes\":{\"coordinates\":null,\"data_source\":{\"id\":\"48269\"},\"glyph\":{\"id\":\"48270\"},\"group\":null,\"hover_glyph\":{\"id\":\"48272\"},\"muted_glyph\":{\"id\":\"48273\"},\"nonselection_glyph\":{\"id\":\"48291\"},\"selection_glyph\":{\"id\":\"48290\"},\"view\":{\"id\":\"48275\"}},\"id\":\"48274\",\"type\":\"GlyphRenderer\"},{\"attributes\":{\"line_alpha\":0.1,\"line_color\":\"red\",\"line_width\":6,\"x\":{\"field\":\"x\"},\"y\":{\"field\":\"y\"}},\"id\":\"48296\",\"type\":\"Line\"},{\"attributes\":{},\"id\":\"48239\",\"type\":\"DataRange1d\"},{\"attributes\":{},\"id\":\"48241\",\"type\":\"DataRange1d\"},{\"attributes\":{},\"id\":\"48255\",\"type\":\"PanTool\"},{\"attributes\":{\"margin\":[5,5,5,5],\"name\":\"HSpacer01830\",\"sizing_mode\":\"stretch_width\"},\"id\":\"48342\",\"type\":\"Spacer\"},{\"attributes\":{\"overlay\":{\"id\":\"48261\"}},\"id\":\"48257\",\"type\":\"BoxZoomTool\"},{\"attributes\":{},\"id\":\"48260\",\"type\":\"HelpTool\"},{\"attributes\":{\"label\":{\"value\":\"Learned model\"},\"renderers\":[{\"id\":\"48298\"}]},\"id\":\"48313\",\"type\":\"LegendItem\"},{\"attributes\":{\"tools\":[{\"id\":\"48255\"},{\"id\":\"48256\"},{\"id\":\"48257\"},{\"id\":\"48258\"},{\"id\":\"48259\"},{\"id\":\"48260\"},{\"id\":\"48288\"},{\"id\":\"48292\"}]},\"id\":\"48262\",\"type\":\"Toolbar\"},{\"attributes\":{},\"id\":\"48259\",\"type\":\"ResetTool\"},{\"attributes\":{\"axis_label\":\"y\",\"axis_label_standoff\":10,\"axis_label_text_color\":\"#FFFFFF\",\"axis_label_text_font\":\"Josefin Sans\",\"axis_label_text_font_size\":\"1.9em\",\"axis_label_text_font_style\":\"bold\",\"axis_line_alpha\":0.4,\"axis_line_color\":\"#E0E0E0\",\"coordinates\":null,\"formatter\":{\"id\":\"48278\"},\"group\":null,\"major_label_policy\":{\"id\":\"48279\"},\"major_label_text_color\":\"#E0E0E0\",\"major_label_text_font\":\"Josefin Sans\",\"major_label_text_font_size\":\"1.15em\",\"major_tick_line_alpha\":0.4,\"major_tick_line_color\":\"#E0E0E0\",\"minor_tick_line_alpha\":0.4,\"minor_tick_line_color\":\"#E0E0E0\",\"ticker\":{\"id\":\"48252\"}},\"id\":\"48251\",\"type\":\"LinearAxis\"},{\"attributes\":{},\"id\":\"48245\",\"type\":\"LinearScale\"},{\"attributes\":{\"axis\":{\"id\":\"48251\"},\"coordinates\":null,\"dimension\":1,\"grid_line_alpha\":0.15,\"grid_line_color\":\"#E0E0E0\",\"group\":null,\"ticker\":null},\"id\":\"48254\",\"type\":\"Grid\"}],\"root_ids\":[\"48314\",\"48382\"]},\"title\":\"Bokeh Application\",\"version\":\"2.4.3\"}};\n",
       "    var render_items = [{\"docid\":\"bd528d53-ca7d-436c-afc1-dc77abbc7108\",\"root_ids\":[\"48314\"],\"roots\":{\"48314\":\"c5fca19d-9ea5-43bf-9807-c9c1646cec4a\"}}];\n",
       "    root.Bokeh.embed.embed_items_notebook(docs_json, render_items);\n",
       "    for (const render_item of render_items) {\n",
       "      for (const root_id of render_item.root_ids) {\n",
       "\tconst id_el = document.getElementById(root_id)\n",
       "\tif (id_el.children.length && (id_el.children[0].className === 'bk-root')) {\n",
       "\t  const root_el = id_el.children[0]\n",
       "\t  root_el.id = root_el.id + '-rendered'\n",
       "\t}\n",
       "      }\n",
       "    }\n",
       "  }\n",
       "  if (root.Bokeh !== undefined && root.Bokeh.Panel !== undefined) {\n",
       "    embed_document(root);\n",
       "  } else {\n",
       "    var attempts = 0;\n",
       "    var timer = setInterval(function(root) {\n",
       "      if (root.Bokeh !== undefined && root.Bokeh.Panel !== undefined) {\n",
       "        clearInterval(timer);\n",
       "        embed_document(root);\n",
       "      } else if (document.readyState == \"complete\") {\n",
       "        attempts++;\n",
       "        if (attempts > 200) {\n",
       "          clearInterval(timer);\n",
       "          console.log(\"Bokeh: ERROR: Unable to run BokehJS code because BokehJS library is missing\");\n",
       "        }\n",
       "      }\n",
       "    }, 25, root)\n",
       "  }\n",
       "})(window);</script>"
      ],
      "text/plain": [
       "Row\n",
       "    [0] HSpacer()\n",
       "    [1] Bokeh(Figure)\n",
       "    [2] HSpacer()"
      ]
     },
     "execution_count": 308,
     "metadata": {
      "application/vnd.holoviews_exec.v0+json": {
       "id": "48314"
      }
     },
     "output_type": "execute_result"
    }
   ],
   "source": [
    "def mse_loss(target,predicted):\n",
    "    return np.mean(np.power(target-predicted,2))\n",
    "\n",
    "\n",
    "def train(epochs):\n",
    "    global weight\n",
    "    for epoch in range(epochs):\n",
    "        output = x_feature@weight\n",
    "        gradient =  (output-y)[:,None] *x_feature\n",
    "        weight -=lr*np.mean(gradient,0)\n",
    "start =time.time()\n",
    "print(\"before training loss:\", mse_loss(y,x_feature@weight))\n",
    "train(1000)\n",
    "print(\"after training loss:\", mse_loss(y,x_feature@weight))\n",
    "print(\"elapsed time: \", time.time()-start)\n",
    "p = scatter(np.array(x), np.array(y), title=\"Linear regression\")\n",
    "p.line(x, x_feature@weight, line_width=6, line_alpha=0.6, color=\"red\", legend_label=r\"Learned model\")\n",
    "plot = (center_plot(p))\n",
    "plot"
   ]
  },
  {
   "cell_type": "markdown",
   "metadata": {},
   "source": [
    "<div class=\"alert alert-success\" markdown=\"1\" style=\"color:white; background-color: #013220; border-color: #03C03C\">\n",
    "\n",
    "> ### Question 2.2. Implement polynomial regression using JAX with gradient descent.\n",
    "\n",
    "</div>"
   ]
  },
  {
   "cell_type": "code",
   "execution_count": 309,
   "metadata": {},
   "outputs": [
    {
     "name": "stdout",
     "output_type": "stream",
     "text": [
      "ture w:  [-1  1 -3 -1]\n"
     ]
    },
    {
     "data": {},
     "metadata": {},
     "output_type": "display_data"
    },
    {
     "data": {
      "application/vnd.holoviews_exec.v0+json": "",
      "text/html": [
       "<div id='48526'>\n",
       "  <div class=\"bk-root\" id=\"1dd18b54-14d1-4f3f-a074-6d02d1bd2589\" data-root-id=\"48526\"></div>\n",
       "</div>\n",
       "<script type=\"application/javascript\">(function(root) {\n",
       "  function embed_document(root) {\n",
       "    var docs_json = {\"2605e123-90d7-4110-b2ec-6fdfaf2a9dac\":{\"defs\":[{\"extends\":null,\"module\":null,\"name\":\"ReactiveHTML1\",\"overrides\":[],\"properties\":[]},{\"extends\":null,\"module\":null,\"name\":\"FlexBox1\",\"overrides\":[],\"properties\":[{\"default\":\"flex-start\",\"kind\":null,\"name\":\"align_content\"},{\"default\":\"flex-start\",\"kind\":null,\"name\":\"align_items\"},{\"default\":\"row\",\"kind\":null,\"name\":\"flex_direction\"},{\"default\":\"wrap\",\"kind\":null,\"name\":\"flex_wrap\"},{\"default\":\"flex-start\",\"kind\":null,\"name\":\"justify_content\"}]},{\"extends\":null,\"module\":null,\"name\":\"GridStack1\",\"overrides\":[],\"properties\":[{\"default\":\"warn\",\"kind\":null,\"name\":\"mode\"},{\"default\":null,\"kind\":null,\"name\":\"ncols\"},{\"default\":null,\"kind\":null,\"name\":\"nrows\"},{\"default\":true,\"kind\":null,\"name\":\"allow_resize\"},{\"default\":true,\"kind\":null,\"name\":\"allow_drag\"},{\"default\":[],\"kind\":null,\"name\":\"state\"}]},{\"extends\":null,\"module\":null,\"name\":\"click1\",\"overrides\":[],\"properties\":[{\"default\":\"\",\"kind\":null,\"name\":\"terminal_output\"},{\"default\":\"\",\"kind\":null,\"name\":\"debug_name\"},{\"default\":0,\"kind\":null,\"name\":\"clears\"}]},{\"extends\":null,\"module\":null,\"name\":\"NotificationAreaBase1\",\"overrides\":[],\"properties\":[{\"default\":\"bottom-right\",\"kind\":null,\"name\":\"position\"},{\"default\":0,\"kind\":null,\"name\":\"_clear\"}]},{\"extends\":null,\"module\":null,\"name\":\"NotificationArea1\",\"overrides\":[],\"properties\":[{\"default\":[],\"kind\":null,\"name\":\"notifications\"},{\"default\":\"bottom-right\",\"kind\":null,\"name\":\"position\"},{\"default\":0,\"kind\":null,\"name\":\"_clear\"},{\"default\":[{\"background\":\"#ffc107\",\"icon\":{\"className\":\"fas fa-exclamation-triangle\",\"color\":\"white\",\"tagName\":\"i\"},\"type\":\"warning\"},{\"background\":\"#007bff\",\"icon\":{\"className\":\"fas fa-info-circle\",\"color\":\"white\",\"tagName\":\"i\"},\"type\":\"info\"}],\"kind\":null,\"name\":\"types\"}]},{\"extends\":null,\"module\":null,\"name\":\"Notification\",\"overrides\":[],\"properties\":[{\"default\":null,\"kind\":null,\"name\":\"background\"},{\"default\":3000,\"kind\":null,\"name\":\"duration\"},{\"default\":null,\"kind\":null,\"name\":\"icon\"},{\"default\":\"\",\"kind\":null,\"name\":\"message\"},{\"default\":null,\"kind\":null,\"name\":\"notification_type\"},{\"default\":false,\"kind\":null,\"name\":\"_destroyed\"}]},{\"extends\":null,\"module\":null,\"name\":\"TemplateActions1\",\"overrides\":[],\"properties\":[{\"default\":0,\"kind\":null,\"name\":\"open_modal\"},{\"default\":0,\"kind\":null,\"name\":\"close_modal\"}]},{\"extends\":null,\"module\":null,\"name\":\"MaterialTemplateActions1\",\"overrides\":[],\"properties\":[{\"default\":0,\"kind\":null,\"name\":\"open_modal\"},{\"default\":0,\"kind\":null,\"name\":\"close_modal\"}]}],\"roots\":{\"references\":[{\"attributes\":{\"coordinates\":null,\"group\":null,\"text\":\"Linear regression\",\"text_color\":\"#E0E0E0\",\"text_font\":\"Josefin Sans\",\"text_font_size\":\"2.1em\"},\"id\":\"48449\",\"type\":\"Title\"},{\"attributes\":{\"fill_alpha\":{\"value\":0.25},\"fill_color\":{\"value\":\"midnightblue\"},\"hatch_alpha\":{\"value\":0.25},\"line_alpha\":{\"value\":0.25},\"line_color\":{\"value\":\"white\"},\"size\":{\"value\":10},\"x\":{\"field\":\"x\"},\"y\":{\"field\":\"y\"}},\"id\":\"48482\",\"type\":\"Circle\"},{\"attributes\":{\"overlay\":{\"id\":\"48473\"}},\"id\":\"48469\",\"type\":\"BoxZoomTool\"},{\"attributes\":{\"fill_alpha\":{\"value\":0.5},\"fill_color\":{\"value\":\"midnightblue\"},\"line_color\":{\"value\":\"white\"}},\"id\":\"48503\",\"type\":\"Circle\"},{\"attributes\":{},\"id\":\"48490\",\"type\":\"BasicTickFormatter\"},{\"attributes\":{},\"id\":\"48467\",\"type\":\"PanTool\"},{\"attributes\":{\"label\":{\"value\":\"Observations\"},\"renderers\":[{\"id\":\"48486\"}]},\"id\":\"48499\",\"type\":\"LegendItem\"},{\"attributes\":{},\"id\":\"48521\",\"type\":\"UnionRenderers\"},{\"attributes\":{\"bottom_units\":\"screen\",\"coordinates\":null,\"fill_alpha\":0.5,\"fill_color\":\"lightgrey\",\"group\":null,\"left_units\":\"screen\",\"level\":\"overlay\",\"line_alpha\":1.0,\"line_color\":\"black\",\"line_dash\":[4,4],\"line_width\":2,\"right_units\":\"screen\",\"syncable\":false,\"top_units\":\"screen\"},\"id\":\"48473\",\"type\":\"BoxAnnotation\"},{\"attributes\":{\"background_fill_alpha\":0.9,\"background_fill_color\":\"#0f0f0f\",\"below\":[{\"id\":\"48459\"}],\"border_fill_alpha\":0.8,\"border_fill_color\":\"#111111\",\"center\":[{\"id\":\"48462\"},{\"id\":\"48466\"},{\"id\":\"48498\"}],\"height\":450,\"left\":[{\"id\":\"48463\"}],\"outline_line_alpha\":0.25,\"outline_line_color\":\"#E0E0E0\",\"outline_line_width\":3,\"renderers\":[{\"id\":\"48486\"},{\"id\":\"48510\"}],\"title\":{\"id\":\"48449\"},\"toolbar\":{\"id\":\"48474\"},\"toolbar_location\":null,\"x_range\":{\"id\":\"48451\"},\"x_scale\":{\"id\":\"48455\"},\"y_range\":{\"id\":\"48453\"},\"y_scale\":{\"id\":\"48457\"}},\"id\":\"48448\",\"subtype\":\"Figure\",\"type\":\"Plot\"},{\"attributes\":{\"axis_label\":\"y\",\"axis_label_standoff\":10,\"axis_label_text_color\":\"#FFFFFF\",\"axis_label_text_font\":\"Josefin Sans\",\"axis_label_text_font_size\":\"1.9em\",\"axis_label_text_font_style\":\"bold\",\"axis_line_alpha\":0.4,\"axis_line_color\":\"#E0E0E0\",\"coordinates\":null,\"formatter\":{\"id\":\"48490\"},\"group\":null,\"major_label_policy\":{\"id\":\"48491\"},\"major_label_text_color\":\"#E0E0E0\",\"major_label_text_font\":\"Josefin Sans\",\"major_label_text_font_size\":\"1.15em\",\"major_tick_line_alpha\":0.4,\"major_tick_line_color\":\"#E0E0E0\",\"minor_tick_line_alpha\":0.4,\"minor_tick_line_color\":\"#E0E0E0\",\"ticker\":{\"id\":\"48464\"}},\"id\":\"48463\",\"type\":\"LinearAxis\"},{\"attributes\":{},\"id\":\"48491\",\"type\":\"AllLabels\"},{\"attributes\":{},\"id\":\"48455\",\"type\":\"LinearScale\"},{\"attributes\":{\"label\":{\"value\":\"Learned model\"},\"renderers\":[{\"id\":\"48510\"}]},\"id\":\"48525\",\"type\":\"LegendItem\"},{\"attributes\":{},\"id\":\"48460\",\"type\":\"BasicTicker\"},{\"attributes\":{},\"id\":\"48453\",\"type\":\"DataRange1d\"},{\"attributes\":{},\"id\":\"48493\",\"type\":\"BasicTickFormatter\"},{\"attributes\":{\"line_alpha\":0.1,\"line_color\":\"red\",\"line_width\":6,\"x\":{\"field\":\"x\"},\"y\":{\"field\":\"y\"}},\"id\":\"48508\",\"type\":\"Line\"},{\"attributes\":{},\"id\":\"48522\",\"type\":\"Selection\"},{\"attributes\":{},\"id\":\"48494\",\"type\":\"AllLabels\"},{\"attributes\":{\"tools\":[{\"id\":\"48467\"},{\"id\":\"48468\"},{\"id\":\"48469\"},{\"id\":\"48470\"},{\"id\":\"48471\"},{\"id\":\"48472\"},{\"id\":\"48500\"},{\"id\":\"48504\"}]},\"id\":\"48474\",\"type\":\"Toolbar\"},{\"attributes\":{},\"id\":\"48464\",\"type\":\"BasicTicker\"},{\"attributes\":{},\"id\":\"48468\",\"type\":\"WheelZoomTool\"},{\"attributes\":{\"fill_alpha\":{\"value\":0.5},\"fill_color\":{\"value\":\"red\"},\"hatch_alpha\":{\"value\":0.5},\"line_alpha\":{\"value\":0.5},\"line_color\":{\"value\":\"white\"},\"size\":{\"value\":10},\"x\":{\"field\":\"x\"},\"y\":{\"field\":\"y\"}},\"id\":\"48484\",\"type\":\"Circle\"},{\"attributes\":{\"data\":{\"x\":{\"__ndarray__\":\"AAAgwFdkHsCvyBzABi0bwF6RGcC19RfADVoWwGW+FMC8IhPAE4cRwGvrD8DCTw7AGrQMwHEYC8DIfAnAIOEHwHhFBsDPqQTAJw4DwH5yAcCsrf+/Wnb8vwg/+b+4B/a/Z9DyvxaZ77/FYey/cyrpvyPz5b/Su+K/gITfvzBN3L/eFdm/jt7Vvzyn0r/rb8+/mzjMv0kByb/5ycW/p5LCv1Zbv78GJLy/tOy4v2K1tb8SfrK/wUavv3APrL8f2Ki/zqClv31por8sMp+/3Pqbv4rDmL84jJW/6FSSv5Ydj79F5ou/9K6Iv6N3hb9TQIK/AhJ+v2Cjd7+/NHG/HMZqv3lXZL/Y6F2/NnpXv5ULUb/ynEq/Ty5Ev66/Pb8MUTe/a+Iwv8hzKr8lBSS/hJYdv+AnF78+uRC/nUoKv/rbA7+z2vq+b/3tvicg4b7oQtS+oGXHvmGIur4Zq62+0c2gvpLwk75KE4e+DGx0voaxWr7+9kC+eDwnvvCBDb7Ajue9xBm0vaSkgL1QXxq9QNRNvPDTTTw8Xxo9pKSAPboZtD3Ajuc98IENPnM8Jz7+9kA+ibFaPhFsdD5OE4c+kPCTPtXNoD4Wq60+Xoi6PqBlxz7mQtQ+JyDhPm/97T6w2vo++9sDP5xKCj9AuRA/4CcXP4OWHT8kBSQ/yHMqP2niMD8MUTc/rr89P08uRD/znEo/lAtRPzZ6Vz/X6F0/e1dkPxzGaj+/NHE/YKN3PwQSfj9SQII/pHeFP/SuiD9G5os/lh2PP+hUkj84jJU/icOYP9r6mz8sMp8/fWmiP86gpT8f2Kg/cA+sP8FGrz8SfrI/Y7W1P7TsuD8FJLw/Vlu/P6eSwj/4ycU/SAHJP5s4zD/sb88/PKfSP43e1T/fFdk/ME3cP4CE3z/Ru+I/I/PlP3Qq6T/EYew/F5nvP2fQ8j+4B/Y/CD/5P1t2/D+rrf8/fnIBQCYOA0DPqQRAeEUGQCDhB0DIfAlAcRgLQBq0DEDCTw5AausPQBSHEUC8IhNAZL4UQA1aFkC29RdAXpEZQAYtG0CvyBxAWGQeQAAAIEA=\",\"dtype\":\"float32\",\"order\":\"little\",\"shape\":[200]},\"y\":{\"__ndarray__\":\"AAAAAAAAAAAAAAAAAAAAAAAAAAAAAAAAAAAAAAAAAAAAAAAAAAAAAAAAAAAAAAAAAAAAAAAAAAAAAAAAAAAAAAAAAAAAAAAAAAAAAAAAAAAAAAAAAAAAAAAAAAAAAAAAAAAAAAAAAAAAAAAAAAAAAAAAAAAAAAAAAAAAAAAAAAAAAAAAAAAAAAAAAAAAAAAAAAAAAAAAAAAAAAAAAAAAAAAAAAAAAAAAAAAAAAAAAAAAAAAAAAAAAAAAAAAAAAAAAAAAAAAAAAAAAAAAAAAAAAAAAAAAAAAAAAAAAAAAAAAAAAAAAAAAAAAAAAAAAAAAAAAAAAAAAAAAAAAAAAAAAAAAAAAAAAAAAAAAAAAAAAAAAAAAAAAAAAAAAAAAAAAAAAAAAAAAAAAAAAAAAAAAAAAAAAAAAAAAAAAAAAAAAAAAAAAAAAAAAAAAAAAAAAAAAAAAAAAAAAAAAAAAAAAAAAAAAAAAAAAAAAAAAAAAAAAAAAAAAAAAAAAAAAAAAAAAAAAAAAAAAAAAAAAAAAAAAAAAAAAAAAAAAAAAAAAAAAAAAAAAAAAAAAAAAAAAAAAAAAAAAAAAAAAAAAAAAAAAAAAAAAAAAAAAAAAAAAAAAAAAAAAAAAAAAAAAAAAAAAAAAAAAAAAAAAAAAAAAAAAAAAAAAAAAAAAAAAAAAAAAAAAAAAAAAAAAAAAAAAAAAAAAAAAAAAAAAAAAAAAAAAAAAAAAAAAAAAAAAAAAAAAAAAAAAAAAAAAAAAAAAAAAAAAAAAAAAAAAAAAAAAAAAAAAAAAAAAAAAAAAAAAAAAAAAAAAAAAAAAAAAAAAAAAAAAAAAAAAAAAAAAAAAAAAAAAAAAAAAAAAAAAAAAAAAAAAAAAAAAAAAAAAAAAAAAAAAAAAAAAAAAAAAAAAAAAAAAAAAAAAAAAAAAAAAAAAAAAAAAAAAAAAAAAAAAAAAAAAAAAAAAAAAAAAAAAAAAAAAAAAAAAAAAAAAAAAAAAAAAAAAAAAAAAAAAAAAAAAAAAAAAAAAAAAAAAAAAAAAAAAAAAAAAAAAAAAAAAAAAAAAAAAAAA=\",\"dtype\":\"float32\",\"order\":\"little\",\"shape\":[200]}},\"selected\":{\"id\":\"48522\"},\"selection_policy\":{\"id\":\"48521\"}},\"id\":\"48506\",\"type\":\"ColumnDataSource\"},{\"attributes\":{},\"id\":\"48470\",\"type\":\"SaveTool\"},{\"attributes\":{\"background_fill_alpha\":0.25,\"background_fill_color\":\"#505050\",\"border_line_alpha\":0.25,\"coordinates\":null,\"group\":null,\"items\":[{\"id\":\"48499\"},{\"id\":\"48525\"}],\"label_standoff\":8,\"label_text_color\":\"#E0E0E0\",\"label_text_font\":\"Josefin Sans\",\"label_text_font_size\":\"1.15em\",\"spacing\":8},\"id\":\"48498\",\"type\":\"Legend\"},{\"attributes\":{\"axis_label\":\"x\",\"axis_label_standoff\":10,\"axis_label_text_color\":\"#FFFFFF\",\"axis_label_text_font\":\"Josefin Sans\",\"axis_label_text_font_size\":\"1.9em\",\"axis_label_text_font_style\":\"bold\",\"axis_line_alpha\":0.4,\"axis_line_color\":\"#E0E0E0\",\"coordinates\":null,\"formatter\":{\"id\":\"48493\"},\"group\":null,\"major_label_policy\":{\"id\":\"48494\"},\"major_label_text_color\":\"#E0E0E0\",\"major_label_text_font\":\"Josefin Sans\",\"major_label_text_font_size\":\"1.15em\",\"major_tick_line_alpha\":0.4,\"major_tick_line_color\":\"#E0E0E0\",\"minor_tick_line_alpha\":0.4,\"minor_tick_line_color\":\"#E0E0E0\",\"ticker\":{\"id\":\"48460\"}},\"id\":\"48459\",\"type\":\"LinearAxis\"},{\"attributes\":{},\"id\":\"48495\",\"type\":\"UnionRenderers\"},{\"attributes\":{\"data\":{\"x\":{\"__ndarray__\":\"AAAgwFdkHsCvyBzABi0bwF6RGcC19RfADVoWwGW+FMC8IhPAE4cRwGvrD8DCTw7AGrQMwHEYC8DIfAnAIOEHwHhFBsDPqQTAJw4DwH5yAcCsrf+/Wnb8vwg/+b+4B/a/Z9DyvxaZ77/FYey/cyrpvyPz5b/Su+K/gITfvzBN3L/eFdm/jt7Vvzyn0r/rb8+/mzjMv0kByb/5ycW/p5LCv1Zbv78GJLy/tOy4v2K1tb8SfrK/wUavv3APrL8f2Ki/zqClv31por8sMp+/3Pqbv4rDmL84jJW/6FSSv5Ydj79F5ou/9K6Iv6N3hb9TQIK/AhJ+v2Cjd7+/NHG/HMZqv3lXZL/Y6F2/NnpXv5ULUb/ynEq/Ty5Ev66/Pb8MUTe/a+Iwv8hzKr8lBSS/hJYdv+AnF78+uRC/nUoKv/rbA7+z2vq+b/3tvicg4b7oQtS+oGXHvmGIur4Zq62+0c2gvpLwk75KE4e+DGx0voaxWr7+9kC+eDwnvvCBDb7Ajue9xBm0vaSkgL1QXxq9QNRNvPDTTTw8Xxo9pKSAPboZtD3Ajuc98IENPnM8Jz7+9kA+ibFaPhFsdD5OE4c+kPCTPtXNoD4Wq60+Xoi6PqBlxz7mQtQ+JyDhPm/97T6w2vo++9sDP5xKCj9AuRA/4CcXP4OWHT8kBSQ/yHMqP2niMD8MUTc/rr89P08uRD/znEo/lAtRPzZ6Vz/X6F0/e1dkPxzGaj+/NHE/YKN3PwQSfj9SQII/pHeFP/SuiD9G5os/lh2PP+hUkj84jJU/icOYP9r6mz8sMp8/fWmiP86gpT8f2Kg/cA+sP8FGrz8SfrI/Y7W1P7TsuD8FJLw/Vlu/P6eSwj/4ycU/SAHJP5s4zD/sb88/PKfSP43e1T/fFdk/ME3cP4CE3z/Ru+I/I/PlP3Qq6T/EYew/F5nvP2fQ8j+4B/Y/CD/5P1t2/D+rrf8/fnIBQCYOA0DPqQRAeEUGQCDhB0DIfAlAcRgLQBq0DEDCTw5AausPQBSHEUC8IhNAZL4UQA1aFkC29RdAXpEZQAYtG0CvyBxAWGQeQAAAIEA=\",\"dtype\":\"float32\",\"order\":\"little\",\"shape\":[200]},\"y\":{\"__ndarray__\":\"5GDiwJrTzcAsD8nAzrnZwMxRv8ByTevAh+/FwNi46sD4B+jA/LvowOYWysAxUvTAuRHgwHID+cBeOMzA0Y/ywJlkw8DkAsfAIg3kwKCE08Cw5/7ADbHowGgi9sAJeOrA1PX3wB5D5sBbB+vAMHPgwGKE58BIV9vA0jbkwPpRycDSNNjAnEO3wNwYusC/YMfA4rO9wAND3MDwcKnAAIbGwCZE0MBYcp3ALBWqwEKor8A6wqDAbAqSwJ5ZssByn7TAiO6hwMmgtcBoQLjASIGOwF6ut8CvjZzAPzKlwCVbrcCAKYPAaRF8wLi7pMD/tJTAdgWZwB08ScB2S47AUzg+wBlDgsD2l3DAagUYwA5JGMCABx7AKNsowCbub8CaTSrA7k5hwOZE379B5gzAhONPwOKqBMDv60LASSsYwMhBz780DZW/jCyevyJFGMDEC7O/fNAAwGjcJsAfRv6/yFBbv8wbA8DEhBPAWebav2LXfr/YM+i/WfGwv9vS5b+Yu0O+eMIXv4d/8L+fRcG/fyKGv6zZEb/8X4y+/nHZvwEzHL9JLU2/6db0vzpwyr8oSJ+/V92Gv85tbr8n6pu/QIktPGaEh7+sqT6/CEwwvjQweb+2QQu/etetvxtp/79eP9S/fiVAv7w7I79zDQTAFnQZwFbmGcB7t/6/ERHDv3Qom78w2xLAR2cfwLM7PcAOZSvAMCIWwDe2XcAzG2DAH0I2wLT8hcAefG3Ap2x+wAbMkMBjXnvAsjuLwKQhesCiUqXAKpukwKrdscCFZbPAT8vWwP5/p8BoWenAyj3swKOZv8CimtbAVvXowG/R6MBIevTAzM/ywMwN/8BCFAXB3echwXDNKcFTNS/BxJw0wUvvI8Ei80LByG1MwSpdU8Hnr1fBDmdfwQP7VMHdyGvBpJpkwXEzf8FznIDBwDdzwVXRi8EYDI7Bmf+IwUZjl8FGJpLB3+CbwWuco8GrtqjBW6Wtwe96tsGA4LPBSTq7wdyet8EuXsDBEnXIwdyn1cFEkdvBIdTfwRqJ5cGMtd/BGGnswbL288HDIfbBxLf8wVCIBMI=\",\"dtype\":\"float32\",\"order\":\"little\",\"shape\":[200]}},\"selected\":{\"id\":\"48496\"},\"selection_policy\":{\"id\":\"48495\"}},\"id\":\"48481\",\"type\":\"ColumnDataSource\"},{\"attributes\":{\"line_alpha\":0.6,\"line_color\":\"red\",\"line_width\":6,\"x\":{\"field\":\"x\"},\"y\":{\"field\":\"y\"}},\"id\":\"48507\",\"type\":\"Line\"},{\"attributes\":{\"children\":[{\"id\":\"48527\"},{\"id\":\"48448\"},{\"id\":\"48554\"}],\"margin\":[0,0,0,0],\"name\":\"Row01840\"},\"id\":\"48526\",\"type\":\"Row\"},{\"attributes\":{\"bottom_units\":\"screen\",\"coordinates\":null,\"fill_alpha\":0.5,\"fill_color\":\"lightgrey\",\"group\":null,\"left_units\":\"screen\",\"level\":\"overlay\",\"line_alpha\":1.0,\"line_color\":\"black\",\"line_dash\":[4,4],\"line_width\":2,\"right_units\":\"screen\",\"syncable\":false,\"top_units\":\"screen\"},\"id\":\"48524\",\"type\":\"BoxAnnotation\"},{\"attributes\":{\"margin\":[5,5,5,5],\"name\":\"HSpacer01837\",\"sizing_mode\":\"stretch_width\"},\"id\":\"48554\",\"type\":\"Spacer\"},{\"attributes\":{\"margin\":[5,5,5,5],\"name\":\"HSpacer01836\",\"sizing_mode\":\"stretch_width\"},\"id\":\"48527\",\"type\":\"Spacer\"},{\"attributes\":{},\"id\":\"48496\",\"type\":\"Selection\"},{\"attributes\":{},\"id\":\"48457\",\"type\":\"LinearScale\"},{\"attributes\":{\"axis\":{\"id\":\"48463\"},\"coordinates\":null,\"dimension\":1,\"grid_line_alpha\":0.15,\"grid_line_color\":\"#E0E0E0\",\"group\":null,\"ticker\":null},\"id\":\"48466\",\"type\":\"Grid\"},{\"attributes\":{\"source\":{\"id\":\"48506\"}},\"id\":\"48511\",\"type\":\"CDSView\"},{\"attributes\":{\"coordinates\":null,\"data_source\":{\"id\":\"48506\"},\"glyph\":{\"id\":\"48507\"},\"group\":null,\"hover_glyph\":null,\"muted_glyph\":{\"id\":\"48509\"},\"nonselection_glyph\":{\"id\":\"48508\"},\"view\":{\"id\":\"48511\"}},\"id\":\"48510\",\"type\":\"GlyphRenderer\"},{\"attributes\":{\"client_comm_id\":\"f23a12015f25499987e25c9f53171d24\",\"comm_id\":\"87bd81cbe3f94fc6938b3bcc15649ab6\",\"plot_id\":\"48526\"},\"id\":\"48594\",\"type\":\"panel.models.comm_manager.CommManager\"},{\"attributes\":{\"fill_alpha\":{\"value\":0.2},\"fill_color\":{\"value\":\"midnightblue\"},\"hatch_alpha\":{\"value\":0.2},\"line_alpha\":{\"value\":0.2},\"line_color\":{\"value\":\"white\"},\"size\":{\"value\":10},\"x\":{\"field\":\"x\"},\"y\":{\"field\":\"y\"}},\"id\":\"48485\",\"type\":\"Circle\"},{\"attributes\":{\"coordinates\":null,\"data_source\":{\"id\":\"48481\"},\"glyph\":{\"id\":\"48482\"},\"group\":null,\"hover_glyph\":{\"id\":\"48484\"},\"muted_glyph\":{\"id\":\"48485\"},\"nonselection_glyph\":{\"id\":\"48503\"},\"selection_glyph\":{\"id\":\"48502\"},\"view\":{\"id\":\"48487\"}},\"id\":\"48486\",\"type\":\"GlyphRenderer\"},{\"attributes\":{\"axis\":{\"id\":\"48459\"},\"coordinates\":null,\"grid_line_alpha\":0.15,\"grid_line_color\":\"#E0E0E0\",\"group\":null,\"ticker\":null},\"id\":\"48462\",\"type\":\"Grid\"},{\"attributes\":{},\"id\":\"48471\",\"type\":\"ResetTool\"},{\"attributes\":{\"fill_alpha\":{\"value\":0.8},\"fill_color\":{\"value\":\"red\"},\"line_color\":{\"value\":\"white\"}},\"id\":\"48502\",\"type\":\"Circle\"},{\"attributes\":{\"source\":{\"id\":\"48481\"}},\"id\":\"48487\",\"type\":\"CDSView\"},{\"attributes\":{\"line_alpha\":0.2,\"line_color\":\"red\",\"line_width\":6,\"x\":{\"field\":\"x\"},\"y\":{\"field\":\"y\"}},\"id\":\"48509\",\"type\":\"Line\"},{\"attributes\":{},\"id\":\"48451\",\"type\":\"DataRange1d\"},{\"attributes\":{\"mode\":\"append\",\"overlay\":{\"id\":\"48524\"},\"renderers\":[{\"id\":\"48486\"}]},\"id\":\"48504\",\"type\":\"BoxSelectTool\"},{\"attributes\":{},\"id\":\"48472\",\"type\":\"HelpTool\"},{\"attributes\":{\"callback\":null,\"mode\":\"vline\",\"renderers\":[{\"id\":\"48486\"}],\"tooltips\":null},\"id\":\"48500\",\"type\":\"HoverTool\"}],\"root_ids\":[\"48526\",\"48594\"]},\"title\":\"Bokeh Application\",\"version\":\"2.4.3\"}};\n",
       "    var render_items = [{\"docid\":\"2605e123-90d7-4110-b2ec-6fdfaf2a9dac\",\"root_ids\":[\"48526\"],\"roots\":{\"48526\":\"1dd18b54-14d1-4f3f-a074-6d02d1bd2589\"}}];\n",
       "    root.Bokeh.embed.embed_items_notebook(docs_json, render_items);\n",
       "    for (const render_item of render_items) {\n",
       "      for (const root_id of render_item.root_ids) {\n",
       "\tconst id_el = document.getElementById(root_id)\n",
       "\tif (id_el.children.length && (id_el.children[0].className === 'bk-root')) {\n",
       "\t  const root_el = id_el.children[0]\n",
       "\t  root_el.id = root_el.id + '-rendered'\n",
       "\t}\n",
       "      }\n",
       "    }\n",
       "  }\n",
       "  if (root.Bokeh !== undefined && root.Bokeh.Panel !== undefined) {\n",
       "    embed_document(root);\n",
       "  } else {\n",
       "    var attempts = 0;\n",
       "    var timer = setInterval(function(root) {\n",
       "      if (root.Bokeh !== undefined && root.Bokeh.Panel !== undefined) {\n",
       "        clearInterval(timer);\n",
       "        embed_document(root);\n",
       "      } else if (document.readyState == \"complete\") {\n",
       "        attempts++;\n",
       "        if (attempts > 200) {\n",
       "          clearInterval(timer);\n",
       "          console.log(\"Bokeh: ERROR: Unable to run BokehJS code because BokehJS library is missing\");\n",
       "        }\n",
       "      }\n",
       "    }, 25, root)\n",
       "  }\n",
       "})(window);</script>"
      ],
      "text/plain": [
       "Row\n",
       "    [0] HSpacer()\n",
       "    [1] Bokeh(Figure)\n",
       "    [2] HSpacer()"
      ]
     },
     "execution_count": 309,
     "metadata": {
      "application/vnd.holoviews_exec.v0+json": {
       "id": "48526"
      }
     },
     "output_type": "execute_result"
    }
   ],
   "source": [
    "def get_x_feature(x,order):\n",
    "    return jnp.array([ list(jnp.power(x,i)) for i in range(order+1)]).T\n",
    "order =3\n",
    "x = jnp.linspace(-2.5,2.5,200)\n",
    "# true_w = np.random.randint(-3,3,order+1)\n",
    "true_w = jnp.array( [-1 , 1, -3, -1])\n",
    "print(\"ture w: \",true_w)\n",
    "x_feature = get_x_feature(x,order)\n",
    "# print(x_feature)\n",
    "y = x_feature@true_w\n",
    "# print(y)\n",
    "eps=1\n",
    "y = y+ random.uniform(key,minval=-eps, maxval=eps,shape= x.shape)\n",
    "lr = 0.001\n",
    "weight=jnp.array([0.,0.,0.,0.])\n",
    "p = scatter(np.array(x), np.array(y), title=\"Linear regression\")\n",
    "p.line(np.array(x), np.array(x_feature@weight), line_width=6, line_alpha=0.6, color=\"red\", legend_label=r\"Learned model\")\n",
    "plot = (center_plot(p))\n",
    "plot"
   ]
  },
  {
   "cell_type": "code",
   "execution_count": 310,
   "metadata": {},
   "outputs": [
    {
     "name": "stdout",
     "output_type": "stream",
     "text": [
      "before training loss: 108.611305\n",
      "after training loss: 0.4768846\n",
      "elapsed time: 0.05187869071960449\n"
     ]
    },
    {
     "data": {},
     "metadata": {},
     "output_type": "display_data"
    },
    {
     "data": {
      "application/vnd.holoviews_exec.v0+json": "",
      "text/html": [
       "<div id='48738'>\n",
       "  <div class=\"bk-root\" id=\"472ec5a7-e94b-427f-a41a-33691ddff9a5\" data-root-id=\"48738\"></div>\n",
       "</div>\n",
       "<script type=\"application/javascript\">(function(root) {\n",
       "  function embed_document(root) {\n",
       "    var docs_json = {\"5c0b2ce6-a566-498f-a818-c8a590b63802\":{\"defs\":[{\"extends\":null,\"module\":null,\"name\":\"ReactiveHTML1\",\"overrides\":[],\"properties\":[]},{\"extends\":null,\"module\":null,\"name\":\"FlexBox1\",\"overrides\":[],\"properties\":[{\"default\":\"flex-start\",\"kind\":null,\"name\":\"align_content\"},{\"default\":\"flex-start\",\"kind\":null,\"name\":\"align_items\"},{\"default\":\"row\",\"kind\":null,\"name\":\"flex_direction\"},{\"default\":\"wrap\",\"kind\":null,\"name\":\"flex_wrap\"},{\"default\":\"flex-start\",\"kind\":null,\"name\":\"justify_content\"}]},{\"extends\":null,\"module\":null,\"name\":\"GridStack1\",\"overrides\":[],\"properties\":[{\"default\":\"warn\",\"kind\":null,\"name\":\"mode\"},{\"default\":null,\"kind\":null,\"name\":\"ncols\"},{\"default\":null,\"kind\":null,\"name\":\"nrows\"},{\"default\":true,\"kind\":null,\"name\":\"allow_resize\"},{\"default\":true,\"kind\":null,\"name\":\"allow_drag\"},{\"default\":[],\"kind\":null,\"name\":\"state\"}]},{\"extends\":null,\"module\":null,\"name\":\"click1\",\"overrides\":[],\"properties\":[{\"default\":\"\",\"kind\":null,\"name\":\"terminal_output\"},{\"default\":\"\",\"kind\":null,\"name\":\"debug_name\"},{\"default\":0,\"kind\":null,\"name\":\"clears\"}]},{\"extends\":null,\"module\":null,\"name\":\"NotificationAreaBase1\",\"overrides\":[],\"properties\":[{\"default\":\"bottom-right\",\"kind\":null,\"name\":\"position\"},{\"default\":0,\"kind\":null,\"name\":\"_clear\"}]},{\"extends\":null,\"module\":null,\"name\":\"NotificationArea1\",\"overrides\":[],\"properties\":[{\"default\":[],\"kind\":null,\"name\":\"notifications\"},{\"default\":\"bottom-right\",\"kind\":null,\"name\":\"position\"},{\"default\":0,\"kind\":null,\"name\":\"_clear\"},{\"default\":[{\"background\":\"#ffc107\",\"icon\":{\"className\":\"fas fa-exclamation-triangle\",\"color\":\"white\",\"tagName\":\"i\"},\"type\":\"warning\"},{\"background\":\"#007bff\",\"icon\":{\"className\":\"fas fa-info-circle\",\"color\":\"white\",\"tagName\":\"i\"},\"type\":\"info\"}],\"kind\":null,\"name\":\"types\"}]},{\"extends\":null,\"module\":null,\"name\":\"Notification\",\"overrides\":[],\"properties\":[{\"default\":null,\"kind\":null,\"name\":\"background\"},{\"default\":3000,\"kind\":null,\"name\":\"duration\"},{\"default\":null,\"kind\":null,\"name\":\"icon\"},{\"default\":\"\",\"kind\":null,\"name\":\"message\"},{\"default\":null,\"kind\":null,\"name\":\"notification_type\"},{\"default\":false,\"kind\":null,\"name\":\"_destroyed\"}]},{\"extends\":null,\"module\":null,\"name\":\"TemplateActions1\",\"overrides\":[],\"properties\":[{\"default\":0,\"kind\":null,\"name\":\"open_modal\"},{\"default\":0,\"kind\":null,\"name\":\"close_modal\"}]},{\"extends\":null,\"module\":null,\"name\":\"MaterialTemplateActions1\",\"overrides\":[],\"properties\":[{\"default\":0,\"kind\":null,\"name\":\"open_modal\"},{\"default\":0,\"kind\":null,\"name\":\"close_modal\"}]}],\"roots\":{\"references\":[{\"attributes\":{\"source\":{\"id\":\"48693\"}},\"id\":\"48699\",\"type\":\"CDSView\"},{\"attributes\":{\"line_alpha\":0.6,\"line_color\":\"red\",\"line_width\":6,\"x\":{\"field\":\"x\"},\"y\":{\"field\":\"y\"}},\"id\":\"48719\",\"type\":\"Line\"},{\"attributes\":{\"fill_alpha\":{\"value\":0.5},\"fill_color\":{\"value\":\"red\"},\"hatch_alpha\":{\"value\":0.5},\"line_alpha\":{\"value\":0.5},\"line_color\":{\"value\":\"white\"},\"size\":{\"value\":10},\"x\":{\"field\":\"x\"},\"y\":{\"field\":\"y\"}},\"id\":\"48696\",\"type\":\"Circle\"},{\"attributes\":{\"overlay\":{\"id\":\"48685\"}},\"id\":\"48681\",\"type\":\"BoxZoomTool\"},{\"attributes\":{\"bottom_units\":\"screen\",\"coordinates\":null,\"fill_alpha\":0.5,\"fill_color\":\"lightgrey\",\"group\":null,\"left_units\":\"screen\",\"level\":\"overlay\",\"line_alpha\":1.0,\"line_color\":\"black\",\"line_dash\":[4,4],\"line_width\":2,\"right_units\":\"screen\",\"syncable\":false,\"top_units\":\"screen\"},\"id\":\"48736\",\"type\":\"BoxAnnotation\"},{\"attributes\":{},\"id\":\"48672\",\"type\":\"BasicTicker\"},{\"attributes\":{\"axis\":{\"id\":\"48671\"},\"coordinates\":null,\"grid_line_alpha\":0.15,\"grid_line_color\":\"#E0E0E0\",\"group\":null,\"ticker\":null},\"id\":\"48674\",\"type\":\"Grid\"},{\"attributes\":{\"axis_label\":\"y\",\"axis_label_standoff\":10,\"axis_label_text_color\":\"#FFFFFF\",\"axis_label_text_font\":\"Josefin Sans\",\"axis_label_text_font_size\":\"1.9em\",\"axis_label_text_font_style\":\"bold\",\"axis_line_alpha\":0.4,\"axis_line_color\":\"#E0E0E0\",\"coordinates\":null,\"formatter\":{\"id\":\"48702\"},\"group\":null,\"major_label_policy\":{\"id\":\"48703\"},\"major_label_text_color\":\"#E0E0E0\",\"major_label_text_font\":\"Josefin Sans\",\"major_label_text_font_size\":\"1.15em\",\"major_tick_line_alpha\":0.4,\"major_tick_line_color\":\"#E0E0E0\",\"minor_tick_line_alpha\":0.4,\"minor_tick_line_color\":\"#E0E0E0\",\"ticker\":{\"id\":\"48676\"}},\"id\":\"48675\",\"type\":\"LinearAxis\"},{\"attributes\":{\"source\":{\"id\":\"48718\"}},\"id\":\"48723\",\"type\":\"CDSView\"},{\"attributes\":{},\"id\":\"48667\",\"type\":\"LinearScale\"},{\"attributes\":{},\"id\":\"48706\",\"type\":\"AllLabels\"},{\"attributes\":{\"coordinates\":null,\"data_source\":{\"id\":\"48718\"},\"glyph\":{\"id\":\"48719\"},\"group\":null,\"hover_glyph\":null,\"muted_glyph\":{\"id\":\"48721\"},\"nonselection_glyph\":{\"id\":\"48720\"},\"view\":{\"id\":\"48723\"}},\"id\":\"48722\",\"type\":\"GlyphRenderer\"},{\"attributes\":{\"client_comm_id\":\"1864b2c0daa6432f8c86436634208c17\",\"comm_id\":\"379214395e014656a4ba19469510c417\",\"plot_id\":\"48738\"},\"id\":\"48806\",\"type\":\"panel.models.comm_manager.CommManager\"},{\"attributes\":{},\"id\":\"48676\",\"type\":\"BasicTicker\"},{\"attributes\":{\"line_alpha\":0.2,\"line_color\":\"red\",\"line_width\":6,\"x\":{\"field\":\"x\"},\"y\":{\"field\":\"y\"}},\"id\":\"48721\",\"type\":\"Line\"},{\"attributes\":{},\"id\":\"48684\",\"type\":\"HelpTool\"},{\"attributes\":{\"callback\":null,\"mode\":\"vline\",\"renderers\":[{\"id\":\"48698\"}],\"tooltips\":null},\"id\":\"48712\",\"type\":\"HoverTool\"},{\"attributes\":{\"line_alpha\":0.1,\"line_color\":\"red\",\"line_width\":6,\"x\":{\"field\":\"x\"},\"y\":{\"field\":\"y\"}},\"id\":\"48720\",\"type\":\"Line\"},{\"attributes\":{},\"id\":\"48702\",\"type\":\"BasicTickFormatter\"},{\"attributes\":{\"label\":{\"value\":\"Learned model\"},\"renderers\":[{\"id\":\"48722\"}]},\"id\":\"48737\",\"type\":\"LegendItem\"},{\"attributes\":{},\"id\":\"48683\",\"type\":\"ResetTool\"},{\"attributes\":{\"mode\":\"append\",\"overlay\":{\"id\":\"48736\"},\"renderers\":[{\"id\":\"48698\"}]},\"id\":\"48716\",\"type\":\"BoxSelectTool\"},{\"attributes\":{\"coordinates\":null,\"group\":null,\"text\":\"Linear regression\",\"text_color\":\"#E0E0E0\",\"text_font\":\"Josefin Sans\",\"text_font_size\":\"2.1em\"},\"id\":\"48661\",\"type\":\"Title\"},{\"attributes\":{\"fill_alpha\":{\"value\":0.8},\"fill_color\":{\"value\":\"red\"},\"line_color\":{\"value\":\"white\"}},\"id\":\"48714\",\"type\":\"Circle\"},{\"attributes\":{},\"id\":\"48703\",\"type\":\"AllLabels\"},{\"attributes\":{},\"id\":\"48663\",\"type\":\"DataRange1d\"},{\"attributes\":{\"bottom_units\":\"screen\",\"coordinates\":null,\"fill_alpha\":0.5,\"fill_color\":\"lightgrey\",\"group\":null,\"left_units\":\"screen\",\"level\":\"overlay\",\"line_alpha\":1.0,\"line_color\":\"black\",\"line_dash\":[4,4],\"line_width\":2,\"right_units\":\"screen\",\"syncable\":false,\"top_units\":\"screen\"},\"id\":\"48685\",\"type\":\"BoxAnnotation\"},{\"attributes\":{\"coordinates\":null,\"data_source\":{\"id\":\"48693\"},\"glyph\":{\"id\":\"48694\"},\"group\":null,\"hover_glyph\":{\"id\":\"48696\"},\"muted_glyph\":{\"id\":\"48697\"},\"nonselection_glyph\":{\"id\":\"48715\"},\"selection_glyph\":{\"id\":\"48714\"},\"view\":{\"id\":\"48699\"}},\"id\":\"48698\",\"type\":\"GlyphRenderer\"},{\"attributes\":{\"background_fill_alpha\":0.25,\"background_fill_color\":\"#505050\",\"border_line_alpha\":0.25,\"coordinates\":null,\"group\":null,\"items\":[{\"id\":\"48711\"},{\"id\":\"48737\"}],\"label_standoff\":8,\"label_text_color\":\"#E0E0E0\",\"label_text_font\":\"Josefin Sans\",\"label_text_font_size\":\"1.15em\",\"spacing\":8},\"id\":\"48710\",\"type\":\"Legend\"},{\"attributes\":{\"label\":{\"value\":\"Observations\"},\"renderers\":[{\"id\":\"48698\"}]},\"id\":\"48711\",\"type\":\"LegendItem\"},{\"attributes\":{},\"id\":\"48707\",\"type\":\"UnionRenderers\"},{\"attributes\":{\"background_fill_alpha\":0.9,\"background_fill_color\":\"#0f0f0f\",\"below\":[{\"id\":\"48671\"}],\"border_fill_alpha\":0.8,\"border_fill_color\":\"#111111\",\"center\":[{\"id\":\"48674\"},{\"id\":\"48678\"},{\"id\":\"48710\"}],\"height\":450,\"left\":[{\"id\":\"48675\"}],\"outline_line_alpha\":0.25,\"outline_line_color\":\"#E0E0E0\",\"outline_line_width\":3,\"renderers\":[{\"id\":\"48698\"},{\"id\":\"48722\"}],\"title\":{\"id\":\"48661\"},\"toolbar\":{\"id\":\"48686\"},\"toolbar_location\":null,\"x_range\":{\"id\":\"48663\"},\"x_scale\":{\"id\":\"48667\"},\"y_range\":{\"id\":\"48665\"},\"y_scale\":{\"id\":\"48669\"}},\"id\":\"48660\",\"subtype\":\"Figure\",\"type\":\"Plot\"},{\"attributes\":{\"fill_alpha\":{\"value\":0.2},\"fill_color\":{\"value\":\"midnightblue\"},\"hatch_alpha\":{\"value\":0.2},\"line_alpha\":{\"value\":0.2},\"line_color\":{\"value\":\"white\"},\"size\":{\"value\":10},\"x\":{\"field\":\"x\"},\"y\":{\"field\":\"y\"}},\"id\":\"48697\",\"type\":\"Circle\"},{\"attributes\":{},\"id\":\"48708\",\"type\":\"Selection\"},{\"attributes\":{},\"id\":\"48733\",\"type\":\"UnionRenderers\"},{\"attributes\":{},\"id\":\"48680\",\"type\":\"WheelZoomTool\"},{\"attributes\":{},\"id\":\"48734\",\"type\":\"Selection\"},{\"attributes\":{},\"id\":\"48679\",\"type\":\"PanTool\"},{\"attributes\":{\"data\":{\"x\":{\"__ndarray__\":\"AAAgwFdkHsCvyBzABi0bwF6RGcC19RfADVoWwGW+FMC8IhPAE4cRwGvrD8DCTw7AGrQMwHEYC8DIfAnAIOEHwHhFBsDPqQTAJw4DwH5yAcCsrf+/Wnb8vwg/+b+4B/a/Z9DyvxaZ77/FYey/cyrpvyPz5b/Su+K/gITfvzBN3L/eFdm/jt7Vvzyn0r/rb8+/mzjMv0kByb/5ycW/p5LCv1Zbv78GJLy/tOy4v2K1tb8SfrK/wUavv3APrL8f2Ki/zqClv31por8sMp+/3Pqbv4rDmL84jJW/6FSSv5Ydj79F5ou/9K6Iv6N3hb9TQIK/AhJ+v2Cjd7+/NHG/HMZqv3lXZL/Y6F2/NnpXv5ULUb/ynEq/Ty5Ev66/Pb8MUTe/a+Iwv8hzKr8lBSS/hJYdv+AnF78+uRC/nUoKv/rbA7+z2vq+b/3tvicg4b7oQtS+oGXHvmGIur4Zq62+0c2gvpLwk75KE4e+DGx0voaxWr7+9kC+eDwnvvCBDb7Ajue9xBm0vaSkgL1QXxq9QNRNvPDTTTw8Xxo9pKSAPboZtD3Ajuc98IENPnM8Jz7+9kA+ibFaPhFsdD5OE4c+kPCTPtXNoD4Wq60+Xoi6PqBlxz7mQtQ+JyDhPm/97T6w2vo++9sDP5xKCj9AuRA/4CcXP4OWHT8kBSQ/yHMqP2niMD8MUTc/rr89P08uRD/znEo/lAtRPzZ6Vz/X6F0/e1dkPxzGaj+/NHE/YKN3PwQSfj9SQII/pHeFP/SuiD9G5os/lh2PP+hUkj84jJU/icOYP9r6mz8sMp8/fWmiP86gpT8f2Kg/cA+sP8FGrz8SfrI/Y7W1P7TsuD8FJLw/Vlu/P6eSwj/4ycU/SAHJP5s4zD/sb88/PKfSP43e1T/fFdk/ME3cP4CE3z/Ru+I/I/PlP3Qq6T/EYew/F5nvP2fQ8j+4B/Y/CD/5P1t2/D+rrf8/fnIBQCYOA0DPqQRAeEUGQCDhB0DIfAlAcRgLQBq0DEDCTw5AausPQBSHEUC8IhNAZL4UQA1aFkC29RdAXpEZQAYtG0CvyBxAWGQeQAAAIEA=\",\"dtype\":\"float32\",\"order\":\"little\",\"shape\":[200]},\"y\":{\"__ndarray__\":\"5GDiwJrTzcAsD8nAzrnZwMxRv8ByTevAh+/FwNi46sD4B+jA/LvowOYWysAxUvTAuRHgwHID+cBeOMzA0Y/ywJlkw8DkAsfAIg3kwKCE08Cw5/7ADbHowGgi9sAJeOrA1PX3wB5D5sBbB+vAMHPgwGKE58BIV9vA0jbkwPpRycDSNNjAnEO3wNwYusC/YMfA4rO9wAND3MDwcKnAAIbGwCZE0MBYcp3ALBWqwEKor8A6wqDAbAqSwJ5ZssByn7TAiO6hwMmgtcBoQLjASIGOwF6ut8CvjZzAPzKlwCVbrcCAKYPAaRF8wLi7pMD/tJTAdgWZwB08ScB2S47AUzg+wBlDgsD2l3DAagUYwA5JGMCABx7AKNsowCbub8CaTSrA7k5hwOZE379B5gzAhONPwOKqBMDv60LASSsYwMhBz780DZW/jCyevyJFGMDEC7O/fNAAwGjcJsAfRv6/yFBbv8wbA8DEhBPAWebav2LXfr/YM+i/WfGwv9vS5b+Yu0O+eMIXv4d/8L+fRcG/fyKGv6zZEb/8X4y+/nHZvwEzHL9JLU2/6db0vzpwyr8oSJ+/V92Gv85tbr8n6pu/QIktPGaEh7+sqT6/CEwwvjQweb+2QQu/etetvxtp/79eP9S/fiVAv7w7I79zDQTAFnQZwFbmGcB7t/6/ERHDv3Qom78w2xLAR2cfwLM7PcAOZSvAMCIWwDe2XcAzG2DAH0I2wLT8hcAefG3Ap2x+wAbMkMBjXnvAsjuLwKQhesCiUqXAKpukwKrdscCFZbPAT8vWwP5/p8BoWenAyj3swKOZv8CimtbAVvXowG/R6MBIevTAzM/ywMwN/8BCFAXB3echwXDNKcFTNS/BxJw0wUvvI8Ei80LByG1MwSpdU8Hnr1fBDmdfwQP7VMHdyGvBpJpkwXEzf8FznIDBwDdzwVXRi8EYDI7Bmf+IwUZjl8FGJpLB3+CbwWuco8GrtqjBW6Wtwe96tsGA4LPBSTq7wdyet8EuXsDBEnXIwdyn1cFEkdvBIdTfwRqJ5cGMtd/BGGnswbL288HDIfbBxLf8wVCIBMI=\",\"dtype\":\"float32\",\"order\":\"little\",\"shape\":[200]}},\"selected\":{\"id\":\"48708\"},\"selection_policy\":{\"id\":\"48707\"}},\"id\":\"48693\",\"type\":\"ColumnDataSource\"},{\"attributes\":{\"tools\":[{\"id\":\"48679\"},{\"id\":\"48680\"},{\"id\":\"48681\"},{\"id\":\"48682\"},{\"id\":\"48683\"},{\"id\":\"48684\"},{\"id\":\"48712\"},{\"id\":\"48716\"}]},\"id\":\"48686\",\"type\":\"Toolbar\"},{\"attributes\":{\"data\":{\"x\":{\"__ndarray__\":\"AAAgwFdkHsCvyBzABi0bwF6RGcC19RfADVoWwGW+FMC8IhPAE4cRwGvrD8DCTw7AGrQMwHEYC8DIfAnAIOEHwHhFBsDPqQTAJw4DwH5yAcCsrf+/Wnb8vwg/+b+4B/a/Z9DyvxaZ77/FYey/cyrpvyPz5b/Su+K/gITfvzBN3L/eFdm/jt7Vvzyn0r/rb8+/mzjMv0kByb/5ycW/p5LCv1Zbv78GJLy/tOy4v2K1tb8SfrK/wUavv3APrL8f2Ki/zqClv31por8sMp+/3Pqbv4rDmL84jJW/6FSSv5Ydj79F5ou/9K6Iv6N3hb9TQIK/AhJ+v2Cjd7+/NHG/HMZqv3lXZL/Y6F2/NnpXv5ULUb/ynEq/Ty5Ev66/Pb8MUTe/a+Iwv8hzKr8lBSS/hJYdv+AnF78+uRC/nUoKv/rbA7+z2vq+b/3tvicg4b7oQtS+oGXHvmGIur4Zq62+0c2gvpLwk75KE4e+DGx0voaxWr7+9kC+eDwnvvCBDb7Ajue9xBm0vaSkgL1QXxq9QNRNvPDTTTw8Xxo9pKSAPboZtD3Ajuc98IENPnM8Jz7+9kA+ibFaPhFsdD5OE4c+kPCTPtXNoD4Wq60+Xoi6PqBlxz7mQtQ+JyDhPm/97T6w2vo++9sDP5xKCj9AuRA/4CcXP4OWHT8kBSQ/yHMqP2niMD8MUTc/rr89P08uRD/znEo/lAtRPzZ6Vz/X6F0/e1dkPxzGaj+/NHE/YKN3PwQSfj9SQII/pHeFP/SuiD9G5os/lh2PP+hUkj84jJU/icOYP9r6mz8sMp8/fWmiP86gpT8f2Kg/cA+sP8FGrz8SfrI/Y7W1P7TsuD8FJLw/Vlu/P6eSwj/4ycU/SAHJP5s4zD/sb88/PKfSP43e1T/fFdk/ME3cP4CE3z/Ru+I/I/PlP3Qq6T/EYew/F5nvP2fQ8j+4B/Y/CD/5P1t2/D+rrf8/fnIBQCYOA0DPqQRAeEUGQCDhB0DIfAlAcRgLQBq0DEDCTw5AausPQBSHEUC8IhNAZL4UQA1aFkC29RdAXpEZQAYtG0CvyBxAWGQeQAAAIEA=\",\"dtype\":\"float32\",\"order\":\"little\",\"shape\":[200]},\"y\":{\"__ndarray__\":\"0YPqwCQC68BbXevAKpbrwDet68Aro+vAuXjrwI8u68BRxerAsz3qwGGY6cAB1ujAR/fnwNn85sBs5+XAo7fkwDBu48C/C+LA/pDgwJT+3sA1Vd3AhpXbwDjA2cD51dfAcNfVwE7F08A9oNHA6mjPwAQgzcA1xsrAKVzIwJDixcARWsPAXsPAwB4fvsAFbrvAurC4wOjntcBAFLPAbTawwBpPrcD2XqrAqmanwOVmpMBVYKHApFOewH9Bm8CTKpjAjA+VwBfxkcDgz47AlKyLwN6HiMBsYoXA7DyCwA4wfsDX6HfAjaVxwIdna8AgMGXArQBfwIraWMAQv1LAmK9MwHmtRsARukDAs9Y6wL0ENcCDRS/AYZopwLEEJMDMhR7ACB8ZwMDRE8BLnw7AB4kJwEeQBMDObP+/g/n1v1rJ7L8I3+O/PT3bv6nm0r8I3sq//SXDv0nBu7+QsrS/jPytv/Ghp79rpaG/sgmcv3TRlr9j/5G/NJaNv5WYib86CYa/1+qCvxtAgL92F3y/yqB4v50hdr9Pn3S/Rh90v+amdL+SO3a/seJ4v6KhfL/nvoC/S76Dv7BRh7/He4u/Qz+Qv9Welb8unZu/Bj2ivwiBqb/pa7G/WgC6vxBBw7+4MM2/CNLXv7An479nNO+/1Pr7v9q+BMDZ3wvAxWETwPBFG8C6jSPAdjoswH5NNcAxyD7A36tIwOn5UsCgs13AadpowI5vdMA7OoDAN3WGwG7pjMCEl5PAMICawBOkocDkA6nARqCwwPF5uMCEkcDAtefIwC990cCfUtrArWjjwArA7MBgWfbArhoAwVYqBcH9WwrB+68PwaUmFcFQwBrBVX0gwQleJsHCYizB1YsywaDZOMFuTD/BmeRFwXmiTMFohlPBtJBawbbBYcHHGWnBQJlwwW5AeMHWB4DBqwOEwdsTiMGXOIzBBXKQwVjAlMGwI5nBQJydwTEqosGwzabB54arwf1VsMEhO7XBgTa6wURIv8GUcMTBnq/JwZQFz8GTctTBzfbZwXSS38GqReXBmhDrwXLz8MFh7vbBkAH9wZGWAcI=\",\"dtype\":\"float32\",\"order\":\"little\",\"shape\":[200]}},\"selected\":{\"id\":\"48734\"},\"selection_policy\":{\"id\":\"48733\"}},\"id\":\"48718\",\"type\":\"ColumnDataSource\"},{\"attributes\":{\"fill_alpha\":{\"value\":0.25},\"fill_color\":{\"value\":\"midnightblue\"},\"hatch_alpha\":{\"value\":0.25},\"line_alpha\":{\"value\":0.25},\"line_color\":{\"value\":\"white\"},\"size\":{\"value\":10},\"x\":{\"field\":\"x\"},\"y\":{\"field\":\"y\"}},\"id\":\"48694\",\"type\":\"Circle\"},{\"attributes\":{},\"id\":\"48665\",\"type\":\"DataRange1d\"},{\"attributes\":{\"axis\":{\"id\":\"48675\"},\"coordinates\":null,\"dimension\":1,\"grid_line_alpha\":0.15,\"grid_line_color\":\"#E0E0E0\",\"group\":null,\"ticker\":null},\"id\":\"48678\",\"type\":\"Grid\"},{\"attributes\":{\"fill_alpha\":{\"value\":0.5},\"fill_color\":{\"value\":\"midnightblue\"},\"line_color\":{\"value\":\"white\"}},\"id\":\"48715\",\"type\":\"Circle\"},{\"attributes\":{},\"id\":\"48705\",\"type\":\"BasicTickFormatter\"},{\"attributes\":{\"axis_label\":\"x\",\"axis_label_standoff\":10,\"axis_label_text_color\":\"#FFFFFF\",\"axis_label_text_font\":\"Josefin Sans\",\"axis_label_text_font_size\":\"1.9em\",\"axis_label_text_font_style\":\"bold\",\"axis_line_alpha\":0.4,\"axis_line_color\":\"#E0E0E0\",\"coordinates\":null,\"formatter\":{\"id\":\"48705\"},\"group\":null,\"major_label_policy\":{\"id\":\"48706\"},\"major_label_text_color\":\"#E0E0E0\",\"major_label_text_font\":\"Josefin Sans\",\"major_label_text_font_size\":\"1.15em\",\"major_tick_line_alpha\":0.4,\"major_tick_line_color\":\"#E0E0E0\",\"minor_tick_line_alpha\":0.4,\"minor_tick_line_color\":\"#E0E0E0\",\"ticker\":{\"id\":\"48672\"}},\"id\":\"48671\",\"type\":\"LinearAxis\"},{\"attributes\":{\"children\":[{\"id\":\"48739\"},{\"id\":\"48660\"},{\"id\":\"48766\"}],\"margin\":[0,0,0,0],\"name\":\"Row01847\"},\"id\":\"48738\",\"type\":\"Row\"},{\"attributes\":{},\"id\":\"48669\",\"type\":\"LinearScale\"},{\"attributes\":{\"margin\":[5,5,5,5],\"name\":\"HSpacer01844\",\"sizing_mode\":\"stretch_width\"},\"id\":\"48766\",\"type\":\"Spacer\"},{\"attributes\":{},\"id\":\"48682\",\"type\":\"SaveTool\"},{\"attributes\":{\"margin\":[5,5,5,5],\"name\":\"HSpacer01843\",\"sizing_mode\":\"stretch_width\"},\"id\":\"48739\",\"type\":\"Spacer\"}],\"root_ids\":[\"48738\",\"48806\"]},\"title\":\"Bokeh Application\",\"version\":\"2.4.3\"}};\n",
       "    var render_items = [{\"docid\":\"5c0b2ce6-a566-498f-a818-c8a590b63802\",\"root_ids\":[\"48738\"],\"roots\":{\"48738\":\"472ec5a7-e94b-427f-a41a-33691ddff9a5\"}}];\n",
       "    root.Bokeh.embed.embed_items_notebook(docs_json, render_items);\n",
       "    for (const render_item of render_items) {\n",
       "      for (const root_id of render_item.root_ids) {\n",
       "\tconst id_el = document.getElementById(root_id)\n",
       "\tif (id_el.children.length && (id_el.children[0].className === 'bk-root')) {\n",
       "\t  const root_el = id_el.children[0]\n",
       "\t  root_el.id = root_el.id + '-rendered'\n",
       "\t}\n",
       "      }\n",
       "    }\n",
       "  }\n",
       "  if (root.Bokeh !== undefined && root.Bokeh.Panel !== undefined) {\n",
       "    embed_document(root);\n",
       "  } else {\n",
       "    var attempts = 0;\n",
       "    var timer = setInterval(function(root) {\n",
       "      if (root.Bokeh !== undefined && root.Bokeh.Panel !== undefined) {\n",
       "        clearInterval(timer);\n",
       "        embed_document(root);\n",
       "      } else if (document.readyState == \"complete\") {\n",
       "        attempts++;\n",
       "        if (attempts > 200) {\n",
       "          clearInterval(timer);\n",
       "          console.log(\"Bokeh: ERROR: Unable to run BokehJS code because BokehJS library is missing\");\n",
       "        }\n",
       "      }\n",
       "    }, 25, root)\n",
       "  }\n",
       "})(window);</script>"
      ],
      "text/plain": [
       "Row\n",
       "    [0] HSpacer()\n",
       "    [1] Bokeh(Figure)\n",
       "    [2] HSpacer()"
      ]
     },
     "execution_count": 310,
     "metadata": {
      "application/vnd.holoviews_exec.v0+json": {
       "id": "48738"
      }
     },
     "output_type": "execute_result"
    }
   ],
   "source": [
    "def mse_loss(weight,x,y):\n",
    "    return jnp.mean(jnp.power(y-x@weight,2))\n",
    "\n",
    "grad_loss_function = jit(grad(mse_loss))\n",
    "\n",
    "def train(epochs):\n",
    "    global weight\n",
    "    for epoch in range(epochs):\n",
    "        gradient = grad_loss_function(weight,x_feature,y)\n",
    "        weight -=lr*gradient\n",
    "start = time.time()\n",
    "print(\"before training loss:\", mse_loss(weight,x_feature,y))\n",
    "train(1000)\n",
    "print(\"after training loss:\",mse_loss(weight,x_feature,y))\n",
    "print(\"elapsed time:\" , time.time() - start)\n",
    "p = scatter(np.array(x), np.array(y), title=\"Linear regression\")\n",
    "p.line(np.array(x), np.array(x_feature@weight), line_width=6, line_alpha=0.6, color=\"red\", legend_label=r\"Learned model\")\n",
    "plot = (center_plot(p))\n",
    "plot"
   ]
  },
  {
   "cell_type": "markdown",
   "metadata": {},
   "source": [
    "<div class=\"alert alert-success\" markdown=\"1\" style=\"color:white; background-color: #013220; border-color: #03C03C\">\n",
    "\n",
    "> ### Question 2.3 - Compare the results of both implementations and the speed of the optimization algorithm.\n",
    "\n",
    "</div>"
   ]
  },
  {
   "cell_type": "markdown",
   "metadata": {},
   "source": [
    "For the numpy implementation\n",
    "\n",
    "result loss: 0.5682227776611916\n",
    "elapsed time:  0.016659259796142578\n",
    "\n",
    "For the jax implementation\n",
    "result loss: 0.4768846\n",
    "elapsed time: 0.05187869071960449\n",
    "\n",
    "Jax has lower loss but need more training time\n",
    "\n"
   ]
  },
  {
   "cell_type": "markdown",
   "metadata": {},
   "source": [
    "<a id=\"audio\"></a>\n",
    "# Audio applications\n",
    "\n",
    "In order to test our algorithms on audio and music data, we will work with several datasets. We will both be using well-known state-of-art datasets (through the TF dataset system). But first, we will rely on a simple dataset (`Musclefish`) that should be downloaded on your local computer first from this [link](https://nubo.ircam.fr/index.php/s/ByK4QL7nE4Mq5MA)\n",
    "\n",
    "**The following set of instructions will perform that automatically for you :)**"
   ]
  },
  {
   "cell_type": "code",
   "execution_count": 311,
   "metadata": {},
   "outputs": [
    {
     "name": "stdout",
     "output_type": "stream",
     "text": [
      "/bin/bash: line 1: curl: command not found\n",
      "Archive:  musclefish.zip\n",
      "replace __MACOSX/._musclefish? [y]es, [n]o, [A]ll, [N]one, [r]ename: ^C\n",
      "mkdir: cannot create directory ‘data’: File exists\n",
      "mv: cannot move 'musclefish' to 'data/musclefish': Directory not empty\n"
     ]
    }
   ],
   "source": [
    "!curl https://nubo.ircam.fr/index.php/s/ByK4QL7nE4Mq5MA/download/musclefish.zip --output musclefish.zip\n",
    "!unzip musclefish.zip\n",
    "!mkdir data\n",
    "!mv musclefish data/"
   ]
  },
  {
   "cell_type": "markdown",
   "metadata": {},
   "source": [
    "## Dataset details\n",
    "\n",
    "  |**Type**|*Origin*|\n",
    "  |-------:|:---------|\n",
    "  |**Classification**|[*MuscleFish*](http://knight.cis.temple.edu/~vasilis/Courses/CIS750/Papers/muscle_fish.pdf) dataset|\n",
    "  |**Music-speech**|[*MIREX Recognition*](http://www.music-ir.org/mirex/wiki/2015:Music/Speech_Classification_and_Detection) set|\n",
    "  |**Source separation**|[*SMC Mirum*](http://smc.inesctec.pt/research/data-2/) dataset|\n",
    "  |**Speech recognition**|[*CMU Arctic*](http://festvox.org/cmu_arctic/) dataset|\n",
    "\n",
    "**Unzip the file and place the `musclefish` folder inside a `data` folder in the root of this notebook**\n",
    "For the first parts of the tutorial, we will mostly rely solely on the classification dataset. In order to facilitate the interactions, we provide a dataset class called `AudioSupervisedDataset` that will allow to import all audio datasets along the tutorials. This class also contains a set of holders and will allow us to perform batch-wise gradient descent.\n",
    "\n",
    "```Python\n",
    "class AudioSupervisedDataset():\n",
    "    \"\"\"\n",
    "    Helper class to import datasets\n",
    "    % class_path  : Path to the dataset (string)\n",
    "    % type       : Type of dataset (string: 'classify', 'plain', 'metadata')\n",
    "    \"\"\" \n",
    "    audio_files\n",
    "    labels\n",
    "    labels_names\n",
    "    num_examples \n",
    "    num_classes \n",
    "```\n",
    "\n",
    "We also provide a simplified function `import_dataset` that is demonstrated below.\n",
    "\n",
    "***\n",
    "<div class=\"alert alert-success\" markdown=\"1\" style=\"color:white; background-color: #192841; border-color: #779ecb\">\n",
    "\n",
    "**_Exercise_**  \n",
    "\n",
    "  1. Launch the import procedure and check the corresponding structure\n",
    "  2. Code a count function that prints the name and number of examples for each classes \n",
    "\n",
    "</div>\n",
    "\n",
    "***"
   ]
  },
  {
   "cell_type": "code",
   "execution_count": 352,
   "metadata": {},
   "outputs": [
    {
     "name": "stdout",
     "output_type": "stream",
     "text": [
      "Recursive search in data//musclefish\n",
      "(16, 44100)\n",
      "(16,)\n"
     ]
    },
    {
     "ename": "NameError",
     "evalue": "name 'label_names' is not defined",
     "output_type": "error",
     "traceback": [
      "\u001B[0;31m---------------------------------------------------------------------------\u001B[0m",
      "\u001B[0;31mNameError\u001B[0m                                 Traceback (most recent call last)",
      "Cell \u001B[0;32mIn[352], line 11\u001B[0m\n\u001B[1;32m      9\u001B[0m \u001B[38;5;28mprint\u001B[39m(batch_x\u001B[38;5;241m.\u001B[39mshape)  \u001B[38;5;66;03m# (16, 44100)\u001B[39;00m\n\u001B[1;32m     10\u001B[0m \u001B[38;5;28mprint\u001B[39m(batch_y\u001B[38;5;241m.\u001B[39mshape)  \u001B[38;5;66;03m# (16,)\u001B[39;00m\n\u001B[0;32m---> 11\u001B[0m \u001B[38;5;28mprint\u001B[39m(np\u001B[38;5;241m.\u001B[39mtake(\u001B[43mlabel_names\u001B[49m, batch_y))\n",
      "\u001B[0;31mNameError\u001B[0m: name 'label_names' is not defined"
     ]
    }
   ],
   "source": [
    "from cml.data import import_dataset, AudioSupervisedDataset\n",
    "data_path = \"data/\"\n",
    "batch_size = 16\n",
    "# Instantiate the dataset class\n",
    "train_dataset = import_dataset(data_path, \"musclefish\", 'train', batch_size=batch_size)\n",
    "# Generate a batch of data from the train dataset\n",
    "batch_x, batch_y = next(train_dataset)\n",
    "# Print the shape of the input and output batch tensors\n"
   ]
  },
  {
   "cell_type": "code",
   "execution_count": 355,
   "metadata": {},
   "outputs": [
    {
     "name": "stdout",
     "output_type": "stream",
     "text": [
      "(16, 44100)\n",
      "(16,)\n",
      "['percussion' 'animals' 'speech.male' 'violinpizz' 'percussion'\n",
      " 'speech.female' 'altotrombone' 'tubularbells' 'percussion' 'oboe'\n",
      " 'percussion' 'percussion' 'cellobowed' 'percussion' 'oboe' 'machines']\n"
     ]
    }
   ],
   "source": [
    "print(batch_x.shape)  # (16, 44100)\n",
    "print(batch_y.shape)  # (16,)\n",
    "print(np.take(train_dataset.labels_names, batch_y))"
   ]
  },
  {
   "cell_type": "code",
   "execution_count": 356,
   "metadata": {
    "collapsed": false,
    "jupyter": {
     "outputs_hidden": false
    },
    "pycharm": {
     "name": "#%% Q-0.1.2 - Count function to print the number of examples in each class along with class label\n"
    }
   },
   "outputs": [
    {
     "name": "stdout",
     "output_type": "stream",
     "text": [
      "label\n",
      "altotrombone      26\n",
      "animals           18\n",
      "bells             14\n",
      "cellobowed        94\n",
      "crowds             8\n",
      "laughter          14\n",
      "machines          22\n",
      "oboe              64\n",
      "percussion       198\n",
      "speech.female     70\n",
      "speech.male       34\n",
      "telephone         34\n",
      "tubularbells      40\n",
      "violinbowed       90\n",
      "violinpizz        80\n",
      "water             14\n",
      "Name: label, dtype: int64\n",
      "['crowds', 'water', 'speech.male', 'oboe', 'cellobowed', 'laughter', 'animals', 'speech.female', 'violinbowed', 'machines', 'bells', 'altotrombone', 'telephone', 'violinpizz', 'percussion', 'tubularbells']\n",
      "16\n",
      "52\n"
     ]
    }
   ],
   "source": [
    "import pandas as pd\n",
    "n_batch = 0\n",
    "train_dataset._reset_generator()\n",
    "df = pd.DataFrame()\n",
    "for batch_x, batch_y in iter(train_dataset):\n",
    "    n_batch += 1\n",
    "    # df.append(batch_y.reshape(-1,1))\n",
    "    df = pd.concat((df,pd.DataFrame(np.take(train_dataset.labels_names, batch_y)[:,None],columns=[\"label\"])))\n",
    "\n",
    "print(df.groupby(\"label\")[\"label\"].count())\n",
    "print(train_dataset.labels_names)\n",
    "print(train_dataset.num_classes)\n",
    "print(n_batch)"
   ]
  },
  {
   "cell_type": "markdown",
   "metadata": {},
   "source": [
    "### Preprocessing\n",
    "\n",
    "We will rely on a set of spectral transforms that allow to obtain a more descriptive view over the audio information. As most of these are out of the scope of the machine learning course, we redirect you to a [signal processing course](https://ccrma.stanford.edu/~jos/sasp/) proposed by [Julius O. Smith](https://ccrma.stanford.edu/~jos/).  \n",
    "\n",
    "The following functions to compute various types of transforms are given as part of the basic audio dataset class, in the `cml.data.audio` package\n",
    "\n",
    "  |**Name**|*Transform*|\n",
    "  |-------:|:----------|\n",
    "  |`stft`       |[Short-term Fourier transform](https://en.wikipedia.org/wiki/Short-time_Fourier_transform)|\n",
    "  |`mel`  |[Mel scale](https://en.wikipedia.org/wiki/Mel_scale) transform|\n",
    "  |`chroma` |[Chromas vector](https://en.wikipedia.org/wiki/Harmonic_pitch_class_profiles)|\n",
    "  |`cqt`        |[Constant-Q](https://en.wikipedia.org/wiki/Constant_Q_transform) transform|\n",
    "\n",
    "In order to perform the various computations, we provide the following function, in the `AudioSupervisedDataset` which performs the different transforms on a complete dataset.  \n",
    "\n",
    "``` Python\n",
    "dataset.transform(index, name)\n",
    "    \"\"\" index   : Specific index in our dataset \"\"\"\n",
    "    \"\"\" name    : Name of the transform to apply \"\"\"\n",
    "\n",
    "# The name can be selected in \n",
    "\"stft\"      # Power spectrum (STFT)\n",
    "\"mel\"       # Spectrum in Mel scale\n",
    "\"chroma\"    # Chroma vectors\n",
    "\"cqt\"       # Constant-Q transform\n",
    "```\n"
   ]
  },
  {
   "cell_type": "markdown",
   "metadata": {},
   "source": [
    "***\n",
    "<div class=\"alert alert-success\" markdown=\"1\" style=\"color:white; background-color: #192841; border-color: #779ecb\">\n",
    "\n",
    "**Exercise**  \n",
    "\n",
    "  1. Launch the transform computation procedure and check the corresponding structure\n",
    "  2. For each class, select a random element and plot its various transforms on a single plot. You should obtain plots similar to those shown afterwards.\n",
    "  3. For each transform, try to spot major pros and cons of their representation.\n",
    "  \n",
    "</div>\n",
    "\n",
    "***"
   ]
  },
  {
   "cell_type": "code",
   "execution_count": 345,
   "metadata": {},
   "outputs": [],
   "source": [
    "# 0.2 - Pre-process the audio to obtain spectral transforms \n",
    "power_spec = train_dataset.transform(0, \"stft\")"
   ]
  },
  {
   "cell_type": "code",
   "execution_count": 359,
   "metadata": {
    "collapsed": false,
    "jupyter": {
     "outputs_hidden": false
    }
   },
   "outputs": [
    {
     "ename": "AttributeError",
     "evalue": "'ShuffleDataset' object has no attribute '__getitem__'",
     "output_type": "error",
     "traceback": [
      "\u001B[0;31m---------------------------------------------------------------------------\u001B[0m",
      "\u001B[0;31mAttributeError\u001B[0m                            Traceback (most recent call last)",
      "Cell \u001B[0;32mIn[359], line 1\u001B[0m\n\u001B[0;32m----> 1\u001B[0m \u001B[38;5;28mprint\u001B[39m(\u001B[43mtrain_dataset\u001B[49m\u001B[43m[\u001B[49m\u001B[38;5;241;43m0\u001B[39;49m\u001B[43m]\u001B[49m)\n",
      "File \u001B[0;32m~/Projects/creative_ml/cml/data/audio.py:186\u001B[0m, in \u001B[0;36mAudioSupervisedDataset.__getitem__\u001B[0;34m(self, index)\u001B[0m\n\u001B[1;32m    184\u001B[0m \u001B[38;5;28;01mif\u001B[39;00m \u001B[38;5;28mself\u001B[39m\u001B[38;5;241m.\u001B[39mdataset \u001B[38;5;129;01mis\u001B[39;00m \u001B[38;5;28;01mNone\u001B[39;00m:\n\u001B[1;32m    185\u001B[0m     \u001B[38;5;28;01mraise\u001B[39;00m \u001B[38;5;167;01mValueError\u001B[39;00m(\u001B[38;5;124m\"\u001B[39m\u001B[38;5;124mDataset not loaded yet!\u001B[39m\u001B[38;5;124m\"\u001B[39m)\n\u001B[0;32m--> 186\u001B[0m \u001B[38;5;28;01mreturn\u001B[39;00m \u001B[38;5;28;43mself\u001B[39;49m\u001B[38;5;241;43m.\u001B[39;49m\u001B[43mdataset\u001B[49m\u001B[38;5;241;43m.\u001B[39;49m\u001B[38;5;21;43m__getitem__\u001B[39;49m(index)\n",
      "\u001B[0;31mAttributeError\u001B[0m: 'ShuffleDataset' object has no attribute '__getitem__'"
     ]
    }
   ],
   "source": []
  },
  {
   "cell_type": "code",
   "execution_count": 42,
   "metadata": {
    "collapsed": false,
    "jupyter": {
     "outputs_hidden": false
    },
    "pycharm": {
     "name": "#%% Q-0.2.2 - Plot the various transforms \n"
    }
   },
   "outputs": [],
   "source": [
    "\n",
    "######################\n",
    "# YOUR CODE GOES HERE\n",
    "######################\n"
   ]
  },
  {
   "cell_type": "markdown",
   "metadata": {},
   "source": [
    "### Features\n",
    "\n",
    "<div markdown = \"1\">\n",
    "\n",
    "As you might have noted from the previous exercice, most spectral transforms have a very high dimensionality, and might not be suited to exhibit the relevant structure of different classes. To that end, we provide a set of functions for computing several spectral features in the `cml.data` package, we redirect interested readers to this [exhaustive article](http://recherche.ircam.fr/anasyn/peeters/ARTICLES/Peeters_2003_cuidadoaudiofeatures.pdf) on spectral features computation.\n",
    "\n",
    "  |**File**|*Transform*|\n",
    "  |-------:|:----------|\n",
    "  |`spectral_centroid`|Spectral centroid|\n",
    "  |`spectral_bandwidth`|Spectral bandwidth|\n",
    "  |`spectral_contrast`|Spectral contrast|\n",
    "  |`spectral_flatness`|Spectral flatness|\n",
    "  |`spectral_rolloff`|Spectral rolloff|\n",
    "\n",
    "Once again, we provide a function to perform the computation of different features on a complete set. Note that for each feature, we obtain the temporal evolution in a vector. Therefore, for further learning tasks, if you wish to obtain simplified spaces, you might need to compute the mean and standard deviation of each feature.\n",
    "\n",
    "``` Python\n",
    "dataset.feature(index, name)\n",
    "    \"\"\" index   : Specific index in our dataset \"\"\"\n",
    "    \"\"\" name    : Name of the feature to obtain \"\"\"\n",
    "\n",
    "# Name can be chosen inside the following\n",
    "\"loudness\"    # Loudness\n",
    "\"centroid\"    # Spectral centroid\n",
    "\"bandwidth\"   # Spectral bandwidth\n",
    "\"contrast\"    # Spectral contrast\n",
    "\"flatness\"    # Spectral flatness\n",
    "\"rolloff\"     # Spectral rolloff\n",
    "\n",
    "```"
   ]
  },
  {
   "cell_type": "markdown",
   "metadata": {},
   "source": [
    "***\n",
    "<div class=\"alert alert-success\" markdown=\"1\" style=\"color:white; background-color: #192841; border-color: #779ecb\">\n",
    "\n",
    "**Exercise**\n",
    "\n",
    "  1. Launch the feature computation procedure and check the corresponding structure\n",
    "  2. This time for each class, superimpose the plots of various features on a single plot, along with a boxplot of mean and standard deviations. You should obtain plots similar to those shown afterwards.\n",
    "  3. What conclusions can you make on the discriminative power of each feature ?\n",
    "  4. Perform scatter plots of the mean features for all the dataset, while coloring different classes.\n",
    "  5. What conclusions can you make on the discriminative power of mean features ?\n",
    "\n",
    "</div>\n",
    "\n",
    "***"
   ]
  },
  {
   "cell_type": "code",
   "execution_count": 360,
   "metadata": {},
   "outputs": [],
   "source": [
    "# 0.3 - Compute temporal spectral features\n",
    "power_spec = train_dataset.feature(0, \"centroid\")"
   ]
  },
  {
   "cell_type": "code",
   "execution_count": null,
   "metadata": {
    "collapsed": false,
    "jupyter": {
     "outputs_hidden": false
    }
   },
   "outputs": [],
   "source": []
  },
  {
   "cell_type": "code",
   "execution_count": 361,
   "metadata": {
    "collapsed": false,
    "jupyter": {
     "outputs_hidden": false
    },
    "pycharm": {
     "name": "#%% Q-0.3.2 - Plot the various features \n"
    }
   },
   "outputs": [],
   "source": [
    "\n",
    "# Use these styles for boxplot\n",
    "boxprops=dict(linewidth=3, color='white')\n",
    "whiskerprops=dict(linewidth=3, color='white')\n",
    "medianprops=dict(linewidth=2.5, color='firebrick')\n",
    "flierprops = dict(markeredgecolor='white', markerfacecolor='firebrick')\n",
    "\n",
    "######################\n",
    "# YOUR CODE GOES HERE\n",
    "######################\n"
   ]
  },
  {
   "cell_type": "code",
   "execution_count": null,
   "metadata": {
    "collapsed": false,
    "jupyter": {
     "outputs_hidden": false
    }
   },
   "outputs": [],
   "source": []
  },
  {
   "cell_type": "code",
   "execution_count": 362,
   "metadata": {
    "collapsed": false,
    "jupyter": {
     "outputs_hidden": false
    },
    "pycharm": {
     "name": "#%% Q-0.3.4 - Observe the distribution of classes for different features\n"
    }
   },
   "outputs": [
    {
     "ename": "NameError",
     "evalue": "name 'data_struct' is not defined",
     "output_type": "error",
     "traceback": [
      "\u001B[0;31m---------------------------------------------------------------------------\u001B[0m",
      "\u001B[0;31mNameError\u001B[0m                                 Traceback (most recent call last)",
      "Cell \u001B[0;32mIn[362], line 5\u001B[0m\n\u001B[1;32m      3\u001B[0m plt\u001B[38;5;241m.\u001B[39mfigure(figsize\u001B[38;5;241m=\u001B[39m(\u001B[38;5;241m12\u001B[39m,\u001B[38;5;241m8\u001B[39m))\n\u001B[1;32m      4\u001B[0m \u001B[38;5;66;03m# Create a vector of random colors for each class\u001B[39;00m\n\u001B[0;32m----> 5\u001B[0m colorVect \u001B[38;5;241m=\u001B[39m np\u001B[38;5;241m.\u001B[39mzeros((\u001B[38;5;241m3\u001B[39m, \u001B[38;5;28mlen\u001B[39m(\u001B[43mdata_struct\u001B[49m[\u001B[38;5;124m\"\u001B[39m\u001B[38;5;124mclass_names\u001B[39m\u001B[38;5;124m\"\u001B[39m])));\n\u001B[1;32m      6\u001B[0m \u001B[38;5;28;01mfor\u001B[39;00m c \u001B[38;5;129;01min\u001B[39;00m \u001B[38;5;28mrange\u001B[39m(\u001B[38;5;28mlen\u001B[39m(data_struct[\u001B[38;5;124m\"\u001B[39m\u001B[38;5;124mclass_names\u001B[39m\u001B[38;5;124m\"\u001B[39m])):\n\u001B[1;32m      7\u001B[0m     colorVect[:,c] \u001B[38;5;241m=\u001B[39m np\u001B[38;5;241m.\u001B[39mrandom\u001B[38;5;241m.\u001B[39mrand(\u001B[38;5;241m3\u001B[39m);\n",
      "\u001B[0;31mNameError\u001B[0m: name 'data_struct' is not defined"
     ]
    },
    {
     "data": {
      "text/plain": [
       "<Figure size 1200x800 with 0 Axes>"
      ]
     },
     "metadata": {},
     "output_type": "display_data"
    }
   ],
   "source": [
    "\n",
    "# This allows to use 3D rendering in matplotlib\n",
    "from mpl_toolkits.mplot3d import Axes3D\n",
    "plt.figure(figsize=(12,8))\n",
    "# Create a vector of random colors for each class\n",
    "colorVect = np.zeros((3, len(data_struct[\"class_names\"])));\n",
    "for c in range(len(data_struct[\"class_names\"])):\n",
    "    colorVect[:,c] = np.random.rand(3);\n",
    "\n",
    "######################\n",
    "# YOUR CODE GOES HERE\n",
    "######################\n"
   ]
  },
  {
   "cell_type": "markdown",
   "metadata": {},
   "source": [
    "That's it for this tutorial, now remember that we can use any form of description (features) as a basis for learning algorithms. We will see in the next tutorial what we an do with these features."
   ]
  }
 ],
 "metadata": {
  "kernelspec": {
   "display_name": "creative-ml",
   "language": "python",
   "name": "creative-ml"
  },
  "language_info": {
   "codemirror_mode": {
    "name": "ipython",
    "version": 3
   },
   "file_extension": ".py",
   "mimetype": "text/x-python",
   "name": "python",
   "nbconvert_exporter": "python",
   "pygments_lexer": "ipython3",
   "version": "3.10.10"
  },
  "latex_envs": {
   "LaTeX_envs_menu_present": true,
   "autoclose": false,
   "autocomplete": true,
   "bibliofile": "biblio.bib",
   "cite_by": "apalike",
   "current_citInitial": 1,
   "eqLabelWithNumbers": true,
   "eqNumInitial": 1,
   "hotkeys": {
    "equation": "Ctrl-E",
    "itemize": "Ctrl-I"
   },
   "labels_anchors": false,
   "latex_user_defs": false,
   "report_style_numbering": false,
   "user_envs_cfg": false
  }
 },
 "nbformat": 4,
 "nbformat_minor": 4
}
